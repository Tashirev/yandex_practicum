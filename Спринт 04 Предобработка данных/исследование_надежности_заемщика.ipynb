{
 "cells": [
  {
   "cell_type": "markdown",
   "id": "8fc5c177",
   "metadata": {},
   "source": [
    "<div style=\"border:solid green 3px; padding: 20px\">\n",
    "\n",
    "<b>Привет!</b>\n",
    "\n",
    "Меня зовут Сороколетов Илья и я буду проверять твой проект. \n",
    "\n",
    "Предлагаю общаться на «**ты**», но если тебе будет комфортнее общаться на «**вы**», то сообщи об этом в комментариях)\n",
    "\n",
    "\n",
    "Для твоего удобства, я буду выделять свои комментарии следующим образом:\n",
    "\n",
    "<div class=\"alert alert-danger\">\n",
    "<b>❌ Комментарий ревьюера v1:</b> Самые важные замечания. Они указывают на ключевые моменты, которые влияют на конечный результат проекта. </div>\n",
    "\n",
    "<div class=\"alert alert-warning\">\n",
    "<b>⚠️ Комментарий ревьюера v1:</b> Советы или замечания, которые помогут сделать твою работу лучше, но необязательны к выполнению.\n",
    "\n",
    "</div>\n",
    "\n",
    "<div class=\"alert alert-success\">\n",
    "<b>✔️ Комментарий ревьюера v1:</b> Так я выделяю все остальные комментарии.</div>\n",
    "\n",
    "\n",
    "Пометками <b>v1-v2-v3-...</b> я буду отмечать версию проверки. Так ты сможешь быстро найти мои новые комментарии.\n",
    "\n",
    "Давай работать над проектом в диалоге: если ты что-то меняешь в проекте по моим рекомендациям — пиши об этом. Выбери для своих комментариев какой-то заметный цвет, так мне будет легче отследить изменения, например вот так:\n",
    "<div class=\"alert alert-info\">\n",
    "<b>Комментарий студента:</b>\n",
    "<br>\n",
    "</div>\n",
    "\n",
    "<b>Пожалуйста, не перемещай, не изменяй и не удаляй мои комментарии.</b> Если ты оставляешь свои комментарии, то делай это под моими, чтобы сообщения были расположены в хронологическом порядке. Всё это поможет выполнить повторную проверку твоего проекта быстрее. \n",
    " Если ты оставляешь свои комментарии, то делай это под моими, чтобы сообщения были расположены в хронологическом порядке. Всё это поможет выполнить повторную проверку твоего проекта быстрее. \n",
    "\n",
    "Перед отправкой работы я рекомендую нажимать Kernel -> Restart & Run All. Это перезапустит ядро и по очереди выполнит все ячейки. Так ты сможешь проверить, что всё работает корректно. Кнопка Kernel находится в панели сверху\n",
    "\n",
    "Обязательно задавай вопросы если они возникнут, а я перехожу к проверке)\n",
    "\n",
    "P.S. На всякий случай, я оставлю пустой шаблон для твоих комментариев в ячейке ниже. Кликни на него два раза, скопируй код и вставляй его в пустую ячейку там, где ты хочешь оставить комментарий. Не забудь только перед этим сменить тип ячейки на Markdown. Быстро это можно сделать так: кликнуть на ячейку-нажать ESC-нажать M. \n",
    "\n"
   ]
  },
  {
   "cell_type": "markdown",
   "id": "eb750317",
   "metadata": {},
   "source": [
    "<div class=\"alert alert-info\">\n",
    "<b>Комментарий студента:</b>\n",
    "<br>Место для твоего комментария\n",
    "</div>"
   ]
  },
  {
   "cell_type": "markdown",
   "id": "16b24823",
   "metadata": {},
   "source": [
    "# Исследование надежности заемщиков.\n",
    "\n",
    "Заказчик - кредитный отдел банка. \n",
    "\n",
    "Вопросы исследования:\n",
    "1. Определить наличие и характер зависимости количества детей и возвратом кредита в срок,\n",
    "2. Определить наличие и характер зависимости семейного положения и возврата кредита в срок,\n",
    "3. Определить наличие и характер зависимости уровня дохода и возврата кредита в срок,\n",
    "4. Определить наличие и характер зависимости целей кредита и возврата кредита в срок.\n",
    "\n",
    "Входные данные от банка - статистика о платёжеспособности клиентов.\n",
    "Результаты исследования будут учтены при построении модели кредитного скоринга - специальной системы, которая оценивает способность потенциального заёмщика вернуть кредит банку."
   ]
  },
  {
   "cell_type": "markdown",
   "id": "9f95996a",
   "metadata": {},
   "source": [
    "<div class=\"alert alert-success\">\n",
    "<b>✔️ Комментарий ревьюера v1:</b> \n",
    "<br>Молодец, что добавляешь описание проекта. Это поможет тебе быстро вспомнить о чем проект, если спустя время ты решишь к нему вернуться)\n",
    "</div>"
   ]
  },
  {
   "cell_type": "markdown",
   "id": "dc1397ab",
   "metadata": {},
   "source": [
    "## Обзор данных"
   ]
  },
  {
   "cell_type": "markdown",
   "id": "a8b9be2f",
   "metadata": {},
   "source": [
    "### Загрузка данных\n",
    "Данные предоставлены кредитным отделом банка в виде csv файла \"data.csv\"."
   ]
  },
  {
   "cell_type": "code",
   "execution_count": 1,
   "id": "abccc25d",
   "metadata": {},
   "outputs": [],
   "source": [
    "# ячейка для подключения необходимых библиотек\n",
    "import pandas as pd\n",
    "import seaborn as sns"
   ]
  },
  {
   "cell_type": "code",
   "execution_count": 2,
   "id": "8471d95e",
   "metadata": {},
   "outputs": [
    {
     "data": {
      "text/html": [
       "<div>\n",
       "<style scoped>\n",
       "    .dataframe tbody tr th:only-of-type {\n",
       "        vertical-align: middle;\n",
       "    }\n",
       "\n",
       "    .dataframe tbody tr th {\n",
       "        vertical-align: top;\n",
       "    }\n",
       "\n",
       "    .dataframe thead th {\n",
       "        text-align: right;\n",
       "    }\n",
       "</style>\n",
       "<table border=\"1\" class=\"dataframe\">\n",
       "  <thead>\n",
       "    <tr style=\"text-align: right;\">\n",
       "      <th></th>\n",
       "      <th>children</th>\n",
       "      <th>days_employed</th>\n",
       "      <th>dob_years</th>\n",
       "      <th>education</th>\n",
       "      <th>education_id</th>\n",
       "      <th>family_status</th>\n",
       "      <th>family_status_id</th>\n",
       "      <th>gender</th>\n",
       "      <th>income_type</th>\n",
       "      <th>debt</th>\n",
       "      <th>total_income</th>\n",
       "      <th>purpose</th>\n",
       "    </tr>\n",
       "  </thead>\n",
       "  <tbody>\n",
       "    <tr>\n",
       "      <td>0</td>\n",
       "      <td>1</td>\n",
       "      <td>-8437.673028</td>\n",
       "      <td>42</td>\n",
       "      <td>высшее</td>\n",
       "      <td>0</td>\n",
       "      <td>женат / замужем</td>\n",
       "      <td>0</td>\n",
       "      <td>F</td>\n",
       "      <td>сотрудник</td>\n",
       "      <td>0</td>\n",
       "      <td>253875.639453</td>\n",
       "      <td>покупка жилья</td>\n",
       "    </tr>\n",
       "    <tr>\n",
       "      <td>1</td>\n",
       "      <td>1</td>\n",
       "      <td>-4024.803754</td>\n",
       "      <td>36</td>\n",
       "      <td>среднее</td>\n",
       "      <td>1</td>\n",
       "      <td>женат / замужем</td>\n",
       "      <td>0</td>\n",
       "      <td>F</td>\n",
       "      <td>сотрудник</td>\n",
       "      <td>0</td>\n",
       "      <td>112080.014102</td>\n",
       "      <td>приобретение автомобиля</td>\n",
       "    </tr>\n",
       "    <tr>\n",
       "      <td>2</td>\n",
       "      <td>0</td>\n",
       "      <td>-5623.422610</td>\n",
       "      <td>33</td>\n",
       "      <td>Среднее</td>\n",
       "      <td>1</td>\n",
       "      <td>женат / замужем</td>\n",
       "      <td>0</td>\n",
       "      <td>M</td>\n",
       "      <td>сотрудник</td>\n",
       "      <td>0</td>\n",
       "      <td>145885.952297</td>\n",
       "      <td>покупка жилья</td>\n",
       "    </tr>\n",
       "    <tr>\n",
       "      <td>3</td>\n",
       "      <td>3</td>\n",
       "      <td>-4124.747207</td>\n",
       "      <td>32</td>\n",
       "      <td>среднее</td>\n",
       "      <td>1</td>\n",
       "      <td>женат / замужем</td>\n",
       "      <td>0</td>\n",
       "      <td>M</td>\n",
       "      <td>сотрудник</td>\n",
       "      <td>0</td>\n",
       "      <td>267628.550329</td>\n",
       "      <td>дополнительное образование</td>\n",
       "    </tr>\n",
       "    <tr>\n",
       "      <td>4</td>\n",
       "      <td>0</td>\n",
       "      <td>340266.072047</td>\n",
       "      <td>53</td>\n",
       "      <td>среднее</td>\n",
       "      <td>1</td>\n",
       "      <td>гражданский брак</td>\n",
       "      <td>1</td>\n",
       "      <td>F</td>\n",
       "      <td>пенсионер</td>\n",
       "      <td>0</td>\n",
       "      <td>158616.077870</td>\n",
       "      <td>сыграть свадьбу</td>\n",
       "    </tr>\n",
       "  </tbody>\n",
       "</table>\n",
       "</div>"
      ],
      "text/plain": [
       "   children  days_employed  dob_years education  education_id  \\\n",
       "0         1   -8437.673028         42    высшее             0   \n",
       "1         1   -4024.803754         36   среднее             1   \n",
       "2         0   -5623.422610         33   Среднее             1   \n",
       "3         3   -4124.747207         32   среднее             1   \n",
       "4         0  340266.072047         53   среднее             1   \n",
       "\n",
       "      family_status  family_status_id gender income_type  debt   total_income  \\\n",
       "0   женат / замужем                 0      F   сотрудник     0  253875.639453   \n",
       "1   женат / замужем                 0      F   сотрудник     0  112080.014102   \n",
       "2   женат / замужем                 0      M   сотрудник     0  145885.952297   \n",
       "3   женат / замужем                 0      M   сотрудник     0  267628.550329   \n",
       "4  гражданский брак                 1      F   пенсионер     0  158616.077870   \n",
       "\n",
       "                      purpose  \n",
       "0               покупка жилья  \n",
       "1     приобретение автомобиля  \n",
       "2               покупка жилья  \n",
       "3  дополнительное образование  \n",
       "4             сыграть свадьбу  "
      ]
     },
     "metadata": {},
     "output_type": "display_data"
    }
   ],
   "source": [
    "try:\n",
    "    statistics = pd.read_csv('/datasets/data.csv')\n",
    "    display(statistics.head())\n",
    "except:\n",
    "    print('Неверно указан источник данных. Введите коректную ссылку ссылку.')"
   ]
  },
  {
   "cell_type": "code",
   "execution_count": 3,
   "id": "58b79bb6",
   "metadata": {},
   "outputs": [
    {
     "name": "stdout",
     "output_type": "stream",
     "text": [
      "<class 'pandas.core.frame.DataFrame'>\n",
      "RangeIndex: 21525 entries, 0 to 21524\n",
      "Data columns (total 12 columns):\n",
      "children            21525 non-null int64\n",
      "days_employed       19351 non-null float64\n",
      "dob_years           21525 non-null int64\n",
      "education           21525 non-null object\n",
      "education_id        21525 non-null int64\n",
      "family_status       21525 non-null object\n",
      "family_status_id    21525 non-null int64\n",
      "gender              21525 non-null object\n",
      "income_type         21525 non-null object\n",
      "debt                21525 non-null int64\n",
      "total_income        19351 non-null float64\n",
      "purpose             21525 non-null object\n",
      "dtypes: float64(2), int64(5), object(5)\n",
      "memory usage: 2.0+ MB\n"
     ]
    }
   ],
   "source": [
    "statistics.info()"
   ]
  },
  {
   "cell_type": "code",
   "execution_count": 4,
   "id": "74d51073",
   "metadata": {},
   "outputs": [
    {
     "data": {
      "text/html": [
       "<div>\n",
       "<style scoped>\n",
       "    .dataframe tbody tr th:only-of-type {\n",
       "        vertical-align: middle;\n",
       "    }\n",
       "\n",
       "    .dataframe tbody tr th {\n",
       "        vertical-align: top;\n",
       "    }\n",
       "\n",
       "    .dataframe thead th {\n",
       "        text-align: right;\n",
       "    }\n",
       "</style>\n",
       "<table border=\"1\" class=\"dataframe\">\n",
       "  <thead>\n",
       "    <tr style=\"text-align: right;\">\n",
       "      <th></th>\n",
       "      <th>children</th>\n",
       "      <th>days_employed</th>\n",
       "      <th>dob_years</th>\n",
       "      <th>education_id</th>\n",
       "      <th>family_status_id</th>\n",
       "      <th>debt</th>\n",
       "      <th>total_income</th>\n",
       "    </tr>\n",
       "  </thead>\n",
       "  <tbody>\n",
       "    <tr>\n",
       "      <td>count</td>\n",
       "      <td>21525.000000</td>\n",
       "      <td>19351.000000</td>\n",
       "      <td>21525.000000</td>\n",
       "      <td>21525.000000</td>\n",
       "      <td>21525.000000</td>\n",
       "      <td>21525.000000</td>\n",
       "      <td>1.935100e+04</td>\n",
       "    </tr>\n",
       "    <tr>\n",
       "      <td>mean</td>\n",
       "      <td>0.538908</td>\n",
       "      <td>63046.497661</td>\n",
       "      <td>43.293380</td>\n",
       "      <td>0.817236</td>\n",
       "      <td>0.972544</td>\n",
       "      <td>0.080883</td>\n",
       "      <td>1.674223e+05</td>\n",
       "    </tr>\n",
       "    <tr>\n",
       "      <td>std</td>\n",
       "      <td>1.381587</td>\n",
       "      <td>140827.311974</td>\n",
       "      <td>12.574584</td>\n",
       "      <td>0.548138</td>\n",
       "      <td>1.420324</td>\n",
       "      <td>0.272661</td>\n",
       "      <td>1.029716e+05</td>\n",
       "    </tr>\n",
       "    <tr>\n",
       "      <td>min</td>\n",
       "      <td>-1.000000</td>\n",
       "      <td>-18388.949901</td>\n",
       "      <td>0.000000</td>\n",
       "      <td>0.000000</td>\n",
       "      <td>0.000000</td>\n",
       "      <td>0.000000</td>\n",
       "      <td>2.066726e+04</td>\n",
       "    </tr>\n",
       "    <tr>\n",
       "      <td>25%</td>\n",
       "      <td>0.000000</td>\n",
       "      <td>-2747.423625</td>\n",
       "      <td>33.000000</td>\n",
       "      <td>1.000000</td>\n",
       "      <td>0.000000</td>\n",
       "      <td>0.000000</td>\n",
       "      <td>1.030532e+05</td>\n",
       "    </tr>\n",
       "    <tr>\n",
       "      <td>50%</td>\n",
       "      <td>0.000000</td>\n",
       "      <td>-1203.369529</td>\n",
       "      <td>42.000000</td>\n",
       "      <td>1.000000</td>\n",
       "      <td>0.000000</td>\n",
       "      <td>0.000000</td>\n",
       "      <td>1.450179e+05</td>\n",
       "    </tr>\n",
       "    <tr>\n",
       "      <td>75%</td>\n",
       "      <td>1.000000</td>\n",
       "      <td>-291.095954</td>\n",
       "      <td>53.000000</td>\n",
       "      <td>1.000000</td>\n",
       "      <td>1.000000</td>\n",
       "      <td>0.000000</td>\n",
       "      <td>2.034351e+05</td>\n",
       "    </tr>\n",
       "    <tr>\n",
       "      <td>max</td>\n",
       "      <td>20.000000</td>\n",
       "      <td>401755.400475</td>\n",
       "      <td>75.000000</td>\n",
       "      <td>4.000000</td>\n",
       "      <td>4.000000</td>\n",
       "      <td>1.000000</td>\n",
       "      <td>2.265604e+06</td>\n",
       "    </tr>\n",
       "  </tbody>\n",
       "</table>\n",
       "</div>"
      ],
      "text/plain": [
       "           children  days_employed     dob_years  education_id  \\\n",
       "count  21525.000000   19351.000000  21525.000000  21525.000000   \n",
       "mean       0.538908   63046.497661     43.293380      0.817236   \n",
       "std        1.381587  140827.311974     12.574584      0.548138   \n",
       "min       -1.000000  -18388.949901      0.000000      0.000000   \n",
       "25%        0.000000   -2747.423625     33.000000      1.000000   \n",
       "50%        0.000000   -1203.369529     42.000000      1.000000   \n",
       "75%        1.000000    -291.095954     53.000000      1.000000   \n",
       "max       20.000000  401755.400475     75.000000      4.000000   \n",
       "\n",
       "       family_status_id          debt  total_income  \n",
       "count      21525.000000  21525.000000  1.935100e+04  \n",
       "mean           0.972544      0.080883  1.674223e+05  \n",
       "std            1.420324      0.272661  1.029716e+05  \n",
       "min            0.000000      0.000000  2.066726e+04  \n",
       "25%            0.000000      0.000000  1.030532e+05  \n",
       "50%            0.000000      0.000000  1.450179e+05  \n",
       "75%            1.000000      0.000000  2.034351e+05  \n",
       "max            4.000000      1.000000  2.265604e+06  "
      ]
     },
     "execution_count": 4,
     "metadata": {},
     "output_type": "execute_result"
    }
   ],
   "source": [
    "statistics.describe()"
   ]
  },
  {
   "cell_type": "markdown",
   "id": "ae10ee21",
   "metadata": {},
   "source": [
    "В ходе осмотра таблицы видно:\n",
    "1. таблица имеет 21525 записи,\n",
    "2. два столбца (days_employed, total_income) имеют пропуски, при чём количество пропусков совпадает, нужно проверить не связаны ли пропуски в этих столбцах, также это может подсказать о причинах пропусков,\n",
    "3. тип данных столбца days_employed (общий трудовой стаж в днях), не является целочисленным и имеет отрицательные значения, нужно проверить столбец на корректность данных и провести к целочисленному виду,\n",
    "4. в столбце education имеются разные стили занесения данных, проверить все столбцы типа 'object', привести к единому стилю.\n",
    "5. в таблице присутствует избыточность в данных, повторение значений в столбцах: education,\teducation_id, family_status, family_status_id.\n",
    "В остальном замечаний при первичном осмотре не выявлено.\n"
   ]
  },
  {
   "cell_type": "markdown",
   "id": "7bddf46b",
   "metadata": {},
   "source": [
    "<div class=\"alert alert-success\">\n",
    "<b>✔️ Комментарий ревьюера v1:</b> \n",
    "<br>Отличный анализ!\n",
    "</div>\n",
    "\n",
    "<div class=\"alert alert-warning\">\n",
    "<b>⚠️ Комментарий ревьюера v1:</b> \n",
    "<br>Во время первичного анализа данных, может помочь метод describe(). Он покажет разброс значений, максимум, минимум, среднее и медиану. \n",
    "</div>"
   ]
  },
  {
   "cell_type": "markdown",
   "id": "64fdff3f",
   "metadata": {},
   "source": [
    "<div class=\"alert alert-info\">\n",
    "<b>Комментарий студента:</b>\n",
    "<br>Спасибо, за наводку. В следующих проектах буду применять метод describe().\n",
    "</div>"
   ]
  },
  {
   "cell_type": "markdown",
   "id": "8494e230",
   "metadata": {},
   "source": [
    "<div class=\"alert alert-success\">\n",
    "<b>✔️ Комментарий ревьюера v2:</b>\n",
    "<br>👍\n",
    "</div>"
   ]
  },
  {
   "cell_type": "markdown",
   "id": "3ea9047b",
   "metadata": {},
   "source": [
    "### Проверка данных на аномалии и исправления.\n",
    "Перед заполнением пропусков в данных, стоит проверить данные на аномалии и устранить их. Чтобы влияние аномалий не сказалось на дальнейших расчётах."
   ]
  },
  {
   "cell_type": "markdown",
   "id": "9604e41a",
   "metadata": {},
   "source": [
    "В ходе первичного знакомства с данными выявлены пропуски в столбцах: days_employed, total_income.\n",
    "Проверим их долю к имеющимся данным."
   ]
  },
  {
   "cell_type": "code",
   "execution_count": 5,
   "id": "fcc22789",
   "metadata": {
    "scrolled": true
   },
   "outputs": [
    {
     "name": "stdout",
     "output_type": "stream",
     "text": [
      "Доля пропущенных значений в столбце days_employed составляет: 0.8990011614401858\n",
      "Доля пропущенных значений в столбце total_income составляет: 0.8990011614401858\n"
     ]
    }
   ],
   "source": [
    "print('Доля пропущенных значений в столбце days_employed составляет:',statistics['days_employed'].count() / statistics.shape[0])\n",
    "print('Доля пропущенных значений в столбце total_income составляет:',statistics['total_income'].count() / statistics.shape[0])"
   ]
  },
  {
   "cell_type": "markdown",
   "id": "5764afc3",
   "metadata": {},
   "source": [
    "<div class=\"alert alert-success\">\n",
    "<b>✔️ Комментарий ревьюера v1:</b> \n",
    "<br>Молодец! Ещё можно посмотреть долю пропущенных значений среди всех данных следующим способом\n",
    "    \n",
    "    df.isna().mean()\n",
    "</div>"
   ]
  },
  {
   "cell_type": "markdown",
   "id": "b064490b",
   "metadata": {},
   "source": [
    "Стоит обратить внимание, что доля пропущеных значений в столбцах одинакова, что может говорить о связи пропусков в данных столбцах. \n",
    "\n",
    "Проверим этом, сделав выборку строк в которых пропуски данных встречаются в обоих столбцах совместно и сравним её с количеством пропусков в столбцах по отдельности. "
   ]
  },
  {
   "cell_type": "code",
   "execution_count": 6,
   "id": "1325e07c",
   "metadata": {},
   "outputs": [
    {
     "name": "stdout",
     "output_type": "stream",
     "text": [
      "Количество строк с пропусками в двух столбцах \"days_employed\" и \"total_income\" одновременно: 2174\n",
      "Количество строк с пропусками в столбце \"days_employed\": 2174\n",
      "Количество строк с пропусками в столбце \"total_income\": 2174\n"
     ]
    }
   ],
   "source": [
    "# количество строк при условии отсутствия данных в days_employed и total_income одновременно и по отдельности.\n",
    "\n",
    "days_employed_total_income_nan = statistics[(statistics['days_employed'].isna() == True) & \n",
    "                                            (statistics['total_income'].isna() == True)]['children'].count()\n",
    "days_employed_nan = statistics[statistics['days_employed'].isna() == True]['children'].count()\n",
    "total_income_nan = statistics[statistics['total_income'].isna() == True]['children'].count()\n",
    "print('Количество строк с пропусками в двух столбцах \"days_employed\" и \"total_income\" одновременно:', days_employed_total_income_nan)\n",
    "print('Количество строк с пропусками в столбце \"days_employed\":', days_employed_nan)\n",
    "print('Количество строк с пропусками в столбце \"total_income\":', total_income_nan)"
   ]
  },
  {
   "cell_type": "markdown",
   "id": "d7d3ef6c",
   "metadata": {},
   "source": [
    "Количество строк с одновременным пропуском значений в столбцах \"days_employed\" и \"total_income\" совпадает с количеством пропусков в каждом столбце по отдельности, что значит, что все пропуски являются совместными.\n",
    "Это может быть вызвано тем, что у клиентов с отсутствующим стажем, так же и отсутствует доход.\n",
    "Это предположение можно усилить проверив, что в таблице отсутствуют нулевые значения в столбцах \"days_employed\" и \"total_income\". "
   ]
  },
  {
   "cell_type": "code",
   "execution_count": 7,
   "id": "1f24b54b",
   "metadata": {
    "scrolled": true
   },
   "outputs": [
    {
     "name": "stdout",
     "output_type": "stream",
     "text": [
      "Количество клиентов с нулевым стажем: 0\n",
      "Количество клиентов с нулевым доходом: 0\n"
     ]
    },
    {
     "data": {
      "text/html": [
       "<div>\n",
       "<style scoped>\n",
       "    .dataframe tbody tr th:only-of-type {\n",
       "        vertical-align: middle;\n",
       "    }\n",
       "\n",
       "    .dataframe tbody tr th {\n",
       "        vertical-align: top;\n",
       "    }\n",
       "\n",
       "    .dataframe thead th {\n",
       "        text-align: right;\n",
       "    }\n",
       "</style>\n",
       "<table border=\"1\" class=\"dataframe\">\n",
       "  <thead>\n",
       "    <tr style=\"text-align: right;\">\n",
       "      <th></th>\n",
       "      <th>children</th>\n",
       "      <th>days_employed</th>\n",
       "      <th>dob_years</th>\n",
       "      <th>education</th>\n",
       "      <th>education_id</th>\n",
       "      <th>family_status</th>\n",
       "      <th>family_status_id</th>\n",
       "      <th>gender</th>\n",
       "      <th>income_type</th>\n",
       "      <th>debt</th>\n",
       "      <th>total_income</th>\n",
       "      <th>purpose</th>\n",
       "    </tr>\n",
       "  </thead>\n",
       "  <tbody>\n",
       "  </tbody>\n",
       "</table>\n",
       "</div>"
      ],
      "text/plain": [
       "Empty DataFrame\n",
       "Columns: [children, days_employed, dob_years, education, education_id, family_status, family_status_id, gender, income_type, debt, total_income, purpose]\n",
       "Index: []"
      ]
     },
     "execution_count": 7,
     "metadata": {},
     "output_type": "execute_result"
    }
   ],
   "source": [
    "print('Количество клиентов с нулевым стажем:', statistics[statistics['days_employed'] == 0]['children'].count())\n",
    "print('Количество клиентов с нулевым доходом:', statistics[statistics['total_income'] == 0]['children'].count())\n",
    "statistics[statistics['days_employed'] == 0]"
   ]
  },
  {
   "cell_type": "markdown",
   "id": "f14f9f6d",
   "metadata": {},
   "source": [
    "Версия о том, что пропуски в столбцах \"days_employed\" и \"total_income\" это нулевые значения усилилась, нужно уточнить это в техническом отделе. Пока для расчётов, примем это как данность и заполним их нулями в разеделе \"Заполнение пропусков\"."
   ]
  },
  {
   "cell_type": "markdown",
   "id": "8204ec71",
   "metadata": {},
   "source": [
    "Изучим более детально данные в столбце days_employed, для начала отсортируем их и посмотрим крайние значения."
   ]
  },
  {
   "cell_type": "code",
   "execution_count": 8,
   "id": "968b10d1",
   "metadata": {},
   "outputs": [
    {
     "data": {
      "text/plain": [
       "16335   -18388.949901\n",
       "4299    -17615.563266\n",
       "7329    -16593.472817\n",
       "17838   -16264.699501\n",
       "16825   -16119.687737\n",
       "             ...     \n",
       "21489             NaN\n",
       "21495             NaN\n",
       "21497             NaN\n",
       "21502             NaN\n",
       "21510             NaN\n",
       "Name: days_employed, Length: 21525, dtype: float64"
      ]
     },
     "execution_count": 8,
     "metadata": {},
     "output_type": "execute_result"
    }
   ],
   "source": [
    "statistics['days_employed'].sort_values()"
   ]
  },
  {
   "cell_type": "code",
   "execution_count": 9,
   "id": "29a5c10d",
   "metadata": {},
   "outputs": [
    {
     "data": {
      "text/plain": [
       "6954     401755.400475\n",
       "10006    401715.811749\n",
       "7664     401675.093434\n",
       "2156     401674.466633\n",
       "7794     401663.850046\n",
       "             ...      \n",
       "21489              NaN\n",
       "21495              NaN\n",
       "21497              NaN\n",
       "21502              NaN\n",
       "21510              NaN\n",
       "Name: days_employed, Length: 21525, dtype: float64"
      ]
     },
     "execution_count": 9,
     "metadata": {},
     "output_type": "execute_result"
    }
   ],
   "source": [
    "statistics['days_employed'].sort_values(ascending=False)"
   ]
  },
  {
   "cell_type": "markdown",
   "id": "c7d740f0",
   "metadata": {},
   "source": [
    "Минимальные значения похожи на реальные но со знаком минус, максимальные же значения выходят за разумные пределы возможного стажа.\n",
    "Посмотрим на распределение данной величины на графике, это может дать более ясную картину."
   ]
  },
  {
   "cell_type": "code",
   "execution_count": 10,
   "id": "12ebbb9d",
   "metadata": {},
   "outputs": [
    {
     "data": {
      "text/plain": [
       "<matplotlib.axes._subplots.AxesSubplot at 0x7fc6cb3e66d0>"
      ]
     },
     "execution_count": 10,
     "metadata": {},
     "output_type": "execute_result"
    },
    {
     "data": {
      "image/png": "[encoded data removed]",
      "text/plain": [
       "<Figure size 432x288 with 1 Axes>"
      ]
     },
     "metadata": {
      "needs_background": "light"
     },
     "output_type": "display_data"
    }
   ],
   "source": [
    "statistics['days_employed'].plot(kind=\"hist\", bins=50)"
   ]
  },
  {
   "cell_type": "markdown",
   "id": "c8d685b0",
   "metadata": {},
   "source": [
    "Как видно из графика, имеется значительный выброс значений со стажем более 300000 дней. Разделим график на два диапазона и посмотрим на них по отдельности."
   ]
  },
  {
   "cell_type": "code",
   "execution_count": 11,
   "id": "f8196ef5",
   "metadata": {
    "scrolled": true
   },
   "outputs": [
    {
     "data": {
      "text/plain": [
       "<matplotlib.axes._subplots.AxesSubplot at 0x7fc6c322b050>"
      ]
     },
     "execution_count": 11,
     "metadata": {},
     "output_type": "execute_result"
    },
    {
     "data": {
      "image/png": "[encoded data removed]",
      "text/plain": [
       "<Figure size 432x288 with 1 Axes>"
      ]
     },
     "metadata": {
      "needs_background": "light"
     },
     "output_type": "display_data"
    }
   ],
   "source": [
    "statistics_min = statistics[statistics['days_employed'] < 300000]\n",
    "statistics_max = statistics[statistics['days_employed'] > 300000]\n",
    "\n",
    "statistics_min['days_employed'].plot(kind=\"hist\", bins=50)"
   ]
  },
  {
   "cell_type": "code",
   "execution_count": 12,
   "id": "d6978914",
   "metadata": {},
   "outputs": [
    {
     "data": {
      "text/plain": [
       "<matplotlib.axes._subplots.AxesSubplot at 0x7fc6c2af7690>"
      ]
     },
     "execution_count": 12,
     "metadata": {},
     "output_type": "execute_result"
    },
    {
     "data": {
      "image/png": "[encoded data removed]",
      "text/plain": [
       "<Figure size 432x288 with 1 Axes>"
      ]
     },
     "metadata": {
      "needs_background": "light"
     },
     "output_type": "display_data"
    }
   ],
   "source": [
    "statistics_max['days_employed'].plot(kind=\"hist\", bins=50)"
   ]
  },
  {
   "cell_type": "markdown",
   "id": "7e845964",
   "metadata": {},
   "source": [
    "Первый график показал распределение по стажу работы, но инвертированный, нужно будет взять модуль от данных значений.\n",
    "Второй график показал, что значения со стажем более 300000 дней равномерно распределены и не похожи на распределение первого графика, а значит дело не в ошибке масштаба (можно было предположить, что данные указаны в минутах или часах). Значит данные стажа более 300000 дней, являются ошибкой и будут заменены на медианное значение в разеделе \"Заполнение пропусков\"."
   ]
  },
  {
   "cell_type": "code",
   "execution_count": 13,
   "id": "b0ec3f9b",
   "metadata": {},
   "outputs": [],
   "source": [
    "# Исправление отрицательных значений в столбце 'days_employed' при помощи модуля\n",
    "statistics['days_employed'] = statistics['days_employed'].abs()                   "
   ]
  },
  {
   "cell_type": "markdown",
   "id": "e129e579",
   "metadata": {},
   "source": [
    "Проверим распределение данных в столбце 'dob_years' (возраст клиента в годах)."
   ]
  },
  {
   "cell_type": "code",
   "execution_count": 14,
   "id": "882cdbdf",
   "metadata": {},
   "outputs": [
    {
     "data": {
      "text/plain": [
       "<matplotlib.axes._subplots.AxesSubplot at 0x7fc6c2998d50>"
      ]
     },
     "execution_count": 14,
     "metadata": {},
     "output_type": "execute_result"
    },
    {
     "data": {
      "image/png": "[encoded data removed]",
      "text/plain": [
       "<Figure size 432x288 with 1 Axes>"
      ]
     },
     "metadata": {
      "needs_background": "light"
     },
     "output_type": "display_data"
    }
   ],
   "source": [
    "statistics['dob_years'].plot(kind=\"hist\", bins=100)"
   ]
  },
  {
   "cell_type": "markdown",
   "id": "092b5d1b",
   "metadata": {},
   "source": [
    "Присутствуют подозрительные пропуски в основном распределении, а также выброс в районе 0.\n",
    "Проверим первые 10 строк, в которых значение возраста меньше 10 лет."
   ]
  },
  {
   "cell_type": "code",
   "execution_count": 15,
   "id": "9ec2a9a6",
   "metadata": {
    "scrolled": true
   },
   "outputs": [
    {
     "data": {
      "text/html": [
       "<div>\n",
       "<style scoped>\n",
       "    .dataframe tbody tr th:only-of-type {\n",
       "        vertical-align: middle;\n",
       "    }\n",
       "\n",
       "    .dataframe tbody tr th {\n",
       "        vertical-align: top;\n",
       "    }\n",
       "\n",
       "    .dataframe thead th {\n",
       "        text-align: right;\n",
       "    }\n",
       "</style>\n",
       "<table border=\"1\" class=\"dataframe\">\n",
       "  <thead>\n",
       "    <tr style=\"text-align: right;\">\n",
       "      <th></th>\n",
       "      <th>children</th>\n",
       "      <th>days_employed</th>\n",
       "      <th>dob_years</th>\n",
       "      <th>education</th>\n",
       "      <th>education_id</th>\n",
       "      <th>family_status</th>\n",
       "      <th>family_status_id</th>\n",
       "      <th>gender</th>\n",
       "      <th>income_type</th>\n",
       "      <th>debt</th>\n",
       "      <th>total_income</th>\n",
       "      <th>purpose</th>\n",
       "    </tr>\n",
       "  </thead>\n",
       "  <tbody>\n",
       "    <tr>\n",
       "      <td>99</td>\n",
       "      <td>0</td>\n",
       "      <td>346541.618895</td>\n",
       "      <td>0</td>\n",
       "      <td>Среднее</td>\n",
       "      <td>1</td>\n",
       "      <td>женат / замужем</td>\n",
       "      <td>0</td>\n",
       "      <td>F</td>\n",
       "      <td>пенсионер</td>\n",
       "      <td>0</td>\n",
       "      <td>71291.522491</td>\n",
       "      <td>автомобиль</td>\n",
       "    </tr>\n",
       "    <tr>\n",
       "      <td>149</td>\n",
       "      <td>0</td>\n",
       "      <td>2664.273168</td>\n",
       "      <td>0</td>\n",
       "      <td>среднее</td>\n",
       "      <td>1</td>\n",
       "      <td>в разводе</td>\n",
       "      <td>3</td>\n",
       "      <td>F</td>\n",
       "      <td>сотрудник</td>\n",
       "      <td>0</td>\n",
       "      <td>70176.435951</td>\n",
       "      <td>операции с жильем</td>\n",
       "    </tr>\n",
       "    <tr>\n",
       "      <td>270</td>\n",
       "      <td>3</td>\n",
       "      <td>1872.663186</td>\n",
       "      <td>0</td>\n",
       "      <td>среднее</td>\n",
       "      <td>1</td>\n",
       "      <td>женат / замужем</td>\n",
       "      <td>0</td>\n",
       "      <td>F</td>\n",
       "      <td>сотрудник</td>\n",
       "      <td>0</td>\n",
       "      <td>102166.458894</td>\n",
       "      <td>ремонт жилью</td>\n",
       "    </tr>\n",
       "    <tr>\n",
       "      <td>578</td>\n",
       "      <td>0</td>\n",
       "      <td>397856.565013</td>\n",
       "      <td>0</td>\n",
       "      <td>среднее</td>\n",
       "      <td>1</td>\n",
       "      <td>женат / замужем</td>\n",
       "      <td>0</td>\n",
       "      <td>F</td>\n",
       "      <td>пенсионер</td>\n",
       "      <td>0</td>\n",
       "      <td>97620.687042</td>\n",
       "      <td>строительство собственной недвижимости</td>\n",
       "    </tr>\n",
       "    <tr>\n",
       "      <td>1040</td>\n",
       "      <td>0</td>\n",
       "      <td>1158.029561</td>\n",
       "      <td>0</td>\n",
       "      <td>высшее</td>\n",
       "      <td>0</td>\n",
       "      <td>в разводе</td>\n",
       "      <td>3</td>\n",
       "      <td>F</td>\n",
       "      <td>компаньон</td>\n",
       "      <td>0</td>\n",
       "      <td>303994.134987</td>\n",
       "      <td>свой автомобиль</td>\n",
       "    </tr>\n",
       "    <tr>\n",
       "      <td>1149</td>\n",
       "      <td>0</td>\n",
       "      <td>934.654854</td>\n",
       "      <td>0</td>\n",
       "      <td>среднее</td>\n",
       "      <td>1</td>\n",
       "      <td>женат / замужем</td>\n",
       "      <td>0</td>\n",
       "      <td>F</td>\n",
       "      <td>компаньон</td>\n",
       "      <td>0</td>\n",
       "      <td>201852.430096</td>\n",
       "      <td>покупка недвижимости</td>\n",
       "    </tr>\n",
       "    <tr>\n",
       "      <td>1175</td>\n",
       "      <td>0</td>\n",
       "      <td>370879.508002</td>\n",
       "      <td>0</td>\n",
       "      <td>среднее</td>\n",
       "      <td>1</td>\n",
       "      <td>женат / замужем</td>\n",
       "      <td>0</td>\n",
       "      <td>F</td>\n",
       "      <td>пенсионер</td>\n",
       "      <td>0</td>\n",
       "      <td>313949.845188</td>\n",
       "      <td>получение дополнительного образования</td>\n",
       "    </tr>\n",
       "    <tr>\n",
       "      <td>1386</td>\n",
       "      <td>0</td>\n",
       "      <td>5043.219890</td>\n",
       "      <td>0</td>\n",
       "      <td>высшее</td>\n",
       "      <td>0</td>\n",
       "      <td>женат / замужем</td>\n",
       "      <td>0</td>\n",
       "      <td>M</td>\n",
       "      <td>госслужащий</td>\n",
       "      <td>0</td>\n",
       "      <td>240523.618071</td>\n",
       "      <td>сделка с автомобилем</td>\n",
       "    </tr>\n",
       "    <tr>\n",
       "      <td>1890</td>\n",
       "      <td>0</td>\n",
       "      <td>NaN</td>\n",
       "      <td>0</td>\n",
       "      <td>высшее</td>\n",
       "      <td>0</td>\n",
       "      <td>Не женат / не замужем</td>\n",
       "      <td>4</td>\n",
       "      <td>F</td>\n",
       "      <td>сотрудник</td>\n",
       "      <td>0</td>\n",
       "      <td>NaN</td>\n",
       "      <td>жилье</td>\n",
       "    </tr>\n",
       "    <tr>\n",
       "      <td>1898</td>\n",
       "      <td>0</td>\n",
       "      <td>370144.537021</td>\n",
       "      <td>0</td>\n",
       "      <td>среднее</td>\n",
       "      <td>1</td>\n",
       "      <td>вдовец / вдова</td>\n",
       "      <td>2</td>\n",
       "      <td>F</td>\n",
       "      <td>пенсионер</td>\n",
       "      <td>0</td>\n",
       "      <td>127400.268338</td>\n",
       "      <td>на покупку автомобиля</td>\n",
       "    </tr>\n",
       "  </tbody>\n",
       "</table>\n",
       "</div>"
      ],
      "text/plain": [
       "      children  days_employed  dob_years education  education_id  \\\n",
       "99           0  346541.618895          0   Среднее             1   \n",
       "149          0    2664.273168          0   среднее             1   \n",
       "270          3    1872.663186          0   среднее             1   \n",
       "578          0  397856.565013          0   среднее             1   \n",
       "1040         0    1158.029561          0    высшее             0   \n",
       "1149         0     934.654854          0   среднее             1   \n",
       "1175         0  370879.508002          0   среднее             1   \n",
       "1386         0    5043.219890          0    высшее             0   \n",
       "1890         0            NaN          0    высшее             0   \n",
       "1898         0  370144.537021          0   среднее             1   \n",
       "\n",
       "              family_status  family_status_id gender  income_type  debt  \\\n",
       "99          женат / замужем                 0      F    пенсионер     0   \n",
       "149               в разводе                 3      F    сотрудник     0   \n",
       "270         женат / замужем                 0      F    сотрудник     0   \n",
       "578         женат / замужем                 0      F    пенсионер     0   \n",
       "1040              в разводе                 3      F    компаньон     0   \n",
       "1149        женат / замужем                 0      F    компаньон     0   \n",
       "1175        женат / замужем                 0      F    пенсионер     0   \n",
       "1386        женат / замужем                 0      M  госслужащий     0   \n",
       "1890  Не женат / не замужем                 4      F    сотрудник     0   \n",
       "1898         вдовец / вдова                 2      F    пенсионер     0   \n",
       "\n",
       "       total_income                                 purpose  \n",
       "99     71291.522491                              автомобиль  \n",
       "149    70176.435951                       операции с жильем  \n",
       "270   102166.458894                            ремонт жилью  \n",
       "578    97620.687042  строительство собственной недвижимости  \n",
       "1040  303994.134987                         свой автомобиль  \n",
       "1149  201852.430096                    покупка недвижимости  \n",
       "1175  313949.845188   получение дополнительного образования  \n",
       "1386  240523.618071                    сделка с автомобилем  \n",
       "1890            NaN                                   жилье  \n",
       "1898  127400.268338                   на покупку автомобиля  "
      ]
     },
     "execution_count": 15,
     "metadata": {},
     "output_type": "execute_result"
    }
   ],
   "source": [
    "statistics[statistics['dob_years'] < 10].head(10)"
   ]
  },
  {
   "cell_type": "markdown",
   "id": "c5cf79c8",
   "metadata": {},
   "source": [
    "Похоже, что строки с нулевым возростом являются реальными клиентами, кроме столбца 'dob_years' ничем не выделяются на общем  фоне и будут заменены на медианное значение в разеделе \"Заполнение пропусков\"."
   ]
  },
  {
   "cell_type": "code",
   "execution_count": 16,
   "id": "426cf633",
   "metadata": {},
   "outputs": [
    {
     "name": "stdout",
     "output_type": "stream",
     "text": [
      "Количество явных дубликатов в таблице: 54\n"
     ]
    }
   ],
   "source": [
    "print('Количество явных дубликатов в таблице:',statistics.duplicated().sum())"
   ]
  },
  {
   "cell_type": "markdown",
   "id": "4c4c0625",
   "metadata": {},
   "source": [
    "Дубликаты будут удалены в разделе \"Удаление дубликатов\".\n",
    "Проверим уникальные значения в столбце 'children' (количество детей в семье)."
   ]
  },
  {
   "cell_type": "code",
   "execution_count": 17,
   "id": "41e28696",
   "metadata": {},
   "outputs": [
    {
     "data": {
      "text/plain": [
       "array([ 1,  0,  3,  2, -1,  4, 20,  5])"
      ]
     },
     "execution_count": 17,
     "metadata": {},
     "output_type": "execute_result"
    }
   ],
   "source": [
    "statistics['children'].unique()\n"
   ]
  },
  {
   "cell_type": "markdown",
   "id": "1f7e0854",
   "metadata": {},
   "source": [
    "Как видно имеется одно явно ошибочное значение -1 и маловероятное значение 20, проверим количесвто строк с данными отклонениями."
   ]
  },
  {
   "cell_type": "code",
   "execution_count": 18,
   "id": "896c3494",
   "metadata": {},
   "outputs": [
    {
     "name": "stdout",
     "output_type": "stream",
     "text": [
      "Число строк со значением количества детей -1:  47\n",
      "Число строк со значением количества детей 20:  76\n"
     ]
    }
   ],
   "source": [
    "print('Число строк со значением количества детей -1: ', statistics[statistics['children'] == -1]['children'].count())\n",
    "print('Число строк со значением количества детей 20: ', statistics[statistics['children'] == 20]['children'].count())"
   ]
  },
  {
   "cell_type": "markdown",
   "id": "ea32a91a",
   "metadata": {},
   "source": [
    "Значение -1 похоже, является ошибкой ввода (приписан знак минус в качестве дефиса), исправим его по модулю.\n",
    "Значение 20 встречается 76 раз, что очень вероятно содержит ошибку, так как отсутствуют многоденые семьи с количеством детей от 6 до 19. Необходимо уточнить это в техническом отделе. Пока для расчётов, примем это как данность и заполним их медианным значением в разеделе \"Заполнение пропусков\"."
   ]
  },
  {
   "cell_type": "code",
   "execution_count": 19,
   "id": "1ef4126d",
   "metadata": {
    "scrolled": true
   },
   "outputs": [],
   "source": [
    "statistics['children'] = statistics['children'].abs()"
   ]
  },
  {
   "cell_type": "markdown",
   "id": "5af459f2",
   "metadata": {},
   "source": [
    "Выводы по разделу \"Проверка данных на аномалии и исправления.\"\n",
    "\n",
    "Выполнено:\n",
    "1. Все столбцы с количественными значениями проверены на аномалии.\n",
    "2. Устранены отрицательные значения в столбце 'days_employed' (общий трудовой стаж в днях).\n",
    "3. Устранены отрицательные значения в столбце 'children' (общий трудовой стаж в днях).\n",
    "4. Выявлено наличие явных и неявных дубликатов.\n",
    "\n",
    "В дальнейшем необходимо:\n",
    "1. Заполнить пропуски в столбцах 'days_employed' и 'total_income' нулевым значением, смотри разедел \"Заполнение пропусков\".\n",
    "2. Замененить на медианное значение данные в столбце 'days_employed' (общий трудовой стаж в днях) более 300000 дней, смотри разедел \"Заполнение пропусков\".\n",
    "3. Замененить на медианное значение данные в столбце 'dob_years' (возраст клиента) 0 лет, смотри разедел \"Заполнение пропусков\".\n",
    "4. Замененить на медианное значение данные в столбце 'children' (количество детей в семье) 20 детей, смотри разедел \"Заполнение пропусков\".\n",
    "5. Удалить явные и неявные дубликаты,смотри раздел \"Удаление дубликатов\"."
   ]
  },
  {
   "cell_type": "markdown",
   "id": "c5d0a234",
   "metadata": {},
   "source": [
    "<div class=\"alert alert-success\">\n",
    "<b>✔️ Комментарий ревьюера v1:</b> \n",
    "<br>Тут всё правильно 👌\n",
    "</div>"
   ]
  },
  {
   "cell_type": "markdown",
   "id": "c68d5c4a",
   "metadata": {},
   "source": [
    "### Удаление дубликатов\n",
    "Для удобства поиска дубликатов, приведём все столбцы с типом данных object к нижнему регистру."
   ]
  },
  {
   "cell_type": "code",
   "execution_count": 20,
   "id": "674bf660",
   "metadata": {},
   "outputs": [],
   "source": [
    "try:\n",
    "    statistics['education'] = statistics['education'].str.lower()\n",
    "    statistics['family_status'] = statistics['family_status'].str.lower()\n",
    "    statistics['gender'] = statistics['gender'].str.lower()\n",
    "    statistics['income_type'] = statistics['income_type'].str.lower()\n",
    "    statistics['purpose'] = statistics['purpose'].str.lower()\n",
    "except KeyError:\n",
    "    print('Обращение к несуществующему столбцу. Перезапустите ядро блокнота и выполните скритп с начала.')"
   ]
  },
  {
   "cell_type": "markdown",
   "id": "0804d300",
   "metadata": {},
   "source": [
    "<div class=\"alert alert-success\">\n",
    "<b>✔️ Комментарий ревьюера v1:</b> \n",
    "<br>Избавились от большей части дубликатов в данных)\n",
    "</div>"
   ]
  },
  {
   "cell_type": "markdown",
   "id": "a6f3bead",
   "metadata": {},
   "source": [
    "Проверим количество явных дубликатов и устраним их."
   ]
  },
  {
   "cell_type": "code",
   "execution_count": 21,
   "id": "8007020d",
   "metadata": {
    "scrolled": true
   },
   "outputs": [
    {
     "name": "stdout",
     "output_type": "stream",
     "text": [
      "Количество явных дубликатов в таблице перед удалением: 71\n",
      "Количество явных дубликатов в таблице после удаления: 0\n"
     ]
    }
   ],
   "source": [
    "print('Количество явных дубликатов в таблице перед удалением:',statistics.duplicated().sum())\n",
    "statistics = statistics.drop_duplicates().reset_index(drop=True)\n",
    "print('Количество явных дубликатов в таблице после удаления:',statistics.duplicated().sum())"
   ]
  },
  {
   "cell_type": "markdown",
   "id": "7a9871cb",
   "metadata": {},
   "source": [
    "<div class=\"alert alert-success\">\n",
    "<b>✔️ Комментарий ревьюера v1:</b> \n",
    "<br>Шикарно! Убрали оставшиеся дубликаты\n",
    "</div>"
   ]
  },
  {
   "cell_type": "markdown",
   "id": "e1b04097",
   "metadata": {},
   "source": [
    "Проверим список оригинальных значений столбцов 'education', 'family_status', 'gender', 'income_type', 'purpose'."
   ]
  },
  {
   "cell_type": "code",
   "execution_count": 22,
   "id": "09c4c799",
   "metadata": {},
   "outputs": [
    {
     "name": "stdout",
     "output_type": "stream",
     "text": [
      "Оригинальные значения столбца \"education\": ['высшее' 'среднее' 'неоконченное высшее' 'начальное' 'ученая степень']\n",
      "Оригинальные значения столбца \"family_status\": ['женат / замужем' 'гражданский брак' 'вдовец / вдова' 'в разводе'\n",
      " 'не женат / не замужем']\n",
      "Оригинальные значения столбца \"gender\": ['f' 'm' 'xna']\n",
      "Оригинальные значения столбца \"income_type\": ['сотрудник' 'пенсионер' 'компаньон' 'госслужащий' 'безработный'\n",
      " 'предприниматель' 'студент' 'в декрете']\n",
      "Оригинальные значения столбца \"purpose\": ['покупка жилья' 'приобретение автомобиля' 'дополнительное образование'\n",
      " 'сыграть свадьбу' 'операции с жильем' 'образование'\n",
      " 'на проведение свадьбы' 'покупка жилья для семьи' 'покупка недвижимости'\n",
      " 'покупка коммерческой недвижимости' 'покупка жилой недвижимости'\n",
      " 'строительство собственной недвижимости' 'недвижимость'\n",
      " 'строительство недвижимости' 'на покупку подержанного автомобиля'\n",
      " 'на покупку своего автомобиля' 'операции с коммерческой недвижимостью'\n",
      " 'строительство жилой недвижимости' 'жилье'\n",
      " 'операции со своей недвижимостью' 'автомобили' 'заняться образованием'\n",
      " 'сделка с подержанным автомобилем' 'получение образования' 'автомобиль'\n",
      " 'свадьба' 'получение дополнительного образования' 'покупка своего жилья'\n",
      " 'операции с недвижимостью' 'получение высшего образования'\n",
      " 'свой автомобиль' 'сделка с автомобилем' 'профильное образование'\n",
      " 'высшее образование' 'покупка жилья для сдачи' 'на покупку автомобиля'\n",
      " 'ремонт жилью' 'заняться высшим образованием']\n"
     ]
    }
   ],
   "source": [
    "try:\n",
    "    print('Оригинальные значения столбца \"education\":', statistics['education'].unique())\n",
    "    print('Оригинальные значения столбца \"family_status\":', statistics['family_status'].unique())\n",
    "    print('Оригинальные значения столбца \"gender\":', statistics['gender'].unique())\n",
    "    print('Оригинальные значения столбца \"income_type\":', statistics['income_type'].unique())\n",
    "    print('Оригинальные значения столбца \"purpose\":', statistics['purpose'].unique())\n",
    "except KeyError:\n",
    "    print('Обращение к несуществующему столбцу. Перезапустите ядро блокнота и выполните скритп с начала.')"
   ]
  },
  {
   "cell_type": "markdown",
   "id": "0eeec636",
   "metadata": {},
   "source": [
    "Выявлены замечания по столбцам:\n",
    "1. \"gender\" - неопределённое значение 'xna', \n",
    "2. \"purpose\" -  много односмысловых значений, записаных различным образом.\n",
    "\n",
    "Изучим столбец \"gender\" и определем значение 'xna'."
   ]
  },
  {
   "cell_type": "code",
   "execution_count": 23,
   "id": "bf77296e",
   "metadata": {
    "scrolled": true
   },
   "outputs": [
    {
     "data": {
      "text/html": [
       "<div>\n",
       "<style scoped>\n",
       "    .dataframe tbody tr th:only-of-type {\n",
       "        vertical-align: middle;\n",
       "    }\n",
       "\n",
       "    .dataframe tbody tr th {\n",
       "        vertical-align: top;\n",
       "    }\n",
       "\n",
       "    .dataframe thead th {\n",
       "        text-align: right;\n",
       "    }\n",
       "</style>\n",
       "<table border=\"1\" class=\"dataframe\">\n",
       "  <thead>\n",
       "    <tr style=\"text-align: right;\">\n",
       "      <th></th>\n",
       "      <th>children</th>\n",
       "      <th>days_employed</th>\n",
       "      <th>dob_years</th>\n",
       "      <th>education</th>\n",
       "      <th>education_id</th>\n",
       "      <th>family_status</th>\n",
       "      <th>family_status_id</th>\n",
       "      <th>gender</th>\n",
       "      <th>income_type</th>\n",
       "      <th>debt</th>\n",
       "      <th>total_income</th>\n",
       "      <th>purpose</th>\n",
       "    </tr>\n",
       "  </thead>\n",
       "  <tbody>\n",
       "    <tr>\n",
       "      <td>10684</td>\n",
       "      <td>0</td>\n",
       "      <td>2358.600502</td>\n",
       "      <td>24</td>\n",
       "      <td>неоконченное высшее</td>\n",
       "      <td>2</td>\n",
       "      <td>гражданский брак</td>\n",
       "      <td>1</td>\n",
       "      <td>xna</td>\n",
       "      <td>компаньон</td>\n",
       "      <td>0</td>\n",
       "      <td>203905.157261</td>\n",
       "      <td>покупка недвижимости</td>\n",
       "    </tr>\n",
       "  </tbody>\n",
       "</table>\n",
       "</div>"
      ],
      "text/plain": [
       "       children  days_employed  dob_years            education  education_id  \\\n",
       "10684         0    2358.600502         24  неоконченное высшее             2   \n",
       "\n",
       "          family_status  family_status_id gender income_type  debt  \\\n",
       "10684  гражданский брак                 1    xna   компаньон     0   \n",
       "\n",
       "        total_income               purpose  \n",
       "10684  203905.157261  покупка недвижимости  "
      ]
     },
     "execution_count": 23,
     "metadata": {},
     "output_type": "execute_result"
    }
   ],
   "source": [
    "statistics[statistics['gender'] == 'xna'].head(10)"
   ]
  },
  {
   "cell_type": "markdown",
   "id": "e1ff5b08",
   "metadata": {},
   "source": [
    "В столбце \"gender\" имеется всего одна строка со значением 'xna', удалим её, так как одна строка не должна значительно повлиять на выводы."
   ]
  },
  {
   "cell_type": "code",
   "execution_count": 24,
   "id": "fd2c2ac1",
   "metadata": {},
   "outputs": [],
   "source": [
    "statistics = statistics.drop(statistics[statistics['gender'] == 'xna'].index)"
   ]
  },
  {
   "cell_type": "markdown",
   "id": "348f457a",
   "metadata": {},
   "source": [
    "<div class=\"alert alert-warning\">\n",
    "<b>⚠️ Комментарий ревьюера v1:</b> \n",
    "<br>Мы не можем достоверно сказать, к какому полу ближе это значение. Поэтому его стоит или удалить или не трогать)\n",
    "</div>"
   ]
  },
  {
   "cell_type": "markdown",
   "id": "330075b8",
   "metadata": {},
   "source": [
    "<div class=\"alert alert-info\">\n",
    "<b>Комментарий студента:</b>\n",
    "<br> Удалил, одна строка не должна значительно повлиять на выводы.\n",
    "</div>"
   ]
  },
  {
   "cell_type": "markdown",
   "id": "78f2e521",
   "metadata": {},
   "source": [
    "<div class=\"alert alert-success\">\n",
    "<b>✔️ Комментарий ревьюера v2:</b>\n",
    "<br>👍\n",
    "</div>"
   ]
  },
  {
   "cell_type": "markdown",
   "id": "33eed269",
   "metadata": {},
   "source": [
    "Выводы по разделу \"Удаление дубликатов.\"\n",
    "\n",
    "Выполнено:\n",
    "1. Устранены явные и неявные дубликаты в данных,\n",
    "2. Выявлено большое количество односмысловых значений, записаных различным образом в столбец \"purpose\", в разделе \"Категоризация целей кредита\" произведём их объединение."
   ]
  },
  {
   "cell_type": "markdown",
   "id": "65affe65",
   "metadata": {},
   "source": [
    "### Категоризация целей кредита."
   ]
  },
  {
   "cell_type": "markdown",
   "id": "aeab9768",
   "metadata": {},
   "source": [
    "Объединим односмысловые значения в столбце \"purpose\" и сохраним их в новом столбце 'purpose_category', в который войдут следующие категории:\n",
    "1. 'операции с недвижимостью' - 'покупка жилья', 'операции с жильем', 'покупка жилья для семьи', 'покупка жилой недвижимости', 'покупка недвижимости', 'покупка коммерческой недвижимости', 'строительство собственной недвижимости', 'строительство недвижимости', 'операции с коммерческой недвижимостью', 'строительство жилой недвижимости', 'жилье', 'операции со своей недвижимостью', 'покупка своего жилья', 'операции с недвижимостью', 'покупка жилья для сдачи', 'ремонт жилью';\n",
    "2. 'операции с автомобилем' - 'приобретение автомобиля', 'на покупку подержанного автомобиля', 'на покупку своего автомобиля', 'автомобили', 'сделка с подержанным автомобилем', 'автомобиль', 'свой автомобиль', 'сделка с автомобилем', 'на покупку автомобиля';\n",
    "3. 'получение образования' - 'дополнительное образование', 'заняться образованием', 'получение образования', 'получение дополнительного образования', 'получение высшего образования', 'профильное образование', 'высшее образование', 'заняться высшим образованием';\n",
    "4. 'проведение свадьбы' - 'сыграть свадьбу', 'на проведение свадьбы'.\n",
    "\n",
    "Создадим для этого функцию 'purpose_category' и применим её к таблице."
   ]
  },
  {
   "cell_type": "code",
   "execution_count": 25,
   "id": "47858d20",
   "metadata": {
    "scrolled": true
   },
   "outputs": [
    {
     "data": {
      "text/html": [
       "<div>\n",
       "<style scoped>\n",
       "    .dataframe tbody tr th:only-of-type {\n",
       "        vertical-align: middle;\n",
       "    }\n",
       "\n",
       "    .dataframe tbody tr th {\n",
       "        vertical-align: top;\n",
       "    }\n",
       "\n",
       "    .dataframe thead th {\n",
       "        text-align: right;\n",
       "    }\n",
       "</style>\n",
       "<table border=\"1\" class=\"dataframe\">\n",
       "  <thead>\n",
       "    <tr style=\"text-align: right;\">\n",
       "      <th></th>\n",
       "      <th>children</th>\n",
       "      <th>days_employed</th>\n",
       "      <th>dob_years</th>\n",
       "      <th>education</th>\n",
       "      <th>education_id</th>\n",
       "      <th>family_status</th>\n",
       "      <th>family_status_id</th>\n",
       "      <th>gender</th>\n",
       "      <th>income_type</th>\n",
       "      <th>debt</th>\n",
       "      <th>total_income</th>\n",
       "      <th>purpose</th>\n",
       "      <th>purpose_category</th>\n",
       "    </tr>\n",
       "  </thead>\n",
       "  <tbody>\n",
       "    <tr>\n",
       "      <td>0</td>\n",
       "      <td>1</td>\n",
       "      <td>8437.673028</td>\n",
       "      <td>42</td>\n",
       "      <td>высшее</td>\n",
       "      <td>0</td>\n",
       "      <td>женат / замужем</td>\n",
       "      <td>0</td>\n",
       "      <td>f</td>\n",
       "      <td>сотрудник</td>\n",
       "      <td>0</td>\n",
       "      <td>253875.639453</td>\n",
       "      <td>покупка жилья</td>\n",
       "      <td>операции с недвижимостью</td>\n",
       "    </tr>\n",
       "    <tr>\n",
       "      <td>1</td>\n",
       "      <td>1</td>\n",
       "      <td>4024.803754</td>\n",
       "      <td>36</td>\n",
       "      <td>среднее</td>\n",
       "      <td>1</td>\n",
       "      <td>женат / замужем</td>\n",
       "      <td>0</td>\n",
       "      <td>f</td>\n",
       "      <td>сотрудник</td>\n",
       "      <td>0</td>\n",
       "      <td>112080.014102</td>\n",
       "      <td>приобретение автомобиля</td>\n",
       "      <td>операции с автомобилем</td>\n",
       "    </tr>\n",
       "    <tr>\n",
       "      <td>2</td>\n",
       "      <td>0</td>\n",
       "      <td>5623.422610</td>\n",
       "      <td>33</td>\n",
       "      <td>среднее</td>\n",
       "      <td>1</td>\n",
       "      <td>женат / замужем</td>\n",
       "      <td>0</td>\n",
       "      <td>m</td>\n",
       "      <td>сотрудник</td>\n",
       "      <td>0</td>\n",
       "      <td>145885.952297</td>\n",
       "      <td>покупка жилья</td>\n",
       "      <td>операции с недвижимостью</td>\n",
       "    </tr>\n",
       "    <tr>\n",
       "      <td>3</td>\n",
       "      <td>3</td>\n",
       "      <td>4124.747207</td>\n",
       "      <td>32</td>\n",
       "      <td>среднее</td>\n",
       "      <td>1</td>\n",
       "      <td>женат / замужем</td>\n",
       "      <td>0</td>\n",
       "      <td>m</td>\n",
       "      <td>сотрудник</td>\n",
       "      <td>0</td>\n",
       "      <td>267628.550329</td>\n",
       "      <td>дополнительное образование</td>\n",
       "      <td>получение образования</td>\n",
       "    </tr>\n",
       "    <tr>\n",
       "      <td>4</td>\n",
       "      <td>0</td>\n",
       "      <td>340266.072047</td>\n",
       "      <td>53</td>\n",
       "      <td>среднее</td>\n",
       "      <td>1</td>\n",
       "      <td>гражданский брак</td>\n",
       "      <td>1</td>\n",
       "      <td>f</td>\n",
       "      <td>пенсионер</td>\n",
       "      <td>0</td>\n",
       "      <td>158616.077870</td>\n",
       "      <td>сыграть свадьбу</td>\n",
       "      <td>проведение свадьбы</td>\n",
       "    </tr>\n",
       "    <tr>\n",
       "      <td>5</td>\n",
       "      <td>0</td>\n",
       "      <td>926.185831</td>\n",
       "      <td>27</td>\n",
       "      <td>высшее</td>\n",
       "      <td>0</td>\n",
       "      <td>гражданский брак</td>\n",
       "      <td>1</td>\n",
       "      <td>m</td>\n",
       "      <td>компаньон</td>\n",
       "      <td>0</td>\n",
       "      <td>255763.565419</td>\n",
       "      <td>покупка жилья</td>\n",
       "      <td>операции с недвижимостью</td>\n",
       "    </tr>\n",
       "    <tr>\n",
       "      <td>6</td>\n",
       "      <td>0</td>\n",
       "      <td>2879.202052</td>\n",
       "      <td>43</td>\n",
       "      <td>высшее</td>\n",
       "      <td>0</td>\n",
       "      <td>женат / замужем</td>\n",
       "      <td>0</td>\n",
       "      <td>f</td>\n",
       "      <td>компаньон</td>\n",
       "      <td>0</td>\n",
       "      <td>240525.971920</td>\n",
       "      <td>операции с жильем</td>\n",
       "      <td>операции с недвижимостью</td>\n",
       "    </tr>\n",
       "    <tr>\n",
       "      <td>7</td>\n",
       "      <td>0</td>\n",
       "      <td>152.779569</td>\n",
       "      <td>50</td>\n",
       "      <td>среднее</td>\n",
       "      <td>1</td>\n",
       "      <td>женат / замужем</td>\n",
       "      <td>0</td>\n",
       "      <td>m</td>\n",
       "      <td>сотрудник</td>\n",
       "      <td>0</td>\n",
       "      <td>135823.934197</td>\n",
       "      <td>образование</td>\n",
       "      <td>получение образования</td>\n",
       "    </tr>\n",
       "    <tr>\n",
       "      <td>8</td>\n",
       "      <td>2</td>\n",
       "      <td>6929.865299</td>\n",
       "      <td>35</td>\n",
       "      <td>высшее</td>\n",
       "      <td>0</td>\n",
       "      <td>гражданский брак</td>\n",
       "      <td>1</td>\n",
       "      <td>f</td>\n",
       "      <td>сотрудник</td>\n",
       "      <td>0</td>\n",
       "      <td>95856.832424</td>\n",
       "      <td>на проведение свадьбы</td>\n",
       "      <td>проведение свадьбы</td>\n",
       "    </tr>\n",
       "    <tr>\n",
       "      <td>9</td>\n",
       "      <td>0</td>\n",
       "      <td>2188.756445</td>\n",
       "      <td>41</td>\n",
       "      <td>среднее</td>\n",
       "      <td>1</td>\n",
       "      <td>женат / замужем</td>\n",
       "      <td>0</td>\n",
       "      <td>m</td>\n",
       "      <td>сотрудник</td>\n",
       "      <td>0</td>\n",
       "      <td>144425.938277</td>\n",
       "      <td>покупка жилья для семьи</td>\n",
       "      <td>операции с недвижимостью</td>\n",
       "    </tr>\n",
       "  </tbody>\n",
       "</table>\n",
       "</div>"
      ],
      "text/plain": [
       "   children  days_employed  dob_years education  education_id  \\\n",
       "0         1    8437.673028         42    высшее             0   \n",
       "1         1    4024.803754         36   среднее             1   \n",
       "2         0    5623.422610         33   среднее             1   \n",
       "3         3    4124.747207         32   среднее             1   \n",
       "4         0  340266.072047         53   среднее             1   \n",
       "5         0     926.185831         27    высшее             0   \n",
       "6         0    2879.202052         43    высшее             0   \n",
       "7         0     152.779569         50   среднее             1   \n",
       "8         2    6929.865299         35    высшее             0   \n",
       "9         0    2188.756445         41   среднее             1   \n",
       "\n",
       "      family_status  family_status_id gender income_type  debt   total_income  \\\n",
       "0   женат / замужем                 0      f   сотрудник     0  253875.639453   \n",
       "1   женат / замужем                 0      f   сотрудник     0  112080.014102   \n",
       "2   женат / замужем                 0      m   сотрудник     0  145885.952297   \n",
       "3   женат / замужем                 0      m   сотрудник     0  267628.550329   \n",
       "4  гражданский брак                 1      f   пенсионер     0  158616.077870   \n",
       "5  гражданский брак                 1      m   компаньон     0  255763.565419   \n",
       "6   женат / замужем                 0      f   компаньон     0  240525.971920   \n",
       "7   женат / замужем                 0      m   сотрудник     0  135823.934197   \n",
       "8  гражданский брак                 1      f   сотрудник     0   95856.832424   \n",
       "9   женат / замужем                 0      m   сотрудник     0  144425.938277   \n",
       "\n",
       "                      purpose          purpose_category  \n",
       "0               покупка жилья  операции с недвижимостью  \n",
       "1     приобретение автомобиля    операции с автомобилем  \n",
       "2               покупка жилья  операции с недвижимостью  \n",
       "3  дополнительное образование     получение образования  \n",
       "4             сыграть свадьбу        проведение свадьбы  \n",
       "5               покупка жилья  операции с недвижимостью  \n",
       "6           операции с жильем  операции с недвижимостью  \n",
       "7                 образование     получение образования  \n",
       "8       на проведение свадьбы        проведение свадьбы  \n",
       "9     покупка жилья для семьи  операции с недвижимостью  "
      ]
     },
     "execution_count": 25,
     "metadata": {},
     "output_type": "execute_result"
    }
   ],
   "source": [
    "def purpose_category(purpose):\n",
    "    if 'жил' in purpose:\n",
    "        return 'операции с недвижимостью'\n",
    "    elif 'недвиж' in purpose:\n",
    "        return 'операции с недвижимостью'\n",
    "    elif 'авто' in purpose:\n",
    "        return 'операции с автомобилем'\n",
    "    elif 'образ' in purpose:\n",
    "        return 'получение образования'\n",
    "    return 'проведение свадьбы'\n",
    "\n",
    "statistics['purpose_category'] = statistics['purpose'].apply(purpose_category)\n",
    "statistics.head(10)"
   ]
  },
  {
   "cell_type": "markdown",
   "id": "6f7d6318",
   "metadata": {},
   "source": [
    "Как видно из таблицы, категоризация целей кредита прошла успешно, создан дополнительный столбец 'purpose_category' и заполнен соответствующими значениями."
   ]
  },
  {
   "cell_type": "markdown",
   "id": "0aff295c",
   "metadata": {},
   "source": [
    "<div class=\"alert alert-success\">\n",
    "<b>✔️ Комментарий ревьюера v1:</b> \n",
    "<br>Основные цели кредита определены правильно! 👍\n",
    "</div>"
   ]
  },
  {
   "cell_type": "markdown",
   "id": "20e4228d",
   "metadata": {},
   "source": [
    "### Заполнение пропусков\n",
    "После устранения аномалий и дубликатов, грубо влияющих на статистику, произведём заполнение пропусков.\n",
    "Выполним следующие действия:\n",
    "1. Заполним пропуски в столбцах 'days_employed' и 'total_income' медианным значением;\n",
    "2. Замененим на медианное значение данные в столбце 'days_employed' (общий трудовой стаж в днях) более 300000 дней (смотри \"Проверка данных на аномалии и исправления\");\n",
    "3. Удилим столбец 'dob_years' (возраст клиента), так как он не используется в рамках исследования;\n",
    "4. Замененить на медианное значение данные в столбце 'children' (количество детей в семье) 20 детей (смотри \"Проверка данных на аномалии и исправления\")."
   ]
  },
  {
   "cell_type": "code",
   "execution_count": 26,
   "id": "1cfdbd61",
   "metadata": {},
   "outputs": [
    {
     "name": "stdout",
     "output_type": "stream",
     "text": [
      "<class 'pandas.core.frame.DataFrame'>\n",
      "Int64Index: 21453 entries, 0 to 21453\n",
      "Data columns (total 12 columns):\n",
      "children            21453 non-null float64\n",
      "days_employed       21453 non-null float64\n",
      "education           21453 non-null object\n",
      "education_id        21453 non-null int64\n",
      "family_status       21453 non-null object\n",
      "family_status_id    21453 non-null int64\n",
      "gender              21453 non-null object\n",
      "income_type         21453 non-null object\n",
      "debt                21453 non-null int64\n",
      "total_income        21453 non-null float64\n",
      "purpose             21453 non-null object\n",
      "purpose_category    21453 non-null object\n",
      "dtypes: float64(3), int64(3), object(6)\n",
      "memory usage: 2.1+ MB\n"
     ]
    }
   ],
   "source": [
    "# Замененим на медианное значение пропуски в столбце 'total_income' (доход).\n",
    "total_income_median = statistics['total_income'].median()\n",
    "statistics['total_income'] = statistics['total_income'].fillna(total_income_median)\n",
    "\n",
    "# Замененим на медианное значение данные в столбце 'days_employed' (общий трудовой стаж в днях) \n",
    "# более 300000 дней, а также пропуски.\n",
    "days_employed_median = statistics['days_employed'].median()\n",
    "statistics['days_employed'] = statistics['days_employed'].fillna(days_employed_median)\n",
    "statistics.loc[(statistics.days_employed > 300000), 'days_employed'] = days_employed_median\n",
    "\n",
    "# Удалим столбец 'dob_years' (возраст клиента)\n",
    "statistics = statistics.drop(columns='dob_years')\n",
    "\n",
    "# Замененить на медианное значение данные в столбце 'children' (количество детей в семье) 20 детей\n",
    "children_median = statistics['children'].median()\n",
    "statistics.loc[(statistics.children == 20), 'children'] = children_median\n",
    "\n",
    "statistics.info()"
   ]
  },
  {
   "cell_type": "markdown",
   "id": "364d021e",
   "metadata": {},
   "source": [
    "Выводы по разделу \"Заполнение пропусков.\"\n",
    "\n",
    "Выполнено:\n",
    "1. Заполнены пропуски в столбцах 'days_employed' и 'total_income' нулевым значением;\n",
    "2. Заменены на медианное значение данные в столбце 'days_employed' (общий трудовой стаж в днях) более 300000 дней;\n",
    "3. Удалён столбец 'dob_years' (возраст клиента);\n",
    "4. Заменены на медианное значение данные в столбце 'children' (количество детей в семье) 20 детей."
   ]
  },
  {
   "cell_type": "markdown",
   "id": "c696031b",
   "metadata": {},
   "source": [
    "<div class=\"alert alert-warning\">\n",
    "<b>⚠️ Комментарий ревьюера v1:</b> \n",
    "<br>Разбивай, пожалуйста, код на несколько ячеек, чтобы у тебя после стены кода не шла стена выводов. Каждое вычисление после которого следует выводы на экран должно быть в отдельной ячейке. Так будет более наглядно и проще комментировать твой код\n",
    "</div>"
   ]
  },
  {
   "cell_type": "markdown",
   "id": "f079238b",
   "metadata": {},
   "source": [
    "<div class=\"alert alert-info\">\n",
    "<b>Комментарий студента:</b>\n",
    "<br>В данном случае разбивать не стану, так как комментарии уже написаны. Но приму к сведению на будущее.\n",
    "</div>"
   ]
  },
  {
   "cell_type": "markdown",
   "id": "9151d536",
   "metadata": {},
   "source": [
    "<div class=\"alert alert-success\">\n",
    "<b>✔️ Комментарий ревьюера v2:</b>\n",
    "<br>👍\n",
    "</div>"
   ]
  },
  {
   "cell_type": "markdown",
   "id": "3e4153f7",
   "metadata": {},
   "source": [
    "<div class=\"alert alert-danger\">\n",
    "<b>❌ Комментарий ревьюера v1:</b> \n",
    "<br>По заданию необходимо заменить пропуски в столбцах  days_employed и total_income медианой\n",
    "</div>"
   ]
  },
  {
   "cell_type": "markdown",
   "id": "bfbab64c",
   "metadata": {},
   "source": [
    "<div class=\"alert alert-info\">\n",
    "<b>Комментарий студента:</b>\n",
    "<br> Заменил пропуски в столбцах days_employed и total_income медианой\n",
    "</div>"
   ]
  },
  {
   "cell_type": "markdown",
   "id": "c18b0780",
   "metadata": {},
   "source": [
    "<div class=\"alert alert-success\">\n",
    "<b>✔️ Комментарий ревьюера v2:</b> \n",
    "<br>Теперь всё верно! Также здесь можно заполнить пропуски более оптимальным способом - медианой, в зависимости от типа занятости. Для этого отлично подойдёт функция transform:\n",
    "\n",
    "    df['total_income'] = df['total_income'].fillna(df.groupby('income_type')['total_income'].transform(\"median\"))\n",
    "\n",
    "<br>Она создаёт новый столбец, который содержит столько же строк, сколько и изначальный, но только вместо оригинальных значений в каждой строке содержится медиана посчитанная по заданной группе. После этого вместо пропусков в оригинальном столбце мы подставляем значения из созданного столбца, то есть медианы в зависимости от группы.\n",
    "</div>"
   ]
  },
  {
   "cell_type": "markdown",
   "id": "85e6dd54",
   "metadata": {},
   "source": [
    "<div class=\"alert alert-success\">\n",
    "<b>✔️ Комментарий ревьюера v1:</b> \n",
    "<br>👏🏻👏🏻👏🏻 Отличная работа с аномальными значениями в столбце days_employed . Молодец!\n",
    "</div>"
   ]
  },
  {
   "cell_type": "markdown",
   "id": "5a40e2c9",
   "metadata": {},
   "source": [
    "<div class=\"alert alert-warning\">\n",
    "<b>⚠️ Комментарий ревьюера v1:</b> \n",
    "<br>dob_years - не стоит делать замену ради замены, очень важна аргументация, почему ты подставляешь именно такое значение и насколько оно реалистично. Если мы заполняем пропуски таким образом, то у нас могут появится студенты которым за 40, да это возможно, но маловероятно. Так как нулевых значений в этом столбце меньше 1%, то их можно либо удалить либо вообще не трогать, так как сам столбец нам не нужен для дальнейшего исследования\n",
    "</div>"
   ]
  },
  {
   "cell_type": "markdown",
   "id": "6cfbc842",
   "metadata": {},
   "source": [
    "<div class=\"alert alert-info\">\n",
    "<b>Комментарий студента:</b>\n",
    "<br> Принял решение удалить столбец, так как действително, он не используется в данном проекте.\n",
    "</div>"
   ]
  },
  {
   "cell_type": "markdown",
   "id": "bfa1d032",
   "metadata": {},
   "source": [
    "<div class=\"alert alert-success\">\n",
    "<b>✔️ Комментарий ревьюера v1:</b>\n",
    "<br>Children - отличное решение!\n",
    "</div>"
   ]
  },
  {
   "cell_type": "markdown",
   "id": "7e164e30",
   "metadata": {},
   "source": [
    "### Изменение типов данных."
   ]
  },
  {
   "cell_type": "markdown",
   "id": "5859c847",
   "metadata": {},
   "source": [
    "Произведём замену вещественного типа данных в столбцах 'days_employed' и 'total_income' на целочисленные."
   ]
  },
  {
   "cell_type": "code",
   "execution_count": 27,
   "id": "c56b2d8d",
   "metadata": {},
   "outputs": [
    {
     "name": "stdout",
     "output_type": "stream",
     "text": [
      "<class 'pandas.core.frame.DataFrame'>\n",
      "Int64Index: 21453 entries, 0 to 21453\n",
      "Data columns (total 12 columns):\n",
      "children            21453 non-null float64\n",
      "days_employed       21453 non-null int64\n",
      "education           21453 non-null object\n",
      "education_id        21453 non-null int64\n",
      "family_status       21453 non-null object\n",
      "family_status_id    21453 non-null int64\n",
      "gender              21453 non-null object\n",
      "income_type         21453 non-null object\n",
      "debt                21453 non-null int64\n",
      "total_income        21453 non-null int64\n",
      "purpose             21453 non-null object\n",
      "purpose_category    21453 non-null object\n",
      "dtypes: float64(1), int64(5), object(6)\n",
      "memory usage: 2.1+ MB\n"
     ]
    }
   ],
   "source": [
    "statistics['days_employed'] = statistics['days_employed'].astype('int')\n",
    "statistics['total_income'] = statistics['total_income'].astype('int')\n",
    "statistics.info()"
   ]
  },
  {
   "cell_type": "markdown",
   "id": "47596e5e",
   "metadata": {},
   "source": [
    "Выводы по разделу \"Изменение типов данных.\"\n",
    "\n",
    "Выполнено:\n",
    "1. Произведена замена вещественного типа данных на целочисленный в столбце 'days_employed';\n",
    "2. Произведена замена вещественного типа данных на целочисленный в столбце 'total_income'."
   ]
  },
  {
   "cell_type": "markdown",
   "id": "bc9a9abd",
   "metadata": {},
   "source": [
    "<div class=\"alert alert-success\">\n",
    "<b>✔️ Комментарий ревьюера v1:</b> \n",
    "<br>Тут всё верно!\n",
    "</div>"
   ]
  },
  {
   "cell_type": "markdown",
   "id": "74bc499c",
   "metadata": {},
   "source": [
    "### Формирование дополнительных датафреймов словарей, декомпозиция исходного датафрейма."
   ]
  },
  {
   "cell_type": "markdown",
   "id": "20912057",
   "metadata": {},
   "source": [
    "С целью оптимизации таблицы удалим из неё избыточную информацию, создав два датафрейма: \n",
    "1. для столбцов 'education_id' и 'education';\n",
    "2. для столбцов 'family_status_id' и 'family_status'."
   ]
  },
  {
   "cell_type": "code",
   "execution_count": 28,
   "id": "86f387a8",
   "metadata": {
    "scrolled": true
   },
   "outputs": [
    {
     "data": {
      "text/html": [
       "<div>\n",
       "<style scoped>\n",
       "    .dataframe tbody tr th:only-of-type {\n",
       "        vertical-align: middle;\n",
       "    }\n",
       "\n",
       "    .dataframe tbody tr th {\n",
       "        vertical-align: top;\n",
       "    }\n",
       "\n",
       "    .dataframe thead th {\n",
       "        text-align: right;\n",
       "    }\n",
       "</style>\n",
       "<table border=\"1\" class=\"dataframe\">\n",
       "  <thead>\n",
       "    <tr style=\"text-align: right;\">\n",
       "      <th></th>\n",
       "      <th>education_id</th>\n",
       "      <th>education</th>\n",
       "    </tr>\n",
       "  </thead>\n",
       "  <tbody>\n",
       "    <tr>\n",
       "      <td>0</td>\n",
       "      <td>0</td>\n",
       "      <td>высшее</td>\n",
       "    </tr>\n",
       "    <tr>\n",
       "      <td>1</td>\n",
       "      <td>1</td>\n",
       "      <td>среднее</td>\n",
       "    </tr>\n",
       "    <tr>\n",
       "      <td>2</td>\n",
       "      <td>2</td>\n",
       "      <td>неоконченное высшее</td>\n",
       "    </tr>\n",
       "    <tr>\n",
       "      <td>3</td>\n",
       "      <td>3</td>\n",
       "      <td>начальное</td>\n",
       "    </tr>\n",
       "    <tr>\n",
       "      <td>4</td>\n",
       "      <td>4</td>\n",
       "      <td>ученая степень</td>\n",
       "    </tr>\n",
       "  </tbody>\n",
       "</table>\n",
       "</div>"
      ],
      "text/plain": [
       "   education_id            education\n",
       "0             0               высшее\n",
       "1             1              среднее\n",
       "2             2  неоконченное высшее\n",
       "3             3            начальное\n",
       "4             4       ученая степень"
      ]
     },
     "metadata": {},
     "output_type": "display_data"
    },
    {
     "data": {
      "text/html": [
       "<div>\n",
       "<style scoped>\n",
       "    .dataframe tbody tr th:only-of-type {\n",
       "        vertical-align: middle;\n",
       "    }\n",
       "\n",
       "    .dataframe tbody tr th {\n",
       "        vertical-align: top;\n",
       "    }\n",
       "\n",
       "    .dataframe thead th {\n",
       "        text-align: right;\n",
       "    }\n",
       "</style>\n",
       "<table border=\"1\" class=\"dataframe\">\n",
       "  <thead>\n",
       "    <tr style=\"text-align: right;\">\n",
       "      <th></th>\n",
       "      <th>family_status_id</th>\n",
       "      <th>family_status</th>\n",
       "    </tr>\n",
       "  </thead>\n",
       "  <tbody>\n",
       "    <tr>\n",
       "      <td>0</td>\n",
       "      <td>0</td>\n",
       "      <td>женат / замужем</td>\n",
       "    </tr>\n",
       "    <tr>\n",
       "      <td>1</td>\n",
       "      <td>1</td>\n",
       "      <td>гражданский брак</td>\n",
       "    </tr>\n",
       "    <tr>\n",
       "      <td>2</td>\n",
       "      <td>2</td>\n",
       "      <td>вдовец / вдова</td>\n",
       "    </tr>\n",
       "    <tr>\n",
       "      <td>3</td>\n",
       "      <td>3</td>\n",
       "      <td>в разводе</td>\n",
       "    </tr>\n",
       "    <tr>\n",
       "      <td>4</td>\n",
       "      <td>4</td>\n",
       "      <td>не женат / не замужем</td>\n",
       "    </tr>\n",
       "  </tbody>\n",
       "</table>\n",
       "</div>"
      ],
      "text/plain": [
       "   family_status_id          family_status\n",
       "0                 0        женат / замужем\n",
       "1                 1       гражданский брак\n",
       "2                 2         вдовец / вдова\n",
       "3                 3              в разводе\n",
       "4                 4  не женат / не замужем"
      ]
     },
     "metadata": {},
     "output_type": "display_data"
    }
   ],
   "source": [
    "# Создание двух словарей 'education', 'family_status'\n",
    "try:\n",
    "    education = statistics[['education_id', 'education']]\n",
    "    education = education.drop_duplicates().reset_index(drop=True)\n",
    "    family_status = statistics[['family_status_id', 'family_status']]\n",
    "    family_status = family_status.drop_duplicates().reset_index(drop=True)\n",
    "    display(education, family_status)\n",
    "except KeyError:\n",
    "    print('Обращение к несуществующему столбцу. Перезапустите ядро блокнота и выполните скритп с начала.')"
   ]
  },
  {
   "cell_type": "markdown",
   "id": "30b8bbe3",
   "metadata": {},
   "source": [
    "Две таблицы-словаря создали.\n",
    "\n",
    "Далее удалим из исходной таблицы столбы:\n",
    "1. 'education';\n",
    "2. 'family_status'."
   ]
  },
  {
   "cell_type": "code",
   "execution_count": 29,
   "id": "10861d06",
   "metadata": {
    "scrolled": true
   },
   "outputs": [
    {
     "data": {
      "text/html": [
       "<div>\n",
       "<style scoped>\n",
       "    .dataframe tbody tr th:only-of-type {\n",
       "        vertical-align: middle;\n",
       "    }\n",
       "\n",
       "    .dataframe tbody tr th {\n",
       "        vertical-align: top;\n",
       "    }\n",
       "\n",
       "    .dataframe thead th {\n",
       "        text-align: right;\n",
       "    }\n",
       "</style>\n",
       "<table border=\"1\" class=\"dataframe\">\n",
       "  <thead>\n",
       "    <tr style=\"text-align: right;\">\n",
       "      <th></th>\n",
       "      <th>children</th>\n",
       "      <th>days_employed</th>\n",
       "      <th>education_id</th>\n",
       "      <th>family_status_id</th>\n",
       "      <th>gender</th>\n",
       "      <th>income_type</th>\n",
       "      <th>debt</th>\n",
       "      <th>total_income</th>\n",
       "      <th>purpose</th>\n",
       "      <th>purpose_category</th>\n",
       "    </tr>\n",
       "  </thead>\n",
       "  <tbody>\n",
       "    <tr>\n",
       "      <td>0</td>\n",
       "      <td>1.0</td>\n",
       "      <td>8437</td>\n",
       "      <td>0</td>\n",
       "      <td>0</td>\n",
       "      <td>f</td>\n",
       "      <td>сотрудник</td>\n",
       "      <td>0</td>\n",
       "      <td>253875</td>\n",
       "      <td>покупка жилья</td>\n",
       "      <td>операции с недвижимостью</td>\n",
       "    </tr>\n",
       "    <tr>\n",
       "      <td>1</td>\n",
       "      <td>1.0</td>\n",
       "      <td>4024</td>\n",
       "      <td>1</td>\n",
       "      <td>0</td>\n",
       "      <td>f</td>\n",
       "      <td>сотрудник</td>\n",
       "      <td>0</td>\n",
       "      <td>112080</td>\n",
       "      <td>приобретение автомобиля</td>\n",
       "      <td>операции с автомобилем</td>\n",
       "    </tr>\n",
       "    <tr>\n",
       "      <td>2</td>\n",
       "      <td>0.0</td>\n",
       "      <td>5623</td>\n",
       "      <td>1</td>\n",
       "      <td>0</td>\n",
       "      <td>m</td>\n",
       "      <td>сотрудник</td>\n",
       "      <td>0</td>\n",
       "      <td>145885</td>\n",
       "      <td>покупка жилья</td>\n",
       "      <td>операции с недвижимостью</td>\n",
       "    </tr>\n",
       "    <tr>\n",
       "      <td>3</td>\n",
       "      <td>3.0</td>\n",
       "      <td>4124</td>\n",
       "      <td>1</td>\n",
       "      <td>0</td>\n",
       "      <td>m</td>\n",
       "      <td>сотрудник</td>\n",
       "      <td>0</td>\n",
       "      <td>267628</td>\n",
       "      <td>дополнительное образование</td>\n",
       "      <td>получение образования</td>\n",
       "    </tr>\n",
       "    <tr>\n",
       "      <td>4</td>\n",
       "      <td>0.0</td>\n",
       "      <td>2194</td>\n",
       "      <td>1</td>\n",
       "      <td>1</td>\n",
       "      <td>f</td>\n",
       "      <td>пенсионер</td>\n",
       "      <td>0</td>\n",
       "      <td>158616</td>\n",
       "      <td>сыграть свадьбу</td>\n",
       "      <td>проведение свадьбы</td>\n",
       "    </tr>\n",
       "  </tbody>\n",
       "</table>\n",
       "</div>"
      ],
      "text/plain": [
       "   children  days_employed  education_id  family_status_id gender income_type  \\\n",
       "0       1.0           8437             0                 0      f   сотрудник   \n",
       "1       1.0           4024             1                 0      f   сотрудник   \n",
       "2       0.0           5623             1                 0      m   сотрудник   \n",
       "3       3.0           4124             1                 0      m   сотрудник   \n",
       "4       0.0           2194             1                 1      f   пенсионер   \n",
       "\n",
       "   debt  total_income                     purpose          purpose_category  \n",
       "0     0        253875               покупка жилья  операции с недвижимостью  \n",
       "1     0        112080     приобретение автомобиля    операции с автомобилем  \n",
       "2     0        145885               покупка жилья  операции с недвижимостью  \n",
       "3     0        267628  дополнительное образование     получение образования  \n",
       "4     0        158616             сыграть свадьбу        проведение свадьбы  "
      ]
     },
     "metadata": {},
     "output_type": "display_data"
    }
   ],
   "source": [
    "try:\n",
    "    statistics.pop('education')\n",
    "    statistics.pop('family_status')\n",
    "    display(statistics.head())\n",
    "except KeyError:\n",
    "    print('Обращение к несуществующему столбцу. Перезапустите ядро блокнота и выполните скритп с начала.')"
   ]
  },
  {
   "cell_type": "markdown",
   "id": "bf18f803",
   "metadata": {},
   "source": [
    "Выводы по разделу \"Формирование дополнительных датафреймов словарей, декомпозиция исходного датафрейма.\"\n",
    "\n",
    "Выполнено:\n",
    "1. созданы две таблицы-словаря: \"education\", \"family_status\";\n",
    "2. из исходной таблицы \"statistics\" удалены избыточные столбцы: \"education\", \"family_status\"."
   ]
  },
  {
   "cell_type": "markdown",
   "id": "56b14704",
   "metadata": {},
   "source": [
    "<div class=\"alert alert-success\">\n",
    "<b>✔️ Комментарий ревьюера v1:</b> \n",
    "<br>👌\n",
    "</div>"
   ]
  },
  {
   "cell_type": "markdown",
   "id": "b1c91aa5",
   "metadata": {},
   "source": [
    "### Категоризация дохода.\n",
    "Разобьём клиентов на категории по доходам, используем следующие диапазоны:\n",
    "1. 0-30000 -'E',\n",
    "2. 30001-50000 -'D',\n",
    "3. 50001-200000 -'C',\n",
    "4. 200001-1000000 -'B',\n",
    "5. 1000001 и выше -'A'.\n",
    "Полученные категории запишем в столбец 'total_income_category'.\n",
    "Создадим для этого функцию \"total_income_category\"."
   ]
  },
  {
   "cell_type": "code",
   "execution_count": 30,
   "id": "aef7a6b2",
   "metadata": {
    "scrolled": true
   },
   "outputs": [
    {
     "data": {
      "text/html": [
       "<div>\n",
       "<style scoped>\n",
       "    .dataframe tbody tr th:only-of-type {\n",
       "        vertical-align: middle;\n",
       "    }\n",
       "\n",
       "    .dataframe tbody tr th {\n",
       "        vertical-align: top;\n",
       "    }\n",
       "\n",
       "    .dataframe thead th {\n",
       "        text-align: right;\n",
       "    }\n",
       "</style>\n",
       "<table border=\"1\" class=\"dataframe\">\n",
       "  <thead>\n",
       "    <tr style=\"text-align: right;\">\n",
       "      <th></th>\n",
       "      <th>children</th>\n",
       "      <th>days_employed</th>\n",
       "      <th>education_id</th>\n",
       "      <th>family_status_id</th>\n",
       "      <th>gender</th>\n",
       "      <th>income_type</th>\n",
       "      <th>debt</th>\n",
       "      <th>total_income</th>\n",
       "      <th>purpose</th>\n",
       "      <th>purpose_category</th>\n",
       "      <th>total_income_category</th>\n",
       "    </tr>\n",
       "  </thead>\n",
       "  <tbody>\n",
       "    <tr>\n",
       "      <td>0</td>\n",
       "      <td>1.0</td>\n",
       "      <td>8437</td>\n",
       "      <td>0</td>\n",
       "      <td>0</td>\n",
       "      <td>f</td>\n",
       "      <td>сотрудник</td>\n",
       "      <td>0</td>\n",
       "      <td>253875</td>\n",
       "      <td>покупка жилья</td>\n",
       "      <td>операции с недвижимостью</td>\n",
       "      <td>B</td>\n",
       "    </tr>\n",
       "    <tr>\n",
       "      <td>1</td>\n",
       "      <td>1.0</td>\n",
       "      <td>4024</td>\n",
       "      <td>1</td>\n",
       "      <td>0</td>\n",
       "      <td>f</td>\n",
       "      <td>сотрудник</td>\n",
       "      <td>0</td>\n",
       "      <td>112080</td>\n",
       "      <td>приобретение автомобиля</td>\n",
       "      <td>операции с автомобилем</td>\n",
       "      <td>C</td>\n",
       "    </tr>\n",
       "    <tr>\n",
       "      <td>2</td>\n",
       "      <td>0.0</td>\n",
       "      <td>5623</td>\n",
       "      <td>1</td>\n",
       "      <td>0</td>\n",
       "      <td>m</td>\n",
       "      <td>сотрудник</td>\n",
       "      <td>0</td>\n",
       "      <td>145885</td>\n",
       "      <td>покупка жилья</td>\n",
       "      <td>операции с недвижимостью</td>\n",
       "      <td>C</td>\n",
       "    </tr>\n",
       "    <tr>\n",
       "      <td>3</td>\n",
       "      <td>3.0</td>\n",
       "      <td>4124</td>\n",
       "      <td>1</td>\n",
       "      <td>0</td>\n",
       "      <td>m</td>\n",
       "      <td>сотрудник</td>\n",
       "      <td>0</td>\n",
       "      <td>267628</td>\n",
       "      <td>дополнительное образование</td>\n",
       "      <td>получение образования</td>\n",
       "      <td>B</td>\n",
       "    </tr>\n",
       "    <tr>\n",
       "      <td>4</td>\n",
       "      <td>0.0</td>\n",
       "      <td>2194</td>\n",
       "      <td>1</td>\n",
       "      <td>1</td>\n",
       "      <td>f</td>\n",
       "      <td>пенсионер</td>\n",
       "      <td>0</td>\n",
       "      <td>158616</td>\n",
       "      <td>сыграть свадьбу</td>\n",
       "      <td>проведение свадьбы</td>\n",
       "      <td>C</td>\n",
       "    </tr>\n",
       "  </tbody>\n",
       "</table>\n",
       "</div>"
      ],
      "text/plain": [
       "   children  days_employed  education_id  family_status_id gender income_type  \\\n",
       "0       1.0           8437             0                 0      f   сотрудник   \n",
       "1       1.0           4024             1                 0      f   сотрудник   \n",
       "2       0.0           5623             1                 0      m   сотрудник   \n",
       "3       3.0           4124             1                 0      m   сотрудник   \n",
       "4       0.0           2194             1                 1      f   пенсионер   \n",
       "\n",
       "   debt  total_income                     purpose          purpose_category  \\\n",
       "0     0        253875               покупка жилья  операции с недвижимостью   \n",
       "1     0        112080     приобретение автомобиля    операции с автомобилем   \n",
       "2     0        145885               покупка жилья  операции с недвижимостью   \n",
       "3     0        267628  дополнительное образование     получение образования   \n",
       "4     0        158616             сыграть свадьбу        проведение свадьбы   \n",
       "\n",
       "  total_income_category  \n",
       "0                     B  \n",
       "1                     C  \n",
       "2                     C  \n",
       "3                     B  \n",
       "4                     C  "
      ]
     },
     "execution_count": 30,
     "metadata": {},
     "output_type": "execute_result"
    }
   ],
   "source": [
    "def total_income_category(total_income):\n",
    "    if total_income <= 30000:\n",
    "        return 'E'\n",
    "    elif 30001 <= total_income <= 50000:\n",
    "        return 'D'\n",
    "    elif 50001 <= total_income <= 200000:\n",
    "        return 'C'\n",
    "    elif 200001 <= total_income <= 1000000:\n",
    "        return 'B'\n",
    "    return 'A'\n",
    "\n",
    "statistics['total_income_category'] = statistics['total_income'].apply(total_income_category)\n",
    "\n",
    "statistics.head()"
   ]
  },
  {
   "cell_type": "markdown",
   "id": "e1898bb1",
   "metadata": {},
   "source": [
    "Выводы по разделу \"Категоризация дохода.\"\n",
    "\n",
    "Выполнена категоризация клиентов банка по доходам, категории занесены в столбец 'total_income_category'."
   ]
  },
  {
   "cell_type": "markdown",
   "id": "8cada4f2",
   "metadata": {},
   "source": [
    "<div class=\"alert alert-success\">\n",
    "<b>✔️ Комментарий ревьюера v1:</b> \n",
    "<br>Категоризация клиентов по уровню дохода произведена верно\n",
    "</div>"
   ]
  },
  {
   "cell_type": "markdown",
   "id": "d1440217",
   "metadata": {},
   "source": [
    "## Ответы на вопросы исследования."
   ]
  },
  {
   "cell_type": "markdown",
   "id": "12093126",
   "metadata": {},
   "source": [
    "### Вопрос 1: Есть ли зависимость между количеством детей и возвратом кредита в срок?\n",
    "Создадим сводную таблицу с группировкой по столбцу 'children' (количество детей) и вычислим для неё среднее значений столбца 'debt' (задолженность)."
   ]
  },
  {
   "cell_type": "code",
   "execution_count": 31,
   "id": "ef42f51f",
   "metadata": {},
   "outputs": [
    {
     "data": {
      "text/html": [
       "<div>\n",
       "<style scoped>\n",
       "    .dataframe tbody tr th:only-of-type {\n",
       "        vertical-align: middle;\n",
       "    }\n",
       "\n",
       "    .dataframe tbody tr th {\n",
       "        vertical-align: top;\n",
       "    }\n",
       "\n",
       "    .dataframe thead th {\n",
       "        text-align: right;\n",
       "    }\n",
       "</style>\n",
       "<table border=\"1\" class=\"dataframe\">\n",
       "  <thead>\n",
       "    <tr style=\"text-align: right;\">\n",
       "      <th></th>\n",
       "      <th>debt</th>\n",
       "    </tr>\n",
       "    <tr>\n",
       "      <th>children</th>\n",
       "      <th></th>\n",
       "    </tr>\n",
       "  </thead>\n",
       "  <tbody>\n",
       "    <tr>\n",
       "      <td>0.0</td>\n",
       "      <td>0.075604</td>\n",
       "    </tr>\n",
       "    <tr>\n",
       "      <td>1.0</td>\n",
       "      <td>0.091658</td>\n",
       "    </tr>\n",
       "    <tr>\n",
       "      <td>2.0</td>\n",
       "      <td>0.094542</td>\n",
       "    </tr>\n",
       "    <tr>\n",
       "      <td>3.0</td>\n",
       "      <td>0.081818</td>\n",
       "    </tr>\n",
       "    <tr>\n",
       "      <td>4.0</td>\n",
       "      <td>0.097561</td>\n",
       "    </tr>\n",
       "    <tr>\n",
       "      <td>5.0</td>\n",
       "      <td>0.000000</td>\n",
       "    </tr>\n",
       "  </tbody>\n",
       "</table>\n",
       "</div>"
      ],
      "text/plain": [
       "              debt\n",
       "children          \n",
       "0.0       0.075604\n",
       "1.0       0.091658\n",
       "2.0       0.094542\n",
       "3.0       0.081818\n",
       "4.0       0.097561\n",
       "5.0       0.000000"
      ]
     },
     "execution_count": 31,
     "metadata": {},
     "output_type": "execute_result"
    }
   ],
   "source": [
    "statistics.pivot_table(index=['children'], values='debt', aggfunc='mean')"
   ]
  },
  {
   "cell_type": "code",
   "execution_count": 32,
   "id": "2cb16bd2",
   "metadata": {},
   "outputs": [
    {
     "name": "stdout",
     "output_type": "stream",
     "text": [
      "Количество клиентов у которых 5 детей: 9\n"
     ]
    }
   ],
   "source": [
    "print('Количество клиентов у которых 5 детей:', statistics[statistics['children'] == 5]['children'].count())"
   ]
  },
  {
   "cell_type": "markdown",
   "id": "03922def",
   "metadata": {},
   "source": [
    "### Вывод 1: Есть ли зависимость между количеством детей и возвратом кредита в срок?\n",
    "Зависимость присутствует.\n",
    "\n",
    "Как видно из сводной таблицы наилучшая вероятность возврата кредита у клиентов без детей.\n",
    "\n",
    "Стоит обратить внимание на полные возвраты кретида для клиентов с 5-ю детьми, вероятно это связано с малой выборкой по данным клиентам, всего 9 человек."
   ]
  },
  {
   "cell_type": "markdown",
   "id": "582c4d68",
   "metadata": {},
   "source": [
    "<div class=\"alert alert-success\">\n",
    "<b>✔️ Комментарий ревьюера v1:</b> \n",
    "<br>Верно! Отлично, что ты используешь свободную таблицу\n",
    "</div>"
   ]
  },
  {
   "cell_type": "markdown",
   "id": "8db125bd",
   "metadata": {},
   "source": [
    "### Вопрос 2: Есть ли зависимость между семейным положением и возвратом кредита в срок?\n",
    "Создадим сводную таблицу с группировкой столбцу 'family_status_id' (семейное положение) и вычислим для неё среднее значений столбца 'debt' (задолженность)."
   ]
  },
  {
   "cell_type": "code",
   "execution_count": 33,
   "id": "e369aa6d",
   "metadata": {},
   "outputs": [
    {
     "data": {
      "text/html": [
       "<div>\n",
       "<style scoped>\n",
       "    .dataframe tbody tr th:only-of-type {\n",
       "        vertical-align: middle;\n",
       "    }\n",
       "\n",
       "    .dataframe tbody tr th {\n",
       "        vertical-align: top;\n",
       "    }\n",
       "\n",
       "    .dataframe thead th {\n",
       "        text-align: right;\n",
       "    }\n",
       "</style>\n",
       "<table border=\"1\" class=\"dataframe\">\n",
       "  <thead>\n",
       "    <tr style=\"text-align: right;\">\n",
       "      <th></th>\n",
       "      <th>family_status_id</th>\n",
       "      <th>debt</th>\n",
       "      <th>family_status</th>\n",
       "    </tr>\n",
       "  </thead>\n",
       "  <tbody>\n",
       "    <tr>\n",
       "      <td>0</td>\n",
       "      <td>0</td>\n",
       "      <td>0.075452</td>\n",
       "      <td>женат / замужем</td>\n",
       "    </tr>\n",
       "    <tr>\n",
       "      <td>1</td>\n",
       "      <td>1</td>\n",
       "      <td>0.093494</td>\n",
       "      <td>гражданский брак</td>\n",
       "    </tr>\n",
       "    <tr>\n",
       "      <td>2</td>\n",
       "      <td>2</td>\n",
       "      <td>0.065693</td>\n",
       "      <td>вдовец / вдова</td>\n",
       "    </tr>\n",
       "    <tr>\n",
       "      <td>3</td>\n",
       "      <td>3</td>\n",
       "      <td>0.071130</td>\n",
       "      <td>в разводе</td>\n",
       "    </tr>\n",
       "    <tr>\n",
       "      <td>4</td>\n",
       "      <td>4</td>\n",
       "      <td>0.097509</td>\n",
       "      <td>не женат / не замужем</td>\n",
       "    </tr>\n",
       "  </tbody>\n",
       "</table>\n",
       "</div>"
      ],
      "text/plain": [
       "   family_status_id      debt          family_status\n",
       "0                 0  0.075452        женат / замужем\n",
       "1                 1  0.093494       гражданский брак\n",
       "2                 2  0.065693         вдовец / вдова\n",
       "3                 3  0.071130              в разводе\n",
       "4                 4  0.097509  не женат / не замужем"
      ]
     },
     "execution_count": 33,
     "metadata": {},
     "output_type": "execute_result"
    }
   ],
   "source": [
    "pivot_family_status = statistics.pivot_table(index=['family_status_id'], values='debt', aggfunc='mean')\n",
    "pivot_family_status.merge(family_status, on='family_status_id')"
   ]
  },
  {
   "cell_type": "markdown",
   "id": "f5d1a9de",
   "metadata": {},
   "source": [
    "### Вывод 2: Есть ли зависимость между семейным положением и возвратом кредита в срок?\n",
    "Зависимость присутствует.\n",
    "\n",
    "Как видно из сводной таблицы наилучшая вероятность возврата кредита у клиентов со статусом 'вдовец / вдова', а худшая статистика у клиентов со статусом 'не женат / не замужем'."
   ]
  },
  {
   "cell_type": "markdown",
   "id": "6c80f648",
   "metadata": {},
   "source": [
    "<div class=\"alert alert-success\">\n",
    "<b>✔️ Комментарий ревьюера v1:</b> \n",
    "<br>Согласен! Идём дальше)\n",
    "</div>"
   ]
  },
  {
   "cell_type": "markdown",
   "id": "04cca1ad",
   "metadata": {},
   "source": [
    "### Вопрос 3: Есть ли зависимость между уровнем дохода и возвратом кредита в срок?\n",
    "Создадим сводную таблицу с группировкой по столбцу 'total_income_category' (категория уровня дохода) и вычислим для неё среднее значений столбца 'debt' (задолженность)."
   ]
  },
  {
   "cell_type": "code",
   "execution_count": 34,
   "id": "bcc7422a",
   "metadata": {},
   "outputs": [
    {
     "data": {
      "text/html": [
       "<div>\n",
       "<style scoped>\n",
       "    .dataframe tbody tr th:only-of-type {\n",
       "        vertical-align: middle;\n",
       "    }\n",
       "\n",
       "    .dataframe tbody tr th {\n",
       "        vertical-align: top;\n",
       "    }\n",
       "\n",
       "    .dataframe thead th {\n",
       "        text-align: right;\n",
       "    }\n",
       "</style>\n",
       "<table border=\"1\" class=\"dataframe\">\n",
       "  <thead>\n",
       "    <tr style=\"text-align: right;\">\n",
       "      <th></th>\n",
       "      <th>debt</th>\n",
       "    </tr>\n",
       "    <tr>\n",
       "      <th>total_income_category</th>\n",
       "      <th></th>\n",
       "    </tr>\n",
       "  </thead>\n",
       "  <tbody>\n",
       "    <tr>\n",
       "      <td>A</td>\n",
       "      <td>0.080000</td>\n",
       "    </tr>\n",
       "    <tr>\n",
       "      <td>B</td>\n",
       "      <td>0.070635</td>\n",
       "    </tr>\n",
       "    <tr>\n",
       "      <td>C</td>\n",
       "      <td>0.084915</td>\n",
       "    </tr>\n",
       "    <tr>\n",
       "      <td>D</td>\n",
       "      <td>0.060000</td>\n",
       "    </tr>\n",
       "    <tr>\n",
       "      <td>E</td>\n",
       "      <td>0.090909</td>\n",
       "    </tr>\n",
       "  </tbody>\n",
       "</table>\n",
       "</div>"
      ],
      "text/plain": [
       "                           debt\n",
       "total_income_category          \n",
       "A                      0.080000\n",
       "B                      0.070635\n",
       "C                      0.084915\n",
       "D                      0.060000\n",
       "E                      0.090909"
      ]
     },
     "execution_count": 34,
     "metadata": {},
     "output_type": "execute_result"
    }
   ],
   "source": [
    "statistics.pivot_table(index=['total_income_category'], values='debt', aggfunc='mean')"
   ]
  },
  {
   "cell_type": "markdown",
   "id": "0c37013c",
   "metadata": {},
   "source": [
    "### Вывод 3: Есть ли зависимость между уровнем дохода и возвратом кредита в срок??\n",
    "Зависимость присутствует, при этом зависимость не носит линейный характер.\n",
    "\n",
    "Как видно из сводной таблицы наилучшая вероятность возврата кредита у клиентов из категории \"D\" с доходом от 30001 до 50000, а худшая статистика у клиентов из категории \"Е\" с доходом до 30000."
   ]
  },
  {
   "cell_type": "markdown",
   "id": "abe9f35a",
   "metadata": {},
   "source": [
    "<div class=\"alert alert-success\">\n",
    "<b>✔️ Комментарий ревьюера v1:</b> \n",
    "<br>Тут всё правильно\n",
    "</div>"
   ]
  },
  {
   "cell_type": "markdown",
   "id": "b2a33f3c",
   "metadata": {},
   "source": [
    "### Вопрос 4: Как разные цели кредита влияют на его возврат в срок?\n",
    "Создадим сводную таблицу с группировкой по столбцу 'purpose_category' (категория целей) и вычислим для неё среднее значений столбца 'debt' (задолженность)."
   ]
  },
  {
   "cell_type": "code",
   "execution_count": 35,
   "id": "395cf71e",
   "metadata": {},
   "outputs": [
    {
     "data": {
      "text/html": [
       "<div>\n",
       "<style scoped>\n",
       "    .dataframe tbody tr th:only-of-type {\n",
       "        vertical-align: middle;\n",
       "    }\n",
       "\n",
       "    .dataframe tbody tr th {\n",
       "        vertical-align: top;\n",
       "    }\n",
       "\n",
       "    .dataframe thead th {\n",
       "        text-align: right;\n",
       "    }\n",
       "</style>\n",
       "<table border=\"1\" class=\"dataframe\">\n",
       "  <thead>\n",
       "    <tr style=\"text-align: right;\">\n",
       "      <th></th>\n",
       "      <th>debt</th>\n",
       "    </tr>\n",
       "    <tr>\n",
       "      <th>purpose_category</th>\n",
       "      <th></th>\n",
       "    </tr>\n",
       "  </thead>\n",
       "  <tbody>\n",
       "    <tr>\n",
       "      <td>операции с автомобилем</td>\n",
       "      <td>0.093590</td>\n",
       "    </tr>\n",
       "    <tr>\n",
       "      <td>операции с недвижимостью</td>\n",
       "      <td>0.072340</td>\n",
       "    </tr>\n",
       "    <tr>\n",
       "      <td>получение образования</td>\n",
       "      <td>0.092200</td>\n",
       "    </tr>\n",
       "    <tr>\n",
       "      <td>проведение свадьбы</td>\n",
       "      <td>0.080034</td>\n",
       "    </tr>\n",
       "  </tbody>\n",
       "</table>\n",
       "</div>"
      ],
      "text/plain": [
       "                              debt\n",
       "purpose_category                  \n",
       "операции с автомобилем    0.093590\n",
       "операции с недвижимостью  0.072340\n",
       "получение образования     0.092200\n",
       "проведение свадьбы        0.080034"
      ]
     },
     "execution_count": 35,
     "metadata": {},
     "output_type": "execute_result"
    }
   ],
   "source": [
    "statistics.pivot_table(index=['purpose_category'], values='debt', aggfunc='mean')"
   ]
  },
  {
   "cell_type": "markdown",
   "id": "e25b8ea4",
   "metadata": {},
   "source": [
    "### Вывод 4: Как разные цели кредита влияют на его возврат в срок?\n",
    "Зависимость присутствует.\n",
    "\n",
    "Как видно из сводной таблицы наилучшая вероятность возврата кредита у клиентов совершающих операции с недвижимостью, а худшая статистика у клиентов берущих средства на автомобиль и образование."
   ]
  },
  {
   "cell_type": "markdown",
   "id": "c9033398",
   "metadata": {},
   "source": [
    "<div class=\"alert alert-success\">\n",
    "<b>✔️ Комментарий ревьюера v1:</b>\n",
    "<br>Абсолютно верно!\n",
    "</div>"
   ]
  },
  {
   "cell_type": "markdown",
   "id": "eb3c43a2",
   "metadata": {},
   "source": [
    "## Общий вывод:"
   ]
  },
  {
   "cell_type": "markdown",
   "id": "9dde950d",
   "metadata": {},
   "source": [
    "В ходе исследования был произведен анализ статистических данных клиентов полученных от банка.\n",
    "Предварительно данные были почищены от ошибок, дубликотов и аномалий.\n",
    "Результаты исследования:\n",
    "1. Зависимость между количеством детей и возвратом кредита в срок присутствует, наименьшая вероятность просрочки кредита у клиентов без детей и составляет 7,56 %.\n",
    "2. Зависимость между семейным положением и возвратом кредита в срок присутствует, наименьшая вероятность просрочки кредита у клиентов со статусом 'вдовец / вдова' и составляет 6,57 %, а худшая статистика у клиентов со статусом 'не женат / не замужем' составляет 9,75 %.\n",
    "3. Зависимость между уровнем дохода и возвратом кредита в срок присутствует, при этом зависимость не носит линейный характер. Наименьшая вероятность просрочки кредита у клиентов с доходом от 30001 до 50000 и составляет 6 %, а худшая статистика у клиентов с доходом до 30000 и составляет 9,1 %.\n",
    "4. Зависимость между целью кредита и возвратом кредита в срок присутствует, наименьшая вероятность просрочки кредита у клиентов совершающих операции с недвижимостью 7,23 %, а худшая статистика у клиентов берущих средства на автомобиль и образование, 9,36 % и 9,22 % соответственно.\n",
    "\n",
    "В ходе подготовки данных были выявлены значительные ошибки в данных, особенно в значениях трудового стажа и дохода, данная информация передана в технический отдел."
   ]
  },
  {
   "cell_type": "markdown",
   "id": "a44912ec",
   "metadata": {},
   "source": [
    "<div class=\"alert alert-success\">\n",
    "<b>✔️ Комментарий ревьюера v1:</b> \n",
    "<br>Общий вывод верный 👍\n",
    "</div>"
   ]
  },
  {
   "cell_type": "markdown",
   "id": "12fb8bd8",
   "metadata": {},
   "source": [
    "<div class=\"alert alert-danger\">\n",
    "<b>❌ Итоговый комментарий ревьюера v1:</b> \n",
    "<br>Ты хорошо потрудился, большая часть работы сделана, но остаётся внести следующие правки:\n",
    "<br>- корректно провести замену пропусков в столбцах total_income и days_employed\n",
    "</div>"
   ]
  },
  {
   "cell_type": "markdown",
   "id": "9b02e2ca",
   "metadata": {},
   "source": [
    "<div class=\"alert alert-info\">\n",
    "<b>Комментарий студента:</b>\n",
    "<br> Заменил пропуски на медианное значение в столбцах total_income и days_employed.\n",
    "<br> Данное изменение повлияло на результат исследования, а именно зависимость возврата кредита от дохода, внёс соответствующие правки в выводе.\n",
    "</div>"
   ]
  },
  {
   "cell_type": "markdown",
   "id": "69a88e7a",
   "metadata": {},
   "source": [
    "<div class=\"alert alert-success\">\n",
    "<b>✔️ Комментарий ревьюера v1:</b> \n",
    "<br>Отличная работа 👍\n",
    "</div>"
   ]
  },
  {
   "cell_type": "markdown",
   "id": "387b2e03",
   "metadata": {},
   "source": [
    "<div class=\"alert alert-success\">\n",
    "<b>✔️ Итоговый комментарий ревьюера v2:</b>\n",
    "<br>Ты проделал большую работу! У тебя точные выводы с хорошей аргументацией. Здорово, что ты пишешь свои рассуждения и предположения - это помогает видеть ход твоей мысли. Отдельно хочу выделить аккуратность и структурированность твоей работы. Рад был поработать над проверкой твоего проекта! Желаю удачи в дальнейшем обучении! 😉\n",
    "</div>"
   ]
  }
 ],
 "metadata": {
  "ExecuteTimeLog": [
   {
    "duration": 1545,
    "start_time": "2022-02-25T08:52:09.840Z"
   },
   {
    "duration": 165,
    "start_time": "2022-02-25T08:52:11.388Z"
   },
   {
    "duration": 385,
    "start_time": "2022-02-25T08:52:11.556Z"
   },
   {
    "duration": 670,
    "start_time": "2022-02-25T08:52:11.275Z"
   },
   {
    "duration": 666,
    "start_time": "2022-02-25T08:52:11.281Z"
   },
   {
    "duration": 666,
    "start_time": "2022-02-25T08:52:11.283Z"
   },
   {
    "duration": 667,
    "start_time": "2022-02-25T08:52:11.284Z"
   },
   {
    "duration": 666,
    "start_time": "2022-02-25T08:52:11.286Z"
   },
   {
    "duration": 662,
    "start_time": "2022-02-25T08:52:11.291Z"
   },
   {
    "duration": 662,
    "start_time": "2022-02-25T08:52:11.293Z"
   },
   {
    "duration": 662,
    "start_time": "2022-02-25T08:52:11.295Z"
   },
   {
    "duration": 661,
    "start_time": "2022-02-25T08:52:11.297Z"
   },
   {
    "duration": 660,
    "start_time": "2022-02-25T08:52:11.299Z"
   },
   {
    "duration": 650,
    "start_time": "2022-02-25T08:52:11.311Z"
   },
   {
    "duration": 648,
    "start_time": "2022-02-25T08:52:11.314Z"
   },
   {
    "duration": 647,
    "start_time": "2022-02-25T08:52:11.317Z"
   },
   {
    "duration": 647,
    "start_time": "2022-02-25T08:52:11.319Z"
   },
   {
    "duration": 644,
    "start_time": "2022-02-25T08:52:11.324Z"
   },
   {
    "duration": 643,
    "start_time": "2022-02-25T08:52:11.326Z"
   },
   {
    "duration": 643,
    "start_time": "2022-02-25T08:52:11.328Z"
   },
   {
    "duration": 644,
    "start_time": "2022-02-25T08:52:11.329Z"
   },
   {
    "duration": 639,
    "start_time": "2022-02-25T08:52:11.335Z"
   },
   {
    "duration": 639,
    "start_time": "2022-02-25T08:52:11.337Z"
   },
   {
    "duration": 636,
    "start_time": "2022-02-25T08:52:11.341Z"
   },
   {
    "duration": 637,
    "start_time": "2022-02-25T08:52:11.342Z"
   },
   {
    "duration": 637,
    "start_time": "2022-02-25T08:52:11.344Z"
   },
   {
    "duration": 637,
    "start_time": "2022-02-25T08:52:11.345Z"
   },
   {
    "duration": 637,
    "start_time": "2022-02-25T08:52:11.347Z"
   },
   {
    "duration": 638,
    "start_time": "2022-02-25T08:52:11.348Z"
   },
   {
    "duration": 638,
    "start_time": "2022-02-25T08:52:11.350Z"
   },
   {
    "duration": 638,
    "start_time": "2022-02-25T08:52:11.351Z"
   },
   {
    "duration": 611,
    "start_time": "2022-02-25T08:52:11.380Z"
   },
   {
    "duration": 608,
    "start_time": "2022-02-25T08:52:11.385Z"
   },
   {
    "duration": 1803,
    "start_time": "2022-02-25T08:52:43.892Z"
   },
   {
    "duration": 80,
    "start_time": "2022-02-25T08:52:45.698Z"
   },
   {
    "duration": 14,
    "start_time": "2022-02-25T08:52:45.781Z"
   },
   {
    "duration": 8,
    "start_time": "2022-02-25T08:52:45.799Z"
   },
   {
    "duration": 52,
    "start_time": "2022-02-25T08:52:45.810Z"
   },
   {
    "duration": 19,
    "start_time": "2022-02-25T08:52:45.866Z"
   },
   {
    "duration": 13,
    "start_time": "2022-02-25T08:52:45.887Z"
   },
   {
    "duration": 9,
    "start_time": "2022-02-25T08:52:45.904Z"
   },
   {
    "duration": 472,
    "start_time": "2022-02-25T08:52:45.916Z"
   },
   {
    "duration": 674,
    "start_time": "2022-02-25T08:52:45.718Z"
   },
   {
    "duration": 673,
    "start_time": "2022-02-25T08:52:45.720Z"
   },
   {
    "duration": 673,
    "start_time": "2022-02-25T08:52:45.721Z"
   },
   {
    "duration": 672,
    "start_time": "2022-02-25T08:52:45.723Z"
   },
   {
    "duration": 672,
    "start_time": "2022-02-25T08:52:45.724Z"
   },
   {
    "duration": 670,
    "start_time": "2022-02-25T08:52:45.727Z"
   },
   {
    "duration": 668,
    "start_time": "2022-02-25T08:52:45.731Z"
   },
   {
    "duration": 668,
    "start_time": "2022-02-25T08:52:45.732Z"
   },
   {
    "duration": 668,
    "start_time": "2022-02-25T08:52:45.733Z"
   },
   {
    "duration": 668,
    "start_time": "2022-02-25T08:52:45.734Z"
   },
   {
    "duration": 664,
    "start_time": "2022-02-25T08:52:45.740Z"
   },
   {
    "duration": 665,
    "start_time": "2022-02-25T08:52:45.741Z"
   },
   {
    "duration": 662,
    "start_time": "2022-02-25T08:52:45.745Z"
   },
   {
    "duration": 661,
    "start_time": "2022-02-25T08:52:45.747Z"
   },
   {
    "duration": 660,
    "start_time": "2022-02-25T08:52:45.749Z"
   },
   {
    "duration": 661,
    "start_time": "2022-02-25T08:52:45.750Z"
   },
   {
    "duration": 656,
    "start_time": "2022-02-25T08:52:45.756Z"
   },
   {
    "duration": 638,
    "start_time": "2022-02-25T08:52:45.775Z"
   },
   {
    "duration": 635,
    "start_time": "2022-02-25T08:52:45.780Z"
   },
   {
    "duration": 635,
    "start_time": "2022-02-25T08:52:45.781Z"
   },
   {
    "duration": 633,
    "start_time": "2022-02-25T08:52:45.784Z"
   },
   {
    "duration": 633,
    "start_time": "2022-02-25T08:52:45.785Z"
   },
   {
    "duration": 632,
    "start_time": "2022-02-25T08:52:45.787Z"
   },
   {
    "duration": 623,
    "start_time": "2022-02-25T08:52:45.798Z"
   },
   {
    "duration": 693876,
    "start_time": "2022-02-25T09:37:29.682Z"
   },
   {
    "duration": 719,
    "start_time": "2022-02-25T09:52:16.624Z"
   },
   {
    "duration": 5,
    "start_time": "2022-02-25T09:52:44.260Z"
   },
   {
    "duration": 6,
    "start_time": "2022-02-25T09:53:41.683Z"
   },
   {
    "duration": 827,
    "start_time": "2022-02-25T10:03:56.160Z"
   },
   {
    "duration": 313,
    "start_time": "2022-02-25T11:17:31.808Z"
   },
   {
    "duration": 452,
    "start_time": "2022-02-25T11:18:55.855Z"
   },
   {
    "duration": 310,
    "start_time": "2022-02-25T11:19:14.511Z"
   },
   {
    "duration": 331,
    "start_time": "2022-02-25T11:19:29.261Z"
   },
   {
    "duration": 343,
    "start_time": "2022-02-25T11:20:07.630Z"
   },
   {
    "duration": 378309,
    "start_time": "2022-02-25T11:24:06.428Z"
   },
   {
    "duration": 427,
    "start_time": "2022-02-25T11:31:55.903Z"
   },
   {
    "duration": 611,
    "start_time": "2022-02-25T11:32:00.669Z"
   },
   {
    "duration": 926,
    "start_time": "2022-02-25T11:32:46.720Z"
   },
   {
    "duration": 588,
    "start_time": "2022-02-25T11:33:19.168Z"
   },
   {
    "duration": 584,
    "start_time": "2022-02-25T11:33:24.617Z"
   },
   {
    "duration": 437,
    "start_time": "2022-02-25T11:33:46.239Z"
   },
   {
    "duration": 473,
    "start_time": "2022-02-25T11:33:49.204Z"
   },
   {
    "duration": 459,
    "start_time": "2022-02-25T11:34:00.888Z"
   },
   {
    "duration": 1449,
    "start_time": "2022-02-25T11:34:47.244Z"
   },
   {
    "duration": 79,
    "start_time": "2022-02-25T11:34:48.696Z"
   },
   {
    "duration": 15,
    "start_time": "2022-02-25T11:34:48.778Z"
   },
   {
    "duration": 7,
    "start_time": "2022-02-25T11:34:48.797Z"
   },
   {
    "duration": 19,
    "start_time": "2022-02-25T11:34:48.807Z"
   },
   {
    "duration": 18,
    "start_time": "2022-02-25T11:34:48.863Z"
   },
   {
    "duration": 11,
    "start_time": "2022-02-25T11:34:48.884Z"
   },
   {
    "duration": 12,
    "start_time": "2022-02-25T11:34:48.898Z"
   },
   {
    "duration": 471,
    "start_time": "2022-02-25T11:34:48.916Z"
   },
   {
    "duration": 450,
    "start_time": "2022-02-25T11:34:49.392Z"
   },
   {
    "duration": 468,
    "start_time": "2022-02-25T11:34:49.845Z"
   },
   {
    "duration": 5,
    "start_time": "2022-02-25T11:34:50.315Z"
   },
   {
    "duration": 543,
    "start_time": "2022-02-25T11:34:50.322Z"
   },
   {
    "duration": 467,
    "start_time": "2022-02-25T11:34:50.401Z"
   },
   {
    "duration": 466,
    "start_time": "2022-02-25T11:34:50.404Z"
   },
   {
    "duration": 465,
    "start_time": "2022-02-25T11:34:50.406Z"
   },
   {
    "duration": 465,
    "start_time": "2022-02-25T11:34:50.407Z"
   },
   {
    "duration": 465,
    "start_time": "2022-02-25T11:34:50.409Z"
   },
   {
    "duration": 462,
    "start_time": "2022-02-25T11:34:50.414Z"
   },
   {
    "duration": 458,
    "start_time": "2022-02-25T11:34:50.420Z"
   },
   {
    "duration": 458,
    "start_time": "2022-02-25T11:34:50.421Z"
   },
   {
    "duration": 458,
    "start_time": "2022-02-25T11:34:50.423Z"
   },
   {
    "duration": 458,
    "start_time": "2022-02-25T11:34:50.424Z"
   },
   {
    "duration": 458,
    "start_time": "2022-02-25T11:34:50.426Z"
   },
   {
    "duration": 453,
    "start_time": "2022-02-25T11:34:50.432Z"
   },
   {
    "duration": 452,
    "start_time": "2022-02-25T11:34:50.434Z"
   },
   {
    "duration": 452,
    "start_time": "2022-02-25T11:34:50.436Z"
   },
   {
    "duration": 451,
    "start_time": "2022-02-25T11:34:50.438Z"
   },
   {
    "duration": 451,
    "start_time": "2022-02-25T11:34:50.439Z"
   },
   {
    "duration": 409,
    "start_time": "2022-02-25T11:34:50.483Z"
   },
   {
    "duration": 410,
    "start_time": "2022-02-25T11:34:50.484Z"
   },
   {
    "duration": 409,
    "start_time": "2022-02-25T11:34:50.486Z"
   },
   {
    "duration": 404,
    "start_time": "2022-02-25T11:34:50.493Z"
   },
   {
    "duration": 403,
    "start_time": "2022-02-25T11:34:50.495Z"
   },
   {
    "duration": 592,
    "start_time": "2022-02-25T11:35:50.293Z"
   },
   {
    "duration": 1567,
    "start_time": "2022-02-25T11:36:07.716Z"
   },
   {
    "duration": 110,
    "start_time": "2022-02-25T11:36:09.287Z"
   },
   {
    "duration": 20,
    "start_time": "2022-02-25T11:36:09.406Z"
   },
   {
    "duration": 13,
    "start_time": "2022-02-25T11:36:09.428Z"
   },
   {
    "duration": 16,
    "start_time": "2022-02-25T11:36:09.463Z"
   },
   {
    "duration": 33,
    "start_time": "2022-02-25T11:36:09.482Z"
   },
   {
    "duration": 23,
    "start_time": "2022-02-25T11:36:09.520Z"
   },
   {
    "duration": 24,
    "start_time": "2022-02-25T11:36:09.547Z"
   },
   {
    "duration": 444,
    "start_time": "2022-02-25T11:36:09.574Z"
   },
   {
    "duration": 458,
    "start_time": "2022-02-25T11:36:10.022Z"
   },
   {
    "duration": 470,
    "start_time": "2022-02-25T11:36:10.482Z"
   },
   {
    "duration": 9,
    "start_time": "2022-02-25T11:36:10.955Z"
   },
   {
    "duration": 622,
    "start_time": "2022-02-25T11:36:10.967Z"
   },
   {
    "duration": 24,
    "start_time": "2022-02-25T11:36:11.591Z"
   },
   {
    "duration": 56,
    "start_time": "2022-02-25T11:36:11.618Z"
   },
   {
    "duration": 5,
    "start_time": "2022-02-25T11:36:11.677Z"
   },
   {
    "duration": 18,
    "start_time": "2022-02-25T11:36:11.685Z"
   },
   {
    "duration": 6,
    "start_time": "2022-02-25T11:36:11.706Z"
   },
   {
    "duration": 178,
    "start_time": "2022-02-25T11:36:11.715Z"
   },
   {
    "duration": 95,
    "start_time": "2022-02-25T11:36:11.896Z"
   },
   {
    "duration": 16,
    "start_time": "2022-02-25T11:36:11.993Z"
   },
   {
    "duration": 19,
    "start_time": "2022-02-25T11:36:12.014Z"
   },
   {
    "duration": 66,
    "start_time": "2022-02-25T11:36:12.061Z"
   },
   {
    "duration": 50,
    "start_time": "2022-02-25T11:36:12.130Z"
   },
   {
    "duration": 51,
    "start_time": "2022-02-25T11:36:12.182Z"
   },
   {
    "duration": 44,
    "start_time": "2022-02-25T11:36:12.236Z"
   },
   {
    "duration": 27,
    "start_time": "2022-02-25T11:36:12.283Z"
   },
   {
    "duration": 55,
    "start_time": "2022-02-25T11:36:12.313Z"
   },
   {
    "duration": 36,
    "start_time": "2022-02-25T11:36:12.371Z"
   },
   {
    "duration": 24,
    "start_time": "2022-02-25T11:36:12.409Z"
   },
   {
    "duration": 8,
    "start_time": "2022-02-25T11:36:12.462Z"
   },
   {
    "duration": 36,
    "start_time": "2022-02-25T11:36:12.472Z"
   },
   {
    "duration": 21,
    "start_time": "2022-02-25T11:36:12.511Z"
   },
   {
    "duration": 49,
    "start_time": "2022-02-25T11:36:12.534Z"
   },
   {
    "duration": 1534,
    "start_time": "2022-02-25T11:37:13.490Z"
   },
   {
    "duration": 82,
    "start_time": "2022-02-25T11:37:15.028Z"
   },
   {
    "duration": 16,
    "start_time": "2022-02-25T11:37:15.114Z"
   },
   {
    "duration": 31,
    "start_time": "2022-02-25T11:37:15.133Z"
   },
   {
    "duration": 18,
    "start_time": "2022-02-25T11:37:15.167Z"
   },
   {
    "duration": 20,
    "start_time": "2022-02-25T11:37:15.188Z"
   },
   {
    "duration": 10,
    "start_time": "2022-02-25T11:37:15.210Z"
   },
   {
    "duration": 10,
    "start_time": "2022-02-25T11:37:15.265Z"
   },
   {
    "duration": 431,
    "start_time": "2022-02-25T11:37:15.278Z"
   },
   {
    "duration": 451,
    "start_time": "2022-02-25T11:37:15.711Z"
   },
   {
    "duration": 450,
    "start_time": "2022-02-25T11:37:16.164Z"
   },
   {
    "duration": 5,
    "start_time": "2022-02-25T11:37:16.616Z"
   },
   {
    "duration": 603,
    "start_time": "2022-02-25T11:37:16.624Z"
   },
   {
    "duration": 35,
    "start_time": "2022-02-25T11:37:17.230Z"
   },
   {
    "duration": 28,
    "start_time": "2022-02-25T11:37:17.268Z"
   },
   {
    "duration": 7,
    "start_time": "2022-02-25T11:37:17.299Z"
   },
   {
    "duration": 14,
    "start_time": "2022-02-25T11:37:17.309Z"
   },
   {
    "duration": 39,
    "start_time": "2022-02-25T11:37:17.326Z"
   },
   {
    "duration": 158,
    "start_time": "2022-02-25T11:37:17.368Z"
   },
   {
    "duration": 101,
    "start_time": "2022-02-25T11:37:17.528Z"
   },
   {
    "duration": 34,
    "start_time": "2022-02-25T11:37:17.633Z"
   },
   {
    "duration": 22,
    "start_time": "2022-02-25T11:37:17.670Z"
   },
   {
    "duration": 90,
    "start_time": "2022-02-25T11:37:17.697Z"
   },
   {
    "duration": 37,
    "start_time": "2022-02-25T11:37:17.790Z"
   },
   {
    "duration": 74,
    "start_time": "2022-02-25T11:37:17.830Z"
   },
   {
    "duration": 21,
    "start_time": "2022-02-25T11:37:17.907Z"
   },
   {
    "duration": 49,
    "start_time": "2022-02-25T11:37:17.930Z"
   },
   {
    "duration": 22,
    "start_time": "2022-02-25T11:37:17.982Z"
   },
   {
    "duration": 69,
    "start_time": "2022-02-25T11:37:18.007Z"
   },
   {
    "duration": 25,
    "start_time": "2022-02-25T11:37:18.079Z"
   },
   {
    "duration": 7,
    "start_time": "2022-02-25T11:37:18.106Z"
   },
   {
    "duration": 60,
    "start_time": "2022-02-25T11:37:18.116Z"
   },
   {
    "duration": 21,
    "start_time": "2022-02-25T11:37:18.178Z"
   },
   {
    "duration": 21,
    "start_time": "2022-02-25T11:37:18.201Z"
   },
   {
    "duration": 1532,
    "start_time": "2022-02-25T11:41:05.438Z"
   },
   {
    "duration": 80,
    "start_time": "2022-02-25T11:41:06.973Z"
   },
   {
    "duration": 16,
    "start_time": "2022-02-25T11:41:07.063Z"
   },
   {
    "duration": 6,
    "start_time": "2022-02-25T11:41:07.082Z"
   },
   {
    "duration": 16,
    "start_time": "2022-02-25T11:41:07.091Z"
   },
   {
    "duration": 54,
    "start_time": "2022-02-25T11:41:07.110Z"
   },
   {
    "duration": 11,
    "start_time": "2022-02-25T11:41:07.167Z"
   },
   {
    "duration": 11,
    "start_time": "2022-02-25T11:41:07.181Z"
   },
   {
    "duration": 479,
    "start_time": "2022-02-25T11:41:07.195Z"
   },
   {
    "duration": 490,
    "start_time": "2022-02-25T11:41:07.676Z"
   },
   {
    "duration": 715,
    "start_time": "2022-02-25T11:41:08.169Z"
   },
   {
    "duration": 6,
    "start_time": "2022-02-25T11:41:08.886Z"
   },
   {
    "duration": 623,
    "start_time": "2022-02-25T11:41:08.894Z"
   },
   {
    "duration": 43,
    "start_time": "2022-02-25T11:41:09.520Z"
   },
   {
    "duration": 31,
    "start_time": "2022-02-25T11:41:09.565Z"
   },
   {
    "duration": 9,
    "start_time": "2022-02-25T11:41:09.599Z"
   },
   {
    "duration": 35,
    "start_time": "2022-02-25T11:41:09.611Z"
   },
   {
    "duration": 32,
    "start_time": "2022-02-25T11:41:09.649Z"
   },
   {
    "duration": 153,
    "start_time": "2022-02-25T11:41:09.684Z"
   },
   {
    "duration": 98,
    "start_time": "2022-02-25T11:41:09.840Z"
   },
   {
    "duration": 32,
    "start_time": "2022-02-25T11:41:09.940Z"
   },
   {
    "duration": 24,
    "start_time": "2022-02-25T11:41:09.975Z"
   },
   {
    "duration": 97,
    "start_time": "2022-02-25T11:41:10.006Z"
   },
   {
    "duration": 36,
    "start_time": "2022-02-25T11:41:10.106Z"
   },
   {
    "duration": 54,
    "start_time": "2022-02-25T11:41:10.162Z"
   },
   {
    "duration": 25,
    "start_time": "2022-02-25T11:41:10.219Z"
   },
   {
    "duration": 44,
    "start_time": "2022-02-25T11:41:10.247Z"
   },
   {
    "duration": 22,
    "start_time": "2022-02-25T11:41:10.294Z"
   },
   {
    "duration": 66,
    "start_time": "2022-02-25T11:41:10.319Z"
   },
   {
    "duration": 23,
    "start_time": "2022-02-25T11:41:10.387Z"
   },
   {
    "duration": 10,
    "start_time": "2022-02-25T11:41:10.412Z"
   },
   {
    "duration": 61,
    "start_time": "2022-02-25T11:41:10.425Z"
   },
   {
    "duration": 24,
    "start_time": "2022-02-25T11:41:10.488Z"
   },
   {
    "duration": 48,
    "start_time": "2022-02-25T11:41:10.515Z"
   },
   {
    "duration": 1470,
    "start_time": "2022-02-25T11:41:55.587Z"
   },
   {
    "duration": 79,
    "start_time": "2022-02-25T11:41:57.059Z"
   },
   {
    "duration": 26,
    "start_time": "2022-02-25T11:41:57.146Z"
   },
   {
    "duration": 7,
    "start_time": "2022-02-25T11:41:57.176Z"
   },
   {
    "duration": 17,
    "start_time": "2022-02-25T11:41:57.186Z"
   },
   {
    "duration": 62,
    "start_time": "2022-02-25T11:41:57.206Z"
   },
   {
    "duration": 11,
    "start_time": "2022-02-25T11:41:57.274Z"
   },
   {
    "duration": 12,
    "start_time": "2022-02-25T11:41:57.290Z"
   },
   {
    "duration": 470,
    "start_time": "2022-02-25T11:41:57.304Z"
   },
   {
    "duration": 438,
    "start_time": "2022-02-25T11:41:57.777Z"
   },
   {
    "duration": 450,
    "start_time": "2022-02-25T11:41:58.218Z"
   },
   {
    "duration": 4,
    "start_time": "2022-02-25T11:41:58.670Z"
   },
   {
    "duration": 615,
    "start_time": "2022-02-25T11:41:58.677Z"
   },
   {
    "duration": 24,
    "start_time": "2022-02-25T11:41:59.294Z"
   },
   {
    "duration": 46,
    "start_time": "2022-02-25T11:41:59.321Z"
   },
   {
    "duration": 6,
    "start_time": "2022-02-25T11:41:59.370Z"
   },
   {
    "duration": 11,
    "start_time": "2022-02-25T11:41:59.379Z"
   },
   {
    "duration": 7,
    "start_time": "2022-02-25T11:41:59.393Z"
   },
   {
    "duration": 175,
    "start_time": "2022-02-25T11:41:59.402Z"
   },
   {
    "duration": 96,
    "start_time": "2022-02-25T11:41:59.579Z"
   },
   {
    "duration": 17,
    "start_time": "2022-02-25T11:41:59.678Z"
   },
   {
    "duration": 20,
    "start_time": "2022-02-25T11:41:59.700Z"
   },
   {
    "duration": 98,
    "start_time": "2022-02-25T11:41:59.723Z"
   },
   {
    "duration": 43,
    "start_time": "2022-02-25T11:41:59.824Z"
   },
   {
    "duration": 52,
    "start_time": "2022-02-25T11:41:59.870Z"
   },
   {
    "duration": 43,
    "start_time": "2022-02-25T11:41:59.924Z"
   },
   {
    "duration": 27,
    "start_time": "2022-02-25T11:41:59.970Z"
   },
   {
    "duration": 21,
    "start_time": "2022-02-25T11:42:00.000Z"
   },
   {
    "duration": 72,
    "start_time": "2022-02-25T11:42:00.023Z"
   },
   {
    "duration": 25,
    "start_time": "2022-02-25T11:42:00.098Z"
   },
   {
    "duration": 39,
    "start_time": "2022-02-25T11:42:00.126Z"
   },
   {
    "duration": 35,
    "start_time": "2022-02-25T11:42:00.168Z"
   },
   {
    "duration": 19,
    "start_time": "2022-02-25T11:42:00.205Z"
   },
   {
    "duration": 47,
    "start_time": "2022-02-25T11:42:00.226Z"
   },
   {
    "duration": 463,
    "start_time": "2022-03-06T18:14:43.478Z"
   },
   {
    "duration": 1491,
    "start_time": "2022-03-06T18:14:57.820Z"
   },
   {
    "duration": 81,
    "start_time": "2022-03-06T18:14:59.314Z"
   },
   {
    "duration": 31,
    "start_time": "2022-03-06T18:14:59.401Z"
   },
   {
    "duration": 7,
    "start_time": "2022-03-06T18:14:59.434Z"
   },
   {
    "duration": 15,
    "start_time": "2022-03-06T18:14:59.443Z"
   },
   {
    "duration": 22,
    "start_time": "2022-03-06T18:14:59.460Z"
   },
   {
    "duration": 51,
    "start_time": "2022-03-06T18:14:59.485Z"
   },
   {
    "duration": 12,
    "start_time": "2022-03-06T18:14:59.541Z"
   },
   {
    "duration": 435,
    "start_time": "2022-03-06T18:14:59.556Z"
   },
   {
    "duration": 471,
    "start_time": "2022-03-06T18:14:59.993Z"
   },
   {
    "duration": 476,
    "start_time": "2022-03-06T18:15:00.467Z"
   },
   {
    "duration": 5,
    "start_time": "2022-03-06T18:15:00.945Z"
   },
   {
    "duration": 610,
    "start_time": "2022-03-06T18:15:00.952Z"
   },
   {
    "duration": 21,
    "start_time": "2022-03-06T18:15:01.564Z"
   },
   {
    "duration": 29,
    "start_time": "2022-03-06T18:15:01.588Z"
   },
   {
    "duration": 5,
    "start_time": "2022-03-06T18:15:01.620Z"
   },
   {
    "duration": 23,
    "start_time": "2022-03-06T18:15:01.627Z"
   },
   {
    "duration": 11,
    "start_time": "2022-03-06T18:15:01.653Z"
   },
   {
    "duration": 186,
    "start_time": "2022-03-06T18:15:01.667Z"
   },
   {
    "duration": 85,
    "start_time": "2022-03-06T18:15:01.855Z"
   },
   {
    "duration": 16,
    "start_time": "2022-03-06T18:15:01.942Z"
   },
   {
    "duration": 20,
    "start_time": "2022-03-06T18:15:01.960Z"
   },
   {
    "duration": 159,
    "start_time": "2022-03-06T18:15:01.982Z"
   },
   {
    "duration": 101,
    "start_time": "2022-03-06T18:15:02.144Z"
   },
   {
    "duration": 11,
    "start_time": "2022-03-06T18:15:02.248Z"
   },
   {
    "duration": 89,
    "start_time": "2022-03-06T18:15:02.267Z"
   },
   {
    "duration": 21,
    "start_time": "2022-03-06T18:15:02.360Z"
   },
   {
    "duration": 58,
    "start_time": "2022-03-06T18:15:02.384Z"
   },
   {
    "duration": 23,
    "start_time": "2022-03-06T18:15:02.445Z"
   },
   {
    "duration": 66,
    "start_time": "2022-03-06T18:15:02.471Z"
   },
   {
    "duration": 24,
    "start_time": "2022-03-06T18:15:02.540Z"
   },
   {
    "duration": 6,
    "start_time": "2022-03-06T18:15:02.566Z"
   },
   {
    "duration": 27,
    "start_time": "2022-03-06T18:15:02.574Z"
   },
   {
    "duration": 21,
    "start_time": "2022-03-06T18:15:02.633Z"
   },
   {
    "duration": 20,
    "start_time": "2022-03-06T18:15:02.656Z"
   },
   {
    "duration": 6,
    "start_time": "2022-03-06T18:15:33.394Z"
   },
   {
    "duration": 6,
    "start_time": "2022-03-06T18:15:37.238Z"
   },
   {
    "duration": 10,
    "start_time": "2022-03-06T18:17:39.669Z"
   },
   {
    "duration": 10,
    "start_time": "2022-03-06T18:17:48.030Z"
   },
   {
    "duration": 256,
    "start_time": "2022-03-08T13:45:18.750Z"
   },
   {
    "duration": 1200,
    "start_time": "2022-03-08T13:45:26.194Z"
   },
   {
    "duration": 65,
    "start_time": "2022-03-08T13:45:27.396Z"
   },
   {
    "duration": 11,
    "start_time": "2022-03-08T13:45:27.464Z"
   },
   {
    "duration": 44,
    "start_time": "2022-03-08T13:45:27.478Z"
   },
   {
    "duration": 5,
    "start_time": "2022-03-08T13:45:27.524Z"
   },
   {
    "duration": 12,
    "start_time": "2022-03-08T13:45:27.531Z"
   },
   {
    "duration": 15,
    "start_time": "2022-03-08T13:45:27.545Z"
   },
   {
    "duration": 39,
    "start_time": "2022-03-08T13:45:27.563Z"
   },
   {
    "duration": 8,
    "start_time": "2022-03-08T13:45:27.605Z"
   },
   {
    "duration": 300,
    "start_time": "2022-03-08T13:45:27.615Z"
   },
   {
    "duration": 292,
    "start_time": "2022-03-08T13:45:27.917Z"
   },
   {
    "duration": 434,
    "start_time": "2022-03-08T13:45:28.211Z"
   },
   {
    "duration": 4,
    "start_time": "2022-03-08T13:45:28.648Z"
   },
   {
    "duration": 385,
    "start_time": "2022-03-08T13:45:28.654Z"
   },
   {
    "duration": 16,
    "start_time": "2022-03-08T13:45:29.041Z"
   },
   {
    "duration": 19,
    "start_time": "2022-03-08T13:45:29.059Z"
   },
   {
    "duration": 23,
    "start_time": "2022-03-08T13:45:29.080Z"
   },
   {
    "duration": 12,
    "start_time": "2022-03-08T13:45:29.105Z"
   },
   {
    "duration": 4,
    "start_time": "2022-03-08T13:45:29.119Z"
   },
   {
    "duration": 125,
    "start_time": "2022-03-08T13:45:29.125Z"
   },
   {
    "duration": 74,
    "start_time": "2022-03-08T13:45:29.251Z"
   },
   {
    "duration": 14,
    "start_time": "2022-03-08T13:45:29.327Z"
   },
   {
    "duration": 13,
    "start_time": "2022-03-08T13:45:29.345Z"
   },
   {
    "duration": 79,
    "start_time": "2022-03-08T13:45:29.360Z"
   },
   {
    "duration": 24,
    "start_time": "2022-03-08T13:45:29.441Z"
   },
   {
    "duration": 57,
    "start_time": "2022-03-08T13:45:29.467Z"
   },
   {
    "duration": 16,
    "start_time": "2022-03-08T13:45:29.527Z"
   },
   {
    "duration": 22,
    "start_time": "2022-03-08T13:45:29.545Z"
   },
   {
    "duration": 43,
    "start_time": "2022-03-08T13:45:29.570Z"
   },
   {
    "duration": 25,
    "start_time": "2022-03-08T13:45:29.615Z"
   },
   {
    "duration": 22,
    "start_time": "2022-03-08T13:45:29.643Z"
   },
   {
    "duration": 6,
    "start_time": "2022-03-08T13:45:29.667Z"
   },
   {
    "duration": 45,
    "start_time": "2022-03-08T13:45:29.675Z"
   },
   {
    "duration": 17,
    "start_time": "2022-03-08T13:45:29.722Z"
   },
   {
    "duration": 16,
    "start_time": "2022-03-08T13:45:29.741Z"
   },
   {
    "duration": 11,
    "start_time": "2022-03-08T13:48:55.825Z"
   },
   {
    "duration": 56,
    "start_time": "2022-03-08T13:50:08.515Z"
   },
   {
    "duration": 11,
    "start_time": "2022-03-08T13:50:22.022Z"
   },
   {
    "duration": 4481,
    "start_time": "2022-03-08T13:51:09.274Z"
   },
   {
    "duration": 6,
    "start_time": "2022-03-08T13:51:40.007Z"
   },
   {
    "duration": 6,
    "start_time": "2022-03-08T13:52:35.414Z"
   },
   {
    "duration": 11,
    "start_time": "2022-03-08T13:55:38.159Z"
   },
   {
    "duration": 3,
    "start_time": "2022-03-08T13:56:00.190Z"
   },
   {
    "duration": 64,
    "start_time": "2022-03-08T13:56:00.973Z"
   },
   {
    "duration": 13,
    "start_time": "2022-03-08T13:56:01.972Z"
   },
   {
    "duration": 36,
    "start_time": "2022-03-08T13:56:02.717Z"
   },
   {
    "duration": 4,
    "start_time": "2022-03-08T13:56:07.660Z"
   },
   {
    "duration": 11,
    "start_time": "2022-03-08T13:56:09.410Z"
   },
   {
    "duration": 13,
    "start_time": "2022-03-08T13:56:14.522Z"
   },
   {
    "duration": 10,
    "start_time": "2022-03-08T13:56:23.535Z"
   },
   {
    "duration": 9,
    "start_time": "2022-03-08T13:56:24.647Z"
   },
   {
    "duration": 260,
    "start_time": "2022-03-08T13:56:26.491Z"
   },
   {
    "duration": 328,
    "start_time": "2022-03-08T13:56:28.200Z"
   },
   {
    "duration": 266,
    "start_time": "2022-03-08T13:56:29.469Z"
   },
   {
    "duration": 4,
    "start_time": "2022-03-08T13:56:32.066Z"
   },
   {
    "duration": 350,
    "start_time": "2022-03-08T13:56:33.760Z"
   },
   {
    "duration": 15,
    "start_time": "2022-03-08T13:56:36.656Z"
   },
   {
    "duration": 18,
    "start_time": "2022-03-08T13:56:38.672Z"
   },
   {
    "duration": 5,
    "start_time": "2022-03-08T13:56:41.587Z"
   },
   {
    "duration": 7,
    "start_time": "2022-03-08T13:56:43.044Z"
   },
   {
    "duration": 4,
    "start_time": "2022-03-08T13:56:45.133Z"
   },
   {
    "duration": 49,
    "start_time": "2022-03-08T13:56:51.072Z"
   },
   {
    "duration": 57,
    "start_time": "2022-03-08T13:56:53.120Z"
   },
   {
    "duration": 13,
    "start_time": "2022-03-08T13:56:57.335Z"
   },
   {
    "duration": 15,
    "start_time": "2022-03-08T13:57:07.597Z"
   },
   {
    "duration": 214,
    "start_time": "2022-03-08T14:01:29.879Z"
   },
   {
    "duration": 190,
    "start_time": "2022-03-08T14:02:13.114Z"
   },
   {
    "duration": 8,
    "start_time": "2022-03-08T14:02:59.556Z"
   },
   {
    "duration": 14,
    "start_time": "2022-03-08T14:03:22.216Z"
   },
   {
    "duration": 7,
    "start_time": "2022-03-08T14:03:40.504Z"
   },
   {
    "duration": 174,
    "start_time": "2022-03-08T14:03:51.187Z"
   },
   {
    "duration": 7,
    "start_time": "2022-03-08T14:03:58.461Z"
   },
   {
    "duration": 7,
    "start_time": "2022-03-08T14:04:05.874Z"
   },
   {
    "duration": 9,
    "start_time": "2022-03-08T14:12:34.262Z"
   },
   {
    "duration": 11,
    "start_time": "2022-03-08T14:12:46.049Z"
   },
   {
    "duration": 26,
    "start_time": "2022-03-08T14:13:06.125Z"
   },
   {
    "duration": 12,
    "start_time": "2022-03-08T14:14:39.488Z"
   },
   {
    "duration": 25,
    "start_time": "2022-03-08T14:28:45.532Z"
   },
   {
    "duration": 25,
    "start_time": "2022-03-08T14:28:52.188Z"
   },
   {
    "duration": 25,
    "start_time": "2022-03-08T14:35:45.591Z"
   },
   {
    "duration": 25,
    "start_time": "2022-03-08T14:36:07.912Z"
   },
   {
    "duration": 1104,
    "start_time": "2022-03-08T14:39:18.348Z"
   },
   {
    "duration": 59,
    "start_time": "2022-03-08T14:39:19.454Z"
   },
   {
    "duration": 15,
    "start_time": "2022-03-08T14:39:19.515Z"
   },
   {
    "duration": 69,
    "start_time": "2022-03-08T14:39:19.533Z"
   },
   {
    "duration": 7,
    "start_time": "2022-03-08T14:39:19.604Z"
   },
   {
    "duration": 16,
    "start_time": "2022-03-08T14:39:19.613Z"
   },
   {
    "duration": 23,
    "start_time": "2022-03-08T14:39:19.631Z"
   },
   {
    "duration": 22,
    "start_time": "2022-03-08T14:39:19.658Z"
   },
   {
    "duration": 25,
    "start_time": "2022-03-08T14:39:19.683Z"
   },
   {
    "duration": 283,
    "start_time": "2022-03-08T14:39:19.710Z"
   },
   {
    "duration": 327,
    "start_time": "2022-03-08T14:39:19.995Z"
   },
   {
    "duration": 284,
    "start_time": "2022-03-08T14:39:20.324Z"
   },
   {
    "duration": 4,
    "start_time": "2022-03-08T14:39:20.611Z"
   },
   {
    "duration": 361,
    "start_time": "2022-03-08T14:39:20.617Z"
   },
   {
    "duration": 26,
    "start_time": "2022-03-08T14:39:20.981Z"
   },
   {
    "duration": 32,
    "start_time": "2022-03-08T14:39:21.009Z"
   },
   {
    "duration": 6,
    "start_time": "2022-03-08T14:39:21.043Z"
   },
   {
    "duration": 16,
    "start_time": "2022-03-08T14:39:21.051Z"
   },
   {
    "duration": 23,
    "start_time": "2022-03-08T14:39:21.070Z"
   },
   {
    "duration": 121,
    "start_time": "2022-03-08T14:39:21.095Z"
   },
   {
    "duration": 63,
    "start_time": "2022-03-08T14:39:21.218Z"
   },
   {
    "duration": 26,
    "start_time": "2022-03-08T14:39:21.283Z"
   },
   {
    "duration": 14,
    "start_time": "2022-03-08T14:39:21.312Z"
   },
   {
    "duration": 12,
    "start_time": "2022-03-08T14:39:21.328Z"
   },
   {
    "duration": 23,
    "start_time": "2022-03-08T14:39:21.341Z"
   },
   {
    "duration": 61,
    "start_time": "2022-03-08T14:39:21.366Z"
   },
   {
    "duration": 16,
    "start_time": "2022-03-08T14:39:21.429Z"
   },
   {
    "duration": 22,
    "start_time": "2022-03-08T14:39:21.446Z"
   },
   {
    "duration": 43,
    "start_time": "2022-03-08T14:39:21.470Z"
   },
   {
    "duration": 23,
    "start_time": "2022-03-08T14:39:21.514Z"
   },
   {
    "duration": 19,
    "start_time": "2022-03-08T14:39:21.538Z"
   },
   {
    "duration": 5,
    "start_time": "2022-03-08T14:39:21.559Z"
   },
   {
    "duration": 19,
    "start_time": "2022-03-08T14:39:21.601Z"
   },
   {
    "duration": 15,
    "start_time": "2022-03-08T14:39:21.622Z"
   },
   {
    "duration": 15,
    "start_time": "2022-03-08T14:39:21.638Z"
   },
   {
    "duration": 1093,
    "start_time": "2022-03-08T14:49:16.259Z"
   },
   {
    "duration": 65,
    "start_time": "2022-03-08T14:49:17.354Z"
   },
   {
    "duration": 13,
    "start_time": "2022-03-08T14:49:17.421Z"
   },
   {
    "duration": 43,
    "start_time": "2022-03-08T14:49:17.436Z"
   },
   {
    "duration": 5,
    "start_time": "2022-03-08T14:49:17.481Z"
   },
   {
    "duration": 11,
    "start_time": "2022-03-08T14:49:17.501Z"
   },
   {
    "duration": 23,
    "start_time": "2022-03-08T14:49:17.514Z"
   },
   {
    "duration": 14,
    "start_time": "2022-03-08T14:49:17.539Z"
   },
   {
    "duration": 10,
    "start_time": "2022-03-08T14:49:17.556Z"
   },
   {
    "duration": 310,
    "start_time": "2022-03-08T14:49:17.568Z"
   },
   {
    "duration": 292,
    "start_time": "2022-03-08T14:49:17.880Z"
   },
   {
    "duration": 283,
    "start_time": "2022-03-08T14:49:18.175Z"
   },
   {
    "duration": 4,
    "start_time": "2022-03-08T14:49:18.460Z"
   },
   {
    "duration": 358,
    "start_time": "2022-03-08T14:49:18.466Z"
   },
   {
    "duration": 15,
    "start_time": "2022-03-08T14:49:18.826Z"
   },
   {
    "duration": 34,
    "start_time": "2022-03-08T14:49:18.842Z"
   },
   {
    "duration": 4,
    "start_time": "2022-03-08T14:49:18.878Z"
   },
   {
    "duration": 19,
    "start_time": "2022-03-08T14:49:18.884Z"
   },
   {
    "duration": 6,
    "start_time": "2022-03-08T14:49:18.905Z"
   },
   {
    "duration": 123,
    "start_time": "2022-03-08T14:49:18.913Z"
   },
   {
    "duration": 71,
    "start_time": "2022-03-08T14:49:19.038Z"
   },
   {
    "duration": 14,
    "start_time": "2022-03-08T14:49:19.111Z"
   },
   {
    "duration": 13,
    "start_time": "2022-03-08T14:49:19.129Z"
   },
   {
    "duration": 13,
    "start_time": "2022-03-08T14:49:19.144Z"
   },
   {
    "duration": 47,
    "start_time": "2022-03-08T14:49:19.159Z"
   },
   {
    "duration": 33,
    "start_time": "2022-03-08T14:49:19.209Z"
   },
   {
    "duration": 15,
    "start_time": "2022-03-08T14:49:19.244Z"
   },
   {
    "duration": 49,
    "start_time": "2022-03-08T14:49:19.261Z"
   },
   {
    "duration": 16,
    "start_time": "2022-03-08T14:49:19.312Z"
   },
   {
    "duration": 32,
    "start_time": "2022-03-08T14:49:19.330Z"
   },
   {
    "duration": 26,
    "start_time": "2022-03-08T14:49:19.364Z"
   },
   {
    "duration": 6,
    "start_time": "2022-03-08T14:49:19.402Z"
   },
   {
    "duration": 33,
    "start_time": "2022-03-08T14:49:19.410Z"
   },
   {
    "duration": 16,
    "start_time": "2022-03-08T14:49:19.445Z"
   },
   {
    "duration": 15,
    "start_time": "2022-03-08T14:49:19.463Z"
   },
   {
    "duration": 1177,
    "start_time": "2022-03-08T14:52:57.430Z"
   },
   {
    "duration": 68,
    "start_time": "2022-03-08T14:52:58.609Z"
   },
   {
    "duration": 22,
    "start_time": "2022-03-08T14:52:58.679Z"
   },
   {
    "duration": 34,
    "start_time": "2022-03-08T14:52:58.703Z"
   },
   {
    "duration": 5,
    "start_time": "2022-03-08T14:52:58.739Z"
   },
   {
    "duration": 21,
    "start_time": "2022-03-08T14:52:58.746Z"
   },
   {
    "duration": 33,
    "start_time": "2022-03-08T14:52:58.769Z"
   },
   {
    "duration": 13,
    "start_time": "2022-03-08T14:52:58.805Z"
   },
   {
    "duration": 8,
    "start_time": "2022-03-08T14:52:58.821Z"
   },
   {
    "duration": 283,
    "start_time": "2022-03-08T14:52:58.831Z"
   },
   {
    "duration": 296,
    "start_time": "2022-03-08T14:52:59.116Z"
   },
   {
    "duration": 280,
    "start_time": "2022-03-08T14:52:59.414Z"
   },
   {
    "duration": 3,
    "start_time": "2022-03-08T14:52:59.701Z"
   },
   {
    "duration": 355,
    "start_time": "2022-03-08T14:52:59.706Z"
   },
   {
    "duration": 16,
    "start_time": "2022-03-08T14:53:00.063Z"
   },
   {
    "duration": 33,
    "start_time": "2022-03-08T14:53:00.080Z"
   },
   {
    "duration": 7,
    "start_time": "2022-03-08T14:53:00.116Z"
   },
   {
    "duration": 11,
    "start_time": "2022-03-08T14:53:00.124Z"
   },
   {
    "duration": 16,
    "start_time": "2022-03-08T14:53:00.137Z"
   },
   {
    "duration": 120,
    "start_time": "2022-03-08T14:53:00.155Z"
   },
   {
    "duration": 72,
    "start_time": "2022-03-08T14:53:00.277Z"
   },
   {
    "duration": 14,
    "start_time": "2022-03-08T14:53:00.352Z"
   },
   {
    "duration": 37,
    "start_time": "2022-03-08T14:53:00.370Z"
   },
   {
    "duration": 29,
    "start_time": "2022-03-08T14:53:00.409Z"
   },
   {
    "duration": 33,
    "start_time": "2022-03-08T14:53:00.440Z"
   },
   {
    "duration": 47,
    "start_time": "2022-03-08T14:53:00.474Z"
   },
   {
    "duration": 16,
    "start_time": "2022-03-08T14:53:00.523Z"
   },
   {
    "duration": 23,
    "start_time": "2022-03-08T14:53:00.541Z"
   },
   {
    "duration": 40,
    "start_time": "2022-03-08T14:53:00.566Z"
   },
   {
    "duration": 25,
    "start_time": "2022-03-08T14:53:00.608Z"
   },
   {
    "duration": 41,
    "start_time": "2022-03-08T14:53:00.634Z"
   },
   {
    "duration": 8,
    "start_time": "2022-03-08T14:53:00.677Z"
   },
   {
    "duration": 37,
    "start_time": "2022-03-08T14:53:00.687Z"
   },
   {
    "duration": 18,
    "start_time": "2022-03-08T14:53:00.726Z"
   },
   {
    "duration": 22,
    "start_time": "2022-03-08T14:53:00.746Z"
   }
  ],
  "kernelspec": {
   "display_name": "Python 3 (ipykernel)",
   "language": "python",
   "name": "python3"
  },
  "language_info": {
   "codemirror_mode": {
    "name": "ipython",
    "version": 3
   },
   "file_extension": ".py",
   "mimetype": "text/x-python",
   "name": "python",
   "nbconvert_exporter": "python",
   "pygments_lexer": "ipython3",
   "version": "3.9.5"
  },
  "toc": {
   "base_numbering": 1,
   "nav_menu": {},
   "number_sections": true,
   "sideBar": true,
   "skip_h1_title": true,
   "title_cell": "Table of Contents",
   "title_sidebar": "Contents",
   "toc_cell": false,
   "toc_position": {
    "height": "calc(100% - 180px)",
    "left": "10px",
    "top": "150px",
    "width": "289.594px"
   },
   "toc_section_display": true,
   "toc_window_display": true
  },
  "toc-autonumbering": true,
  "toc-showcode": false,
  "toc-showmarkdowntxt": false,
  "toc-showtags": false
 },
 "nbformat": 4,
 "nbformat_minor": 5
}
