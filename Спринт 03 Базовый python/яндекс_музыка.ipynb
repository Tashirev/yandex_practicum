{
 "cells": [
  {
   "cell_type": "markdown",
   "metadata": {},
   "source": [
    "<div style=\"border:solid green 2px; padding: 20px\"> \n",
    "    \n",
    "**Комментарий ревьюера**\n",
    "\n",
    "Привет! Меня зовут Сысоева Вера.\n",
    "    \n",
    "Далее в файле мои комментарии ты сможешь найти в ячейках, аналогичных данной ( если рамки комментария зелёные и отмечены **#ок** - всё сделано правильно; жёлтые и отмечены **#можно лучше** - есть замечания, но не критично; красные с пометкой **#ошибка** - нужно переделать). Не удаляй эти комментарии и постарайся учесть их в ходе выполнения проекта.\n",
    "    \n",
    "Я буду поддерживать версионность комментариев, и при следующих итерациях комментарии будут выделены, как \"Комментраии ревьюера - 2 (3 и.т.д.)\"\n",
    "    \n",
    "Если у тебя есть замечания, возражения и вопросы, ты можешь писать свои комментарии, по возможности выделяй их так же цветом (например, синим), чтоб их можно было легко отделить от текста проекта. \n",
    "    \n",
    "Кстати, предлагаю сразу общаться на \"ты\".\n",
    "    \n",
    "Увидев у тебя ошибку, в первый раз я лишь укажу на ее наличие и дам тебе возможность самостоятельно найти и исправить ее. На реальной работе твой начальник будет поступать так же, а я пытаюсь подготовить тебя именно к работе аналитиком. Но если ты пока не справишься с такой задачей - при следующей проверке я дам более точную подсказку.\n",
    "    \n",
    "</div>"
   ]
  },
  {
   "cell_type": "markdown",
   "metadata": {},
   "source": [
    "# Яндекс.Музыка\n",
    "Оценка музыкальных предпочтений пользователей сервиса \"Яндекс.Музыка\" в городах Москва и Санкт-Петербург."
   ]
  },
  {
   "cell_type": "markdown",
   "metadata": {
    "tags": []
   },
   "source": [
    "## Цель исследования.\n",
    "Проверить три гипотезы:\n",
    "1. Активность пользователей зависит от дня недели. Причём в Москве и Петербурге это проявляется по-разному.\n",
    "2. В понедельник утром в Москве преобладают одни жанры, а в Петербурге — другие. Так же и вечером пятницы преобладают разные жанры — в зависимости от города. \n",
    "3. Москва и Петербург предпочитают разные жанры музыки. В Москве чаще слушают поп-музыку, в Петербурге — русский рэп."
   ]
  },
  {
   "cell_type": "markdown",
   "metadata": {
    "id": "Ml1hmfXC_Zcs",
    "tags": []
   },
   "source": [
    "## Обзор данных."
   ]
  },
  {
   "cell_type": "markdown",
   "metadata": {
    "id": "57eAOGIz_Zcs",
    "tags": []
   },
   "source": [
    "### Получение данных."
   ]
  },
  {
   "cell_type": "markdown",
   "metadata": {},
   "source": [
    "Загрузка данных из файла: : `yandex_music_project.csv`"
   ]
  },
  {
   "cell_type": "code",
   "execution_count": 1,
   "metadata": {
    "id": "AXN7PHPN_Zcs"
   },
   "outputs": [],
   "source": [
    "# импорт библиотеки pandas\n",
    "import pandas as pd\n",
    "# чтение файла с данными и сохранение в df\n",
    "df = pd.read_csv('/datasets/yandex_music_project.csv')"
   ]
  },
  {
   "cell_type": "markdown",
   "metadata": {},
   "source": [
    "<div style=\"border:solid green 2px; padding: 20px\"> \n",
    "    \n",
    "**Комментарий ревьюера**\n",
    "\n",
    "**#ок**\n",
    "\n",
    "Немного удобне подгружать библиотеки в отдельной ячейке проекта. Так при необходимости добавить библиотеку тебе нужно будет дополнить и перезапустить первую ячеку. Эта ячейка только перегрузит библиотеки и не перегрузит данные, т.е. твой прогресс будет сохранен\n",
    "    \n",
    "В целом старайся, чтобы ячейки содержали некоторую логическую часть и не страшно, если в них будет по одной строке кода\n",
    "    \n",
    "</div>"
   ]
  },
  {
   "cell_type": "markdown",
   "metadata": {
    "id": "rDoOMd3uTqnZ",
    "tags": []
   },
   "source": [
    "### Первичный осмотр данных."
   ]
  },
  {
   "cell_type": "markdown",
   "metadata": {},
   "source": [
    "Проверка загрузки и общего представления данных:"
   ]
  },
  {
   "cell_type": "code",
   "execution_count": 2,
   "metadata": {
    "id": "oWTVX3gW_Zct",
    "scrolled": true
   },
   "outputs": [
    {
     "data": {
      "text/html": [
       "<div>\n",
       "<style scoped>\n",
       "    .dataframe tbody tr th:only-of-type {\n",
       "        vertical-align: middle;\n",
       "    }\n",
       "\n",
       "    .dataframe tbody tr th {\n",
       "        vertical-align: top;\n",
       "    }\n",
       "\n",
       "    .dataframe thead th {\n",
       "        text-align: right;\n",
       "    }\n",
       "</style>\n",
       "<table border=\"1\" class=\"dataframe\">\n",
       "  <thead>\n",
       "    <tr style=\"text-align: right;\">\n",
       "      <th></th>\n",
       "      <th>userID</th>\n",
       "      <th>Track</th>\n",
       "      <th>artist</th>\n",
       "      <th>genre</th>\n",
       "      <th>City</th>\n",
       "      <th>time</th>\n",
       "      <th>Day</th>\n",
       "    </tr>\n",
       "  </thead>\n",
       "  <tbody>\n",
       "    <tr>\n",
       "      <td>0</td>\n",
       "      <td>FFB692EC</td>\n",
       "      <td>Kamigata To Boots</td>\n",
       "      <td>The Mass Missile</td>\n",
       "      <td>rock</td>\n",
       "      <td>Saint-Petersburg</td>\n",
       "      <td>20:28:33</td>\n",
       "      <td>Wednesday</td>\n",
       "    </tr>\n",
       "    <tr>\n",
       "      <td>1</td>\n",
       "      <td>55204538</td>\n",
       "      <td>Delayed Because of Accident</td>\n",
       "      <td>Andreas Rönnberg</td>\n",
       "      <td>rock</td>\n",
       "      <td>Moscow</td>\n",
       "      <td>14:07:09</td>\n",
       "      <td>Friday</td>\n",
       "    </tr>\n",
       "    <tr>\n",
       "      <td>2</td>\n",
       "      <td>20EC38</td>\n",
       "      <td>Funiculì funiculà</td>\n",
       "      <td>Mario Lanza</td>\n",
       "      <td>pop</td>\n",
       "      <td>Saint-Petersburg</td>\n",
       "      <td>20:58:07</td>\n",
       "      <td>Wednesday</td>\n",
       "    </tr>\n",
       "    <tr>\n",
       "      <td>3</td>\n",
       "      <td>A3DD03C9</td>\n",
       "      <td>Dragons in the Sunset</td>\n",
       "      <td>Fire + Ice</td>\n",
       "      <td>folk</td>\n",
       "      <td>Saint-Petersburg</td>\n",
       "      <td>08:37:09</td>\n",
       "      <td>Monday</td>\n",
       "    </tr>\n",
       "    <tr>\n",
       "      <td>4</td>\n",
       "      <td>E2DC1FAE</td>\n",
       "      <td>Soul People</td>\n",
       "      <td>Space Echo</td>\n",
       "      <td>dance</td>\n",
       "      <td>Moscow</td>\n",
       "      <td>08:34:34</td>\n",
       "      <td>Monday</td>\n",
       "    </tr>\n",
       "    <tr>\n",
       "      <td>5</td>\n",
       "      <td>842029A1</td>\n",
       "      <td>Преданная</td>\n",
       "      <td>IMPERVTOR</td>\n",
       "      <td>rusrap</td>\n",
       "      <td>Saint-Petersburg</td>\n",
       "      <td>13:09:41</td>\n",
       "      <td>Friday</td>\n",
       "    </tr>\n",
       "    <tr>\n",
       "      <td>6</td>\n",
       "      <td>4CB90AA5</td>\n",
       "      <td>True</td>\n",
       "      <td>Roman Messer</td>\n",
       "      <td>dance</td>\n",
       "      <td>Moscow</td>\n",
       "      <td>13:00:07</td>\n",
       "      <td>Wednesday</td>\n",
       "    </tr>\n",
       "    <tr>\n",
       "      <td>7</td>\n",
       "      <td>F03E1C1F</td>\n",
       "      <td>Feeling This Way</td>\n",
       "      <td>Polina Griffith</td>\n",
       "      <td>dance</td>\n",
       "      <td>Moscow</td>\n",
       "      <td>20:47:49</td>\n",
       "      <td>Wednesday</td>\n",
       "    </tr>\n",
       "    <tr>\n",
       "      <td>8</td>\n",
       "      <td>8FA1D3BE</td>\n",
       "      <td>И вновь продолжается бой</td>\n",
       "      <td>NaN</td>\n",
       "      <td>ruspop</td>\n",
       "      <td>Moscow</td>\n",
       "      <td>09:17:40</td>\n",
       "      <td>Friday</td>\n",
       "    </tr>\n",
       "    <tr>\n",
       "      <td>9</td>\n",
       "      <td>E772D5C0</td>\n",
       "      <td>Pessimist</td>\n",
       "      <td>NaN</td>\n",
       "      <td>dance</td>\n",
       "      <td>Saint-Petersburg</td>\n",
       "      <td>21:20:49</td>\n",
       "      <td>Wednesday</td>\n",
       "    </tr>\n",
       "  </tbody>\n",
       "</table>\n",
       "</div>"
      ],
      "text/plain": [
       "     userID                        Track            artist   genre  \\\n",
       "0  FFB692EC            Kamigata To Boots  The Mass Missile    rock   \n",
       "1  55204538  Delayed Because of Accident  Andreas Rönnberg    rock   \n",
       "2    20EC38            Funiculì funiculà       Mario Lanza     pop   \n",
       "3  A3DD03C9        Dragons in the Sunset        Fire + Ice    folk   \n",
       "4  E2DC1FAE                  Soul People        Space Echo   dance   \n",
       "5  842029A1                    Преданная         IMPERVTOR  rusrap   \n",
       "6  4CB90AA5                         True      Roman Messer   dance   \n",
       "7  F03E1C1F             Feeling This Way   Polina Griffith   dance   \n",
       "8  8FA1D3BE     И вновь продолжается бой               NaN  ruspop   \n",
       "9  E772D5C0                    Pessimist               NaN   dance   \n",
       "\n",
       "             City        time        Day  \n",
       "0  Saint-Petersburg  20:28:33  Wednesday  \n",
       "1            Moscow  14:07:09     Friday  \n",
       "2  Saint-Petersburg  20:58:07  Wednesday  \n",
       "3  Saint-Petersburg  08:37:09     Monday  \n",
       "4            Moscow  08:34:34     Monday  \n",
       "5  Saint-Petersburg  13:09:41     Friday  \n",
       "6            Moscow  13:00:07  Wednesday  \n",
       "7            Moscow  20:47:49  Wednesday  \n",
       "8            Moscow  09:17:40     Friday  \n",
       "9  Saint-Petersburg  21:20:49  Wednesday  "
      ]
     },
     "execution_count": 2,
     "metadata": {},
     "output_type": "execute_result"
    }
   ],
   "source": [
    "# получение 10 строк таблицы df\n",
    "df.head(10)"
   ]
  },
  {
   "cell_type": "markdown",
   "metadata": {},
   "source": [
    "<div style=\"border:solid red 2px; padding: 20px\"> \n",
    "    \n",
    "**Комментарий ревьюера**\n",
    "\n",
    "**#ошибка**\n",
    "\n",
    "Для просмотра первых строк надо использовать метод `head`\n",
    "</div>"
   ]
  },
  {
   "cell_type": "markdown",
   "metadata": {},
   "source": [
    "<div style=\"border:solid green 2px; padding: 20px\"> \n",
    "    \n",
    "**Комментарий ревьюера - 2**\n",
    "\n",
    "**#ок**\n",
    "    \n",
    "👍\n",
    "\n",
    "    \n",
    "</div>"
   ]
  },
  {
   "cell_type": "markdown",
   "metadata": {
    "id": "EO73Kwic_Zct",
    "tags": []
   },
   "source": [
    "Просмотр общей информации по данным."
   ]
  },
  {
   "cell_type": "code",
   "execution_count": 3,
   "metadata": {
    "id": "DSf2kIb-_Zct"
   },
   "outputs": [
    {
     "name": "stdout",
     "output_type": "stream",
     "text": [
      "<class 'pandas.core.frame.DataFrame'>\n",
      "RangeIndex: 65079 entries, 0 to 65078\n",
      "Data columns (total 7 columns):\n",
      "  userID    65079 non-null object\n",
      "Track       63848 non-null object\n",
      "artist      57876 non-null object\n",
      "genre       63881 non-null object\n",
      "  City      65079 non-null object\n",
      "time        65079 non-null object\n",
      "Day         65079 non-null object\n",
      "dtypes: object(7)\n",
      "memory usage: 3.5+ MB\n"
     ]
    }
   ],
   "source": [
    "df.info()"
   ]
  },
  {
   "cell_type": "markdown",
   "metadata": {
    "id": "TaQ2Iwbr_Zct"
   },
   "source": [
    "Первичная информация по полученным данным:\n",
    "1. Загрузка данных производится корректно.\n",
    "2. Данные представлены как события прослушивания трека, таких событий 61253.\n",
    "3. По каждому событию имеются следующие данные (согласно представленной документации):\n",
    "    * `userID` — идентификатор пользователя;\n",
    "    * `Track` — название трека;  \n",
    "    * `artist` — имя исполнителя;\n",
    "    * `genre` — название жанра;\n",
    "    * `City` — город пользователя;\n",
    "    * `time` — время начала прослушивания;\n",
    "    * `Day` — день недели.\n",
    "4. В названиях колонок видны нарушения стиля:\n",
    "    * строчные буквы сочетаются с прописными.\n",
    "    * встречаются пробелы.\n",
    "    * не используется \"змеиный_регистр\" при использовании нескольких слов.\n",
    "5. Количество значений в столбцах различается. Значит, в данных есть пропущенные значения.\n"
   ]
  },
  {
   "cell_type": "markdown",
   "metadata": {},
   "source": [
    "<div style=\"border:solid green 2px; padding: 20px\"> \n",
    "    \n",
    "**Комментарий ревьюера**\n",
    "\n",
    "**#ок**\n",
    "\n",
    "Все проблемы в названиях правильно обозначены\n",
    "</div>"
   ]
  },
  {
   "cell_type": "markdown",
   "metadata": {
    "id": "MCB6-dXG_Zct",
    "tags": []
   },
   "source": [
    "### Выводы по результату обзора данных"
   ]
  },
  {
   "cell_type": "markdown",
   "metadata": {},
   "source": [
    "В каждой строке таблицы — данные о прослушанном треке. Часть колонок описывает саму композицию: название, исполнителя и жанр. Остальные данные рассказывают о пользователе: из какого он города, когда он слушал музыку. \n",
    "\n",
    "Предварительно можно утверждать, что, данных достаточно для проверки гипотез. Но встречаются пропуски в данных, а в названиях колонок — расхождения с хорошим стилем."
   ]
  },
  {
   "cell_type": "markdown",
   "metadata": {
    "id": "SjYF6Ub9_Zct",
    "tags": []
   },
   "source": [
    "## Предобработка данных"
   ]
  },
  {
   "cell_type": "markdown",
   "metadata": {
    "id": "dIaKXr29_Zct",
    "tags": []
   },
   "source": [
    "### Исправление стиля заголовков."
   ]
  },
  {
   "cell_type": "markdown",
   "metadata": {},
   "source": [
    "Приведение стиля заголовков столбцов к единому стилю \"змеиный_регистр\"."
   ]
  },
  {
   "cell_type": "code",
   "execution_count": 4,
   "metadata": {
    "id": "oKOTdF_Q_Zct"
   },
   "outputs": [
    {
     "data": {
      "text/plain": [
       "Index(['  userID', 'Track', 'artist', 'genre', '  City  ', 'time', 'Day'], dtype='object')"
      ]
     },
     "execution_count": 4,
     "metadata": {},
     "output_type": "execute_result"
    }
   ],
   "source": [
    "# перечень названий столбцов таблицы df\n",
    "df.columns"
   ]
  },
  {
   "cell_type": "markdown",
   "metadata": {
    "id": "zj5534cv_Zct"
   },
   "source": [
    "Необходимо исправить следующие названия столбцов:\n",
    "* `'  userID'` → `'user_id'`;\n",
    "* `'Track'` → `'track'`;\n",
    "* `'  City  '` → `'city'`;\n",
    "* `'Day'` → `'day'`."
   ]
  },
  {
   "cell_type": "code",
   "execution_count": 5,
   "metadata": {
    "id": "ISlFqs5y_Zct"
   },
   "outputs": [
    {
     "data": {
      "text/plain": [
       "Index(['user_id', 'track', 'artist', 'genre', 'city', 'time', 'day'], dtype='object')"
      ]
     },
     "execution_count": 5,
     "metadata": {},
     "output_type": "execute_result"
    }
   ],
   "source": [
    "# переименование столбцов\n",
    "df = df.rename( columns={\n",
    "'  userID': 'user_id',\n",
    "'Track': 'track',\n",
    "'  City  ': 'city',\n",
    "'Day': 'day'\n",
    " }\n",
    ")\n",
    "\n",
    "# проверка результатов - перечень названий столбцов\n",
    "df.columns"
   ]
  },
  {
   "cell_type": "markdown",
   "metadata": {
    "id": "1dqbh00J_Zct"
   },
   "source": [
    "Переменование прошло успешно."
   ]
  },
  {
   "cell_type": "markdown",
   "metadata": {},
   "source": [
    "<div style=\"border:solid green 2px; padding: 20px\"> \n",
    "    \n",
    "**Комментарий ревьюера**\n",
    "\n",
    "**#ок**\n",
    "\n",
    "Хорошо, проблемы с названиями решены.\n",
    "\n",
    "</div>"
   ]
  },
  {
   "cell_type": "markdown",
   "metadata": {
    "id": "5ISfbcfY_Zct",
    "tags": []
   },
   "source": [
    "### Устранение пропусков значений."
   ]
  },
  {
   "cell_type": "markdown",
   "metadata": {},
   "source": [
    "На первом этапе устраним явные пропуски значений."
   ]
  },
  {
   "cell_type": "code",
   "execution_count": 6,
   "metadata": {
    "id": "RskX29qr_Zct"
   },
   "outputs": [
    {
     "data": {
      "text/plain": [
       "user_id       0\n",
       "track      1231\n",
       "artist     7203\n",
       "genre      1198\n",
       "city          0\n",
       "time          0\n",
       "day           0\n",
       "dtype: int64"
      ]
     },
     "execution_count": 6,
     "metadata": {},
     "output_type": "execute_result"
    }
   ],
   "source": [
    "# подсчёт пропусков\n",
    "df.isna().sum()"
   ]
  },
  {
   "cell_type": "markdown",
   "metadata": {
    "id": "qubhgnlO_Zct"
   },
   "source": [
    "Имеются пропуски в данных `track`, `artist` и `genre`.\n",
    "Произведём замену пропусков явным обозначением `unknown`, при этом нужно учесть, что согласно целей исследования наши результаты зависимы от данных жанра и независимы от названий исполнителя и трека, поэтому:\n",
    "    1. Замена значение в столбцах `track`, `artist` не влияют на результаты исследования;\n",
    "    2. Нужно будет оценить влияние замены значений в столбце `genre` на результаты исследования."
   ]
  },
  {
   "cell_type": "code",
   "execution_count": 7,
   "metadata": {
    "id": "KplB5qWs_Zct"
   },
   "outputs": [
    {
     "data": {
      "text/plain": [
       "user_id    0\n",
       "track      0\n",
       "artist     0\n",
       "genre      0\n",
       "city       0\n",
       "time       0\n",
       "day        0\n",
       "dtype: int64"
      ]
     },
     "execution_count": 7,
     "metadata": {},
     "output_type": "execute_result"
    }
   ],
   "source": [
    "# перебор названий столбцов в цикле и замена пропущенных значений на 'unknown'\n",
    "columns_to_replace = ['track','artist','genre']\n",
    "for column in columns_to_replace:\n",
    "    df[column] = df[column].fillna('unknown')\n",
    "    \n",
    "# подсчёт пропусков после замены пропущёных значений\n",
    "df.isna().sum()"
   ]
  },
  {
   "cell_type": "markdown",
   "metadata": {
    "id": "Ilsm-MZo_Zct"
   },
   "source": [
    "Устранение пропусков произведено корректно."
   ]
  },
  {
   "cell_type": "markdown",
   "metadata": {},
   "source": [
    "<div style=\"border:solid green 2px; padding: 20px\"> \n",
    "    \n",
    "**Комментарий ревьюера**\n",
    "\n",
    "**#ок**\n",
    "\n",
    "Отлично, все пропуски заполнены правильно, верно использован цикл\n",
    "\n",
    "</div>"
   ]
  },
  {
   "cell_type": "markdown",
   "metadata": {
    "id": "BWKRtBJ3_Zct",
    "tags": []
   },
   "source": [
    "### Устранение дубликатов"
   ]
  },
  {
   "cell_type": "markdown",
   "metadata": {},
   "source": [
    "Вначале посчитаем количество явных дубликатов в данных."
   ]
  },
  {
   "cell_type": "code",
   "execution_count": 8,
   "metadata": {
    "id": "36eES_S0_Zct"
   },
   "outputs": [
    {
     "data": {
      "text/plain": [
       "3826"
      ]
     },
     "execution_count": 8,
     "metadata": {},
     "output_type": "execute_result"
    }
   ],
   "source": [
    "# подсчёт явных дубликатов\n",
    "df.duplicated().sum()"
   ]
  },
  {
   "cell_type": "markdown",
   "metadata": {
    "id": "Ot25h6XR_Zct"
   },
   "source": [
    "Количесвто дубликатов равно 3826, довольно много для 65079 событий (больше 5%), нужно будет передать информацию в отдел сбора данных.\n",
    "Произведём удаление явных дубликатов и проверим их отсутствие."
   ]
  },
  {
   "cell_type": "code",
   "execution_count": 9,
   "metadata": {
    "id": "exFHq6tt_Zct"
   },
   "outputs": [
    {
     "data": {
      "text/plain": [
       "0"
      ]
     },
     "execution_count": 9,
     "metadata": {},
     "output_type": "execute_result"
    }
   ],
   "source": [
    "# удаление явных дубликатов (с удалением старых индексов и формированием новых)\n",
    "df = df = df.drop_duplicates().reset_index(drop=True)\n",
    "\n",
    "# проверка на отсутствие дубликатов\n",
    "df.duplicated().sum()"
   ]
  },
  {
   "cell_type": "markdown",
   "metadata": {},
   "source": [
    "<div style=\"border:solid green 2px; padding: 20px\"> \n",
    "    \n",
    "**Комментарий ревьюера**\n",
    "\n",
    "**#ок**\n",
    "\n",
    "Ок, все верно. Классно разобрались с дубликатами, но стоит подписывать выводимые значения не комментариями в коде, а непосредственно при выводе. Например,\n",
    "    \n",
    "\"Количество явных дубликатов: 3826\"\n",
    "\n",
    "</div>"
   ]
  },
  {
   "cell_type": "markdown",
   "metadata": {
    "id": "QlFBsxAr_Zct"
   },
   "source": [
    "Явные дубликаты удалены.\n",
    "Для качественного достижения заявленных целей исследования необходимо проверить данные в колонке 'genre' на наличие неявных дубликатов, для этого нужно изучить список уникальных названий жанров (для удобства отсортированных в алфавитном порядке)."
   ]
  },
  {
   "cell_type": "code",
   "execution_count": 10,
   "metadata": {
    "id": "JIUcqzZN_Zct"
   },
   "outputs": [
    {
     "data": {
      "text/plain": [
       "array(['acid', 'acoustic', 'action', 'adult', 'africa', 'afrikaans',\n",
       "       'alternative', 'alternativepunk', 'ambient', 'americana',\n",
       "       'animated', 'anime', 'arabesk', 'arabic', 'arena',\n",
       "       'argentinetango', 'art', 'audiobook', 'author', 'avantgarde',\n",
       "       'axé', 'baile', 'balkan', 'beats', 'bigroom', 'black', 'bluegrass',\n",
       "       'blues', 'bollywood', 'bossa', 'brazilian', 'breakbeat', 'breaks',\n",
       "       'broadway', 'cantautori', 'cantopop', 'canzone', 'caribbean',\n",
       "       'caucasian', 'celtic', 'chamber', 'chanson', 'children', 'chill',\n",
       "       'chinese', 'choral', 'christian', 'christmas', 'classical',\n",
       "       'classicmetal', 'club', 'colombian', 'comedy', 'conjazz',\n",
       "       'contemporary', 'country', 'cuban', 'dance', 'dancehall',\n",
       "       'dancepop', 'dark', 'death', 'deep', 'deutschrock', 'deutschspr',\n",
       "       'dirty', 'disco', 'dnb', 'documentary', 'downbeat', 'downtempo',\n",
       "       'drum', 'dub', 'dubstep', 'eastern', 'easy', 'electronic',\n",
       "       'electropop', 'emo', 'entehno', 'epicmetal', 'estrada', 'ethnic',\n",
       "       'eurofolk', 'european', 'experimental', 'extrememetal', 'fado',\n",
       "       'fairytail', 'film', 'fitness', 'flamenco', 'folk', 'folklore',\n",
       "       'folkmetal', 'folkrock', 'folktronica', 'forró', 'frankreich',\n",
       "       'französisch', 'french', 'funk', 'future', 'gangsta', 'garage',\n",
       "       'german', 'ghazal', 'gitarre', 'glitch', 'gospel', 'gothic',\n",
       "       'grime', 'grunge', 'gypsy', 'handsup', \"hard'n'heavy\", 'hardcore',\n",
       "       'hardstyle', 'hardtechno', 'hip', 'hip-hop', 'hiphop',\n",
       "       'historisch', 'holiday', 'hop', 'horror', 'house', 'hymn', 'idm',\n",
       "       'independent', 'indian', 'indie', 'indipop', 'industrial',\n",
       "       'inspirational', 'instrumental', 'international', 'irish', 'jam',\n",
       "       'japanese', 'jazz', 'jewish', 'jpop', 'jungle', 'k-pop',\n",
       "       'karadeniz', 'karaoke', 'kayokyoku', 'korean', 'laiko', 'latin',\n",
       "       'latino', 'leftfield', 'local', 'lounge', 'loungeelectronic',\n",
       "       'lovers', 'malaysian', 'mandopop', 'marschmusik', 'meditative',\n",
       "       'mediterranean', 'melodic', 'metal', 'metalcore', 'mexican',\n",
       "       'middle', 'minimal', 'miscellaneous', 'modern', 'mood', 'mpb',\n",
       "       'muslim', 'native', 'neoklassik', 'neue', 'new', 'newage',\n",
       "       'newwave', 'nu', 'nujazz', 'numetal', 'oceania', 'old', 'opera',\n",
       "       'orchestral', 'other', 'piano', 'podcasts', 'pop', 'popdance',\n",
       "       'popelectronic', 'popeurodance', 'poprussian', 'post',\n",
       "       'posthardcore', 'postrock', 'power', 'progmetal', 'progressive',\n",
       "       'psychedelic', 'punjabi', 'punk', 'quebecois', 'ragga', 'ram',\n",
       "       'rancheras', 'rap', 'rave', 'reggae', 'reggaeton', 'regional',\n",
       "       'relax', 'religious', 'retro', 'rhythm', 'rnb', 'rnr', 'rock',\n",
       "       'rockabilly', 'rockalternative', 'rockindie', 'rockother',\n",
       "       'romance', 'roots', 'ruspop', 'rusrap', 'rusrock', 'russian',\n",
       "       'salsa', 'samba', 'scenic', 'schlager', 'self', 'sertanejo',\n",
       "       'shanson', 'shoegazing', 'showtunes', 'singer', 'ska', 'skarock',\n",
       "       'slow', 'smooth', 'soft', 'soul', 'soulful', 'sound', 'soundtrack',\n",
       "       'southern', 'specialty', 'speech', 'spiritual', 'sport',\n",
       "       'stonerrock', 'surf', 'swing', 'synthpop', 'synthrock',\n",
       "       'sängerportrait', 'tango', 'tanzorchester', 'taraftar', 'tatar',\n",
       "       'tech', 'techno', 'teen', 'thrash', 'top', 'traditional',\n",
       "       'tradjazz', 'trance', 'tribal', 'trip', 'triphop', 'tropical',\n",
       "       'türk', 'türkçe', 'ukrrock', 'unknown', 'urban', 'uzbek',\n",
       "       'variété', 'vi', 'videogame', 'vocal', 'western', 'world',\n",
       "       'worldbeat', 'ïîï', 'электроника'], dtype=object)"
      ]
     },
     "execution_count": 10,
     "metadata": {},
     "output_type": "execute_result"
    }
   ],
   "source": [
    "# Просмотр уникальных названий жанров, отсортированных в алфивитном порядке\n",
    "\n",
    "df['genre'].sort_values().unique()"
   ]
  },
  {
   "cell_type": "markdown",
   "metadata": {},
   "source": [
    "<div style=\"border:solid green 2px; padding: 20px\"> \n",
    "    \n",
    "**Комментарий ревьюера**\n",
    "\n",
    "**#ок**\n",
    "\n",
    "Отлично, сортировка правильно сделана. Верно, что ты сделал все в одну строку, без дополнительных переменных\n",
    "</div>"
   ]
  },
  {
   "cell_type": "markdown",
   "metadata": {
    "id": "qej-Qmuo_Zct"
   },
   "source": [
    "Визуальный осмотр таблицы позволил выявить следующие неявные дубликаты:\n",
    "* *hip*, *hop*, *hip-hop* - `hiphop`,\n",
    "* *ïîï* - `indie`,\n",
    "* *электроника* - `electronic`,\n",
    "* *türkçe* - `türk`\n",
    "* *afrikaans* - `africa`\n",
    "\n",
    "Напишем функцию для исправления неявных дубликатов `replace_wrong_genres()` с двумя параметрами: \n",
    "* `wrong_genres` — список дубликатов,\n",
    "* `correct_genre` — строка с правильным значением."
   ]
  },
  {
   "cell_type": "code",
   "execution_count": 11,
   "metadata": {
    "id": "ErNDkmns_Zct"
   },
   "outputs": [],
   "source": [
    "# Функция для замены неявных дубликатов\n",
    "# Функция должна исправить колонку `genre` в таблице `df`: заменить каждое значение из списка `wrong_genres` на значение из `correct_genre`\n",
    "\n",
    "def replace_wrong_genres(wrong_genres, correct_genre):\n",
    "    for wrong_genre in wrong_genres:\n",
    "        df['genre'] = df['genre'].replace(wrong_genre, correct_genre)"
   ]
  },
  {
   "cell_type": "markdown",
   "metadata": {
    "id": "aDoBJxbA_Zct"
   },
   "source": [
    "Устраним выявленные неявные дублирования вызовом функции `replace_wrong_genres()`, передав ей аргументы для каждого жанра.\n",
    "И выведем изменённый список жанров для контроля."
   ]
  },
  {
   "cell_type": "code",
   "execution_count": 12,
   "metadata": {
    "id": "YN5i2hpmSo09"
   },
   "outputs": [
    {
     "data": {
      "text/plain": [
       "array(['acid', 'acoustic', 'action', 'adult', 'africa', 'alternative',\n",
       "       'alternativepunk', 'ambient', 'americana', 'animated', 'anime',\n",
       "       'arabesk', 'arabic', 'arena', 'argentinetango', 'art', 'audiobook',\n",
       "       'author', 'avantgarde', 'axé', 'baile', 'balkan', 'beats',\n",
       "       'bigroom', 'black', 'bluegrass', 'blues', 'bollywood', 'bossa',\n",
       "       'brazilian', 'breakbeat', 'breaks', 'broadway', 'cantautori',\n",
       "       'cantopop', 'canzone', 'caribbean', 'caucasian', 'celtic',\n",
       "       'chamber', 'chanson', 'children', 'chill', 'chinese', 'choral',\n",
       "       'christian', 'christmas', 'classical', 'classicmetal', 'club',\n",
       "       'colombian', 'comedy', 'conjazz', 'contemporary', 'country',\n",
       "       'cuban', 'dance', 'dancehall', 'dancepop', 'dark', 'death', 'deep',\n",
       "       'deutschrock', 'deutschspr', 'dirty', 'disco', 'dnb',\n",
       "       'documentary', 'downbeat', 'downtempo', 'drum', 'dub', 'dubstep',\n",
       "       'eastern', 'easy', 'electronic', 'electropop', 'emo', 'entehno',\n",
       "       'epicmetal', 'estrada', 'ethnic', 'eurofolk', 'european',\n",
       "       'experimental', 'extrememetal', 'fado', 'fairytail', 'film',\n",
       "       'fitness', 'flamenco', 'folk', 'folklore', 'folkmetal', 'folkrock',\n",
       "       'folktronica', 'forró', 'frankreich', 'französisch', 'french',\n",
       "       'funk', 'future', 'gangsta', 'garage', 'german', 'ghazal',\n",
       "       'gitarre', 'glitch', 'gospel', 'gothic', 'grime', 'grunge',\n",
       "       'gypsy', 'handsup', \"hard'n'heavy\", 'hardcore', 'hardstyle',\n",
       "       'hardtechno', 'hiphop', 'historisch', 'holiday', 'horror', 'house',\n",
       "       'hymn', 'idm', 'independent', 'indian', 'indie', 'indipop',\n",
       "       'industrial', 'inspirational', 'instrumental', 'international',\n",
       "       'irish', 'jam', 'japanese', 'jazz', 'jewish', 'jpop', 'jungle',\n",
       "       'k-pop', 'karadeniz', 'karaoke', 'kayokyoku', 'korean', 'laiko',\n",
       "       'latin', 'latino', 'leftfield', 'local', 'lounge',\n",
       "       'loungeelectronic', 'lovers', 'malaysian', 'mandopop',\n",
       "       'marschmusik', 'meditative', 'mediterranean', 'melodic', 'metal',\n",
       "       'metalcore', 'mexican', 'middle', 'minimal', 'miscellaneous',\n",
       "       'modern', 'mood', 'mpb', 'muslim', 'native', 'neoklassik', 'neue',\n",
       "       'new', 'newage', 'newwave', 'nu', 'nujazz', 'numetal', 'oceania',\n",
       "       'old', 'opera', 'orchestral', 'other', 'piano', 'podcasts', 'pop',\n",
       "       'popdance', 'popelectronic', 'popeurodance', 'poprussian', 'post',\n",
       "       'posthardcore', 'postrock', 'power', 'progmetal', 'progressive',\n",
       "       'psychedelic', 'punjabi', 'punk', 'quebecois', 'ragga', 'ram',\n",
       "       'rancheras', 'rap', 'rave', 'reggae', 'reggaeton', 'regional',\n",
       "       'relax', 'religious', 'retro', 'rhythm', 'rnb', 'rnr', 'rock',\n",
       "       'rockabilly', 'rockalternative', 'rockindie', 'rockother',\n",
       "       'romance', 'roots', 'ruspop', 'rusrap', 'rusrock', 'russian',\n",
       "       'salsa', 'samba', 'scenic', 'schlager', 'self', 'sertanejo',\n",
       "       'shanson', 'shoegazing', 'showtunes', 'singer', 'ska', 'skarock',\n",
       "       'slow', 'smooth', 'soft', 'soul', 'soulful', 'sound', 'soundtrack',\n",
       "       'southern', 'specialty', 'speech', 'spiritual', 'sport',\n",
       "       'stonerrock', 'surf', 'swing', 'synthpop', 'synthrock',\n",
       "       'sängerportrait', 'tango', 'tanzorchester', 'taraftar', 'tatar',\n",
       "       'tech', 'techno', 'teen', 'thrash', 'top', 'traditional',\n",
       "       'tradjazz', 'trance', 'tribal', 'trip', 'triphop', 'tropical',\n",
       "       'türk', 'ukrrock', 'unknown', 'urban', 'uzbek', 'variété', 'vi',\n",
       "       'videogame', 'vocal', 'western', 'world', 'worldbeat'],\n",
       "      dtype=object)"
      ]
     },
     "execution_count": 12,
     "metadata": {},
     "output_type": "execute_result"
    }
   ],
   "source": [
    "# список аргументов для hiphop, indie, electronic, türk, africa, передаваемых циклом в функцию replace_wrong_genres()\n",
    "arguments_for_replace = [\n",
    "    [['hip', 'hop', 'hip-hop'], 'hiphop'],\n",
    "    [['ïîï'], 'indie'],\n",
    "    [['электроника'], 'electronic'],\n",
    "    [['türkçe'], 'türk'],\n",
    "    [['afrikaans'], 'africa']]\n",
    "    \n",
    "# Циклический вызов функции для замены неявных дубликатов\n",
    "for argument in arguments_for_replace:\n",
    "    wrong_genre = argument[0]\n",
    "    correct_genre = argument[1]\n",
    "    replace_wrong_genres(wrong_genre, correct_genre)\n",
    "    \n",
    "# Проверка на неявные дубликаты\n",
    "df['genre'].sort_values().unique()"
   ]
  },
  {
   "cell_type": "markdown",
   "metadata": {},
   "source": [
    "Визуальный осмотр таблицы подтвердил устранение неявных дубликовто в названиях жанров."
   ]
  },
  {
   "cell_type": "markdown",
   "metadata": {},
   "source": [
    "<div style=\"border:solid green 2px; padding: 20px\"> \n",
    "    \n",
    "**Комментарий ревьюера**\n",
    "\n",
    "**#ок**\n",
    "\n",
    "Хорошо, ошибки в написании жанров поправили. Здорово, что ты посмотрел на проблемы шире, чем в задании. \n",
    "\n",
    "</div>"
   ]
  },
  {
   "cell_type": "markdown",
   "metadata": {
    "id": "jz6a9-7HQUDd",
    "tags": []
   },
   "source": [
    "### Выводы по результату предобработки данных."
   ]
  },
  {
   "cell_type": "markdown",
   "metadata": {},
   "source": [
    "В ходе предобработки данных были устранены следующие замечания и нарушения:\n",
    "- заголовки приведены к единому стилю \"змеиный_регистр\",\n",
    "- заполнены отсутствующие данные на `'unknown'`,\n",
    "- устранены дубликаты: явные и неявные.\n",
    "\n",
    "Обратить особое внимание:\n",
    "- передать в отдел сбора данных информацию о большом количестве дубликатов в БД, более 5 %,\n",
    "- проверить влияние изначальных пропусков в колонке `'genre'` на результаты исследования.\n",
    "\n",
    "Данные готовы для проверки гипотез обозначеных в целях исследования."
   ]
  },
  {
   "cell_type": "markdown",
   "metadata": {
    "id": "WttZHXH0SqKk",
    "tags": []
   },
   "source": [
    "## Проверка гипотез"
   ]
  },
  {
   "cell_type": "markdown",
   "metadata": {
    "id": "Im936VVi_Zcu",
    "jp-MarkdownHeadingCollapsed": true,
    "tags": []
   },
   "source": [
    "### Сравнение поведения пользователей двух столиц"
   ]
  },
  {
   "cell_type": "markdown",
   "metadata": {
    "id": "nwt_MuaL_Zcu"
   },
   "source": [
    "Первая гипотеза утверждает, что пользователи по-разному слушают музыку в Москве и Санкт-Петербурге. Проверим это предположение по данным о трёх днях недели — понедельнике, среде и пятнице.\n",
    "\n",
    "Для этого создадим функцию `number_tracks()`, которая посчитает прослушивания для заданного дня и города. Ей понадобятся два параметра:\n",
    "* день недели - `day`,\n",
    "* название города - `city`."
   ]
  },
  {
   "cell_type": "code",
   "execution_count": 13,
   "metadata": {
    "id": "Nz3GdQB1_Zcu"
   },
   "outputs": [],
   "source": [
    "# <создание функции number_tracks()>\n",
    "# Параметры: day - день недели, city - город.\n",
    "# В переменной track_list сохраняются те строки таблицы df, для которых \n",
    "# значение в столбце 'day' равно параметру day и одновременно значение\n",
    "# в столбце 'city' равно параметру city.\n",
    "# В переменной track_list_count сохраняется число значений столбца 'user_id',\n",
    "# рассчитанное методом count() для таблицы track_list.\n",
    "# Функция возвращает число - значение track_list_count.\n",
    "\n",
    "def number_tracks(day, city):\n",
    "    track_list = df[(df['day'] == day) & (df['city'] == city)]\n",
    "    track_list_count = track_list['user_id'].count()\n",
    "    return track_list_count  "
   ]
  },
  {
   "cell_type": "markdown",
   "metadata": {
    "id": "7QXffbO-_Zcu"
   },
   "source": [
    "Создадим словарь списков `number_tracks_result`, который через два цикл заполним результатами вычислений функции `number_tracks()`.\n",
    "C помощью конструктора `pd.DataFrame` создадим таблицу, параметром которого будет словарь списков `number_tracks_result`, где\n",
    "* названия колонок — ключи словаря списков `number_tracks_result`;\n",
    "* данные — списки к соответствующими ключами (дни недели) словаря списков `number_tracks_result`."
   ]
  },
  {
   "cell_type": "code",
   "execution_count": 14,
   "metadata": {},
   "outputs": [
    {
     "data": {
      "text/html": [
       "<div>\n",
       "<style scoped>\n",
       "    .dataframe tbody tr th:only-of-type {\n",
       "        vertical-align: middle;\n",
       "    }\n",
       "\n",
       "    .dataframe tbody tr th {\n",
       "        vertical-align: top;\n",
       "    }\n",
       "\n",
       "    .dataframe thead th {\n",
       "        text-align: right;\n",
       "    }\n",
       "</style>\n",
       "<table border=\"1\" class=\"dataframe\">\n",
       "  <thead>\n",
       "    <tr style=\"text-align: right;\">\n",
       "      <th></th>\n",
       "      <th>Monday</th>\n",
       "      <th>Wednesday</th>\n",
       "      <th>Friday</th>\n",
       "    </tr>\n",
       "    <tr>\n",
       "      <th>city</th>\n",
       "      <th></th>\n",
       "      <th></th>\n",
       "      <th></th>\n",
       "    </tr>\n",
       "  </thead>\n",
       "  <tbody>\n",
       "    <tr>\n",
       "      <td>Moscow</td>\n",
       "      <td>15740</td>\n",
       "      <td>11056</td>\n",
       "      <td>15945</td>\n",
       "    </tr>\n",
       "    <tr>\n",
       "      <td>Saint-Petersburg</td>\n",
       "      <td>5614</td>\n",
       "      <td>7003</td>\n",
       "      <td>5895</td>\n",
       "    </tr>\n",
       "  </tbody>\n",
       "</table>\n",
       "</div>"
      ],
      "text/plain": [
       "                  Monday  Wednesday  Friday\n",
       "city                                       \n",
       "Moscow             15740      11056   15945\n",
       "Saint-Petersburg    5614       7003    5895"
      ]
     },
     "metadata": {},
     "output_type": "display_data"
    }
   ],
   "source": [
    "# словарь списков вычилений количества прослушиваний для дней недели и города\n",
    "number_tracks_result = {'city':['Moscow','Saint-Petersburg'], 'Monday':[], 'Wednesday':[], 'Friday':[]}\n",
    "\n",
    "# Заполнение значениями словаря списков, в первом цикле перебираются дни недели, во втором цикле перебираются города,\n",
    "# значения вычисляются вызовом функции number_tracks() и заносятся в словарь списков\n",
    "for day in ['Monday','Wednesday','Friday']:\n",
    "    for city in number_tracks_result['city']:\n",
    "        number_tracks_result[day].append(number_tracks(day, city))\n",
    "\n",
    "#Создадим таблицу DataFrame, из словаря списков number_tracks_result и выведем на экран\n",
    "df_number_tracks_result = pd.DataFrame(number_tracks_result)\n",
    "df_number_tracks_result.set_index('city', inplace = True)\n",
    "display(df_number_tracks_result)"
   ]
  },
  {
   "cell_type": "markdown",
   "metadata": {},
   "source": [
    "<div style=\"border:solid green 2px; padding: 20px\"> \n",
    "    \n",
    "**Комментарий ревьюера**\n",
    "\n",
    "**#ок**\n",
    "\n",
    "Отлично, датасет правильно собран.\n",
    "\n",
    "Немного более точно было бы без цикла написать\n",
    "\n",
    "    pd.DataFrame(data=[['Moscow', number_tracks(day='Monday', city='Moscow'), number_tracks(day='Wednesday', city='Moscow'), number_tracks(day='Friday', city='Moscow')], ...\n",
    "                                        \n",
    "    \n",
    "</div>"
   ]
  },
  {
   "cell_type": "markdown",
   "metadata": {},
   "source": [
    "Проверка гипотезы показывает, что имеется отличие в прослушивании музыки по дням недели. Среда для Москвы менее активный день, для Санкт-Петербурга это самый активный день."
   ]
  },
  {
   "cell_type": "markdown",
   "metadata": {
    "id": "-EgPIHYu_Zcu",
    "jp-MarkdownHeadingCollapsed": true,
    "tags": []
   },
   "source": [
    "### Вывод о поведении пользователей двух столиц в зависимости от дня недели."
   ]
  },
  {
   "cell_type": "markdown",
   "metadata": {},
   "source": [
    "Данные показывают разницу поведения пользователей:\n",
    "\n",
    "- В Москве пик прослушиваний приходится на понедельник и пятницу, а в среду заметен спад.\n",
    "- В Петербурге, наоборот, больше слушают музыку по средам. Активность в понедельник и пятницу здесь почти в равной мере уступает среде.\n",
    "\n",
    "Значит, данные говорят в пользу первой гипотезы."
   ]
  },
  {
   "cell_type": "markdown",
   "metadata": {
    "id": "atZAxtq4_Zcu",
    "jp-MarkdownHeadingCollapsed": true,
    "tags": []
   },
   "source": [
    "### Музыка в начале и в конце недели"
   ]
  },
  {
   "cell_type": "markdown",
   "metadata": {
    "id": "eXrQqXFH_Zcu"
   },
   "source": [
    "Согласно второй гипотезе, утром в понедельник в Москве преобладают одни жанры, а в Петербурге — другие. Так же и вечером пятницы преобладают разные жанры — в зависимости от города.\n",
    "\n",
    "Проверку данной гипотезы начнём с создания двух таблиц, в которые отдельно сохраним прослушивания треков для Москвы и Санкт-Петербурга:\n",
    "* по Москве — в `moscow_general`;\n",
    "* по Санкт-Петербургу — в `spb_general`."
   ]
  },
  {
   "cell_type": "code",
   "execution_count": 15,
   "metadata": {
    "id": "qeaFfM_P_Zcu"
   },
   "outputs": [],
   "source": [
    "# получение таблицы moscow_general из тех строк таблицы df, \n",
    "# для которых значение в столбце 'city' равно 'Moscow'\n",
    "moscow_general = df[df['city'] == 'Moscow'].reset_index(drop=True)\n",
    "\n",
    "# получение таблицы spb_general из тех строк таблицы df,\n",
    "# для которых значение в столбце 'city' равно 'Saint-Petersburg'\n",
    "spb_general = df[df['city'] == 'Saint-Petersburg'].reset_index(drop=True)"
   ]
  },
  {
   "cell_type": "markdown",
   "metadata": {
    "id": "MEJV-CX2_Zcu"
   },
   "source": [
    "Создадим функцию `genre_weekday()` с четырьмя параметрами:\n",
    "* таблица (датафрейм) с данными,\n",
    "* день недели,\n",
    "* начальная временная метка в формате 'hh:mm', \n",
    "* последняя временная метка в формате 'hh:mm'.\n",
    "\n",
    "Функция должна вернуть информацию о топ-10 жанров тех треков, которые прослушивали в указанный день, в промежутке между двумя отметками времени."
   ]
  },
  {
   "cell_type": "code",
   "execution_count": 16,
   "metadata": {
    "id": "laJT9BYl_Zcu"
   },
   "outputs": [],
   "source": [
    "# Объявление функции genre_weekday() с параметрами table, day, time1, time2,\n",
    "# которая возвращает информацию о самых популярных жанрах в указанный день в\n",
    "# заданное время:\n",
    "# 1) в переменную genre_df сохраняются те строки переданного датафрейма table, для\n",
    "#    которых одновременно:\n",
    "#    - значение в столбце day равно значению аргумента day\n",
    "#    - значение в столбце time больше значения аргумента time1\n",
    "#    - значение в столбце time меньше значения аргумента time2\n",
    "#    Используйем последовательную фильтрацию с помощью логической индексации.\n",
    "# 2) сгруппируем датафрейм genre_df по столбцу genre, возьмём столбец 'user_id'\n",
    "#    и посчитаем методом count() количество записей для каждого из\n",
    "#    присутствующих жанров, получившийся Series запишем в переменную\n",
    "#    genre_df_count\n",
    "# 3) отсортируем genre_df_count по убыванию и сохраним\n",
    "#    в переменную genre_df_sorted\n",
    "# 4) вернём группировку ключей и значений Series из 10 первых значений genre_df_sorted,\n",
    "#    это будут топ-10 популярных жанров (в указанный день, в заданное время).\n",
    "\n",
    "def genre_weekday(table, day, time1, time2):\n",
    "    genre_df = table[table['day'] == day]\n",
    "    genre_df = genre_df[genre_df['time'] > time1]\n",
    "    genre_df = genre_df[genre_df['time'] < time2]\n",
    "    genre_df_count = genre_df.groupby('genre')['user_id'].count()\n",
    "    genre_df_sorted = genre_df_count.sort_values(ascending=False)\n",
    "    return zip(genre_df_sorted[:10].keys().tolist(), genre_df_sorted[:10].to_list())"
   ]
  },
  {
   "cell_type": "markdown",
   "metadata": {
    "id": "la2s2_PF_Zcu"
   },
   "source": [
    "Cравните результаты функции `genre_weekday()` для Москвы и Санкт-Петербурга в понедельник утром (с 7:00 до 11:00) и в пятницу вечером (с 17:00 до 23:00):"
   ]
  },
  {
   "cell_type": "code",
   "execution_count": 17,
   "metadata": {},
   "outputs": [
    {
     "data": {
      "text/html": [
       "<div>\n",
       "<style scoped>\n",
       "    .dataframe tbody tr th:only-of-type {\n",
       "        vertical-align: middle;\n",
       "    }\n",
       "\n",
       "    .dataframe tbody tr th {\n",
       "        vertical-align: top;\n",
       "    }\n",
       "\n",
       "    .dataframe thead th {\n",
       "        text-align: right;\n",
       "    }\n",
       "</style>\n",
       "<table border=\"1\" class=\"dataframe\">\n",
       "  <thead>\n",
       "    <tr style=\"text-align: right;\">\n",
       "      <th></th>\n",
       "      <th>Moscow Monday 07:00-11:00</th>\n",
       "      <th>Saint-Petersburg Monday 07:00-11:00</th>\n",
       "      <th>Moscow Friday 17:00-23:00</th>\n",
       "      <th>Saint-Petersburg Friday 17:00-23:00</th>\n",
       "    </tr>\n",
       "  </thead>\n",
       "  <tbody>\n",
       "    <tr>\n",
       "      <td>0</td>\n",
       "      <td>(pop, 781)</td>\n",
       "      <td>(pop, 218)</td>\n",
       "      <td>(pop, 713)</td>\n",
       "      <td>(pop, 256)</td>\n",
       "    </tr>\n",
       "    <tr>\n",
       "      <td>1</td>\n",
       "      <td>(dance, 549)</td>\n",
       "      <td>(dance, 182)</td>\n",
       "      <td>(rock, 517)</td>\n",
       "      <td>(rock, 216)</td>\n",
       "    </tr>\n",
       "    <tr>\n",
       "      <td>2</td>\n",
       "      <td>(electronic, 480)</td>\n",
       "      <td>(rock, 162)</td>\n",
       "      <td>(dance, 495)</td>\n",
       "      <td>(electronic, 216)</td>\n",
       "    </tr>\n",
       "    <tr>\n",
       "      <td>3</td>\n",
       "      <td>(rock, 474)</td>\n",
       "      <td>(electronic, 147)</td>\n",
       "      <td>(electronic, 482)</td>\n",
       "      <td>(dance, 210)</td>\n",
       "    </tr>\n",
       "    <tr>\n",
       "      <td>4</td>\n",
       "      <td>(hiphop, 286)</td>\n",
       "      <td>(hiphop, 80)</td>\n",
       "      <td>(hiphop, 273)</td>\n",
       "      <td>(hiphop, 97)</td>\n",
       "    </tr>\n",
       "    <tr>\n",
       "      <td>5</td>\n",
       "      <td>(ruspop, 186)</td>\n",
       "      <td>(ruspop, 64)</td>\n",
       "      <td>(world, 208)</td>\n",
       "      <td>(alternative, 63)</td>\n",
       "    </tr>\n",
       "    <tr>\n",
       "      <td>6</td>\n",
       "      <td>(world, 181)</td>\n",
       "      <td>(alternative, 58)</td>\n",
       "      <td>(ruspop, 170)</td>\n",
       "      <td>(jazz, 61)</td>\n",
       "    </tr>\n",
       "    <tr>\n",
       "      <td>7</td>\n",
       "      <td>(rusrap, 175)</td>\n",
       "      <td>(rusrap, 55)</td>\n",
       "      <td>(classical, 163)</td>\n",
       "      <td>(classical, 60)</td>\n",
       "    </tr>\n",
       "    <tr>\n",
       "      <td>8</td>\n",
       "      <td>(alternative, 164)</td>\n",
       "      <td>(jazz, 44)</td>\n",
       "      <td>(alternative, 163)</td>\n",
       "      <td>(rusrap, 59)</td>\n",
       "    </tr>\n",
       "    <tr>\n",
       "      <td>9</td>\n",
       "      <td>(unknown, 161)</td>\n",
       "      <td>(classical, 40)</td>\n",
       "      <td>(rusrap, 142)</td>\n",
       "      <td>(world, 54)</td>\n",
       "    </tr>\n",
       "  </tbody>\n",
       "</table>\n",
       "</div>"
      ],
      "text/plain": [
       "  Moscow Monday 07:00-11:00 Saint-Petersburg Monday 07:00-11:00  \\\n",
       "0                (pop, 781)                          (pop, 218)   \n",
       "1              (dance, 549)                        (dance, 182)   \n",
       "2         (electronic, 480)                         (rock, 162)   \n",
       "3               (rock, 474)                   (electronic, 147)   \n",
       "4             (hiphop, 286)                        (hiphop, 80)   \n",
       "5             (ruspop, 186)                        (ruspop, 64)   \n",
       "6              (world, 181)                   (alternative, 58)   \n",
       "7             (rusrap, 175)                        (rusrap, 55)   \n",
       "8        (alternative, 164)                          (jazz, 44)   \n",
       "9            (unknown, 161)                     (classical, 40)   \n",
       "\n",
       "  Moscow Friday 17:00-23:00 Saint-Petersburg Friday 17:00-23:00  \n",
       "0                (pop, 713)                          (pop, 256)  \n",
       "1               (rock, 517)                         (rock, 216)  \n",
       "2              (dance, 495)                   (electronic, 216)  \n",
       "3         (electronic, 482)                        (dance, 210)  \n",
       "4             (hiphop, 273)                        (hiphop, 97)  \n",
       "5              (world, 208)                   (alternative, 63)  \n",
       "6             (ruspop, 170)                          (jazz, 61)  \n",
       "7          (classical, 163)                     (classical, 60)  \n",
       "8        (alternative, 163)                        (rusrap, 59)  \n",
       "9             (rusrap, 142)                         (world, 54)  "
      ]
     },
     "execution_count": 17,
     "metadata": {},
     "output_type": "execute_result"
    }
   ],
   "source": [
    "# создадим словарь, ключами которого будут: названия города, день недели и время, \n",
    "# а значениями список десяти самых популярных жанров вычесленных функцией genre_weekday()\n",
    "dict_genre_weekday = {}\n",
    "\n",
    "# ключи и заполнения словаря dict_genre_weekday заполняются циклическим вызовом функции genre_weekday(),\n",
    "# первый цикл перебирает список с днём недели и временем проведения исследования,\n",
    "# второй цикл перебирает таблицы с данными по городам.\n",
    "for day_time in [['Monday', '07:00', '11:00'],['Friday', '17:00', '23:00']]:\n",
    "    for city_df in [moscow_general, spb_general]:\n",
    "        dict_genre_weekday[f\"{city_df['city'][0]} {day_time[0]} {day_time[1]}-{day_time[2]}\"] = genre_weekday(city_df, day_time[0], day_time[1], day_time[2])\n",
    "\n",
    "# вывод DataFrame таблицы, созданной из словаря dict_genre_weekday       \n",
    "pd.DataFrame(dict_genre_weekday)"
   ]
  },
  {
   "cell_type": "markdown",
   "metadata": {},
   "source": [
    "Из таблицы видно, что значительных расхождений в жанровых предпочтениях не наблюдается. Абсолютный лидер по жанрам `Рор`.\n",
    "Влияние отсутствующих данных `unknown`, также не должно принципиально изменить расстановку жанров, наблюдается только на 10 месте для Москвы утро понедельника (может повлиять только на нижнюю часть таблицы)."
   ]
  },
  {
   "cell_type": "markdown",
   "metadata": {},
   "source": [
    "<div style=\"border:solid green 2px; padding: 20px\"> \n",
    "    \n",
    "**Комментарий ревьюера**\n",
    "\n",
    "**#ок**\n",
    "\n",
    "Ок, функция написана верно и результат требуемый получен\n",
    "\n",
    "Все же немного более читаемым был бы вариант с 4-мя отдельными таблицами\n",
    "</div>"
   ]
  },
  {
   "cell_type": "markdown",
   "metadata": {
    "id": "wrCe4MNX_Zcu",
    "jp-MarkdownHeadingCollapsed": true,
    "tags": []
   },
   "source": [
    "### Выводы о влиянии начала и конца недели на жанровые предпочтения."
   ]
  },
  {
   "cell_type": "markdown",
   "metadata": {},
   "source": [
    "Если сравнить топ-10 жанров в понедельник утром, можно сделать такие выводы:\n",
    "\n",
    "1. В Москве и Петербурге слушают похожую музыку. Единственное отличие — в московский рейтинг вошёл жанр “world”, а в петербургский — джаз и классика.\n",
    "\n",
    "2. В Москве пропущенных значений оказалось достаточно, что значение `'unknown'` заняло десятое место среди самых популярных жанров. Но значительного влияния на лидирующие жанры не оказывает.\n",
    "\n",
    "Вечер пятницы не меняет эту картину. Некоторые жанры поднимаются немного выше, другие спускаются, но в целом топ-10 остаётся тем же самым.\n",
    "\n",
    "Таким образом, вторая гипотеза подтвердилась лишь частично:\n",
    "* Пользователи слушают похожую музыку в начале недели и в конце.\n",
    "* Разница между Москвой и Петербургом не слишком выражена. В Москве чаще слушают русскую популярную музыку, в Петербурге — джаз."
   ]
  },
  {
   "cell_type": "markdown",
   "metadata": {
    "id": "JolODAqr_Zcu",
    "jp-MarkdownHeadingCollapsed": true,
    "tags": []
   },
   "source": [
    "### Жанровые предпочтения в Москве и Петербурге\n",
    "\n"
   ]
  },
  {
   "cell_type": "markdown",
   "metadata": {
    "id": "DlegSvaT_Zcu"
   },
   "source": [
    "Третья гипотеза: Петербург — столица рэпа, музыку этого жанра там слушают чаще, чем в Москве.  А Москва — город контрастов, в котором, тем не менее, преобладает поп-музыка.\n",
    "\n",
    "Сгруппируем таблицу `moscow_general` по жанру и посчитаем прослушивания треков каждого жанра методом `count()`. Затем отсортируем результат в порядке убывания и сохраним его в таблице `moscow_genres` и выведем первые 10 строк данной таблицы."
   ]
  },
  {
   "cell_type": "code",
   "execution_count": 18,
   "metadata": {
    "id": "r19lIPke_Zcu"
   },
   "outputs": [
    {
     "data": {
      "text/plain": [
       "genre\n",
       "pop            5892\n",
       "dance          4435\n",
       "rock           3965\n",
       "electronic     3786\n",
       "hiphop         2096\n",
       "classical      1616\n",
       "world          1432\n",
       "alternative    1379\n",
       "ruspop         1372\n",
       "rusrap         1161\n",
       "Name: genre, dtype: int64"
      ]
     },
     "execution_count": 18,
     "metadata": {},
     "output_type": "execute_result"
    }
   ],
   "source": [
    "# одной строкой: группировка таблицы moscow_general по столбцу 'genre', \n",
    "# подсчёт числа значений 'genre' в этой группировке методом count(), \n",
    "# сортировка получившегося Series в порядке убывания и сохранение в moscow_genres\n",
    "\n",
    "moscow_genres = moscow_general.groupby('genre')['genre'].count().sort_values(ascending=False)\n",
    "moscow_genres[:10]"
   ]
  },
  {
   "cell_type": "markdown",
   "metadata": {
    "id": "cnPG2vnN_Zcv"
   },
   "source": [
    "Повторим то же для Санкт-Петербурга.\n",
    "\n",
    "Сгруппируем таблицу `spb_general` по жанру и посчитаем прослушивания треков каждого жанра методом `count()`. Затем отсортируем результат в порядке убывания и сохраним его в таблице `spb_genres` и выведем первые 10 строк данной таблицы."
   ]
  },
  {
   "cell_type": "code",
   "execution_count": 19,
   "metadata": {
    "id": "gluLIpE7_Zcv"
   },
   "outputs": [
    {
     "data": {
      "text/plain": [
       "genre\n",
       "pop            2431\n",
       "dance          1932\n",
       "rock           1879\n",
       "electronic     1737\n",
       "hiphop          960\n",
       "alternative     649\n",
       "classical       646\n",
       "rusrap          564\n",
       "ruspop          538\n",
       "world           515\n",
       "Name: genre, dtype: int64"
      ]
     },
     "execution_count": 19,
     "metadata": {},
     "output_type": "execute_result"
    }
   ],
   "source": [
    "# одной строкой: группировка таблицы spb_general по столбцу 'genre', \n",
    "# подсчёт числа значений 'genre' в этой группировке методом count(), \n",
    "# сортировка получившегося Series в порядке убывания и сохранение в spb_genres\n",
    "\n",
    "spb_genres = spb_general.groupby('genre')['genre'].count().sort_values(ascending=False)\n",
    "spb_genres[:10]"
   ]
  },
  {
   "cell_type": "markdown",
   "metadata": {},
   "source": [
    "Для удобста сравнения результатов по Москве и Санкт-Петербургу, отобразим результаты по жанровым предпочтениям в одной таблице.\n",
    "При помощи метода `zip` сгруппируем ключи и значения таблиц `moscow_genres` и `spb_genres`, результат группировки сохраним в переменной `moskov_spb_genres`.\n",
    "На основе переменной `moskov_spb_genres` сформируем таблицу предпочтения по первым 10 жанрам для Москвы и Санкт-Петербурга и выведем её на экран."
   ]
  },
  {
   "cell_type": "code",
   "execution_count": 20,
   "metadata": {},
   "outputs": [
    {
     "data": {
      "text/html": [
       "<div>\n",
       "<style scoped>\n",
       "    .dataframe tbody tr th:only-of-type {\n",
       "        vertical-align: middle;\n",
       "    }\n",
       "\n",
       "    .dataframe tbody tr th {\n",
       "        vertical-align: top;\n",
       "    }\n",
       "\n",
       "    .dataframe thead th {\n",
       "        text-align: right;\n",
       "    }\n",
       "</style>\n",
       "<table border=\"1\" class=\"dataframe\">\n",
       "  <thead>\n",
       "    <tr style=\"text-align: right;\">\n",
       "      <th></th>\n",
       "      <th>Moscow</th>\n",
       "      <th>Saint-Petersburg</th>\n",
       "    </tr>\n",
       "  </thead>\n",
       "  <tbody>\n",
       "    <tr>\n",
       "      <td>0</td>\n",
       "      <td>(pop, 5892)</td>\n",
       "      <td>(pop, 2431)</td>\n",
       "    </tr>\n",
       "    <tr>\n",
       "      <td>1</td>\n",
       "      <td>(dance, 4435)</td>\n",
       "      <td>(dance, 1932)</td>\n",
       "    </tr>\n",
       "    <tr>\n",
       "      <td>2</td>\n",
       "      <td>(rock, 3965)</td>\n",
       "      <td>(rock, 1879)</td>\n",
       "    </tr>\n",
       "    <tr>\n",
       "      <td>3</td>\n",
       "      <td>(electronic, 3786)</td>\n",
       "      <td>(electronic, 1737)</td>\n",
       "    </tr>\n",
       "    <tr>\n",
       "      <td>4</td>\n",
       "      <td>(hiphop, 2096)</td>\n",
       "      <td>(hiphop, 960)</td>\n",
       "    </tr>\n",
       "    <tr>\n",
       "      <td>5</td>\n",
       "      <td>(classical, 1616)</td>\n",
       "      <td>(alternative, 649)</td>\n",
       "    </tr>\n",
       "    <tr>\n",
       "      <td>6</td>\n",
       "      <td>(world, 1432)</td>\n",
       "      <td>(classical, 646)</td>\n",
       "    </tr>\n",
       "    <tr>\n",
       "      <td>7</td>\n",
       "      <td>(alternative, 1379)</td>\n",
       "      <td>(rusrap, 564)</td>\n",
       "    </tr>\n",
       "    <tr>\n",
       "      <td>8</td>\n",
       "      <td>(ruspop, 1372)</td>\n",
       "      <td>(ruspop, 538)</td>\n",
       "    </tr>\n",
       "    <tr>\n",
       "      <td>9</td>\n",
       "      <td>(rusrap, 1161)</td>\n",
       "      <td>(world, 515)</td>\n",
       "    </tr>\n",
       "  </tbody>\n",
       "</table>\n",
       "</div>"
      ],
      "text/plain": [
       "                Moscow    Saint-Petersburg\n",
       "0          (pop, 5892)         (pop, 2431)\n",
       "1        (dance, 4435)       (dance, 1932)\n",
       "2         (rock, 3965)        (rock, 1879)\n",
       "3   (electronic, 3786)  (electronic, 1737)\n",
       "4       (hiphop, 2096)       (hiphop, 960)\n",
       "5    (classical, 1616)  (alternative, 649)\n",
       "6        (world, 1432)    (classical, 646)\n",
       "7  (alternative, 1379)       (rusrap, 564)\n",
       "8       (ruspop, 1372)       (ruspop, 538)\n",
       "9       (rusrap, 1161)        (world, 515)"
      ]
     },
     "execution_count": 20,
     "metadata": {},
     "output_type": "execute_result"
    }
   ],
   "source": [
    "# методом zip() производится три группировки, результат соханяется в переменной moskov_spb_genres:\n",
    "# 1) группируются жанры и значения прослушиваний для них из таблицы moscow_genres (10 самых популярных),\n",
    "# 2) группируются жанры и значения прослушиваний для них из таблицы spb_genres (10 самых популярных),\n",
    "# 3) группируются результаты первых двух группирововк, что в дальнейшем будет использована как строки в DataFrame\n",
    "\n",
    "moskov_spb_genres = zip(zip(moscow_genres[:10][:10].keys().tolist(),\n",
    "                            moscow_genres[:10][:10].to_list()),\n",
    "                        zip(spb_genres[:10][:10].keys().tolist(),\n",
    "                            spb_genres[:10][:10].to_list()))\n",
    "\n",
    "# переменная moskov_spb_genres выступает параметром для конструктора DataFrame, результат выводится на экран\n",
    "\n",
    "pd.DataFrame(moskov_spb_genres, columns=('Moscow','Saint-Petersburg'))"
   ]
  },
  {
   "cell_type": "markdown",
   "metadata": {},
   "source": [
    "<div style=\"border:solid green 2px; padding: 20px\"> \n",
    "    \n",
    "**Комментарий ревьюера**\n",
    "\n",
    "**#ок**\n",
    "\n",
    "Отлично, в этой части тоже все верно сделано\n",
    "</div>"
   ]
  },
  {
   "cell_type": "markdown",
   "metadata": {
    "id": "RY51YJYu_Zcv",
    "jp-MarkdownHeadingCollapsed": true,
    "tags": []
   },
   "source": [
    "### Выводы о жанровых предпочтениях."
   ]
  },
  {
   "cell_type": "markdown",
   "metadata": {
    "id": "nVhnJEm__Zcv"
   },
   "source": [
    "Гипотеза о жанровых предпочтениях двух городов частично подтвердилась:\n",
    "* Поп-музыка — самый популярный жанр в Москве, как и предполагала гипотеза. Более того, в топ-10 жанров встречается близкий жанр — русская популярная музыка.\n",
    "* Вопреки ожиданиям, рэп в Санкт-Петербурге занимает только 8 местов рейтинге, а возглавляет рейтинг, так-же как и в Мосвке популярная музыка. \n"
   ]
  },
  {
   "cell_type": "markdown",
   "metadata": {
    "id": "ykKQ0N65_Zcv",
    "jp-MarkdownHeadingCollapsed": true,
    "tags": []
   },
   "source": [
    "## Итоги исследования"
   ]
  },
  {
   "cell_type": "markdown",
   "metadata": {
    "id": "tjUwbHb3_Zcv"
   },
   "source": [
    "**В ходе исследования была проведена проверка трёх гипотез и установлено:**\n",
    "\n",
    "1. День недели по-разному влияет на активность пользователей в Москве и Петербурге. Установлено:\n",
    "    * В Москве пик прослушиваний приходится на понедельник и пятницу, а в среду заметен спад.\n",
    "    * В Петербурге, наоборот, больше слушают музыку по средам. Активность в понедельник и пятницу здесь почти в равной мере уступает среде.\n",
    "\n",
    "\n",
    "2. Музыкальные предпочтения не сильно меняются в течение недели — будь то Москва или Петербург. Небольшие различия заметны в начале недели, по понедельникам:\n",
    "   * Пользователи слушают похожую музыку в начале недели и в конце.\n",
    "   * Разница между Москвой и Петербургом не слишком выражена. В Москве чаще слушают русскую популярную музыку, в Петербурге — джаз.\n",
    "\n",
    "\n",
    "3. Во вкусах пользователей Москвы и Петербурга больше общего чем различий. Вопреки ожиданиям, предпочтения жанров в Петербурге напоминают московские:\n",
    "    * Поп-музыка — самый популярный жанр в Москве, как и предполагала гипотеза. Более того, в топ-10 жанров встречается близкий жанр — русская популярная музыка.\n",
    "    * Вопреки ожиданиям, рэп в Санкт-Петербурге занимает только 8 местов рейтинге, а возглавляет рейтинг, так-же как и в Мосвке популярная музыка. \n",
    "\n",
    "\n",
    "**Дополнительная информация:**\n",
    "* в ходе предобработки данных установлено наличие прокусков в данных, это не повлияло значительно на результаты исследования, но рекомендуется принять меры для более корректного сбора данных,\n",
    "* в ходе предобработки данных установлено наличие большого количества дубликатов (более 5%), рекомендуется принять меры для более корректного сбора данных."
   ]
  },
  {
   "cell_type": "markdown",
   "metadata": {},
   "source": [
    "<div style=\"border:solid green 2px; padding: 20px\"> \n",
    "\n",
    "**Общий комментарий по проекту**\n",
    "\n",
    "Ты отлично поработал над проектом, молодец. Ты сделал хороший самостоятельный анализ.\n",
    "    \n",
    "Ты молодец, отлично справляешься с программой.  Дальше все будет интереснее и сложнее.\n",
    "    \n",
    "Поправь, пожалуйста, небольшую неточность, чтобы я могла принять проект.\n",
    "\n",
    "Удачи.\n",
    "    \n",
    "</div>"
   ]
  },
  {
   "cell_type": "code",
   "execution_count": null,
   "metadata": {},
   "outputs": [],
   "source": []
  }
 ],
 "metadata": {
  "ExecuteTimeLog": [
   {
    "duration": 1720,
    "start_time": "2022-02-05T20:57:00.074Z"
   },
   {
    "duration": 743,
    "start_time": "2022-02-08T11:57:14.629Z"
   },
   {
    "duration": 19,
    "start_time": "2022-02-08T11:57:15.375Z"
   },
   {
    "duration": 26,
    "start_time": "2022-02-08T11:57:15.408Z"
   },
   {
    "duration": 5,
    "start_time": "2022-02-08T11:57:15.436Z"
   },
   {
    "duration": 27,
    "start_time": "2022-02-08T11:57:15.443Z"
   },
   {
    "duration": 50,
    "start_time": "2022-02-08T11:57:15.472Z"
   },
   {
    "duration": 42,
    "start_time": "2022-02-08T11:57:15.524Z"
   },
   {
    "duration": 88,
    "start_time": "2022-02-08T11:57:15.569Z"
   },
   {
    "duration": 142,
    "start_time": "2022-02-08T11:57:15.659Z"
   },
   {
    "duration": 49,
    "start_time": "2022-02-08T11:57:15.802Z"
   },
   {
    "duration": 3,
    "start_time": "2022-02-08T11:57:15.853Z"
   },
   {
    "duration": 78,
    "start_time": "2022-02-08T11:57:15.858Z"
   },
   {
    "duration": 3,
    "start_time": "2022-02-08T11:57:15.938Z"
   },
   {
    "duration": 99,
    "start_time": "2022-02-08T11:57:15.943Z"
   },
   {
    "duration": 25,
    "start_time": "2022-02-08T11:57:16.045Z"
   },
   {
    "duration": 5,
    "start_time": "2022-02-08T11:57:16.072Z"
   },
   {
    "duration": 85,
    "start_time": "2022-02-08T11:57:16.079Z"
   },
   {
    "duration": 11,
    "start_time": "2022-02-08T11:57:16.166Z"
   },
   {
    "duration": 9,
    "start_time": "2022-02-08T11:57:16.179Z"
   },
   {
    "duration": 30,
    "start_time": "2022-02-08T11:57:16.190Z"
   },
   {
    "duration": 16,
    "start_time": "2022-02-08T12:06:47.985Z"
   },
   {
    "duration": 773,
    "start_time": "2022-02-08T12:06:56.537Z"
   },
   {
    "duration": 20,
    "start_time": "2022-02-08T12:06:57.312Z"
   },
   {
    "duration": 41,
    "start_time": "2022-02-08T12:06:57.335Z"
   },
   {
    "duration": 27,
    "start_time": "2022-02-08T12:06:57.380Z"
   },
   {
    "duration": 30,
    "start_time": "2022-02-08T12:06:57.409Z"
   },
   {
    "duration": 30,
    "start_time": "2022-02-08T12:06:57.441Z"
   },
   {
    "duration": 62,
    "start_time": "2022-02-08T12:06:57.473Z"
   },
   {
    "duration": 80,
    "start_time": "2022-02-08T12:06:57.539Z"
   },
   {
    "duration": 147,
    "start_time": "2022-02-08T12:06:57.622Z"
   },
   {
    "duration": 55,
    "start_time": "2022-02-08T12:06:57.772Z"
   },
   {
    "duration": 3,
    "start_time": "2022-02-08T12:06:57.830Z"
   },
   {
    "duration": 76,
    "start_time": "2022-02-08T12:06:57.835Z"
   },
   {
    "duration": 3,
    "start_time": "2022-02-08T12:06:57.914Z"
   },
   {
    "duration": 94,
    "start_time": "2022-02-08T12:06:57.920Z"
   },
   {
    "duration": 32,
    "start_time": "2022-02-08T12:06:58.015Z"
   },
   {
    "duration": 4,
    "start_time": "2022-02-08T12:06:58.049Z"
   },
   {
    "duration": 93,
    "start_time": "2022-02-08T12:06:58.055Z"
   },
   {
    "duration": 11,
    "start_time": "2022-02-08T12:06:58.150Z"
   },
   {
    "duration": 12,
    "start_time": "2022-02-08T12:06:58.163Z"
   },
   {
    "duration": 33,
    "start_time": "2022-02-08T12:06:58.177Z"
   },
   {
    "duration": 793,
    "start_time": "2022-02-08T12:08:04.891Z"
   },
   {
    "duration": 26,
    "start_time": "2022-02-08T12:08:05.686Z"
   },
   {
    "duration": 27,
    "start_time": "2022-02-08T12:08:05.714Z"
   },
   {
    "duration": 4,
    "start_time": "2022-02-08T12:08:05.744Z"
   },
   {
    "duration": 58,
    "start_time": "2022-02-08T12:08:05.751Z"
   },
   {
    "duration": 27,
    "start_time": "2022-02-08T12:08:05.811Z"
   },
   {
    "duration": 49,
    "start_time": "2022-02-08T12:08:05.840Z"
   },
   {
    "duration": 82,
    "start_time": "2022-02-08T12:08:05.891Z"
   },
   {
    "duration": 148,
    "start_time": "2022-02-08T12:08:05.977Z"
   },
   {
    "duration": 43,
    "start_time": "2022-02-08T12:08:06.127Z"
   },
   {
    "duration": 6,
    "start_time": "2022-02-08T12:08:06.172Z"
   },
   {
    "duration": 80,
    "start_time": "2022-02-08T12:08:06.180Z"
   },
   {
    "duration": 4,
    "start_time": "2022-02-08T12:08:06.262Z"
   },
   {
    "duration": 92,
    "start_time": "2022-02-08T12:08:06.269Z"
   },
   {
    "duration": 24,
    "start_time": "2022-02-08T12:08:06.363Z"
   },
   {
    "duration": 19,
    "start_time": "2022-02-08T12:08:06.389Z"
   },
   {
    "duration": 73,
    "start_time": "2022-02-08T12:08:06.410Z"
   },
   {
    "duration": 23,
    "start_time": "2022-02-08T12:08:06.485Z"
   },
   {
    "duration": 9,
    "start_time": "2022-02-08T12:08:06.510Z"
   },
   {
    "duration": 15,
    "start_time": "2022-02-08T12:08:06.521Z"
   },
   {
    "duration": 346,
    "start_time": "2022-02-13T18:25:53.391Z"
   },
   {
    "duration": 898,
    "start_time": "2022-02-13T18:26:24.556Z"
   },
   {
    "duration": 23,
    "start_time": "2022-02-13T18:26:25.457Z"
   },
   {
    "duration": 51,
    "start_time": "2022-02-13T18:26:25.483Z"
   },
   {
    "duration": 5,
    "start_time": "2022-02-13T18:26:25.537Z"
   },
   {
    "duration": 31,
    "start_time": "2022-02-13T18:26:25.545Z"
   },
   {
    "duration": 60,
    "start_time": "2022-02-13T18:26:25.579Z"
   },
   {
    "duration": 48,
    "start_time": "2022-02-13T18:26:25.642Z"
   },
   {
    "duration": 106,
    "start_time": "2022-02-13T18:26:25.694Z"
   },
   {
    "duration": 181,
    "start_time": "2022-02-13T18:26:25.803Z"
   },
   {
    "duration": 66,
    "start_time": "2022-02-13T18:26:25.986Z"
   },
   {
    "duration": 4,
    "start_time": "2022-02-13T18:26:26.054Z"
   },
   {
    "duration": 100,
    "start_time": "2022-02-13T18:26:26.060Z"
   },
   {
    "duration": 4,
    "start_time": "2022-02-13T18:26:26.162Z"
   },
   {
    "duration": 106,
    "start_time": "2022-02-13T18:26:26.169Z"
   },
   {
    "duration": 29,
    "start_time": "2022-02-13T18:26:26.277Z"
   },
   {
    "duration": 24,
    "start_time": "2022-02-13T18:26:26.308Z"
   },
   {
    "duration": 87,
    "start_time": "2022-02-13T18:26:26.335Z"
   },
   {
    "duration": 14,
    "start_time": "2022-02-13T18:26:26.432Z"
   },
   {
    "duration": 38,
    "start_time": "2022-02-13T18:26:26.448Z"
   },
   {
    "duration": 31,
    "start_time": "2022-02-13T18:26:26.488Z"
   },
   {
    "duration": 972,
    "start_time": "2022-02-13T18:27:05.695Z"
   },
   {
    "duration": 28,
    "start_time": "2022-02-13T18:27:06.670Z"
   },
   {
    "duration": 57,
    "start_time": "2022-02-13T18:27:06.702Z"
   },
   {
    "duration": 5,
    "start_time": "2022-02-13T18:27:06.762Z"
   },
   {
    "duration": 38,
    "start_time": "2022-02-13T18:27:06.769Z"
   },
   {
    "duration": 50,
    "start_time": "2022-02-13T18:27:06.809Z"
   },
   {
    "duration": 73,
    "start_time": "2022-02-13T18:27:06.861Z"
   },
   {
    "duration": 97,
    "start_time": "2022-02-13T18:27:06.938Z"
   },
   {
    "duration": 180,
    "start_time": "2022-02-13T18:27:07.038Z"
   },
   {
    "duration": 66,
    "start_time": "2022-02-13T18:27:07.221Z"
   },
   {
    "duration": 4,
    "start_time": "2022-02-13T18:27:07.291Z"
   },
   {
    "duration": 110,
    "start_time": "2022-02-13T18:27:07.298Z"
   },
   {
    "duration": 4,
    "start_time": "2022-02-13T18:27:07.410Z"
   },
   {
    "duration": 100,
    "start_time": "2022-02-13T18:27:07.432Z"
   },
   {
    "duration": 27,
    "start_time": "2022-02-13T18:27:07.534Z"
   },
   {
    "duration": 6,
    "start_time": "2022-02-13T18:27:07.564Z"
   },
   {
    "duration": 105,
    "start_time": "2022-02-13T18:27:07.572Z"
   },
   {
    "duration": 13,
    "start_time": "2022-02-13T18:27:07.680Z"
   },
   {
    "duration": 11,
    "start_time": "2022-02-13T18:27:07.696Z"
   },
   {
    "duration": 28,
    "start_time": "2022-02-13T18:27:07.733Z"
   }
  ],
  "colab": {
   "collapsed_sections": [
    "E0vqbgi9ay0H",
    "VUC88oWjTJw2"
   ],
   "name": "yandex_music_project_2021.2.ipynb",
   "provenance": []
  },
  "kernelspec": {
   "display_name": "Python 3 (ipykernel)",
   "language": "python",
   "name": "python3"
  },
  "language_info": {
   "codemirror_mode": {
    "name": "ipython",
    "version": 3
   },
   "file_extension": ".py",
   "mimetype": "text/x-python",
   "name": "python",
   "nbconvert_exporter": "python",
   "pygments_lexer": "ipython3",
   "version": "3.9.5"
  },
  "toc": {
   "base_numbering": 1,
   "nav_menu": {},
   "number_sections": true,
   "sideBar": true,
   "skip_h1_title": true,
   "title_cell": "Table of Contents",
   "title_sidebar": "Contents",
   "toc_cell": false,
   "toc_position": {},
   "toc_section_display": true,
   "toc_window_display": true
  }
 },
 "nbformat": 4,
 "nbformat_minor": 1
}
