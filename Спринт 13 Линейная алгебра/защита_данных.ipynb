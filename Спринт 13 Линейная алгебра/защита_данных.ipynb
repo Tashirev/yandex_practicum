{
 "cells": [
  {
   "cell_type": "markdown",
   "metadata": {},
   "source": [
    " <div class=\"alert alert-success\" style=\"border-color: green; border-radius: 5px\">\n",
    "    <font color='green'> <b><u>КОММЕНТАРИЙ РЕВЬЮЕРА</u></b>\n",
    "\n",
    "Денис, доброго дня! рад приветствовать тебя) <br />\n",
    "<br />\n",
    "Меня зовут Николай Шавлюго. <br />И на этом этапе твоего движения к новой профессии от меня будут комментарии по написанному коду. <br />Чтобы меньше \"мусорить эфир\" и чтобы максимально наглядно отделяться от основного кода, есть предложение условиться в некоторых обозначениях:<br /> <br />\n",
    "<div class=\"alert alert-success\" style=\"border-color: green; border-radius: 5px\">\n",
    "    <p><u><b>✅ КОММЕНТАРИЙ РЕВЬЮЕРА</b></u></p>\n",
    "    <p>Всё хорошо.</p>\n",
    "</div>\n",
    "\n",
    "<div class=\"alert alert-warning\" style=\"border-color: darkorange; border-radius: 5px\">\n",
    "    <p><u><b>⚠️ КОММЕНТАРИЙ РЕВЬЮЕРА</b></u></p>\n",
    "    <p>Обрати внимание, есть потенциал</p>\n",
    "</div>\n",
    "\n",
    "<div class=\"alert alert-danger\" style=\"border-color: darkred; border-radius: 5px\">\n",
    "    <p><u><b>❌ КОММЕНТАРИЙ РЕВЬЮЕРА</b></u></p>\n",
    "    <p>Нужно ещё раз глянуть</p>\n",
    "</div>\n",
    "</font><br /><br />\n",
    "<font color='green'>Моей целью является не \"уличить\" в не знании, а просто высказать сверху твоих знаний - свой опыт, что бы тебе использовать его для своего дальнейшего успеха) И очень здорово будет, если удастся задавать вопросы, да и вообще - всячески доставать меня, если я по каким-то причинам не приму проект:) При этом, из своего опыта скажу, хорошо и важно, когда переписка ревьюера и студента - сохраняется на следующие проекты и даже на будущую практическую деятельность.<br>\n",
    "<br> Я сразу же начал общаться на ты:) но если это не очень удобно, то дай знать)) <BR> В ПУТЬ!<br></div>"
   ]
  },
  {
   "cell_type": "markdown",
   "metadata": {
    "toc": true
   },
   "source": [
    "<h1>Содержание<span class=\"tocSkip\"></span></h1>\n",
    "<div class=\"toc\"><ul class=\"toc-item\"><li><span><a href=\"#Подключим-необходимые-модули-и-библиотеки-Python\" data-toc-modified-id=\"Подключим-необходимые-модули-и-библиотеки-Python-1\"><span class=\"toc-item-num\">1&nbsp;&nbsp;</span>Подключим необходимые модули и библиотеки Python</a></span></li><li><span><a href=\"#Загрузка-данных\" data-toc-modified-id=\"Загрузка-данных-2\"><span class=\"toc-item-num\">2&nbsp;&nbsp;</span>Загрузка данных</a></span><ul class=\"toc-item\"><li><span><a href=\"#Предварительный-осмотр-данных\" data-toc-modified-id=\"Предварительный-осмотр-данных-2.1\"><span class=\"toc-item-num\">2.1&nbsp;&nbsp;</span>Предварительный осмотр данных</a></span></li></ul></li><li><span><a href=\"#Умножение-матриц\" data-toc-modified-id=\"Умножение-матриц-3\"><span class=\"toc-item-num\">3&nbsp;&nbsp;</span>Умножение матриц</a></span></li><li><span><a href=\"#Алгоритм-преобразования\" data-toc-modified-id=\"Алгоритм-преобразования-4\"><span class=\"toc-item-num\">4&nbsp;&nbsp;</span>Алгоритм преобразования</a></span><ul class=\"toc-item\"><li><span><a href=\"#Алгоритм\" data-toc-modified-id=\"Алгоритм-4.1\"><span class=\"toc-item-num\">4.1&nbsp;&nbsp;</span>Алгоритм</a></span></li><li><span><a href=\"#Обоснование\" data-toc-modified-id=\"Обоснование-4.2\"><span class=\"toc-item-num\">4.2&nbsp;&nbsp;</span>Обоснование</a></span></li></ul></li><li><span><a href=\"#Проверка-алгоритма\" data-toc-modified-id=\"Проверка-алгоритма-5\"><span class=\"toc-item-num\">5&nbsp;&nbsp;</span>Проверка алгоритма</a></span></li><li><span><a href=\"#Вывод\" data-toc-modified-id=\"Вывод-6\"><span class=\"toc-item-num\">6&nbsp;&nbsp;</span>Вывод</a></span></li><li><span><a href=\"#Чек-лист-проверки\" data-toc-modified-id=\"Чек-лист-проверки-7\"><span class=\"toc-item-num\">7&nbsp;&nbsp;</span>Чек-лист проверки</a></span></li></ul></div>"
   ]
  },
  {
   "cell_type": "markdown",
   "metadata": {},
   "source": [
    "# Защита персональных данных клиентов"
   ]
  },
  {
   "cell_type": "markdown",
   "metadata": {},
   "source": [
    "Вам нужно защитить данные клиентов страховой компании «Хоть потоп». Разработайте такой метод преобразования данных, чтобы по ним было сложно восстановить персональную информацию. Обоснуйте корректность его работы.\n",
    "\n",
    "Нужно защитить данные, чтобы при преобразовании качество моделей машинного обучения не ухудшилось. Подбирать наилучшую модель не требуется."
   ]
  },
  {
   "cell_type": "markdown",
   "metadata": {},
   "source": [
    "## Подключим необходимые модули и библиотеки Python"
   ]
  },
  {
   "cell_type": "code",
   "execution_count": 1,
   "metadata": {},
   "outputs": [],
   "source": [
    "# подключим модули\n",
    "import pandas as pd\n",
    "import numpy as np\n",
    "from sklearn.model_selection import train_test_split\n",
    "from sklearn.linear_model import LinearRegression\n",
    "from sklearn.metrics import r2_score\n",
    "\n",
    "# создадим константу для фиксации псевдослучайности\n",
    "STATE = 777"
   ]
  },
  {
   "cell_type": "markdown",
   "metadata": {},
   "source": [
    "## Загрузка данных\n",
    "Данные предоставлены в виде csv-файла."
   ]
  },
  {
   "cell_type": "code",
   "execution_count": 2,
   "metadata": {},
   "outputs": [],
   "source": [
    "insurance = pd.read_csv('/datasets/insurance.csv')"
   ]
  },
  {
   "cell_type": "markdown",
   "metadata": {},
   "source": [
    "### Предварительный осмотр данных\n",
    "- Посмотрим первые 5 строк таблицы,\n",
    "- Основные статистики количественных переменных,\n",
    "- Сводную информацию о таблице."
   ]
  },
  {
   "cell_type": "code",
   "execution_count": 3,
   "metadata": {
    "scrolled": false
   },
   "outputs": [
    {
     "name": "stdout",
     "output_type": "stream",
     "text": [
      "******************** Первые пять строк таблицы. ********************\n"
     ]
    },
    {
     "data": {
      "text/html": [
       "<div>\n",
       "<style scoped>\n",
       "    .dataframe tbody tr th:only-of-type {\n",
       "        vertical-align: middle;\n",
       "    }\n",
       "\n",
       "    .dataframe tbody tr th {\n",
       "        vertical-align: top;\n",
       "    }\n",
       "\n",
       "    .dataframe thead th {\n",
       "        text-align: right;\n",
       "    }\n",
       "</style>\n",
       "<table border=\"1\" class=\"dataframe\">\n",
       "  <thead>\n",
       "    <tr style=\"text-align: right;\">\n",
       "      <th></th>\n",
       "      <th>Пол</th>\n",
       "      <th>Возраст</th>\n",
       "      <th>Зарплата</th>\n",
       "      <th>Члены семьи</th>\n",
       "      <th>Страховые выплаты</th>\n",
       "    </tr>\n",
       "  </thead>\n",
       "  <tbody>\n",
       "    <tr>\n",
       "      <th>0</th>\n",
       "      <td>1</td>\n",
       "      <td>41.0</td>\n",
       "      <td>49600.0</td>\n",
       "      <td>1</td>\n",
       "      <td>0</td>\n",
       "    </tr>\n",
       "    <tr>\n",
       "      <th>1</th>\n",
       "      <td>0</td>\n",
       "      <td>46.0</td>\n",
       "      <td>38000.0</td>\n",
       "      <td>1</td>\n",
       "      <td>1</td>\n",
       "    </tr>\n",
       "    <tr>\n",
       "      <th>2</th>\n",
       "      <td>0</td>\n",
       "      <td>29.0</td>\n",
       "      <td>21000.0</td>\n",
       "      <td>0</td>\n",
       "      <td>0</td>\n",
       "    </tr>\n",
       "    <tr>\n",
       "      <th>3</th>\n",
       "      <td>0</td>\n",
       "      <td>21.0</td>\n",
       "      <td>41700.0</td>\n",
       "      <td>2</td>\n",
       "      <td>0</td>\n",
       "    </tr>\n",
       "    <tr>\n",
       "      <th>4</th>\n",
       "      <td>1</td>\n",
       "      <td>28.0</td>\n",
       "      <td>26100.0</td>\n",
       "      <td>0</td>\n",
       "      <td>0</td>\n",
       "    </tr>\n",
       "  </tbody>\n",
       "</table>\n",
       "</div>"
      ],
      "text/plain": [
       "   Пол  Возраст  Зарплата  Члены семьи  Страховые выплаты\n",
       "0    1     41.0   49600.0            1                  0\n",
       "1    0     46.0   38000.0            1                  1\n",
       "2    0     29.0   21000.0            0                  0\n",
       "3    0     21.0   41700.0            2                  0\n",
       "4    1     28.0   26100.0            0                  0"
      ]
     },
     "metadata": {},
     "output_type": "display_data"
    },
    {
     "name": "stdout",
     "output_type": "stream",
     "text": [
      "********** Основные статистики количественных переменных. **********\n"
     ]
    },
    {
     "data": {
      "text/html": [
       "<div>\n",
       "<style scoped>\n",
       "    .dataframe tbody tr th:only-of-type {\n",
       "        vertical-align: middle;\n",
       "    }\n",
       "\n",
       "    .dataframe tbody tr th {\n",
       "        vertical-align: top;\n",
       "    }\n",
       "\n",
       "    .dataframe thead th {\n",
       "        text-align: right;\n",
       "    }\n",
       "</style>\n",
       "<table border=\"1\" class=\"dataframe\">\n",
       "  <thead>\n",
       "    <tr style=\"text-align: right;\">\n",
       "      <th></th>\n",
       "      <th>Пол</th>\n",
       "      <th>Возраст</th>\n",
       "      <th>Зарплата</th>\n",
       "      <th>Члены семьи</th>\n",
       "      <th>Страховые выплаты</th>\n",
       "    </tr>\n",
       "  </thead>\n",
       "  <tbody>\n",
       "    <tr>\n",
       "      <th>count</th>\n",
       "      <td>5000.000000</td>\n",
       "      <td>5000.000000</td>\n",
       "      <td>5000.000000</td>\n",
       "      <td>5000.000000</td>\n",
       "      <td>5000.000000</td>\n",
       "    </tr>\n",
       "    <tr>\n",
       "      <th>mean</th>\n",
       "      <td>0.499000</td>\n",
       "      <td>30.952800</td>\n",
       "      <td>39916.360000</td>\n",
       "      <td>1.194200</td>\n",
       "      <td>0.148000</td>\n",
       "    </tr>\n",
       "    <tr>\n",
       "      <th>std</th>\n",
       "      <td>0.500049</td>\n",
       "      <td>8.440807</td>\n",
       "      <td>9900.083569</td>\n",
       "      <td>1.091387</td>\n",
       "      <td>0.463183</td>\n",
       "    </tr>\n",
       "    <tr>\n",
       "      <th>min</th>\n",
       "      <td>0.000000</td>\n",
       "      <td>18.000000</td>\n",
       "      <td>5300.000000</td>\n",
       "      <td>0.000000</td>\n",
       "      <td>0.000000</td>\n",
       "    </tr>\n",
       "    <tr>\n",
       "      <th>25%</th>\n",
       "      <td>0.000000</td>\n",
       "      <td>24.000000</td>\n",
       "      <td>33300.000000</td>\n",
       "      <td>0.000000</td>\n",
       "      <td>0.000000</td>\n",
       "    </tr>\n",
       "    <tr>\n",
       "      <th>50%</th>\n",
       "      <td>0.000000</td>\n",
       "      <td>30.000000</td>\n",
       "      <td>40200.000000</td>\n",
       "      <td>1.000000</td>\n",
       "      <td>0.000000</td>\n",
       "    </tr>\n",
       "    <tr>\n",
       "      <th>75%</th>\n",
       "      <td>1.000000</td>\n",
       "      <td>37.000000</td>\n",
       "      <td>46600.000000</td>\n",
       "      <td>2.000000</td>\n",
       "      <td>0.000000</td>\n",
       "    </tr>\n",
       "    <tr>\n",
       "      <th>max</th>\n",
       "      <td>1.000000</td>\n",
       "      <td>65.000000</td>\n",
       "      <td>79000.000000</td>\n",
       "      <td>6.000000</td>\n",
       "      <td>5.000000</td>\n",
       "    </tr>\n",
       "  </tbody>\n",
       "</table>\n",
       "</div>"
      ],
      "text/plain": [
       "               Пол      Возраст      Зарплата  Члены семьи  Страховые выплаты\n",
       "count  5000.000000  5000.000000   5000.000000  5000.000000        5000.000000\n",
       "mean      0.499000    30.952800  39916.360000     1.194200           0.148000\n",
       "std       0.500049     8.440807   9900.083569     1.091387           0.463183\n",
       "min       0.000000    18.000000   5300.000000     0.000000           0.000000\n",
       "25%       0.000000    24.000000  33300.000000     0.000000           0.000000\n",
       "50%       0.000000    30.000000  40200.000000     1.000000           0.000000\n",
       "75%       1.000000    37.000000  46600.000000     2.000000           0.000000\n",
       "max       1.000000    65.000000  79000.000000     6.000000           5.000000"
      ]
     },
     "metadata": {},
     "output_type": "display_data"
    },
    {
     "name": "stdout",
     "output_type": "stream",
     "text": [
      "******************* Сводная информация о таблице. *******************\n",
      "<class 'pandas.core.frame.DataFrame'>\n",
      "RangeIndex: 5000 entries, 0 to 4999\n",
      "Data columns (total 5 columns):\n",
      " #   Column             Non-Null Count  Dtype  \n",
      "---  ------             --------------  -----  \n",
      " 0   Пол                5000 non-null   int64  \n",
      " 1   Возраст            5000 non-null   float64\n",
      " 2   Зарплата           5000 non-null   float64\n",
      " 3   Члены семьи        5000 non-null   int64  \n",
      " 4   Страховые выплаты  5000 non-null   int64  \n",
      "dtypes: float64(2), int64(3)\n",
      "memory usage: 195.4 KB\n"
     ]
    },
    {
     "data": {
      "text/plain": [
       "None"
      ]
     },
     "metadata": {},
     "output_type": "display_data"
    }
   ],
   "source": [
    "print('*'*20,'Первые пять строк таблицы.','*'*20)\n",
    "display(insurance.head())\n",
    "print('*'*10,'Основные статистики количественных переменных.','*'*10)\n",
    "display(insurance.describe())\n",
    "print('*'*19,'Сводная информация о таблице.','*'*19)\n",
    "display(insurance.info())"
   ]
  },
  {
   "cell_type": "markdown",
   "metadata": {},
   "source": [
    "<div class=\"alert alert-success\" style=\"border-color: green; border-radius: 5px\">\n",
    "    <p><u><b>✅ КОММЕНТАРИЙ РЕВЬЮЕРА</b></u></p>\n",
    "Данные на базе) ОК, хорошо, когда есть аналитическая культура - обязательно делать первичный анализ данных, не смотря на проект)"
   ]
  },
  {
   "cell_type": "markdown",
   "metadata": {},
   "source": [
    "## Умножение матриц"
   ]
  },
  {
   "cell_type": "markdown",
   "metadata": {},
   "source": [
    "Проверим как влияет на качество предсказаний линейной регрессии умножение матрицы признаков на произвольную обратимую матрицу."
   ]
  },
  {
   "cell_type": "markdown",
   "metadata": {},
   "source": [
    "Обозначения:\n",
    "\n",
    "- $X$ — матрица признаков (нулевой столбец состоит из единиц)\n",
    "\n",
    "- $y$ — вектор целевого признака\n",
    "\n",
    "- $a$ — вектор предсказаний\n",
    "\n",
    "- $P$ — матрица, на которую умножаются признаки\n",
    "\n",
    "- $w$ — вектор весов линейной регрессии (нулевой элемент равен сдвигу)\n",
    "\n",
    "- $quality$ — качество модели"
   ]
  },
  {
   "cell_type": "markdown",
   "metadata": {},
   "source": [
    "Предсказания:\n",
    "\n",
    "$$\n",
    "a = Xw \\qquad (1)\n",
    "$$\n",
    "\n",
    "Задача обучения:\n",
    "\n",
    "$$\n",
    "w = \\arg\\min_w MSE(Xw, y) \\qquad (2)\n",
    "$$\n",
    "\n",
    "Формула обучения:\n",
    "\n",
    "$$\n",
    "w = (X^T X)^{-1} X^T y \\qquad (3)\n",
    "$$\n",
    "\n",
    "Качество модели определим как разность между векторами предсказания и целевого признака: \n",
    "\n",
    "$$\n",
    "quality = a - y \\qquad (4)\n",
    "$$"
   ]
  },
  {
   "cell_type": "markdown",
   "metadata": {},
   "source": [
    "Перепишем формулы (1), (3) и (4) для случая домножения признаков на обратимую матрицу:\n",
    "\n",
    "$$\n",
    "a' = XPw' \\qquad (1')\n",
    "$$\n",
    "\n",
    "$$\n",
    "w' = ((XP)^T XP)^{-1} (XP)^T y \\qquad (3')\n",
    "$$\n",
    "\n",
    "$$\n",
    "quality' = a' - y \\qquad (4')\n",
    "$$"
   ]
  },
  {
   "cell_type": "markdown",
   "metadata": {},
   "source": [
    "Предположим, что качество не должно изменится, следовательно:\n",
    "\n",
    "$$\n",
    "quality' = quality\n",
    "$$\n",
    "\n",
    "Произведём соответствующие подстановки:\n",
    "\n",
    "$$\n",
    "a' - y = a - y\n",
    "$$\n",
    "\n",
    "$$\n",
    "XP((XP)^T XP)^{-1} (XP)^T y - y = X(X^T X)^{-1} X^T y - y\n",
    "$$\n",
    "\n",
    "Применим свойство матриц (так нельзя, правые матрицы не квадратные):\n",
    "\n",
    "$$\n",
    "(AB)^{-1} = B^{-1}A^{-1}\n",
    "$$\n",
    "\n",
    "$$\n",
    "(XP)(XP)^{-1}((XP)^T)^{-1} (XP)^T y - y = XX^{-1}(X^T)^{-1} X^T y - y\n",
    "$$\n",
    "\n",
    "Применим свойство матриц:\n",
    "\n",
    "$$\n",
    "AA^{-1} = A^{-1}A = E\n",
    "$$\n",
    "\n",
    "$$\n",
    "EE y - y = EE y - y\n",
    "$$\n",
    "\n",
    "Равенство докуазано. \n",
    "\n",
    "**При умножении признаков на обратимую матрицу, качество линейной регрессии не меняется.**"
   ]
  },
  {
   "cell_type": "markdown",
   "metadata": {},
   "source": [
    "<div class=\"alert alert-danger\" style=\"border-color: darkred; border-radius: 5px\">\n",
    "    <p><u><b>❌ КОММЕНТАРИЙ РЕВЬЮЕРА</b></u></p>\n",
    "У матриц есть такие свойста<br>\n",
    "- ($A(BC) = (AB)C$); это свойство ассоциативности (сочетательности) матриц<br>\n",
    "- $(P^T)^{-1} = (P^{-1})^T$; то есть: транспортированная оратная матрица есть обратная матрица транспортированная <br>\n",
    "- $(AB)^T = B^T A^T$; то есть: транспонированное произведение матриц равно произведению транспонированных матриц <br>\n",
    "- $(AB)^{-1} = B^{-1} A^{-1}$,то есть: обратная матрица от произведения двух матриц равна обратной матрицы B(второй) к обратной матрице А(первой)<br>\n",
    "- $P P^{-1} = E$ ; умножение матрицы на свою обратную - есть единичная матрица.<br>\n",
    "- $(ABC)^{-1} =C^{-1} B^{-1} A^{-1}$<br>\n",
    "    \n",
    "Посмотри, пожалуйста, доказательство - мне кажется, что некоторые свойства не соблюдаются..<br>\n",
    "    \n",
    "Идейно - всё верно. Через выражение при подстановке $w' = ((XP)^T XP)^{-1} (XP)^T y$) надо дойти до $w' = P^{-1}w$ , где $w = (X^T X)^{-1} X^T y$ Это и будет доказательством. При этом важно!!!! $ (X^T X)^{-1}$ - не надо раскрывать, так как для неквадратных матриц ($X$ и $X^T$) обратных матриц не существует"
   ]
  },
  {
   "cell_type": "markdown",
   "metadata": {},
   "source": [
    "$$\n",
    "a = Xw = XEw = XPP^{-1}w = (XP)P^{-1}w = (XP)w'\n",
    "$$\n",
    "\n",
    "$$\n",
    "w' = ((XP)^T XP)^{-1} (XP)^T y\n",
    "$$\n",
    "$$\n",
    "w' = (P^T (X^T X) P)^{-1} (XP)^T y\n",
    "$$\n",
    "$$\n",
    "w' = P^{-1}(X^T X)^{-1}(P^T)^{-1} P^TX^T y\n",
    "$$\n",
    "применим подставновку $ E = (P^T)^{-1} P^T $\n",
    "$$\n",
    "w' = P^{-1}(X^T X)^{-1}EX^T y\n",
    "$$\n",
    "$$\n",
    "w' = P^{-1}(X^T X)^{-1}X^T y\n",
    "$$\n",
    "применим подставновку $ w = (X^T X)^{-1} X^T y $\n",
    "$$\n",
    "w' = P^{-1}w\n",
    "$$"
   ]
  },
  {
   "cell_type": "markdown",
   "metadata": {},
   "source": [
    "<div class=\"alert alert-info\" style=\"border-color: blue; border-radius: 5px\">\n",
    "    <p><u><b>КОММЕНТАРИЙ студента</b></u></p>\n",
    "Спасибо за пояснение, ошибку с применением обратной операции для не квадратной матрицы осознал. Применил формулы, довёл доказательство до конца."
   ]
  },
  {
   "cell_type": "markdown",
   "metadata": {},
   "source": [
    "<div class=\"alert alert-success\" style=\"border-color: green; border-radius: 5px\">\n",
    "    <p><u><b>✅ КОММЕНТАРИЙ РЕВЬЮЕРА 2</b></u></p>\n",
    "ОК, Денис! Всё увидел, принято.<br>\n",
    "    \n",
    "Ещё несколько идей в целом по теме: если рассматривать передачу данных третьим лицам, то к преимуществам данного подхода можно отнести, в первую очередь, ощутимую экономию ресурсов по сравнению с некоторыми известными алгоритмами шифрования, в особенности это касается ассиметричных алгоритмов с достаточно длинными ключами (AES, RSA), которые требуют много процессорного времени.<br><br>\n",
    "    \n",
    "К главному недостатку подхода можно отнести увеличение сложности проверки на вырожденность преобразования с ростом количества признаков в выборке. В рассмотренном случае необходимо подобрать подходящую матрицу размера  4×4 . Однако, если признаки будут исчисляться тысячами, что в теории всегда надо положить, то расчет соответствующих определителей может быть крайне ресурсозатратным. Но и эту проблему можно будет решить)<br><br>\n",
    "    \n",
    "Если есть время и желание, то можно воту этот маткриал просмотреть:<br>\n",
    "Обзоры по применению криптографии в машинном обучении: https://arxiv.org/pdf/1902.04109.pdf, https://www.researchgate.net/publication/342746786_Some_Applications_of_Machine_Learning_in_Cryptography\n",
    "Подробнее про аналогичный алгоритм: https://www.cs.cmu.edu/~rjhall/JOS_revised_May_31a.pdf<br><br>\n",
    "<font color='green'><font color='green'>\n",
    "Спасибо за отклик и за проект) <br>\n",
    "Успешного дальнейшего обучения"
   ]
  },
  {
   "cell_type": "markdown",
   "metadata": {},
   "source": [
    "## Алгоритм преобразования"
   ]
  },
  {
   "cell_type": "markdown",
   "metadata": {},
   "source": [
    "### Алгоритм\n",
    "\n",
    "Для шифрования данных применим домножение матрицы признаков на случайно сгенерированную обратимую матрицу размерностью 4x4 (4-число признаков). \n",
    "1) Создадим случайно сгенерированную матрицу с фиксированным значением RandomState,\n",
    "\n",
    "2) Проверим, что полученная матрица является обратимой,\n",
    "\n",
    "3) Изменим матрицу признаков, умножив её на обратимую матрицу,\n",
    "\n",
    "4) Обучим модель регрессии,\n",
    "\n",
    "5) Проведём предсказание на признаках, также прошедших изменение."
   ]
  },
  {
   "cell_type": "markdown",
   "metadata": {},
   "source": [
    "<div class=\"alert alert-success\" style=\"border-color: green; border-radius: 5px\">\n",
    "    <p><u><b>✅ КОММЕНТАРИЙ РЕВЬЮЕРА</b></u></p>\n",
    "да, тут как раз и нужен план действий для пункта 4) Делай раз, делай два, делай три.."
   ]
  },
  {
   "cell_type": "markdown",
   "metadata": {},
   "source": [
    "### Обоснование\n",
    "\n",
    "Преобразование матрицы признаков при помощи домножения на обратимую матрицу не должно изменять качество модели, что было доказано в пункте \"Умножение матриц\"."
   ]
  },
  {
   "cell_type": "markdown",
   "metadata": {},
   "source": [
    "## Проверка алгоритма"
   ]
  },
  {
   "cell_type": "markdown",
   "metadata": {},
   "source": [
    "Выделим из данных признаки и целевой признак."
   ]
  },
  {
   "cell_type": "code",
   "execution_count": 4,
   "metadata": {},
   "outputs": [],
   "source": [
    "features = insurance.drop('Страховые выплаты',axis=1)\n",
    "target = insurance['Страховые выплаты']"
   ]
  },
  {
   "cell_type": "markdown",
   "metadata": {},
   "source": [
    "Разабьем данные на обучающую и тестовую части в отношении 75/25."
   ]
  },
  {
   "cell_type": "code",
   "execution_count": 5,
   "metadata": {},
   "outputs": [],
   "source": [
    "features_train, features_test, target_train, target_test = train_test_split(\n",
    "    features, target, test_size=0.25, random_state=STATE)"
   ]
  },
  {
   "cell_type": "markdown",
   "metadata": {},
   "source": [
    "Обучим модель линейной регрессии на нешифрованных данных."
   ]
  },
  {
   "cell_type": "code",
   "execution_count": 6,
   "metadata": {},
   "outputs": [
    {
     "data": {
      "text/plain": [
       "LinearRegression()"
      ]
     },
     "execution_count": 6,
     "metadata": {},
     "output_type": "execute_result"
    }
   ],
   "source": [
    "model_before = LinearRegression()\n",
    "model_before.fit(features_train, target_train)"
   ]
  },
  {
   "cell_type": "markdown",
   "metadata": {},
   "source": [
    "Вычислим метрику R2 для нешифрованных данных."
   ]
  },
  {
   "cell_type": "code",
   "execution_count": 7,
   "metadata": {},
   "outputs": [
    {
     "name": "stdout",
     "output_type": "stream",
     "text": [
      "Значение метрики R2 до шифрования признаков 0.42282460954817036\n"
     ]
    }
   ],
   "source": [
    "R2_before = r2_score(target_test, model_before.predict(features_test))\n",
    "print(\"Значение метрики R2 до шифрования признаков\", R2_before)"
   ]
  },
  {
   "cell_type": "markdown",
   "metadata": {},
   "source": [
    "Создадим обратимую матрицу 4x4 со случайными значениями, проверим что детерминант матрицы не равен нулю это гарантирует нам обратимость матрицы."
   ]
  },
  {
   "cell_type": "code",
   "execution_count": 8,
   "metadata": {},
   "outputs": [
    {
     "data": {
      "text/plain": [
       "array([[8, 7, 8, 2],\n",
       "       [8, 5, 8, 9],\n",
       "       [8, 3, 1, 2],\n",
       "       [3, 5, 6, 8]])"
      ]
     },
     "execution_count": 8,
     "metadata": {},
     "output_type": "execute_result"
    }
   ],
   "source": [
    "np.random.seed(STATE)\n",
    "det = 0\n",
    "while det == 0:\n",
    "    coding_matrix = np.random.randint(1, 10, (4,4))\n",
    "    det = np.linalg.det(coding_matrix)\n",
    "coding_matrix"
   ]
  },
  {
   "cell_type": "markdown",
   "metadata": {},
   "source": [
    "<div class=\"alert alert-success\" style=\"border-color: green; border-radius: 5px\">\n",
    "    <p><u><b>✅ КОММЕНТАРИЙ РЕВЬЮЕРА</b></u></p>\n",
    "ок, это важно - проверять на обратимость!"
   ]
  },
  {
   "cell_type": "markdown",
   "metadata": {},
   "source": [
    "Умножим признаки на обратимую матрицу, получим зашифрованные наборы признаков."
   ]
  },
  {
   "cell_type": "code",
   "execution_count": 9,
   "metadata": {},
   "outputs": [],
   "source": [
    "features_train_coding = features_train @ coding_matrix\n",
    "features_test_coding = features_test @ coding_matrix"
   ]
  },
  {
   "cell_type": "markdown",
   "metadata": {},
   "source": [
    "Обучим модель на шифрованных признаках."
   ]
  },
  {
   "cell_type": "code",
   "execution_count": 10,
   "metadata": {},
   "outputs": [
    {
     "data": {
      "text/plain": [
       "LinearRegression()"
      ]
     },
     "execution_count": 10,
     "metadata": {},
     "output_type": "execute_result"
    }
   ],
   "source": [
    "model_coding = LinearRegression()\n",
    "model_coding.fit(features_train_coding, target_train)"
   ]
  },
  {
   "cell_type": "markdown",
   "metadata": {},
   "source": [
    "Вычислим метрику R2 для шифрованных данных."
   ]
  },
  {
   "cell_type": "code",
   "execution_count": 11,
   "metadata": {},
   "outputs": [
    {
     "name": "stdout",
     "output_type": "stream",
     "text": [
      "Значение метрики R2 после шифрования признаков 0.42282460954812395\n"
     ]
    }
   ],
   "source": [
    "R2_coding = r2_score(target_test, model_coding.predict(features_test_coding))\n",
    "print(\"Значение метрики R2 после шифрования признаков\", R2_coding)"
   ]
  },
  {
   "cell_type": "markdown",
   "metadata": {},
   "source": [
    "Как видно метрика R2 = 0.4228 не изменила своего значения."
   ]
  },
  {
   "cell_type": "markdown",
   "metadata": {},
   "source": [
    "## Вывод"
   ]
  },
  {
   "cell_type": "markdown",
   "metadata": {},
   "source": [
    "В ходе проекта было получено теоритическое обоснование возможности шифрования без потери качества предсказания модели. Шифрование проводилось посредством домножения признаков на случайную обратимую матрицу.\n",
    "\n",
    "Также была проведена практическая проверка сохранения качества модели после шифрования по метрике R2."
   ]
  },
  {
   "cell_type": "markdown",
   "metadata": {},
   "source": [
    "<div class=\"alert alert-success\" style=\"border-color: green; border-radius: 5px\">\n",
    "    <p><u><b>✅ КОММЕНТАРИЙ РЕВЬЮЕРА</b></u></p>\n",
    "ОК, Денис, чёткая работа! Сама практическая цель достигнута, ОК<br>\n",
    "Тут всё верно. Есть всего один момент для дополнений:<br>\n",
    "    \n",
    "В разделе \"Умножение матриц\" ожидается алгебраическое доказательство чуть иначе. В тексте постарался описать проблематику.<font color='red'><br>\n",
    "Посмотри, пожалуйста)<br><font color='green'><font color='green'>\n",
    "Спасибо) Буду ждать."
   ]
  },
  {
   "cell_type": "markdown",
   "metadata": {},
   "source": [
    "<div class=\"alert alert-info\" style=\"border-color: blue; border-radius: 5px\">\n",
    "    <p><u><b>КОММЕНТАРИЙ студента</b></u></p>\n",
    "Спасибо за ревью. Работать с формулами матриц нужно аккуратнее и внимательнее )\n",
    "\n",
    "    Вопрос: часто ли на практике приходится заниматься шифрованием данных при их получении? Кажется это немного излишним и задание сделано просто для знакомства с линейной алгеброй и свойством матриц."
   ]
  },
  {
   "cell_type": "markdown",
   "metadata": {},
   "source": [
    "## Чек-лист проверки"
   ]
  },
  {
   "cell_type": "markdown",
   "metadata": {},
   "source": [
    "Поставьте 'x' в выполненных пунктах. Далее нажмите Shift+Enter."
   ]
  },
  {
   "cell_type": "markdown",
   "metadata": {},
   "source": [
    "- [x]  Jupyter Notebook открыт\n",
    "- [ ]  Весь код выполняется без ошибок\n",
    "- [ ]  Ячейки с кодом расположены в порядке исполнения\n",
    "- [ ]  Выполнен шаг 1: данные загружены\n",
    "- [ ]  Выполнен шаг 2: получен ответ на вопрос об умножении матриц\n",
    "    - [ ]  Указан правильный вариант ответа\n",
    "    - [ ]  Вариант обоснован\n",
    "- [ ]  Выполнен шаг 3: предложен алгоритм преобразования\n",
    "    - [ ]  Алгоритм описан\n",
    "    - [ ]  Алгоритм обоснован\n",
    "- [ ]  Выполнен шаг 4: алгоритм проверен\n",
    "    - [ ]  Алгоритм реализован\n",
    "    - [ ]  Проведено сравнение качества моделей до и после преобразования"
   ]
  },
  {
   "cell_type": "code",
   "execution_count": null,
   "metadata": {},
   "outputs": [],
   "source": []
  }
 ],
 "metadata": {
  "ExecuteTimeLog": [
   {
    "duration": 41,
    "start_time": "2022-06-16T15:11:19.938Z"
   },
   {
    "duration": 919,
    "start_time": "2022-06-16T15:11:29.178Z"
   },
   {
    "duration": 83,
    "start_time": "2022-06-16T15:11:30.099Z"
   },
   {
    "duration": 42,
    "start_time": "2022-06-16T15:11:30.184Z"
   },
   {
    "duration": 3,
    "start_time": "2022-06-16T15:11:30.228Z"
   },
   {
    "duration": 11,
    "start_time": "2022-06-16T15:11:30.232Z"
   },
   {
    "duration": 16,
    "start_time": "2022-06-16T15:11:30.244Z"
   },
   {
    "duration": 20,
    "start_time": "2022-06-16T15:11:30.262Z"
   },
   {
    "duration": 15,
    "start_time": "2022-06-16T15:11:30.283Z"
   },
   {
    "duration": 8,
    "start_time": "2022-06-16T15:11:30.300Z"
   },
   {
    "duration": 11,
    "start_time": "2022-06-16T15:11:30.310Z"
   },
   {
    "duration": 21,
    "start_time": "2022-06-16T15:11:30.323Z"
   },
   {
    "duration": 905,
    "start_time": "2022-06-16T15:11:58.372Z"
   },
   {
    "duration": 29,
    "start_time": "2022-06-16T15:11:59.279Z"
   },
   {
    "duration": 54,
    "start_time": "2022-06-16T15:11:59.310Z"
   },
   {
    "duration": 4,
    "start_time": "2022-06-16T15:11:59.365Z"
   },
   {
    "duration": 6,
    "start_time": "2022-06-16T15:11:59.377Z"
   },
   {
    "duration": 12,
    "start_time": "2022-06-16T15:11:59.385Z"
   },
   {
    "duration": 6,
    "start_time": "2022-06-16T15:11:59.399Z"
   },
   {
    "duration": 7,
    "start_time": "2022-06-16T15:11:59.407Z"
   },
   {
    "duration": 6,
    "start_time": "2022-06-16T15:11:59.416Z"
   },
   {
    "duration": 11,
    "start_time": "2022-06-16T15:11:59.424Z"
   },
   {
    "duration": 47,
    "start_time": "2022-06-16T15:11:59.436Z"
   },
   {
    "duration": 896,
    "start_time": "2022-06-16T15:12:18.492Z"
   },
   {
    "duration": 27,
    "start_time": "2022-06-16T15:12:19.390Z"
   },
   {
    "duration": 41,
    "start_time": "2022-06-16T15:12:19.418Z"
   },
   {
    "duration": 3,
    "start_time": "2022-06-16T15:12:19.461Z"
   },
   {
    "duration": 14,
    "start_time": "2022-06-16T15:12:19.465Z"
   },
   {
    "duration": 6,
    "start_time": "2022-06-16T15:12:19.481Z"
   },
   {
    "duration": 9,
    "start_time": "2022-06-16T15:12:19.489Z"
   },
   {
    "duration": 7,
    "start_time": "2022-06-16T15:12:19.499Z"
   },
   {
    "duration": 7,
    "start_time": "2022-06-16T15:12:19.508Z"
   },
   {
    "duration": 8,
    "start_time": "2022-06-16T15:12:19.516Z"
   },
   {
    "duration": 6,
    "start_time": "2022-06-16T15:12:19.526Z"
   },
   {
    "duration": 954,
    "start_time": "2022-06-16T15:13:30.474Z"
   },
   {
    "duration": 29,
    "start_time": "2022-06-16T15:13:31.430Z"
   },
   {
    "duration": 43,
    "start_time": "2022-06-16T15:13:31.461Z"
   },
   {
    "duration": 2,
    "start_time": "2022-06-16T15:13:31.506Z"
   },
   {
    "duration": 9,
    "start_time": "2022-06-16T15:13:31.510Z"
   },
   {
    "duration": 11,
    "start_time": "2022-06-16T15:13:31.521Z"
   },
   {
    "duration": 5,
    "start_time": "2022-06-16T15:13:31.533Z"
   },
   {
    "duration": 6,
    "start_time": "2022-06-16T15:13:31.539Z"
   },
   {
    "duration": 4,
    "start_time": "2022-06-16T15:13:31.577Z"
   },
   {
    "duration": 9,
    "start_time": "2022-06-16T15:13:31.582Z"
   },
   {
    "duration": 14,
    "start_time": "2022-06-16T15:13:31.593Z"
   },
   {
    "duration": 901,
    "start_time": "2022-06-16T15:14:28.483Z"
   },
   {
    "duration": 27,
    "start_time": "2022-06-16T15:14:29.386Z"
   },
   {
    "duration": 41,
    "start_time": "2022-06-16T15:14:29.415Z"
   },
   {
    "duration": 3,
    "start_time": "2022-06-16T15:14:29.458Z"
   },
   {
    "duration": 6,
    "start_time": "2022-06-16T15:14:29.463Z"
   },
   {
    "duration": 12,
    "start_time": "2022-06-16T15:14:29.470Z"
   },
   {
    "duration": 7,
    "start_time": "2022-06-16T15:14:29.484Z"
   },
   {
    "duration": 7,
    "start_time": "2022-06-16T15:14:29.492Z"
   },
   {
    "duration": 7,
    "start_time": "2022-06-16T15:14:29.500Z"
   },
   {
    "duration": 11,
    "start_time": "2022-06-16T15:14:29.509Z"
   },
   {
    "duration": 9,
    "start_time": "2022-06-16T15:14:29.521Z"
   },
   {
    "duration": 909,
    "start_time": "2022-06-16T15:14:52.913Z"
   },
   {
    "duration": 27,
    "start_time": "2022-06-16T15:14:53.824Z"
   },
   {
    "duration": 39,
    "start_time": "2022-06-16T15:14:53.852Z"
   },
   {
    "duration": 3,
    "start_time": "2022-06-16T15:14:53.893Z"
   },
   {
    "duration": 6,
    "start_time": "2022-06-16T15:14:53.898Z"
   },
   {
    "duration": 8,
    "start_time": "2022-06-16T15:14:53.905Z"
   },
   {
    "duration": 5,
    "start_time": "2022-06-16T15:14:53.914Z"
   },
   {
    "duration": 6,
    "start_time": "2022-06-16T15:14:53.920Z"
   },
   {
    "duration": 4,
    "start_time": "2022-06-16T15:14:53.927Z"
   },
   {
    "duration": 6,
    "start_time": "2022-06-16T15:14:53.932Z"
   },
   {
    "duration": 10,
    "start_time": "2022-06-16T15:14:53.940Z"
   },
   {
    "duration": 1394,
    "start_time": "2022-06-17T06:11:56.901Z"
   },
   {
    "duration": 26,
    "start_time": "2022-06-17T06:11:58.297Z"
   },
   {
    "duration": 44,
    "start_time": "2022-06-17T06:11:59.540Z"
   },
   {
    "duration": 4,
    "start_time": "2022-06-17T06:17:20.545Z"
   },
   {
    "duration": 5,
    "start_time": "2022-06-17T06:17:21.487Z"
   },
   {
    "duration": 9,
    "start_time": "2022-06-17T06:17:22.960Z"
   },
   {
    "duration": 7,
    "start_time": "2022-06-17T06:17:23.721Z"
   },
   {
    "duration": 5,
    "start_time": "2022-06-17T06:17:24.100Z"
   },
   {
    "duration": 5,
    "start_time": "2022-06-17T06:17:24.703Z"
   },
   {
    "duration": 7,
    "start_time": "2022-06-17T06:17:25.451Z"
   },
   {
    "duration": 6,
    "start_time": "2022-06-17T06:17:25.853Z"
   },
   {
    "duration": 1000,
    "start_time": "2022-06-17T09:26:09.714Z"
   },
   {
    "duration": 86,
    "start_time": "2022-06-17T09:26:10.716Z"
   },
   {
    "duration": 45,
    "start_time": "2022-06-17T09:26:10.804Z"
   },
   {
    "duration": 4,
    "start_time": "2022-06-17T09:26:10.851Z"
   },
   {
    "duration": 10,
    "start_time": "2022-06-17T09:26:10.856Z"
   },
   {
    "duration": 7,
    "start_time": "2022-06-17T09:26:10.868Z"
   },
   {
    "duration": 5,
    "start_time": "2022-06-17T09:26:10.876Z"
   },
   {
    "duration": 6,
    "start_time": "2022-06-17T09:26:10.882Z"
   },
   {
    "duration": 4,
    "start_time": "2022-06-17T09:26:10.890Z"
   },
   {
    "duration": 8,
    "start_time": "2022-06-17T09:26:10.896Z"
   },
   {
    "duration": 10,
    "start_time": "2022-06-17T09:26:10.905Z"
   }
  ],
  "kernelspec": {
   "display_name": "Python 3 (ipykernel)",
   "language": "python",
   "name": "python3"
  },
  "language_info": {
   "codemirror_mode": {
    "name": "ipython",
    "version": 3
   },
   "file_extension": ".py",
   "mimetype": "text/x-python",
   "name": "python",
   "nbconvert_exporter": "python",
   "pygments_lexer": "ipython3",
   "version": "3.9.5"
  },
  "toc": {
   "base_numbering": 1,
   "nav_menu": {},
   "number_sections": true,
   "sideBar": true,
   "skip_h1_title": true,
   "title_cell": "Содержание",
   "title_sidebar": "Contents",
   "toc_cell": true,
   "toc_position": {},
   "toc_section_display": true,
   "toc_window_display": true
  }
 },
 "nbformat": 4,
 "nbformat_minor": 2
}
