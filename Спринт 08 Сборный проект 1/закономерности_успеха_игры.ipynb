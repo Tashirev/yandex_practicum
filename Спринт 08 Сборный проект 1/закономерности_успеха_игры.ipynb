{
 "cells": [
  {
   "cell_type": "markdown",
   "id": "684ab6e9",
   "metadata": {},
   "source": [
    "<div style=\"border:solid purple 5px; padding: 20px\"> \n",
    "\n",
    "<b>Здравствуй, Денис!</b>\n",
    "    \n",
    "Меня зовут Даша Абраменкова и я буду проверять твой проект 🐍. Если не против, то давай общаться на \"ты\", но если это не удобно, то обязательно дай знать. Как и в случае, если некомфортно обращение по имени — просто дай знать и все переиграем 😃 \n",
    "    \n",
    "Моя задача в первую и единственную очередь — помочь тебе погрузиться в работу с данными и лучше разобраться в предметной области, а совсем не поиск ошибок в домашнем задании (хотя иногда может выглядеть именно так).\n",
    "<hr>    \n",
    "Для упрощения коммуникации мои пометки будут в отдельных Markdown ячейках. <b>Пожалуйста, не удаляй и не меняй их</b> — так будет проще отслеживать внесенные изменения. К слову о доработках. Будет намного удобнее, если о сделанных изменениях ты так же сообщишь мне в отдельной Markdown ячейке (это позволит принять проект куда быстрее). \n",
    "    \n",
    "<hr>    \n",
    "Несколько  слов об оформлении. Мои комментарии будут оформлены тремя цветами:\n",
    "\n",
    "<div class=\"alert alert-success\">\n",
    "<b> 🤌  Комментарий ревьюера</b>   — зеленый комментарий означает, что эта часть работы выполнена отлично;</div>\n",
    "    \n",
    "<div class=\"alert alert-warning\">\n",
    "<b>🕵️‍♀️  Комментарий ревьюера </b> — желтый цвет укажет на хорошо проделанную работу и предложит (хоть это и необязательно) немного доработать текущий этап проекта;</div>\n",
    "    \n",
    "<div class=\"alert alert-danger\">\n",
    "<b> 👨‍🚒  Комментарий ревьюера</b> — красный комментарий означает, что некоторые аспекты придется изменить, так как без их исправления работу принять я не смогу.</div> \n",
    "    \n",
    "    \n",
    "<div class=\"alert alert-info\">\n",
    "<b>🧑‍🎓 Комментарий студента </b> — если хочешь, то можешь использовать синий цвет для своих комментариев, скопировав разметку из этой ячейки</div>    \n",
    "\n",
    "\n",
    "</div>      "
   ]
  },
  {
   "cell_type": "markdown",
   "id": "7d6ad8c9",
   "metadata": {},
   "source": [
    "# Вявление закономерностей определяющих успешность игры."
   ]
  },
  {
   "cell_type": "markdown",
   "id": "a8ed9000",
   "metadata": {},
   "source": [
    "## Общая информация о задаче и входных данных\n",
    "\n",
    "Анализ проводится в интересах интернет-магазина «Стримчик», который продаёт по всему миру компьютерные игры.\n",
    "\n",
    "**Задача проекта**: Выявить определяющие успешность игры закономерности. Это позволит сделать ставку на потенциально популярный продукт и спланировать рекламные кампании на 2017 год.\n",
    "\n",
    "**Входные данные**: В проекте использованы данные из открытых источников: данные о игр, продажи по регионам мира, оценки пользователей и экспертов, жанры и платформы (например, Xbox или PlayStation). Данные собраны по 2016 год.\n",
    "\n",
    "`Примечание:\n",
    "В наборе данных попадается аббревиатура ESRB (Entertainment Software Rating Board) — это ассоциация, определяющая возрастной рейтинг компьютерных игр. ESRB оценивает игровой контент и присваивает ему подходящую возрастную категорию, например, «Для взрослых», «Для детей младшего возраста» или «Для подростков».`"
   ]
  },
  {
   "cell_type": "markdown",
   "id": "1bf33b33",
   "metadata": {},
   "source": [
    "<div class=\"alert alert-success\">\n",
    "<b>🤌 Комментарий ревьюера </b>  \n",
    "    \n",
    "Хорошо оформленное введение — львиная доля успеха 🦁 </div>"
   ]
  },
  {
   "cell_type": "markdown",
   "id": "91c7eab5",
   "metadata": {},
   "source": [
    "## Обзор данных"
   ]
  },
  {
   "cell_type": "markdown",
   "id": "d849a5c0",
   "metadata": {},
   "source": [
    "### Загрузка данных\n",
    "Данные предоставлены в виде csv файлов, произведем их загрузку."
   ]
  },
  {
   "cell_type": "code",
   "execution_count": 1,
   "id": "34d031e3",
   "metadata": {},
   "outputs": [],
   "source": [
    "# ячейка для подключения необходимых библиотек и базовых настроек\n",
    "import pandas as pd\n",
    "import numpy as np\n",
    "import matplotlib.pyplot as plt\n",
    "import seaborn as sns\n",
    "from math import ceil\n",
    "from scipy import stats as st\n",
    "pd.set_option(\"display.max_columns\", None)"
   ]
  },
  {
   "cell_type": "code",
   "execution_count": 2,
   "id": "795dafcf",
   "metadata": {},
   "outputs": [],
   "source": [
    "# загрузка файла и вывод предварительной информации\n",
    "games = pd.read_csv('/datasets/games.csv')"
   ]
  },
  {
   "cell_type": "markdown",
   "id": "ac9ddf5b",
   "metadata": {},
   "source": [
    "### Предварительный осмотр данных\n",
    "- Посмотрим первые 5 строк таблицы,\n",
    "- Основные статистики количественных переменных,\n",
    "- Сводную информацию от таблице."
   ]
  },
  {
   "cell_type": "code",
   "execution_count": 3,
   "id": "67572257",
   "metadata": {
    "scrolled": true
   },
   "outputs": [
    {
     "data": {
      "text/html": [
       "<div>\n",
       "<style scoped>\n",
       "    .dataframe tbody tr th:only-of-type {\n",
       "        vertical-align: middle;\n",
       "    }\n",
       "\n",
       "    .dataframe tbody tr th {\n",
       "        vertical-align: top;\n",
       "    }\n",
       "\n",
       "    .dataframe thead th {\n",
       "        text-align: right;\n",
       "    }\n",
       "</style>\n",
       "<table border=\"1\" class=\"dataframe\">\n",
       "  <thead>\n",
       "    <tr style=\"text-align: right;\">\n",
       "      <th></th>\n",
       "      <th>Name</th>\n",
       "      <th>Platform</th>\n",
       "      <th>Year_of_Release</th>\n",
       "      <th>Genre</th>\n",
       "      <th>NA_sales</th>\n",
       "      <th>EU_sales</th>\n",
       "      <th>JP_sales</th>\n",
       "      <th>Other_sales</th>\n",
       "      <th>Critic_Score</th>\n",
       "      <th>User_Score</th>\n",
       "      <th>Rating</th>\n",
       "    </tr>\n",
       "  </thead>\n",
       "  <tbody>\n",
       "    <tr>\n",
       "      <th>0</th>\n",
       "      <td>Wii Sports</td>\n",
       "      <td>Wii</td>\n",
       "      <td>2006.0</td>\n",
       "      <td>Sports</td>\n",
       "      <td>41.36</td>\n",
       "      <td>28.96</td>\n",
       "      <td>3.77</td>\n",
       "      <td>8.45</td>\n",
       "      <td>76.0</td>\n",
       "      <td>8</td>\n",
       "      <td>E</td>\n",
       "    </tr>\n",
       "    <tr>\n",
       "      <th>1</th>\n",
       "      <td>Super Mario Bros.</td>\n",
       "      <td>NES</td>\n",
       "      <td>1985.0</td>\n",
       "      <td>Platform</td>\n",
       "      <td>29.08</td>\n",
       "      <td>3.58</td>\n",
       "      <td>6.81</td>\n",
       "      <td>0.77</td>\n",
       "      <td>NaN</td>\n",
       "      <td>NaN</td>\n",
       "      <td>NaN</td>\n",
       "    </tr>\n",
       "    <tr>\n",
       "      <th>2</th>\n",
       "      <td>Mario Kart Wii</td>\n",
       "      <td>Wii</td>\n",
       "      <td>2008.0</td>\n",
       "      <td>Racing</td>\n",
       "      <td>15.68</td>\n",
       "      <td>12.76</td>\n",
       "      <td>3.79</td>\n",
       "      <td>3.29</td>\n",
       "      <td>82.0</td>\n",
       "      <td>8.3</td>\n",
       "      <td>E</td>\n",
       "    </tr>\n",
       "    <tr>\n",
       "      <th>3</th>\n",
       "      <td>Wii Sports Resort</td>\n",
       "      <td>Wii</td>\n",
       "      <td>2009.0</td>\n",
       "      <td>Sports</td>\n",
       "      <td>15.61</td>\n",
       "      <td>10.93</td>\n",
       "      <td>3.28</td>\n",
       "      <td>2.95</td>\n",
       "      <td>80.0</td>\n",
       "      <td>8</td>\n",
       "      <td>E</td>\n",
       "    </tr>\n",
       "    <tr>\n",
       "      <th>4</th>\n",
       "      <td>Pokemon Red/Pokemon Blue</td>\n",
       "      <td>GB</td>\n",
       "      <td>1996.0</td>\n",
       "      <td>Role-Playing</td>\n",
       "      <td>11.27</td>\n",
       "      <td>8.89</td>\n",
       "      <td>10.22</td>\n",
       "      <td>1.00</td>\n",
       "      <td>NaN</td>\n",
       "      <td>NaN</td>\n",
       "      <td>NaN</td>\n",
       "    </tr>\n",
       "  </tbody>\n",
       "</table>\n",
       "</div>"
      ],
      "text/plain": [
       "                       Name Platform  Year_of_Release         Genre  NA_sales  \\\n",
       "0                Wii Sports      Wii           2006.0        Sports     41.36   \n",
       "1         Super Mario Bros.      NES           1985.0      Platform     29.08   \n",
       "2            Mario Kart Wii      Wii           2008.0        Racing     15.68   \n",
       "3         Wii Sports Resort      Wii           2009.0        Sports     15.61   \n",
       "4  Pokemon Red/Pokemon Blue       GB           1996.0  Role-Playing     11.27   \n",
       "\n",
       "   EU_sales  JP_sales  Other_sales  Critic_Score User_Score Rating  \n",
       "0     28.96      3.77         8.45          76.0          8      E  \n",
       "1      3.58      6.81         0.77           NaN        NaN    NaN  \n",
       "2     12.76      3.79         3.29          82.0        8.3      E  \n",
       "3     10.93      3.28         2.95          80.0          8      E  \n",
       "4      8.89     10.22         1.00           NaN        NaN    NaN  "
      ]
     },
     "metadata": {},
     "output_type": "display_data"
    },
    {
     "data": {
      "text/html": [
       "<div>\n",
       "<style scoped>\n",
       "    .dataframe tbody tr th:only-of-type {\n",
       "        vertical-align: middle;\n",
       "    }\n",
       "\n",
       "    .dataframe tbody tr th {\n",
       "        vertical-align: top;\n",
       "    }\n",
       "\n",
       "    .dataframe thead th {\n",
       "        text-align: right;\n",
       "    }\n",
       "</style>\n",
       "<table border=\"1\" class=\"dataframe\">\n",
       "  <thead>\n",
       "    <tr style=\"text-align: right;\">\n",
       "      <th></th>\n",
       "      <th>Year_of_Release</th>\n",
       "      <th>NA_sales</th>\n",
       "      <th>EU_sales</th>\n",
       "      <th>JP_sales</th>\n",
       "      <th>Other_sales</th>\n",
       "      <th>Critic_Score</th>\n",
       "    </tr>\n",
       "  </thead>\n",
       "  <tbody>\n",
       "    <tr>\n",
       "      <th>count</th>\n",
       "      <td>16446.000000</td>\n",
       "      <td>16715.000000</td>\n",
       "      <td>16715.000000</td>\n",
       "      <td>16715.000000</td>\n",
       "      <td>16715.000000</td>\n",
       "      <td>8137.000000</td>\n",
       "    </tr>\n",
       "    <tr>\n",
       "      <th>mean</th>\n",
       "      <td>2006.484616</td>\n",
       "      <td>0.263377</td>\n",
       "      <td>0.145060</td>\n",
       "      <td>0.077617</td>\n",
       "      <td>0.047342</td>\n",
       "      <td>68.967679</td>\n",
       "    </tr>\n",
       "    <tr>\n",
       "      <th>std</th>\n",
       "      <td>5.877050</td>\n",
       "      <td>0.813604</td>\n",
       "      <td>0.503339</td>\n",
       "      <td>0.308853</td>\n",
       "      <td>0.186731</td>\n",
       "      <td>13.938165</td>\n",
       "    </tr>\n",
       "    <tr>\n",
       "      <th>min</th>\n",
       "      <td>1980.000000</td>\n",
       "      <td>0.000000</td>\n",
       "      <td>0.000000</td>\n",
       "      <td>0.000000</td>\n",
       "      <td>0.000000</td>\n",
       "      <td>13.000000</td>\n",
       "    </tr>\n",
       "    <tr>\n",
       "      <th>25%</th>\n",
       "      <td>2003.000000</td>\n",
       "      <td>0.000000</td>\n",
       "      <td>0.000000</td>\n",
       "      <td>0.000000</td>\n",
       "      <td>0.000000</td>\n",
       "      <td>60.000000</td>\n",
       "    </tr>\n",
       "    <tr>\n",
       "      <th>50%</th>\n",
       "      <td>2007.000000</td>\n",
       "      <td>0.080000</td>\n",
       "      <td>0.020000</td>\n",
       "      <td>0.000000</td>\n",
       "      <td>0.010000</td>\n",
       "      <td>71.000000</td>\n",
       "    </tr>\n",
       "    <tr>\n",
       "      <th>75%</th>\n",
       "      <td>2010.000000</td>\n",
       "      <td>0.240000</td>\n",
       "      <td>0.110000</td>\n",
       "      <td>0.040000</td>\n",
       "      <td>0.030000</td>\n",
       "      <td>79.000000</td>\n",
       "    </tr>\n",
       "    <tr>\n",
       "      <th>max</th>\n",
       "      <td>2016.000000</td>\n",
       "      <td>41.360000</td>\n",
       "      <td>28.960000</td>\n",
       "      <td>10.220000</td>\n",
       "      <td>10.570000</td>\n",
       "      <td>98.000000</td>\n",
       "    </tr>\n",
       "  </tbody>\n",
       "</table>\n",
       "</div>"
      ],
      "text/plain": [
       "       Year_of_Release      NA_sales      EU_sales      JP_sales  \\\n",
       "count     16446.000000  16715.000000  16715.000000  16715.000000   \n",
       "mean       2006.484616      0.263377      0.145060      0.077617   \n",
       "std           5.877050      0.813604      0.503339      0.308853   \n",
       "min        1980.000000      0.000000      0.000000      0.000000   \n",
       "25%        2003.000000      0.000000      0.000000      0.000000   \n",
       "50%        2007.000000      0.080000      0.020000      0.000000   \n",
       "75%        2010.000000      0.240000      0.110000      0.040000   \n",
       "max        2016.000000     41.360000     28.960000     10.220000   \n",
       "\n",
       "        Other_sales  Critic_Score  \n",
       "count  16715.000000   8137.000000  \n",
       "mean       0.047342     68.967679  \n",
       "std        0.186731     13.938165  \n",
       "min        0.000000     13.000000  \n",
       "25%        0.000000     60.000000  \n",
       "50%        0.010000     71.000000  \n",
       "75%        0.030000     79.000000  \n",
       "max       10.570000     98.000000  "
      ]
     },
     "metadata": {},
     "output_type": "display_data"
    },
    {
     "name": "stdout",
     "output_type": "stream",
     "text": [
      "<class 'pandas.core.frame.DataFrame'>\n",
      "RangeIndex: 16715 entries, 0 to 16714\n",
      "Data columns (total 11 columns):\n",
      " #   Column           Non-Null Count  Dtype  \n",
      "---  ------           --------------  -----  \n",
      " 0   Name             16713 non-null  object \n",
      " 1   Platform         16715 non-null  object \n",
      " 2   Year_of_Release  16446 non-null  float64\n",
      " 3   Genre            16713 non-null  object \n",
      " 4   NA_sales         16715 non-null  float64\n",
      " 5   EU_sales         16715 non-null  float64\n",
      " 6   JP_sales         16715 non-null  float64\n",
      " 7   Other_sales      16715 non-null  float64\n",
      " 8   Critic_Score     8137 non-null   float64\n",
      " 9   User_Score       10014 non-null  object \n",
      " 10  Rating           9949 non-null   object \n",
      "dtypes: float64(6), object(5)\n",
      "memory usage: 1.4+ MB\n",
      "None\n"
     ]
    }
   ],
   "source": [
    "display(games.head())\n",
    "display(games.describe())\n",
    "print(games.info())"
   ]
  },
  {
   "cell_type": "markdown",
   "id": "936ded4e",
   "metadata": {},
   "source": [
    "Данные предоставлены в 10 столбцах:\n",
    "- `Name` — название игры\n",
    "- `Platform` — платформа\n",
    "- `Year_of_Release` — год выпуска\n",
    "- `Genre` — жанр игры\n",
    "- `NA_sales` — продажи в Северной Америке (миллионы проданных копий)\n",
    "- `EU_sales` — продажи в Европе (миллионы проданных копий)\n",
    "- `JP_sales` — продажи в Японии (миллионы проданных копий)\n",
    "- `Other_sales` — продажи в других странах (миллионы проданных копий)\n",
    "- `Critic_Score` — оценка критиков (максимум 100)\n",
    "- `User_Score` — оценка пользователей (максимум 10)\n",
    "- `Rating` — рейтинг от организации ESRB (англ. Entertainment Software Rating Board). Эта ассоциация определяет рейтинг компьютерных игр и присваивает им подходящую возрастную категорию.\n",
    "\n",
    "Данные в таблице предоставлены типами float64, object.\n",
    "\n",
    "Присутствуют пропуски в данных, особенно выделяются столбцы: `Critic_Score`, `User_Score`, `Rating`.\n",
    "\n",
    "Статистики по количественным переменным выглядят довольно разрозненно, сильно отличаются минимумы, максимумы, медианы, похоже сказываются разные годы выпуска и развитость рынка игровой индустрии."
   ]
  },
  {
   "cell_type": "markdown",
   "id": "0d3f2f78",
   "metadata": {},
   "source": [
    "<div class=\"alert alert-success\">\n",
    "<b>🤌 Комментарий ревьюера </b>  \n",
    "    \n",
    "Еще только обзорное знакомство, а мне уже импонируют выводы 👍</div>"
   ]
  },
  {
   "cell_type": "markdown",
   "id": "26ef0261",
   "metadata": {},
   "source": [
    "## Предобработка данных"
   ]
  },
  {
   "cell_type": "markdown",
   "id": "be34f073",
   "metadata": {},
   "source": [
    "### Исправление стиля заголовков\n",
    "Привдём все названия столбцов к нижнему регистру."
   ]
  },
  {
   "cell_type": "code",
   "execution_count": 4,
   "id": "1166063b",
   "metadata": {},
   "outputs": [],
   "source": [
    "# games.columns = list(games.columns.str.lower())\n",
    "\n",
    "games.columns = games.columns.str.lower()"
   ]
  },
  {
   "cell_type": "markdown",
   "id": "458670d8",
   "metadata": {},
   "source": [
    "<div class=\"alert alert-warning\">\n",
    "<b>🕵️‍♀️  Комментарий ревьюера </b>\n",
    "\n",
    "\n",
    "Оборачивать всю конструкцию в list не было необходимости :)\n",
    "    </div>"
   ]
  },
  {
   "cell_type": "markdown",
   "id": "657d10ab",
   "metadata": {},
   "source": [
    "<div class=\"alert alert-info\">\n",
    "<b>🧑‍🎓 Комментарий студента </b>\n",
    "    \n",
    "Списибо за указание, исправил. Первоначальный код закоментировал.\n",
    "</div>  "
   ]
  },
  {
   "cell_type": "markdown",
   "id": "58ebbc81",
   "metadata": {},
   "source": [
    "<div class=\"alert alert-success\">\n",
    "<b>🤌 Комментарий ревьюера (v. 2)\n",
    "    </b>  \n",
    "    \n",
    "🙌 </div>"
   ]
  },
  {
   "cell_type": "code",
   "execution_count": 5,
   "id": "6366c58c",
   "metadata": {},
   "outputs": [
    {
     "name": "stdout",
     "output_type": "stream",
     "text": [
      "Список названий столбцов в таблице: ['name' 'platform' 'year_of_release' 'genre' 'na_sales' 'eu_sales'\n",
      " 'jp_sales' 'other_sales' 'critic_score' 'user_score' 'rating']\n"
     ]
    }
   ],
   "source": [
    "print('Список названий столбцов в таблице:', games.columns.values)"
   ]
  },
  {
   "cell_type": "markdown",
   "id": "1bfbe3ca",
   "metadata": {},
   "source": [
    "### Преобразование типов данных\n",
    "Преобразуем тип данных для столбцов: `year_of_release`, `critic_score`, `user_score`."
   ]
  },
  {
   "cell_type": "markdown",
   "id": "ddffa823",
   "metadata": {},
   "source": [
    "Столбец `year_of_release` содержит значения 'NaN'."
   ]
  },
  {
   "cell_type": "code",
   "execution_count": 6,
   "id": "a2386bb4",
   "metadata": {},
   "outputs": [
    {
     "name": "stdout",
     "output_type": "stream",
     "text": [
      "Число строк со значением \"NaN\" в столбце \"year_of_release\": 269\n",
      "Минимальное значение в столбце \"year_of_release\": 1980.0\n"
     ]
    }
   ],
   "source": [
    "print('Число строк со значением \"NaN\" в столбце \"year_of_release\":', games.year_of_release.isna().sum())\n",
    "print('Минимальное значение в столбце \"year_of_release\":', games.year_of_release.min())"
   ]
  },
  {
   "cell_type": "markdown",
   "id": "f90c5ba6",
   "metadata": {},
   "source": [
    "Так как задача проекта произвести прогноз по продажам на следующий год, то для нас важно знать год выхода игры, таких значений в таблице не много 269, удалим их. И после этого приведём столбец к типу int."
   ]
  },
  {
   "cell_type": "code",
   "execution_count": 7,
   "id": "96811037",
   "metadata": {},
   "outputs": [],
   "source": [
    "games = games.dropna(subset=['year_of_release'])\n",
    "games.year_of_release = games.year_of_release.astype('int')"
   ]
  },
  {
   "cell_type": "markdown",
   "id": "5f0a62c0",
   "metadata": {},
   "source": [
    "<div class=\"alert alert-success\">\n",
    "<b>🤌 Комментарий ревьюера </b>  \n",
    "    \n",
    "И удаляемые данные оценил, а обоснование для решения дал хорошее\n",
    "\n",
    "\n",
    "![](https://i.gifer.com/XwkA.gif)</div>"
   ]
  },
  {
   "cell_type": "markdown",
   "id": "3268b725",
   "metadata": {},
   "source": [
    "Столбец `critic_score` содержит значения со значением 'NaN', посмотрим их количество."
   ]
  },
  {
   "cell_type": "code",
   "execution_count": 8,
   "id": "75fbf2bb",
   "metadata": {},
   "outputs": [
    {
     "name": "stdout",
     "output_type": "stream",
     "text": [
      "Число строк со значением \"NaN\" в столбце \"critic_score\": 8463\n"
     ]
    }
   ],
   "source": [
    "print('Число строк со значением \"NaN\" в столбце \"critic_score\":', games.critic_score.isna().sum())"
   ]
  },
  {
   "cell_type": "markdown",
   "id": "242af9e6",
   "metadata": {},
   "source": [
    "Около половины строк в таблице имеют значение 'NaN' в столбце `critic_score`, удалять их нельзя, заменять также не целесообразно. Поэтому оставим для столбца тип данных float."
   ]
  },
  {
   "cell_type": "markdown",
   "id": "3b8b0da3",
   "metadata": {},
   "source": [
    "Посмотрим на оригинальны значения столбца `user_score`."
   ]
  },
  {
   "cell_type": "code",
   "execution_count": 9,
   "id": "0dc03f0c",
   "metadata": {},
   "outputs": [
    {
     "name": "stdout",
     "output_type": "stream",
     "text": [
      "Уникальные значения столбца \"user_score\": ['8' nan '8.3' '8.5' '6.6' '8.4' '8.6' '7.7' '6.3' '7.4' '8.2' '9' '7.9'\n",
      " '8.1' '8.7' '7.1' '3.4' '5.3' '4.8' '3.2' '8.9' '6.4' '7.8' '7.5' '2.6'\n",
      " '7.2' '9.2' '7' '7.3' '4.3' '7.6' '5.7' '5' '9.1' '6.5' 'tbd' '8.8' '6.9'\n",
      " '9.4' '6.8' '6.1' '6.7' '5.4' '4' '4.9' '4.5' '9.3' '6.2' '4.2' '6' '3.7'\n",
      " '4.1' '5.8' '5.6' '5.5' '4.4' '4.6' '5.9' '3.9' '3.1' '2.9' '5.2' '3.3'\n",
      " '4.7' '5.1' '3.5' '2.5' '1.9' '3' '2.7' '2.2' '2' '9.5' '2.1' '3.6' '2.8'\n",
      " '1.8' '3.8' '0' '1.6' '9.6' '2.4' '1.7' '1.1' '0.3' '1.5' '0.7' '1.2'\n",
      " '2.3' '0.5' '1.3' '0.2' '0.6' '1.4' '0.9' '1' '9.7']\n"
     ]
    }
   ],
   "source": [
    "print('Уникальные значения столбца \"user_score\":', games.user_score.unique())"
   ]
  },
  {
   "cell_type": "code",
   "execution_count": 10,
   "id": "b0454d75",
   "metadata": {},
   "outputs": [
    {
     "name": "stdout",
     "output_type": "stream",
     "text": [
      "Число строк со значением \"NaN\" в столбце \"user_score\": 6607\n",
      "Число строк со значением \"tbd\" в столбце \"user_score\": 2376\n"
     ]
    }
   ],
   "source": [
    "print('Число строк со значением \"NaN\" в столбце \"user_score\":', games.user_score.isna().sum())\n",
    "print('Число строк со значением \"tbd\" в столбце \"user_score\":', games.user_score.where(games.user_score == 'tbd').count())"
   ]
  },
  {
   "cell_type": "markdown",
   "id": "76fe8942",
   "metadata": {},
   "source": [
    "Около половины строк в таблице имеют значение 'NaN' и \"tbd\" в столбце `user_score`, удалять их нельзя, заменим значение \"tbd\" на \"NaN\". И приведём столбец к типу данных float."
   ]
  },
  {
   "cell_type": "code",
   "execution_count": 11,
   "id": "30ba622d",
   "metadata": {},
   "outputs": [],
   "source": [
    "games.user_score = games.user_score.where(games.user_score != 'tbd', np.nan)\n",
    "games.user_score = pd.to_numeric(games.user_score)"
   ]
  },
  {
   "cell_type": "markdown",
   "id": "f1e4aab3",
   "metadata": {},
   "source": [
    "Преобразование типов данных завершено."
   ]
  },
  {
   "cell_type": "markdown",
   "id": "52de3404",
   "metadata": {},
   "source": [
    "<div class=\"alert alert-success\">\n",
    "<b>🤌 Комментарий ревьюера </b>  \n",
    "    \n",
    "Все принятые решения на этом этапе обработки данных — правильные. И аргументация сильная.</div>"
   ]
  },
  {
   "cell_type": "markdown",
   "id": "c76ded4c",
   "metadata": {},
   "source": [
    "### Обработка пропусков в данных"
   ]
  },
  {
   "cell_type": "markdown",
   "id": "93cd9ec6",
   "metadata": {},
   "source": [
    "#### Пропуски в столбце `year_of_release`\n",
    "Строки с пропусками в столбце `year_of_release` были удалены на этапе преобразования типов данных, как не несущие практической ценности."
   ]
  },
  {
   "cell_type": "markdown",
   "id": "00b48de5",
   "metadata": {},
   "source": [
    "#### Пропуски в столбце `name`\n",
    "Посмотрим на строки в которых присутствует пропуск в столбце `name`."
   ]
  },
  {
   "cell_type": "code",
   "execution_count": 12,
   "id": "93dc8981",
   "metadata": {
    "scrolled": true
   },
   "outputs": [
    {
     "data": {
      "text/html": [
       "<div>\n",
       "<style scoped>\n",
       "    .dataframe tbody tr th:only-of-type {\n",
       "        vertical-align: middle;\n",
       "    }\n",
       "\n",
       "    .dataframe tbody tr th {\n",
       "        vertical-align: top;\n",
       "    }\n",
       "\n",
       "    .dataframe thead th {\n",
       "        text-align: right;\n",
       "    }\n",
       "</style>\n",
       "<table border=\"1\" class=\"dataframe\">\n",
       "  <thead>\n",
       "    <tr style=\"text-align: right;\">\n",
       "      <th></th>\n",
       "      <th>name</th>\n",
       "      <th>platform</th>\n",
       "      <th>year_of_release</th>\n",
       "      <th>genre</th>\n",
       "      <th>na_sales</th>\n",
       "      <th>eu_sales</th>\n",
       "      <th>jp_sales</th>\n",
       "      <th>other_sales</th>\n",
       "      <th>critic_score</th>\n",
       "      <th>user_score</th>\n",
       "      <th>rating</th>\n",
       "    </tr>\n",
       "  </thead>\n",
       "  <tbody>\n",
       "    <tr>\n",
       "      <th>659</th>\n",
       "      <td>NaN</td>\n",
       "      <td>GEN</td>\n",
       "      <td>1993</td>\n",
       "      <td>NaN</td>\n",
       "      <td>1.78</td>\n",
       "      <td>0.53</td>\n",
       "      <td>0.00</td>\n",
       "      <td>0.08</td>\n",
       "      <td>NaN</td>\n",
       "      <td>NaN</td>\n",
       "      <td>NaN</td>\n",
       "    </tr>\n",
       "    <tr>\n",
       "      <th>14244</th>\n",
       "      <td>NaN</td>\n",
       "      <td>GEN</td>\n",
       "      <td>1993</td>\n",
       "      <td>NaN</td>\n",
       "      <td>0.00</td>\n",
       "      <td>0.00</td>\n",
       "      <td>0.03</td>\n",
       "      <td>0.00</td>\n",
       "      <td>NaN</td>\n",
       "      <td>NaN</td>\n",
       "      <td>NaN</td>\n",
       "    </tr>\n",
       "  </tbody>\n",
       "</table>\n",
       "</div>"
      ],
      "text/plain": [
       "      name platform  year_of_release genre  na_sales  eu_sales  jp_sales  \\\n",
       "659    NaN      GEN             1993   NaN      1.78      0.53      0.00   \n",
       "14244  NaN      GEN             1993   NaN      0.00      0.00      0.03   \n",
       "\n",
       "       other_sales  critic_score  user_score rating  \n",
       "659           0.08           NaN         NaN    NaN  \n",
       "14244         0.00           NaN         NaN    NaN  "
      ]
     },
     "execution_count": 12,
     "metadata": {},
     "output_type": "execute_result"
    }
   ],
   "source": [
    "games[games.name.isna()]"
   ]
  },
  {
   "cell_type": "markdown",
   "id": "1180b3b3",
   "metadata": {},
   "source": [
    "Удалим данные строки, так как их немного и значимой информации в них нет."
   ]
  },
  {
   "cell_type": "code",
   "execution_count": 13,
   "id": "288eceae",
   "metadata": {},
   "outputs": [],
   "source": [
    "games = games.dropna(subset=['name'])"
   ]
  },
  {
   "cell_type": "markdown",
   "id": "7d35f968",
   "metadata": {},
   "source": [
    "<div class=\"alert alert-success\">\n",
    "<b>🤌 Комментарий ревьюера </b>  \n",
    "    \n",
    "И здесь все так :)</div>"
   ]
  },
  {
   "cell_type": "markdown",
   "id": "374d453e",
   "metadata": {},
   "source": [
    "#### Пропуски в столбцах: `critic_score`, `user_score`, `rating`.\n",
    "Выведем ещё раз сводную информацию о таблице, чтобы посмотреть в каких ещё столбцах остались пропуски."
   ]
  },
  {
   "cell_type": "code",
   "execution_count": 14,
   "id": "636bdd5e",
   "metadata": {},
   "outputs": [
    {
     "name": "stdout",
     "output_type": "stream",
     "text": [
      "<class 'pandas.core.frame.DataFrame'>\n",
      "Int64Index: 16444 entries, 0 to 16714\n",
      "Data columns (total 11 columns):\n",
      " #   Column           Non-Null Count  Dtype  \n",
      "---  ------           --------------  -----  \n",
      " 0   name             16444 non-null  object \n",
      " 1   platform         16444 non-null  object \n",
      " 2   year_of_release  16444 non-null  int64  \n",
      " 3   genre            16444 non-null  object \n",
      " 4   na_sales         16444 non-null  float64\n",
      " 5   eu_sales         16444 non-null  float64\n",
      " 6   jp_sales         16444 non-null  float64\n",
      " 7   other_sales      16444 non-null  float64\n",
      " 8   critic_score     7983 non-null   float64\n",
      " 9   user_score       7463 non-null   float64\n",
      " 10  rating           9768 non-null   object \n",
      "dtypes: float64(6), int64(1), object(4)\n",
      "memory usage: 1.5+ MB\n"
     ]
    }
   ],
   "source": [
    "games.info()"
   ]
  },
  {
   "cell_type": "markdown",
   "id": "f5bb3d98",
   "metadata": {},
   "source": [
    "Остались пропуски в столбцах: `critic_score`, `user_score`, `rating`. \n",
    "\n",
    "Пропуски в  столбцах: `critic_score`, `user_score`  оставим со значениме \"NaN\", так как у нас нет данных по оценкам для этих игр, а заполнение их средним или медианным значением может привести к искажению в исследовании.\n",
    "\n",
    "Пропуски в  столбце `rating` заменим на значение \"Not rating\"."
   ]
  },
  {
   "cell_type": "code",
   "execution_count": 15,
   "id": "2f6b0c3f",
   "metadata": {},
   "outputs": [],
   "source": [
    "games.rating = games.rating.fillna('Not rating')"
   ]
  },
  {
   "cell_type": "markdown",
   "id": "eb9ff8de",
   "metadata": {},
   "source": [
    "Обработка пропусков завершена."
   ]
  },
  {
   "cell_type": "markdown",
   "id": "332e35e4",
   "metadata": {},
   "source": [
    "<div class=\"alert alert-danger\">\n",
    "<b> 👨‍🚒  Комментарий ревьюера</b> \n",
    "    \n",
    "С количественными атрибутами желание оставить пропуски полностью поддерживаю — библиотеки с легкостью их исключают из математических расчетов и игнорируют на графиках. Впрочем из первой мысли как раз следует очевидная проблема с категориальными атрибутами, каким является возрастной рейтинг. Так как библиотеки игнорируют значение пропуска, то и из анализа такие игры на определенном этапе выпадут. Но, в отличии от оценок, отсутствие рейтинга, также информативно, как и его наличие.  \n",
    "\n",
    "    \n",
    "В случаях, подобных этому, когда пропуск значит именно отсутствие чего-то, а результаты этого чего-то потом мы будем использовать в расчетах, лучшим решением будет оставить все так как есть. Потому что пандас умеет не обращать внимание в расчетах на пропущенные значения, но совершенно точно не умеет отличать \"приблизительные\" от реальных.\n",
    "    \n",
    "    \n",
    "Представь, что у тебя есть датасет про трех человек и их образ жизни. Где куреню посвящен лишь один столбец. Про Петра мы знаем, что он \"курит более 2 пачек в день\", Инга \"курит по 1 пачке в день\", Сергей \"курит менее 1 пачки в день\", а у Леонида в категориальном атрибуте \"кол-во пачек в день\" стоит пропуск. Насколько корректно будет игнорировать Лёню или надо сразу определить его, как \"некурящего\"? :)\n",
    "</div>"
   ]
  },
  {
   "cell_type": "markdown",
   "id": "f312c9ef",
   "metadata": {},
   "source": [
    "<div class=\"alert alert-info\">\n",
    "<b>🧑‍🎓 Комментарий студента </b>\n",
    "    \n",
    "Списибо за указание на ошибку, исправил. Пропуски заменил на `Not rating`\n",
    "</div>  "
   ]
  },
  {
   "cell_type": "markdown",
   "id": "79a73806",
   "metadata": {},
   "source": [
    "<div class=\"alert alert-success\">\n",
    "<b>🤌 Комментарий ревьюера (v. 2)\n",
    "    </b>  \n",
    "    \n",
    "🙌 </div>"
   ]
  },
  {
   "cell_type": "markdown",
   "id": "e7e16db9",
   "metadata": {},
   "source": [
    "### Приведение размерности оценок критиков и пользователей к общему масштабу 0-100\n",
    "Приведём оценку полльзователей к масштабу 0-100, домножим столбец `user_score` на 10."
   ]
  },
  {
   "cell_type": "code",
   "execution_count": 16,
   "id": "1273de3a",
   "metadata": {},
   "outputs": [],
   "source": [
    "games['user_score'] = games['user_score'] * 10"
   ]
  },
  {
   "cell_type": "markdown",
   "id": "1729241e",
   "metadata": {},
   "source": [
    "### Создание столбца сумарной продажей по всем регионам для каждой игры\n",
    "Создадим столбец `all_sales` в котором запишем сумму продаж по всем регионам, и выведем первые две строки таблицы."
   ]
  },
  {
   "cell_type": "code",
   "execution_count": 17,
   "id": "6a278cd2",
   "metadata": {},
   "outputs": [],
   "source": [
    "games['all_sales'] = games.na_sales + games.eu_sales + games.jp_sales + games.other_sales"
   ]
  },
  {
   "cell_type": "code",
   "execution_count": 18,
   "id": "3bd4a099",
   "metadata": {},
   "outputs": [
    {
     "data": {
      "text/html": [
       "<div>\n",
       "<style scoped>\n",
       "    .dataframe tbody tr th:only-of-type {\n",
       "        vertical-align: middle;\n",
       "    }\n",
       "\n",
       "    .dataframe tbody tr th {\n",
       "        vertical-align: top;\n",
       "    }\n",
       "\n",
       "    .dataframe thead th {\n",
       "        text-align: right;\n",
       "    }\n",
       "</style>\n",
       "<table border=\"1\" class=\"dataframe\">\n",
       "  <thead>\n",
       "    <tr style=\"text-align: right;\">\n",
       "      <th></th>\n",
       "      <th>name</th>\n",
       "      <th>platform</th>\n",
       "      <th>year_of_release</th>\n",
       "      <th>genre</th>\n",
       "      <th>na_sales</th>\n",
       "      <th>eu_sales</th>\n",
       "      <th>jp_sales</th>\n",
       "      <th>other_sales</th>\n",
       "      <th>critic_score</th>\n",
       "      <th>user_score</th>\n",
       "      <th>rating</th>\n",
       "      <th>all_sales</th>\n",
       "    </tr>\n",
       "  </thead>\n",
       "  <tbody>\n",
       "    <tr>\n",
       "      <th>0</th>\n",
       "      <td>Wii Sports</td>\n",
       "      <td>Wii</td>\n",
       "      <td>2006</td>\n",
       "      <td>Sports</td>\n",
       "      <td>41.36</td>\n",
       "      <td>28.96</td>\n",
       "      <td>3.77</td>\n",
       "      <td>8.45</td>\n",
       "      <td>76.0</td>\n",
       "      <td>80.0</td>\n",
       "      <td>E</td>\n",
       "      <td>82.54</td>\n",
       "    </tr>\n",
       "    <tr>\n",
       "      <th>1</th>\n",
       "      <td>Super Mario Bros.</td>\n",
       "      <td>NES</td>\n",
       "      <td>1985</td>\n",
       "      <td>Platform</td>\n",
       "      <td>29.08</td>\n",
       "      <td>3.58</td>\n",
       "      <td>6.81</td>\n",
       "      <td>0.77</td>\n",
       "      <td>NaN</td>\n",
       "      <td>NaN</td>\n",
       "      <td>Not rating</td>\n",
       "      <td>40.24</td>\n",
       "    </tr>\n",
       "  </tbody>\n",
       "</table>\n",
       "</div>"
      ],
      "text/plain": [
       "                name platform  year_of_release     genre  na_sales  eu_sales  \\\n",
       "0         Wii Sports      Wii             2006    Sports     41.36     28.96   \n",
       "1  Super Mario Bros.      NES             1985  Platform     29.08      3.58   \n",
       "\n",
       "   jp_sales  other_sales  critic_score  user_score      rating  all_sales  \n",
       "0      3.77         8.45          76.0        80.0           E      82.54  \n",
       "1      6.81         0.77           NaN         NaN  Not rating      40.24  "
      ]
     },
     "execution_count": 18,
     "metadata": {},
     "output_type": "execute_result"
    }
   ],
   "source": [
    "games.head(2)"
   ]
  },
  {
   "cell_type": "markdown",
   "id": "26dacc20",
   "metadata": {},
   "source": [
    "Столбец `all_sales` создан."
   ]
  },
  {
   "cell_type": "markdown",
   "id": "6a1d7324",
   "metadata": {},
   "source": [
    "<div class=\"alert alert-success\">\n",
    "<b>🤌 Комментарий ревьюера </b>  \n",
    "    \n",
    "Впереди самое интересное 🚀</div>"
   ]
  },
  {
   "cell_type": "markdown",
   "id": "49b331fc",
   "metadata": {},
   "source": [
    "## Исследовательский анализ данных"
   ]
  },
  {
   "cell_type": "markdown",
   "id": "2f39771a",
   "metadata": {},
   "source": [
    "### Количество игр выпускавшихся в разные годы\n",
    "Посмотрим на распределение количества выпущеных игр по годам."
   ]
  },
  {
   "cell_type": "code",
   "execution_count": 19,
   "id": "db277651",
   "metadata": {
    "scrolled": false
   },
   "outputs": [
    {
     "data": {
      "image/png": "[encoded data removed]",
      "text/plain": [
       "<Figure size 648x432 with 1 Axes>"
      ]
     },
     "metadata": {},
     "output_type": "display_data"
    }
   ],
   "source": [
    "sns.set_theme(font_scale=1.5)\n",
    "sns.displot(data=games, x=\"year_of_release\", height=6, aspect=1.5).set(title='Количество выпущеных игр по годам', xlabel='Год выхода игры', ylabel='Количество игр')\n",
    "plt.xticks(rotation=90)\n",
    "plt.show()"
   ]
  },
  {
   "cell_type": "markdown",
   "id": "8969a480",
   "metadata": {},
   "source": [
    "<div class=\"alert alert-success\">\n",
    "<b>🤌 Комментарий ревьюера </b>  \n",
    "    \n",
    "Красивый визуал</div>"
   ]
  },
  {
   "cell_type": "markdown",
   "id": "27da5672",
   "metadata": {},
   "source": [
    "В распределении наблюдается три больших периода:\n",
    "1. `1980 - 1993` в данный период объём выпуска игр незначителен и практически не меняется,\n",
    "2. `1994 - 2008` продолжительный рост объёма выпуска игр,\n",
    "3. `2009 - 2017` падение количества выпуска игр до уровня около 600 в год."
   ]
  },
  {
   "cell_type": "markdown",
   "id": "1a88567b",
   "metadata": {},
   "source": [
    "<div class=\"alert alert-success\">\n",
    "<b>🤌 Комментарий ревьюера </b>  \n",
    "    \n",
    "И вывод красивый (и корректный)\n",
    "\n",
    "![](https://i.gifer.com/6bG0.gif)\n",
    "</div>"
   ]
  },
  {
   "cell_type": "markdown",
   "id": "eb80f092",
   "metadata": {},
   "source": [
    "### Анализ продаж по платформам"
   ]
  },
  {
   "cell_type": "markdown",
   "id": "59f89eae",
   "metadata": {},
   "source": [
    "Посмотрим на общее количество продаж для каждой платформы."
   ]
  },
  {
   "cell_type": "code",
   "execution_count": 20,
   "id": "7c6382c9",
   "metadata": {},
   "outputs": [
    {
     "name": "stdout",
     "output_type": "stream",
     "text": [
      "\n",
      "Сводная таблица количества продаж по всем платформам:\n"
     ]
    },
    {
     "data": {
      "text/html": [
       "<div>\n",
       "<style scoped>\n",
       "    .dataframe tbody tr th:only-of-type {\n",
       "        vertical-align: middle;\n",
       "    }\n",
       "\n",
       "    .dataframe tbody tr th {\n",
       "        vertical-align: top;\n",
       "    }\n",
       "\n",
       "    .dataframe thead th {\n",
       "        text-align: right;\n",
       "    }\n",
       "</style>\n",
       "<table border=\"1\" class=\"dataframe\">\n",
       "  <thead>\n",
       "    <tr style=\"text-align: right;\">\n",
       "      <th>platform</th>\n",
       "      <th>PS2</th>\n",
       "      <th>X360</th>\n",
       "      <th>PS3</th>\n",
       "      <th>Wii</th>\n",
       "      <th>DS</th>\n",
       "      <th>PS</th>\n",
       "      <th>PS4</th>\n",
       "      <th>GBA</th>\n",
       "      <th>PSP</th>\n",
       "      <th>3DS</th>\n",
       "      <th>PC</th>\n",
       "      <th>GB</th>\n",
       "      <th>XB</th>\n",
       "      <th>NES</th>\n",
       "      <th>N64</th>\n",
       "      <th>SNES</th>\n",
       "      <th>GC</th>\n",
       "      <th>XOne</th>\n",
       "      <th>2600</th>\n",
       "      <th>WiiU</th>\n",
       "      <th>PSV</th>\n",
       "      <th>SAT</th>\n",
       "      <th>GEN</th>\n",
       "      <th>DC</th>\n",
       "      <th>SCD</th>\n",
       "      <th>NG</th>\n",
       "      <th>WS</th>\n",
       "      <th>TG16</th>\n",
       "      <th>3DO</th>\n",
       "      <th>GG</th>\n",
       "      <th>PCFX</th>\n",
       "    </tr>\n",
       "  </thead>\n",
       "  <tbody>\n",
       "    <tr>\n",
       "      <th>all_sales</th>\n",
       "      <td>1233.56</td>\n",
       "      <td>961.24</td>\n",
       "      <td>931.34</td>\n",
       "      <td>891.18</td>\n",
       "      <td>802.78</td>\n",
       "      <td>727.58</td>\n",
       "      <td>314.14</td>\n",
       "      <td>312.88</td>\n",
       "      <td>289.53</td>\n",
       "      <td>257.81</td>\n",
       "      <td>255.76</td>\n",
       "      <td>254.43</td>\n",
       "      <td>251.57</td>\n",
       "      <td>251.05</td>\n",
       "      <td>218.01</td>\n",
       "      <td>200.04</td>\n",
       "      <td>196.73</td>\n",
       "      <td>159.32</td>\n",
       "      <td>86.48</td>\n",
       "      <td>82.19</td>\n",
       "      <td>53.81</td>\n",
       "      <td>33.59</td>\n",
       "      <td>28.35</td>\n",
       "      <td>15.95</td>\n",
       "      <td>1.86</td>\n",
       "      <td>1.44</td>\n",
       "      <td>1.42</td>\n",
       "      <td>0.16</td>\n",
       "      <td>0.1</td>\n",
       "      <td>0.04</td>\n",
       "      <td>0.03</td>\n",
       "    </tr>\n",
       "  </tbody>\n",
       "</table>\n",
       "</div>"
      ],
      "text/plain": [
       "platform       PS2    X360     PS3     Wii      DS      PS     PS4     GBA  \\\n",
       "all_sales  1233.56  961.24  931.34  891.18  802.78  727.58  314.14  312.88   \n",
       "\n",
       "platform      PSP     3DS      PC      GB      XB     NES     N64    SNES  \\\n",
       "all_sales  289.53  257.81  255.76  254.43  251.57  251.05  218.01  200.04   \n",
       "\n",
       "platform       GC    XOne   2600   WiiU    PSV    SAT    GEN     DC   SCD  \\\n",
       "all_sales  196.73  159.32  86.48  82.19  53.81  33.59  28.35  15.95  1.86   \n",
       "\n",
       "platform     NG    WS  TG16  3DO    GG  PCFX  \n",
       "all_sales  1.44  1.42  0.16  0.1  0.04  0.03  "
      ]
     },
     "metadata": {},
     "output_type": "display_data"
    }
   ],
   "source": [
    "# all_sales_platform - отсортированная таблица общих продаж для каждой платформы\n",
    "all_sales_platform = games.pivot_table(index='platform', values='all_sales', aggfunc='sum').sort_values(by='all_sales',ascending=False)\n",
    "print('\\nСводная таблица количества продаж по всем платформам:')\n",
    "display(all_sales_platform.T)"
   ]
  },
  {
   "cell_type": "markdown",
   "id": "7f6165c7",
   "metadata": {},
   "source": [
    "Посмртрим на распределение количества выпущеных игр по годам, для десяти платформ с наибольшим общим объёмом продаж за всю историю наблюдений."
   ]
  },
  {
   "cell_type": "code",
   "execution_count": 21,
   "id": "b9505091",
   "metadata": {
    "scrolled": true
   },
   "outputs": [
    {
     "data": {
      "image/png": "[encoded data removed]",
      "text/plain": [
       "<Figure size 6480x432 with 10 Axes>"
      ]
     },
     "metadata": {},
     "output_type": "display_data"
    }
   ],
   "source": [
    "sns.set_theme(font_scale=1.5)\n",
    "sns.displot(data=games.query('platform in @all_sales_platform.head(10).index'), x=\"year_of_release\", col=\"platform\", height=6, aspect=1.5)\n",
    "plt.show()"
   ]
  },
  {
   "cell_type": "markdown",
   "id": "d07dcdbb",
   "metadata": {},
   "source": [
    "Для удобного чтения графиков, разверните их в полном масштабе, произведя двойной клик по полю с графиками.\n",
    "\n",
    "Как видно по основным платформам, средний цикл \"жизни\" для платформы составляет около 10 лет, при этом объём выпуска игр имеет близкое к нормальному распределению.\n",
    "\n",
    "Из 10 наиболее массовых платформ за всю историю, продолжают развиваться только те платформы, старт которых произошёл начиная с 2010 года."
   ]
  },
  {
   "cell_type": "markdown",
   "id": "c10ab76a",
   "metadata": {},
   "source": [
    "<div class=\"alert alert-warning\">\n",
    "<b>🕵️‍♀️  Комментарий ревьюера </b>\n",
    "\n",
    "\n",
    "Видно, конечно, не очень, но с выводом согласна :)\n",
    "    </div>"
   ]
  },
  {
   "cell_type": "markdown",
   "id": "39e78451",
   "metadata": {},
   "source": [
    "<div class=\"alert alert-info\">\n",
    "<b>🧑‍🎓 Комментарий студента </b>\n",
    "    \n",
    "Согласен с замечанием, для человека не знакомого со средой \"Jupyter Notebook\" (а такая ситуация вполне возможна), может быть непонятно, как посмотреть графики в заданном масштабе `height=6`. \n",
    "    \n",
    "Добавил комментарий в ячейке `Markdown`, с пояснением как отобразить график в убодном масштабе.\n",
    "    \n",
    "Можно конечно отрисовать графики по отдельности в цикле, но так мне кажется лаконичнее.\n",
    "</div>  "
   ]
  },
  {
   "cell_type": "markdown",
   "id": "db13a851",
   "metadata": {},
   "source": [
    "<div class=\"alert alert-success\">\n",
    "<b>🤌 Комментарий ревьюера (v. 2)\n",
    "    </b>  \n",
    "    \n",
    "Если отрисовывать в цикле, то так можно подкупить ревьюера — они любят функции и циклы :)</div>"
   ]
  },
  {
   "cell_type": "markdown",
   "id": "7744581b",
   "metadata": {},
   "source": [
    "### Определение актуального периода в целях исследования\n",
    "\n",
    "Как было выявлено ранее нас не интересуют платформы, которые несмотря на свою массовость в прошлом уже не актуальны в современный период. Выберем для анализа период начиная с 2010 года, который охватывает как платформы уходящие с рынка, но ещё влияющие на него, так и новые платформы ещё не успевшие выйти в массовый рынок, но находящиеся на подъёме.\n",
    "\n",
    "Создадим таблицу `games_actual` включающую актуальный период. "
   ]
  },
  {
   "cell_type": "code",
   "execution_count": 22,
   "id": "d9b0ca72",
   "metadata": {},
   "outputs": [
    {
     "name": "stdout",
     "output_type": "stream",
     "text": [
      "\n",
      "Количество игр выпущеных начиная с 2010 года: 5277 шт.\n"
     ]
    }
   ],
   "source": [
    "games_actual = games[games.year_of_release >=2010].reset_index(drop=True)\n",
    "print(f'\\nКоличество игр выпущеных начиная с 2010 года: {games_actual.name.count()} шт.')"
   ]
  },
  {
   "cell_type": "markdown",
   "id": "20d2d1e9",
   "metadata": {},
   "source": [
    "<div class=\"alert alert-success\">\n",
    "<b>🤌 Комментарий ревьюера </b>  \n",
    "    \n",
    "Датасет, конечно, заметно похудеет, но нас интересует только будущее — далекое прошлое пусть остается в прошлом)\n",
    "</div>"
   ]
  },
  {
   "cell_type": "markdown",
   "id": "3af7a1a8",
   "metadata": {},
   "source": [
    "### Определение потенциально прибыльных платформ\n"
   ]
  },
  {
   "cell_type": "markdown",
   "id": "e2f97c9d",
   "metadata": {},
   "source": [
    "Посмотрим на общее количество продаж для каждой платформы для актуального периода (начиная с 2010 года)."
   ]
  },
  {
   "cell_type": "code",
   "execution_count": 23,
   "id": "f6b40cdb",
   "metadata": {},
   "outputs": [
    {
     "name": "stdout",
     "output_type": "stream",
     "text": [
      "\n",
      "Сводная таблица количества продаж по всем платформам начиная с 2010 года:\n"
     ]
    },
    {
     "data": {
      "text/html": [
       "<div>\n",
       "<style scoped>\n",
       "    .dataframe tbody tr th:only-of-type {\n",
       "        vertical-align: middle;\n",
       "    }\n",
       "\n",
       "    .dataframe tbody tr th {\n",
       "        vertical-align: top;\n",
       "    }\n",
       "\n",
       "    .dataframe thead th {\n",
       "        text-align: right;\n",
       "    }\n",
       "</style>\n",
       "<table border=\"1\" class=\"dataframe\">\n",
       "  <thead>\n",
       "    <tr style=\"text-align: right;\">\n",
       "      <th>platform</th>\n",
       "      <th>PS3</th>\n",
       "      <th>X360</th>\n",
       "      <th>PS4</th>\n",
       "      <th>3DS</th>\n",
       "      <th>Wii</th>\n",
       "      <th>XOne</th>\n",
       "      <th>DS</th>\n",
       "      <th>PC</th>\n",
       "      <th>WiiU</th>\n",
       "      <th>PSP</th>\n",
       "      <th>PSV</th>\n",
       "      <th>PS2</th>\n",
       "    </tr>\n",
       "  </thead>\n",
       "  <tbody>\n",
       "    <tr>\n",
       "      <th>all_sales</th>\n",
       "      <td>587.74</td>\n",
       "      <td>550.41</td>\n",
       "      <td>314.14</td>\n",
       "      <td>257.81</td>\n",
       "      <td>222.97</td>\n",
       "      <td>159.32</td>\n",
       "      <td>123.75</td>\n",
       "      <td>121.96</td>\n",
       "      <td>82.19</td>\n",
       "      <td>64.05</td>\n",
       "      <td>53.81</td>\n",
       "      <td>6.09</td>\n",
       "    </tr>\n",
       "  </tbody>\n",
       "</table>\n",
       "</div>"
      ],
      "text/plain": [
       "platform      PS3    X360     PS4     3DS     Wii    XOne      DS      PC  \\\n",
       "all_sales  587.74  550.41  314.14  257.81  222.97  159.32  123.75  121.96   \n",
       "\n",
       "platform    WiiU    PSP    PSV   PS2  \n",
       "all_sales  82.19  64.05  53.81  6.09  "
      ]
     },
     "metadata": {},
     "output_type": "display_data"
    }
   ],
   "source": [
    "# all_sales_platform_actual - отсортированная таблица общих продаж для каждой платформы\n",
    "all_sales_platform_actual = games_actual.pivot_table(index='platform', values='all_sales', aggfunc='sum').sort_values(by='all_sales',ascending=False)\n",
    "print('\\nСводная таблица количества продаж по всем платформам начиная с 2010 года:')\n",
    "display(all_sales_platform_actual.T)"
   ]
  },
  {
   "cell_type": "markdown",
   "id": "5778ed5f",
   "metadata": {},
   "source": [
    "Посмртрим на распределение количества выпущеных игр по годам, для платформ, согласно актуалной таблицы."
   ]
  },
  {
   "cell_type": "code",
   "execution_count": 24,
   "id": "bfc97a6b",
   "metadata": {},
   "outputs": [
    {
     "data": {
      "image/png": "[encoded data removed]",
      "text/plain": [
       "<Figure size 7776x432 with 12 Axes>"
      ]
     },
     "metadata": {},
     "output_type": "display_data"
    }
   ],
   "source": [
    "sns.set_theme(font_scale=1.5)\n",
    "sns.displot(data=games_actual.query('platform in @all_sales_platform_actual.index'), x=\"year_of_release\", col=\"platform\", height=6, aspect=1.5)\n",
    "plt.show()"
   ]
  },
  {
   "cell_type": "markdown",
   "id": "9d8a05bc",
   "metadata": {},
   "source": [
    "Для удобного чтения графиков, разверните их в полном масштабе, произведя двойной клик по полю с графиками."
   ]
  },
  {
   "cell_type": "markdown",
   "id": "27135494",
   "metadata": {},
   "source": [
    "<div class=\"alert alert-warning\">\n",
    "<b>🕵️‍♀️  Комментарий ревьюера </b>\n",
    "\n",
    "Нет, действительно ничего на графиках не видно на обычном ноутбуке с 13 дюймами экрана :) Понятно, что можно увеличить, но все же\n",
    "    </div>"
   ]
  },
  {
   "cell_type": "markdown",
   "id": "89e73106",
   "metadata": {},
   "source": [
    "<div class=\"alert alert-info\">\n",
    "<b>🧑‍🎓 Комментарий студента </b>\n",
    "\n",
    "Добавил комментарий в ячейке `Markdown`, с пояснением как отобразить график в убодном масштабе.\n",
    "    \n",
    "Если посчитаете, это критичным замечанием дайте знать, сделаю циклом.\n",
    "</div> "
   ]
  },
  {
   "cell_type": "markdown",
   "id": "88686480",
   "metadata": {},
   "source": [
    "<div class=\"alert alert-success\">\n",
    "<b>🤌 Комментарий ревьюера (v. 2)\n",
    "    </b>  \n",
    "    \n",
    "Спасибо :)   </div>"
   ]
  },
  {
   "cell_type": "markdown",
   "id": "97d3023c",
   "metadata": {},
   "source": [
    "1. Несмотря на свои лидирующие значения по продажам платформы: \"X360\" и \"PS3\" находятся на значительном спаде и вероятно уже не будут влиять на рынок.\n",
    "2. Платформы уже не выпускающие игр: \"DS\", \"Wii\", \"PSP\", \"PS2\".\n",
    "3. Платформа не получившая большой доли рынка и также идущая на спад: \"WiiU\".\n",
    "4. Платформа имеющая постоянную долю на рынке и способная периодически показывать значительные результаты: \"PC\".\n",
    "5. Платформы начавшие спад, но ещё имеющие значительную долю на рынке: \"PSV\", \"3DS\".\n",
    "6. Перспективные платформы, находящиеся на стадии подъёма: \"PS4\", \"XOne\".\n",
    "\n",
    "**Исходя из текущего анализа наиболее предпочтительными платформами являются: \"PS4\", \"XOne\", также стоит обратить внимание на платформы: \"РС\", \"PSV\", \"3DS\".**"
   ]
  },
  {
   "cell_type": "markdown",
   "id": "d09363fc",
   "metadata": {},
   "source": [
    "<div class=\"alert alert-success\">\n",
    "<b>🤌 Комментарий ревьюера </b>  \n",
    "    \n",
    "А вывод снова хороший \n",
    "    \n",
    "ЗЫ: нравится твое форматирование 👌\n",
    "</div>"
   ]
  },
  {
   "cell_type": "markdown",
   "id": "9d727d41",
   "metadata": {},
   "source": [
    "Построим график \"ящик с усами\" по глобальным продажам для перспективных платфрм. На котором отобразим количесвто продаж для каждой игры."
   ]
  },
  {
   "cell_type": "code",
   "execution_count": 25,
   "id": "33a40148",
   "metadata": {
    "scrolled": true
   },
   "outputs": [
    {
     "data": {
      "image/png": "[encoded data removed]",
      "text/plain": [
       "<Figure size 432x288 with 1 Axes>"
      ]
     },
     "metadata": {},
     "output_type": "display_data"
    }
   ],
   "source": [
    "sns.boxplot(x=\"platform\", y=\"all_sales\", data=games_actual.query('platform in [\"PS4\", \"XOne\", \"PC\", \"PSV\", \"3DS\"]')).set(title='Количество проданых копий игр\\n по платформам', xlabel='Платформа', ylabel='Количество копий\\n каждой игр в млн. шт.')\n",
    "plt.show()"
   ]
  },
  {
   "cell_type": "markdown",
   "id": "fdc5d051",
   "metadata": {},
   "source": [
    "Как видно у всех платформ имеются значительные по размеру выбросы, сильно отличные от медианных значений, которые практически не просматриваются на фоне выбросов.\n",
    "\n",
    "Выбросами являются игры, которые имеют наибольшую популярность на своей платформе, являющиеся так сказать \"флагманами\", похоже у этих игр должны быть хорошие отзывы как со стороны критиков, так и со стороны пользователей."
   ]
  },
  {
   "cell_type": "markdown",
   "id": "7a475c07",
   "metadata": {},
   "source": [
    "<div class=\"alert alert-success\">\n",
    "<b>🤌 Комментарий ревьюера </b>  \n",
    "    \n",
    "График, конечно красивый\n",
    "</div>"
   ]
  },
  {
   "cell_type": "markdown",
   "id": "9ab99d03",
   "metadata": {},
   "source": [
    "<div class=\"alert alert-warning\">\n",
    "<b>🕵️‍♀️  Комментарий ревьюера </b>\n",
    "\n",
    "Но вот значения на нем непонятные\n",
    "    </div>"
   ]
  },
  {
   "cell_type": "markdown",
   "id": "ab2fcb7d",
   "metadata": {},
   "source": [
    "<div class=\"alert alert-info\">\n",
    "<b>🧑‍🎓 Комментарий студента </b>\n",
    "    \n",
    "Согласен, что в легенде не указан масштаб.\n",
    "    \n",
    "В легенду по оси `y` добавил информацию, что значения указаны в миллионах.\n",
    "\n",
    "Также в ячейке `markdown` перед построением графика, сделал более чёткие формулировки.\n",
    "</div> "
   ]
  },
  {
   "cell_type": "markdown",
   "id": "61384ad0",
   "metadata": {},
   "source": [
    "<div class=\"alert alert-success\">\n",
    "<b>🤌 Комментарий ревьюера (v. 2)\n",
    "    </b>  \n",
    "    \n",
    "Я несколько не о том. Очень большая площадь отдана выбросам и не совсем понятно, где находится медиана, а где квартили. Возможно было бы лучше, если ограничение стояло на 5 млн. копий — очевидно, что выше выбросы </div>"
   ]
  },
  {
   "cell_type": "markdown",
   "id": "6f212dd1",
   "metadata": {},
   "source": [
    "### Анализ влияния отзывов пользователей и критиков на продажи игр для платформы PS4\n",
    "Проанализируем влияние отзывов пользователей и критиков на продажи игр на примере самой перспективной платформы `PS4`. Построим диаграмму рассеяния."
   ]
  },
  {
   "cell_type": "code",
   "execution_count": 26,
   "id": "3182f10f",
   "metadata": {
    "scrolled": true
   },
   "outputs": [
    {
     "data": {
      "image/png": "[encoded data removed]",
      "text/plain": [
       "<Figure size 1296x432 with 2 Axes>"
      ]
     },
     "metadata": {},
     "output_type": "display_data"
    }
   ],
   "source": [
    "fig, axes = plt.subplots(1, 2, figsize=(18,6))\n",
    "fig.suptitle('Зависимость оценки от количество продаж', fontsize=14)\n",
    "axes[0].set_title('Оценка критиков', fontsize=14)\n",
    "axes[1].set_title('Оценка пользователей', fontsize=14)\n",
    "sns.scatterplot(data=games_actual.query('platform == \"PS4\"'), x=\"critic_score\", y=\"all_sales\", sizes=(1, 8), ax=axes[0])\n",
    "sns.scatterplot(data=games_actual.query('platform == \"PS4\"'), x=\"user_score\", y=\"all_sales\", sizes=(1, 8), ax=axes[1])\n",
    "plt.show()"
   ]
  },
  {
   "cell_type": "markdown",
   "id": "08924034",
   "metadata": {},
   "source": [
    "Как показывает диаграмма рассеяния оценки пользователей практически не влияют на продажи игра (наблюдаются большие продажи для некоторых игр, оценка которых значительно ниже середины).\n",
    "\n",
    "Оценка же критиков влияние имеет, но оно также не является подавляющим."
   ]
  },
  {
   "cell_type": "markdown",
   "id": "e59bc307",
   "metadata": {},
   "source": [
    "Проверим наблюдения посчитав корреляцию Пирсона между отзывами и продажами."
   ]
  },
  {
   "cell_type": "code",
   "execution_count": 27,
   "id": "c75a066b",
   "metadata": {
    "scrolled": false
   },
   "outputs": [
    {
     "name": "stdout",
     "output_type": "stream",
     "text": [
      "\n",
      "Коэффициент корреляции Пирсона между продажами и отзывами пользователей для \"PS4\": -0.03\n",
      "Коэффициент корреляции Пирсона между продажами и отзывами критиков для \"PS4\": 0.41\n"
     ]
    }
   ],
   "source": [
    "print('\\nКоэффициент корреляции Пирсона между продажами и отзывами пользователей для \"PS4\":', round(games_actual.query('platform == \"PS4\"').all_sales.corr(games_actual.query('platform == \"PS4\"').user_score), 2))\n",
    "print('Коэффициент корреляции Пирсона между продажами и отзывами критиков для \"PS4\":', round(games_actual.query('platform == \"PS4\"').all_sales.corr(games_actual.query('platform == \"PS4\"').critic_score), 2))"
   ]
  },
  {
   "cell_type": "markdown",
   "id": "322f761a",
   "metadata": {},
   "source": [
    "**Как и предполагали, корреляция между отзывами пользователей и продажами отсутствует. Если и вкладывать в рекламму, то лучше это делать через критиков, хотя и их роль не является определяющей.**"
   ]
  },
  {
   "cell_type": "markdown",
   "id": "4da7e732",
   "metadata": {},
   "source": [
    "<div class=\"alert alert-success\">\n",
    "<b>🤌 Комментарий ревьюера </b>  \n",
    "    \n",
    "Вот прямо шикарно 🙌\n",
    "</div>"
   ]
  },
  {
   "cell_type": "markdown",
   "id": "4fa8090f",
   "metadata": {},
   "source": [
    "### Соотношение выводов по продажам игр на других платформах\n",
    "Проверим ссответствует ли наш вывод о влиянии отзывов на продажи для других актуальных платформ, посмотрим на корреляцию Пирсона для них."
   ]
  },
  {
   "cell_type": "code",
   "execution_count": 28,
   "id": "087f179e",
   "metadata": {
    "scrolled": true
   },
   "outputs": [
    {
     "name": "stdout",
     "output_type": "stream",
     "text": [
      "\n",
      "Коэффициент корреляции Пирсона между продажами и отзывами пользователей для XOne: -0.07\n",
      "Коэффициент корреляции Пирсона между продажами и отзывами критиков для XOne: 0.42\n",
      "\n",
      "Коэффициент корреляции Пирсона между продажами и отзывами пользователей для PC: -0.01\n",
      "Коэффициент корреляции Пирсона между продажами и отзывами критиков для PC: 0.34\n",
      "\n",
      "Коэффициент корреляции Пирсона между продажами и отзывами пользователей для PSV: 0.01\n",
      "Коэффициент корреляции Пирсона между продажами и отзывами критиков для PSV: 0.13\n",
      "\n",
      "Коэффициент корреляции Пирсона между продажами и отзывами пользователей для 3DS: 0.22\n",
      "Коэффициент корреляции Пирсона между продажами и отзывами критиков для 3DS: 0.35\n"
     ]
    }
   ],
   "source": [
    "for platform in [\"XOne\", \"PC\", \"PSV\", \"3DS\"]:\n",
    "    print(f'\\nКоэффициент корреляции Пирсона между продажами и отзывами пользователей для {platform}:', round(games_actual.query('platform == @platform').all_sales.corr(games_actual.query('platform == @platform').user_score), 2))\n",
    "    print(f'Коэффициент корреляции Пирсона между продажами и отзывами критиков для {platform}:', round(games_actual.query('platform == @platform').all_sales.corr(games_actual.query('platform == @platform').critic_score), 2))"
   ]
  },
  {
   "cell_type": "markdown",
   "id": "b3f1d197",
   "metadata": {},
   "source": [
    "Как видно из значения корреляции Пирсона, на других платформах ситуация похожа, влияние отзывов пользователей не имеет значения, за исключением платформы \"3DS\", где просматривается незначительная зависимость.\n",
    "\n",
    "Влияние критиков варьируется между платформами от 0.13 до 0.41, критики имеют наибольшее влияние на платформе \"XOne\"."
   ]
  },
  {
   "cell_type": "markdown",
   "id": "9e54a2cb",
   "metadata": {},
   "source": [
    "<div class=\"alert alert-success\">\n",
    "<b>🤌 Комментарий ревьюера </b>  \n",
    "    \n",
    "И про циклы не забываешь \n",
    "    \n",
    "    \n",
    "![](https://i.gifer.com/PN7i.gif)\n",
    "    \n",
    "</div>"
   ]
  },
  {
   "cell_type": "markdown",
   "id": "165c333c",
   "metadata": {},
   "source": [
    "### Общее распределение игр по жанрам\n",
    "Посмотрим на распределение количества выпущеных игр по жанрам, начиная с 2010 года.\n",
    "\n",
    "Построим два расспределения:\n",
    "- распределение общего количества проданых копий,\n",
    "- распределение среднего количества проданых копий на одну игру."
   ]
  },
  {
   "cell_type": "code",
   "execution_count": 29,
   "id": "1f6690f0",
   "metadata": {},
   "outputs": [
    {
     "data": {
      "image/png": "[encoded data removed]",
      "text/plain": [
       "<Figure size 1296x432 with 2 Axes>"
      ]
     },
     "metadata": {},
     "output_type": "display_data"
    }
   ],
   "source": [
    "fig, axes = plt.subplots(1, 2, figsize=(18,6))\n",
    "fig.suptitle('Распределение продаж по жанрам, начиная с 2010 года.')\n",
    "axes[0].set_title('Общее количество проданных копий')\n",
    "axes[1].set_title('Среднее количество проданных копий на одну игру')\n",
    "sns.barplot(data=games_actual, x=\"genre\", y=\"all_sales\", estimator=np.sum, ax=axes[0]).set_xlabel('Жанр')\n",
    "axes[0].set_ylabel('Количество в млн. шт.')\n",
    "plt.setp(axes[0].get_xticklabels(), rotation=90)\n",
    "sns.barplot(data=games_actual, x=\"genre\", y=\"all_sales\", estimator=np.mean, ax=axes[1]).set_xlabel('Жанр')\n",
    "axes[1].set_ylabel('Среднее количество на игру\\n в млн. шт.')\n",
    "plt.setp(axes[1].get_xticklabels(), rotation=90)\n",
    "plt.show()"
   ]
  },
  {
   "cell_type": "markdown",
   "id": "1937dbf3",
   "metadata": {},
   "source": [
    "- Из распределений видно, что с большим отрывом по массовости общего выпуска является жанр \"Action\", около 670 млн. копий.\n",
    "- Однако если рассматривать среднюю прибыльность с одной игры, то жанр \"Action\" занимает лишь 6 место.\n",
    "- Лидером по средней прибыльности на одну игру является жанр \"Shooter\", с показателем в районе 1,2 млн. проданных копий."
   ]
  },
  {
   "cell_type": "markdown",
   "id": "29fc7d2e",
   "metadata": {},
   "source": [
    "<div class=\"alert alert-danger\">\n",
    "<b>👨‍🚒 Комментарий ревьюера </b>\n",
    "\n",
    "Общие продажи - не лучшая метрика для поиска наиболее прибыльного жанра. За высокими показателями общих продаж может скрываться множество мелких игр с низкими продажами. Или 2-3 звезды и куча провалов. Лучше найти жанр, где игры стабильно приносят высокий доход - для этого стоит рассмотреть средние или медианные продажи.  \n",
    "    \n",
    "Ты удивишься, если попробуешь взглянуть на данные под другим углом \n",
    "    \n",
    "![](https://media.giphy.com/media/MePp78CYbOaYh3iNBZ/giphy.gif)\n",
    "\n",
    "</div>\n",
    " "
   ]
  },
  {
   "cell_type": "markdown",
   "id": "54ce846b",
   "metadata": {},
   "source": [
    "<div class=\"alert alert-info\">\n",
    "<b>🧑‍🎓 Комментарий студента </b>\n",
    "\n",
    "Спасибо за указание на ошибку.\n",
    "Допустил оплошность, некорректно вычитал задание, там действительно говорится о прибыльности, а не о количестве выпущеных игр. Хотя для большего формализма, у нас отсутствуют данные о стоимости одной копии для игры, поэтому говорить о прибыли в данном контексте не верно.\n",
    "\n",
    "Решил для наглядности, оставить график с общими продажами, но добавил рядом график со средними продажами на одну игру. Действительно, есть над чем поразмышлять, ещё раз спасибо за науку. :)  Также изменил выводы под графиком и общий вывод по исследованию.\n",
    "</div> "
   ]
  },
  {
   "cell_type": "markdown",
   "id": "a71987b5",
   "metadata": {},
   "source": [
    "<div class=\"alert alert-success\">\n",
    "<b>🤌 Комментарий ревьюера (v. 2)\n",
    "    </b>  \n",
    "    \n",
    "Во-первых, ты великолепно работаешь с графикой. Явно думаешь о \"зрителе\" 👍👍👍\n",
    "\n",
    "Во-вторых, никогда не бывает лишним посмотреть, описательные статистики: всего пара строчек кода, а данные могут открыться под иным углом</div>"
   ]
  },
  {
   "cell_type": "markdown",
   "id": "4ae17d39",
   "metadata": {},
   "source": [
    "## Вывод по исследовательскому анализу данных\n",
    "\n",
    "1. Самым перспективным направлением на рынке будут пользоваться игры в жанре \"Shuter\" на платформах \"PS4\" и \"X360\".\n",
    "2. Также стоит обратить внимание на жанры: \"Role-Playing\", \"Sports\", \"Racing\", \"Platform\", и платформы: \"РС\", \"PSV\", \"3DS\".\n",
    "3. Если вкладывать средства в рекламную компанию, то только через критиков, но не стоит ожидать значительной отдачи."
   ]
  },
  {
   "cell_type": "markdown",
   "id": "6861ee7f",
   "metadata": {},
   "source": [
    "## Портрет пользователя каждого региона"
   ]
  },
  {
   "cell_type": "markdown",
   "id": "8ce0793c",
   "metadata": {},
   "source": [
    "Создадим функцию `ploting_top`, которая будет строить круговые диаграммы для 3-х регионов (Сев.Америка, Европа, Япония). Диаграммы будут строиться в зависимости от значения параметра `chart`:\n",
    "- `platform` - доли продаж по платформам для регионов,\n",
    "- `genre` - доли продаж по жанрам для регионов,\n",
    "- `rating` - доли продаж по регионам в зависимости от рейтинга,\n",
    "- любое другое значение выдаст ошибку при вызове: 'Неверно указан аргумент, используйте: \"platform\", \"genre\", \"rating\"'."
   ]
  },
  {
   "cell_type": "code",
   "execution_count": 30,
   "id": "ccc53522",
   "metadata": {},
   "outputs": [],
   "source": [
    "def ploting_top(chart):\n",
    "    \n",
    "    \n",
    "    if chart == 'platform':\n",
    "        title = 'Доли продаж по жанрам для регионов'\n",
    "        count_tail = 5\n",
    "    elif chart == 'genre':\n",
    "        title = 'Доли продаж по жанрам для регионов'\n",
    "        count_tail = 6\n",
    "    elif chart == 'rating':\n",
    "        title = 'Доли продаж по регионам в зависимости от рейтинга'\n",
    "        count_tail = 5\n",
    "    else:\n",
    "        raise NameError('Неверно указан аргумент, используйте: \"platform\", \"genre\", \"rating\".')\n",
    "    \n",
    "    # создание графической подложки под 3 диаграммы\n",
    "    fig, axes = plt.subplots(1, 3, figsize=(20,6))\n",
    "    fig.suptitle(title, fontsize=18)\n",
    "    \n",
    "    # Создание свобной таблицы по регионам\n",
    "    top = []\n",
    "    for column in ['na_sales', 'eu_sales', 'jp_sales']:\n",
    "        column = games_actual.pivot_table(index=chart, values=column, aggfunc='sum').sort_values(by=column)[column].tail(count_tail)/games_actual[column].sum()\n",
    "        if chart != 'rating' or column.name != 'jp_sales':\n",
    "            top.append(pd.concat([column, pd.Series({'Other': 1-column.tail(count_tail).sum()})]))\n",
    "        else:\n",
    "            top.append(pd.concat([column, pd.Series({'Other': 0})]))        \n",
    "    top = pd.concat([top[0], top[1], top[2]], axis=1, keys=['na_sales', 'eu_sales', 'jp_sales'])\n",
    "\n",
    "    # объединение строк 'Other' и 'Misc' для столбца `genre`\n",
    "    if chart == 'genre':\n",
    "        top.loc['Other'] = top.loc['Misc'] + top.loc['Other']\n",
    "        top = top.drop(index='Misc')\n",
    "\n",
    "    # создание диаграм\n",
    "    top.na_sales.plot(kind='pie', ax=axes[0], title='Северная Америка', ylabel='')\n",
    "    top.eu_sales.plot(kind='pie', ax=axes[1], title='Европа', ylabel='')\n",
    "    top.jp_sales.plot(kind='pie', ax=axes[2], title='Япония', ylabel='')\n",
    "    plt.show()"
   ]
  },
  {
   "cell_type": "markdown",
   "id": "b1c96a5b",
   "metadata": {},
   "source": [
    "### Самые популярные платформы (топ-5)\n",
    "Построим круговые диаграммы долей продаж в Северной Америки, Европы и Японии, для пяти самых популярных платформ за актуальный период. Вызовем ранее созданную функцию `ploting_top`, с аргументом `platform`."
   ]
  },
  {
   "cell_type": "code",
   "execution_count": 31,
   "id": "7016602d",
   "metadata": {
    "scrolled": true
   },
   "outputs": [
    {
     "data": {
      "image/png": "[encoded data removed]",
      "text/plain": [
       "<Figure size 1440x432 with 3 Axes>"
      ]
     },
     "metadata": {},
     "output_type": "display_data"
    }
   ],
   "source": [
    "ploting_top('platform')"
   ]
  },
  {
   "cell_type": "markdown",
   "id": "e057d40a",
   "metadata": {},
   "source": [
    "Как видно рынки Северной Америки и Европы схожи, а вот ранок Японии сильно отличается, там большую долю занимае платформа 3DS."
   ]
  },
  {
   "cell_type": "markdown",
   "id": "eeccfae3",
   "metadata": {},
   "source": [
    "### Самые популярные жанры (топ-5)\n",
    "Построим круговые диаграммы долей продаж в Северной Америки, Европы и Японии, для пяти самых популярных жанров за актуальный период. Вызовем ранее созданную функцию `ploting_top`, с аргументом `genre`."
   ]
  },
  {
   "cell_type": "code",
   "execution_count": 32,
   "id": "80ca76d3",
   "metadata": {},
   "outputs": [
    {
     "data": {
      "image/png": "[encoded data removed]",
      "text/plain": [
       "<Figure size 1440x432 with 3 Axes>"
      ]
     },
     "metadata": {},
     "output_type": "display_data"
    }
   ],
   "source": [
    "ploting_top('genre')"
   ]
  },
  {
   "cell_type": "markdown",
   "id": "4e9a3d35",
   "metadata": {},
   "source": [
    "Как видно рынки Северной Америки и Европы схожи (\"Action\", \"Shooter\", \"Sports\"), а вот ранок Японии сильно отличается, там большую долю занимают ролевые игры."
   ]
  },
  {
   "cell_type": "markdown",
   "id": "d9722510",
   "metadata": {},
   "source": [
    "### Влияние рейтинга ESRB на продажи по регионам"
   ]
  },
  {
   "cell_type": "markdown",
   "id": "f1b053ca",
   "metadata": {},
   "source": [
    "Построим круговые диаграммы долей продаж в Северной Америки, Европы и Японии, в зависимости от рейтинга за актуальный период. Вызовем ранее созданную функцию `ploting_top`, с аргументом `rating`."
   ]
  },
  {
   "cell_type": "code",
   "execution_count": 33,
   "id": "18c4774a",
   "metadata": {
    "scrolled": true
   },
   "outputs": [
    {
     "data": {
      "image/png": "[encoded data removed]",
      "text/plain": [
       "<Figure size 1440x432 with 3 Axes>"
      ]
     },
     "metadata": {},
     "output_type": "display_data"
    }
   ],
   "source": [
    "ploting_top('rating')"
   ]
  },
  {
   "cell_type": "markdown",
   "id": "3bf875ec",
   "metadata": {},
   "source": [
    "Как видно рынки Северной Америки и Европы схожи относительно рейтингов, а вот ранок Японии сильно отличается, там более половины рынка занимают игры рейтинг которых не определён."
   ]
  },
  {
   "cell_type": "markdown",
   "id": "5dfdce10",
   "metadata": {},
   "source": [
    "<div class=\"alert alert-success\">\n",
    "<b>🤌 Комментарий ревьюера </b>  \n",
    "    \n",
    "Образцово-показательное составление портрета\n",
    "    \n",
    "    \n",
    "![](https://i.gifer.com/5aF5.gif)\n",
    "    \n",
    "</div>"
   ]
  },
  {
   "cell_type": "markdown",
   "id": "698dd467",
   "metadata": {},
   "source": [
    "<div class=\"alert alert-danger\">\n",
    "<b>👨‍🚒 Комментарий ревьюера </b>\n",
    "\n",
    "Но у нас выпали игры без рейтинга :)\n",
    "\n",
    "</div>\n",
    " "
   ]
  },
  {
   "cell_type": "markdown",
   "id": "348a6615",
   "metadata": {},
   "source": [
    "<div class=\"alert alert-info\">\n",
    "<b>🧑‍🎓 Комментарий студента </b>\n",
    "\n",
    "Спасибо за указание на ошибку.\n",
    "\n",
    "После заполнения пропусков в столбце `rating` значением `Not rating`, и небольшой модернизации функции `ploting_top`, ситуация выправилась.\n",
    "</div> "
   ]
  },
  {
   "cell_type": "markdown",
   "id": "c4710597",
   "metadata": {},
   "source": [
    "<div class=\"alert alert-success\">\n",
    "<b>🤌 Комментарий ревьюера (v. 2)\n",
    "    </b>  \n",
    "    \n",
    "Рада быть полезной 🙃 </div>"
   ]
  },
  {
   "cell_type": "markdown",
   "id": "b20c4119",
   "metadata": {},
   "source": [
    "## Проверка гипотез"
   ]
  },
  {
   "cell_type": "markdown",
   "id": "1d0bc6f5",
   "metadata": {},
   "source": [
    "### Гипотеза о равенстве средних пользовательских рейтингов платформ Xbox One и PC\n",
    "Для проверки гипотез получим выборки пользовательских рейтингов для платформ из актуальной базы данных (начиная с 2010 года)."
   ]
  },
  {
   "cell_type": "code",
   "execution_count": 34,
   "id": "875d8e4e",
   "metadata": {},
   "outputs": [
    {
     "name": "stdout",
     "output_type": "stream",
     "text": [
      "Размер выборки пользовательских рейтингов для платформы \"XOne\": 182, дисперсия выборки: 189.65\n",
      "Размер выборки пользовательских рейтингов для платформы \"PC\": 374, дисперсия выборки: 244.39\n"
     ]
    }
   ],
   "source": [
    "user_score_xone = games_actual.query('platform == \"XOne\"').user_score.dropna()\n",
    "user_score_pc = games_actual.query('platform == \"PC\"').user_score.dropna()\n",
    "print(f'Размер выборки пользовательских рейтингов для платформы \"XOne\": {len(user_score_xone)}, дисперсия выборки: {np.var(user_score_xone):.2f}\\n'\n",
    "      f'Размер выборки пользовательских рейтингов для платформы \"PC\": {len(user_score_pc)}, дисперсия выборки: {np.var(user_score_pc):.2f}')"
   ]
  },
  {
   "cell_type": "markdown",
   "id": "d697eafc",
   "metadata": {},
   "source": [
    "Для проверки гипотезы применим t-тест, это возможно по следующим причинам:\n",
    "1. выборки должны быть независимы, это условие выполнено, так как пользователи играют в конкретные игры на тех платформах, которые им предпочтительны (мало вероятно, что пользователь играет в одну игру на разных платформах),\n",
    "2. выборочные средние распределены нормально, так как размеры наших выборок 182 и 374, что достаточно для выполнения ЦПТ о распределении средних выборок,\n",
    "3. размеры выборок и дисперсии  у нас различаются, но это можно учесть как аргумент `equal_var = False` при вызове функции `ttest_ind`.\n",
    "\n",
    "За нулевую гипотезу примем равенство средних пользовательских рейтингов для платформ Xbox One и PC, альтервнативной гипотезой будет их раличие.\n",
    "Уровень статистической значимости примем за 0.05."
   ]
  },
  {
   "cell_type": "code",
   "execution_count": 35,
   "id": "b6463908",
   "metadata": {},
   "outputs": [
    {
     "name": "stdout",
     "output_type": "stream",
     "text": [
      "Не получилось отвергнуть нулевую гипотезу, p-значение:  0.9801634129117981\n"
     ]
    }
   ],
   "source": [
    "alpha = .05 # критический уровень статистической значимости, если p-value окажется меньше него - отвегнем нулевую гипотезу\n",
    "\n",
    "results = st.ttest_ind(user_score_xone, user_score_pc, equal_var = False)\n",
    "\n",
    "if results.pvalue < alpha:\n",
    "    print('Отвергаем нулевую гипотезу, p-значение: ', results.pvalue)\n",
    "else:\n",
    "    print('Не получилось отвергнуть нулевую гипотезу, p-значение: ', results.pvalue) "
   ]
  },
  {
   "cell_type": "markdown",
   "id": "0d0f98b8",
   "metadata": {},
   "source": [
    "Нулевая гипотеза: \"равенство средних пользовательских рейтингов для платформ Xbox One и PC\" не отвергнута, это значит что:\n",
    "**отсутствуют статистически значимые отличия между средними значениями пользовательских рейтингов для платформ Xbox One и PC.**"
   ]
  },
  {
   "cell_type": "markdown",
   "id": "c9e95aef",
   "metadata": {},
   "source": [
    "### Гипотеза об отличии средних пользовательских рейтингов жанров Action и Sports\n",
    "Для проверки гипотез получим выборки пользовательских рейтингов для жанров из актуальной базы данных (начиная с 2010 года)."
   ]
  },
  {
   "cell_type": "code",
   "execution_count": 36,
   "id": "008c2001",
   "metadata": {},
   "outputs": [
    {
     "name": "stdout",
     "output_type": "stream",
     "text": [
      "Размер выборки пользовательских рейтингов для жанра \"Action\": 779, дисперсия выборки: 184.78\n",
      "Размер выборки пользовательских рейтингов для жанра \"Sports\": 315, дисперсия выборки: 282.66\n"
     ]
    }
   ],
   "source": [
    "user_score_action = games_actual.query('genre == \"Action\"').user_score.dropna()\n",
    "user_score_sports = games_actual.query('genre == \"Sports\"').user_score.dropna()\n",
    "print(f'Размер выборки пользовательских рейтингов для жанра \"Action\": {len(user_score_action)}, дисперсия выборки: {np.var(user_score_action):.2f}\\n'\n",
    "      f'Размер выборки пользовательских рейтингов для жанра \"Sports\": {len(user_score_sports)}, дисперсия выборки: {np.var(user_score_sports):.2f}')"
   ]
  },
  {
   "cell_type": "markdown",
   "id": "1e63fdf9",
   "metadata": {},
   "source": [
    "Для проверки гипотезы применим t-тест, это возможно по следующим причинам:\n",
    "1. выборки должны быть независимы, это условие выполнено,\n",
    "2. выборочные средние распределены нормально, так как размеры наших выборок 779 и 315, что достаточно для выполнения ЦПТ о распределении средних выборок,\n",
    "3. размеры выборок и дисперсии  у нас различаются, но это можно учесть как аргумент `equal_var = False` при вызове функции `ttest_ind`.\n",
    "\n",
    "За нулевую гипотезу примем равенство средних пользовательских рейтингов для жанров Action и Sports, альтервнативной гипотезой будет их раличие.\n",
    "Уровень статистической значимости примем за 0.05."
   ]
  },
  {
   "cell_type": "code",
   "execution_count": 37,
   "id": "2c7a096e",
   "metadata": {},
   "outputs": [
    {
     "name": "stdout",
     "output_type": "stream",
     "text": [
      "Отвергаем нулевую гипотезу, p-значение:  1.451615246784473e-15\n"
     ]
    }
   ],
   "source": [
    "alpha = .05 # критический уровень статистической значимости, если p-value окажется меньше него - отвегнем нулевую гипотезу\n",
    "\n",
    "results = st.ttest_ind(user_score_action, user_score_sports, equal_var = False)\n",
    "\n",
    "if results.pvalue < alpha:\n",
    "    print('Отвергаем нулевую гипотезу, p-значение: ', results.pvalue)\n",
    "else:\n",
    "    print('Не получилось отвергнуть нулевую гипотезу, p-значение: ', results.pvalue) "
   ]
  },
  {
   "cell_type": "markdown",
   "id": "aec0d770",
   "metadata": {},
   "source": [
    "Нулевая гипотеза: \"равенство средних пользовательских рейтингов для жанров Action и Sports\" отвергнута, это значит что принята альтернативная гипотеза:\n",
    "**Средние пользовательских рейтингов жанров Action и Sports различны.**"
   ]
  },
  {
   "cell_type": "markdown",
   "id": "149267ff",
   "metadata": {},
   "source": [
    "<div class=\"alert alert-success\">\n",
    "<b>🤌 Комментарий ревьюера </b>  \n",
    "    \n",
    "Проверка гипотез не самая интуитивно понятная вещь. Но ты с ней справился на \"ура!\" ✋\n",
    "    \n",
    "\n",
    "    \n",
    "</div>"
   ]
  },
  {
   "cell_type": "markdown",
   "id": "0ec4a6b7",
   "metadata": {},
   "source": [
    "# Общие выводы"
   ]
  },
  {
   "cell_type": "markdown",
   "id": "3a7ae5ff",
   "metadata": {},
   "source": [
    "Анализ проведён за период с 2010 года, который охватывает как платформы уходящие с рынка, но ещё влияющие на него, так и новые платформы ещё не успевшие выйти в массовый рынок, но находящиеся на подъёме.\n",
    "\n",
    "В ходе исследования выявлены следующие закономерности влияющие на рынок видеоигр:\n",
    "1. Самым перспективным направлением на рынке будут пользоваться игры в жанре \"Shuter\" на платформах \"PS4\" и \"X360\".\n",
    "2. Также стоит обратить внимание на жанры: \"Role-Playing\", \"Sports\", \"Racing\", \"Platform\", и платформы: \"РС\", \"PSV\", \"3DS\".\n",
    "3. Если вкладывать средства в рекламную компанию, то только через критиков, но не стоит ожидать значительной отдачи.\n",
    "4. Рынки видеоигр Северной Америки и Европы близки по жанрам, игровым платформам и влиянию рейтингов, в то время как рынок Японии сильно отличается по данным параметрам. Не нужно брать во внимание рынок Японии, для оценки спроса на игры.\n",
    "5. Средние пользовательские рейтинги для Xbox One и PC одинаковые, с уровнем статистической значимости 0.05.\n",
    "6. Средние пользовательские рейтинги для жанров Action и Sports разные, с уровнем статистической значимости 0.05."
   ]
  },
  {
   "cell_type": "markdown",
   "id": "e3a1856b",
   "metadata": {},
   "source": [
    "<div class=\"alert alert-success\">\n",
    "<b> 🤌  Комментарий ревьюера </b>  \n",
    "\n",
    "Вот это итоговый вывод! Ты не просто рассказал о проделанной работе, но и сделала это так, что бизнесу прямо сразу есть что начать делать. Все рекомендации — все к месту. </div>"
   ]
  },
  {
   "cell_type": "markdown",
   "id": "fddb623d",
   "metadata": {},
   "source": [
    "<div style=\"border:solid purple 5px; padding: 20px\"> \n",
    "Очень хорошая работа! Аккуратный код, красивая визуализация, грамотная работа с результатами. Есть несколько критических моментов, требующий доработки, но думаю, что ты с ними легко справишься ✋\n",
    "    \n",
    "Если у тебя будут возникать вопросы или же покажется, что что-то я пропустила при проверке, обязательно дай знать — чем тщательнее на этапе учебы будут разобраны детали, тем проще будет применять эти знания на практике.\n",
    "\n",
    "С нетерпением жду твои правки \n",
    "    \n",
    "![](https://i.gifer.com/iAe.gif)"
   ]
  },
  {
   "cell_type": "code",
   "execution_count": null,
   "id": "fa647238",
   "metadata": {},
   "outputs": [],
   "source": []
  }
 ],
 "metadata": {
  "ExecuteTimeLog": [
   {
    "duration": 1493,
    "start_time": "2022-04-08T15:50:59.999Z"
   },
   {
    "duration": 55,
    "start_time": "2022-04-08T15:51:01.495Z"
   },
   {
    "duration": 63,
    "start_time": "2022-04-08T15:51:01.552Z"
   },
   {
    "duration": 8,
    "start_time": "2022-04-08T15:51:01.633Z"
   },
   {
    "duration": 16,
    "start_time": "2022-04-08T15:51:01.644Z"
   },
   {
    "duration": 17,
    "start_time": "2022-04-08T15:51:01.662Z"
   },
   {
    "duration": 24,
    "start_time": "2022-04-08T15:51:01.681Z"
   },
   {
    "duration": 4,
    "start_time": "2022-04-08T15:51:01.707Z"
   },
   {
    "duration": 15,
    "start_time": "2022-04-08T15:51:01.714Z"
   },
   {
    "duration": 27,
    "start_time": "2022-04-08T15:51:01.732Z"
   },
   {
    "duration": 21,
    "start_time": "2022-04-08T15:51:01.762Z"
   },
   {
    "duration": 23,
    "start_time": "2022-04-08T15:51:01.785Z"
   },
   {
    "duration": 11,
    "start_time": "2022-04-08T15:51:01.810Z"
   },
   {
    "duration": 43,
    "start_time": "2022-04-08T15:51:01.823Z"
   },
   {
    "duration": 11,
    "start_time": "2022-04-08T15:51:01.868Z"
   },
   {
    "duration": 25,
    "start_time": "2022-04-08T15:51:01.881Z"
   },
   {
    "duration": 28,
    "start_time": "2022-04-08T15:51:01.908Z"
   },
   {
    "duration": 648,
    "start_time": "2022-04-08T15:51:01.938Z"
   },
   {
    "duration": 50,
    "start_time": "2022-04-08T15:51:02.589Z"
   },
   {
    "duration": 3783,
    "start_time": "2022-04-08T15:51:02.641Z"
   },
   {
    "duration": 14,
    "start_time": "2022-04-08T15:51:06.426Z"
   },
   {
    "duration": 31,
    "start_time": "2022-04-08T15:51:06.444Z"
   },
   {
    "duration": 3406,
    "start_time": "2022-04-08T15:51:06.477Z"
   },
   {
    "duration": 207,
    "start_time": "2022-04-08T15:51:09.885Z"
   },
   {
    "duration": 430,
    "start_time": "2022-04-08T15:51:10.093Z"
   },
   {
    "duration": 22,
    "start_time": "2022-04-08T15:51:10.525Z"
   },
   {
    "duration": 48,
    "start_time": "2022-04-08T15:51:10.549Z"
   },
   {
    "duration": 482,
    "start_time": "2022-04-08T15:51:10.601Z"
   },
   {
    "duration": 623,
    "start_time": "2022-04-08T15:51:11.085Z"
   },
   {
    "duration": 466,
    "start_time": "2022-04-08T15:51:11.709Z"
   },
   {
    "duration": 397,
    "start_time": "2022-04-08T15:51:12.176Z"
   },
   {
    "duration": 10,
    "start_time": "2022-04-08T15:51:12.575Z"
   },
   {
    "duration": 8,
    "start_time": "2022-04-08T15:51:12.587Z"
   },
   {
    "duration": 15,
    "start_time": "2022-04-08T15:51:12.597Z"
   },
   {
    "duration": 26,
    "start_time": "2022-04-08T15:51:12.613Z"
   },
   {
    "duration": 568,
    "start_time": "2022-04-08T21:41:28.560Z"
   },
   {
    "duration": 1217,
    "start_time": "2022-04-08T21:56:05.366Z"
   },
   {
    "duration": 46,
    "start_time": "2022-04-08T21:56:06.585Z"
   },
   {
    "duration": 59,
    "start_time": "2022-04-08T21:56:06.633Z"
   },
   {
    "duration": 4,
    "start_time": "2022-04-08T21:56:06.694Z"
   },
   {
    "duration": 7,
    "start_time": "2022-04-08T21:56:06.700Z"
   },
   {
    "duration": 25,
    "start_time": "2022-04-08T21:56:06.709Z"
   },
   {
    "duration": 9,
    "start_time": "2022-04-08T21:56:06.736Z"
   },
   {
    "duration": 6,
    "start_time": "2022-04-08T21:56:06.747Z"
   },
   {
    "duration": 8,
    "start_time": "2022-04-08T21:56:06.755Z"
   },
   {
    "duration": 10,
    "start_time": "2022-04-08T21:56:06.766Z"
   },
   {
    "duration": 10,
    "start_time": "2022-04-08T21:56:06.777Z"
   },
   {
    "duration": 58,
    "start_time": "2022-04-08T21:56:06.789Z"
   },
   {
    "duration": 8,
    "start_time": "2022-04-08T21:56:06.849Z"
   },
   {
    "duration": 14,
    "start_time": "2022-04-08T21:56:06.859Z"
   },
   {
    "duration": 4,
    "start_time": "2022-04-08T21:56:06.875Z"
   },
   {
    "duration": 7,
    "start_time": "2022-04-08T21:56:06.881Z"
   },
   {
    "duration": 44,
    "start_time": "2022-04-08T21:56:06.889Z"
   },
   {
    "duration": 516,
    "start_time": "2022-04-08T21:56:06.936Z"
   },
   {
    "duration": 35,
    "start_time": "2022-04-08T21:56:07.454Z"
   },
   {
    "duration": 3537,
    "start_time": "2022-04-08T21:56:07.491Z"
   },
   {
    "duration": 8,
    "start_time": "2022-04-08T21:56:11.032Z"
   },
   {
    "duration": 23,
    "start_time": "2022-04-08T21:56:11.042Z"
   },
   {
    "duration": 3269,
    "start_time": "2022-04-08T21:56:11.067Z"
   },
   {
    "duration": 197,
    "start_time": "2022-04-08T21:56:14.338Z"
   },
   {
    "duration": 410,
    "start_time": "2022-04-08T21:56:14.537Z"
   },
   {
    "duration": 16,
    "start_time": "2022-04-08T21:56:14.948Z"
   },
   {
    "duration": 45,
    "start_time": "2022-04-08T21:56:14.965Z"
   },
   {
    "duration": 454,
    "start_time": "2022-04-08T21:56:15.033Z"
   },
   {
    "duration": 751,
    "start_time": "2022-04-08T21:56:15.488Z"
   },
   {
    "duration": 446,
    "start_time": "2022-04-08T21:56:16.242Z"
   },
   {
    "duration": 374,
    "start_time": "2022-04-08T21:56:16.690Z"
   },
   {
    "duration": 10,
    "start_time": "2022-04-08T21:56:17.066Z"
   },
   {
    "duration": 7,
    "start_time": "2022-04-08T21:56:17.077Z"
   },
   {
    "duration": 15,
    "start_time": "2022-04-08T21:56:17.086Z"
   },
   {
    "duration": 5,
    "start_time": "2022-04-08T21:56:17.103Z"
   },
   {
    "duration": 552,
    "start_time": "2022-04-08T21:58:12.709Z"
   },
   {
    "duration": 459,
    "start_time": "2022-04-08T21:59:45.942Z"
   },
   {
    "duration": 341,
    "start_time": "2022-04-08T22:00:00.533Z"
   },
   {
    "duration": 356,
    "start_time": "2022-04-08T22:00:33.100Z"
   },
   {
    "duration": 367,
    "start_time": "2022-04-08T22:00:50.866Z"
   },
   {
    "duration": 344,
    "start_time": "2022-04-08T22:02:25.004Z"
   },
   {
    "duration": 467,
    "start_time": "2022-04-08T22:03:12.074Z"
   },
   {
    "duration": 335,
    "start_time": "2022-04-08T22:07:34.720Z"
   },
   {
    "duration": 324,
    "start_time": "2022-04-08T22:08:18.930Z"
   },
   {
    "duration": 354,
    "start_time": "2022-04-08T22:09:36.485Z"
   },
   {
    "duration": 355,
    "start_time": "2022-04-08T22:09:46.617Z"
   },
   {
    "duration": 465,
    "start_time": "2022-04-08T22:10:00.260Z"
   },
   {
    "duration": 342,
    "start_time": "2022-04-08T22:10:13.216Z"
   },
   {
    "duration": 326,
    "start_time": "2022-04-08T22:11:04.678Z"
   },
   {
    "duration": 335,
    "start_time": "2022-04-08T22:14:02.232Z"
   },
   {
    "duration": 315,
    "start_time": "2022-04-08T22:14:30.899Z"
   },
   {
    "duration": 339,
    "start_time": "2022-04-08T22:14:42.835Z"
   },
   {
    "duration": 452,
    "start_time": "2022-04-08T22:15:02.543Z"
   },
   {
    "duration": 354,
    "start_time": "2022-04-08T22:15:15.434Z"
   },
   {
    "duration": 354,
    "start_time": "2022-04-08T22:15:21.832Z"
   },
   {
    "duration": 371,
    "start_time": "2022-04-08T22:15:32.510Z"
   },
   {
    "duration": 354,
    "start_time": "2022-04-08T22:15:40.267Z"
   },
   {
    "duration": 325,
    "start_time": "2022-04-08T22:16:05.006Z"
   },
   {
    "duration": 441,
    "start_time": "2022-04-08T22:16:11.297Z"
   },
   {
    "duration": 350,
    "start_time": "2022-04-08T22:16:20.291Z"
   },
   {
    "duration": 7,
    "start_time": "2022-04-08T22:35:47.222Z"
   },
   {
    "duration": 492,
    "start_time": "2022-04-08T22:36:49.522Z"
   },
   {
    "duration": 7,
    "start_time": "2022-04-08T22:38:00.519Z"
   },
   {
    "duration": 8,
    "start_time": "2022-04-08T22:38:04.021Z"
   },
   {
    "duration": 430,
    "start_time": "2022-04-08T22:38:08.732Z"
   },
   {
    "duration": 8,
    "start_time": "2022-04-08T22:39:56.861Z"
   },
   {
    "duration": 394,
    "start_time": "2022-04-08T22:40:10.614Z"
   },
   {
    "duration": 335,
    "start_time": "2022-04-08T22:41:28.813Z"
   },
   {
    "duration": 401,
    "start_time": "2022-04-08T22:43:22.840Z"
   },
   {
    "duration": 355,
    "start_time": "2022-04-08T22:44:29.283Z"
   },
   {
    "duration": 8,
    "start_time": "2022-04-08T22:45:57.711Z"
   },
   {
    "duration": 363,
    "start_time": "2022-04-08T22:46:12.693Z"
   },
   {
    "duration": 308,
    "start_time": "2022-04-08T22:48:33.486Z"
   },
   {
    "duration": 331,
    "start_time": "2022-04-08T22:51:04.331Z"
   },
   {
    "duration": 350,
    "start_time": "2022-04-08T22:51:52.745Z"
   },
   {
    "duration": 113,
    "start_time": "2022-04-08T22:55:50.993Z"
   },
   {
    "duration": 345,
    "start_time": "2022-04-08T22:55:55.600Z"
   },
   {
    "duration": 335,
    "start_time": "2022-04-08T22:56:05.164Z"
   },
   {
    "duration": 320,
    "start_time": "2022-04-08T22:56:20.845Z"
   },
   {
    "duration": 306,
    "start_time": "2022-04-08T22:56:24.939Z"
   },
   {
    "duration": 8,
    "start_time": "2022-04-08T23:11:43.014Z"
   },
   {
    "duration": 350,
    "start_time": "2022-04-08T23:11:47.392Z"
   },
   {
    "duration": 325,
    "start_time": "2022-04-08T23:11:54.643Z"
   },
   {
    "duration": 424,
    "start_time": "2022-04-08T23:12:00.672Z"
   },
   {
    "duration": 12,
    "start_time": "2022-04-08T23:12:06.335Z"
   },
   {
    "duration": 9,
    "start_time": "2022-04-08T23:12:47.039Z"
   },
   {
    "duration": 313,
    "start_time": "2022-04-08T23:13:15.717Z"
   },
   {
    "duration": 8,
    "start_time": "2022-04-08T23:14:45.730Z"
   },
   {
    "duration": 1238,
    "start_time": "2022-04-08T23:14:50.354Z"
   },
   {
    "duration": 49,
    "start_time": "2022-04-08T23:14:51.594Z"
   },
   {
    "duration": 63,
    "start_time": "2022-04-08T23:14:51.645Z"
   },
   {
    "duration": 23,
    "start_time": "2022-04-08T23:14:51.710Z"
   },
   {
    "duration": 5,
    "start_time": "2022-04-08T23:14:51.735Z"
   },
   {
    "duration": 12,
    "start_time": "2022-04-08T23:14:51.742Z"
   },
   {
    "duration": 11,
    "start_time": "2022-04-08T23:14:51.755Z"
   },
   {
    "duration": 4,
    "start_time": "2022-04-08T23:14:51.768Z"
   },
   {
    "duration": 8,
    "start_time": "2022-04-08T23:14:51.773Z"
   },
   {
    "duration": 12,
    "start_time": "2022-04-08T23:14:51.783Z"
   },
   {
    "duration": 9,
    "start_time": "2022-04-08T23:14:51.832Z"
   },
   {
    "duration": 18,
    "start_time": "2022-04-08T23:14:51.843Z"
   },
   {
    "duration": 8,
    "start_time": "2022-04-08T23:14:51.863Z"
   },
   {
    "duration": 21,
    "start_time": "2022-04-08T23:14:51.874Z"
   },
   {
    "duration": 38,
    "start_time": "2022-04-08T23:14:51.896Z"
   },
   {
    "duration": 8,
    "start_time": "2022-04-08T23:14:51.937Z"
   },
   {
    "duration": 19,
    "start_time": "2022-04-08T23:14:51.948Z"
   },
   {
    "duration": 564,
    "start_time": "2022-04-08T23:14:51.969Z"
   },
   {
    "duration": 34,
    "start_time": "2022-04-08T23:14:52.535Z"
   },
   {
    "duration": 3597,
    "start_time": "2022-04-08T23:14:52.571Z"
   },
   {
    "duration": 8,
    "start_time": "2022-04-08T23:14:56.169Z"
   },
   {
    "duration": 22,
    "start_time": "2022-04-08T23:14:56.178Z"
   },
   {
    "duration": 3290,
    "start_time": "2022-04-08T23:14:56.202Z"
   },
   {
    "duration": 200,
    "start_time": "2022-04-08T23:14:59.494Z"
   },
   {
    "duration": 413,
    "start_time": "2022-04-08T23:14:59.696Z"
   },
   {
    "duration": 25,
    "start_time": "2022-04-08T23:15:00.111Z"
   },
   {
    "duration": 43,
    "start_time": "2022-04-08T23:15:00.138Z"
   },
   {
    "duration": 479,
    "start_time": "2022-04-08T23:15:00.185Z"
   },
   {
    "duration": 9,
    "start_time": "2022-04-08T23:15:00.665Z"
   },
   {
    "duration": 404,
    "start_time": "2022-04-08T23:15:00.676Z"
   },
   {
    "duration": 353,
    "start_time": "2022-04-08T23:15:01.082Z"
   },
   {
    "duration": 344,
    "start_time": "2022-04-08T23:15:01.438Z"
   },
   {
    "duration": 13,
    "start_time": "2022-04-08T23:15:01.784Z"
   },
   {
    "duration": 27,
    "start_time": "2022-04-08T23:15:01.799Z"
   },
   {
    "duration": 21,
    "start_time": "2022-04-08T23:15:01.831Z"
   },
   {
    "duration": 22,
    "start_time": "2022-04-08T23:15:01.854Z"
   },
   {
    "duration": 1265,
    "start_time": "2022-04-08T23:16:46.470Z"
   },
   {
    "duration": 49,
    "start_time": "2022-04-08T23:16:47.737Z"
   },
   {
    "duration": 63,
    "start_time": "2022-04-08T23:16:47.788Z"
   },
   {
    "duration": 3,
    "start_time": "2022-04-08T23:16:47.853Z"
   },
   {
    "duration": 7,
    "start_time": "2022-04-08T23:16:47.858Z"
   },
   {
    "duration": 9,
    "start_time": "2022-04-08T23:16:47.866Z"
   },
   {
    "duration": 11,
    "start_time": "2022-04-08T23:16:47.877Z"
   },
   {
    "duration": 5,
    "start_time": "2022-04-08T23:16:47.890Z"
   },
   {
    "duration": 36,
    "start_time": "2022-04-08T23:16:47.897Z"
   },
   {
    "duration": 22,
    "start_time": "2022-04-08T23:16:47.935Z"
   },
   {
    "duration": 12,
    "start_time": "2022-04-08T23:16:47.959Z"
   },
   {
    "duration": 18,
    "start_time": "2022-04-08T23:16:47.973Z"
   },
   {
    "duration": 8,
    "start_time": "2022-04-08T23:16:47.993Z"
   },
   {
    "duration": 33,
    "start_time": "2022-04-08T23:16:48.005Z"
   },
   {
    "duration": 3,
    "start_time": "2022-04-08T23:16:48.040Z"
   },
   {
    "duration": 10,
    "start_time": "2022-04-08T23:16:48.045Z"
   },
   {
    "duration": 16,
    "start_time": "2022-04-08T23:16:48.057Z"
   },
   {
    "duration": 558,
    "start_time": "2022-04-08T23:16:48.075Z"
   },
   {
    "duration": 33,
    "start_time": "2022-04-08T23:16:48.635Z"
   },
   {
    "duration": 3552,
    "start_time": "2022-04-08T23:16:48.670Z"
   },
   {
    "duration": 7,
    "start_time": "2022-04-08T23:16:52.233Z"
   },
   {
    "duration": 49,
    "start_time": "2022-04-08T23:16:52.242Z"
   },
   {
    "duration": 3402,
    "start_time": "2022-04-08T23:16:52.293Z"
   },
   {
    "duration": 222,
    "start_time": "2022-04-08T23:16:55.697Z"
   },
   {
    "duration": 420,
    "start_time": "2022-04-08T23:16:55.921Z"
   },
   {
    "duration": 15,
    "start_time": "2022-04-08T23:16:56.343Z"
   },
   {
    "duration": 46,
    "start_time": "2022-04-08T23:16:56.360Z"
   },
   {
    "duration": 464,
    "start_time": "2022-04-08T23:16:56.432Z"
   },
   {
    "duration": 9,
    "start_time": "2022-04-08T23:16:56.897Z"
   },
   {
    "duration": 409,
    "start_time": "2022-04-08T23:16:56.907Z"
   },
   {
    "duration": 350,
    "start_time": "2022-04-08T23:16:57.318Z"
   },
   {
    "duration": 354,
    "start_time": "2022-04-08T23:16:57.669Z"
   },
   {
    "duration": 15,
    "start_time": "2022-04-08T23:16:58.024Z"
   },
   {
    "duration": 13,
    "start_time": "2022-04-08T23:16:58.042Z"
   },
   {
    "duration": 17,
    "start_time": "2022-04-08T23:16:58.057Z"
   },
   {
    "duration": 7,
    "start_time": "2022-04-08T23:16:58.077Z"
   },
   {
    "duration": 145,
    "start_time": "2022-04-08T23:19:11.549Z"
   },
   {
    "duration": 7,
    "start_time": "2022-04-08T23:19:20.823Z"
   },
   {
    "duration": 1251,
    "start_time": "2022-04-08T23:19:28.514Z"
   },
   {
    "duration": 48,
    "start_time": "2022-04-08T23:19:29.767Z"
   },
   {
    "duration": 61,
    "start_time": "2022-04-08T23:19:29.817Z"
   },
   {
    "duration": 4,
    "start_time": "2022-04-08T23:19:29.880Z"
   },
   {
    "duration": 9,
    "start_time": "2022-04-08T23:19:29.886Z"
   },
   {
    "duration": 8,
    "start_time": "2022-04-08T23:19:29.897Z"
   },
   {
    "duration": 29,
    "start_time": "2022-04-08T23:19:29.907Z"
   },
   {
    "duration": 4,
    "start_time": "2022-04-08T23:19:29.938Z"
   },
   {
    "duration": 8,
    "start_time": "2022-04-08T23:19:29.944Z"
   },
   {
    "duration": 9,
    "start_time": "2022-04-08T23:19:29.956Z"
   },
   {
    "duration": 11,
    "start_time": "2022-04-08T23:19:29.967Z"
   },
   {
    "duration": 21,
    "start_time": "2022-04-08T23:19:29.981Z"
   },
   {
    "duration": 8,
    "start_time": "2022-04-08T23:19:30.032Z"
   },
   {
    "duration": 21,
    "start_time": "2022-04-08T23:19:30.042Z"
   },
   {
    "duration": 8,
    "start_time": "2022-04-08T23:19:30.064Z"
   },
   {
    "duration": 12,
    "start_time": "2022-04-08T23:19:30.074Z"
   },
   {
    "duration": 19,
    "start_time": "2022-04-08T23:19:30.088Z"
   },
   {
    "duration": 530,
    "start_time": "2022-04-08T23:19:30.109Z"
   },
   {
    "duration": 35,
    "start_time": "2022-04-08T23:19:30.641Z"
   },
   {
    "duration": 3543,
    "start_time": "2022-04-08T23:19:30.678Z"
   },
   {
    "duration": 13,
    "start_time": "2022-04-08T23:19:34.223Z"
   },
   {
    "duration": 24,
    "start_time": "2022-04-08T23:19:34.238Z"
   },
   {
    "duration": 3270,
    "start_time": "2022-04-08T23:19:34.264Z"
   },
   {
    "duration": 195,
    "start_time": "2022-04-08T23:19:37.536Z"
   },
   {
    "duration": 406,
    "start_time": "2022-04-08T23:19:37.733Z"
   },
   {
    "duration": 16,
    "start_time": "2022-04-08T23:19:38.140Z"
   },
   {
    "duration": 45,
    "start_time": "2022-04-08T23:19:38.158Z"
   },
   {
    "duration": 477,
    "start_time": "2022-04-08T23:19:38.207Z"
   },
   {
    "duration": 8,
    "start_time": "2022-04-08T23:19:38.686Z"
   },
   {
    "duration": 428,
    "start_time": "2022-04-08T23:19:38.696Z"
   },
   {
    "duration": 343,
    "start_time": "2022-04-08T23:19:39.126Z"
   },
   {
    "duration": 318,
    "start_time": "2022-04-08T23:19:39.470Z"
   },
   {
    "duration": 11,
    "start_time": "2022-04-08T23:19:39.790Z"
   },
   {
    "duration": 8,
    "start_time": "2022-04-08T23:19:39.803Z"
   },
   {
    "duration": 28,
    "start_time": "2022-04-08T23:19:39.813Z"
   },
   {
    "duration": 4,
    "start_time": "2022-04-08T23:19:39.843Z"
   },
   {
    "duration": 1295,
    "start_time": "2022-04-20T15:24:04.282Z"
   },
   {
    "duration": 35,
    "start_time": "2022-04-20T15:24:05.579Z"
   },
   {
    "duration": 59,
    "start_time": "2022-04-20T15:24:05.616Z"
   },
   {
    "duration": 2,
    "start_time": "2022-04-20T15:24:05.677Z"
   },
   {
    "duration": 8,
    "start_time": "2022-04-20T15:24:05.681Z"
   },
   {
    "duration": 5,
    "start_time": "2022-04-20T15:24:05.691Z"
   },
   {
    "duration": 13,
    "start_time": "2022-04-20T15:24:05.697Z"
   },
   {
    "duration": 4,
    "start_time": "2022-04-20T15:24:05.711Z"
   },
   {
    "duration": 7,
    "start_time": "2022-04-20T15:24:05.728Z"
   },
   {
    "duration": 13,
    "start_time": "2022-04-20T15:24:05.738Z"
   },
   {
    "duration": 9,
    "start_time": "2022-04-20T15:24:05.753Z"
   },
   {
    "duration": 14,
    "start_time": "2022-04-20T15:24:05.763Z"
   },
   {
    "duration": 6,
    "start_time": "2022-04-20T15:24:05.778Z"
   },
   {
    "duration": 14,
    "start_time": "2022-04-20T15:24:05.785Z"
   },
   {
    "duration": 31,
    "start_time": "2022-04-20T15:24:05.801Z"
   },
   {
    "duration": 11,
    "start_time": "2022-04-20T15:24:05.834Z"
   },
   {
    "duration": 15,
    "start_time": "2022-04-20T15:24:05.847Z"
   },
   {
    "duration": 551,
    "start_time": "2022-04-20T15:24:05.863Z"
   },
   {
    "duration": 39,
    "start_time": "2022-04-20T15:24:06.416Z"
   },
   {
    "duration": 3001,
    "start_time": "2022-04-20T15:24:06.456Z"
   },
   {
    "duration": 7,
    "start_time": "2022-04-20T15:24:09.459Z"
   },
   {
    "duration": 20,
    "start_time": "2022-04-20T15:24:09.468Z"
   },
   {
    "duration": 2835,
    "start_time": "2022-04-20T15:24:09.490Z"
   },
   {
    "duration": 164,
    "start_time": "2022-04-20T15:24:12.327Z"
   },
   {
    "duration": 355,
    "start_time": "2022-04-20T15:24:12.492Z"
   },
   {
    "duration": 13,
    "start_time": "2022-04-20T15:24:12.848Z"
   },
   {
    "duration": 36,
    "start_time": "2022-04-20T15:24:12.863Z"
   },
   {
    "duration": 415,
    "start_time": "2022-04-20T15:24:12.902Z"
   },
   {
    "duration": 7,
    "start_time": "2022-04-20T15:24:13.319Z"
   },
   {
    "duration": 327,
    "start_time": "2022-04-20T15:24:13.329Z"
   },
   {
    "duration": 289,
    "start_time": "2022-04-20T15:24:13.658Z"
   },
   {
    "duration": 274,
    "start_time": "2022-04-20T15:24:13.948Z"
   },
   {
    "duration": 16,
    "start_time": "2022-04-20T15:24:14.223Z"
   },
   {
    "duration": 7,
    "start_time": "2022-04-20T15:24:14.241Z"
   },
   {
    "duration": 15,
    "start_time": "2022-04-20T15:24:14.249Z"
   },
   {
    "duration": 4,
    "start_time": "2022-04-20T15:24:14.265Z"
   },
   {
    "duration": 3,
    "start_time": "2022-04-20T15:27:25.249Z"
   },
   {
    "duration": 3,
    "start_time": "2022-04-20T15:27:27.750Z"
   },
   {
    "duration": 3,
    "start_time": "2022-04-20T15:27:35.867Z"
   },
   {
    "duration": 4,
    "start_time": "2022-04-20T15:27:38.338Z"
   },
   {
    "duration": 3,
    "start_time": "2022-04-20T15:30:39.996Z"
   },
   {
    "duration": 3,
    "start_time": "2022-04-20T15:30:52.195Z"
   },
   {
    "duration": 4561,
    "start_time": "2022-04-20T15:42:08.474Z"
   },
   {
    "duration": 3039,
    "start_time": "2022-04-20T15:42:24.007Z"
   },
   {
    "duration": 3184,
    "start_time": "2022-04-20T15:44:17.159Z"
   },
   {
    "duration": 3257,
    "start_time": "2022-04-20T15:52:02.109Z"
   },
   {
    "duration": 161,
    "start_time": "2022-04-20T16:23:36.284Z"
   },
   {
    "duration": 175,
    "start_time": "2022-04-20T16:36:44.137Z"
   },
   {
    "duration": 72,
    "start_time": "2022-04-22T12:46:13.656Z"
   },
   {
    "duration": 1771,
    "start_time": "2022-04-22T12:46:22.134Z"
   },
   {
    "duration": 67,
    "start_time": "2022-04-22T12:46:23.908Z"
   },
   {
    "duration": 84,
    "start_time": "2022-04-22T12:46:23.977Z"
   },
   {
    "duration": 4,
    "start_time": "2022-04-22T12:46:24.064Z"
   },
   {
    "duration": 24,
    "start_time": "2022-04-22T12:46:24.070Z"
   },
   {
    "duration": 12,
    "start_time": "2022-04-22T12:46:24.096Z"
   },
   {
    "duration": 16,
    "start_time": "2022-04-22T12:46:24.111Z"
   },
   {
    "duration": 5,
    "start_time": "2022-04-22T12:46:24.129Z"
   },
   {
    "duration": 11,
    "start_time": "2022-04-22T12:46:24.136Z"
   },
   {
    "duration": 45,
    "start_time": "2022-04-22T12:46:24.151Z"
   },
   {
    "duration": 13,
    "start_time": "2022-04-22T12:46:24.198Z"
   },
   {
    "duration": 26,
    "start_time": "2022-04-22T12:46:24.213Z"
   },
   {
    "duration": 11,
    "start_time": "2022-04-22T12:46:24.242Z"
   },
   {
    "duration": 51,
    "start_time": "2022-04-22T12:46:24.255Z"
   },
   {
    "duration": 10,
    "start_time": "2022-04-22T12:46:24.309Z"
   },
   {
    "duration": 2330,
    "start_time": "2022-04-22T12:46:24.321Z"
   },
   {
    "duration": 0,
    "start_time": "2022-04-22T12:46:26.654Z"
   },
   {
    "duration": 0,
    "start_time": "2022-04-22T12:46:26.655Z"
   },
   {
    "duration": 0,
    "start_time": "2022-04-22T12:46:26.657Z"
   },
   {
    "duration": 0,
    "start_time": "2022-04-22T12:46:26.659Z"
   },
   {
    "duration": 0,
    "start_time": "2022-04-22T12:46:26.660Z"
   },
   {
    "duration": 0,
    "start_time": "2022-04-22T12:46:26.662Z"
   },
   {
    "duration": 0,
    "start_time": "2022-04-22T12:46:26.663Z"
   },
   {
    "duration": 0,
    "start_time": "2022-04-22T12:46:26.665Z"
   },
   {
    "duration": 0,
    "start_time": "2022-04-22T12:46:26.666Z"
   },
   {
    "duration": 0,
    "start_time": "2022-04-22T12:46:26.668Z"
   },
   {
    "duration": 0,
    "start_time": "2022-04-22T12:46:26.669Z"
   },
   {
    "duration": 0,
    "start_time": "2022-04-22T12:46:26.671Z"
   },
   {
    "duration": 0,
    "start_time": "2022-04-22T12:46:26.672Z"
   },
   {
    "duration": 0,
    "start_time": "2022-04-22T12:46:26.674Z"
   },
   {
    "duration": 0,
    "start_time": "2022-04-22T12:46:26.675Z"
   },
   {
    "duration": 0,
    "start_time": "2022-04-22T12:46:26.677Z"
   },
   {
    "duration": 0,
    "start_time": "2022-04-22T12:46:26.678Z"
   },
   {
    "duration": 0,
    "start_time": "2022-04-22T12:46:26.680Z"
   },
   {
    "duration": 0,
    "start_time": "2022-04-22T12:46:26.681Z"
   },
   {
    "duration": 0,
    "start_time": "2022-04-22T12:46:26.683Z"
   },
   {
    "duration": 0,
    "start_time": "2022-04-22T12:46:26.684Z"
   },
   {
    "duration": 1549,
    "start_time": "2022-04-22T12:47:26.636Z"
   },
   {
    "duration": 54,
    "start_time": "2022-04-22T12:47:28.188Z"
   },
   {
    "duration": 115,
    "start_time": "2022-04-22T12:47:28.244Z"
   },
   {
    "duration": 5,
    "start_time": "2022-04-22T12:47:28.363Z"
   },
   {
    "duration": 26,
    "start_time": "2022-04-22T12:47:28.371Z"
   },
   {
    "duration": 15,
    "start_time": "2022-04-22T12:47:28.400Z"
   },
   {
    "duration": 22,
    "start_time": "2022-04-22T12:47:28.418Z"
   },
   {
    "duration": 6,
    "start_time": "2022-04-22T12:47:28.443Z"
   },
   {
    "duration": 12,
    "start_time": "2022-04-22T12:47:28.452Z"
   },
   {
    "duration": 35,
    "start_time": "2022-04-22T12:47:28.469Z"
   },
   {
    "duration": 18,
    "start_time": "2022-04-22T12:47:28.507Z"
   },
   {
    "duration": 23,
    "start_time": "2022-04-22T12:47:28.528Z"
   },
   {
    "duration": 10,
    "start_time": "2022-04-22T12:47:28.553Z"
   },
   {
    "duration": 22,
    "start_time": "2022-04-22T12:47:28.594Z"
   },
   {
    "duration": 7,
    "start_time": "2022-04-22T12:47:28.618Z"
   },
   {
    "duration": 2402,
    "start_time": "2022-04-22T12:47:28.627Z"
   },
   {
    "duration": 0,
    "start_time": "2022-04-22T12:47:31.032Z"
   },
   {
    "duration": 0,
    "start_time": "2022-04-22T12:47:31.034Z"
   },
   {
    "duration": 0,
    "start_time": "2022-04-22T12:47:31.036Z"
   },
   {
    "duration": 0,
    "start_time": "2022-04-22T12:47:31.038Z"
   },
   {
    "duration": 0,
    "start_time": "2022-04-22T12:47:31.040Z"
   },
   {
    "duration": 0,
    "start_time": "2022-04-22T12:47:31.042Z"
   },
   {
    "duration": 0,
    "start_time": "2022-04-22T12:47:31.044Z"
   },
   {
    "duration": 0,
    "start_time": "2022-04-22T12:47:31.045Z"
   },
   {
    "duration": 0,
    "start_time": "2022-04-22T12:47:31.047Z"
   },
   {
    "duration": 0,
    "start_time": "2022-04-22T12:47:31.050Z"
   },
   {
    "duration": 0,
    "start_time": "2022-04-22T12:47:31.052Z"
   },
   {
    "duration": 0,
    "start_time": "2022-04-22T12:47:31.055Z"
   },
   {
    "duration": 0,
    "start_time": "2022-04-22T12:47:31.057Z"
   },
   {
    "duration": 0,
    "start_time": "2022-04-22T12:47:31.058Z"
   },
   {
    "duration": 0,
    "start_time": "2022-04-22T12:47:31.059Z"
   },
   {
    "duration": 0,
    "start_time": "2022-04-22T12:47:31.061Z"
   },
   {
    "duration": 0,
    "start_time": "2022-04-22T12:47:31.062Z"
   },
   {
    "duration": 0,
    "start_time": "2022-04-22T12:47:31.064Z"
   },
   {
    "duration": 0,
    "start_time": "2022-04-22T12:47:31.065Z"
   },
   {
    "duration": 0,
    "start_time": "2022-04-22T12:47:31.067Z"
   },
   {
    "duration": 0,
    "start_time": "2022-04-22T12:47:31.068Z"
   },
   {
    "duration": 17,
    "start_time": "2022-04-22T12:48:32.691Z"
   },
   {
    "duration": 1450,
    "start_time": "2022-04-22T12:53:49.338Z"
   },
   {
    "duration": 65,
    "start_time": "2022-04-22T12:53:50.795Z"
   },
   {
    "duration": 74,
    "start_time": "2022-04-22T12:53:50.862Z"
   },
   {
    "duration": 4,
    "start_time": "2022-04-22T12:53:50.939Z"
   },
   {
    "duration": 7,
    "start_time": "2022-04-22T12:53:50.946Z"
   },
   {
    "duration": 39,
    "start_time": "2022-04-22T12:53:50.955Z"
   },
   {
    "duration": 14,
    "start_time": "2022-04-22T12:53:50.996Z"
   },
   {
    "duration": 6,
    "start_time": "2022-04-22T12:53:51.012Z"
   },
   {
    "duration": 6,
    "start_time": "2022-04-22T12:53:51.020Z"
   },
   {
    "duration": 13,
    "start_time": "2022-04-22T12:53:51.030Z"
   },
   {
    "duration": 59,
    "start_time": "2022-04-22T12:53:51.046Z"
   },
   {
    "duration": 21,
    "start_time": "2022-04-22T12:53:51.108Z"
   },
   {
    "duration": 11,
    "start_time": "2022-04-22T12:53:51.132Z"
   },
   {
    "duration": 52,
    "start_time": "2022-04-22T12:53:51.145Z"
   },
   {
    "duration": 6,
    "start_time": "2022-04-22T12:53:51.200Z"
   },
   {
    "duration": 7,
    "start_time": "2022-04-22T12:53:51.208Z"
   },
   {
    "duration": 8,
    "start_time": "2022-04-22T12:53:51.217Z"
   },
   {
    "duration": 23,
    "start_time": "2022-04-22T12:53:51.227Z"
   },
   {
    "duration": 747,
    "start_time": "2022-04-22T12:53:51.253Z"
   },
   {
    "duration": 48,
    "start_time": "2022-04-22T12:53:52.002Z"
   },
   {
    "duration": 5197,
    "start_time": "2022-04-22T12:53:52.052Z"
   },
   {
    "duration": 10,
    "start_time": "2022-04-22T12:53:57.252Z"
   },
   {
    "duration": 53,
    "start_time": "2022-04-22T12:53:57.264Z"
   },
   {
    "duration": 5085,
    "start_time": "2022-04-22T12:53:57.319Z"
   },
   {
    "duration": 308,
    "start_time": "2022-04-22T12:54:02.406Z"
   },
   {
    "duration": 723,
    "start_time": "2022-04-22T12:54:02.717Z"
   },
   {
    "duration": 21,
    "start_time": "2022-04-22T12:54:03.443Z"
   },
   {
    "duration": 78,
    "start_time": "2022-04-22T12:54:03.468Z"
   },
   {
    "duration": 862,
    "start_time": "2022-04-22T12:54:03.549Z"
   },
   {
    "duration": 15,
    "start_time": "2022-04-22T12:54:04.414Z"
   },
   {
    "duration": 791,
    "start_time": "2022-04-22T12:54:04.431Z"
   },
   {
    "duration": 728,
    "start_time": "2022-04-22T12:54:05.224Z"
   },
   {
    "duration": 1023,
    "start_time": "2022-04-22T12:54:05.955Z"
   },
   {
    "duration": 0,
    "start_time": "2022-04-22T12:54:06.980Z"
   },
   {
    "duration": 0,
    "start_time": "2022-04-22T12:54:06.982Z"
   },
   {
    "duration": 0,
    "start_time": "2022-04-22T12:54:06.984Z"
   },
   {
    "duration": 0,
    "start_time": "2022-04-22T12:54:06.993Z"
   },
   {
    "duration": 24,
    "start_time": "2022-04-22T12:54:54.595Z"
   },
   {
    "duration": 9,
    "start_time": "2022-04-22T12:55:21.979Z"
   },
   {
    "duration": 6,
    "start_time": "2022-04-22T12:55:43.467Z"
   },
   {
    "duration": 66,
    "start_time": "2022-04-22T12:55:43.847Z"
   },
   {
    "duration": 68,
    "start_time": "2022-04-22T12:55:44.173Z"
   },
   {
    "duration": 4,
    "start_time": "2022-04-22T12:55:45.102Z"
   },
   {
    "duration": 5,
    "start_time": "2022-04-22T12:55:45.610Z"
   },
   {
    "duration": 8,
    "start_time": "2022-04-22T12:55:46.106Z"
   },
   {
    "duration": 11,
    "start_time": "2022-04-22T12:55:46.456Z"
   },
   {
    "duration": 6,
    "start_time": "2022-04-22T12:55:47.607Z"
   },
   {
    "duration": 7,
    "start_time": "2022-04-22T12:55:48.156Z"
   },
   {
    "duration": 10,
    "start_time": "2022-04-22T12:55:48.326Z"
   },
   {
    "duration": 13,
    "start_time": "2022-04-22T12:55:48.688Z"
   },
   {
    "duration": 20,
    "start_time": "2022-04-22T12:55:49.752Z"
   },
   {
    "duration": 10,
    "start_time": "2022-04-22T12:55:50.101Z"
   },
   {
    "duration": 19,
    "start_time": "2022-04-22T12:55:50.629Z"
   },
   {
    "duration": 7,
    "start_time": "2022-04-22T12:55:52.122Z"
   },
   {
    "duration": 7,
    "start_time": "2022-04-22T12:55:56.788Z"
   },
   {
    "duration": 7,
    "start_time": "2022-04-22T12:55:58.398Z"
   },
   {
    "duration": 1931,
    "start_time": "2022-04-22T12:59:04.093Z"
   },
   {
    "duration": 84,
    "start_time": "2022-04-22T12:59:06.027Z"
   },
   {
    "duration": 116,
    "start_time": "2022-04-22T12:59:06.114Z"
   },
   {
    "duration": 5,
    "start_time": "2022-04-22T12:59:06.233Z"
   },
   {
    "duration": 8,
    "start_time": "2022-04-22T12:59:06.243Z"
   },
   {
    "duration": 40,
    "start_time": "2022-04-22T12:59:06.254Z"
   },
   {
    "duration": 25,
    "start_time": "2022-04-22T12:59:06.298Z"
   },
   {
    "duration": 6,
    "start_time": "2022-04-22T12:59:06.326Z"
   },
   {
    "duration": 16,
    "start_time": "2022-04-22T12:59:06.334Z"
   },
   {
    "duration": 39,
    "start_time": "2022-04-22T12:59:06.354Z"
   },
   {
    "duration": 17,
    "start_time": "2022-04-22T12:59:06.396Z"
   },
   {
    "duration": 28,
    "start_time": "2022-04-22T12:59:06.416Z"
   },
   {
    "duration": 10,
    "start_time": "2022-04-22T12:59:06.446Z"
   },
   {
    "duration": 51,
    "start_time": "2022-04-22T12:59:06.460Z"
   },
   {
    "duration": 7,
    "start_time": "2022-04-22T12:59:06.514Z"
   },
   {
    "duration": 12,
    "start_time": "2022-04-22T12:59:06.522Z"
   },
   {
    "duration": 13,
    "start_time": "2022-04-22T12:59:06.536Z"
   },
   {
    "duration": 8,
    "start_time": "2022-04-22T12:59:06.552Z"
   },
   {
    "duration": 6,
    "start_time": "2022-04-22T12:59:06.594Z"
   },
   {
    "duration": 27,
    "start_time": "2022-04-22T12:59:06.602Z"
   },
   {
    "duration": 763,
    "start_time": "2022-04-22T12:59:06.632Z"
   },
   {
    "duration": 48,
    "start_time": "2022-04-22T12:59:07.398Z"
   },
   {
    "duration": 5225,
    "start_time": "2022-04-22T12:59:07.448Z"
   },
   {
    "duration": 19,
    "start_time": "2022-04-22T12:59:12.676Z"
   },
   {
    "duration": 35,
    "start_time": "2022-04-22T12:59:12.697Z"
   },
   {
    "duration": 5065,
    "start_time": "2022-04-22T12:59:12.734Z"
   },
   {
    "duration": 357,
    "start_time": "2022-04-22T12:59:17.801Z"
   },
   {
    "duration": 738,
    "start_time": "2022-04-22T12:59:18.161Z"
   },
   {
    "duration": 23,
    "start_time": "2022-04-22T12:59:18.901Z"
   },
   {
    "duration": 170,
    "start_time": "2022-04-22T12:59:18.927Z"
   },
   {
    "duration": 723,
    "start_time": "2022-04-22T12:59:19.099Z"
   },
   {
    "duration": 11,
    "start_time": "2022-04-22T12:59:19.824Z"
   },
   {
    "duration": 581,
    "start_time": "2022-04-22T12:59:19.837Z"
   },
   {
    "duration": 502,
    "start_time": "2022-04-22T12:59:20.420Z"
   },
   {
    "duration": 709,
    "start_time": "2022-04-22T12:59:20.924Z"
   },
   {
    "duration": 0,
    "start_time": "2022-04-22T12:59:21.635Z"
   },
   {
    "duration": 0,
    "start_time": "2022-04-22T12:59:21.637Z"
   },
   {
    "duration": 0,
    "start_time": "2022-04-22T12:59:21.638Z"
   },
   {
    "duration": 0,
    "start_time": "2022-04-22T12:59:21.640Z"
   },
   {
    "duration": 11,
    "start_time": "2022-04-22T12:59:57.672Z"
   },
   {
    "duration": 534,
    "start_time": "2022-04-22T13:00:00.455Z"
   },
   {
    "duration": 611,
    "start_time": "2022-04-22T13:00:01.843Z"
   },
   {
    "duration": 770,
    "start_time": "2022-04-22T13:00:07.254Z"
   },
   {
    "duration": 1527,
    "start_time": "2022-04-22T13:01:20.790Z"
   },
   {
    "duration": 210,
    "start_time": "2022-04-22T13:01:22.320Z"
   },
   {
    "duration": 77,
    "start_time": "2022-04-22T13:01:22.532Z"
   },
   {
    "duration": 5,
    "start_time": "2022-04-22T13:01:22.612Z"
   },
   {
    "duration": 8,
    "start_time": "2022-04-22T13:01:22.619Z"
   },
   {
    "duration": 12,
    "start_time": "2022-04-22T13:01:22.629Z"
   },
   {
    "duration": 53,
    "start_time": "2022-04-22T13:01:22.644Z"
   },
   {
    "duration": 6,
    "start_time": "2022-04-22T13:01:22.699Z"
   },
   {
    "duration": 17,
    "start_time": "2022-04-22T13:01:22.707Z"
   },
   {
    "duration": 19,
    "start_time": "2022-04-22T13:01:22.728Z"
   },
   {
    "duration": 34,
    "start_time": "2022-04-22T13:01:22.750Z"
   },
   {
    "duration": 24,
    "start_time": "2022-04-22T13:01:22.786Z"
   },
   {
    "duration": 10,
    "start_time": "2022-04-22T13:01:22.812Z"
   },
   {
    "duration": 19,
    "start_time": "2022-04-22T13:01:22.824Z"
   },
   {
    "duration": 6,
    "start_time": "2022-04-22T13:01:22.845Z"
   },
   {
    "duration": 47,
    "start_time": "2022-04-22T13:01:22.853Z"
   },
   {
    "duration": 8,
    "start_time": "2022-04-22T13:01:22.902Z"
   },
   {
    "duration": 18,
    "start_time": "2022-04-22T13:01:22.912Z"
   },
   {
    "duration": 4,
    "start_time": "2022-04-22T13:01:22.932Z"
   },
   {
    "duration": 7,
    "start_time": "2022-04-22T13:01:22.939Z"
   },
   {
    "duration": 50,
    "start_time": "2022-04-22T13:01:22.949Z"
   },
   {
    "duration": 770,
    "start_time": "2022-04-22T13:01:23.001Z"
   },
   {
    "duration": 50,
    "start_time": "2022-04-22T13:01:23.773Z"
   },
   {
    "duration": 5346,
    "start_time": "2022-04-22T13:01:23.826Z"
   },
   {
    "duration": 20,
    "start_time": "2022-04-22T13:01:29.175Z"
   },
   {
    "duration": 30,
    "start_time": "2022-04-22T13:01:29.198Z"
   },
   {
    "duration": 5042,
    "start_time": "2022-04-22T13:01:29.231Z"
   },
   {
    "duration": 288,
    "start_time": "2022-04-22T13:01:34.278Z"
   },
   {
    "duration": 704,
    "start_time": "2022-04-22T13:01:34.568Z"
   },
   {
    "duration": 32,
    "start_time": "2022-04-22T13:01:35.274Z"
   },
   {
    "duration": 60,
    "start_time": "2022-04-22T13:01:35.308Z"
   },
   {
    "duration": 837,
    "start_time": "2022-04-22T13:01:35.394Z"
   },
   {
    "duration": 11,
    "start_time": "2022-04-22T13:01:36.234Z"
   },
   {
    "duration": 615,
    "start_time": "2022-04-22T13:01:36.247Z"
   },
   {
    "duration": 705,
    "start_time": "2022-04-22T13:01:36.865Z"
   },
   {
    "duration": 1289,
    "start_time": "2022-04-22T13:01:37.573Z"
   },
   {
    "duration": 0,
    "start_time": "2022-04-22T13:01:38.865Z"
   },
   {
    "duration": 0,
    "start_time": "2022-04-22T13:01:38.867Z"
   },
   {
    "duration": 0,
    "start_time": "2022-04-22T13:01:38.869Z"
   },
   {
    "duration": 0,
    "start_time": "2022-04-22T13:01:38.871Z"
   },
   {
    "duration": 24,
    "start_time": "2022-04-22T13:02:53.136Z"
   },
   {
    "duration": 15,
    "start_time": "2022-04-22T13:03:11.218Z"
   },
   {
    "duration": 29,
    "start_time": "2022-04-22T13:03:23.408Z"
   },
   {
    "duration": 30,
    "start_time": "2022-04-22T13:05:30.171Z"
   },
   {
    "duration": 24,
    "start_time": "2022-04-22T13:05:44.064Z"
   },
   {
    "duration": 16,
    "start_time": "2022-04-22T13:14:59.976Z"
   },
   {
    "duration": 873,
    "start_time": "2022-04-22T13:15:01.336Z"
   },
   {
    "duration": 716,
    "start_time": "2022-04-22T13:15:07.817Z"
   },
   {
    "duration": 612,
    "start_time": "2022-04-22T13:15:18.627Z"
   },
   {
    "duration": 11,
    "start_time": "2022-04-22T13:16:21.925Z"
   },
   {
    "duration": 515,
    "start_time": "2022-04-22T13:16:23.060Z"
   },
   {
    "duration": 506,
    "start_time": "2022-04-22T13:16:23.638Z"
   },
   {
    "duration": 525,
    "start_time": "2022-04-22T13:16:30.948Z"
   },
   {
    "duration": 456,
    "start_time": "2022-04-22T13:16:39.037Z"
   },
   {
    "duration": 11,
    "start_time": "2022-04-22T13:17:52.783Z"
   },
   {
    "duration": 668,
    "start_time": "2022-04-22T13:19:05.487Z"
   },
   {
    "duration": 504,
    "start_time": "2022-04-22T13:19:08.871Z"
   },
   {
    "duration": 552,
    "start_time": "2022-04-22T13:19:12.128Z"
   },
   {
    "duration": 6,
    "start_time": "2022-04-22T13:19:41.983Z"
   },
   {
    "duration": 1555,
    "start_time": "2022-04-22T13:19:48.255Z"
   },
   {
    "duration": 56,
    "start_time": "2022-04-22T13:19:49.812Z"
   },
   {
    "duration": 84,
    "start_time": "2022-04-22T13:19:49.871Z"
   },
   {
    "duration": 4,
    "start_time": "2022-04-22T13:19:49.960Z"
   },
   {
    "duration": 32,
    "start_time": "2022-04-22T13:19:49.967Z"
   },
   {
    "duration": 9,
    "start_time": "2022-04-22T13:19:50.001Z"
   },
   {
    "duration": 13,
    "start_time": "2022-04-22T13:19:50.012Z"
   },
   {
    "duration": 5,
    "start_time": "2022-04-22T13:19:50.027Z"
   },
   {
    "duration": 11,
    "start_time": "2022-04-22T13:19:50.034Z"
   },
   {
    "duration": 51,
    "start_time": "2022-04-22T13:19:50.050Z"
   },
   {
    "duration": 14,
    "start_time": "2022-04-22T13:19:50.104Z"
   },
   {
    "duration": 21,
    "start_time": "2022-04-22T13:19:50.120Z"
   },
   {
    "duration": 48,
    "start_time": "2022-04-22T13:19:50.144Z"
   },
   {
    "duration": 21,
    "start_time": "2022-04-22T13:19:50.195Z"
   },
   {
    "duration": 8,
    "start_time": "2022-04-22T13:19:50.218Z"
   },
   {
    "duration": 13,
    "start_time": "2022-04-22T13:19:50.228Z"
   },
   {
    "duration": 11,
    "start_time": "2022-04-22T13:19:50.243Z"
   },
   {
    "duration": 51,
    "start_time": "2022-04-22T13:19:50.257Z"
   },
   {
    "duration": 6,
    "start_time": "2022-04-22T13:19:50.310Z"
   },
   {
    "duration": 15,
    "start_time": "2022-04-22T13:19:50.318Z"
   },
   {
    "duration": 28,
    "start_time": "2022-04-22T13:19:50.335Z"
   },
   {
    "duration": 759,
    "start_time": "2022-04-22T13:19:50.366Z"
   },
   {
    "duration": 47,
    "start_time": "2022-04-22T13:19:51.127Z"
   },
   {
    "duration": 5417,
    "start_time": "2022-04-22T13:19:51.176Z"
   },
   {
    "duration": 11,
    "start_time": "2022-04-22T13:19:56.595Z"
   },
   {
    "duration": 39,
    "start_time": "2022-04-22T13:19:56.609Z"
   },
   {
    "duration": 5150,
    "start_time": "2022-04-22T13:19:56.651Z"
   },
   {
    "duration": 294,
    "start_time": "2022-04-22T13:20:01.809Z"
   },
   {
    "duration": 616,
    "start_time": "2022-04-22T13:20:02.106Z"
   },
   {
    "duration": 22,
    "start_time": "2022-04-22T13:20:02.724Z"
   },
   {
    "duration": 88,
    "start_time": "2022-04-22T13:20:02.748Z"
   },
   {
    "duration": 683,
    "start_time": "2022-04-22T13:20:02.838Z"
   },
   {
    "duration": 74,
    "start_time": "2022-04-22T13:20:03.524Z"
   },
   {
    "duration": 11,
    "start_time": "2022-04-22T13:20:03.600Z"
   },
   {
    "duration": 1537,
    "start_time": "2022-04-22T13:20:03.613Z"
   },
   {
    "duration": 1239,
    "start_time": "2022-04-22T13:20:05.195Z"
   },
   {
    "duration": 585,
    "start_time": "2022-04-22T13:20:06.436Z"
   },
   {
    "duration": 15,
    "start_time": "2022-04-22T13:20:07.024Z"
   },
   {
    "duration": 11,
    "start_time": "2022-04-22T13:20:07.043Z"
   },
   {
    "duration": 44,
    "start_time": "2022-04-22T13:20:07.056Z"
   },
   {
    "duration": 8,
    "start_time": "2022-04-22T13:20:07.103Z"
   },
   {
    "duration": 746,
    "start_time": "2022-04-22T13:44:22.696Z"
   },
   {
    "duration": 37,
    "start_time": "2022-04-22T13:44:42.442Z"
   },
   {
    "duration": 92,
    "start_time": "2022-04-22T13:51:18.293Z"
   },
   {
    "duration": 176,
    "start_time": "2022-04-22T13:51:28.951Z"
   },
   {
    "duration": 8,
    "start_time": "2022-04-22T13:51:35.592Z"
   },
   {
    "duration": 657,
    "start_time": "2022-04-22T13:51:47.710Z"
   },
   {
    "duration": 581,
    "start_time": "2022-04-22T14:02:27.884Z"
   },
   {
    "duration": 1391,
    "start_time": "2022-04-22T14:03:18.112Z"
   },
   {
    "duration": 1216,
    "start_time": "2022-04-22T14:03:44.460Z"
   },
   {
    "duration": 633,
    "start_time": "2022-04-22T14:10:32.223Z"
   },
   {
    "duration": 1252,
    "start_time": "2022-04-22T14:11:11.976Z"
   },
   {
    "duration": 34,
    "start_time": "2022-04-22T14:12:05.339Z"
   },
   {
    "duration": 20,
    "start_time": "2022-04-22T14:15:19.124Z"
   },
   {
    "duration": 572,
    "start_time": "2022-04-22T14:16:04.844Z"
   },
   {
    "duration": 13,
    "start_time": "2022-04-22T14:17:32.887Z"
   },
   {
    "duration": 14,
    "start_time": "2022-04-22T14:17:36.977Z"
   },
   {
    "duration": 620,
    "start_time": "2022-04-22T14:17:38.901Z"
   },
   {
    "duration": 9,
    "start_time": "2022-04-22T14:18:12.397Z"
   },
   {
    "duration": 13,
    "start_time": "2022-04-22T14:18:50.315Z"
   },
   {
    "duration": 8,
    "start_time": "2022-04-22T14:18:51.509Z"
   },
   {
    "duration": 18,
    "start_time": "2022-04-22T14:19:02.580Z"
   },
   {
    "duration": 15,
    "start_time": "2022-04-22T14:19:14.217Z"
   },
   {
    "duration": 11,
    "start_time": "2022-04-22T14:19:14.777Z"
   },
   {
    "duration": 587,
    "start_time": "2022-04-22T14:19:17.513Z"
   },
   {
    "duration": 624,
    "start_time": "2022-04-22T14:19:31.602Z"
   },
   {
    "duration": 628,
    "start_time": "2022-04-22T14:19:45.815Z"
   },
   {
    "duration": 21,
    "start_time": "2022-04-22T14:20:03.323Z"
   },
   {
    "duration": 607,
    "start_time": "2022-04-22T14:20:22.541Z"
   },
   {
    "duration": 21,
    "start_time": "2022-04-22T14:20:41.420Z"
   },
   {
    "duration": 563,
    "start_time": "2022-04-22T14:20:56.780Z"
   },
   {
    "duration": 577,
    "start_time": "2022-04-22T14:23:50.354Z"
   },
   {
    "duration": 584,
    "start_time": "2022-04-22T14:24:14.572Z"
   },
   {
    "duration": 627,
    "start_time": "2022-04-22T14:24:41.829Z"
   },
   {
    "duration": 339,
    "start_time": "2022-04-22T14:29:17.924Z"
   },
   {
    "duration": 341,
    "start_time": "2022-04-22T14:29:45.156Z"
   },
   {
    "duration": 509,
    "start_time": "2022-04-22T14:29:59.594Z"
   },
   {
    "duration": 874,
    "start_time": "2022-04-22T14:30:45.477Z"
   },
   {
    "duration": 12,
    "start_time": "2022-04-22T14:33:24.587Z"
   },
   {
    "duration": 326,
    "start_time": "2022-04-22T14:34:17.111Z"
   },
   {
    "duration": 14,
    "start_time": "2022-04-22T14:34:42.903Z"
   },
   {
    "duration": 13,
    "start_time": "2022-04-22T14:35:11.523Z"
   },
   {
    "duration": 5,
    "start_time": "2022-04-22T14:35:32.557Z"
   },
   {
    "duration": 1378,
    "start_time": "2022-04-22T14:35:41.374Z"
   },
   {
    "duration": 606,
    "start_time": "2022-04-22T14:37:19.360Z"
   },
   {
    "duration": 368,
    "start_time": "2022-04-22T14:37:43.685Z"
   },
   {
    "duration": 589,
    "start_time": "2022-04-22T14:38:13.971Z"
   },
   {
    "duration": 2582,
    "start_time": "2022-04-22T14:39:40.495Z"
   },
   {
    "duration": 6,
    "start_time": "2022-04-22T14:41:05.357Z"
   },
   {
    "duration": 5,
    "start_time": "2022-04-22T14:41:22.773Z"
   },
   {
    "duration": 1736,
    "start_time": "2022-04-22T14:41:49.362Z"
   },
   {
    "duration": 3285,
    "start_time": "2022-04-22T14:42:03.634Z"
   },
   {
    "duration": 2183,
    "start_time": "2022-04-22T14:42:30.904Z"
   },
   {
    "duration": 3252,
    "start_time": "2022-04-22T14:42:46.849Z"
   },
   {
    "duration": 1709,
    "start_time": "2022-04-22T14:43:10.463Z"
   },
   {
    "duration": 1010,
    "start_time": "2022-04-22T14:45:13.428Z"
   },
   {
    "duration": 2161,
    "start_time": "2022-04-22T14:45:37.656Z"
   },
   {
    "duration": 2059,
    "start_time": "2022-04-22T14:46:28.724Z"
   },
   {
    "duration": 2046,
    "start_time": "2022-04-22T14:47:13.934Z"
   },
   {
    "duration": 2053,
    "start_time": "2022-04-22T14:48:52.513Z"
   },
   {
    "duration": 2169,
    "start_time": "2022-04-22T14:50:03.690Z"
   },
   {
    "duration": 2223,
    "start_time": "2022-04-22T14:50:41.916Z"
   },
   {
    "duration": 914,
    "start_time": "2022-04-22T15:13:21.049Z"
   },
   {
    "duration": 2014,
    "start_time": "2022-04-22T15:15:30.489Z"
   },
   {
    "duration": 1968,
    "start_time": "2022-04-22T18:04:58.879Z"
   },
   {
    "duration": 2096,
    "start_time": "2022-04-22T18:05:22.776Z"
   },
   {
    "duration": 1994,
    "start_time": "2022-04-22T18:12:22.735Z"
   },
   {
    "duration": 437,
    "start_time": "2022-04-22T18:12:42.133Z"
   },
   {
    "duration": 2000,
    "start_time": "2022-04-22T18:13:04.567Z"
   },
   {
    "duration": 914,
    "start_time": "2022-04-22T18:13:56.949Z"
   },
   {
    "duration": 2033,
    "start_time": "2022-04-22T18:14:48.071Z"
   },
   {
    "duration": 2046,
    "start_time": "2022-04-22T18:16:01.188Z"
   },
   {
    "duration": 2248,
    "start_time": "2022-04-22T18:16:16.526Z"
   },
   {
    "duration": 1988,
    "start_time": "2022-04-22T18:18:47.758Z"
   },
   {
    "duration": 2003,
    "start_time": "2022-04-22T18:18:55.638Z"
   },
   {
    "duration": 1930,
    "start_time": "2022-04-22T18:19:43.014Z"
   },
   {
    "duration": 1947,
    "start_time": "2022-04-22T18:19:59.420Z"
   },
   {
    "duration": 1984,
    "start_time": "2022-04-22T18:20:10.452Z"
   },
   {
    "duration": 2048,
    "start_time": "2022-04-22T18:20:37.671Z"
   },
   {
    "duration": 2097,
    "start_time": "2022-04-22T18:20:52.171Z"
   },
   {
    "duration": 2103,
    "start_time": "2022-04-22T18:21:02.584Z"
   },
   {
    "duration": 2058,
    "start_time": "2022-04-22T18:21:14.042Z"
   },
   {
    "duration": 2125,
    "start_time": "2022-04-22T18:22:07.442Z"
   },
   {
    "duration": 1987,
    "start_time": "2022-04-22T18:24:47.170Z"
   },
   {
    "duration": 2022,
    "start_time": "2022-04-22T18:25:29.778Z"
   },
   {
    "duration": 2033,
    "start_time": "2022-04-22T18:27:23.315Z"
   },
   {
    "duration": 2197,
    "start_time": "2022-04-22T18:27:33.018Z"
   },
   {
    "duration": 909,
    "start_time": "2022-04-22T18:27:46.774Z"
   },
   {
    "duration": 916,
    "start_time": "2022-04-22T18:29:05.572Z"
   },
   {
    "duration": 918,
    "start_time": "2022-04-22T18:29:32.488Z"
   },
   {
    "duration": 915,
    "start_time": "2022-04-22T18:30:59.811Z"
   },
   {
    "duration": 1989,
    "start_time": "2022-04-22T18:31:19.799Z"
   },
   {
    "duration": 2120,
    "start_time": "2022-04-22T20:30:49.001Z"
   },
   {
    "duration": 2062,
    "start_time": "2022-04-22T20:34:10.483Z"
   },
   {
    "duration": 2169,
    "start_time": "2022-04-22T20:34:27.989Z"
   },
   {
    "duration": 1460,
    "start_time": "2022-04-22T20:45:59.183Z"
   },
   {
    "duration": 1499,
    "start_time": "2022-04-22T20:54:52.798Z"
   },
   {
    "duration": 1548,
    "start_time": "2022-04-22T20:57:14.909Z"
   },
   {
    "duration": 1553,
    "start_time": "2022-04-22T20:58:32.284Z"
   },
   {
    "duration": 1704,
    "start_time": "2022-04-22T20:58:51.156Z"
   },
   {
    "duration": 890,
    "start_time": "2022-04-22T21:02:10.548Z"
   },
   {
    "duration": 1610,
    "start_time": "2022-04-22T21:02:23.960Z"
   },
   {
    "duration": 1408,
    "start_time": "2022-04-22T21:40:52.022Z"
   },
   {
    "duration": 67,
    "start_time": "2022-04-22T21:40:53.433Z"
   },
   {
    "duration": 92,
    "start_time": "2022-04-22T21:40:53.502Z"
   },
   {
    "duration": 4,
    "start_time": "2022-04-22T21:40:53.598Z"
   },
   {
    "duration": 13,
    "start_time": "2022-04-22T21:40:53.604Z"
   },
   {
    "duration": 17,
    "start_time": "2022-04-22T21:40:53.619Z"
   },
   {
    "duration": 12,
    "start_time": "2022-04-22T21:40:53.639Z"
   },
   {
    "duration": 5,
    "start_time": "2022-04-22T21:40:53.653Z"
   },
   {
    "duration": 35,
    "start_time": "2022-04-22T21:40:53.660Z"
   },
   {
    "duration": 11,
    "start_time": "2022-04-22T21:40:53.699Z"
   },
   {
    "duration": 14,
    "start_time": "2022-04-22T21:40:53.713Z"
   },
   {
    "duration": 19,
    "start_time": "2022-04-22T21:40:53.729Z"
   },
   {
    "duration": 43,
    "start_time": "2022-04-22T21:40:53.750Z"
   },
   {
    "duration": 21,
    "start_time": "2022-04-22T21:40:53.796Z"
   },
   {
    "duration": 9,
    "start_time": "2022-04-22T21:40:53.819Z"
   },
   {
    "duration": 12,
    "start_time": "2022-04-22T21:40:53.830Z"
   },
   {
    "duration": 16,
    "start_time": "2022-04-22T21:40:53.844Z"
   },
   {
    "duration": 50,
    "start_time": "2022-04-22T21:40:53.862Z"
   },
   {
    "duration": 743,
    "start_time": "2022-04-22T21:40:53.915Z"
   },
   {
    "duration": 58,
    "start_time": "2022-04-22T21:40:54.660Z"
   },
   {
    "duration": 5118,
    "start_time": "2022-04-22T21:40:54.720Z"
   },
   {
    "duration": 9,
    "start_time": "2022-04-22T21:40:59.840Z"
   },
   {
    "duration": 51,
    "start_time": "2022-04-22T21:40:59.851Z"
   },
   {
    "duration": 4799,
    "start_time": "2022-04-22T21:40:59.905Z"
   },
   {
    "duration": 275,
    "start_time": "2022-04-22T21:41:04.706Z"
   },
   {
    "duration": 591,
    "start_time": "2022-04-22T21:41:04.983Z"
   },
   {
    "duration": 27,
    "start_time": "2022-04-22T21:41:05.576Z"
   },
   {
    "duration": 57,
    "start_time": "2022-04-22T21:41:05.608Z"
   },
   {
    "duration": 1375,
    "start_time": "2022-04-22T21:41:05.667Z"
   },
   {
    "duration": 18,
    "start_time": "2022-04-22T21:41:07.044Z"
   },
   {
    "duration": 18,
    "start_time": "2022-04-22T21:41:07.064Z"
   },
   {
    "duration": 521,
    "start_time": "2022-04-22T21:41:07.084Z"
   },
   {
    "duration": 522,
    "start_time": "2022-04-22T21:41:07.607Z"
   },
   {
    "duration": 439,
    "start_time": "2022-04-22T21:41:08.132Z"
   },
   {
    "duration": 22,
    "start_time": "2022-04-22T21:41:08.573Z"
   },
   {
    "duration": 11,
    "start_time": "2022-04-22T21:41:08.597Z"
   },
   {
    "duration": 14,
    "start_time": "2022-04-22T21:41:08.611Z"
   },
   {
    "duration": 6,
    "start_time": "2022-04-22T21:41:08.627Z"
   },
   {
    "duration": 176,
    "start_time": "2022-04-22T21:43:53.499Z"
   },
   {
    "duration": 42,
    "start_time": "2022-04-22T21:44:04.557Z"
   },
   {
    "duration": 37,
    "start_time": "2022-04-22T21:44:18.536Z"
   },
   {
    "duration": 11,
    "start_time": "2022-04-22T21:44:52.399Z"
   },
   {
    "duration": 12,
    "start_time": "2022-04-22T22:01:03.735Z"
   },
   {
    "duration": 672,
    "start_time": "2022-04-22T22:01:04.431Z"
   },
   {
    "duration": 485,
    "start_time": "2022-04-22T22:01:06.467Z"
   },
   {
    "duration": 440,
    "start_time": "2022-04-22T22:01:09.862Z"
   },
   {
    "duration": 25,
    "start_time": "2022-04-22T22:05:52.566Z"
   },
   {
    "duration": 16,
    "start_time": "2022-04-22T22:06:08.088Z"
   },
   {
    "duration": 18,
    "start_time": "2022-04-22T22:06:22.098Z"
   },
   {
    "duration": 20,
    "start_time": "2022-04-22T22:06:37.512Z"
   },
   {
    "duration": 20,
    "start_time": "2022-04-22T22:06:47.957Z"
   },
   {
    "duration": 18,
    "start_time": "2022-04-22T22:07:56.247Z"
   },
   {
    "duration": 19,
    "start_time": "2022-04-22T22:08:11.052Z"
   },
   {
    "duration": 11,
    "start_time": "2022-04-22T22:09:56.750Z"
   },
   {
    "duration": 503,
    "start_time": "2022-04-22T22:09:58.421Z"
   },
   {
    "duration": 496,
    "start_time": "2022-04-22T22:10:15.474Z"
   },
   {
    "duration": 436,
    "start_time": "2022-04-22T22:10:51.312Z"
   },
   {
    "duration": 17,
    "start_time": "2022-04-22T22:10:57.272Z"
   },
   {
    "duration": 11,
    "start_time": "2022-04-22T22:11:11.608Z"
   },
   {
    "duration": 647,
    "start_time": "2022-04-22T22:11:13.746Z"
   },
   {
    "duration": 499,
    "start_time": "2022-04-22T22:11:17.132Z"
   },
   {
    "duration": 522,
    "start_time": "2022-04-22T22:11:20.911Z"
   },
   {
    "duration": 11,
    "start_time": "2022-04-22T22:12:07.405Z"
   },
   {
    "duration": 592,
    "start_time": "2022-04-22T22:12:12.619Z"
   },
   {
    "duration": 10,
    "start_time": "2022-04-22T22:13:39.916Z"
   },
   {
    "duration": 419,
    "start_time": "2022-04-22T22:13:45.099Z"
   },
   {
    "duration": 10,
    "start_time": "2022-04-22T22:14:40.193Z"
   },
   {
    "duration": 488,
    "start_time": "2022-04-22T22:14:41.379Z"
   },
   {
    "duration": 3356,
    "start_time": "2022-04-22T22:14:48.354Z"
   },
   {
    "duration": 113,
    "start_time": "2022-04-22T22:15:33.669Z"
   },
   {
    "duration": 519,
    "start_time": "2022-04-22T22:15:34.959Z"
   },
   {
    "duration": 503,
    "start_time": "2022-04-22T22:15:47.618Z"
   },
   {
    "duration": 549,
    "start_time": "2022-04-22T22:16:17.706Z"
   },
   {
    "duration": 19,
    "start_time": "2022-04-22T22:16:28.428Z"
   },
   {
    "duration": 20,
    "start_time": "2022-04-22T22:16:39.723Z"
   },
   {
    "duration": 11,
    "start_time": "2022-04-22T22:17:45.482Z"
   },
   {
    "duration": 528,
    "start_time": "2022-04-22T22:17:46.266Z"
   },
   {
    "duration": 524,
    "start_time": "2022-04-22T22:17:47.190Z"
   },
   {
    "duration": 516,
    "start_time": "2022-04-22T22:17:50.624Z"
   },
   {
    "duration": 125,
    "start_time": "2022-04-22T22:18:49.270Z"
   },
   {
    "duration": 513,
    "start_time": "2022-04-22T22:18:51.676Z"
   },
   {
    "duration": 527,
    "start_time": "2022-04-22T22:18:54.479Z"
   },
   {
    "duration": 562,
    "start_time": "2022-04-22T22:18:57.864Z"
   },
   {
    "duration": 12,
    "start_time": "2022-04-22T22:22:22.667Z"
   },
   {
    "duration": 567,
    "start_time": "2022-04-22T22:22:25.074Z"
   },
   {
    "duration": 568,
    "start_time": "2022-04-22T22:22:29.303Z"
   },
   {
    "duration": 565,
    "start_time": "2022-04-22T22:22:32.446Z"
   },
   {
    "duration": 114,
    "start_time": "2022-04-22T22:25:35.622Z"
   },
   {
    "duration": 580,
    "start_time": "2022-04-22T22:25:37.229Z"
   },
   {
    "duration": 574,
    "start_time": "2022-04-22T22:25:39.564Z"
   },
   {
    "duration": 578,
    "start_time": "2022-04-22T22:25:41.937Z"
   },
   {
    "duration": 12,
    "start_time": "2022-04-22T22:26:23.504Z"
   },
   {
    "duration": 581,
    "start_time": "2022-04-22T22:26:25.320Z"
   },
   {
    "duration": 11,
    "start_time": "2022-04-22T22:29:47.675Z"
   },
   {
    "duration": 580,
    "start_time": "2022-04-22T22:29:50.390Z"
   },
   {
    "duration": 600,
    "start_time": "2022-04-22T22:30:14.051Z"
   },
   {
    "duration": 11,
    "start_time": "2022-04-22T22:30:45.921Z"
   },
   {
    "duration": 11,
    "start_time": "2022-04-22T22:30:49.121Z"
   },
   {
    "duration": 576,
    "start_time": "2022-04-22T22:30:55.563Z"
   },
   {
    "duration": 114,
    "start_time": "2022-04-22T22:31:27.762Z"
   },
   {
    "duration": 614,
    "start_time": "2022-04-22T22:31:29.258Z"
   },
   {
    "duration": 12,
    "start_time": "2022-04-22T22:31:45.532Z"
   },
   {
    "duration": 591,
    "start_time": "2022-04-22T22:31:47.705Z"
   },
   {
    "duration": 12,
    "start_time": "2022-04-22T22:33:38.722Z"
   },
   {
    "duration": 572,
    "start_time": "2022-04-22T22:33:40.922Z"
   },
   {
    "duration": 13,
    "start_time": "2022-04-22T22:33:58.688Z"
   },
   {
    "duration": 527,
    "start_time": "2022-04-22T22:33:59.976Z"
   },
   {
    "duration": 506,
    "start_time": "2022-04-22T22:34:06.230Z"
   },
   {
    "duration": 588,
    "start_time": "2022-04-22T22:34:09.274Z"
   },
   {
    "duration": 19,
    "start_time": "2022-04-22T22:34:37.903Z"
   },
   {
    "duration": 11,
    "start_time": "2022-04-22T22:36:01.796Z"
   },
   {
    "duration": 637,
    "start_time": "2022-04-22T22:36:02.811Z"
   },
   {
    "duration": 517,
    "start_time": "2022-04-22T22:36:05.986Z"
   },
   {
    "duration": 611,
    "start_time": "2022-04-22T22:36:08.220Z"
   },
   {
    "duration": 11,
    "start_time": "2022-04-22T22:37:04.355Z"
   },
   {
    "duration": 527,
    "start_time": "2022-04-22T22:37:05.698Z"
   },
   {
    "duration": 511,
    "start_time": "2022-04-22T22:37:08.459Z"
   },
   {
    "duration": 599,
    "start_time": "2022-04-22T22:37:11.199Z"
   },
   {
    "duration": 12,
    "start_time": "2022-04-22T22:38:51.450Z"
   },
   {
    "duration": 635,
    "start_time": "2022-04-22T22:38:52.768Z"
   },
   {
    "duration": 491,
    "start_time": "2022-04-22T22:38:55.867Z"
   },
   {
    "duration": 606,
    "start_time": "2022-04-22T22:39:01.533Z"
   },
   {
    "duration": 12,
    "start_time": "2022-04-22T22:41:09.114Z"
   },
   {
    "duration": 526,
    "start_time": "2022-04-22T22:41:10.632Z"
   },
   {
    "duration": 622,
    "start_time": "2022-04-22T22:41:24.093Z"
   },
   {
    "duration": 600,
    "start_time": "2022-04-22T22:41:27.075Z"
   },
   {
    "duration": 13,
    "start_time": "2022-04-22T22:42:31.111Z"
   },
   {
    "duration": 634,
    "start_time": "2022-04-22T22:42:32.508Z"
   },
   {
    "duration": 553,
    "start_time": "2022-04-22T22:42:34.266Z"
   },
   {
    "duration": 594,
    "start_time": "2022-04-22T22:42:37.204Z"
   },
   {
    "duration": 11,
    "start_time": "2022-04-22T22:44:17.432Z"
   },
   {
    "duration": 503,
    "start_time": "2022-04-22T22:44:18.684Z"
   },
   {
    "duration": 483,
    "start_time": "2022-04-22T22:44:22.113Z"
   },
   {
    "duration": 525,
    "start_time": "2022-04-22T22:44:25.290Z"
   },
   {
    "duration": 12,
    "start_time": "2022-04-22T22:47:19.410Z"
   },
   {
    "duration": 720,
    "start_time": "2022-04-22T22:47:20.894Z"
   },
   {
    "duration": 492,
    "start_time": "2022-04-22T22:47:24.334Z"
   },
   {
    "duration": 446,
    "start_time": "2022-04-22T22:47:27.199Z"
   },
   {
    "duration": 14,
    "start_time": "2022-04-22T22:47:36.952Z"
   },
   {
    "duration": 12,
    "start_time": "2022-04-22T22:48:20.260Z"
   },
   {
    "duration": 500,
    "start_time": "2022-04-22T22:48:21.075Z"
   },
   {
    "duration": 502,
    "start_time": "2022-04-22T22:48:22.625Z"
   },
   {
    "duration": 485,
    "start_time": "2022-04-22T22:48:24.575Z"
   },
   {
    "duration": 12,
    "start_time": "2022-04-22T22:48:41.925Z"
   },
   {
    "duration": 597,
    "start_time": "2022-04-22T22:48:44.254Z"
   },
   {
    "duration": 478,
    "start_time": "2022-04-22T22:48:47.031Z"
   },
   {
    "duration": 444,
    "start_time": "2022-04-22T22:48:50.310Z"
   },
   {
    "duration": 1513,
    "start_time": "2022-04-22T22:50:07.680Z"
   },
   {
    "duration": 54,
    "start_time": "2022-04-22T22:50:09.195Z"
   },
   {
    "duration": 80,
    "start_time": "2022-04-22T22:50:09.251Z"
   },
   {
    "duration": 4,
    "start_time": "2022-04-22T22:50:09.335Z"
   },
   {
    "duration": 8,
    "start_time": "2022-04-22T22:50:09.342Z"
   },
   {
    "duration": 42,
    "start_time": "2022-04-22T22:50:09.353Z"
   },
   {
    "duration": 14,
    "start_time": "2022-04-22T22:50:09.398Z"
   },
   {
    "duration": 5,
    "start_time": "2022-04-22T22:50:09.414Z"
   },
   {
    "duration": 11,
    "start_time": "2022-04-22T22:50:09.422Z"
   },
   {
    "duration": 11,
    "start_time": "2022-04-22T22:50:09.439Z"
   },
   {
    "duration": 14,
    "start_time": "2022-04-22T22:50:09.494Z"
   },
   {
    "duration": 26,
    "start_time": "2022-04-22T22:50:09.510Z"
   },
   {
    "duration": 9,
    "start_time": "2022-04-22T22:50:09.538Z"
   },
   {
    "duration": 52,
    "start_time": "2022-04-22T22:50:09.549Z"
   },
   {
    "duration": 5,
    "start_time": "2022-04-22T22:50:09.604Z"
   },
   {
    "duration": 7,
    "start_time": "2022-04-22T22:50:09.611Z"
   },
   {
    "duration": 11,
    "start_time": "2022-04-22T22:50:09.620Z"
   },
   {
    "duration": 26,
    "start_time": "2022-04-22T22:50:09.633Z"
   },
   {
    "duration": 686,
    "start_time": "2022-04-22T22:50:09.661Z"
   },
   {
    "duration": 58,
    "start_time": "2022-04-22T22:50:10.349Z"
   },
   {
    "duration": 4996,
    "start_time": "2022-04-22T22:50:10.409Z"
   },
   {
    "duration": 9,
    "start_time": "2022-04-22T22:50:15.407Z"
   },
   {
    "duration": 31,
    "start_time": "2022-04-22T22:50:15.418Z"
   },
   {
    "duration": 4867,
    "start_time": "2022-04-22T22:50:15.451Z"
   },
   {
    "duration": 506,
    "start_time": "2022-04-22T22:50:20.321Z"
   },
   {
    "duration": 1198,
    "start_time": "2022-04-22T22:50:20.830Z"
   },
   {
    "duration": 75,
    "start_time": "2022-04-22T22:50:22.031Z"
   },
   {
    "duration": 113,
    "start_time": "2022-04-22T22:50:22.111Z"
   },
   {
    "duration": 1643,
    "start_time": "2022-04-22T22:50:22.227Z"
   },
   {
    "duration": 11,
    "start_time": "2022-04-22T22:50:23.872Z"
   },
   {
    "duration": 622,
    "start_time": "2022-04-22T22:50:23.886Z"
   },
   {
    "duration": 596,
    "start_time": "2022-04-22T22:50:24.510Z"
   },
   {
    "duration": 466,
    "start_time": "2022-04-22T22:50:25.108Z"
   },
   {
    "duration": 25,
    "start_time": "2022-04-22T22:50:25.576Z"
   },
   {
    "duration": 11,
    "start_time": "2022-04-22T22:50:25.603Z"
   },
   {
    "duration": 14,
    "start_time": "2022-04-22T22:50:25.616Z"
   },
   {
    "duration": 6,
    "start_time": "2022-04-22T22:50:25.632Z"
   },
   {
    "duration": 12,
    "start_time": "2022-04-22T22:59:37.230Z"
   },
   {
    "duration": 659,
    "start_time": "2022-04-22T22:59:38.662Z"
   },
   {
    "duration": 487,
    "start_time": "2022-04-22T22:59:41.364Z"
   },
   {
    "duration": 438,
    "start_time": "2022-04-22T22:59:45.668Z"
   },
   {
    "duration": 14,
    "start_time": "2022-04-22T22:59:52.554Z"
   },
   {
    "duration": 5,
    "start_time": "2022-04-22T22:59:54.489Z"
   },
   {
    "duration": 14,
    "start_time": "2022-04-22T22:59:57.154Z"
   },
   {
    "duration": 7,
    "start_time": "2022-04-22T22:59:58.997Z"
   },
   {
    "duration": 1403,
    "start_time": "2022-04-22T23:01:21.128Z"
   },
   {
    "duration": 53,
    "start_time": "2022-04-22T23:01:22.533Z"
   },
   {
    "duration": 73,
    "start_time": "2022-04-22T23:01:22.588Z"
   },
   {
    "duration": 4,
    "start_time": "2022-04-22T23:01:22.664Z"
   },
   {
    "duration": 6,
    "start_time": "2022-04-22T23:01:22.693Z"
   },
   {
    "duration": 12,
    "start_time": "2022-04-22T23:01:22.701Z"
   },
   {
    "duration": 14,
    "start_time": "2022-04-22T23:01:22.715Z"
   },
   {
    "duration": 5,
    "start_time": "2022-04-22T23:01:22.732Z"
   },
   {
    "duration": 11,
    "start_time": "2022-04-22T23:01:22.739Z"
   },
   {
    "duration": 45,
    "start_time": "2022-04-22T23:01:22.754Z"
   },
   {
    "duration": 15,
    "start_time": "2022-04-22T23:01:22.802Z"
   },
   {
    "duration": 20,
    "start_time": "2022-04-22T23:01:22.819Z"
   },
   {
    "duration": 10,
    "start_time": "2022-04-22T23:01:22.841Z"
   },
   {
    "duration": 51,
    "start_time": "2022-04-22T23:01:22.853Z"
   },
   {
    "duration": 6,
    "start_time": "2022-04-22T23:01:22.906Z"
   },
   {
    "duration": 7,
    "start_time": "2022-04-22T23:01:22.914Z"
   },
   {
    "duration": 9,
    "start_time": "2022-04-22T23:01:22.922Z"
   },
   {
    "duration": 20,
    "start_time": "2022-04-22T23:01:22.933Z"
   },
   {
    "duration": 807,
    "start_time": "2022-04-22T23:01:22.955Z"
   },
   {
    "duration": 58,
    "start_time": "2022-04-22T23:01:23.764Z"
   },
   {
    "duration": 5139,
    "start_time": "2022-04-22T23:01:23.824Z"
   },
   {
    "duration": 9,
    "start_time": "2022-04-22T23:01:28.965Z"
   },
   {
    "duration": 30,
    "start_time": "2022-04-22T23:01:28.993Z"
   },
   {
    "duration": 4704,
    "start_time": "2022-04-22T23:01:29.026Z"
   },
   {
    "duration": 269,
    "start_time": "2022-04-22T23:01:33.732Z"
   },
   {
    "duration": 580,
    "start_time": "2022-04-22T23:01:34.004Z"
   },
   {
    "duration": 24,
    "start_time": "2022-04-22T23:01:34.586Z"
   },
   {
    "duration": 79,
    "start_time": "2022-04-22T23:01:34.615Z"
   },
   {
    "duration": 1350,
    "start_time": "2022-04-22T23:01:34.696Z"
   },
   {
    "duration": 11,
    "start_time": "2022-04-22T23:01:36.048Z"
   },
   {
    "duration": 515,
    "start_time": "2022-04-22T23:01:36.061Z"
   },
   {
    "duration": 509,
    "start_time": "2022-04-22T23:01:36.579Z"
   },
   {
    "duration": 462,
    "start_time": "2022-04-22T23:01:37.093Z"
   },
   {
    "duration": 14,
    "start_time": "2022-04-22T23:01:37.557Z"
   },
   {
    "duration": 6,
    "start_time": "2022-04-22T23:01:37.593Z"
   },
   {
    "duration": 21,
    "start_time": "2022-04-22T23:01:37.601Z"
   },
   {
    "duration": 11,
    "start_time": "2022-04-22T23:01:37.625Z"
   }
  ],
  "kernelspec": {
   "display_name": "Python 3 (ipykernel)",
   "language": "python",
   "name": "python3"
  },
  "language_info": {
   "codemirror_mode": {
    "name": "ipython",
    "version": 3
   },
   "file_extension": ".py",
   "mimetype": "text/x-python",
   "name": "python",
   "nbconvert_exporter": "python",
   "pygments_lexer": "ipython3",
   "version": "3.9.5"
  },
  "toc": {
   "base_numbering": 1,
   "nav_menu": {},
   "number_sections": true,
   "sideBar": true,
   "skip_h1_title": true,
   "title_cell": "Table of Contents",
   "title_sidebar": "Contents",
   "toc_cell": false,
   "toc_position": {},
   "toc_section_display": true,
   "toc_window_display": true
  }
 },
 "nbformat": 4,
 "nbformat_minor": 5
}
