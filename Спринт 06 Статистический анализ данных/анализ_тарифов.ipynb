{
 "cells": [
  {
   "cell_type": "markdown",
   "id": "7bc0208e",
   "metadata": {},
   "source": [
    "Привет, меня зовут Гребенюк Артём. Сегодня я буду делать ревью твоего проекта!\\\n",
    "В Практикуме принято общаться на \"ты\", однако если это неудобно - дай знать, и можем перейти на более официальное общение.\n",
    "\n",
    "Ниже ты найдешь мои комментарии - пожалуйста, не перемещай, не изменяй и не удаляй их. Я буду использовать цветовую разметку: \n",
    "\n",
    "<div class=\"alert alert-block alert-success\">\n",
    "<b>✔️ Success:</b> Если все сделано хорошо. </div>\n",
    "\n",
    "<div class=\"alert alert-block alert-warning\">\n",
    "<b>⚠️ Remarks:</b> Некритичное замечание; если таких замечаний меньше трех — проект может быть принят без их отработки.</div>\n",
    "\n",
    "<div class=\"alert alert-block alert-danger\">\n",
    "<b>❌ Needs fixing:</b> Грубая ошибка, необходимо исправить, иначе проект не будет принят.\n",
    "</div>\n",
    "\n",
    "Давай работать над проектом в диалоге: если ты что-то меняешь в проекте или отвечаешь на мои комменатри — пиши об этом. Мне будет легче отследить изменения, если ты выделишь свои комментарии:\n",
    "Например так:\n",
    "\n",
    "<div class=\"alert alert-block alert-info\">\n",
    "<b>💾 Fixed:</b> \n",
    "Hello World! ✔\n",
    "</div>\n",
    "\n",
    "Или можешь использовать эту галочку ✔ в моих комментариях, если писать особо нечего.\n",
    "\n",
    "<div class=\"alert alert-block alert-success\">\n",
    "<b>Общее впечатление:</b> \n",
    "    \n",
    "- Спасибо за работу, определенно могу сказать, что выполнена она на высокм уровне :)\n",
    "- У меня есть пара ремарок, которые помогут тебе сделать следующие проекты еще лучше.\n",
    "- Работа принята, поздравляю и желаю удачи в дальнейшем обучении :)\n",
    "    \n",
    "</div>\n",
    "\n"
   ]
  },
  {
   "cell_type": "markdown",
   "id": "a2125563",
   "metadata": {},
   "source": [
    "# Анализ тарифов \"Смарт\" и \"Ультра\" оператора связи \"Мегалайн\"."
   ]
  },
  {
   "cell_type": "markdown",
   "id": "b37ab45d",
   "metadata": {},
   "source": [
    "## Общая информация о задаче и входных данных\n",
    "\n",
    "Клиентам предлагают два тарифных плана: «Смарт» и «Ультра». Чтобы скорректировать рекламный бюджет, коммерческий департамент хочет понять, какой тариф приносит больше денег.\n",
    "\n",
    "**Задача проекта**: сделать предварительный анализ тарифов на небольшой выборке клиентов. В распоряжении данные 500 пользователей «Мегалайна»: кто они, откуда, каким тарифом пользуются, сколько звонков и сообщений каждый отправил за 2018 год. Нужно проанализировать поведение клиентов и сделать вывод — какой тариф лучше.\n",
    "\n",
    "**Описание тарифов**\n",
    "\n",
    "Тариф «Смарт»\n",
    "1. Ежемесячная плата: 550 рублей\n",
    "2. Включено 500 минут разговора, 50 сообщений и 15 Гб интернет-трафика\n",
    "3. Стоимость услуг сверх тарифного пакета:\n",
    "    - минута разговора: 3 рубля\n",
    "    - сообщение: 3 рубля\n",
    "    - 1 Гб интернет-трафика: 200 рублей\n",
    "\n",
    "Тариф «Ультра»\n",
    "1. Ежемесячная плата: 1950 рублей\n",
    "2. Включено 3000 минут разговора, 1000 сообщений и 30 Гб интернет-трафика\n",
    "3. Стоимость услуг сверх тарифного пакета:\n",
    "    - минута разговора: 1 рубль\n",
    "    - сообщение: 1 рубль\n",
    "    - 1 Гб интернет-трафика: 150 рублей\n",
    "\n",
    "`Примечание:\n",
    "«Мегалайн» всегда округляет секунды до минут, а мегабайты — до гигабайт. Каждый звонок округляется отдельно: даже если он длился всего 1 секунду, будет засчитан как 1 минута.\n",
    "Для веб-трафика отдельные сессии не считаются. Вместо этого общая сумма за месяц округляется в бо́льшую сторону. Если абонент использует 1025 мегабайт в этом месяце, с него возьмут плату за 2 гигабайта.`"
   ]
  },
  {
   "cell_type": "markdown",
   "id": "6fc3ff7e",
   "metadata": {},
   "source": [
    "## Обзор данных\n",
    "Данные предоставлены в пяти таблицах.\n",
    "1. `users` - информация о пользователе\n",
    "    - user_id — уникальный идентификатор пользователя\n",
    "    - first_name — имя пользователя\n",
    "    - last_name — фамилия пользователя\n",
    "    - age — возраст пользователя (годы)\n",
    "    - reg_date — дата подключения тарифа (день, месяц, год)\n",
    "    - churn_date — дата прекращения пользования тарифом (если значение пропущено, то тариф ещё действовал на момент выгрузки данных)\n",
    "    - city — город проживания пользователя\n",
    "    - tariff — название тарифного плана\n",
    "\n",
    "\n",
    "2. `calls` - информация о звонках\n",
    "    - id — уникальный номер звонка\n",
    "    - call_date — дата звонка\n",
    "    - duration — длительность звонка в минутах\n",
    "    - user_id — идентификатор пользователя, сделавшего звонок.\n",
    "    \n",
    "    \n",
    "3. `messages` - информация о сообщениях\n",
    "    - id — уникальный номер сообщения\n",
    "    - message_date — дата сообщения\n",
    "    - user_id — идентификатор пользователя, отправившего сообщение\n",
    "    \n",
    "    \n",
    "4. `internet` - информация об интернет-сессиях\n",
    "    - id — уникальный номер сессии\n",
    "    - mb_used — объём потраченного за сессию интернет-трафика (в мегабайтах)\n",
    "    - session_date — дата интернет-сессии\n",
    "    - user_id — идентификатор пользователя\n",
    "    \n",
    "    \n",
    "5. `tariffs` - информация о тарифах\n",
    "    - tariff_name — название тарифа\n",
    "    - rub_monthly_fee — ежемесячная абонентская плата в рублях\n",
    "    - minutes_included — количество минут разговора в месяц, включённых в абонентскую плату\n",
    "    - messages_included — количество сообщений в месяц, включённых в абонентскую плату\n",
    "    - mb_per_month_included — объём интернет-трафика, включённого в абонентскую плату (в мегабайтах)\n",
    "    - rub_per_minute — стоимость минуты разговора сверх тарифного пакета (например, если в тарифе 100 минут разговора в месяц, то со 101 минуты будет взиматься плата)\n",
    "    - rub_per_message — стоимость отправки сообщения сверх тарифного пакета\n",
    "    - rub_per_gb — стоимость дополнительного гигабайта интернет-трафика сверх тарифного пакета (1 гигабайт = 1024 мегабайта)"
   ]
  },
  {
   "cell_type": "markdown",
   "id": "2f80697d",
   "metadata": {},
   "source": [
    "<div class=\"alert alert-block alert-success\">\n",
    "<b>✔️ Success:</b> Отличное введение в работу!"
   ]
  },
  {
   "cell_type": "markdown",
   "id": "6f9748da",
   "metadata": {},
   "source": [
    "### Загрузка данных\n",
    "Данные предоставлены в виде csv файлов, произведем их загрузку."
   ]
  },
  {
   "cell_type": "code",
   "execution_count": 1,
   "id": "144ddf6d",
   "metadata": {},
   "outputs": [],
   "source": [
    "# ячейка для подключения необходимых библиотек и базовых настроек\n",
    "import pandas as pd\n",
    "import numpy as np\n",
    "import matplotlib.pyplot as plt\n",
    "import seaborn as sns\n",
    "from math import ceil\n",
    "from scipy import stats as st\n",
    "pd.set_option(\"display.max_columns\", None)"
   ]
  },
  {
   "cell_type": "markdown",
   "id": "be6add3f",
   "metadata": {},
   "source": [
    "<div class=\"alert alert-block alert-success\">\n",
    "<b>✔️ Success:</b> здорово, что все импорты собраны в начале проекта!"
   ]
  },
  {
   "cell_type": "code",
   "execution_count": 2,
   "id": "62905934",
   "metadata": {},
   "outputs": [],
   "source": [
    "users = pd.read_csv('/datasets/users.csv')\n",
    "calls = pd.read_csv('/datasets/calls.csv')\n",
    "messages = pd.read_csv('/datasets/messages.csv')\n",
    "internet = pd.read_csv('/datasets/internet.csv')\n",
    "tariffs = pd.read_csv('/datasets/tariffs.csv')"
   ]
  },
  {
   "cell_type": "markdown",
   "id": "96cab7a1",
   "metadata": {},
   "source": [
    "#### Посмотрим таблицу `users`"
   ]
  },
  {
   "cell_type": "code",
   "execution_count": 3,
   "id": "dc8080ab",
   "metadata": {},
   "outputs": [
    {
     "data": {
      "text/html": [
       "<div>\n",
       "<style scoped>\n",
       "    .dataframe tbody tr th:only-of-type {\n",
       "        vertical-align: middle;\n",
       "    }\n",
       "\n",
       "    .dataframe tbody tr th {\n",
       "        vertical-align: top;\n",
       "    }\n",
       "\n",
       "    .dataframe thead th {\n",
       "        text-align: right;\n",
       "    }\n",
       "</style>\n",
       "<table border=\"1\" class=\"dataframe\">\n",
       "  <thead>\n",
       "    <tr style=\"text-align: right;\">\n",
       "      <th></th>\n",
       "      <th>user_id</th>\n",
       "      <th>age</th>\n",
       "      <th>churn_date</th>\n",
       "      <th>city</th>\n",
       "      <th>first_name</th>\n",
       "      <th>last_name</th>\n",
       "      <th>reg_date</th>\n",
       "      <th>tariff</th>\n",
       "    </tr>\n",
       "  </thead>\n",
       "  <tbody>\n",
       "    <tr>\n",
       "      <th>0</th>\n",
       "      <td>1000</td>\n",
       "      <td>52</td>\n",
       "      <td>NaN</td>\n",
       "      <td>Краснодар</td>\n",
       "      <td>Рафаил</td>\n",
       "      <td>Верещагин</td>\n",
       "      <td>2018-05-25</td>\n",
       "      <td>ultra</td>\n",
       "    </tr>\n",
       "    <tr>\n",
       "      <th>1</th>\n",
       "      <td>1001</td>\n",
       "      <td>41</td>\n",
       "      <td>NaN</td>\n",
       "      <td>Москва</td>\n",
       "      <td>Иван</td>\n",
       "      <td>Ежов</td>\n",
       "      <td>2018-11-01</td>\n",
       "      <td>smart</td>\n",
       "    </tr>\n",
       "    <tr>\n",
       "      <th>2</th>\n",
       "      <td>1002</td>\n",
       "      <td>59</td>\n",
       "      <td>NaN</td>\n",
       "      <td>Стерлитамак</td>\n",
       "      <td>Евгений</td>\n",
       "      <td>Абрамович</td>\n",
       "      <td>2018-06-17</td>\n",
       "      <td>smart</td>\n",
       "    </tr>\n",
       "    <tr>\n",
       "      <th>3</th>\n",
       "      <td>1003</td>\n",
       "      <td>23</td>\n",
       "      <td>NaN</td>\n",
       "      <td>Москва</td>\n",
       "      <td>Белла</td>\n",
       "      <td>Белякова</td>\n",
       "      <td>2018-08-17</td>\n",
       "      <td>ultra</td>\n",
       "    </tr>\n",
       "    <tr>\n",
       "      <th>4</th>\n",
       "      <td>1004</td>\n",
       "      <td>68</td>\n",
       "      <td>NaN</td>\n",
       "      <td>Новокузнецк</td>\n",
       "      <td>Татьяна</td>\n",
       "      <td>Авдеенко</td>\n",
       "      <td>2018-05-14</td>\n",
       "      <td>ultra</td>\n",
       "    </tr>\n",
       "  </tbody>\n",
       "</table>\n",
       "</div>"
      ],
      "text/plain": [
       "   user_id  age churn_date         city first_name  last_name    reg_date  \\\n",
       "0     1000   52        NaN    Краснодар     Рафаил  Верещагин  2018-05-25   \n",
       "1     1001   41        NaN       Москва       Иван       Ежов  2018-11-01   \n",
       "2     1002   59        NaN  Стерлитамак    Евгений  Абрамович  2018-06-17   \n",
       "3     1003   23        NaN       Москва      Белла   Белякова  2018-08-17   \n",
       "4     1004   68        NaN  Новокузнецк    Татьяна   Авдеенко  2018-05-14   \n",
       "\n",
       "  tariff  \n",
       "0  ultra  \n",
       "1  smart  \n",
       "2  smart  \n",
       "3  ultra  \n",
       "4  ultra  "
      ]
     },
     "metadata": {},
     "output_type": "display_data"
    },
    {
     "data": {
      "text/html": [
       "<div>\n",
       "<style scoped>\n",
       "    .dataframe tbody tr th:only-of-type {\n",
       "        vertical-align: middle;\n",
       "    }\n",
       "\n",
       "    .dataframe tbody tr th {\n",
       "        vertical-align: top;\n",
       "    }\n",
       "\n",
       "    .dataframe thead th {\n",
       "        text-align: right;\n",
       "    }\n",
       "</style>\n",
       "<table border=\"1\" class=\"dataframe\">\n",
       "  <thead>\n",
       "    <tr style=\"text-align: right;\">\n",
       "      <th></th>\n",
       "      <th>user_id</th>\n",
       "      <th>age</th>\n",
       "    </tr>\n",
       "  </thead>\n",
       "  <tbody>\n",
       "    <tr>\n",
       "      <th>count</th>\n",
       "      <td>500.000000</td>\n",
       "      <td>500.00000</td>\n",
       "    </tr>\n",
       "    <tr>\n",
       "      <th>mean</th>\n",
       "      <td>1249.500000</td>\n",
       "      <td>46.58800</td>\n",
       "    </tr>\n",
       "    <tr>\n",
       "      <th>std</th>\n",
       "      <td>144.481833</td>\n",
       "      <td>16.66763</td>\n",
       "    </tr>\n",
       "    <tr>\n",
       "      <th>min</th>\n",
       "      <td>1000.000000</td>\n",
       "      <td>18.00000</td>\n",
       "    </tr>\n",
       "    <tr>\n",
       "      <th>25%</th>\n",
       "      <td>1124.750000</td>\n",
       "      <td>32.00000</td>\n",
       "    </tr>\n",
       "    <tr>\n",
       "      <th>50%</th>\n",
       "      <td>1249.500000</td>\n",
       "      <td>46.00000</td>\n",
       "    </tr>\n",
       "    <tr>\n",
       "      <th>75%</th>\n",
       "      <td>1374.250000</td>\n",
       "      <td>62.00000</td>\n",
       "    </tr>\n",
       "    <tr>\n",
       "      <th>max</th>\n",
       "      <td>1499.000000</td>\n",
       "      <td>75.00000</td>\n",
       "    </tr>\n",
       "  </tbody>\n",
       "</table>\n",
       "</div>"
      ],
      "text/plain": [
       "           user_id        age\n",
       "count   500.000000  500.00000\n",
       "mean   1249.500000   46.58800\n",
       "std     144.481833   16.66763\n",
       "min    1000.000000   18.00000\n",
       "25%    1124.750000   32.00000\n",
       "50%    1249.500000   46.00000\n",
       "75%    1374.250000   62.00000\n",
       "max    1499.000000   75.00000"
      ]
     },
     "metadata": {},
     "output_type": "display_data"
    },
    {
     "name": "stdout",
     "output_type": "stream",
     "text": [
      "<class 'pandas.core.frame.DataFrame'>\n",
      "RangeIndex: 500 entries, 0 to 499\n",
      "Data columns (total 8 columns):\n",
      " #   Column      Non-Null Count  Dtype \n",
      "---  ------      --------------  ----- \n",
      " 0   user_id     500 non-null    int64 \n",
      " 1   age         500 non-null    int64 \n",
      " 2   churn_date  38 non-null     object\n",
      " 3   city        500 non-null    object\n",
      " 4   first_name  500 non-null    object\n",
      " 5   last_name   500 non-null    object\n",
      " 6   reg_date    500 non-null    object\n",
      " 7   tariff      500 non-null    object\n",
      "dtypes: int64(2), object(6)\n",
      "memory usage: 31.4+ KB\n",
      "None\n"
     ]
    }
   ],
   "source": [
    "display(users.head())\n",
    "display(users.describe())\n",
    "print(users.info())"
   ]
  },
  {
   "cell_type": "markdown",
   "id": "e4844d5c",
   "metadata": {},
   "source": [
    "<div class=\"alert alert-block alert-warning\">\n",
    "<b>⚠️ Remarks:</b> \n",
    "    \n",
    "ко всем датафреймам ты применяешь один и тотже набор инструментов для знакомства с данными. Имеет смысл вынести их в одну универсальную функцию"
   ]
  },
  {
   "cell_type": "markdown",
   "id": "102c0e32",
   "metadata": {},
   "source": [
    "Данные в таблице предоставлены типами int64, object, потребуется перевести `reg_date` в формат datetime64.\n",
    "В столбце `churn_date` присутствует большое количество пропусков. Статистики по количественным переменным выглядят правдоподобно."
   ]
  },
  {
   "cell_type": "markdown",
   "id": "784ac4ce",
   "metadata": {},
   "source": [
    "#### Посмотрим таблицу `calls`"
   ]
  },
  {
   "cell_type": "code",
   "execution_count": 4,
   "id": "7008563f",
   "metadata": {},
   "outputs": [
    {
     "data": {
      "text/html": [
       "<div>\n",
       "<style scoped>\n",
       "    .dataframe tbody tr th:only-of-type {\n",
       "        vertical-align: middle;\n",
       "    }\n",
       "\n",
       "    .dataframe tbody tr th {\n",
       "        vertical-align: top;\n",
       "    }\n",
       "\n",
       "    .dataframe thead th {\n",
       "        text-align: right;\n",
       "    }\n",
       "</style>\n",
       "<table border=\"1\" class=\"dataframe\">\n",
       "  <thead>\n",
       "    <tr style=\"text-align: right;\">\n",
       "      <th></th>\n",
       "      <th>id</th>\n",
       "      <th>call_date</th>\n",
       "      <th>duration</th>\n",
       "      <th>user_id</th>\n",
       "    </tr>\n",
       "  </thead>\n",
       "  <tbody>\n",
       "    <tr>\n",
       "      <th>0</th>\n",
       "      <td>1000_0</td>\n",
       "      <td>2018-07-25</td>\n",
       "      <td>0.00</td>\n",
       "      <td>1000</td>\n",
       "    </tr>\n",
       "    <tr>\n",
       "      <th>1</th>\n",
       "      <td>1000_1</td>\n",
       "      <td>2018-08-17</td>\n",
       "      <td>0.00</td>\n",
       "      <td>1000</td>\n",
       "    </tr>\n",
       "    <tr>\n",
       "      <th>2</th>\n",
       "      <td>1000_2</td>\n",
       "      <td>2018-06-11</td>\n",
       "      <td>2.85</td>\n",
       "      <td>1000</td>\n",
       "    </tr>\n",
       "    <tr>\n",
       "      <th>3</th>\n",
       "      <td>1000_3</td>\n",
       "      <td>2018-09-21</td>\n",
       "      <td>13.80</td>\n",
       "      <td>1000</td>\n",
       "    </tr>\n",
       "    <tr>\n",
       "      <th>4</th>\n",
       "      <td>1000_4</td>\n",
       "      <td>2018-12-15</td>\n",
       "      <td>5.18</td>\n",
       "      <td>1000</td>\n",
       "    </tr>\n",
       "  </tbody>\n",
       "</table>\n",
       "</div>"
      ],
      "text/plain": [
       "       id   call_date  duration  user_id\n",
       "0  1000_0  2018-07-25      0.00     1000\n",
       "1  1000_1  2018-08-17      0.00     1000\n",
       "2  1000_2  2018-06-11      2.85     1000\n",
       "3  1000_3  2018-09-21     13.80     1000\n",
       "4  1000_4  2018-12-15      5.18     1000"
      ]
     },
     "metadata": {},
     "output_type": "display_data"
    },
    {
     "data": {
      "text/html": [
       "<div>\n",
       "<style scoped>\n",
       "    .dataframe tbody tr th:only-of-type {\n",
       "        vertical-align: middle;\n",
       "    }\n",
       "\n",
       "    .dataframe tbody tr th {\n",
       "        vertical-align: top;\n",
       "    }\n",
       "\n",
       "    .dataframe thead th {\n",
       "        text-align: right;\n",
       "    }\n",
       "</style>\n",
       "<table border=\"1\" class=\"dataframe\">\n",
       "  <thead>\n",
       "    <tr style=\"text-align: right;\">\n",
       "      <th></th>\n",
       "      <th>duration</th>\n",
       "      <th>user_id</th>\n",
       "    </tr>\n",
       "  </thead>\n",
       "  <tbody>\n",
       "    <tr>\n",
       "      <th>count</th>\n",
       "      <td>202607.000000</td>\n",
       "      <td>202607.000000</td>\n",
       "    </tr>\n",
       "    <tr>\n",
       "      <th>mean</th>\n",
       "      <td>6.755887</td>\n",
       "      <td>1253.940619</td>\n",
       "    </tr>\n",
       "    <tr>\n",
       "      <th>std</th>\n",
       "      <td>5.843365</td>\n",
       "      <td>144.722751</td>\n",
       "    </tr>\n",
       "    <tr>\n",
       "      <th>min</th>\n",
       "      <td>0.000000</td>\n",
       "      <td>1000.000000</td>\n",
       "    </tr>\n",
       "    <tr>\n",
       "      <th>25%</th>\n",
       "      <td>1.300000</td>\n",
       "      <td>1126.000000</td>\n",
       "    </tr>\n",
       "    <tr>\n",
       "      <th>50%</th>\n",
       "      <td>6.000000</td>\n",
       "      <td>1260.000000</td>\n",
       "    </tr>\n",
       "    <tr>\n",
       "      <th>75%</th>\n",
       "      <td>10.700000</td>\n",
       "      <td>1379.000000</td>\n",
       "    </tr>\n",
       "    <tr>\n",
       "      <th>max</th>\n",
       "      <td>38.000000</td>\n",
       "      <td>1499.000000</td>\n",
       "    </tr>\n",
       "  </tbody>\n",
       "</table>\n",
       "</div>"
      ],
      "text/plain": [
       "            duration        user_id\n",
       "count  202607.000000  202607.000000\n",
       "mean        6.755887    1253.940619\n",
       "std         5.843365     144.722751\n",
       "min         0.000000    1000.000000\n",
       "25%         1.300000    1126.000000\n",
       "50%         6.000000    1260.000000\n",
       "75%        10.700000    1379.000000\n",
       "max        38.000000    1499.000000"
      ]
     },
     "metadata": {},
     "output_type": "display_data"
    },
    {
     "name": "stdout",
     "output_type": "stream",
     "text": [
      "<class 'pandas.core.frame.DataFrame'>\n",
      "RangeIndex: 202607 entries, 0 to 202606\n",
      "Data columns (total 4 columns):\n",
      " #   Column     Non-Null Count   Dtype  \n",
      "---  ------     --------------   -----  \n",
      " 0   id         202607 non-null  object \n",
      " 1   call_date  202607 non-null  object \n",
      " 2   duration   202607 non-null  float64\n",
      " 3   user_id    202607 non-null  int64  \n",
      "dtypes: float64(1), int64(1), object(2)\n",
      "memory usage: 6.2+ MB\n",
      "None\n"
     ]
    }
   ],
   "source": [
    "display(calls.head())\n",
    "display(calls.describe())\n",
    "print(calls.info())"
   ]
  },
  {
   "cell_type": "markdown",
   "id": "4e655200",
   "metadata": {},
   "source": [
    "Данные в таблице предоставлены типами int64, float64, object, потребуется перевести `call_date` в формат datetime64.\n",
    "Пропуски в данных отсутствуют. Статистики по количественным переменным выглядят правдоподобно."
   ]
  },
  {
   "cell_type": "markdown",
   "id": "accc8072",
   "metadata": {},
   "source": [
    "#### Посмотрим таблицу `messages`"
   ]
  },
  {
   "cell_type": "code",
   "execution_count": 5,
   "id": "843b531e",
   "metadata": {},
   "outputs": [
    {
     "data": {
      "text/html": [
       "<div>\n",
       "<style scoped>\n",
       "    .dataframe tbody tr th:only-of-type {\n",
       "        vertical-align: middle;\n",
       "    }\n",
       "\n",
       "    .dataframe tbody tr th {\n",
       "        vertical-align: top;\n",
       "    }\n",
       "\n",
       "    .dataframe thead th {\n",
       "        text-align: right;\n",
       "    }\n",
       "</style>\n",
       "<table border=\"1\" class=\"dataframe\">\n",
       "  <thead>\n",
       "    <tr style=\"text-align: right;\">\n",
       "      <th></th>\n",
       "      <th>id</th>\n",
       "      <th>message_date</th>\n",
       "      <th>user_id</th>\n",
       "    </tr>\n",
       "  </thead>\n",
       "  <tbody>\n",
       "    <tr>\n",
       "      <th>0</th>\n",
       "      <td>1000_0</td>\n",
       "      <td>2018-06-27</td>\n",
       "      <td>1000</td>\n",
       "    </tr>\n",
       "    <tr>\n",
       "      <th>1</th>\n",
       "      <td>1000_1</td>\n",
       "      <td>2018-10-08</td>\n",
       "      <td>1000</td>\n",
       "    </tr>\n",
       "    <tr>\n",
       "      <th>2</th>\n",
       "      <td>1000_2</td>\n",
       "      <td>2018-08-04</td>\n",
       "      <td>1000</td>\n",
       "    </tr>\n",
       "    <tr>\n",
       "      <th>3</th>\n",
       "      <td>1000_3</td>\n",
       "      <td>2018-06-16</td>\n",
       "      <td>1000</td>\n",
       "    </tr>\n",
       "    <tr>\n",
       "      <th>4</th>\n",
       "      <td>1000_4</td>\n",
       "      <td>2018-12-05</td>\n",
       "      <td>1000</td>\n",
       "    </tr>\n",
       "  </tbody>\n",
       "</table>\n",
       "</div>"
      ],
      "text/plain": [
       "       id message_date  user_id\n",
       "0  1000_0   2018-06-27     1000\n",
       "1  1000_1   2018-10-08     1000\n",
       "2  1000_2   2018-08-04     1000\n",
       "3  1000_3   2018-06-16     1000\n",
       "4  1000_4   2018-12-05     1000"
      ]
     },
     "metadata": {},
     "output_type": "display_data"
    },
    {
     "data": {
      "text/html": [
       "<div>\n",
       "<style scoped>\n",
       "    .dataframe tbody tr th:only-of-type {\n",
       "        vertical-align: middle;\n",
       "    }\n",
       "\n",
       "    .dataframe tbody tr th {\n",
       "        vertical-align: top;\n",
       "    }\n",
       "\n",
       "    .dataframe thead th {\n",
       "        text-align: right;\n",
       "    }\n",
       "</style>\n",
       "<table border=\"1\" class=\"dataframe\">\n",
       "  <thead>\n",
       "    <tr style=\"text-align: right;\">\n",
       "      <th></th>\n",
       "      <th>user_id</th>\n",
       "    </tr>\n",
       "  </thead>\n",
       "  <tbody>\n",
       "    <tr>\n",
       "      <th>count</th>\n",
       "      <td>123036.000000</td>\n",
       "    </tr>\n",
       "    <tr>\n",
       "      <th>mean</th>\n",
       "      <td>1256.989410</td>\n",
       "    </tr>\n",
       "    <tr>\n",
       "      <th>std</th>\n",
       "      <td>143.523967</td>\n",
       "    </tr>\n",
       "    <tr>\n",
       "      <th>min</th>\n",
       "      <td>1000.000000</td>\n",
       "    </tr>\n",
       "    <tr>\n",
       "      <th>25%</th>\n",
       "      <td>1134.000000</td>\n",
       "    </tr>\n",
       "    <tr>\n",
       "      <th>50%</th>\n",
       "      <td>1271.000000</td>\n",
       "    </tr>\n",
       "    <tr>\n",
       "      <th>75%</th>\n",
       "      <td>1381.000000</td>\n",
       "    </tr>\n",
       "    <tr>\n",
       "      <th>max</th>\n",
       "      <td>1499.000000</td>\n",
       "    </tr>\n",
       "  </tbody>\n",
       "</table>\n",
       "</div>"
      ],
      "text/plain": [
       "             user_id\n",
       "count  123036.000000\n",
       "mean     1256.989410\n",
       "std       143.523967\n",
       "min      1000.000000\n",
       "25%      1134.000000\n",
       "50%      1271.000000\n",
       "75%      1381.000000\n",
       "max      1499.000000"
      ]
     },
     "metadata": {},
     "output_type": "display_data"
    },
    {
     "name": "stdout",
     "output_type": "stream",
     "text": [
      "<class 'pandas.core.frame.DataFrame'>\n",
      "RangeIndex: 123036 entries, 0 to 123035\n",
      "Data columns (total 3 columns):\n",
      " #   Column        Non-Null Count   Dtype \n",
      "---  ------        --------------   ----- \n",
      " 0   id            123036 non-null  object\n",
      " 1   message_date  123036 non-null  object\n",
      " 2   user_id       123036 non-null  int64 \n",
      "dtypes: int64(1), object(2)\n",
      "memory usage: 2.8+ MB\n",
      "None\n"
     ]
    }
   ],
   "source": [
    "display(messages.head())\n",
    "display(messages.describe())\n",
    "print(messages.info())"
   ]
  },
  {
   "cell_type": "markdown",
   "id": "4174bf4b",
   "metadata": {},
   "source": [
    "Данные в таблице предоставлены типами int64, object, потребуется перевести `message_date` в формат datetime64.\n",
    "Пропуски в данных отсутствуют. Статистики по количественным переменным выглядят правдоподобно."
   ]
  },
  {
   "cell_type": "markdown",
   "id": "435c9b99",
   "metadata": {},
   "source": [
    "#### Посмотрим таблицу `internet`"
   ]
  },
  {
   "cell_type": "code",
   "execution_count": 6,
   "id": "8415e86c",
   "metadata": {},
   "outputs": [
    {
     "data": {
      "text/html": [
       "<div>\n",
       "<style scoped>\n",
       "    .dataframe tbody tr th:only-of-type {\n",
       "        vertical-align: middle;\n",
       "    }\n",
       "\n",
       "    .dataframe tbody tr th {\n",
       "        vertical-align: top;\n",
       "    }\n",
       "\n",
       "    .dataframe thead th {\n",
       "        text-align: right;\n",
       "    }\n",
       "</style>\n",
       "<table border=\"1\" class=\"dataframe\">\n",
       "  <thead>\n",
       "    <tr style=\"text-align: right;\">\n",
       "      <th></th>\n",
       "      <th>Unnamed: 0</th>\n",
       "      <th>id</th>\n",
       "      <th>mb_used</th>\n",
       "      <th>session_date</th>\n",
       "      <th>user_id</th>\n",
       "    </tr>\n",
       "  </thead>\n",
       "  <tbody>\n",
       "    <tr>\n",
       "      <th>0</th>\n",
       "      <td>0</td>\n",
       "      <td>1000_0</td>\n",
       "      <td>112.95</td>\n",
       "      <td>2018-11-25</td>\n",
       "      <td>1000</td>\n",
       "    </tr>\n",
       "    <tr>\n",
       "      <th>1</th>\n",
       "      <td>1</td>\n",
       "      <td>1000_1</td>\n",
       "      <td>1052.81</td>\n",
       "      <td>2018-09-07</td>\n",
       "      <td>1000</td>\n",
       "    </tr>\n",
       "    <tr>\n",
       "      <th>2</th>\n",
       "      <td>2</td>\n",
       "      <td>1000_2</td>\n",
       "      <td>1197.26</td>\n",
       "      <td>2018-06-25</td>\n",
       "      <td>1000</td>\n",
       "    </tr>\n",
       "    <tr>\n",
       "      <th>3</th>\n",
       "      <td>3</td>\n",
       "      <td>1000_3</td>\n",
       "      <td>550.27</td>\n",
       "      <td>2018-08-22</td>\n",
       "      <td>1000</td>\n",
       "    </tr>\n",
       "    <tr>\n",
       "      <th>4</th>\n",
       "      <td>4</td>\n",
       "      <td>1000_4</td>\n",
       "      <td>302.56</td>\n",
       "      <td>2018-09-24</td>\n",
       "      <td>1000</td>\n",
       "    </tr>\n",
       "  </tbody>\n",
       "</table>\n",
       "</div>"
      ],
      "text/plain": [
       "   Unnamed: 0      id  mb_used session_date  user_id\n",
       "0           0  1000_0   112.95   2018-11-25     1000\n",
       "1           1  1000_1  1052.81   2018-09-07     1000\n",
       "2           2  1000_2  1197.26   2018-06-25     1000\n",
       "3           3  1000_3   550.27   2018-08-22     1000\n",
       "4           4  1000_4   302.56   2018-09-24     1000"
      ]
     },
     "metadata": {},
     "output_type": "display_data"
    },
    {
     "data": {
      "text/html": [
       "<div>\n",
       "<style scoped>\n",
       "    .dataframe tbody tr th:only-of-type {\n",
       "        vertical-align: middle;\n",
       "    }\n",
       "\n",
       "    .dataframe tbody tr th {\n",
       "        vertical-align: top;\n",
       "    }\n",
       "\n",
       "    .dataframe thead th {\n",
       "        text-align: right;\n",
       "    }\n",
       "</style>\n",
       "<table border=\"1\" class=\"dataframe\">\n",
       "  <thead>\n",
       "    <tr style=\"text-align: right;\">\n",
       "      <th></th>\n",
       "      <th>Unnamed: 0</th>\n",
       "      <th>mb_used</th>\n",
       "      <th>user_id</th>\n",
       "    </tr>\n",
       "  </thead>\n",
       "  <tbody>\n",
       "    <tr>\n",
       "      <th>count</th>\n",
       "      <td>149396.000000</td>\n",
       "      <td>149396.000000</td>\n",
       "      <td>149396.000000</td>\n",
       "    </tr>\n",
       "    <tr>\n",
       "      <th>mean</th>\n",
       "      <td>74697.500000</td>\n",
       "      <td>370.192426</td>\n",
       "      <td>1252.099842</td>\n",
       "    </tr>\n",
       "    <tr>\n",
       "      <th>std</th>\n",
       "      <td>43127.054745</td>\n",
       "      <td>278.300951</td>\n",
       "      <td>144.050823</td>\n",
       "    </tr>\n",
       "    <tr>\n",
       "      <th>min</th>\n",
       "      <td>0.000000</td>\n",
       "      <td>0.000000</td>\n",
       "      <td>1000.000000</td>\n",
       "    </tr>\n",
       "    <tr>\n",
       "      <th>25%</th>\n",
       "      <td>37348.750000</td>\n",
       "      <td>138.187500</td>\n",
       "      <td>1130.000000</td>\n",
       "    </tr>\n",
       "    <tr>\n",
       "      <th>50%</th>\n",
       "      <td>74697.500000</td>\n",
       "      <td>348.015000</td>\n",
       "      <td>1251.000000</td>\n",
       "    </tr>\n",
       "    <tr>\n",
       "      <th>75%</th>\n",
       "      <td>112046.250000</td>\n",
       "      <td>559.552500</td>\n",
       "      <td>1380.000000</td>\n",
       "    </tr>\n",
       "    <tr>\n",
       "      <th>max</th>\n",
       "      <td>149395.000000</td>\n",
       "      <td>1724.830000</td>\n",
       "      <td>1499.000000</td>\n",
       "    </tr>\n",
       "  </tbody>\n",
       "</table>\n",
       "</div>"
      ],
      "text/plain": [
       "          Unnamed: 0        mb_used        user_id\n",
       "count  149396.000000  149396.000000  149396.000000\n",
       "mean    74697.500000     370.192426    1252.099842\n",
       "std     43127.054745     278.300951     144.050823\n",
       "min         0.000000       0.000000    1000.000000\n",
       "25%     37348.750000     138.187500    1130.000000\n",
       "50%     74697.500000     348.015000    1251.000000\n",
       "75%    112046.250000     559.552500    1380.000000\n",
       "max    149395.000000    1724.830000    1499.000000"
      ]
     },
     "metadata": {},
     "output_type": "display_data"
    },
    {
     "name": "stdout",
     "output_type": "stream",
     "text": [
      "<class 'pandas.core.frame.DataFrame'>\n",
      "RangeIndex: 149396 entries, 0 to 149395\n",
      "Data columns (total 5 columns):\n",
      " #   Column        Non-Null Count   Dtype  \n",
      "---  ------        --------------   -----  \n",
      " 0   Unnamed: 0    149396 non-null  int64  \n",
      " 1   id            149396 non-null  object \n",
      " 2   mb_used       149396 non-null  float64\n",
      " 3   session_date  149396 non-null  object \n",
      " 4   user_id       149396 non-null  int64  \n",
      "dtypes: float64(1), int64(2), object(2)\n",
      "memory usage: 5.7+ MB\n",
      "None\n"
     ]
    }
   ],
   "source": [
    "display(internet.head())\n",
    "display(internet.describe())\n",
    "print(internet.info())"
   ]
  },
  {
   "cell_type": "markdown",
   "id": "c264f288",
   "metadata": {},
   "source": [
    "Данные в таблице предоставлены типами int64, float64, object, потребуется перевести `session_date` в формат datetime64.\n",
    "Пропуски в данных отсутствуют. Имеется неопределённый столбец `Unnamed: 0`.  Статистики по количественным переменным выглядят правдоподобно."
   ]
  },
  {
   "cell_type": "markdown",
   "id": "d98001d5",
   "metadata": {},
   "source": [
    "#### Посмотрим таблицу `tariffs`"
   ]
  },
  {
   "cell_type": "code",
   "execution_count": 7,
   "id": "79f81d6d",
   "metadata": {},
   "outputs": [
    {
     "data": {
      "text/html": [
       "<div>\n",
       "<style scoped>\n",
       "    .dataframe tbody tr th:only-of-type {\n",
       "        vertical-align: middle;\n",
       "    }\n",
       "\n",
       "    .dataframe tbody tr th {\n",
       "        vertical-align: top;\n",
       "    }\n",
       "\n",
       "    .dataframe thead th {\n",
       "        text-align: right;\n",
       "    }\n",
       "</style>\n",
       "<table border=\"1\" class=\"dataframe\">\n",
       "  <thead>\n",
       "    <tr style=\"text-align: right;\">\n",
       "      <th></th>\n",
       "      <th>messages_included</th>\n",
       "      <th>mb_per_month_included</th>\n",
       "      <th>minutes_included</th>\n",
       "      <th>rub_monthly_fee</th>\n",
       "      <th>rub_per_gb</th>\n",
       "      <th>rub_per_message</th>\n",
       "      <th>rub_per_minute</th>\n",
       "      <th>tariff_name</th>\n",
       "    </tr>\n",
       "  </thead>\n",
       "  <tbody>\n",
       "    <tr>\n",
       "      <th>0</th>\n",
       "      <td>50</td>\n",
       "      <td>15360</td>\n",
       "      <td>500</td>\n",
       "      <td>550</td>\n",
       "      <td>200</td>\n",
       "      <td>3</td>\n",
       "      <td>3</td>\n",
       "      <td>smart</td>\n",
       "    </tr>\n",
       "    <tr>\n",
       "      <th>1</th>\n",
       "      <td>1000</td>\n",
       "      <td>30720</td>\n",
       "      <td>3000</td>\n",
       "      <td>1950</td>\n",
       "      <td>150</td>\n",
       "      <td>1</td>\n",
       "      <td>1</td>\n",
       "      <td>ultra</td>\n",
       "    </tr>\n",
       "  </tbody>\n",
       "</table>\n",
       "</div>"
      ],
      "text/plain": [
       "   messages_included  mb_per_month_included  minutes_included  \\\n",
       "0                 50                  15360               500   \n",
       "1               1000                  30720              3000   \n",
       "\n",
       "   rub_monthly_fee  rub_per_gb  rub_per_message  rub_per_minute tariff_name  \n",
       "0              550         200                3               3       smart  \n",
       "1             1950         150                1               1       ultra  "
      ]
     },
     "metadata": {},
     "output_type": "display_data"
    },
    {
     "name": "stdout",
     "output_type": "stream",
     "text": [
      "<class 'pandas.core.frame.DataFrame'>\n",
      "RangeIndex: 2 entries, 0 to 1\n",
      "Data columns (total 8 columns):\n",
      " #   Column                 Non-Null Count  Dtype \n",
      "---  ------                 --------------  ----- \n",
      " 0   messages_included      2 non-null      int64 \n",
      " 1   mb_per_month_included  2 non-null      int64 \n",
      " 2   minutes_included       2 non-null      int64 \n",
      " 3   rub_monthly_fee        2 non-null      int64 \n",
      " 4   rub_per_gb             2 non-null      int64 \n",
      " 5   rub_per_message        2 non-null      int64 \n",
      " 6   rub_per_minute         2 non-null      int64 \n",
      " 7   tariff_name            2 non-null      object\n",
      "dtypes: int64(7), object(1)\n",
      "memory usage: 256.0+ bytes\n",
      "None\n"
     ]
    }
   ],
   "source": [
    "display(tariffs.head())\n",
    "print(tariffs.info())"
   ]
  },
  {
   "cell_type": "markdown",
   "id": "8ba96605",
   "metadata": {},
   "source": [
    "Таблица состоит из двух строк - тарифные планы. Данные в таблице предоставлены типами int64, object.\n",
    "Пропуски в данных отсутствуют."
   ]
  },
  {
   "cell_type": "markdown",
   "id": "9f8f0bd6",
   "metadata": {},
   "source": [
    "<div class=\"alert alert-block alert-success\">\n",
    "<b>✔️ Success:</b> с данными познакомились, отлично!"
   ]
  },
  {
   "cell_type": "markdown",
   "id": "410443bd",
   "metadata": {},
   "source": [
    "## Предобработка данных"
   ]
  },
  {
   "cell_type": "markdown",
   "id": "80908849",
   "metadata": {},
   "source": [
    "### Предобработка таблицы `users`"
   ]
  },
  {
   "cell_type": "markdown",
   "id": "6c7fe745",
   "metadata": {},
   "source": [
    "Проверим на явные дубликаты."
   ]
  },
  {
   "cell_type": "code",
   "execution_count": 8,
   "id": "90e144dd",
   "metadata": {
    "scrolled": true
   },
   "outputs": [
    {
     "name": "stdout",
     "output_type": "stream",
     "text": [
      "Количество явных дубликатов в таблице \"users\": 0\n"
     ]
    }
   ],
   "source": [
    "print('Количество явных дубликатов в таблице \"users\":', users.duplicated().sum())"
   ]
  },
  {
   "cell_type": "markdown",
   "id": "f8e02462",
   "metadata": {},
   "source": [
    "Проверим неявное дублирование в столбце `city`"
   ]
  },
  {
   "cell_type": "code",
   "execution_count": 9,
   "id": "86bb6a84",
   "metadata": {},
   "outputs": [
    {
     "name": "stdout",
     "output_type": "stream",
     "text": [
      "['Архангельск' 'Астрахань' 'Балашиха' 'Барнаул' 'Белгород' 'Брянск'\n",
      " 'Владивосток' 'Владикавказ' 'Владимир' 'Волгоград' 'Волжский' 'Вологда'\n",
      " 'Воронеж' 'Грозный' 'Екатеринбург' 'Иваново' 'Ижевск' 'Иркутск' 'Казань'\n",
      " 'Калининград' 'Калуга' 'Кемерово' 'Киров' 'Кострома' 'Краснодар'\n",
      " 'Красноярск' 'Курган' 'Курск' 'Липецк' 'Магнитогорск' 'Махачкала'\n",
      " 'Москва' 'Мурманск' 'Набережные Челны' 'Нижневартовск' 'Нижний Новгород'\n",
      " 'Нижний Тагил' 'Новокузнецк' 'Новороссийск' 'Новосибирск' 'Омск'\n",
      " 'Оренбург' 'Орёл' 'Пенза' 'Пермь' 'Петрозаводск' 'Подольск'\n",
      " 'Ростов-на-Дону' 'Рязань' 'Самара' 'Санкт-Петербург' 'Саранск' 'Саратов'\n",
      " 'Севастополь' 'Смоленск' 'Сочи' 'Ставрополь' 'Стерлитамак' 'Сургут'\n",
      " 'Тамбов' 'Тверь' 'Тольятти' 'Томск' 'Тула' 'Тюмень' 'Улан-Удэ'\n",
      " 'Ульяновск' 'Уфа' 'Хабаровск' 'Химки' 'Чебоксары' 'Челябинск' 'Череповец'\n",
      " 'Чита' 'Якутск' 'Ярославль']\n"
     ]
    }
   ],
   "source": [
    "print(users['city'].sort_values().unique())"
   ]
  },
  {
   "cell_type": "markdown",
   "id": "69428e0d",
   "metadata": {},
   "source": [
    "Так как число уникальных значений городов не велико, то можно визуально оценить отсутствие ошибок.\n",
    "\n",
    "Приведём тип данных столбца `reg_date` к формату datetime64."
   ]
  },
  {
   "cell_type": "code",
   "execution_count": 10,
   "id": "d3198f2d",
   "metadata": {},
   "outputs": [
    {
     "name": "stdout",
     "output_type": "stream",
     "text": [
      "Тип данных столбца \"reg_date\": datetime64[ns]\n"
     ]
    }
   ],
   "source": [
    "users['reg_date'] = pd.to_datetime(users['reg_date'], format='%Y-%m-%d')\n",
    "print('Тип данных столбца \"reg_date\":', users['reg_date'].dtypes)"
   ]
  },
  {
   "cell_type": "markdown",
   "id": "c9ea3ad2",
   "metadata": {},
   "source": [
    "<div class=\"alert alert-block alert-warning\">\n",
    "<b>⚠️ Remarks:</b> Принято выносить из кода строковые литералы. \n",
    "Если ТЗ поменяют (например, для американцев более естественно писать дату `'%m.%d.%Y'`), \n",
    "то это не потребует внесения изменений в код, отвечающий за логику.\n",
    "По `pep-8` константам нужно давать говорящие названия и именовать в верхнем регистре."
   ]
  },
  {
   "cell_type": "markdown",
   "id": "db0f3c3f",
   "metadata": {},
   "source": [
    "Столбец с пропусками `churn_date` содержит даты прекращения пользования тарифом пользователями (если значение пропущено, то тариф ещё действовал на момент выгрузки данных). Это значит, что пропуски являются нормой для этого столбца, заполнять их не нужно. Наоборот, заполненные строки указывают на то, что последний месяц использования тарифа был неполным, поэтому значения по нему будут влиять на результаты исследования.\n",
    "\n",
    "**В последующем удалим данные для этих пользователей за последний месяц использования тарифа.**\n",
    "\n",
    "Создадим таблицу `churn` для данных пользователей содержащий: \"user_id\" и \"last_month_use\" (последний месяц использования тарифа). Прменим для последующих таблиц данный фильтр."
   ]
  },
  {
   "cell_type": "code",
   "execution_count": 11,
   "id": "0e39b07d",
   "metadata": {},
   "outputs": [
    {
     "name": "stdout",
     "output_type": "stream",
     "text": [
      "Первые две строк таблицы \"churn\"\n"
     ]
    },
    {
     "data": {
      "text/html": [
       "<div>\n",
       "<style scoped>\n",
       "    .dataframe tbody tr th:only-of-type {\n",
       "        vertical-align: middle;\n",
       "    }\n",
       "\n",
       "    .dataframe tbody tr th {\n",
       "        vertical-align: top;\n",
       "    }\n",
       "\n",
       "    .dataframe thead th {\n",
       "        text-align: right;\n",
       "    }\n",
       "</style>\n",
       "<table border=\"1\" class=\"dataframe\">\n",
       "  <thead>\n",
       "    <tr style=\"text-align: right;\">\n",
       "      <th></th>\n",
       "      <th>user_id</th>\n",
       "      <th>month</th>\n",
       "    </tr>\n",
       "  </thead>\n",
       "  <tbody>\n",
       "    <tr>\n",
       "      <th>0</th>\n",
       "      <td>1019</td>\n",
       "      <td>10</td>\n",
       "    </tr>\n",
       "    <tr>\n",
       "      <th>1</th>\n",
       "      <td>1020</td>\n",
       "      <td>12</td>\n",
       "    </tr>\n",
       "  </tbody>\n",
       "</table>\n",
       "</div>"
      ],
      "text/plain": [
       "   user_id  month\n",
       "0     1019     10\n",
       "1     1020     12"
      ]
     },
     "metadata": {},
     "output_type": "display_data"
    }
   ],
   "source": [
    "# создадим таблицу 'churn' для выбывших клиентов, оставим только столбцы 'user_id','churn_date'.\n",
    "churn = users[~users['churn_date'].isna()].loc[:,['user_id','churn_date']].reset_index(drop=True)\n",
    "# создадим столбец 'month' и запоним его значением месяца\n",
    "churn['month'] = pd.to_datetime(churn['churn_date'], format='%Y-%m-%d').dt.month\n",
    "# удалим столбец 'churn_date'\n",
    "churn = churn.drop(columns='churn_date')\n",
    "print('Первые две строк таблицы \"churn\"')\n",
    "display(churn.head(2))"
   ]
  },
  {
   "cell_type": "markdown",
   "id": "07d269e9",
   "metadata": {},
   "source": [
    "<div class=\"alert alert-block alert-warning\">\n",
    "<b>⚠️ Remarks:</b> \n",
    "    \n",
    "старайся пояснения к исследованию всегда писать в маркдаун-ячейках. Через # Обычно пишутся технические комментарии к нетривиальным участкам кода"
   ]
  },
  {
   "cell_type": "markdown",
   "id": "d88a2083",
   "metadata": {},
   "source": [
    "Создадим функцию `last_month_delet` для удаения данных по таблице `churn`. Данную функуию в последующем применим к таблицам `calls`, `messages` и `internet`."
   ]
  },
  {
   "cell_type": "code",
   "execution_count": 12,
   "id": "c5529911",
   "metadata": {},
   "outputs": [],
   "source": [
    "# 'table' датафрейм со столбцами 'user_id' и 'month'\n",
    "# churn_id пересечение table и churn по столбцам 'user_id' и 'month'\n",
    "# удалим из table строки в которых значения в столбце id совпадают со значениями из churn_id\n",
    "# и возвратим таблицу как результат работы функции\n",
    "\n",
    "def last_month_delet(table):\n",
    "    churn_id = pd.merge(table, churn, on=['user_id','month'], how='inner')\n",
    "    return table.loc[~table.id.isin(churn_id.id)].reset_index(drop=True)\n",
    "    "
   ]
  },
  {
   "cell_type": "markdown",
   "id": "85fde536",
   "metadata": {},
   "source": [
    "### Предобработка таблицы `calls`"
   ]
  },
  {
   "cell_type": "markdown",
   "id": "0acefa8f",
   "metadata": {},
   "source": [
    "Проверим на явные дубликаты."
   ]
  },
  {
   "cell_type": "code",
   "execution_count": 13,
   "id": "5aa3f5bd",
   "metadata": {},
   "outputs": [
    {
     "name": "stdout",
     "output_type": "stream",
     "text": [
      "Количество явных дубликатов в таблице \"calls\": 0\n"
     ]
    }
   ],
   "source": [
    "print('Количество явных дубликатов в таблице \"calls\":', calls.duplicated().sum())"
   ]
  },
  {
   "cell_type": "markdown",
   "id": "384e0fa6",
   "metadata": {},
   "source": [
    "Приведём тип данных столбца `call_date` к формату datetime64."
   ]
  },
  {
   "cell_type": "code",
   "execution_count": 14,
   "id": "c914e683",
   "metadata": {},
   "outputs": [
    {
     "name": "stdout",
     "output_type": "stream",
     "text": [
      "Тип данных столбца \"call_date\": datetime64[ns]\n"
     ]
    }
   ],
   "source": [
    "calls['call_date'] = pd.to_datetime(calls['call_date'], format='%Y-%m-%d')\n",
    "print('Тип данных столбца \"call_date\":', calls['call_date'].dtypes)"
   ]
  },
  {
   "cell_type": "markdown",
   "id": "a09b5c89",
   "metadata": {},
   "source": [
    "<div class=\"alert alert-block alert-warning\">\n",
    "<b>⚠️ Remarks:</b> \n",
    "    \n",
    "и во всех наших датафреймах давай константу с форматом применим"
   ]
  },
  {
   "cell_type": "markdown",
   "id": "473295bb",
   "metadata": {},
   "source": [
    "Проверим, что данные предоставлены только за 2018 год."
   ]
  },
  {
   "cell_type": "code",
   "execution_count": 15,
   "id": "59f5dea1",
   "metadata": {},
   "outputs": [
    {
     "name": "stdout",
     "output_type": "stream",
     "text": [
      "Диапазон дат в таблице 'calls' c 2018-01-01 00:00:00 по 2018-12-31 00:00:00.\n"
     ]
    }
   ],
   "source": [
    "print(f\"Диапазон дат в таблице 'calls' c {calls['call_date'].min()} по {calls['call_date'].max()}.\")"
   ]
  },
  {
   "cell_type": "markdown",
   "id": "d0de207f",
   "metadata": {},
   "source": [
    "Так как все предоставленные данные относятся только к 2018 году и все расчёты производятся относительно месяца, то создадим столбец `month`."
   ]
  },
  {
   "cell_type": "code",
   "execution_count": 16,
   "id": "d99fec3a",
   "metadata": {
    "scrolled": true
   },
   "outputs": [
    {
     "name": "stdout",
     "output_type": "stream",
     "text": [
      "Первые две строки таблицы \"calls\"\n"
     ]
    },
    {
     "data": {
      "text/html": [
       "<div>\n",
       "<style scoped>\n",
       "    .dataframe tbody tr th:only-of-type {\n",
       "        vertical-align: middle;\n",
       "    }\n",
       "\n",
       "    .dataframe tbody tr th {\n",
       "        vertical-align: top;\n",
       "    }\n",
       "\n",
       "    .dataframe thead th {\n",
       "        text-align: right;\n",
       "    }\n",
       "</style>\n",
       "<table border=\"1\" class=\"dataframe\">\n",
       "  <thead>\n",
       "    <tr style=\"text-align: right;\">\n",
       "      <th></th>\n",
       "      <th>id</th>\n",
       "      <th>call_date</th>\n",
       "      <th>duration</th>\n",
       "      <th>user_id</th>\n",
       "      <th>month</th>\n",
       "    </tr>\n",
       "  </thead>\n",
       "  <tbody>\n",
       "    <tr>\n",
       "      <th>0</th>\n",
       "      <td>1000_0</td>\n",
       "      <td>2018-07-25</td>\n",
       "      <td>0.0</td>\n",
       "      <td>1000</td>\n",
       "      <td>7</td>\n",
       "    </tr>\n",
       "    <tr>\n",
       "      <th>1</th>\n",
       "      <td>1000_1</td>\n",
       "      <td>2018-08-17</td>\n",
       "      <td>0.0</td>\n",
       "      <td>1000</td>\n",
       "      <td>8</td>\n",
       "    </tr>\n",
       "  </tbody>\n",
       "</table>\n",
       "</div>"
      ],
      "text/plain": [
       "       id  call_date  duration  user_id  month\n",
       "0  1000_0 2018-07-25       0.0     1000      7\n",
       "1  1000_1 2018-08-17       0.0     1000      8"
      ]
     },
     "metadata": {},
     "output_type": "display_data"
    }
   ],
   "source": [
    "# создадим столбец 'month' и запоним его значением месяца\n",
    "calls['month'] = pd.DatetimeIndex(calls['call_date']).month\n",
    "print('Первые две строки таблицы \"calls\"')\n",
    "display(calls.head(2))"
   ]
  },
  {
   "cell_type": "markdown",
   "id": "50f68d12",
   "metadata": {},
   "source": [
    "Применим фильтр по таблице `churn`, удалим звонки за последний месяц для ушедших абонентов."
   ]
  },
  {
   "cell_type": "code",
   "execution_count": 17,
   "id": "00a6d96d",
   "metadata": {
    "scrolled": true
   },
   "outputs": [],
   "source": [
    "calls = last_month_delet(calls)"
   ]
  },
  {
   "cell_type": "markdown",
   "id": "52794e20",
   "metadata": {},
   "source": [
    "Согласно тарифной политики приведём длительность каждого звонка к целым минутам, с округлением в большую сторону."
   ]
  },
  {
   "cell_type": "code",
   "execution_count": 18,
   "id": "f2b7306e",
   "metadata": {},
   "outputs": [
    {
     "name": "stdout",
     "output_type": "stream",
     "text": [
      "Первые две строки таблицы \"calls\"\n"
     ]
    },
    {
     "data": {
      "text/html": [
       "<div>\n",
       "<style scoped>\n",
       "    .dataframe tbody tr th:only-of-type {\n",
       "        vertical-align: middle;\n",
       "    }\n",
       "\n",
       "    .dataframe tbody tr th {\n",
       "        vertical-align: top;\n",
       "    }\n",
       "\n",
       "    .dataframe thead th {\n",
       "        text-align: right;\n",
       "    }\n",
       "</style>\n",
       "<table border=\"1\" class=\"dataframe\">\n",
       "  <thead>\n",
       "    <tr style=\"text-align: right;\">\n",
       "      <th></th>\n",
       "      <th>id</th>\n",
       "      <th>call_date</th>\n",
       "      <th>duration</th>\n",
       "      <th>user_id</th>\n",
       "      <th>month</th>\n",
       "    </tr>\n",
       "  </thead>\n",
       "  <tbody>\n",
       "    <tr>\n",
       "      <th>0</th>\n",
       "      <td>1000_0</td>\n",
       "      <td>2018-07-25</td>\n",
       "      <td>0</td>\n",
       "      <td>1000</td>\n",
       "      <td>7</td>\n",
       "    </tr>\n",
       "    <tr>\n",
       "      <th>1</th>\n",
       "      <td>1000_1</td>\n",
       "      <td>2018-08-17</td>\n",
       "      <td>0</td>\n",
       "      <td>1000</td>\n",
       "      <td>8</td>\n",
       "    </tr>\n",
       "  </tbody>\n",
       "</table>\n",
       "</div>"
      ],
      "text/plain": [
       "       id  call_date  duration  user_id  month\n",
       "0  1000_0 2018-07-25         0     1000      7\n",
       "1  1000_1 2018-08-17         0     1000      8"
      ]
     },
     "metadata": {},
     "output_type": "display_data"
    }
   ],
   "source": [
    "calls['duration'] = calls['duration'].apply(ceil)\n",
    "print('Первые две строки таблицы \"calls\"')\n",
    "display(calls.head(2))"
   ]
  },
  {
   "cell_type": "markdown",
   "id": "58007aa0",
   "metadata": {},
   "source": [
    "**Таблица `calls` подготовлена для последующей расчётов.**"
   ]
  },
  {
   "cell_type": "markdown",
   "id": "4367dd17",
   "metadata": {},
   "source": [
    "### Предобработка таблицы `messages`"
   ]
  },
  {
   "cell_type": "markdown",
   "id": "ff3933ab",
   "metadata": {},
   "source": [
    "Проверим на явные дубликаты."
   ]
  },
  {
   "cell_type": "code",
   "execution_count": 19,
   "id": "6e63f4c4",
   "metadata": {},
   "outputs": [
    {
     "name": "stdout",
     "output_type": "stream",
     "text": [
      "Количество явных дубликатов в таблице \"messages\": 0\n"
     ]
    }
   ],
   "source": [
    "print('Количество явных дубликатов в таблице \"messages\":', messages.duplicated().sum())"
   ]
  },
  {
   "cell_type": "markdown",
   "id": "45cfb28f",
   "metadata": {},
   "source": [
    "Приведём тип данных столбца `message_date` к формату datetime64."
   ]
  },
  {
   "cell_type": "code",
   "execution_count": 20,
   "id": "e8b68e6f",
   "metadata": {},
   "outputs": [
    {
     "name": "stdout",
     "output_type": "stream",
     "text": [
      "Тип данных столбца \"message_date\": datetime64[ns]\n"
     ]
    }
   ],
   "source": [
    "messages['message_date'] = pd.to_datetime(messages['message_date'], format='%Y-%m-%d')\n",
    "print('Тип данных столбца \"message_date\":', messages['message_date'].dtypes)"
   ]
  },
  {
   "cell_type": "markdown",
   "id": "43eedb5f",
   "metadata": {},
   "source": [
    "Проверим, что данные предоставлены только за 2018 год."
   ]
  },
  {
   "cell_type": "code",
   "execution_count": 21,
   "id": "d1fcdc04",
   "metadata": {},
   "outputs": [
    {
     "name": "stdout",
     "output_type": "stream",
     "text": [
      "Диапазон дат в таблице 'messages' c 2018-01-02 00:00:00 по 2018-12-31 00:00:00.\n"
     ]
    }
   ],
   "source": [
    "print(f\"Диапазон дат в таблице 'messages' c {messages['message_date'].min()} по {messages['message_date'].max()}.\")"
   ]
  },
  {
   "cell_type": "markdown",
   "id": "37ebbb1c",
   "metadata": {},
   "source": [
    "Так как все предоставленные данные относятся только к 2018 году и все расчёты производятся относительно месяца, то создадим столбец `month`."
   ]
  },
  {
   "cell_type": "code",
   "execution_count": 22,
   "id": "91d8ddeb",
   "metadata": {},
   "outputs": [
    {
     "name": "stdout",
     "output_type": "stream",
     "text": [
      "Первые две строки таблицы \"messages\"\n"
     ]
    },
    {
     "data": {
      "text/html": [
       "<div>\n",
       "<style scoped>\n",
       "    .dataframe tbody tr th:only-of-type {\n",
       "        vertical-align: middle;\n",
       "    }\n",
       "\n",
       "    .dataframe tbody tr th {\n",
       "        vertical-align: top;\n",
       "    }\n",
       "\n",
       "    .dataframe thead th {\n",
       "        text-align: right;\n",
       "    }\n",
       "</style>\n",
       "<table border=\"1\" class=\"dataframe\">\n",
       "  <thead>\n",
       "    <tr style=\"text-align: right;\">\n",
       "      <th></th>\n",
       "      <th>id</th>\n",
       "      <th>message_date</th>\n",
       "      <th>user_id</th>\n",
       "      <th>month</th>\n",
       "    </tr>\n",
       "  </thead>\n",
       "  <tbody>\n",
       "    <tr>\n",
       "      <th>0</th>\n",
       "      <td>1000_0</td>\n",
       "      <td>2018-06-27</td>\n",
       "      <td>1000</td>\n",
       "      <td>6</td>\n",
       "    </tr>\n",
       "    <tr>\n",
       "      <th>1</th>\n",
       "      <td>1000_1</td>\n",
       "      <td>2018-10-08</td>\n",
       "      <td>1000</td>\n",
       "      <td>10</td>\n",
       "    </tr>\n",
       "  </tbody>\n",
       "</table>\n",
       "</div>"
      ],
      "text/plain": [
       "       id message_date  user_id  month\n",
       "0  1000_0   2018-06-27     1000      6\n",
       "1  1000_1   2018-10-08     1000     10"
      ]
     },
     "metadata": {},
     "output_type": "display_data"
    }
   ],
   "source": [
    "# создадим столбец 'month' и запоним его значением месяца\n",
    "messages['month'] = pd.DatetimeIndex(messages['message_date']).month\n",
    "print('Первые две строки таблицы \"messages\"')\n",
    "display(messages.head(2))"
   ]
  },
  {
   "cell_type": "markdown",
   "id": "9c5e9f11",
   "metadata": {},
   "source": [
    "Применим фильтр по таблице `churn`, удалим сообщения за последний месяц для ушедших абонентов."
   ]
  },
  {
   "cell_type": "code",
   "execution_count": 23,
   "id": "c6923b26",
   "metadata": {},
   "outputs": [],
   "source": [
    "messages = last_month_delet(messages)"
   ]
  },
  {
   "cell_type": "markdown",
   "id": "b48c60a0",
   "metadata": {},
   "source": [
    "**Таблица `messages` подготовлена для последующей расчётов.**"
   ]
  },
  {
   "cell_type": "markdown",
   "id": "5673ea81",
   "metadata": {},
   "source": [
    "### Предобработка таблицы `internet`"
   ]
  },
  {
   "cell_type": "markdown",
   "id": "e0738528",
   "metadata": {},
   "source": [
    "Проверим на явные дубликаты."
   ]
  },
  {
   "cell_type": "code",
   "execution_count": 24,
   "id": "101d9b2c",
   "metadata": {},
   "outputs": [
    {
     "name": "stdout",
     "output_type": "stream",
     "text": [
      "Количество явных дубликатов в таблице \"internet\": 0\n"
     ]
    }
   ],
   "source": [
    "print('Количество явных дубликатов в таблице \"internet\":', internet.duplicated().sum())"
   ]
  },
  {
   "cell_type": "markdown",
   "id": "e070d486",
   "metadata": {},
   "source": [
    "Удалим столбец `Unnamed: 0`, который является дубликатом индексов."
   ]
  },
  {
   "cell_type": "code",
   "execution_count": 25,
   "id": "a4351c01",
   "metadata": {
    "scrolled": true
   },
   "outputs": [],
   "source": [
    "internet = internet.drop(columns='Unnamed: 0')"
   ]
  },
  {
   "cell_type": "markdown",
   "id": "6bba82ec",
   "metadata": {},
   "source": [
    "Приведём тип данных столбца `session_date` к формату datetime64."
   ]
  },
  {
   "cell_type": "code",
   "execution_count": 26,
   "id": "0490b245",
   "metadata": {},
   "outputs": [
    {
     "name": "stdout",
     "output_type": "stream",
     "text": [
      "Тип данных столбца \"session_date\": datetime64[ns]\n"
     ]
    }
   ],
   "source": [
    "internet['session_date'] = pd.to_datetime(internet['session_date'], format='%Y-%m-%d')\n",
    "print('Тип данных столбца \"session_date\":', internet['session_date'].dtypes)"
   ]
  },
  {
   "cell_type": "markdown",
   "id": "ee313f9b",
   "metadata": {},
   "source": [
    "Проверим, что данные предоставлены только за 2018 год."
   ]
  },
  {
   "cell_type": "code",
   "execution_count": 27,
   "id": "e080cf57",
   "metadata": {},
   "outputs": [
    {
     "name": "stdout",
     "output_type": "stream",
     "text": [
      "Диапазон дат в таблице 'internet' c 2018-01-01 00:00:00 по 2018-12-31 00:00:00.\n"
     ]
    }
   ],
   "source": [
    "print(f\"Диапазон дат в таблице 'internet' c {internet['session_date'].min()} по {internet['session_date'].max()}.\")"
   ]
  },
  {
   "cell_type": "markdown",
   "id": "08ec96d6",
   "metadata": {},
   "source": [
    "Так как все предоставленные данные относятся только к 2018 году и все расчёты производятся относительно месяца, то создадим столбец `month`."
   ]
  },
  {
   "cell_type": "code",
   "execution_count": 28,
   "id": "d2a01706",
   "metadata": {},
   "outputs": [
    {
     "name": "stdout",
     "output_type": "stream",
     "text": [
      "Первые две строки таблицы \"internet\"\n"
     ]
    },
    {
     "data": {
      "text/html": [
       "<div>\n",
       "<style scoped>\n",
       "    .dataframe tbody tr th:only-of-type {\n",
       "        vertical-align: middle;\n",
       "    }\n",
       "\n",
       "    .dataframe tbody tr th {\n",
       "        vertical-align: top;\n",
       "    }\n",
       "\n",
       "    .dataframe thead th {\n",
       "        text-align: right;\n",
       "    }\n",
       "</style>\n",
       "<table border=\"1\" class=\"dataframe\">\n",
       "  <thead>\n",
       "    <tr style=\"text-align: right;\">\n",
       "      <th></th>\n",
       "      <th>id</th>\n",
       "      <th>mb_used</th>\n",
       "      <th>session_date</th>\n",
       "      <th>user_id</th>\n",
       "      <th>month</th>\n",
       "    </tr>\n",
       "  </thead>\n",
       "  <tbody>\n",
       "    <tr>\n",
       "      <th>0</th>\n",
       "      <td>1000_0</td>\n",
       "      <td>112.95</td>\n",
       "      <td>2018-11-25</td>\n",
       "      <td>1000</td>\n",
       "      <td>11</td>\n",
       "    </tr>\n",
       "    <tr>\n",
       "      <th>1</th>\n",
       "      <td>1000_1</td>\n",
       "      <td>1052.81</td>\n",
       "      <td>2018-09-07</td>\n",
       "      <td>1000</td>\n",
       "      <td>9</td>\n",
       "    </tr>\n",
       "  </tbody>\n",
       "</table>\n",
       "</div>"
      ],
      "text/plain": [
       "       id  mb_used session_date  user_id  month\n",
       "0  1000_0   112.95   2018-11-25     1000     11\n",
       "1  1000_1  1052.81   2018-09-07     1000      9"
      ]
     },
     "metadata": {},
     "output_type": "display_data"
    }
   ],
   "source": [
    "# создадим столбец 'month' и запоним его значением месяца\n",
    "internet['month'] = pd.DatetimeIndex(internet['session_date']).month\n",
    "print('Первые две строки таблицы \"internet\"')\n",
    "display(internet.head(2))"
   ]
  },
  {
   "cell_type": "markdown",
   "id": "e2650942",
   "metadata": {},
   "source": [
    "Применим фильтр по таблице `churn`, удалим использование интернета за последний месяц для ушедших абонентов."
   ]
  },
  {
   "cell_type": "code",
   "execution_count": 29,
   "id": "199d95c9",
   "metadata": {},
   "outputs": [],
   "source": [
    "internet = last_month_delet(internet)"
   ]
  },
  {
   "cell_type": "markdown",
   "id": "ffa0a1bb",
   "metadata": {},
   "source": [
    "**Таблица `internet` подготовлена для последующей расчётов.**"
   ]
  },
  {
   "cell_type": "markdown",
   "id": "f299fdea",
   "metadata": {},
   "source": [
    "### Предобработка таблицы `tariffs`"
   ]
  },
  {
   "cell_type": "markdown",
   "id": "b34ec775",
   "metadata": {},
   "source": [
    "Так как расчёты за месяц ведутся относительно ГБ использованного трафика, пересчитаем значения столбца `mb_per_month_included` и переименуем его в `gb_per_month_included`."
   ]
  },
  {
   "cell_type": "code",
   "execution_count": 30,
   "id": "62cc7621",
   "metadata": {
    "scrolled": true
   },
   "outputs": [
    {
     "data": {
      "text/html": [
       "<div>\n",
       "<style scoped>\n",
       "    .dataframe tbody tr th:only-of-type {\n",
       "        vertical-align: middle;\n",
       "    }\n",
       "\n",
       "    .dataframe tbody tr th {\n",
       "        vertical-align: top;\n",
       "    }\n",
       "\n",
       "    .dataframe thead th {\n",
       "        text-align: right;\n",
       "    }\n",
       "</style>\n",
       "<table border=\"1\" class=\"dataframe\">\n",
       "  <thead>\n",
       "    <tr style=\"text-align: right;\">\n",
       "      <th></th>\n",
       "      <th>messages_included</th>\n",
       "      <th>gb_per_month_included</th>\n",
       "      <th>minutes_included</th>\n",
       "      <th>rub_monthly_fee</th>\n",
       "      <th>rub_per_gb</th>\n",
       "      <th>rub_per_message</th>\n",
       "      <th>rub_per_minute</th>\n",
       "      <th>tariff_name</th>\n",
       "    </tr>\n",
       "  </thead>\n",
       "  <tbody>\n",
       "    <tr>\n",
       "      <th>0</th>\n",
       "      <td>50</td>\n",
       "      <td>15.0</td>\n",
       "      <td>500</td>\n",
       "      <td>550</td>\n",
       "      <td>200</td>\n",
       "      <td>3</td>\n",
       "      <td>3</td>\n",
       "      <td>smart</td>\n",
       "    </tr>\n",
       "    <tr>\n",
       "      <th>1</th>\n",
       "      <td>1000</td>\n",
       "      <td>30.0</td>\n",
       "      <td>3000</td>\n",
       "      <td>1950</td>\n",
       "      <td>150</td>\n",
       "      <td>1</td>\n",
       "      <td>1</td>\n",
       "      <td>ultra</td>\n",
       "    </tr>\n",
       "  </tbody>\n",
       "</table>\n",
       "</div>"
      ],
      "text/plain": [
       "   messages_included  gb_per_month_included  minutes_included  \\\n",
       "0                 50                   15.0               500   \n",
       "1               1000                   30.0              3000   \n",
       "\n",
       "   rub_monthly_fee  rub_per_gb  rub_per_message  rub_per_minute tariff_name  \n",
       "0              550         200                3               3       smart  \n",
       "1             1950         150                1               1       ultra  "
      ]
     },
     "execution_count": 30,
     "metadata": {},
     "output_type": "execute_result"
    }
   ],
   "source": [
    "tariffs['mb_per_month_included'] = tariffs['mb_per_month_included']/1024\n",
    "tariffs = tariffs.rename(columns={'mb_per_month_included':'gb_per_month_included'})\n",
    "tariffs"
   ]
  },
  {
   "cell_type": "markdown",
   "id": "e87f6394",
   "metadata": {},
   "source": [
    "**Таблица `tariffs` подготовлена для последующей расчётов.**"
   ]
  },
  {
   "cell_type": "markdown",
   "id": "90ffd04e",
   "metadata": {},
   "source": [
    "<div class=\"alert alert-block alert-success\">\n",
    "<b>✔️ Success:</b> таблицы предобработаны и готовы к работе, отлично!"
   ]
  },
  {
   "cell_type": "markdown",
   "id": "a9a0336b",
   "metadata": {},
   "source": [
    "### Создадим сводную таблицу `users_summary`, в которой сохраним основные показатели месячного использования услуг связи пользователями"
   ]
  },
  {
   "cell_type": "markdown",
   "id": "edb94259",
   "metadata": {},
   "source": [
    "Создадим сводную таблицу `calls_pivot` для всех пользователей совершавших звонки, расчитав количество звонков и общую продолжительность звонков за каждый месяц."
   ]
  },
  {
   "cell_type": "code",
   "execution_count": 31,
   "id": "8b29a1c3",
   "metadata": {
    "scrolled": true
   },
   "outputs": [
    {
     "data": {
      "text/html": [
       "<div>\n",
       "<style scoped>\n",
       "    .dataframe tbody tr th:only-of-type {\n",
       "        vertical-align: middle;\n",
       "    }\n",
       "\n",
       "    .dataframe tbody tr th {\n",
       "        vertical-align: top;\n",
       "    }\n",
       "\n",
       "    .dataframe thead tr th {\n",
       "        text-align: left;\n",
       "    }\n",
       "\n",
       "    .dataframe thead tr:last-of-type th {\n",
       "        text-align: right;\n",
       "    }\n",
       "</style>\n",
       "<table border=\"1\" class=\"dataframe\">\n",
       "  <thead>\n",
       "    <tr>\n",
       "      <th></th>\n",
       "      <th colspan=\"12\" halign=\"left\">calls_count</th>\n",
       "      <th colspan=\"12\" halign=\"left\">duration_sum</th>\n",
       "    </tr>\n",
       "    <tr>\n",
       "      <th>month</th>\n",
       "      <th>1</th>\n",
       "      <th>2</th>\n",
       "      <th>3</th>\n",
       "      <th>4</th>\n",
       "      <th>5</th>\n",
       "      <th>6</th>\n",
       "      <th>7</th>\n",
       "      <th>8</th>\n",
       "      <th>9</th>\n",
       "      <th>10</th>\n",
       "      <th>11</th>\n",
       "      <th>12</th>\n",
       "      <th>1</th>\n",
       "      <th>2</th>\n",
       "      <th>3</th>\n",
       "      <th>4</th>\n",
       "      <th>5</th>\n",
       "      <th>6</th>\n",
       "      <th>7</th>\n",
       "      <th>8</th>\n",
       "      <th>9</th>\n",
       "      <th>10</th>\n",
       "      <th>11</th>\n",
       "      <th>12</th>\n",
       "    </tr>\n",
       "    <tr>\n",
       "      <th>user_id</th>\n",
       "      <th></th>\n",
       "      <th></th>\n",
       "      <th></th>\n",
       "      <th></th>\n",
       "      <th></th>\n",
       "      <th></th>\n",
       "      <th></th>\n",
       "      <th></th>\n",
       "      <th></th>\n",
       "      <th></th>\n",
       "      <th></th>\n",
       "      <th></th>\n",
       "      <th></th>\n",
       "      <th></th>\n",
       "      <th></th>\n",
       "      <th></th>\n",
       "      <th></th>\n",
       "      <th></th>\n",
       "      <th></th>\n",
       "      <th></th>\n",
       "      <th></th>\n",
       "      <th></th>\n",
       "      <th></th>\n",
       "      <th></th>\n",
       "    </tr>\n",
       "  </thead>\n",
       "  <tbody>\n",
       "    <tr>\n",
       "      <th>1000</th>\n",
       "      <td>NaN</td>\n",
       "      <td>NaN</td>\n",
       "      <td>NaN</td>\n",
       "      <td>NaN</td>\n",
       "      <td>22.0</td>\n",
       "      <td>43.0</td>\n",
       "      <td>47.0</td>\n",
       "      <td>52.0</td>\n",
       "      <td>58.0</td>\n",
       "      <td>57.0</td>\n",
       "      <td>43.0</td>\n",
       "      <td>46.0</td>\n",
       "      <td>NaN</td>\n",
       "      <td>NaN</td>\n",
       "      <td>NaN</td>\n",
       "      <td>NaN</td>\n",
       "      <td>159.0</td>\n",
       "      <td>172.0</td>\n",
       "      <td>340.0</td>\n",
       "      <td>408.0</td>\n",
       "      <td>466.0</td>\n",
       "      <td>350.0</td>\n",
       "      <td>338.0</td>\n",
       "      <td>333.0</td>\n",
       "    </tr>\n",
       "    <tr>\n",
       "      <th>1001</th>\n",
       "      <td>NaN</td>\n",
       "      <td>NaN</td>\n",
       "      <td>NaN</td>\n",
       "      <td>NaN</td>\n",
       "      <td>NaN</td>\n",
       "      <td>NaN</td>\n",
       "      <td>NaN</td>\n",
       "      <td>NaN</td>\n",
       "      <td>NaN</td>\n",
       "      <td>NaN</td>\n",
       "      <td>59.0</td>\n",
       "      <td>63.0</td>\n",
       "      <td>NaN</td>\n",
       "      <td>NaN</td>\n",
       "      <td>NaN</td>\n",
       "      <td>NaN</td>\n",
       "      <td>NaN</td>\n",
       "      <td>NaN</td>\n",
       "      <td>NaN</td>\n",
       "      <td>NaN</td>\n",
       "      <td>NaN</td>\n",
       "      <td>NaN</td>\n",
       "      <td>430.0</td>\n",
       "      <td>414.0</td>\n",
       "    </tr>\n",
       "  </tbody>\n",
       "</table>\n",
       "</div>"
      ],
      "text/plain": [
       "        calls_count                                                        \\\n",
       "month            1   2   3   4     5     6     7     8     9     10    11   \n",
       "user_id                                                                     \n",
       "1000            NaN NaN NaN NaN  22.0  43.0  47.0  52.0  58.0  57.0  43.0   \n",
       "1001            NaN NaN NaN NaN   NaN   NaN   NaN   NaN   NaN   NaN  59.0   \n",
       "\n",
       "              duration_sum                                                 \\\n",
       "month      12           1   2   3   4      5      6      7      8      9    \n",
       "user_id                                                                     \n",
       "1000     46.0          NaN NaN NaN NaN  159.0  172.0  340.0  408.0  466.0   \n",
       "1001     63.0          NaN NaN NaN NaN    NaN    NaN    NaN    NaN    NaN   \n",
       "\n",
       "                              \n",
       "month       10     11     12  \n",
       "user_id                       \n",
       "1000     350.0  338.0  333.0  \n",
       "1001       NaN  430.0  414.0  "
      ]
     },
     "metadata": {},
     "output_type": "display_data"
    }
   ],
   "source": [
    "calls_pivot = calls.pivot_table(index = 'user_id', columns = 'month', values = 'duration', aggfunc = ['count','sum'])\n",
    "calls_pivot = calls_pivot.rename( columns = {'count':'calls_count', 'sum':'duration_sum'})\n",
    "display(calls_pivot.head(2))"
   ]
  },
  {
   "cell_type": "markdown",
   "id": "a7b875f8",
   "metadata": {},
   "source": [
    "Создадим сводную таблицу `messages_pivot` для всех пользователей отправлявших сообщения, расчитав количество сообщений за каждый месяц."
   ]
  },
  {
   "cell_type": "code",
   "execution_count": 32,
   "id": "a0f85d3d",
   "metadata": {
    "scrolled": true
   },
   "outputs": [
    {
     "data": {
      "text/html": [
       "<div>\n",
       "<style scoped>\n",
       "    .dataframe tbody tr th:only-of-type {\n",
       "        vertical-align: middle;\n",
       "    }\n",
       "\n",
       "    .dataframe tbody tr th {\n",
       "        vertical-align: top;\n",
       "    }\n",
       "\n",
       "    .dataframe thead tr th {\n",
       "        text-align: left;\n",
       "    }\n",
       "\n",
       "    .dataframe thead tr:last-of-type th {\n",
       "        text-align: right;\n",
       "    }\n",
       "</style>\n",
       "<table border=\"1\" class=\"dataframe\">\n",
       "  <thead>\n",
       "    <tr>\n",
       "      <th></th>\n",
       "      <th colspan=\"12\" halign=\"left\">messages_count</th>\n",
       "    </tr>\n",
       "    <tr>\n",
       "      <th>month</th>\n",
       "      <th>1</th>\n",
       "      <th>2</th>\n",
       "      <th>3</th>\n",
       "      <th>4</th>\n",
       "      <th>5</th>\n",
       "      <th>6</th>\n",
       "      <th>7</th>\n",
       "      <th>8</th>\n",
       "      <th>9</th>\n",
       "      <th>10</th>\n",
       "      <th>11</th>\n",
       "      <th>12</th>\n",
       "    </tr>\n",
       "    <tr>\n",
       "      <th>user_id</th>\n",
       "      <th></th>\n",
       "      <th></th>\n",
       "      <th></th>\n",
       "      <th></th>\n",
       "      <th></th>\n",
       "      <th></th>\n",
       "      <th></th>\n",
       "      <th></th>\n",
       "      <th></th>\n",
       "      <th></th>\n",
       "      <th></th>\n",
       "      <th></th>\n",
       "    </tr>\n",
       "  </thead>\n",
       "  <tbody>\n",
       "    <tr>\n",
       "      <th>1000</th>\n",
       "      <td>NaN</td>\n",
       "      <td>NaN</td>\n",
       "      <td>NaN</td>\n",
       "      <td>NaN</td>\n",
       "      <td>22.0</td>\n",
       "      <td>60.0</td>\n",
       "      <td>75.0</td>\n",
       "      <td>81.0</td>\n",
       "      <td>57.0</td>\n",
       "      <td>73.0</td>\n",
       "      <td>58.0</td>\n",
       "      <td>70.0</td>\n",
       "    </tr>\n",
       "    <tr>\n",
       "      <th>1002</th>\n",
       "      <td>NaN</td>\n",
       "      <td>NaN</td>\n",
       "      <td>NaN</td>\n",
       "      <td>NaN</td>\n",
       "      <td>NaN</td>\n",
       "      <td>4.0</td>\n",
       "      <td>11.0</td>\n",
       "      <td>13.0</td>\n",
       "      <td>4.0</td>\n",
       "      <td>10.0</td>\n",
       "      <td>16.0</td>\n",
       "      <td>12.0</td>\n",
       "    </tr>\n",
       "  </tbody>\n",
       "</table>\n",
       "</div>"
      ],
      "text/plain": [
       "        messages_count                                                        \\\n",
       "month               1   2   3   4     5     6     7     8     9     10    11   \n",
       "user_id                                                                        \n",
       "1000               NaN NaN NaN NaN  22.0  60.0  75.0  81.0  57.0  73.0  58.0   \n",
       "1002               NaN NaN NaN NaN   NaN   4.0  11.0  13.0   4.0  10.0  16.0   \n",
       "\n",
       "               \n",
       "month      12  \n",
       "user_id        \n",
       "1000     70.0  \n",
       "1002     12.0  "
      ]
     },
     "metadata": {},
     "output_type": "display_data"
    }
   ],
   "source": [
    "messages_pivot = messages.pivot_table(index = 'user_id', columns = 'month', values = 'id', aggfunc = ['count'])\n",
    "messages_pivot = messages_pivot.rename( columns = {'count':'messages_count'})\n",
    "display(messages_pivot.head(2))"
   ]
  },
  {
   "cell_type": "markdown",
   "id": "376116e1",
   "metadata": {},
   "source": [
    "Создадим сводную таблицу `internet_pivot` для всех пользователей использовавших интернет, расчитав количество израсходованного трафика в гигабайтах за каждый месяц."
   ]
  },
  {
   "cell_type": "code",
   "execution_count": 33,
   "id": "e62c3eac",
   "metadata": {
    "scrolled": false
   },
   "outputs": [
    {
     "data": {
      "text/html": [
       "<div>\n",
       "<style scoped>\n",
       "    .dataframe tbody tr th:only-of-type {\n",
       "        vertical-align: middle;\n",
       "    }\n",
       "\n",
       "    .dataframe tbody tr th {\n",
       "        vertical-align: top;\n",
       "    }\n",
       "\n",
       "    .dataframe thead tr th {\n",
       "        text-align: left;\n",
       "    }\n",
       "\n",
       "    .dataframe thead tr:last-of-type th {\n",
       "        text-align: right;\n",
       "    }\n",
       "</style>\n",
       "<table border=\"1\" class=\"dataframe\">\n",
       "  <thead>\n",
       "    <tr>\n",
       "      <th></th>\n",
       "      <th colspan=\"12\" halign=\"left\">gb_used</th>\n",
       "    </tr>\n",
       "    <tr>\n",
       "      <th>month</th>\n",
       "      <th>1</th>\n",
       "      <th>2</th>\n",
       "      <th>3</th>\n",
       "      <th>4</th>\n",
       "      <th>5</th>\n",
       "      <th>6</th>\n",
       "      <th>7</th>\n",
       "      <th>8</th>\n",
       "      <th>9</th>\n",
       "      <th>10</th>\n",
       "      <th>11</th>\n",
       "      <th>12</th>\n",
       "    </tr>\n",
       "    <tr>\n",
       "      <th>user_id</th>\n",
       "      <th></th>\n",
       "      <th></th>\n",
       "      <th></th>\n",
       "      <th></th>\n",
       "      <th></th>\n",
       "      <th></th>\n",
       "      <th></th>\n",
       "      <th></th>\n",
       "      <th></th>\n",
       "      <th></th>\n",
       "      <th></th>\n",
       "      <th></th>\n",
       "    </tr>\n",
       "  </thead>\n",
       "  <tbody>\n",
       "    <tr>\n",
       "      <th>1000</th>\n",
       "      <td>NaN</td>\n",
       "      <td>NaN</td>\n",
       "      <td>NaN</td>\n",
       "      <td>NaN</td>\n",
       "      <td>3.0</td>\n",
       "      <td>23.0</td>\n",
       "      <td>14.0</td>\n",
       "      <td>14.0</td>\n",
       "      <td>15.0</td>\n",
       "      <td>15.0</td>\n",
       "      <td>15.0</td>\n",
       "      <td>10.0</td>\n",
       "    </tr>\n",
       "    <tr>\n",
       "      <th>1001</th>\n",
       "      <td>NaN</td>\n",
       "      <td>NaN</td>\n",
       "      <td>NaN</td>\n",
       "      <td>NaN</td>\n",
       "      <td>NaN</td>\n",
       "      <td>NaN</td>\n",
       "      <td>NaN</td>\n",
       "      <td>NaN</td>\n",
       "      <td>NaN</td>\n",
       "      <td>NaN</td>\n",
       "      <td>18.0</td>\n",
       "      <td>14.0</td>\n",
       "    </tr>\n",
       "  </tbody>\n",
       "</table>\n",
       "</div>"
      ],
      "text/plain": [
       "        gb_used                                                           \n",
       "month        1   2   3   4    5     6     7     8     9     10    11    12\n",
       "user_id                                                                   \n",
       "1000        NaN NaN NaN NaN  3.0  23.0  14.0  14.0  15.0  15.0  15.0  10.0\n",
       "1001        NaN NaN NaN NaN  NaN   NaN   NaN   NaN   NaN   NaN  18.0  14.0"
      ]
     },
     "metadata": {},
     "output_type": "display_data"
    }
   ],
   "source": [
    "internet_pivot = internet.pivot_table(index = 'user_id', columns = 'month', values = 'mb_used', aggfunc = ['sum'])\n",
    "internet_pivot = pd.DataFrame(data = np.ceil(internet_pivot.values/1024), columns = internet_pivot.columns, index = internet_pivot.index)\n",
    "internet_pivot = internet_pivot.rename( columns = {'sum':'gb_used'})\n",
    "display(internet_pivot.head(2))"
   ]
  },
  {
   "cell_type": "markdown",
   "id": "dd48a96a",
   "metadata": {},
   "source": [
    "Объединим сводные таблицы `calls_pivot`, `messages_pivot`, `internet_pivot` в одной талице `users_summary`."
   ]
  },
  {
   "cell_type": "code",
   "execution_count": 34,
   "id": "a917d279",
   "metadata": {},
   "outputs": [
    {
     "data": {
      "text/html": [
       "<div>\n",
       "<style scoped>\n",
       "    .dataframe tbody tr th:only-of-type {\n",
       "        vertical-align: middle;\n",
       "    }\n",
       "\n",
       "    .dataframe tbody tr th {\n",
       "        vertical-align: top;\n",
       "    }\n",
       "\n",
       "    .dataframe thead tr th {\n",
       "        text-align: left;\n",
       "    }\n",
       "\n",
       "    .dataframe thead tr:last-of-type th {\n",
       "        text-align: right;\n",
       "    }\n",
       "</style>\n",
       "<table border=\"1\" class=\"dataframe\">\n",
       "  <thead>\n",
       "    <tr>\n",
       "      <th></th>\n",
       "      <th colspan=\"12\" halign=\"left\">calls_count</th>\n",
       "      <th colspan=\"12\" halign=\"left\">duration_sum</th>\n",
       "      <th colspan=\"12\" halign=\"left\">messages_count</th>\n",
       "      <th colspan=\"12\" halign=\"left\">gb_used</th>\n",
       "    </tr>\n",
       "    <tr>\n",
       "      <th>month</th>\n",
       "      <th>1</th>\n",
       "      <th>2</th>\n",
       "      <th>3</th>\n",
       "      <th>4</th>\n",
       "      <th>5</th>\n",
       "      <th>6</th>\n",
       "      <th>7</th>\n",
       "      <th>8</th>\n",
       "      <th>9</th>\n",
       "      <th>10</th>\n",
       "      <th>11</th>\n",
       "      <th>12</th>\n",
       "      <th>1</th>\n",
       "      <th>2</th>\n",
       "      <th>3</th>\n",
       "      <th>4</th>\n",
       "      <th>5</th>\n",
       "      <th>6</th>\n",
       "      <th>7</th>\n",
       "      <th>8</th>\n",
       "      <th>9</th>\n",
       "      <th>10</th>\n",
       "      <th>11</th>\n",
       "      <th>12</th>\n",
       "      <th>1</th>\n",
       "      <th>2</th>\n",
       "      <th>3</th>\n",
       "      <th>4</th>\n",
       "      <th>5</th>\n",
       "      <th>6</th>\n",
       "      <th>7</th>\n",
       "      <th>8</th>\n",
       "      <th>9</th>\n",
       "      <th>10</th>\n",
       "      <th>11</th>\n",
       "      <th>12</th>\n",
       "      <th>1</th>\n",
       "      <th>2</th>\n",
       "      <th>3</th>\n",
       "      <th>4</th>\n",
       "      <th>5</th>\n",
       "      <th>6</th>\n",
       "      <th>7</th>\n",
       "      <th>8</th>\n",
       "      <th>9</th>\n",
       "      <th>10</th>\n",
       "      <th>11</th>\n",
       "      <th>12</th>\n",
       "    </tr>\n",
       "    <tr>\n",
       "      <th>user_id</th>\n",
       "      <th></th>\n",
       "      <th></th>\n",
       "      <th></th>\n",
       "      <th></th>\n",
       "      <th></th>\n",
       "      <th></th>\n",
       "      <th></th>\n",
       "      <th></th>\n",
       "      <th></th>\n",
       "      <th></th>\n",
       "      <th></th>\n",
       "      <th></th>\n",
       "      <th></th>\n",
       "      <th></th>\n",
       "      <th></th>\n",
       "      <th></th>\n",
       "      <th></th>\n",
       "      <th></th>\n",
       "      <th></th>\n",
       "      <th></th>\n",
       "      <th></th>\n",
       "      <th></th>\n",
       "      <th></th>\n",
       "      <th></th>\n",
       "      <th></th>\n",
       "      <th></th>\n",
       "      <th></th>\n",
       "      <th></th>\n",
       "      <th></th>\n",
       "      <th></th>\n",
       "      <th></th>\n",
       "      <th></th>\n",
       "      <th></th>\n",
       "      <th></th>\n",
       "      <th></th>\n",
       "      <th></th>\n",
       "      <th></th>\n",
       "      <th></th>\n",
       "      <th></th>\n",
       "      <th></th>\n",
       "      <th></th>\n",
       "      <th></th>\n",
       "      <th></th>\n",
       "      <th></th>\n",
       "      <th></th>\n",
       "      <th></th>\n",
       "      <th></th>\n",
       "      <th></th>\n",
       "    </tr>\n",
       "  </thead>\n",
       "  <tbody>\n",
       "    <tr>\n",
       "      <th>1000</th>\n",
       "      <td>NaN</td>\n",
       "      <td>NaN</td>\n",
       "      <td>NaN</td>\n",
       "      <td>NaN</td>\n",
       "      <td>22.0</td>\n",
       "      <td>43.0</td>\n",
       "      <td>47.0</td>\n",
       "      <td>52.0</td>\n",
       "      <td>58.0</td>\n",
       "      <td>57.0</td>\n",
       "      <td>43.0</td>\n",
       "      <td>46.0</td>\n",
       "      <td>NaN</td>\n",
       "      <td>NaN</td>\n",
       "      <td>NaN</td>\n",
       "      <td>NaN</td>\n",
       "      <td>159.0</td>\n",
       "      <td>172.0</td>\n",
       "      <td>340.0</td>\n",
       "      <td>408.0</td>\n",
       "      <td>466.0</td>\n",
       "      <td>350.0</td>\n",
       "      <td>338.0</td>\n",
       "      <td>333.0</td>\n",
       "      <td>NaN</td>\n",
       "      <td>NaN</td>\n",
       "      <td>NaN</td>\n",
       "      <td>NaN</td>\n",
       "      <td>22.0</td>\n",
       "      <td>60.0</td>\n",
       "      <td>75.0</td>\n",
       "      <td>81.0</td>\n",
       "      <td>57.0</td>\n",
       "      <td>73.0</td>\n",
       "      <td>58.0</td>\n",
       "      <td>70.0</td>\n",
       "      <td>NaN</td>\n",
       "      <td>NaN</td>\n",
       "      <td>NaN</td>\n",
       "      <td>NaN</td>\n",
       "      <td>3.0</td>\n",
       "      <td>23.0</td>\n",
       "      <td>14.0</td>\n",
       "      <td>14.0</td>\n",
       "      <td>15.0</td>\n",
       "      <td>15.0</td>\n",
       "      <td>15.0</td>\n",
       "      <td>10.0</td>\n",
       "    </tr>\n",
       "    <tr>\n",
       "      <th>1001</th>\n",
       "      <td>NaN</td>\n",
       "      <td>NaN</td>\n",
       "      <td>NaN</td>\n",
       "      <td>NaN</td>\n",
       "      <td>NaN</td>\n",
       "      <td>NaN</td>\n",
       "      <td>NaN</td>\n",
       "      <td>NaN</td>\n",
       "      <td>NaN</td>\n",
       "      <td>NaN</td>\n",
       "      <td>59.0</td>\n",
       "      <td>63.0</td>\n",
       "      <td>NaN</td>\n",
       "      <td>NaN</td>\n",
       "      <td>NaN</td>\n",
       "      <td>NaN</td>\n",
       "      <td>NaN</td>\n",
       "      <td>NaN</td>\n",
       "      <td>NaN</td>\n",
       "      <td>NaN</td>\n",
       "      <td>NaN</td>\n",
       "      <td>NaN</td>\n",
       "      <td>430.0</td>\n",
       "      <td>414.0</td>\n",
       "      <td>NaN</td>\n",
       "      <td>NaN</td>\n",
       "      <td>NaN</td>\n",
       "      <td>NaN</td>\n",
       "      <td>NaN</td>\n",
       "      <td>NaN</td>\n",
       "      <td>NaN</td>\n",
       "      <td>NaN</td>\n",
       "      <td>NaN</td>\n",
       "      <td>NaN</td>\n",
       "      <td>NaN</td>\n",
       "      <td>NaN</td>\n",
       "      <td>NaN</td>\n",
       "      <td>NaN</td>\n",
       "      <td>NaN</td>\n",
       "      <td>NaN</td>\n",
       "      <td>NaN</td>\n",
       "      <td>NaN</td>\n",
       "      <td>NaN</td>\n",
       "      <td>NaN</td>\n",
       "      <td>NaN</td>\n",
       "      <td>NaN</td>\n",
       "      <td>18.0</td>\n",
       "      <td>14.0</td>\n",
       "    </tr>\n",
       "  </tbody>\n",
       "</table>\n",
       "</div>"
      ],
      "text/plain": [
       "        calls_count                                                        \\\n",
       "month            1   2   3   4     5     6     7     8     9     10    11   \n",
       "user_id                                                                     \n",
       "1000            NaN NaN NaN NaN  22.0  43.0  47.0  52.0  58.0  57.0  43.0   \n",
       "1001            NaN NaN NaN NaN   NaN   NaN   NaN   NaN   NaN   NaN  59.0   \n",
       "\n",
       "              duration_sum                                                 \\\n",
       "month      12           1   2   3   4      5      6      7      8      9    \n",
       "user_id                                                                     \n",
       "1000     46.0          NaN NaN NaN NaN  159.0  172.0  340.0  408.0  466.0   \n",
       "1001     63.0          NaN NaN NaN NaN    NaN    NaN    NaN    NaN    NaN   \n",
       "\n",
       "                             messages_count                                \\\n",
       "month       10     11     12             1   2   3   4     5     6     7    \n",
       "user_id                                                                     \n",
       "1000     350.0  338.0  333.0            NaN NaN NaN NaN  22.0  60.0  75.0   \n",
       "1001       NaN  430.0  414.0            NaN NaN NaN NaN   NaN   NaN   NaN   \n",
       "\n",
       "                                      gb_used                               \\\n",
       "month      8     9     10    11    12      1   2   3   4    5     6     7    \n",
       "user_id                                                                      \n",
       "1000     81.0  57.0  73.0  58.0  70.0     NaN NaN NaN NaN  3.0  23.0  14.0   \n",
       "1001      NaN   NaN   NaN   NaN   NaN     NaN NaN NaN NaN  NaN   NaN   NaN   \n",
       "\n",
       "                                       \n",
       "month      8     9     10    11    12  \n",
       "user_id                                \n",
       "1000     14.0  15.0  15.0  15.0  10.0  \n",
       "1001      NaN   NaN   NaN  18.0  14.0  "
      ]
     },
     "metadata": {},
     "output_type": "display_data"
    },
    {
     "name": "stdout",
     "output_type": "stream",
     "text": [
      "Количество клиентов пользовавшихся услугами связи: 498\n"
     ]
    }
   ],
   "source": [
    "users_summary = pd.merge(calls_pivot, messages_pivot, on=['user_id'], how='outer').merge(internet_pivot, on=['user_id'], how='outer')\n",
    "display(users_summary.head(2))\n",
    "print('Количество клиентов пользовавшихся услугами связи:', len(users_summary.index))"
   ]
  },
  {
   "cell_type": "markdown",
   "id": "95ee3c0b",
   "metadata": {},
   "source": [
    "В сводной таблице отсутствует информация по действиям двух клиентов, похоже они не пользовались услугами связи в 2018 году, либо пользовались менее одного месяца и были удалены функцией `last_month_delet`."
   ]
  },
  {
   "cell_type": "code",
   "execution_count": 35,
   "id": "53047a68",
   "metadata": {},
   "outputs": [
    {
     "name": "stdout",
     "output_type": "stream",
     "text": [
      "Клиенты по которым отсутствует информация по действиям в сети оператора.\n"
     ]
    },
    {
     "data": {
      "text/html": [
       "<div>\n",
       "<style scoped>\n",
       "    .dataframe tbody tr th:only-of-type {\n",
       "        vertical-align: middle;\n",
       "    }\n",
       "\n",
       "    .dataframe tbody tr th {\n",
       "        vertical-align: top;\n",
       "    }\n",
       "\n",
       "    .dataframe thead th {\n",
       "        text-align: right;\n",
       "    }\n",
       "</style>\n",
       "<table border=\"1\" class=\"dataframe\">\n",
       "  <thead>\n",
       "    <tr style=\"text-align: right;\">\n",
       "      <th></th>\n",
       "      <th>user_id</th>\n",
       "      <th>age</th>\n",
       "      <th>churn_date</th>\n",
       "      <th>city</th>\n",
       "      <th>first_name</th>\n",
       "      <th>last_name</th>\n",
       "      <th>reg_date</th>\n",
       "      <th>tariff</th>\n",
       "    </tr>\n",
       "  </thead>\n",
       "  <tbody>\n",
       "    <tr>\n",
       "      <th>128</th>\n",
       "      <td>1128</td>\n",
       "      <td>51</td>\n",
       "      <td>2018-12-23</td>\n",
       "      <td>Волжский</td>\n",
       "      <td>Ксения</td>\n",
       "      <td>Агаева</td>\n",
       "      <td>2018-12-15</td>\n",
       "      <td>ultra</td>\n",
       "    </tr>\n",
       "    <tr>\n",
       "      <th>371</th>\n",
       "      <td>1371</td>\n",
       "      <td>50</td>\n",
       "      <td>2018-12-30</td>\n",
       "      <td>Омск</td>\n",
       "      <td>Ириней</td>\n",
       "      <td>Трофимов</td>\n",
       "      <td>2018-12-25</td>\n",
       "      <td>smart</td>\n",
       "    </tr>\n",
       "  </tbody>\n",
       "</table>\n",
       "</div>"
      ],
      "text/plain": [
       "     user_id  age  churn_date      city first_name last_name   reg_date tariff\n",
       "128     1128   51  2018-12-23  Волжский     Ксения    Агаева 2018-12-15  ultra\n",
       "371     1371   50  2018-12-30      Омск     Ириней  Трофимов 2018-12-25  smart"
      ]
     },
     "execution_count": 35,
     "metadata": {},
     "output_type": "execute_result"
    }
   ],
   "source": [
    "print('Клиенты по которым отсутствует информация по действиям в сети оператора.')\n",
    "users[~users['user_id'].isin(users_summary.index)]"
   ]
  },
  {
   "cell_type": "markdown",
   "id": "fc5f07d3",
   "metadata": {},
   "source": [
    "### Разделим таблицу `users_summary` на две, согласно используемого тарифа:\n",
    "1. `users_summary_smart` для тарифа \"Смарт\",\n",
    "2. `users_summary_ultra` для тарифа \"Ультра\"."
   ]
  },
  {
   "cell_type": "code",
   "execution_count": 36,
   "id": "7968617f",
   "metadata": {},
   "outputs": [
    {
     "name": "stdout",
     "output_type": "stream",
     "text": [
      "\n",
      "Число абонентов тарифа \"Смарт\": 350\n",
      "Первые две строки таблицы \"users_summary_smart\"\n"
     ]
    },
    {
     "data": {
      "text/html": [
       "<div>\n",
       "<style scoped>\n",
       "    .dataframe tbody tr th:only-of-type {\n",
       "        vertical-align: middle;\n",
       "    }\n",
       "\n",
       "    .dataframe tbody tr th {\n",
       "        vertical-align: top;\n",
       "    }\n",
       "\n",
       "    .dataframe thead tr th {\n",
       "        text-align: left;\n",
       "    }\n",
       "\n",
       "    .dataframe thead tr:last-of-type th {\n",
       "        text-align: right;\n",
       "    }\n",
       "</style>\n",
       "<table border=\"1\" class=\"dataframe\">\n",
       "  <thead>\n",
       "    <tr>\n",
       "      <th></th>\n",
       "      <th colspan=\"12\" halign=\"left\">calls_count</th>\n",
       "      <th colspan=\"12\" halign=\"left\">duration_sum</th>\n",
       "      <th colspan=\"12\" halign=\"left\">messages_count</th>\n",
       "      <th colspan=\"12\" halign=\"left\">gb_used</th>\n",
       "    </tr>\n",
       "    <tr>\n",
       "      <th>month</th>\n",
       "      <th>1</th>\n",
       "      <th>2</th>\n",
       "      <th>3</th>\n",
       "      <th>4</th>\n",
       "      <th>5</th>\n",
       "      <th>6</th>\n",
       "      <th>7</th>\n",
       "      <th>8</th>\n",
       "      <th>9</th>\n",
       "      <th>10</th>\n",
       "      <th>11</th>\n",
       "      <th>12</th>\n",
       "      <th>1</th>\n",
       "      <th>2</th>\n",
       "      <th>3</th>\n",
       "      <th>4</th>\n",
       "      <th>5</th>\n",
       "      <th>6</th>\n",
       "      <th>7</th>\n",
       "      <th>8</th>\n",
       "      <th>9</th>\n",
       "      <th>10</th>\n",
       "      <th>11</th>\n",
       "      <th>12</th>\n",
       "      <th>1</th>\n",
       "      <th>2</th>\n",
       "      <th>3</th>\n",
       "      <th>4</th>\n",
       "      <th>5</th>\n",
       "      <th>6</th>\n",
       "      <th>7</th>\n",
       "      <th>8</th>\n",
       "      <th>9</th>\n",
       "      <th>10</th>\n",
       "      <th>11</th>\n",
       "      <th>12</th>\n",
       "      <th>1</th>\n",
       "      <th>2</th>\n",
       "      <th>3</th>\n",
       "      <th>4</th>\n",
       "      <th>5</th>\n",
       "      <th>6</th>\n",
       "      <th>7</th>\n",
       "      <th>8</th>\n",
       "      <th>9</th>\n",
       "      <th>10</th>\n",
       "      <th>11</th>\n",
       "      <th>12</th>\n",
       "    </tr>\n",
       "    <tr>\n",
       "      <th>user_id</th>\n",
       "      <th></th>\n",
       "      <th></th>\n",
       "      <th></th>\n",
       "      <th></th>\n",
       "      <th></th>\n",
       "      <th></th>\n",
       "      <th></th>\n",
       "      <th></th>\n",
       "      <th></th>\n",
       "      <th></th>\n",
       "      <th></th>\n",
       "      <th></th>\n",
       "      <th></th>\n",
       "      <th></th>\n",
       "      <th></th>\n",
       "      <th></th>\n",
       "      <th></th>\n",
       "      <th></th>\n",
       "      <th></th>\n",
       "      <th></th>\n",
       "      <th></th>\n",
       "      <th></th>\n",
       "      <th></th>\n",
       "      <th></th>\n",
       "      <th></th>\n",
       "      <th></th>\n",
       "      <th></th>\n",
       "      <th></th>\n",
       "      <th></th>\n",
       "      <th></th>\n",
       "      <th></th>\n",
       "      <th></th>\n",
       "      <th></th>\n",
       "      <th></th>\n",
       "      <th></th>\n",
       "      <th></th>\n",
       "      <th></th>\n",
       "      <th></th>\n",
       "      <th></th>\n",
       "      <th></th>\n",
       "      <th></th>\n",
       "      <th></th>\n",
       "      <th></th>\n",
       "      <th></th>\n",
       "      <th></th>\n",
       "      <th></th>\n",
       "      <th></th>\n",
       "      <th></th>\n",
       "    </tr>\n",
       "  </thead>\n",
       "  <tbody>\n",
       "    <tr>\n",
       "      <th>1001</th>\n",
       "      <td>NaN</td>\n",
       "      <td>NaN</td>\n",
       "      <td>NaN</td>\n",
       "      <td>NaN</td>\n",
       "      <td>NaN</td>\n",
       "      <td>NaN</td>\n",
       "      <td>NaN</td>\n",
       "      <td>NaN</td>\n",
       "      <td>NaN</td>\n",
       "      <td>NaN</td>\n",
       "      <td>59.0</td>\n",
       "      <td>63.0</td>\n",
       "      <td>NaN</td>\n",
       "      <td>NaN</td>\n",
       "      <td>NaN</td>\n",
       "      <td>NaN</td>\n",
       "      <td>NaN</td>\n",
       "      <td>NaN</td>\n",
       "      <td>NaN</td>\n",
       "      <td>NaN</td>\n",
       "      <td>NaN</td>\n",
       "      <td>NaN</td>\n",
       "      <td>430.0</td>\n",
       "      <td>414.0</td>\n",
       "      <td>NaN</td>\n",
       "      <td>NaN</td>\n",
       "      <td>NaN</td>\n",
       "      <td>NaN</td>\n",
       "      <td>NaN</td>\n",
       "      <td>NaN</td>\n",
       "      <td>NaN</td>\n",
       "      <td>NaN</td>\n",
       "      <td>NaN</td>\n",
       "      <td>NaN</td>\n",
       "      <td>NaN</td>\n",
       "      <td>NaN</td>\n",
       "      <td>NaN</td>\n",
       "      <td>NaN</td>\n",
       "      <td>NaN</td>\n",
       "      <td>NaN</td>\n",
       "      <td>NaN</td>\n",
       "      <td>NaN</td>\n",
       "      <td>NaN</td>\n",
       "      <td>NaN</td>\n",
       "      <td>NaN</td>\n",
       "      <td>NaN</td>\n",
       "      <td>18.0</td>\n",
       "      <td>14.0</td>\n",
       "    </tr>\n",
       "    <tr>\n",
       "      <th>1002</th>\n",
       "      <td>NaN</td>\n",
       "      <td>NaN</td>\n",
       "      <td>NaN</td>\n",
       "      <td>NaN</td>\n",
       "      <td>NaN</td>\n",
       "      <td>15.0</td>\n",
       "      <td>26.0</td>\n",
       "      <td>42.0</td>\n",
       "      <td>36.0</td>\n",
       "      <td>33.0</td>\n",
       "      <td>32.0</td>\n",
       "      <td>33.0</td>\n",
       "      <td>NaN</td>\n",
       "      <td>NaN</td>\n",
       "      <td>NaN</td>\n",
       "      <td>NaN</td>\n",
       "      <td>NaN</td>\n",
       "      <td>117.0</td>\n",
       "      <td>214.0</td>\n",
       "      <td>289.0</td>\n",
       "      <td>206.0</td>\n",
       "      <td>212.0</td>\n",
       "      <td>243.0</td>\n",
       "      <td>236.0</td>\n",
       "      <td>NaN</td>\n",
       "      <td>NaN</td>\n",
       "      <td>NaN</td>\n",
       "      <td>NaN</td>\n",
       "      <td>NaN</td>\n",
       "      <td>4.0</td>\n",
       "      <td>11.0</td>\n",
       "      <td>13.0</td>\n",
       "      <td>4.0</td>\n",
       "      <td>10.0</td>\n",
       "      <td>16.0</td>\n",
       "      <td>12.0</td>\n",
       "      <td>NaN</td>\n",
       "      <td>NaN</td>\n",
       "      <td>NaN</td>\n",
       "      <td>NaN</td>\n",
       "      <td>NaN</td>\n",
       "      <td>11.0</td>\n",
       "      <td>18.0</td>\n",
       "      <td>20.0</td>\n",
       "      <td>17.0</td>\n",
       "      <td>14.0</td>\n",
       "      <td>19.0</td>\n",
       "      <td>18.0</td>\n",
       "    </tr>\n",
       "  </tbody>\n",
       "</table>\n",
       "</div>"
      ],
      "text/plain": [
       "        calls_count                                                            \\\n",
       "month            1   2   3   4   5     6     7     8     9     10    11    12   \n",
       "user_id                                                                         \n",
       "1001            NaN NaN NaN NaN NaN   NaN   NaN   NaN   NaN   NaN  59.0  63.0   \n",
       "1002            NaN NaN NaN NaN NaN  15.0  26.0  42.0  36.0  33.0  32.0  33.0   \n",
       "\n",
       "        duration_sum                                                     \\\n",
       "month             1   2   3   4   5      6      7      8      9      10   \n",
       "user_id                                                                   \n",
       "1001             NaN NaN NaN NaN NaN    NaN    NaN    NaN    NaN    NaN   \n",
       "1002             NaN NaN NaN NaN NaN  117.0  214.0  289.0  206.0  212.0   \n",
       "\n",
       "                      messages_count                                        \\\n",
       "month       11     12             1   2   3   4   5    6     7     8    9    \n",
       "user_id                                                                      \n",
       "1001     430.0  414.0            NaN NaN NaN NaN NaN  NaN   NaN   NaN  NaN   \n",
       "1002     243.0  236.0            NaN NaN NaN NaN NaN  4.0  11.0  13.0  4.0   \n",
       "\n",
       "                          gb_used                                          \\\n",
       "month      10    11    12      1   2   3   4   5     6     7     8     9    \n",
       "user_id                                                                     \n",
       "1001      NaN   NaN   NaN     NaN NaN NaN NaN NaN   NaN   NaN   NaN   NaN   \n",
       "1002     10.0  16.0  12.0     NaN NaN NaN NaN NaN  11.0  18.0  20.0  17.0   \n",
       "\n",
       "                           \n",
       "month      10    11    12  \n",
       "user_id                    \n",
       "1001      NaN  18.0  14.0  \n",
       "1002     14.0  19.0  18.0  "
      ]
     },
     "metadata": {},
     "output_type": "display_data"
    },
    {
     "name": "stdout",
     "output_type": "stream",
     "text": [
      "\n",
      "Число абонентов тарифа \"Ультра\": 148\n",
      "Первые две строки таблицы \"users_summary_ultra\"\n"
     ]
    },
    {
     "data": {
      "text/html": [
       "<div>\n",
       "<style scoped>\n",
       "    .dataframe tbody tr th:only-of-type {\n",
       "        vertical-align: middle;\n",
       "    }\n",
       "\n",
       "    .dataframe tbody tr th {\n",
       "        vertical-align: top;\n",
       "    }\n",
       "\n",
       "    .dataframe thead tr th {\n",
       "        text-align: left;\n",
       "    }\n",
       "\n",
       "    .dataframe thead tr:last-of-type th {\n",
       "        text-align: right;\n",
       "    }\n",
       "</style>\n",
       "<table border=\"1\" class=\"dataframe\">\n",
       "  <thead>\n",
       "    <tr>\n",
       "      <th></th>\n",
       "      <th colspan=\"12\" halign=\"left\">calls_count</th>\n",
       "      <th colspan=\"12\" halign=\"left\">duration_sum</th>\n",
       "      <th colspan=\"12\" halign=\"left\">messages_count</th>\n",
       "      <th colspan=\"12\" halign=\"left\">gb_used</th>\n",
       "    </tr>\n",
       "    <tr>\n",
       "      <th>month</th>\n",
       "      <th>1</th>\n",
       "      <th>2</th>\n",
       "      <th>3</th>\n",
       "      <th>4</th>\n",
       "      <th>5</th>\n",
       "      <th>6</th>\n",
       "      <th>7</th>\n",
       "      <th>8</th>\n",
       "      <th>9</th>\n",
       "      <th>10</th>\n",
       "      <th>11</th>\n",
       "      <th>12</th>\n",
       "      <th>1</th>\n",
       "      <th>2</th>\n",
       "      <th>3</th>\n",
       "      <th>4</th>\n",
       "      <th>5</th>\n",
       "      <th>6</th>\n",
       "      <th>7</th>\n",
       "      <th>8</th>\n",
       "      <th>9</th>\n",
       "      <th>10</th>\n",
       "      <th>11</th>\n",
       "      <th>12</th>\n",
       "      <th>1</th>\n",
       "      <th>2</th>\n",
       "      <th>3</th>\n",
       "      <th>4</th>\n",
       "      <th>5</th>\n",
       "      <th>6</th>\n",
       "      <th>7</th>\n",
       "      <th>8</th>\n",
       "      <th>9</th>\n",
       "      <th>10</th>\n",
       "      <th>11</th>\n",
       "      <th>12</th>\n",
       "      <th>1</th>\n",
       "      <th>2</th>\n",
       "      <th>3</th>\n",
       "      <th>4</th>\n",
       "      <th>5</th>\n",
       "      <th>6</th>\n",
       "      <th>7</th>\n",
       "      <th>8</th>\n",
       "      <th>9</th>\n",
       "      <th>10</th>\n",
       "      <th>11</th>\n",
       "      <th>12</th>\n",
       "    </tr>\n",
       "    <tr>\n",
       "      <th>user_id</th>\n",
       "      <th></th>\n",
       "      <th></th>\n",
       "      <th></th>\n",
       "      <th></th>\n",
       "      <th></th>\n",
       "      <th></th>\n",
       "      <th></th>\n",
       "      <th></th>\n",
       "      <th></th>\n",
       "      <th></th>\n",
       "      <th></th>\n",
       "      <th></th>\n",
       "      <th></th>\n",
       "      <th></th>\n",
       "      <th></th>\n",
       "      <th></th>\n",
       "      <th></th>\n",
       "      <th></th>\n",
       "      <th></th>\n",
       "      <th></th>\n",
       "      <th></th>\n",
       "      <th></th>\n",
       "      <th></th>\n",
       "      <th></th>\n",
       "      <th></th>\n",
       "      <th></th>\n",
       "      <th></th>\n",
       "      <th></th>\n",
       "      <th></th>\n",
       "      <th></th>\n",
       "      <th></th>\n",
       "      <th></th>\n",
       "      <th></th>\n",
       "      <th></th>\n",
       "      <th></th>\n",
       "      <th></th>\n",
       "      <th></th>\n",
       "      <th></th>\n",
       "      <th></th>\n",
       "      <th></th>\n",
       "      <th></th>\n",
       "      <th></th>\n",
       "      <th></th>\n",
       "      <th></th>\n",
       "      <th></th>\n",
       "      <th></th>\n",
       "      <th></th>\n",
       "      <th></th>\n",
       "    </tr>\n",
       "  </thead>\n",
       "  <tbody>\n",
       "    <tr>\n",
       "      <th>1000</th>\n",
       "      <td>NaN</td>\n",
       "      <td>NaN</td>\n",
       "      <td>NaN</td>\n",
       "      <td>NaN</td>\n",
       "      <td>22.0</td>\n",
       "      <td>43.0</td>\n",
       "      <td>47.0</td>\n",
       "      <td>52.0</td>\n",
       "      <td>58.0</td>\n",
       "      <td>57.0</td>\n",
       "      <td>43.0</td>\n",
       "      <td>46.0</td>\n",
       "      <td>NaN</td>\n",
       "      <td>NaN</td>\n",
       "      <td>NaN</td>\n",
       "      <td>NaN</td>\n",
       "      <td>159.0</td>\n",
       "      <td>172.0</td>\n",
       "      <td>340.0</td>\n",
       "      <td>408.0</td>\n",
       "      <td>466.0</td>\n",
       "      <td>350.0</td>\n",
       "      <td>338.0</td>\n",
       "      <td>333.0</td>\n",
       "      <td>NaN</td>\n",
       "      <td>NaN</td>\n",
       "      <td>NaN</td>\n",
       "      <td>NaN</td>\n",
       "      <td>22.0</td>\n",
       "      <td>60.0</td>\n",
       "      <td>75.0</td>\n",
       "      <td>81.0</td>\n",
       "      <td>57.0</td>\n",
       "      <td>73.0</td>\n",
       "      <td>58.0</td>\n",
       "      <td>70.0</td>\n",
       "      <td>NaN</td>\n",
       "      <td>NaN</td>\n",
       "      <td>NaN</td>\n",
       "      <td>NaN</td>\n",
       "      <td>3.0</td>\n",
       "      <td>23.0</td>\n",
       "      <td>14.0</td>\n",
       "      <td>14.0</td>\n",
       "      <td>15.0</td>\n",
       "      <td>15.0</td>\n",
       "      <td>15.0</td>\n",
       "      <td>10.0</td>\n",
       "    </tr>\n",
       "    <tr>\n",
       "      <th>1003</th>\n",
       "      <td>NaN</td>\n",
       "      <td>NaN</td>\n",
       "      <td>NaN</td>\n",
       "      <td>NaN</td>\n",
       "      <td>NaN</td>\n",
       "      <td>NaN</td>\n",
       "      <td>NaN</td>\n",
       "      <td>55.0</td>\n",
       "      <td>134.0</td>\n",
       "      <td>108.0</td>\n",
       "      <td>115.0</td>\n",
       "      <td>108.0</td>\n",
       "      <td>NaN</td>\n",
       "      <td>NaN</td>\n",
       "      <td>NaN</td>\n",
       "      <td>NaN</td>\n",
       "      <td>NaN</td>\n",
       "      <td>NaN</td>\n",
       "      <td>NaN</td>\n",
       "      <td>380.0</td>\n",
       "      <td>961.0</td>\n",
       "      <td>855.0</td>\n",
       "      <td>824.0</td>\n",
       "      <td>802.0</td>\n",
       "      <td>NaN</td>\n",
       "      <td>NaN</td>\n",
       "      <td>NaN</td>\n",
       "      <td>NaN</td>\n",
       "      <td>NaN</td>\n",
       "      <td>NaN</td>\n",
       "      <td>NaN</td>\n",
       "      <td>37.0</td>\n",
       "      <td>91.0</td>\n",
       "      <td>83.0</td>\n",
       "      <td>94.0</td>\n",
       "      <td>75.0</td>\n",
       "      <td>NaN</td>\n",
       "      <td>NaN</td>\n",
       "      <td>NaN</td>\n",
       "      <td>NaN</td>\n",
       "      <td>NaN</td>\n",
       "      <td>NaN</td>\n",
       "      <td>NaN</td>\n",
       "      <td>9.0</td>\n",
       "      <td>13.0</td>\n",
       "      <td>15.0</td>\n",
       "      <td>12.0</td>\n",
       "      <td>10.0</td>\n",
       "    </tr>\n",
       "  </tbody>\n",
       "</table>\n",
       "</div>"
      ],
      "text/plain": [
       "        calls_count                                                           \\\n",
       "month            1   2   3   4     5     6     7     8      9      10     11   \n",
       "user_id                                                                        \n",
       "1000            NaN NaN NaN NaN  22.0  43.0  47.0  52.0   58.0   57.0   43.0   \n",
       "1003            NaN NaN NaN NaN   NaN   NaN   NaN  55.0  134.0  108.0  115.0   \n",
       "\n",
       "               duration_sum                                                 \\\n",
       "month       12           1   2   3   4      5      6      7      8      9    \n",
       "user_id                                                                      \n",
       "1000      46.0          NaN NaN NaN NaN  159.0  172.0  340.0  408.0  466.0   \n",
       "1003     108.0          NaN NaN NaN NaN    NaN    NaN    NaN  380.0  961.0   \n",
       "\n",
       "                             messages_count                                \\\n",
       "month       10     11     12             1   2   3   4     5     6     7    \n",
       "user_id                                                                     \n",
       "1000     350.0  338.0  333.0            NaN NaN NaN NaN  22.0  60.0  75.0   \n",
       "1003     855.0  824.0  802.0            NaN NaN NaN NaN   NaN   NaN   NaN   \n",
       "\n",
       "                                      gb_used                               \\\n",
       "month      8     9     10    11    12      1   2   3   4    5     6     7    \n",
       "user_id                                                                      \n",
       "1000     81.0  57.0  73.0  58.0  70.0     NaN NaN NaN NaN  3.0  23.0  14.0   \n",
       "1003     37.0  91.0  83.0  94.0  75.0     NaN NaN NaN NaN  NaN   NaN   NaN   \n",
       "\n",
       "                                       \n",
       "month      8     9     10    11    12  \n",
       "user_id                                \n",
       "1000     14.0  15.0  15.0  15.0  10.0  \n",
       "1003      9.0  13.0  15.0  12.0  10.0  "
      ]
     },
     "metadata": {},
     "output_type": "display_data"
    }
   ],
   "source": [
    "users_summary_smart = users_summary[users_summary.index.isin(users.query('tariff == \"smart\"')['user_id'])]\n",
    "users_summary_ultra = users_summary[users_summary.index.isin(users.query('tariff == \"ultra\"')['user_id'])]\n",
    "print('\\nЧисло абонентов тарифа \"Смарт\":', len(users_summary_smart.index))\n",
    "print('Первые две строки таблицы \"users_summary_smart\"')\n",
    "display(users_summary_smart.head(2))\n",
    "print('\\nЧисло абонентов тарифа \"Ультра\":', len(users_summary_ultra.index))\n",
    "print('Первые две строки таблицы \"users_summary_ultra\"')\n",
    "display(users_summary_ultra.head(2))"
   ]
  },
  {
   "cell_type": "markdown",
   "id": "f4536b91",
   "metadata": {},
   "source": [
    "Создадим функцию расчёта помесячной выручки с каждого абонента, которую применим для таблиц: `users_summary_smart`, `users_summary_smart`. \n",
    "\n",
    "Функция будет принимать два параметра:\n",
    "1. `talbe_summary` - таблица для которой производится расчёт,\n",
    "2. `tariff` - тип тарифного плана, 0 - Смарт, 1 - Ультра."
   ]
  },
  {
   "cell_type": "code",
   "execution_count": 37,
   "id": "e2905683",
   "metadata": {},
   "outputs": [],
   "source": [
    "# функция, парметр таблица и тип тарифа.\n",
    "def income(talbe_summary, tariff):\n",
    "    # создадим маску указывающую на активность пользователя, по ней будет определяться\n",
    "    # наличие договора у данного пользователя для начисления абонентской платы\n",
    "    activ_user = (\n",
    "    talbe_summary['calls_count'].notna() \n",
    "    | talbe_summary['duration_sum'].notna() \n",
    "    | talbe_summary['messages_count'].notna() \n",
    "    | talbe_summary['gb_used'].notna()\n",
    "    )\n",
    "    # формирование таблицы ежемесячного платежа\n",
    "    table_income = pd.DataFrame(\n",
    "        np.nan_to_num((talbe_summary['duration_sum'][talbe_summary['duration_sum'] > tariffs.loc[tariff, 'minutes_included']]\n",
    "                       - tariffs.loc[tariff, 'minutes_included']) * tariffs.loc[tariff, 'rub_per_minute'],copy=False, nan=0.0)\n",
    "        + np.nan_to_num((talbe_summary['messages_count'][talbe_summary['messages_count'] > tariffs.loc[tariff, 'messages_included']]\n",
    "                         - tariffs.loc[tariff, 'messages_included']) * tariffs.loc[tariff, 'rub_per_message'],copy=False, nan=0.0)\n",
    "        + np.nan_to_num((talbe_summary['gb_used'][talbe_summary['gb_used'] > tariffs.loc[tariff, 'gb_per_month_included']]\n",
    "                         - tariffs.loc[tariff, 'gb_per_month_included']) * tariffs.loc[tariff, 'rub_per_gb'],copy=False, nan=0.0)\n",
    "        + activ_user.replace(True, tariffs.loc[tariff, 'rub_monthly_fee']).replace(False, 0)\n",
    "    )\n",
    "    # установка двух уровневого обозначения столбцов: верхний уровень 'income', нижний уровень месяц от 1 до 12\n",
    "    table_income.columns = pd.MultiIndex.from_tuples([('income', i) for i in range(1,13)])\n",
    "    return table_income"
   ]
  },
  {
   "cell_type": "markdown",
   "id": "a24665bf",
   "metadata": {},
   "source": [
    "<div class=\"alert alert-block alert-success\">\n",
    "<b>✔️ Success:</b> отличная функция!"
   ]
  },
  {
   "cell_type": "markdown",
   "id": "68b7d6e6",
   "metadata": {},
   "source": [
    "Расширим таблицу `users_summary_smart`, дописав в неё помесячную выручку с каждого пользователя тарифа \"Смарт\", применим для этого ранее созданную функцию `income`."
   ]
  },
  {
   "cell_type": "code",
   "execution_count": 38,
   "id": "5f95947e",
   "metadata": {
    "scrolled": true
   },
   "outputs": [
    {
     "name": "stdout",
     "output_type": "stream",
     "text": [
      "\n",
      "Первые две строки полной сводной таблицы по клиентам тарифа \"Смарт\"\n"
     ]
    },
    {
     "data": {
      "text/html": [
       "<div>\n",
       "<style scoped>\n",
       "    .dataframe tbody tr th:only-of-type {\n",
       "        vertical-align: middle;\n",
       "    }\n",
       "\n",
       "    .dataframe tbody tr th {\n",
       "        vertical-align: top;\n",
       "    }\n",
       "\n",
       "    .dataframe thead tr th {\n",
       "        text-align: left;\n",
       "    }\n",
       "\n",
       "    .dataframe thead tr:last-of-type th {\n",
       "        text-align: right;\n",
       "    }\n",
       "</style>\n",
       "<table border=\"1\" class=\"dataframe\">\n",
       "  <thead>\n",
       "    <tr>\n",
       "      <th></th>\n",
       "      <th colspan=\"12\" halign=\"left\">calls_count</th>\n",
       "      <th colspan=\"12\" halign=\"left\">duration_sum</th>\n",
       "      <th colspan=\"12\" halign=\"left\">messages_count</th>\n",
       "      <th colspan=\"12\" halign=\"left\">gb_used</th>\n",
       "      <th colspan=\"12\" halign=\"left\">income</th>\n",
       "    </tr>\n",
       "    <tr>\n",
       "      <th>month</th>\n",
       "      <th>1</th>\n",
       "      <th>2</th>\n",
       "      <th>3</th>\n",
       "      <th>4</th>\n",
       "      <th>5</th>\n",
       "      <th>6</th>\n",
       "      <th>7</th>\n",
       "      <th>8</th>\n",
       "      <th>9</th>\n",
       "      <th>10</th>\n",
       "      <th>11</th>\n",
       "      <th>12</th>\n",
       "      <th>1</th>\n",
       "      <th>2</th>\n",
       "      <th>3</th>\n",
       "      <th>4</th>\n",
       "      <th>5</th>\n",
       "      <th>6</th>\n",
       "      <th>7</th>\n",
       "      <th>8</th>\n",
       "      <th>9</th>\n",
       "      <th>10</th>\n",
       "      <th>11</th>\n",
       "      <th>12</th>\n",
       "      <th>1</th>\n",
       "      <th>2</th>\n",
       "      <th>3</th>\n",
       "      <th>4</th>\n",
       "      <th>5</th>\n",
       "      <th>6</th>\n",
       "      <th>7</th>\n",
       "      <th>8</th>\n",
       "      <th>9</th>\n",
       "      <th>10</th>\n",
       "      <th>11</th>\n",
       "      <th>12</th>\n",
       "      <th>1</th>\n",
       "      <th>2</th>\n",
       "      <th>3</th>\n",
       "      <th>4</th>\n",
       "      <th>5</th>\n",
       "      <th>6</th>\n",
       "      <th>7</th>\n",
       "      <th>8</th>\n",
       "      <th>9</th>\n",
       "      <th>10</th>\n",
       "      <th>11</th>\n",
       "      <th>12</th>\n",
       "      <th>1</th>\n",
       "      <th>2</th>\n",
       "      <th>3</th>\n",
       "      <th>4</th>\n",
       "      <th>5</th>\n",
       "      <th>6</th>\n",
       "      <th>7</th>\n",
       "      <th>8</th>\n",
       "      <th>9</th>\n",
       "      <th>10</th>\n",
       "      <th>11</th>\n",
       "      <th>12</th>\n",
       "    </tr>\n",
       "    <tr>\n",
       "      <th>user_id</th>\n",
       "      <th></th>\n",
       "      <th></th>\n",
       "      <th></th>\n",
       "      <th></th>\n",
       "      <th></th>\n",
       "      <th></th>\n",
       "      <th></th>\n",
       "      <th></th>\n",
       "      <th></th>\n",
       "      <th></th>\n",
       "      <th></th>\n",
       "      <th></th>\n",
       "      <th></th>\n",
       "      <th></th>\n",
       "      <th></th>\n",
       "      <th></th>\n",
       "      <th></th>\n",
       "      <th></th>\n",
       "      <th></th>\n",
       "      <th></th>\n",
       "      <th></th>\n",
       "      <th></th>\n",
       "      <th></th>\n",
       "      <th></th>\n",
       "      <th></th>\n",
       "      <th></th>\n",
       "      <th></th>\n",
       "      <th></th>\n",
       "      <th></th>\n",
       "      <th></th>\n",
       "      <th></th>\n",
       "      <th></th>\n",
       "      <th></th>\n",
       "      <th></th>\n",
       "      <th></th>\n",
       "      <th></th>\n",
       "      <th></th>\n",
       "      <th></th>\n",
       "      <th></th>\n",
       "      <th></th>\n",
       "      <th></th>\n",
       "      <th></th>\n",
       "      <th></th>\n",
       "      <th></th>\n",
       "      <th></th>\n",
       "      <th></th>\n",
       "      <th></th>\n",
       "      <th></th>\n",
       "      <th></th>\n",
       "      <th></th>\n",
       "      <th></th>\n",
       "      <th></th>\n",
       "      <th></th>\n",
       "      <th></th>\n",
       "      <th></th>\n",
       "      <th></th>\n",
       "      <th></th>\n",
       "      <th></th>\n",
       "      <th></th>\n",
       "      <th></th>\n",
       "    </tr>\n",
       "  </thead>\n",
       "  <tbody>\n",
       "    <tr>\n",
       "      <th>1001</th>\n",
       "      <td>NaN</td>\n",
       "      <td>NaN</td>\n",
       "      <td>NaN</td>\n",
       "      <td>NaN</td>\n",
       "      <td>NaN</td>\n",
       "      <td>NaN</td>\n",
       "      <td>NaN</td>\n",
       "      <td>NaN</td>\n",
       "      <td>NaN</td>\n",
       "      <td>NaN</td>\n",
       "      <td>59.0</td>\n",
       "      <td>63.0</td>\n",
       "      <td>NaN</td>\n",
       "      <td>NaN</td>\n",
       "      <td>NaN</td>\n",
       "      <td>NaN</td>\n",
       "      <td>NaN</td>\n",
       "      <td>NaN</td>\n",
       "      <td>NaN</td>\n",
       "      <td>NaN</td>\n",
       "      <td>NaN</td>\n",
       "      <td>NaN</td>\n",
       "      <td>430.0</td>\n",
       "      <td>414.0</td>\n",
       "      <td>NaN</td>\n",
       "      <td>NaN</td>\n",
       "      <td>NaN</td>\n",
       "      <td>NaN</td>\n",
       "      <td>NaN</td>\n",
       "      <td>NaN</td>\n",
       "      <td>NaN</td>\n",
       "      <td>NaN</td>\n",
       "      <td>NaN</td>\n",
       "      <td>NaN</td>\n",
       "      <td>NaN</td>\n",
       "      <td>NaN</td>\n",
       "      <td>NaN</td>\n",
       "      <td>NaN</td>\n",
       "      <td>NaN</td>\n",
       "      <td>NaN</td>\n",
       "      <td>NaN</td>\n",
       "      <td>NaN</td>\n",
       "      <td>NaN</td>\n",
       "      <td>NaN</td>\n",
       "      <td>NaN</td>\n",
       "      <td>NaN</td>\n",
       "      <td>18.0</td>\n",
       "      <td>14.0</td>\n",
       "      <td>0.0</td>\n",
       "      <td>0.0</td>\n",
       "      <td>0.0</td>\n",
       "      <td>0.0</td>\n",
       "      <td>0.0</td>\n",
       "      <td>0.0</td>\n",
       "      <td>0.0</td>\n",
       "      <td>0.0</td>\n",
       "      <td>0.0</td>\n",
       "      <td>0.0</td>\n",
       "      <td>1150.0</td>\n",
       "      <td>550.0</td>\n",
       "    </tr>\n",
       "    <tr>\n",
       "      <th>1002</th>\n",
       "      <td>NaN</td>\n",
       "      <td>NaN</td>\n",
       "      <td>NaN</td>\n",
       "      <td>NaN</td>\n",
       "      <td>NaN</td>\n",
       "      <td>15.0</td>\n",
       "      <td>26.0</td>\n",
       "      <td>42.0</td>\n",
       "      <td>36.0</td>\n",
       "      <td>33.0</td>\n",
       "      <td>32.0</td>\n",
       "      <td>33.0</td>\n",
       "      <td>NaN</td>\n",
       "      <td>NaN</td>\n",
       "      <td>NaN</td>\n",
       "      <td>NaN</td>\n",
       "      <td>NaN</td>\n",
       "      <td>117.0</td>\n",
       "      <td>214.0</td>\n",
       "      <td>289.0</td>\n",
       "      <td>206.0</td>\n",
       "      <td>212.0</td>\n",
       "      <td>243.0</td>\n",
       "      <td>236.0</td>\n",
       "      <td>NaN</td>\n",
       "      <td>NaN</td>\n",
       "      <td>NaN</td>\n",
       "      <td>NaN</td>\n",
       "      <td>NaN</td>\n",
       "      <td>4.0</td>\n",
       "      <td>11.0</td>\n",
       "      <td>13.0</td>\n",
       "      <td>4.0</td>\n",
       "      <td>10.0</td>\n",
       "      <td>16.0</td>\n",
       "      <td>12.0</td>\n",
       "      <td>NaN</td>\n",
       "      <td>NaN</td>\n",
       "      <td>NaN</td>\n",
       "      <td>NaN</td>\n",
       "      <td>NaN</td>\n",
       "      <td>11.0</td>\n",
       "      <td>18.0</td>\n",
       "      <td>20.0</td>\n",
       "      <td>17.0</td>\n",
       "      <td>14.0</td>\n",
       "      <td>19.0</td>\n",
       "      <td>18.0</td>\n",
       "      <td>0.0</td>\n",
       "      <td>0.0</td>\n",
       "      <td>0.0</td>\n",
       "      <td>0.0</td>\n",
       "      <td>0.0</td>\n",
       "      <td>550.0</td>\n",
       "      <td>1150.0</td>\n",
       "      <td>1550.0</td>\n",
       "      <td>950.0</td>\n",
       "      <td>550.0</td>\n",
       "      <td>1350.0</td>\n",
       "      <td>1150.0</td>\n",
       "    </tr>\n",
       "  </tbody>\n",
       "</table>\n",
       "</div>"
      ],
      "text/plain": [
       "        calls_count                                                            \\\n",
       "month            1   2   3   4   5     6     7     8     9     10    11    12   \n",
       "user_id                                                                         \n",
       "1001            NaN NaN NaN NaN NaN   NaN   NaN   NaN   NaN   NaN  59.0  63.0   \n",
       "1002            NaN NaN NaN NaN NaN  15.0  26.0  42.0  36.0  33.0  32.0  33.0   \n",
       "\n",
       "        duration_sum                                                     \\\n",
       "month             1   2   3   4   5      6      7      8      9      10   \n",
       "user_id                                                                   \n",
       "1001             NaN NaN NaN NaN NaN    NaN    NaN    NaN    NaN    NaN   \n",
       "1002             NaN NaN NaN NaN NaN  117.0  214.0  289.0  206.0  212.0   \n",
       "\n",
       "                      messages_count                                        \\\n",
       "month       11     12             1   2   3   4   5    6     7     8    9    \n",
       "user_id                                                                      \n",
       "1001     430.0  414.0            NaN NaN NaN NaN NaN  NaN   NaN   NaN  NaN   \n",
       "1002     243.0  236.0            NaN NaN NaN NaN NaN  4.0  11.0  13.0  4.0   \n",
       "\n",
       "                          gb_used                                          \\\n",
       "month      10    11    12      1   2   3   4   5     6     7     8     9    \n",
       "user_id                                                                     \n",
       "1001      NaN   NaN   NaN     NaN NaN NaN NaN NaN   NaN   NaN   NaN   NaN   \n",
       "1002     10.0  16.0  12.0     NaN NaN NaN NaN NaN  11.0  18.0  20.0  17.0   \n",
       "\n",
       "                          income                                             \\\n",
       "month      10    11    12     1    2    3    4    5      6       7       8    \n",
       "user_id                                                                       \n",
       "1001      NaN  18.0  14.0    0.0  0.0  0.0  0.0  0.0    0.0     0.0     0.0   \n",
       "1002     14.0  19.0  18.0    0.0  0.0  0.0  0.0  0.0  550.0  1150.0  1550.0   \n",
       "\n",
       "                                       \n",
       "month       9      10      11      12  \n",
       "user_id                                \n",
       "1001       0.0    0.0  1150.0   550.0  \n",
       "1002     950.0  550.0  1350.0  1150.0  "
      ]
     },
     "metadata": {},
     "output_type": "display_data"
    }
   ],
   "source": [
    "users_summary_smart = users_summary_smart.merge(income(users_summary_smart, 0), on=['user_id'])\n",
    "print('\\nПервые две строки полной сводной таблицы по клиентам тарифа \"Смарт\"')\n",
    "display(users_summary_smart.head(2))"
   ]
  },
  {
   "cell_type": "markdown",
   "id": "ef02a951",
   "metadata": {},
   "source": [
    "Расширим таблицу `users_summary_ultra`, дописав в неё помесячную выручку с каждого пользователя тарифа \"Ультра\", применим для этого ранее созданную функцию `income`."
   ]
  },
  {
   "cell_type": "code",
   "execution_count": 39,
   "id": "8d01d961",
   "metadata": {},
   "outputs": [
    {
     "name": "stdout",
     "output_type": "stream",
     "text": [
      "\n",
      "Первые две строки полной сводной таблицы по клиентам тарифа \"Ультра\"\n"
     ]
    },
    {
     "data": {
      "text/html": [
       "<div>\n",
       "<style scoped>\n",
       "    .dataframe tbody tr th:only-of-type {\n",
       "        vertical-align: middle;\n",
       "    }\n",
       "\n",
       "    .dataframe tbody tr th {\n",
       "        vertical-align: top;\n",
       "    }\n",
       "\n",
       "    .dataframe thead tr th {\n",
       "        text-align: left;\n",
       "    }\n",
       "\n",
       "    .dataframe thead tr:last-of-type th {\n",
       "        text-align: right;\n",
       "    }\n",
       "</style>\n",
       "<table border=\"1\" class=\"dataframe\">\n",
       "  <thead>\n",
       "    <tr>\n",
       "      <th></th>\n",
       "      <th colspan=\"12\" halign=\"left\">calls_count</th>\n",
       "      <th colspan=\"12\" halign=\"left\">duration_sum</th>\n",
       "      <th colspan=\"12\" halign=\"left\">messages_count</th>\n",
       "      <th colspan=\"12\" halign=\"left\">gb_used</th>\n",
       "      <th colspan=\"12\" halign=\"left\">income</th>\n",
       "    </tr>\n",
       "    <tr>\n",
       "      <th>month</th>\n",
       "      <th>1</th>\n",
       "      <th>2</th>\n",
       "      <th>3</th>\n",
       "      <th>4</th>\n",
       "      <th>5</th>\n",
       "      <th>6</th>\n",
       "      <th>7</th>\n",
       "      <th>8</th>\n",
       "      <th>9</th>\n",
       "      <th>10</th>\n",
       "      <th>11</th>\n",
       "      <th>12</th>\n",
       "      <th>1</th>\n",
       "      <th>2</th>\n",
       "      <th>3</th>\n",
       "      <th>4</th>\n",
       "      <th>5</th>\n",
       "      <th>6</th>\n",
       "      <th>7</th>\n",
       "      <th>8</th>\n",
       "      <th>9</th>\n",
       "      <th>10</th>\n",
       "      <th>11</th>\n",
       "      <th>12</th>\n",
       "      <th>1</th>\n",
       "      <th>2</th>\n",
       "      <th>3</th>\n",
       "      <th>4</th>\n",
       "      <th>5</th>\n",
       "      <th>6</th>\n",
       "      <th>7</th>\n",
       "      <th>8</th>\n",
       "      <th>9</th>\n",
       "      <th>10</th>\n",
       "      <th>11</th>\n",
       "      <th>12</th>\n",
       "      <th>1</th>\n",
       "      <th>2</th>\n",
       "      <th>3</th>\n",
       "      <th>4</th>\n",
       "      <th>5</th>\n",
       "      <th>6</th>\n",
       "      <th>7</th>\n",
       "      <th>8</th>\n",
       "      <th>9</th>\n",
       "      <th>10</th>\n",
       "      <th>11</th>\n",
       "      <th>12</th>\n",
       "      <th>1</th>\n",
       "      <th>2</th>\n",
       "      <th>3</th>\n",
       "      <th>4</th>\n",
       "      <th>5</th>\n",
       "      <th>6</th>\n",
       "      <th>7</th>\n",
       "      <th>8</th>\n",
       "      <th>9</th>\n",
       "      <th>10</th>\n",
       "      <th>11</th>\n",
       "      <th>12</th>\n",
       "    </tr>\n",
       "    <tr>\n",
       "      <th>user_id</th>\n",
       "      <th></th>\n",
       "      <th></th>\n",
       "      <th></th>\n",
       "      <th></th>\n",
       "      <th></th>\n",
       "      <th></th>\n",
       "      <th></th>\n",
       "      <th></th>\n",
       "      <th></th>\n",
       "      <th></th>\n",
       "      <th></th>\n",
       "      <th></th>\n",
       "      <th></th>\n",
       "      <th></th>\n",
       "      <th></th>\n",
       "      <th></th>\n",
       "      <th></th>\n",
       "      <th></th>\n",
       "      <th></th>\n",
       "      <th></th>\n",
       "      <th></th>\n",
       "      <th></th>\n",
       "      <th></th>\n",
       "      <th></th>\n",
       "      <th></th>\n",
       "      <th></th>\n",
       "      <th></th>\n",
       "      <th></th>\n",
       "      <th></th>\n",
       "      <th></th>\n",
       "      <th></th>\n",
       "      <th></th>\n",
       "      <th></th>\n",
       "      <th></th>\n",
       "      <th></th>\n",
       "      <th></th>\n",
       "      <th></th>\n",
       "      <th></th>\n",
       "      <th></th>\n",
       "      <th></th>\n",
       "      <th></th>\n",
       "      <th></th>\n",
       "      <th></th>\n",
       "      <th></th>\n",
       "      <th></th>\n",
       "      <th></th>\n",
       "      <th></th>\n",
       "      <th></th>\n",
       "      <th></th>\n",
       "      <th></th>\n",
       "      <th></th>\n",
       "      <th></th>\n",
       "      <th></th>\n",
       "      <th></th>\n",
       "      <th></th>\n",
       "      <th></th>\n",
       "      <th></th>\n",
       "      <th></th>\n",
       "      <th></th>\n",
       "      <th></th>\n",
       "    </tr>\n",
       "  </thead>\n",
       "  <tbody>\n",
       "    <tr>\n",
       "      <th>1000</th>\n",
       "      <td>NaN</td>\n",
       "      <td>NaN</td>\n",
       "      <td>NaN</td>\n",
       "      <td>NaN</td>\n",
       "      <td>22.0</td>\n",
       "      <td>43.0</td>\n",
       "      <td>47.0</td>\n",
       "      <td>52.0</td>\n",
       "      <td>58.0</td>\n",
       "      <td>57.0</td>\n",
       "      <td>43.0</td>\n",
       "      <td>46.0</td>\n",
       "      <td>NaN</td>\n",
       "      <td>NaN</td>\n",
       "      <td>NaN</td>\n",
       "      <td>NaN</td>\n",
       "      <td>159.0</td>\n",
       "      <td>172.0</td>\n",
       "      <td>340.0</td>\n",
       "      <td>408.0</td>\n",
       "      <td>466.0</td>\n",
       "      <td>350.0</td>\n",
       "      <td>338.0</td>\n",
       "      <td>333.0</td>\n",
       "      <td>NaN</td>\n",
       "      <td>NaN</td>\n",
       "      <td>NaN</td>\n",
       "      <td>NaN</td>\n",
       "      <td>22.0</td>\n",
       "      <td>60.0</td>\n",
       "      <td>75.0</td>\n",
       "      <td>81.0</td>\n",
       "      <td>57.0</td>\n",
       "      <td>73.0</td>\n",
       "      <td>58.0</td>\n",
       "      <td>70.0</td>\n",
       "      <td>NaN</td>\n",
       "      <td>NaN</td>\n",
       "      <td>NaN</td>\n",
       "      <td>NaN</td>\n",
       "      <td>3.0</td>\n",
       "      <td>23.0</td>\n",
       "      <td>14.0</td>\n",
       "      <td>14.0</td>\n",
       "      <td>15.0</td>\n",
       "      <td>15.0</td>\n",
       "      <td>15.0</td>\n",
       "      <td>10.0</td>\n",
       "      <td>0.0</td>\n",
       "      <td>0.0</td>\n",
       "      <td>0.0</td>\n",
       "      <td>0.0</td>\n",
       "      <td>1950.0</td>\n",
       "      <td>1950.0</td>\n",
       "      <td>1950.0</td>\n",
       "      <td>1950.0</td>\n",
       "      <td>1950.0</td>\n",
       "      <td>1950.0</td>\n",
       "      <td>1950.0</td>\n",
       "      <td>1950.0</td>\n",
       "    </tr>\n",
       "    <tr>\n",
       "      <th>1003</th>\n",
       "      <td>NaN</td>\n",
       "      <td>NaN</td>\n",
       "      <td>NaN</td>\n",
       "      <td>NaN</td>\n",
       "      <td>NaN</td>\n",
       "      <td>NaN</td>\n",
       "      <td>NaN</td>\n",
       "      <td>55.0</td>\n",
       "      <td>134.0</td>\n",
       "      <td>108.0</td>\n",
       "      <td>115.0</td>\n",
       "      <td>108.0</td>\n",
       "      <td>NaN</td>\n",
       "      <td>NaN</td>\n",
       "      <td>NaN</td>\n",
       "      <td>NaN</td>\n",
       "      <td>NaN</td>\n",
       "      <td>NaN</td>\n",
       "      <td>NaN</td>\n",
       "      <td>380.0</td>\n",
       "      <td>961.0</td>\n",
       "      <td>855.0</td>\n",
       "      <td>824.0</td>\n",
       "      <td>802.0</td>\n",
       "      <td>NaN</td>\n",
       "      <td>NaN</td>\n",
       "      <td>NaN</td>\n",
       "      <td>NaN</td>\n",
       "      <td>NaN</td>\n",
       "      <td>NaN</td>\n",
       "      <td>NaN</td>\n",
       "      <td>37.0</td>\n",
       "      <td>91.0</td>\n",
       "      <td>83.0</td>\n",
       "      <td>94.0</td>\n",
       "      <td>75.0</td>\n",
       "      <td>NaN</td>\n",
       "      <td>NaN</td>\n",
       "      <td>NaN</td>\n",
       "      <td>NaN</td>\n",
       "      <td>NaN</td>\n",
       "      <td>NaN</td>\n",
       "      <td>NaN</td>\n",
       "      <td>9.0</td>\n",
       "      <td>13.0</td>\n",
       "      <td>15.0</td>\n",
       "      <td>12.0</td>\n",
       "      <td>10.0</td>\n",
       "      <td>0.0</td>\n",
       "      <td>0.0</td>\n",
       "      <td>0.0</td>\n",
       "      <td>0.0</td>\n",
       "      <td>0.0</td>\n",
       "      <td>0.0</td>\n",
       "      <td>0.0</td>\n",
       "      <td>1950.0</td>\n",
       "      <td>1950.0</td>\n",
       "      <td>1950.0</td>\n",
       "      <td>1950.0</td>\n",
       "      <td>1950.0</td>\n",
       "    </tr>\n",
       "  </tbody>\n",
       "</table>\n",
       "</div>"
      ],
      "text/plain": [
       "        calls_count                                                           \\\n",
       "month            1   2   3   4     5     6     7     8      9      10     11   \n",
       "user_id                                                                        \n",
       "1000            NaN NaN NaN NaN  22.0  43.0  47.0  52.0   58.0   57.0   43.0   \n",
       "1003            NaN NaN NaN NaN   NaN   NaN   NaN  55.0  134.0  108.0  115.0   \n",
       "\n",
       "               duration_sum                                                 \\\n",
       "month       12           1   2   3   4      5      6      7      8      9    \n",
       "user_id                                                                      \n",
       "1000      46.0          NaN NaN NaN NaN  159.0  172.0  340.0  408.0  466.0   \n",
       "1003     108.0          NaN NaN NaN NaN    NaN    NaN    NaN  380.0  961.0   \n",
       "\n",
       "                             messages_count                                \\\n",
       "month       10     11     12             1   2   3   4     5     6     7    \n",
       "user_id                                                                     \n",
       "1000     350.0  338.0  333.0            NaN NaN NaN NaN  22.0  60.0  75.0   \n",
       "1003     855.0  824.0  802.0            NaN NaN NaN NaN   NaN   NaN   NaN   \n",
       "\n",
       "                                      gb_used                               \\\n",
       "month      8     9     10    11    12      1   2   3   4    5     6     7    \n",
       "user_id                                                                      \n",
       "1000     81.0  57.0  73.0  58.0  70.0     NaN NaN NaN NaN  3.0  23.0  14.0   \n",
       "1003     37.0  91.0  83.0  94.0  75.0     NaN NaN NaN NaN  NaN   NaN   NaN   \n",
       "\n",
       "                                      income                                 \\\n",
       "month      8     9     10    11    12     1    2    3    4       5       6    \n",
       "user_id                                                                       \n",
       "1000     14.0  15.0  15.0  15.0  10.0    0.0  0.0  0.0  0.0  1950.0  1950.0   \n",
       "1003      9.0  13.0  15.0  12.0  10.0    0.0  0.0  0.0  0.0     0.0     0.0   \n",
       "\n",
       "                                                         \n",
       "month        7       8       9       10      11      12  \n",
       "user_id                                                  \n",
       "1000     1950.0  1950.0  1950.0  1950.0  1950.0  1950.0  \n",
       "1003        0.0  1950.0  1950.0  1950.0  1950.0  1950.0  "
      ]
     },
     "metadata": {},
     "output_type": "display_data"
    }
   ],
   "source": [
    "users_summary_ultra = users_summary_ultra.merge(income(users_summary_ultra, 1), on=['user_id'])\n",
    "print('\\nПервые две строки полной сводной таблицы по клиентам тарифа \"Ультра\"')\n",
    "display(users_summary_ultra.head(2))"
   ]
  },
  {
   "cell_type": "markdown",
   "id": "fba1ad33",
   "metadata": {},
   "source": [
    "### Предобработка данных завершена.\n",
    "В ходе предобработки данных были получены две сводные таблицы:\n",
    "1. `users_summary_smart` - помесячная отчётность по клиентам тарифа \"Смарт\",\n",
    "2. `users_summary_ultra` - помесячная отчётность по клиентам тарифа \"Ультра\".\n",
    "\n",
    "В сводных таблицах помесячно расчитаны следующие величины для каждого пользователя:\n",
    "1. количество сделанных звонков,\n",
    "2. израсходованные минуты,\n",
    "3. количество отправленных сообщений,\n",
    "4. объём израсходованного интернет-трафика,\n",
    "5. помесячная выручка с пользователя.\n",
    "\n",
    "Количество клиентов учтённых в расчётах:\n",
    "1. тариф \"Смарт\" 350 пользователей,\n",
    "2. тариф \"Ультра\" 148 пользователей.\n",
    "\n",
    "Можно переходить к анализу данных."
   ]
  },
  {
   "cell_type": "markdown",
   "id": "6b5ca766",
   "metadata": {},
   "source": [
    "<div class=\"alert alert-block alert-success\">\n",
    "<b>✔️ Success:</b> отличная работа по разделу!"
   ]
  },
  {
   "cell_type": "markdown",
   "id": "2f02f620",
   "metadata": {},
   "source": [
    "## Анализ поведения клиентов оператора для тарифов \"Смарт\" и \"Ультра\""
   ]
  },
  {
   "cell_type": "markdown",
   "id": "a6bec092",
   "metadata": {},
   "source": [
    "### Оценка минут разговора"
   ]
  },
  {
   "cell_type": "markdown",
   "id": "d43749fb",
   "metadata": {},
   "source": [
    "Оценим помесячное среднее, дисперсию и стандартное отклонение количества минут разговора приходящиеся на одного абонента для тарифов \"Смарт\" и \"Ультра\"."
   ]
  },
  {
   "cell_type": "code",
   "execution_count": 40,
   "id": "5e958cbf",
   "metadata": {
    "scrolled": true
   },
   "outputs": [
    {
     "name": "stdout",
     "output_type": "stream",
     "text": [
      "Среднее количество минут разговора на доного абонента в месяц:\n",
      " - тариф \"Смарт\" - 421.03,\n",
      " - тариф \"Ультра\" - 550.80.\n",
      "\n",
      "Дисперсия количества минут разговора на доного абонента в месяц:\n",
      " - тариф \"Смарт\" - 35693.44,\n",
      " - тариф \"Ультра\" - 93316.30.\n",
      "\n",
      "Стандартное отклонение количества минут разговора на доного абонента в месяц:\n",
      " - тариф \"Смарт\" - 188.93,\n",
      " - тариф \"Ультра\" - 305.48.\n"
     ]
    }
   ],
   "source": [
    "print('Среднее количество минут разговора на доного абонента в месяц:\\n'\n",
    "      f' - тариф \"Смарт\" - {np.mean(users_summary_smart.duration_sum.melt().value):.2f},\\n'\n",
    "      f' - тариф \"Ультра\" - {np.mean(users_summary_ultra.duration_sum.melt().value):.2f}.\\n')\n",
    "print('Дисперсия количества минут разговора на доного абонента в месяц:\\n'\n",
    "      f' - тариф \"Смарт\" - {np.var(users_summary_smart.duration_sum.melt().value):.2f},\\n'\n",
    "      f' - тариф \"Ультра\" - {np.var(users_summary_ultra.duration_sum.melt().value):.2f}.\\n')\n",
    "print('Стандартное отклонение количества минут разговора на доного абонента в месяц:\\n'\n",
    "      f' - тариф \"Смарт\" - {np.std(users_summary_smart.duration_sum.melt().value):.2f},\\n'\n",
    "      f' - тариф \"Ультра\" - {np.std(users_summary_ultra.duration_sum.melt().value):.2f}.')"
   ]
  },
  {
   "cell_type": "markdown",
   "id": "bb498d17",
   "metadata": {},
   "source": [
    "Построим гистограммы распределения помесячного количества минут разговора приходящиеся на одного абонента для тарифов \"Смарт\" и \"Ультра\"."
   ]
  },
  {
   "cell_type": "code",
   "execution_count": 41,
   "id": "f83e6d85",
   "metadata": {
    "scrolled": false
   },
   "outputs": [
    {
     "data": {
      "image/png": "[encoded data removed]",
      "text/plain": [
       "<Figure size 864x576 with 2 Axes>"
      ]
     },
     "metadata": {
      "needs_background": "light"
     },
     "output_type": "display_data"
    }
   ],
   "source": [
    "fig, axes = plt.subplots(1, 2, figsize=(12,8))\n",
    "fig.suptitle('Гистограммы распределения помесячного количества минут разговора\\n приходящиеся на одного абонента', fontsize=14)\n",
    "axes[0].set_title('Тираф \"Смарт\"', fontsize=14)\n",
    "axes[1].set_title('Тираф \"Ультра\"', fontsize=14)\n",
    "axes[0].set_xlabel('Минут разговора в месяц на одного абонента')\n",
    "axes[1].set_xlabel('Минут разговора в месяц на одного абонента')\n",
    "sns.histplot(data = users_summary_smart.duration_sum.melt().value, bins = 20, ax = axes[0], kde = True)\n",
    "sns.histplot(data = users_summary_ultra.duration_sum.melt().value, bins = 20, ax = axes[1], kde = True)\n",
    "plt.show()"
   ]
  },
  {
   "cell_type": "markdown",
   "id": "9d98a25c",
   "metadata": {},
   "source": [
    "<div class=\"alert alert-block alert-success\">\n",
    "<b>✔️ Success:</b> очень наглядно :)"
   ]
  },
  {
   "cell_type": "markdown",
   "id": "96a25ff1",
   "metadata": {},
   "source": [
    "Оба распределения близки по внешнему виду к нормальному. \n",
    "\n",
    "Однако просматривается незначительная скошенность влево, вероятно это вызвано большим количеством абонентов заключивших договора в 2018 году, а значит есть неполные месяцы для которых статистика посчитана как за полный месяц пользования. Их можно будет обработать убрав данные по первому месяцу, аналогично договорам закрытым в 2018 году, где были убраны данные за последний месяц. Такие данные небыли предоставлены заказчиком, запросим их дополнително (при отсутствии таких данных, можно будет самостоятельно отфильтровать данные убрав первый месяц использования тарифа, для всех абонентов не имеющих платежей за январь).\n",
    "\n",
    "Наглядно убедится в том, что имеются договора, по которым полностью отсутствовали операции в первые месяцы года можно построив тепловую карту для платежей первых 20-ти абонентов на примере тарифа \"Смарт\"."
   ]
  },
  {
   "cell_type": "code",
   "execution_count": 42,
   "id": "16e6a7ff",
   "metadata": {},
   "outputs": [
    {
     "data": {
      "image/png": "[encoded data removed]",
      "text/plain": [
       "<Figure size 432x288 with 2 Axes>"
      ]
     },
     "metadata": {
      "needs_background": "light"
     },
     "output_type": "display_data"
    }
   ],
   "source": [
    "sns.heatmap(users_summary_smart.head(20).income, cmap= 'coolwarm')\n",
    "plt.title('Тепловая диаграмма ежемесячных платежей\\n для первых 20 пользователей тарифа \"Смарт\"')\n",
    "plt.show()"
   ]
  },
  {
   "cell_type": "markdown",
   "id": "148951cf",
   "metadata": {},
   "source": [
    "Как показывает диаграмма из первых 20-ти абонентов, только один имел договор на начало года, что подтверждает предположение о причинах скошенности в распределении."
   ]
  },
  {
   "cell_type": "markdown",
   "id": "c63b91c2",
   "metadata": {},
   "source": [
    "### Оценка количества сообщений"
   ]
  },
  {
   "cell_type": "markdown",
   "id": "452d158f",
   "metadata": {},
   "source": [
    "Оценим помесячное среднее, дисперсию и стандартное отклонение количества сообщений приходящихся на одного абонента для тарифов \"Смарт\" и \"Ультра\"."
   ]
  },
  {
   "cell_type": "code",
   "execution_count": 43,
   "id": "bde9c251",
   "metadata": {},
   "outputs": [
    {
     "name": "stdout",
     "output_type": "stream",
     "text": [
      "Среднее количество сообщений на доного абонента в месяц:\n",
      " - тариф \"Смарт\" - 38.87,\n",
      " - тариф \"Ультра\" - 61.43.\n",
      "\n",
      "Дисперсия количества сообщений на доного абонента в месяц:\n",
      " - тариф \"Смарт\" - 720.17,\n",
      " - тариф \"Ультра\" - 2114.87.\n",
      "\n",
      "Стандартное отклонение количества сообщений на доного абонента в месяц:\n",
      " - тариф \"Смарт\" - 26.84,\n",
      " - тариф \"Ультра\" - 45.99.\n"
     ]
    }
   ],
   "source": [
    "print('Среднее количество сообщений на доного абонента в месяц:\\n'\n",
    "      f' - тариф \"Смарт\" - {np.mean(users_summary_smart.messages_count.melt().value):.2f},\\n'\n",
    "      f' - тариф \"Ультра\" - {np.mean(users_summary_ultra.messages_count.melt().value):.2f}.\\n')\n",
    "print('Дисперсия количества сообщений на доного абонента в месяц:\\n'\n",
    "      f' - тариф \"Смарт\" - {np.var(users_summary_smart.messages_count.melt().value):.2f},\\n'\n",
    "      f' - тариф \"Ультра\" - {np.var(users_summary_ultra.messages_count.melt().value):.2f}.\\n')\n",
    "print('Стандартное отклонение количества сообщений на доного абонента в месяц:\\n'\n",
    "      f' - тариф \"Смарт\" - {np.std(users_summary_smart.messages_count.melt().value):.2f},\\n'\n",
    "      f' - тариф \"Ультра\" - {np.std(users_summary_ultra.messages_count.melt().value):.2f}.')"
   ]
  },
  {
   "cell_type": "markdown",
   "id": "e77e36ca",
   "metadata": {},
   "source": [
    "Построим гистограммы распределения помесячного количества сообщений приходящихся на одного абонента для тарифов \"Смарт\" и \"Ультра\"."
   ]
  },
  {
   "cell_type": "code",
   "execution_count": 44,
   "id": "97cabbfb",
   "metadata": {},
   "outputs": [
    {
     "data": {
      "image/png": "[encoded data removed]",
      "text/plain": [
       "<Figure size 864x576 with 2 Axes>"
      ]
     },
     "metadata": {
      "needs_background": "light"
     },
     "output_type": "display_data"
    }
   ],
   "source": [
    "fig, axes = plt.subplots(1, 2, figsize=(12,8))\n",
    "fig.suptitle('Гистограммы распределения помесячного количества сообщений\\n приходящихся на одного абонента', fontsize=14)\n",
    "axes[0].set_title('Тираф \"Смарт\"', fontsize=14)\n",
    "axes[1].set_title('Тираф \"Ультра\"', fontsize=14)\n",
    "axes[0].set_xlabel('Сообщений в месяц на одного абонента')\n",
    "axes[1].set_xlabel('Сообщений в месяц на одного абонента')\n",
    "sns.histplot(data = users_summary_smart.messages_count.melt().value, bins = 20, ax = axes[0], kde = True)\n",
    "sns.histplot(data = users_summary_ultra.messages_count.melt().value, bins = 20, ax = axes[1], kde = True)\n",
    "plt.show()"
   ]
  },
  {
   "cell_type": "markdown",
   "id": "5aa6818e",
   "metadata": {},
   "source": [
    "Оба распределения близки по внешнему виду к рапределению Пуассона, что характерно для независимых дискреных событий на интервале времени. \n",
    "\n",
    "Однако завышение левой стороны также должно присутствовать, как и для продолжительности разговора, по причине неполного использования первого месяца, для абонентов подключившихся в 2018 году."
   ]
  },
  {
   "cell_type": "markdown",
   "id": "17d6f63a",
   "metadata": {},
   "source": [
    "### Оценка объёма интернет-трафика"
   ]
  },
  {
   "cell_type": "markdown",
   "id": "f13cb705",
   "metadata": {},
   "source": [
    "Оценим помесячное среднее, дисперсию и стандартное отклонение объёма интернет-трафика приходящегося на одного абонента для тарифов \"Смарт\" и \"Ультра\"."
   ]
  },
  {
   "cell_type": "code",
   "execution_count": 45,
   "id": "0319ba4d",
   "metadata": {},
   "outputs": [
    {
     "name": "stdout",
     "output_type": "stream",
     "text": [
      "Средний объём интернет-трафика приходящегося на доного абонента в месяц:\n",
      " - тариф \"Смарт\" - 16.39 ГБ,\n",
      " - тариф \"Ультра\" - 19.89 ГБ.\n",
      "\n",
      "Дисперсия объёма интернет-трафика приходящегося на доного абонента в месяц:\n",
      " - тариф \"Смарт\" - 32.72,\n",
      " - тариф \"Ультра\" - 92.11.\n",
      "\n",
      "Стандартное отклонение объёма интернет-трафика приходящегося на доного абонента в месяц:\n",
      " - тариф \"Смарт\" - 5.72,\n",
      " - тариф \"Ультра\" - 9.60.\n"
     ]
    }
   ],
   "source": [
    "print('Средний объём интернет-трафика приходящегося на доного абонента в месяц:\\n'\n",
    "      f' - тариф \"Смарт\" - {np.mean(users_summary_smart.gb_used.melt().value):.2f} ГБ,\\n'\n",
    "      f' - тариф \"Ультра\" - {np.mean(users_summary_ultra.gb_used.melt().value):.2f} ГБ.\\n')\n",
    "print('Дисперсия объёма интернет-трафика приходящегося на доного абонента в месяц:\\n'\n",
    "      f' - тариф \"Смарт\" - {np.var(users_summary_smart.gb_used.melt().value):.2f},\\n'\n",
    "      f' - тариф \"Ультра\" - {np.var(users_summary_ultra.gb_used.melt().value):.2f}.\\n')\n",
    "print('Стандартное отклонение объёма интернет-трафика приходящегося на доного абонента в месяц:\\n'\n",
    "      f' - тариф \"Смарт\" - {np.std(users_summary_smart.gb_used.melt().value):.2f},\\n'\n",
    "      f' - тариф \"Ультра\" - {np.std(users_summary_ultra.gb_used.melt().value):.2f}.')"
   ]
  },
  {
   "cell_type": "markdown",
   "id": "23ca1473",
   "metadata": {},
   "source": [
    "Построим гистограммы распределения помесячного объёма интернет-трафика приходящегося на одного абонента для тарифов \"Смарт\" и \"Ультра\"."
   ]
  },
  {
   "cell_type": "code",
   "execution_count": 46,
   "id": "36d53eb9",
   "metadata": {},
   "outputs": [
    {
     "data": {
      "image/png": "[encoded data removed]",
      "text/plain": [
       "<Figure size 864x576 with 2 Axes>"
      ]
     },
     "metadata": {
      "needs_background": "light"
     },
     "output_type": "display_data"
    }
   ],
   "source": [
    "fig, axes = plt.subplots(1, 2, figsize=(12,8))\n",
    "fig.suptitle('Гистограммы распределения помесячного объёма интернет-трафика\\n приходящегося на одного абонента', fontsize=14)\n",
    "axes[0].set_title('Тираф \"Смарт\"', fontsize=14)\n",
    "axes[1].set_title('Тираф \"Ультра\"', fontsize=14)\n",
    "axes[0].set_xlabel('Объём интернет-трафика на одного абонента')\n",
    "axes[1].set_xlabel('Объём интернет-трафика на одного абонента')\n",
    "sns.histplot(data = users_summary_smart.gb_used.melt().value, bins = 20, ax = axes[0], kde = True)\n",
    "sns.histplot(data = users_summary_ultra.gb_used.melt().value, bins = 20, ax = axes[1], kde = True)\n",
    "plt.show()"
   ]
  },
  {
   "cell_type": "markdown",
   "id": "e6dd5d4f",
   "metadata": {},
   "source": [
    "Оба распределения близки по внешнему виду к нормальному. \n",
    "\n",
    "Однако завышение левой стороны также присутствует, как и для продолжительности разговора, по причине неполного использования первого месяца, для абонентов подключившихся в 2018 году."
   ]
  },
  {
   "cell_type": "markdown",
   "id": "9d8dccd0",
   "metadata": {},
   "source": [
    "<div class=\"alert alert-block alert-success\">\n",
    "<b>✔️ Success:</b> отличная работа!"
   ]
  },
  {
   "cell_type": "markdown",
   "id": "d127a161",
   "metadata": {},
   "source": [
    "## Проверка статистических гипотез для тарифов \"Смарт\" и \"Ультра\""
   ]
  },
  {
   "cell_type": "markdown",
   "id": "43ce1e8a",
   "metadata": {},
   "source": [
    "### Гипотеза о различии средней выручки с пользователя для тарифов\n",
    "Проверка о различии (равентсве) среднего двух генеральных совокупностей платежей пользователей тарифов \"Смарт\" и \"Ультра\" будет производить по двум предоставленным выборкам. Такую проверку можно провести используя t-тест, но должно быть выполнено 3 условия:\n",
    "1. генеральные совокупности не должны зависеть друг от друга, будем считать это условие выполненым, так как маловероятно, что один клиент заключил несколько договоров на различные тарифные планы, а значит выборки парно не связаны,\n",
    "2. выборочные средние должны быть нормально распределены, данное условие также выполнено согласно ЦПТ, размеры наших выборок 350 и 148, что достаточно для выполнения ЦПТ о распределении средних выборок,\n",
    "3. размеры выборок и дисперсии рассматриваемых генеральных совокупностей должны быть равны или нужно указать их неравество в качестве аргумента. В нашем случае размеры выборок отличаются более чем в два раза, так что условие не выполнено, нужно это будет указать в качестве аргумента.\n",
    "\n",
    "За нулевую гипотезу примем равенство средней выручки с пользователя для тарифов \"Смарт\" и \"Ультра\", альтервнативной гипотезой будет их раличие.\n",
    "Уровень статистической значимости примем за 0.05."
   ]
  },
  {
   "cell_type": "markdown",
   "id": "2f7c60bc",
   "metadata": {},
   "source": [
    "<div class=\"alert alert-block alert-success\">\n",
    "<b>✔️ Success:</b> очень хорошо, что перед рассчетами явно описываешь нулевую и лаьтернативную гипотезы"
   ]
  },
  {
   "cell_type": "code",
   "execution_count": 47,
   "id": "48c69fda",
   "metadata": {},
   "outputs": [
    {
     "name": "stdout",
     "output_type": "stream",
     "text": [
      "Отвергаем нулевую гипотезу, p-значение:  2.352616997557511e-53\n",
      "Среднее значение платежа пользователя тарифа \"Смарт\": 681.10.\n",
      "Среднее значение платежа пользователя тарифа \"Ультра\": 1132.77.\n"
     ]
    }
   ],
   "source": [
    "alpha = .05 # критический уровень статистической значимости, если p-value окажется меньше него - отвегнем нулевую гипотезу\n",
    "\n",
    "results = st.ttest_ind(\n",
    "    users_summary_smart.income.melt().value, \n",
    "    users_summary_ultra.income.melt().value,\n",
    "    equal_var = False\n",
    ")\n",
    "\n",
    "if results.pvalue < alpha:\n",
    "    print('Отвергаем нулевую гипотезу, p-значение: ', results.pvalue)\n",
    "else:\n",
    "    print('Не получилось отвергнуть нулевую гипотезу, p-значение: ', results.pvalue) \n",
    "    \n",
    "print(f'Среднее значение платежа пользователя тарифа \"Смарт\": {users_summary_smart.income.melt().value.mean():.2f}.\\n'\n",
    "     f'Среднее значение платежа пользователя тарифа \"Ультра\": {users_summary_ultra.income.melt().value.mean():.2f}.')"
   ]
  },
  {
   "cell_type": "markdown",
   "id": "2f09b02b",
   "metadata": {},
   "source": [
    "Нулевая гипотеза: \"равенство средней выручки с пользователя для тарифов \"Смарт\" и \"Ультра\"\" отвергнута, это значит нужно принять альтернативную гипотезу, а именно:\n",
    "\n",
    "**Средняя выручка с пользователей тарифов \"Смарт\" и \"Ультра\" различаются.**"
   ]
  },
  {
   "cell_type": "markdown",
   "id": "2556c72a",
   "metadata": {},
   "source": [
    "### Гипотеза о различии средней выручки с пользователей из Москвы и других регионов"
   ]
  },
  {
   "cell_type": "markdown",
   "id": "5cea65fe",
   "metadata": {},
   "source": [
    "Для начала сформируем выборки, для этого объединим выборки двух тарифов. Далее разобъем объединённую выборку по отношению пользователя к Москве."
   ]
  },
  {
   "cell_type": "code",
   "execution_count": 48,
   "id": "ac7eb698",
   "metadata": {},
   "outputs": [
    {
     "name": "stdout",
     "output_type": "stream",
     "text": [
      "Число пользователей из Москвы: 99\n",
      "Число пользователей не из Москвы: 399\n"
     ]
    }
   ],
   "source": [
    "# помесячная выручка со всех клиентов, обединение \"Смарт\" и \"Ультра\"\n",
    "all_income = pd.concat([users_summary_smart.income, users_summary_ultra.income])\n",
    "# помесячная выручка с Московских клиентов\n",
    "all_income_mosсow = all_income[all_income.index.isin(users[users.city == 'Москва'].user_id)]\n",
    "# помесячная выручка не с Московских клиентов\n",
    "all_income_not_mosсow = all_income[all_income.index.isin(users[users.city != 'Москва'].user_id)]\n",
    "print(f'Число пользователей из Москвы: {len(all_income_mosсow)}\\n'\n",
    "      f'Число пользователей не из Москвы: {len(all_income_not_mosсow)}')"
   ]
  },
  {
   "cell_type": "markdown",
   "id": "09a1d8de",
   "metadata": {},
   "source": [
    "Проверка о различии (равентсве) среднего двух генеральных совокупностей платежей пользователей из Москвы и других регионов будет производить по двум предоставленным выборкам. Такую проверку можно провести используя t-тест, но должно быть выполнено 3 условия:\n",
    "1. генеральные совокупности не должны зависеть друг от друга, будем считать это условие выполненым, так как маловероятно, что один клиент заключил несколько договоров для разных регионов, а значит выборки парно не связаны,\n",
    "2. выборочные средние должны быть нормально распределены, данное условие также выполнено согласно ЦПТ, размеры наших выборок 99 и 399, что достаточно для выполнения ЦПТ о распределении средних выборок,\n",
    "3. размеры выборок и дисперсии рассматриваемых генеральных совокупностей должны быть равны или нужно указать их неравество в качестве аргумента. В нашем случае размеры выборок отличаются в 4 раза, так что условие не выполнено, нужно это будет указать в качестве аргумента.\n",
    "\n",
    "За нулевую гипотезу примем равенство средней выручки с пользователя для Москвы и других регионов, альтервнативной гипотезой будет их раличие.\n",
    "Уровень статистической значимости примем за 0.05."
   ]
  },
  {
   "cell_type": "code",
   "execution_count": 49,
   "id": "93667df8",
   "metadata": {},
   "outputs": [
    {
     "name": "stdout",
     "output_type": "stream",
     "text": [
      "Не получилось отвергнуть нулевую гипотезу, p-значение:  0.2632579248252553\n"
     ]
    }
   ],
   "source": [
    "alpha = .05 # критический уровень статистической значимости, если p-value окажется меньше него - отвегнем нулевую гипотезу\n",
    "\n",
    "results = st.ttest_ind(\n",
    "    all_income_mosсow.melt().value, \n",
    "    all_income_not_mosсow.melt().value,\n",
    "    equal_var = False\n",
    ")\n",
    "\n",
    "if results.pvalue < alpha:\n",
    "    print('Отвергаем нулевую гипотезу, p-значение: ', results.pvalue)\n",
    "else:\n",
    "    print('Не получилось отвергнуть нулевую гипотезу, p-значение: ', results.pvalue) "
   ]
  },
  {
   "cell_type": "markdown",
   "id": "fd9ceab1",
   "metadata": {},
   "source": [
    "Нулевая гипотеза: \"равенство средней выручки с пользователя для Москвы и других регионов\" не отвергнута, это значит что принять альтернативную гипотезу оснований нет, а именно:\n",
    "\n",
    "**Средняя выручка с пользователей из Москвы отличается от выручки с пользователй из других регионов, не находит статистического подтверждённия.**"
   ]
  },
  {
   "cell_type": "markdown",
   "id": "8615ad72",
   "metadata": {},
   "source": [
    "<div class=\"alert alert-block alert-success\">\n",
    "<b>✔️ Success:</b> работа с гипотезами проведена корректно!"
   ]
  },
  {
   "cell_type": "markdown",
   "id": "29eef7c5",
   "metadata": {},
   "source": [
    "## Общий вывод по исследованию."
   ]
  },
  {
   "cell_type": "markdown",
   "id": "861fb5a3",
   "metadata": {},
   "source": [
    "В ходе исследования определены основные характеристики поведения пользователй для тарифов \"Смарт\" и \"Ультра\":\n",
    "\n",
    "1. Среднее количество минут разговора на доного абонента в месяц:\n",
    " - тариф \"Смарт\" - 421.03,\n",
    " - тариф \"Ультра\" - 550.80.\n",
    "2. Среднее количество сообщений на доного абонента в месяц:\n",
    " - тариф \"Смарт\" - 38.87,\n",
    " - тариф \"Ультра\" - 61.43.\n",
    "3. Средний объём интернет-трафика приходящегося на доного абонента в месяц:\n",
    " - тариф \"Смарт\" - 16.39 ГБ,\n",
    " - тариф \"Ультра\" - 19.89 ГБ.\n",
    " \n",
    "\n",
    "Проверены две гипотезы касающиесы выручки с пользователя:\n",
    "\n",
    "1. Гипотеза о различии средней выручки с пользователя для тарифов \"Смарт\" и \"Ультра\" подтвердилась, со значимостью 5%, согласно выборок:\n",
    " - средний месячный платеж пользователя тарифа \"Смарт\": 681.10\n",
    " - средний месячный платеж пользователя тарифа \"Ультра\": 1132.77\n",
    "2. Гипотеза о различии средней выручки с пользователя из Москвы и выручки с пользователей других регионов не подтвердираль, использован уровень значимости 5%.\n",
    "\n",
    "Можно сделать вывод о том, что перспективным для развития является тариф \"Ультра\", также согласно предоставленной выборке число абонентов данного тарифа значительно меньше (148 - \"Ультра\", 350 - \"Смарт\")."
   ]
  },
  {
   "cell_type": "markdown",
   "id": "793ac3ef",
   "metadata": {},
   "source": [
    "<div class=\"alert alert-block alert-success\">\n",
    "<b>✔️ Success:</b> отличный общий вывод!"
   ]
  },
  {
   "cell_type": "code",
   "execution_count": null,
   "id": "e05b1656",
   "metadata": {},
   "outputs": [],
   "source": []
  }
 ],
 "metadata": {
  "ExecuteTimeLog": [
   {
    "duration": 1899,
    "start_time": "2022-03-27T15:11:25.148Z"
   },
   {
    "duration": 253,
    "start_time": "2022-03-27T15:11:27.051Z"
   },
   {
    "duration": 0,
    "start_time": "2022-03-27T15:11:27.309Z"
   },
   {
    "duration": 0,
    "start_time": "2022-03-27T15:11:27.311Z"
   },
   {
    "duration": 0,
    "start_time": "2022-03-27T15:11:27.313Z"
   },
   {
    "duration": 1,
    "start_time": "2022-03-27T15:11:27.314Z"
   },
   {
    "duration": 0,
    "start_time": "2022-03-27T15:11:27.317Z"
   },
   {
    "duration": 0,
    "start_time": "2022-03-27T15:11:27.319Z"
   },
   {
    "duration": 0,
    "start_time": "2022-03-27T15:11:27.321Z"
   },
   {
    "duration": 0,
    "start_time": "2022-03-27T15:11:27.323Z"
   },
   {
    "duration": 0,
    "start_time": "2022-03-27T15:11:27.324Z"
   },
   {
    "duration": 0,
    "start_time": "2022-03-27T15:11:27.325Z"
   },
   {
    "duration": 0,
    "start_time": "2022-03-27T15:11:27.327Z"
   },
   {
    "duration": 0,
    "start_time": "2022-03-27T15:11:27.329Z"
   },
   {
    "duration": 0,
    "start_time": "2022-03-27T15:11:27.330Z"
   },
   {
    "duration": 0,
    "start_time": "2022-03-27T15:11:27.332Z"
   },
   {
    "duration": 0,
    "start_time": "2022-03-27T15:11:27.333Z"
   },
   {
    "duration": 0,
    "start_time": "2022-03-27T15:11:27.335Z"
   },
   {
    "duration": 0,
    "start_time": "2022-03-27T15:11:27.337Z"
   },
   {
    "duration": 0,
    "start_time": "2022-03-27T15:11:27.339Z"
   },
   {
    "duration": 0,
    "start_time": "2022-03-27T15:11:27.384Z"
   },
   {
    "duration": 1,
    "start_time": "2022-03-27T15:11:27.386Z"
   },
   {
    "duration": 0,
    "start_time": "2022-03-27T15:11:27.388Z"
   },
   {
    "duration": 0,
    "start_time": "2022-03-27T15:11:27.391Z"
   },
   {
    "duration": 0,
    "start_time": "2022-03-27T15:11:27.393Z"
   },
   {
    "duration": 0,
    "start_time": "2022-03-27T15:11:27.395Z"
   },
   {
    "duration": 0,
    "start_time": "2022-03-27T15:11:27.397Z"
   },
   {
    "duration": 0,
    "start_time": "2022-03-27T15:11:27.399Z"
   },
   {
    "duration": 0,
    "start_time": "2022-03-27T15:11:27.401Z"
   },
   {
    "duration": 0,
    "start_time": "2022-03-27T15:11:27.402Z"
   },
   {
    "duration": 0,
    "start_time": "2022-03-27T15:11:27.403Z"
   },
   {
    "duration": 0,
    "start_time": "2022-03-27T15:11:27.405Z"
   },
   {
    "duration": 0,
    "start_time": "2022-03-27T15:11:27.407Z"
   },
   {
    "duration": 0,
    "start_time": "2022-03-27T15:11:27.409Z"
   },
   {
    "duration": 0,
    "start_time": "2022-03-27T15:11:27.410Z"
   },
   {
    "duration": 0,
    "start_time": "2022-03-27T15:11:27.412Z"
   },
   {
    "duration": 0,
    "start_time": "2022-03-27T15:11:27.414Z"
   },
   {
    "duration": 0,
    "start_time": "2022-03-27T15:11:27.416Z"
   },
   {
    "duration": 0,
    "start_time": "2022-03-27T15:11:27.417Z"
   },
   {
    "duration": 0,
    "start_time": "2022-03-27T15:11:27.419Z"
   },
   {
    "duration": 0,
    "start_time": "2022-03-27T15:11:27.421Z"
   },
   {
    "duration": 0,
    "start_time": "2022-03-27T15:11:27.485Z"
   },
   {
    "duration": 0,
    "start_time": "2022-03-27T15:11:27.486Z"
   },
   {
    "duration": 0,
    "start_time": "2022-03-27T15:11:27.488Z"
   },
   {
    "duration": 0,
    "start_time": "2022-03-27T15:11:27.489Z"
   },
   {
    "duration": 0,
    "start_time": "2022-03-27T15:11:27.491Z"
   },
   {
    "duration": 0,
    "start_time": "2022-03-27T15:11:27.493Z"
   },
   {
    "duration": 0,
    "start_time": "2022-03-27T15:11:27.494Z"
   },
   {
    "duration": 0,
    "start_time": "2022-03-27T15:11:27.496Z"
   },
   {
    "duration": 1513,
    "start_time": "2022-03-27T15:12:09.889Z"
   },
   {
    "duration": 521,
    "start_time": "2022-03-27T15:12:11.405Z"
   },
   {
    "duration": 58,
    "start_time": "2022-03-27T15:12:11.929Z"
   },
   {
    "duration": 93,
    "start_time": "2022-03-27T15:12:11.991Z"
   },
   {
    "duration": 45,
    "start_time": "2022-03-27T15:12:12.087Z"
   },
   {
    "duration": 99,
    "start_time": "2022-03-27T15:12:12.135Z"
   },
   {
    "duration": 24,
    "start_time": "2022-03-27T15:12:12.236Z"
   },
   {
    "duration": 9,
    "start_time": "2022-03-27T15:12:12.283Z"
   },
   {
    "duration": 8,
    "start_time": "2022-03-27T15:12:12.294Z"
   },
   {
    "duration": 9,
    "start_time": "2022-03-27T15:12:12.307Z"
   },
   {
    "duration": 23,
    "start_time": "2022-03-27T15:12:12.319Z"
   },
   {
    "duration": 43,
    "start_time": "2022-03-27T15:12:12.345Z"
   },
   {
    "duration": 166,
    "start_time": "2022-03-27T15:12:12.390Z"
   },
   {
    "duration": 58,
    "start_time": "2022-03-27T15:12:12.558Z"
   },
   {
    "duration": 6,
    "start_time": "2022-03-27T15:12:12.618Z"
   },
   {
    "duration": 66,
    "start_time": "2022-03-27T15:12:12.626Z"
   },
   {
    "duration": 90,
    "start_time": "2022-03-27T15:12:12.694Z"
   },
   {
    "duration": 83,
    "start_time": "2022-03-27T15:12:12.786Z"
   },
   {
    "duration": 68,
    "start_time": "2022-03-27T15:12:12.884Z"
   },
   {
    "duration": 51,
    "start_time": "2022-03-27T15:12:12.954Z"
   },
   {
    "duration": 6,
    "start_time": "2022-03-27T15:12:13.007Z"
   },
   {
    "duration": 32,
    "start_time": "2022-03-27T15:12:13.015Z"
   },
   {
    "duration": 72,
    "start_time": "2022-03-27T15:12:13.050Z"
   },
   {
    "duration": 133,
    "start_time": "2022-03-27T15:12:13.124Z"
   },
   {
    "duration": 11,
    "start_time": "2022-03-27T15:12:13.260Z"
   },
   {
    "duration": 54,
    "start_time": "2022-03-27T15:12:13.284Z"
   },
   {
    "duration": 10,
    "start_time": "2022-03-27T15:12:13.340Z"
   },
   {
    "duration": 46,
    "start_time": "2022-03-27T15:12:13.355Z"
   },
   {
    "duration": 43,
    "start_time": "2022-03-27T15:12:13.403Z"
   },
   {
    "duration": 39,
    "start_time": "2022-03-27T15:12:13.449Z"
   },
   {
    "duration": 143,
    "start_time": "2022-03-27T15:12:13.491Z"
   },
   {
    "duration": 67,
    "start_time": "2022-03-27T15:12:13.636Z"
   },
   {
    "duration": 57,
    "start_time": "2022-03-27T15:12:13.706Z"
   },
   {
    "duration": 128,
    "start_time": "2022-03-27T15:12:13.791Z"
   },
   {
    "duration": 20,
    "start_time": "2022-03-27T15:12:13.921Z"
   },
   {
    "duration": 173,
    "start_time": "2022-03-27T15:12:13.944Z"
   },
   {
    "duration": 10,
    "start_time": "2022-03-27T15:12:14.119Z"
   },
   {
    "duration": 156,
    "start_time": "2022-03-27T15:12:14.131Z"
   },
   {
    "duration": 142,
    "start_time": "2022-03-27T15:12:14.289Z"
   },
   {
    "duration": 28,
    "start_time": "2022-03-27T15:12:14.434Z"
   },
   {
    "duration": 651,
    "start_time": "2022-03-27T15:12:14.466Z"
   },
   {
    "duration": 624,
    "start_time": "2022-03-27T15:12:15.120Z"
   },
   {
    "duration": 42,
    "start_time": "2022-03-27T15:12:15.747Z"
   },
   {
    "duration": 603,
    "start_time": "2022-03-27T15:12:15.792Z"
   },
   {
    "duration": 30,
    "start_time": "2022-03-27T15:12:16.398Z"
   },
   {
    "duration": 620,
    "start_time": "2022-03-27T15:12:16.431Z"
   },
   {
    "duration": 36,
    "start_time": "2022-03-27T15:12:17.054Z"
   },
   {
    "duration": 15,
    "start_time": "2022-03-27T15:12:17.093Z"
   },
   {
    "duration": 13,
    "start_time": "2022-03-27T15:12:17.111Z"
   },
   {
    "duration": 1712,
    "start_time": "2022-03-27T15:30:18.507Z"
   },
   {
    "duration": 510,
    "start_time": "2022-03-27T15:30:20.222Z"
   },
   {
    "duration": 53,
    "start_time": "2022-03-27T15:30:20.734Z"
   },
   {
    "duration": 95,
    "start_time": "2022-03-27T15:30:20.790Z"
   },
   {
    "duration": 49,
    "start_time": "2022-03-27T15:30:20.888Z"
   },
   {
    "duration": 97,
    "start_time": "2022-03-27T15:30:20.940Z"
   },
   {
    "duration": 24,
    "start_time": "2022-03-27T15:30:21.039Z"
   },
   {
    "duration": 8,
    "start_time": "2022-03-27T15:30:21.085Z"
   },
   {
    "duration": 9,
    "start_time": "2022-03-27T15:30:21.096Z"
   },
   {
    "duration": 8,
    "start_time": "2022-03-27T15:30:21.109Z"
   },
   {
    "duration": 25,
    "start_time": "2022-03-27T15:30:21.118Z"
   },
   {
    "duration": 39,
    "start_time": "2022-03-27T15:30:21.145Z"
   },
   {
    "duration": 159,
    "start_time": "2022-03-27T15:30:21.186Z"
   },
   {
    "duration": 64,
    "start_time": "2022-03-27T15:30:21.347Z"
   },
   {
    "duration": 6,
    "start_time": "2022-03-27T15:30:21.413Z"
   },
   {
    "duration": 62,
    "start_time": "2022-03-27T15:30:21.422Z"
   },
   {
    "duration": 76,
    "start_time": "2022-03-27T15:30:21.487Z"
   },
   {
    "duration": 95,
    "start_time": "2022-03-27T15:30:21.565Z"
   },
   {
    "duration": 84,
    "start_time": "2022-03-27T15:30:21.662Z"
   },
   {
    "duration": 52,
    "start_time": "2022-03-27T15:30:21.748Z"
   },
   {
    "duration": 7,
    "start_time": "2022-03-27T15:30:21.803Z"
   },
   {
    "duration": 32,
    "start_time": "2022-03-27T15:30:21.812Z"
   },
   {
    "duration": 70,
    "start_time": "2022-03-27T15:30:21.847Z"
   },
   {
    "duration": 128,
    "start_time": "2022-03-27T15:30:21.920Z"
   },
   {
    "duration": 12,
    "start_time": "2022-03-27T15:30:22.050Z"
   },
   {
    "duration": 49,
    "start_time": "2022-03-27T15:30:22.064Z"
   },
   {
    "duration": 6,
    "start_time": "2022-03-27T15:30:22.115Z"
   },
   {
    "duration": 62,
    "start_time": "2022-03-27T15:30:22.127Z"
   },
   {
    "duration": 45,
    "start_time": "2022-03-27T15:30:22.191Z"
   },
   {
    "duration": 19,
    "start_time": "2022-03-27T15:30:22.238Z"
   },
   {
    "duration": 129,
    "start_time": "2022-03-27T15:30:22.259Z"
   },
   {
    "duration": 57,
    "start_time": "2022-03-27T15:30:22.390Z"
   },
   {
    "duration": 72,
    "start_time": "2022-03-27T15:30:22.448Z"
   },
   {
    "duration": 97,
    "start_time": "2022-03-27T15:30:22.522Z"
   },
   {
    "duration": 18,
    "start_time": "2022-03-27T15:30:22.622Z"
   },
   {
    "duration": 170,
    "start_time": "2022-03-27T15:30:22.642Z"
   },
   {
    "duration": 9,
    "start_time": "2022-03-27T15:30:22.814Z"
   },
   {
    "duration": 141,
    "start_time": "2022-03-27T15:30:22.825Z"
   },
   {
    "duration": 134,
    "start_time": "2022-03-27T15:30:22.969Z"
   },
   {
    "duration": 31,
    "start_time": "2022-03-27T15:30:23.105Z"
   },
   {
    "duration": 645,
    "start_time": "2022-03-27T15:30:23.138Z"
   },
   {
    "duration": 571,
    "start_time": "2022-03-27T15:30:23.786Z"
   },
   {
    "duration": 38,
    "start_time": "2022-03-27T15:30:24.360Z"
   },
   {
    "duration": 601,
    "start_time": "2022-03-27T15:30:24.400Z"
   },
   {
    "duration": 27,
    "start_time": "2022-03-27T15:30:25.003Z"
   },
   {
    "duration": 606,
    "start_time": "2022-03-27T15:30:25.032Z"
   },
   {
    "duration": 21,
    "start_time": "2022-03-27T15:30:25.640Z"
   },
   {
    "duration": 29,
    "start_time": "2022-03-27T15:30:25.663Z"
   },
   {
    "duration": 14,
    "start_time": "2022-03-27T15:30:25.694Z"
   }
  ],
  "kernelspec": {
   "display_name": "Python 3 (ipykernel)",
   "language": "python",
   "name": "python3"
  },
  "language_info": {
   "codemirror_mode": {
    "name": "ipython",
    "version": 3
   },
   "file_extension": ".py",
   "mimetype": "text/x-python",
   "name": "python",
   "nbconvert_exporter": "python",
   "pygments_lexer": "ipython3",
   "version": "3.9.5"
  },
  "toc": {
   "base_numbering": 1,
   "nav_menu": {},
   "number_sections": true,
   "sideBar": true,
   "skip_h1_title": true,
   "title_cell": "Table of Contents",
   "title_sidebar": "Contents",
   "toc_cell": false,
   "toc_position": {},
   "toc_section_display": true,
   "toc_window_display": true
  }
 },
 "nbformat": 4,
 "nbformat_minor": 5
}
