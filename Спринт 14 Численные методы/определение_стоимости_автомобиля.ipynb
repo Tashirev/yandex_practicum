{
 "cells": [
  {
   "cell_type": "markdown",
   "metadata": {},
   "source": [
    "Денис, рад приветствовать тебя)\n",
    "\n",
    "Меня зовут Александр Дьяченко и этот проект у тебя буду проверять я.  \n",
    "Предлагаю общаться на \"ты\", если это для тебя приемлемо)  \n",
    "\n",
    "В твоей работе я оставлю некоторые комментарии, которые помогут лучше понять материал или скажу, что все сделано верно.  \n",
    "Давай договоримся об условных обозначениях, чтобы наше общение было эффективнее:  \n",
    "\n",
    "Комментарии будут в <font color='green'>зеленой ✔️</font>, <font color='orange'>оранжевой ⚠️</font> или <font color='red'>красной ❌</font> рамках:\n",
    "\n",
    "\n",
    "<div class=\"alert alert-block alert-success\"; style=\"border-left: 6px solid green\">\n",
    "<b>Успех ✔️</b>\n",
    "       \n",
    "Зеленым цветом помечены образцовые решения. Которые можно использовать в дальнейшем.\n",
    "    \n",
    "</div>\n",
    "\n",
    "<div class=\"alert alert-block alert-warning\"; style=\"border-left: 6px solid orange\">\n",
    "<b>Рекомендация ⚠️</b>\n",
    "       \n",
    "Желтым цветом отмечено то, что ты можешь улучшить или доработать. Можешь учесть это при выполнении следующих работ или доработать проект сейчас, но это не обязательно.\n",
    "    \n",
    "</div>\n",
    "\n",
    "<div class=\"alert alert-block alert-danger\"; style=\"border-left: 6px solid red\">\n",
    "<b>Ошибка ❌</b>\n",
    "       \n",
    "Красным цветом помечены моменты, которые необходимо доработать, чтобы проект был принят. Уверен, что у тебя все получится. Буду ждать твою работу на повторное ревью.\n",
    "    \n",
    "</div>\n",
    "\n",
    "-------------------\n",
    "\n",
    "<div class=\"alert alert-block alert-info\">\n",
    "<b>Комментарий студента:</b> Свои комментарии и вопросы ты можешь оставлять в синей рамочке. Также используй её, если что-то исправил, доделал или полностью переписал.</div>\n",
    "\n",
    "\n",
    "\n",
    "\n",
    "Старайся отвечать на мои рекомендации и не удалять комментарии, так получится проверить работу быстрее)\n",
    "\n",
    "Погнали!\n",
    "\n",
    "\n",
    "\n",
    "-------"
   ]
  },
  {
   "cell_type": "markdown",
   "metadata": {},
   "source": [
    "# Определение стоимости автомобилей"
   ]
  },
  {
   "cell_type": "markdown",
   "metadata": {},
   "source": [
    "Сервис по продаже автомобилей с пробегом «Не бит, не крашен» разрабатывает приложение для привлечения новых клиентов. В нём можно быстро узнать рыночную стоимость своего автомобиля. В вашем распоряжении исторические данные: технические характеристики, комплектации и цены автомобилей. Вам нужно построить модель для определения стоимости. \n",
    "\n",
    "Заказчику важны:\n",
    "\n",
    "- качество предсказания;\n",
    "- скорость предсказания;\n",
    "- время обучения."
   ]
  },
  {
   "cell_type": "markdown",
   "metadata": {},
   "source": [
    "## Подготовка данных"
   ]
  },
  {
   "cell_type": "markdown",
   "metadata": {},
   "source": [
    "### Подключение библиотек и модулей"
   ]
  },
  {
   "cell_type": "code",
   "execution_count": 1,
   "metadata": {},
   "outputs": [],
   "source": [
    "# ячейка для подключения модулей python  и настроек отображения\n",
    "import pandas as pd\n",
    "import numpy as np\n",
    "import matplotlib.pyplot as plt\n",
    "import seaborn as sns\n",
    "from datetime import datetime\n",
    "from statistics import mode\n",
    "from sklearn.model_selection import train_test_split\n",
    "from sklearn.linear_model import Lasso, Ridge\n",
    "from sklearn.ensemble import RandomForestRegressor\n",
    "from sklearn.metrics import mean_squared_error\n",
    "from sklearn.preprocessing import StandardScaler\n",
    "from tqdm import tqdm\n",
    "from lightgbm import LGBMRegressor\n",
    "from time import time\n",
    "\n",
    "pd.set_option(\"display.max_columns\", None)\n",
    "\n",
    "# Константа псевдослучайности для алгоритмов обучения\n",
    "RANDOM = 1111"
   ]
  },
  {
   "cell_type": "markdown",
   "metadata": {},
   "source": [
    "### Загрузка данных"
   ]
  },
  {
   "cell_type": "markdown",
   "metadata": {},
   "source": [
    "Данные загружаются из файла формата CSV."
   ]
  },
  {
   "cell_type": "code",
   "execution_count": 2,
   "metadata": {
    "scrolled": true
   },
   "outputs": [
    {
     "data": {
      "text/html": [
       "<div>\n",
       "<style scoped>\n",
       "    .dataframe tbody tr th:only-of-type {\n",
       "        vertical-align: middle;\n",
       "    }\n",
       "\n",
       "    .dataframe tbody tr th {\n",
       "        vertical-align: top;\n",
       "    }\n",
       "\n",
       "    .dataframe thead th {\n",
       "        text-align: right;\n",
       "    }\n",
       "</style>\n",
       "<table border=\"1\" class=\"dataframe\">\n",
       "  <thead>\n",
       "    <tr style=\"text-align: right;\">\n",
       "      <th></th>\n",
       "      <th>DateCrawled</th>\n",
       "      <th>Price</th>\n",
       "      <th>VehicleType</th>\n",
       "      <th>RegistrationYear</th>\n",
       "      <th>Gearbox</th>\n",
       "      <th>Power</th>\n",
       "      <th>Model</th>\n",
       "      <th>Kilometer</th>\n",
       "      <th>RegistrationMonth</th>\n",
       "      <th>FuelType</th>\n",
       "      <th>Brand</th>\n",
       "      <th>NotRepaired</th>\n",
       "      <th>DateCreated</th>\n",
       "      <th>NumberOfPictures</th>\n",
       "      <th>PostalCode</th>\n",
       "      <th>LastSeen</th>\n",
       "    </tr>\n",
       "  </thead>\n",
       "  <tbody>\n",
       "    <tr>\n",
       "      <th>0</th>\n",
       "      <td>2016-03-24 11:52:17</td>\n",
       "      <td>480</td>\n",
       "      <td>NaN</td>\n",
       "      <td>1993</td>\n",
       "      <td>manual</td>\n",
       "      <td>0</td>\n",
       "      <td>golf</td>\n",
       "      <td>150000</td>\n",
       "      <td>0</td>\n",
       "      <td>petrol</td>\n",
       "      <td>volkswagen</td>\n",
       "      <td>NaN</td>\n",
       "      <td>2016-03-24 00:00:00</td>\n",
       "      <td>0</td>\n",
       "      <td>70435</td>\n",
       "      <td>2016-04-07 03:16:57</td>\n",
       "    </tr>\n",
       "    <tr>\n",
       "      <th>1</th>\n",
       "      <td>2016-03-24 10:58:45</td>\n",
       "      <td>18300</td>\n",
       "      <td>coupe</td>\n",
       "      <td>2011</td>\n",
       "      <td>manual</td>\n",
       "      <td>190</td>\n",
       "      <td>NaN</td>\n",
       "      <td>125000</td>\n",
       "      <td>5</td>\n",
       "      <td>gasoline</td>\n",
       "      <td>audi</td>\n",
       "      <td>yes</td>\n",
       "      <td>2016-03-24 00:00:00</td>\n",
       "      <td>0</td>\n",
       "      <td>66954</td>\n",
       "      <td>2016-04-07 01:46:50</td>\n",
       "    </tr>\n",
       "    <tr>\n",
       "      <th>2</th>\n",
       "      <td>2016-03-14 12:52:21</td>\n",
       "      <td>9800</td>\n",
       "      <td>suv</td>\n",
       "      <td>2004</td>\n",
       "      <td>auto</td>\n",
       "      <td>163</td>\n",
       "      <td>grand</td>\n",
       "      <td>125000</td>\n",
       "      <td>8</td>\n",
       "      <td>gasoline</td>\n",
       "      <td>jeep</td>\n",
       "      <td>NaN</td>\n",
       "      <td>2016-03-14 00:00:00</td>\n",
       "      <td>0</td>\n",
       "      <td>90480</td>\n",
       "      <td>2016-04-05 12:47:46</td>\n",
       "    </tr>\n",
       "    <tr>\n",
       "      <th>3</th>\n",
       "      <td>2016-03-17 16:54:04</td>\n",
       "      <td>1500</td>\n",
       "      <td>small</td>\n",
       "      <td>2001</td>\n",
       "      <td>manual</td>\n",
       "      <td>75</td>\n",
       "      <td>golf</td>\n",
       "      <td>150000</td>\n",
       "      <td>6</td>\n",
       "      <td>petrol</td>\n",
       "      <td>volkswagen</td>\n",
       "      <td>no</td>\n",
       "      <td>2016-03-17 00:00:00</td>\n",
       "      <td>0</td>\n",
       "      <td>91074</td>\n",
       "      <td>2016-03-17 17:40:17</td>\n",
       "    </tr>\n",
       "    <tr>\n",
       "      <th>4</th>\n",
       "      <td>2016-03-31 17:25:20</td>\n",
       "      <td>3600</td>\n",
       "      <td>small</td>\n",
       "      <td>2008</td>\n",
       "      <td>manual</td>\n",
       "      <td>69</td>\n",
       "      <td>fabia</td>\n",
       "      <td>90000</td>\n",
       "      <td>7</td>\n",
       "      <td>gasoline</td>\n",
       "      <td>skoda</td>\n",
       "      <td>no</td>\n",
       "      <td>2016-03-31 00:00:00</td>\n",
       "      <td>0</td>\n",
       "      <td>60437</td>\n",
       "      <td>2016-04-06 10:17:21</td>\n",
       "    </tr>\n",
       "  </tbody>\n",
       "</table>\n",
       "</div>"
      ],
      "text/plain": [
       "           DateCrawled  Price VehicleType  RegistrationYear Gearbox  Power  \\\n",
       "0  2016-03-24 11:52:17    480         NaN              1993  manual      0   \n",
       "1  2016-03-24 10:58:45  18300       coupe              2011  manual    190   \n",
       "2  2016-03-14 12:52:21   9800         suv              2004    auto    163   \n",
       "3  2016-03-17 16:54:04   1500       small              2001  manual     75   \n",
       "4  2016-03-31 17:25:20   3600       small              2008  manual     69   \n",
       "\n",
       "   Model  Kilometer  RegistrationMonth  FuelType       Brand NotRepaired  \\\n",
       "0   golf     150000                  0    petrol  volkswagen         NaN   \n",
       "1    NaN     125000                  5  gasoline        audi         yes   \n",
       "2  grand     125000                  8  gasoline        jeep         NaN   \n",
       "3   golf     150000                  6    petrol  volkswagen          no   \n",
       "4  fabia      90000                  7  gasoline       skoda          no   \n",
       "\n",
       "           DateCreated  NumberOfPictures  PostalCode             LastSeen  \n",
       "0  2016-03-24 00:00:00                 0       70435  2016-04-07 03:16:57  \n",
       "1  2016-03-24 00:00:00                 0       66954  2016-04-07 01:46:50  \n",
       "2  2016-03-14 00:00:00                 0       90480  2016-04-05 12:47:46  \n",
       "3  2016-03-17 00:00:00                 0       91074  2016-03-17 17:40:17  \n",
       "4  2016-03-31 00:00:00                 0       60437  2016-04-06 10:17:21  "
      ]
     },
     "metadata": {},
     "output_type": "display_data"
    },
    {
     "name": "stdout",
     "output_type": "stream",
     "text": [
      "<class 'pandas.core.frame.DataFrame'>\n",
      "RangeIndex: 354369 entries, 0 to 354368\n",
      "Data columns (total 16 columns):\n",
      " #   Column             Non-Null Count   Dtype \n",
      "---  ------             --------------   ----- \n",
      " 0   DateCrawled        354369 non-null  object\n",
      " 1   Price              354369 non-null  int64 \n",
      " 2   VehicleType        316879 non-null  object\n",
      " 3   RegistrationYear   354369 non-null  int64 \n",
      " 4   Gearbox            334536 non-null  object\n",
      " 5   Power              354369 non-null  int64 \n",
      " 6   Model              334664 non-null  object\n",
      " 7   Kilometer          354369 non-null  int64 \n",
      " 8   RegistrationMonth  354369 non-null  int64 \n",
      " 9   FuelType           321474 non-null  object\n",
      " 10  Brand              354369 non-null  object\n",
      " 11  NotRepaired        283215 non-null  object\n",
      " 12  DateCreated        354369 non-null  object\n",
      " 13  NumberOfPictures   354369 non-null  int64 \n",
      " 14  PostalCode         354369 non-null  int64 \n",
      " 15  LastSeen           354369 non-null  object\n",
      "dtypes: int64(7), object(9)\n",
      "memory usage: 43.3+ MB\n"
     ]
    },
    {
     "data": {
      "text/plain": [
       "None"
      ]
     },
     "metadata": {},
     "output_type": "display_data"
    },
    {
     "data": {
      "text/html": [
       "<div>\n",
       "<style scoped>\n",
       "    .dataframe tbody tr th:only-of-type {\n",
       "        vertical-align: middle;\n",
       "    }\n",
       "\n",
       "    .dataframe tbody tr th {\n",
       "        vertical-align: top;\n",
       "    }\n",
       "\n",
       "    .dataframe thead th {\n",
       "        text-align: right;\n",
       "    }\n",
       "</style>\n",
       "<table border=\"1\" class=\"dataframe\">\n",
       "  <thead>\n",
       "    <tr style=\"text-align: right;\">\n",
       "      <th></th>\n",
       "      <th>Price</th>\n",
       "      <th>RegistrationYear</th>\n",
       "      <th>Power</th>\n",
       "      <th>Kilometer</th>\n",
       "      <th>RegistrationMonth</th>\n",
       "      <th>NumberOfPictures</th>\n",
       "      <th>PostalCode</th>\n",
       "    </tr>\n",
       "  </thead>\n",
       "  <tbody>\n",
       "    <tr>\n",
       "      <th>count</th>\n",
       "      <td>354369.000000</td>\n",
       "      <td>354369.000000</td>\n",
       "      <td>354369.000000</td>\n",
       "      <td>354369.000000</td>\n",
       "      <td>354369.000000</td>\n",
       "      <td>354369.0</td>\n",
       "      <td>354369.000000</td>\n",
       "    </tr>\n",
       "    <tr>\n",
       "      <th>mean</th>\n",
       "      <td>4416.656776</td>\n",
       "      <td>2004.234448</td>\n",
       "      <td>110.094337</td>\n",
       "      <td>128211.172535</td>\n",
       "      <td>5.714645</td>\n",
       "      <td>0.0</td>\n",
       "      <td>50508.689087</td>\n",
       "    </tr>\n",
       "    <tr>\n",
       "      <th>std</th>\n",
       "      <td>4514.158514</td>\n",
       "      <td>90.227958</td>\n",
       "      <td>189.850405</td>\n",
       "      <td>37905.341530</td>\n",
       "      <td>3.726421</td>\n",
       "      <td>0.0</td>\n",
       "      <td>25783.096248</td>\n",
       "    </tr>\n",
       "    <tr>\n",
       "      <th>min</th>\n",
       "      <td>0.000000</td>\n",
       "      <td>1000.000000</td>\n",
       "      <td>0.000000</td>\n",
       "      <td>5000.000000</td>\n",
       "      <td>0.000000</td>\n",
       "      <td>0.0</td>\n",
       "      <td>1067.000000</td>\n",
       "    </tr>\n",
       "    <tr>\n",
       "      <th>25%</th>\n",
       "      <td>1050.000000</td>\n",
       "      <td>1999.000000</td>\n",
       "      <td>69.000000</td>\n",
       "      <td>125000.000000</td>\n",
       "      <td>3.000000</td>\n",
       "      <td>0.0</td>\n",
       "      <td>30165.000000</td>\n",
       "    </tr>\n",
       "    <tr>\n",
       "      <th>50%</th>\n",
       "      <td>2700.000000</td>\n",
       "      <td>2003.000000</td>\n",
       "      <td>105.000000</td>\n",
       "      <td>150000.000000</td>\n",
       "      <td>6.000000</td>\n",
       "      <td>0.0</td>\n",
       "      <td>49413.000000</td>\n",
       "    </tr>\n",
       "    <tr>\n",
       "      <th>75%</th>\n",
       "      <td>6400.000000</td>\n",
       "      <td>2008.000000</td>\n",
       "      <td>143.000000</td>\n",
       "      <td>150000.000000</td>\n",
       "      <td>9.000000</td>\n",
       "      <td>0.0</td>\n",
       "      <td>71083.000000</td>\n",
       "    </tr>\n",
       "    <tr>\n",
       "      <th>max</th>\n",
       "      <td>20000.000000</td>\n",
       "      <td>9999.000000</td>\n",
       "      <td>20000.000000</td>\n",
       "      <td>150000.000000</td>\n",
       "      <td>12.000000</td>\n",
       "      <td>0.0</td>\n",
       "      <td>99998.000000</td>\n",
       "    </tr>\n",
       "  </tbody>\n",
       "</table>\n",
       "</div>"
      ],
      "text/plain": [
       "               Price  RegistrationYear          Power      Kilometer  \\\n",
       "count  354369.000000     354369.000000  354369.000000  354369.000000   \n",
       "mean     4416.656776       2004.234448     110.094337  128211.172535   \n",
       "std      4514.158514         90.227958     189.850405   37905.341530   \n",
       "min         0.000000       1000.000000       0.000000    5000.000000   \n",
       "25%      1050.000000       1999.000000      69.000000  125000.000000   \n",
       "50%      2700.000000       2003.000000     105.000000  150000.000000   \n",
       "75%      6400.000000       2008.000000     143.000000  150000.000000   \n",
       "max     20000.000000       9999.000000   20000.000000  150000.000000   \n",
       "\n",
       "       RegistrationMonth  NumberOfPictures     PostalCode  \n",
       "count      354369.000000          354369.0  354369.000000  \n",
       "mean            5.714645               0.0   50508.689087  \n",
       "std             3.726421               0.0   25783.096248  \n",
       "min             0.000000               0.0    1067.000000  \n",
       "25%             3.000000               0.0   30165.000000  \n",
       "50%             6.000000               0.0   49413.000000  \n",
       "75%             9.000000               0.0   71083.000000  \n",
       "max            12.000000               0.0   99998.000000  "
      ]
     },
     "metadata": {},
     "output_type": "display_data"
    }
   ],
   "source": [
    "# чтение файла CSV, в качестве разделителя использован символ табуляции\n",
    "autos = pd.read_csv('/datasets/autos.csv')\n",
    "# вывод на экран первых 5 строк считанного файла\n",
    "display(autos.head())\n",
    "# вывод сводной информации о таблице\n",
    "display(autos.info())\n",
    "# вывод основных статистик\n",
    "display(autos.describe())"
   ]
  },
  {
   "cell_type": "markdown",
   "metadata": {},
   "source": [
    "Данные из файла считались, таблица содержит 354369 записей по 16 признакам.\n",
    "\n",
    "Названия признаков и их расшифровка:\n",
    "\n",
    "- DateCrawled — дата скачивания анкеты из базы\n",
    "- VehicleType — тип автомобильного кузова\n",
    "- RegistrationYear — год регистрации автомобиля\n",
    "- Gearbox — тип коробки передач\n",
    "- Power — мощность (л. с.)\n",
    "- Model — модель автомобиля\n",
    "- Kilometer — пробег (км)\n",
    "- RegistrationMonth — месяц регистрации автомобиля\n",
    "- FuelType — тип топлива\n",
    "- Brand — марка автомобиля\n",
    "- NotRepaired — была машина в ремонте или нет\n",
    "- DateCreated — дата создания анкеты\n",
    "- NumberOfPictures — количество фотографий автомобиля\n",
    "- PostalCode — почтовый индекс владельца анкеты (пользователя)\n",
    "- LastSeen — дата последней активности пользователя\n",
    "\n",
    "Целевой признак:\n",
    "- Price — цена (евро)\n",
    "\n",
    "В данных наблюдаются пропуски. В таблице данные предоставлены следующими типами: int, object."
   ]
  },
  {
   "cell_type": "markdown",
   "metadata": {},
   "source": [
    "<div class=\"alert alert-block alert-success\"; style=\"border-left: 6px solid green\">\n",
    "<b>Успех ✔️</b>\n",
    "       \n",
    "Данные на базе, идем дальше)\n",
    "    \n",
    "</div>"
   ]
  },
  {
   "cell_type": "markdown",
   "metadata": {},
   "source": [
    "### Предобработка данных"
   ]
  },
  {
   "cell_type": "markdown",
   "metadata": {},
   "source": [
    "Сохраним количество объектов в переменной autos_count."
   ]
  },
  {
   "cell_type": "code",
   "execution_count": 3,
   "metadata": {},
   "outputs": [],
   "source": [
    "autos_count = autos.shape[0]"
   ]
  },
  {
   "cell_type": "markdown",
   "metadata": {},
   "source": [
    "#### Признак DateCrawled.\n",
    "Признак DateCrawled сам по себе не несёт полезной информации, удалим его."
   ]
  },
  {
   "cell_type": "code",
   "execution_count": 4,
   "metadata": {},
   "outputs": [],
   "source": [
    "autos.drop(['DateCrawled'], axis=1, inplace=True)"
   ]
  },
  {
   "cell_type": "markdown",
   "metadata": {},
   "source": [
    "#### Признаки DateCreated, LastSeen.\n",
    "Признаки дат приведём к формату datetime и выделим отдельные категориальные признаки: год, месяц, число."
   ]
  },
  {
   "cell_type": "code",
   "execution_count": 5,
   "metadata": {
    "scrolled": false
   },
   "outputs": [],
   "source": [
    "for column in ('DateCreated', 'LastSeen'):\n",
    "    autos[column] = pd.to_datetime(autos[column], format='%Y-%m-%d %H:%M:%S')\n",
    "    autos[column + '_year'] = pd.DatetimeIndex(autos[column]).year\n",
    "    autos[column + '_month'] = pd.DatetimeIndex(autos[column]).month                                           \n",
    "    autos[column + '_day'] = pd.DatetimeIndex(autos[column]).day\n",
    "    autos.drop([column], axis=1, inplace=True)"
   ]
  },
  {
   "cell_type": "markdown",
   "metadata": {},
   "source": [
    "#### Признаки VehicleType.\n",
    "Тип автомобильного кузова."
   ]
  },
  {
   "cell_type": "code",
   "execution_count": 6,
   "metadata": {
    "scrolled": true
   },
   "outputs": [
    {
     "name": "stdout",
     "output_type": "stream",
     "text": [
      "Доля пропусков в признаке VehicleType: 0.1057936783409384\n",
      "Уникальные значения признака VehicleType: [nan 'coupe' 'suv' 'small' 'sedan' 'convertible' 'bus' 'wagon' 'other']\n"
     ]
    }
   ],
   "source": [
    "print('Доля пропусков в признаке VehicleType:', autos['VehicleType'].isna().sum()/autos.shape[0])\n",
    "print('Уникальные значения признака VehicleType:', autos['VehicleType'].unique())"
   ]
  },
  {
   "cell_type": "markdown",
   "metadata": {},
   "source": [
    "Так как определить тип кузова возможности нет, создадим отдельную категорию \"no data\". Пропущенные значения нельзя определить как \"other\", по причине того, что иной тип кузова исключает определённые, а пропущеные могут совпадать."
   ]
  },
  {
   "cell_type": "code",
   "execution_count": 7,
   "metadata": {},
   "outputs": [],
   "source": [
    "autos['VehicleType'] = autos['VehicleType'].fillna('no data')"
   ]
  },
  {
   "cell_type": "markdown",
   "metadata": {},
   "source": [
    "#### Признак RegistrationYear.\n",
    "Год регистрации автомобиля."
   ]
  },
  {
   "cell_type": "code",
   "execution_count": 8,
   "metadata": {
    "scrolled": true
   },
   "outputs": [
    {
     "name": "stdout",
     "output_type": "stream",
     "text": [
      "Уникальные значения признака RegistrationYear: [1000 1001 1039 1111 1200 1234 1253 1255 1300 1400 1500 1600 1602 1688\n",
      " 1800 1910 1915 1919 1920 1923 1925 1927 1928 1929 1930 1931 1932 1933\n",
      " 1934 1935 1936 1937 1938 1940 1941 1942 1943 1944 1945 1946 1947 1948\n",
      " 1949 1950 1951 1952 1953 1954 1955 1956 1957 1958 1959 1960 1961 1962\n",
      " 1963 1964 1965 1966 1967 1968 1969 1970 1971 1972 1973 1974 1975 1976\n",
      " 1977 1978 1979 1980 1981 1982 1983 1984 1985 1986 1987 1988 1989 1990\n",
      " 1991 1992 1993 1994 1995 1996 1997 1998 1999 2000 2001 2002 2003 2004\n",
      " 2005 2006 2007 2008 2009 2010 2011 2012 2013 2014 2015 2016 2017 2018\n",
      " 2019 2066 2200 2222 2290 2500 2800 2900 3000 3200 3500 3700 3800 4000\n",
      " 4100 4500 4800 5000 5300 5555 5600 5900 5911 6000 6500 7000 7100 7500\n",
      " 7800 8000 8200 8455 8500 8888 9000 9229 9450 9996 9999]\n"
     ]
    }
   ],
   "source": [
    "print('Уникальные значения признака RegistrationYear:', autos['RegistrationYear'].sort_values().unique())"
   ]
  },
  {
   "cell_type": "code",
   "execution_count": 9,
   "metadata": {
    "scrolled": true
   },
   "outputs": [
    {
     "data": {
      "image/png": "[encoded data removed]",
      "text/plain": [
       "<Figure size 432x288 with 1 Axes>"
      ]
     },
     "metadata": {
      "needs_background": "light"
     },
     "output_type": "display_data"
    }
   ],
   "source": [
    "autos.plot(y='RegistrationYear', kind='hist', bins=50, range=(1900, 2020))\n",
    "plt.show()"
   ]
  },
  {
   "cell_type": "code",
   "execution_count": 10,
   "metadata": {
    "scrolled": true
   },
   "outputs": [
    {
     "name": "stdout",
     "output_type": "stream",
     "text": [
      "Количество автомобилей со значением года регистрации вне диапазона 1940 - 2020 года: 327\n"
     ]
    }
   ],
   "source": [
    "print('Количество автомобилей со значением года регистрации вне диапазона 1940 - 2020 года:',\n",
    "      autos.shape[0] - autos.query('1940 <= RegistrationYear <= 2020')['VehicleType'].count())"
   ]
  },
  {
   "cell_type": "markdown",
   "metadata": {},
   "source": [
    "Удалим автомобили с данными регистрации вне диапазона 1940 - 2020 года, так как их доля в датасете незначительна."
   ]
  },
  {
   "cell_type": "code",
   "execution_count": 11,
   "metadata": {},
   "outputs": [],
   "source": [
    "autos = autos.query('1940 <= RegistrationYear <= DateCreated_year')"
   ]
  },
  {
   "cell_type": "markdown",
   "metadata": {},
   "source": [
    "\n",
    "<div class=\"alert alert-block alert-danger\"; style=\"border-left: 6px solid red\">\n",
    "<b>Ошибка ❌</b>\n",
    "       \n",
    "У нас нет уверенности, что данные выгружены в 2020 году. Подсказать актуальную верхнюю границу года для этих данных нам может признак \"дата создания анкеты\"\n",
    "    \n",
    "</div>"
   ]
  },
  {
   "cell_type": "markdown",
   "metadata": {},
   "source": [
    "<div class=\"alert alert-block alert-info\">\n",
    "<b>Комментарий студента:</b> Спасибо за подсказку, изменил верхнюю границу с \"2020\" на значение из колонки \"DateCreated_year\".</div>"
   ]
  },
  {
   "cell_type": "markdown",
   "metadata": {},
   "source": [
    "#### Признак Gearbox.\n",
    "Тип коробки передач."
   ]
  },
  {
   "cell_type": "code",
   "execution_count": 12,
   "metadata": {
    "scrolled": true
   },
   "outputs": [
    {
     "name": "stdout",
     "output_type": "stream",
     "text": [
      "Доля пропусков в признаке Gearbox: 0.052464982612766733\n",
      "Уникальные значения признака Gearbox: ['manual' 'auto' nan]\n"
     ]
    }
   ],
   "source": [
    "print('Доля пропусков в признаке Gearbox:', autos['Gearbox'].isna().sum()/autos.shape[0])\n",
    "print('Уникальные значения признака Gearbox:', autos['Gearbox'].unique())"
   ]
  },
  {
   "cell_type": "markdown",
   "metadata": {},
   "source": [
    "Так как определить тип кузова возможности нет, создадим отдельную категорию \"no data\"."
   ]
  },
  {
   "cell_type": "code",
   "execution_count": 13,
   "metadata": {},
   "outputs": [
    {
     "name": "stderr",
     "output_type": "stream",
     "text": [
      "/tmp/ipykernel_48/2898498920.py:1: SettingWithCopyWarning: \n",
      "A value is trying to be set on a copy of a slice from a DataFrame.\n",
      "Try using .loc[row_indexer,col_indexer] = value instead\n",
      "\n",
      "See the caveats in the documentation: https://pandas.pydata.org/pandas-docs/stable/user_guide/indexing.html#returning-a-view-versus-a-copy\n",
      "  autos['Gearbox'] = autos['Gearbox'].fillna('no data')\n"
     ]
    }
   ],
   "source": [
    "autos['Gearbox'] = autos['Gearbox'].fillna('no data')"
   ]
  },
  {
   "cell_type": "markdown",
   "metadata": {},
   "source": [
    "#### Признак Brand.\n",
    "Марка автомобиля."
   ]
  },
  {
   "cell_type": "code",
   "execution_count": 14,
   "metadata": {},
   "outputs": [
    {
     "name": "stdout",
     "output_type": "stream",
     "text": [
      "Уникальные значения признака Brand: ['volkswagen' 'audi' 'jeep' 'skoda' 'bmw' 'peugeot' 'ford' 'mazda'\n",
      " 'nissan' 'renault' 'mercedes_benz' 'seat' 'honda' 'fiat' 'opel' 'mini'\n",
      " 'smart' 'hyundai' 'sonstige_autos' 'alfa_romeo' 'subaru' 'volvo'\n",
      " 'mitsubishi' 'kia' 'suzuki' 'lancia' 'citroen' 'toyota' 'chevrolet'\n",
      " 'dacia' 'daihatsu' 'trabant' 'saab' 'chrysler' 'jaguar' 'daewoo'\n",
      " 'porsche' 'rover' 'land_rover' 'lada']\n"
     ]
    }
   ],
   "source": [
    "print('Уникальные значения признака Brand:', autos['Brand'].unique())"
   ]
  },
  {
   "cell_type": "markdown",
   "metadata": {},
   "source": [
    "Признак марки автомобиля не нуждается в предобработке."
   ]
  },
  {
   "cell_type": "markdown",
   "metadata": {},
   "source": [
    "#### Признак Model.\n",
    "Марка автомобиля."
   ]
  },
  {
   "cell_type": "code",
   "execution_count": 15,
   "metadata": {},
   "outputs": [
    {
     "name": "stdout",
     "output_type": "stream",
     "text": [
      "Доля пропусков в признаке Model: 0.051658191433291034\n",
      "Уникальные значения признака Model: ['100' '145' '147' '156' '159' '1_reihe' '1er' '200' '2_reihe' '300c'\n",
      " '3_reihe' '3er' '4_reihe' '500' '5_reihe' '5er' '601' '6_reihe' '6er'\n",
      " '7er' '80' '850' '90' '900' '9000' '911' 'a1' 'a2' 'a3' 'a4' 'a5' 'a6'\n",
      " 'a8' 'a_klasse' 'accord' 'agila' 'alhambra' 'almera' 'altea' 'amarok'\n",
      " 'antara' 'arosa' 'astra' 'auris' 'avensis' 'aveo' 'aygo' 'b_klasse'\n",
      " 'b_max' 'beetle' 'berlingo' 'bora' 'boxster' 'bravo' 'c1' 'c2' 'c3' 'c4'\n",
      " 'c5' 'c_klasse' 'c_max' 'c_reihe' 'caddy' 'calibra' 'captiva' 'carisma'\n",
      " 'carnival' 'cayenne' 'cc' 'ceed' 'charade' 'cherokee' 'citigo' 'civic'\n",
      " 'cl' 'clio' 'clk' 'clubman' 'colt' 'combo' 'cooper' 'cordoba' 'corolla'\n",
      " 'corsa' 'cr_reihe' 'croma' 'crossfire' 'cuore' 'cx_reihe' 'defender'\n",
      " 'delta' 'discovery' 'doblo' 'ducato' 'duster' 'e_klasse' 'elefantino'\n",
      " 'eos' 'escort' 'espace' 'exeo' 'fabia' 'fiesta' 'focus' 'forester'\n",
      " 'forfour' 'fortwo' 'fox' 'freelander' 'fusion' 'g_klasse' 'galant'\n",
      " 'galaxy' 'getz' 'gl' 'glk' 'golf' 'grand' 'i3' 'i_reihe' 'ibiza'\n",
      " 'impreza' 'insignia' 'jazz' 'jetta' 'jimny' 'juke' 'justy' 'ka' 'kadett'\n",
      " 'kaefer' 'kalina' 'kalos' 'kangoo' 'kappa' 'kuga' 'laguna' 'lancer'\n",
      " 'lanos' 'legacy' 'leon' 'lodgy' 'logan' 'lupo' 'lybra' 'm_klasse'\n",
      " 'm_reihe' 'materia' 'matiz' 'megane' 'meriva' 'micra' 'mii' 'modus'\n",
      " 'mondeo' 'move' 'musa' 'mustang' 'mx_reihe' 'navara' 'niva' 'note'\n",
      " 'nubira' 'octavia' 'omega' 'one' 'other' 'outlander' 'pajero' 'panda'\n",
      " 'passat' 'phaeton' 'picanto' 'polo' 'primera' 'ptcruiser' 'punto' 'q3'\n",
      " 'q5' 'q7' 'qashqai' 'r19' 'range_rover' 'range_rover_evoque'\n",
      " 'range_rover_sport' 'rangerover' 'rav' 'rio' 'roadster' 'roomster'\n",
      " 'rx_reihe' 's60' 's_klasse' 's_max' 's_type' 'samara' 'sandero' 'santa'\n",
      " 'scenic' 'scirocco' 'seicento' 'serie_1' 'serie_2' 'serie_3' 'sharan'\n",
      " 'signum' 'sirion' 'sl' 'slk' 'sorento' 'spark' 'spider' 'sportage'\n",
      " 'sprinter' 'stilo' 'superb' 'swift' 'terios' 'tigra' 'tiguan' 'toledo'\n",
      " 'touareg' 'touran' 'transit' 'transporter' 'tt' 'tucson' 'twingo' 'up'\n",
      " 'v40' 'v50' 'v60' 'v70' 'v_klasse' 'vectra' 'verso' 'viano' 'vito'\n",
      " 'vivaro' 'voyager' 'wrangler' 'x_reihe' 'x_trail' 'x_type' 'xc_reihe'\n",
      " 'yaris' 'yeti' 'ypsilon' 'z_reihe' 'zafira' nan]\n"
     ]
    }
   ],
   "source": [
    "print('Доля пропусков в признаке Model:', autos['Model'].isna().sum()/autos.shape[0])\n",
    "print('Уникальные значения признака Model:', autos['Model'].sort_values().unique())"
   ]
  },
  {
   "cell_type": "markdown",
   "metadata": {},
   "source": [
    "Доля пропусков в признаке составляет 5,5%, заменим пропуски модами по брендам."
   ]
  },
  {
   "cell_type": "code",
   "execution_count": 16,
   "metadata": {
    "scrolled": true
   },
   "outputs": [
    {
     "name": "stderr",
     "output_type": "stream",
     "text": [
      "/tmp/ipykernel_48/3047979875.py:1: SettingWithCopyWarning: \n",
      "A value is trying to be set on a copy of a slice from a DataFrame.\n",
      "Try using .loc[row_indexer,col_indexer] = value instead\n",
      "\n",
      "See the caveats in the documentation: https://pandas.pydata.org/pandas-docs/stable/user_guide/indexing.html#returning-a-view-versus-a-copy\n",
      "  autos['Model'] = autos['Model'].fillna(autos.groupby('Brand')['Model'].transform(mode))\n"
     ]
    }
   ],
   "source": [
    "autos['Model'] = autos['Model'].fillna(autos.groupby('Brand')['Model'].transform(mode))"
   ]
  },
  {
   "cell_type": "code",
   "execution_count": 17,
   "metadata": {},
   "outputs": [
    {
     "name": "stdout",
     "output_type": "stream",
     "text": [
      "Доля пропусков в признаке Model: 0.009257487110480335\n"
     ]
    }
   ],
   "source": [
    "print('Доля пропусков в признаке Model:', autos['Model'].isna().sum()/autos.shape[0])"
   ]
  },
  {
   "cell_type": "markdown",
   "metadata": {},
   "source": [
    "Не все пропуски заполнились, какая то из категорий признака брэнд не облодала модой для заполнения. Определим её по группировке."
   ]
  },
  {
   "cell_type": "code",
   "execution_count": 18,
   "metadata": {},
   "outputs": [
    {
     "data": {
      "text/plain": [
       "Brand\n",
       "alfa_romeo         2232\n",
       "audi              28472\n",
       "bmw               35792\n",
       "chevrolet          1702\n",
       "chrysler           1393\n",
       "citroen            4910\n",
       "dacia               874\n",
       "daewoo              513\n",
       "daihatsu            780\n",
       "fiat               9154\n",
       "ford              24154\n",
       "honda              2688\n",
       "hyundai            3446\n",
       "jaguar              500\n",
       "jeep                651\n",
       "kia                2364\n",
       "lada                218\n",
       "lancia              448\n",
       "land_rover          537\n",
       "mazda              5397\n",
       "mercedes_benz     30999\n",
       "mini               3094\n",
       "mitsubishi         2909\n",
       "nissan             4747\n",
       "opel              37983\n",
       "peugeot           10620\n",
       "porsche             747\n",
       "renault           16925\n",
       "rover               459\n",
       "saab                514\n",
       "seat               6535\n",
       "skoda              5358\n",
       "smart              5029\n",
       "sonstige_autos        0\n",
       "subaru              740\n",
       "suzuki             2249\n",
       "toyota             4459\n",
       "trabant             570\n",
       "volkswagen        73169\n",
       "volvo              3142\n",
       "Name: Model, dtype: int64"
      ]
     },
     "execution_count": 18,
     "metadata": {},
     "output_type": "execute_result"
    }
   ],
   "source": [
    "autos.groupby('Brand')['Model'].count()"
   ]
  },
  {
   "cell_type": "markdown",
   "metadata": {},
   "source": [
    "Категория sonstige_autos признака брэнд не содержит ни одного значения модели. Назначим всем автомобилям sonstige_autos модель \"no data\"."
   ]
  },
  {
   "cell_type": "code",
   "execution_count": 19,
   "metadata": {},
   "outputs": [
    {
     "name": "stderr",
     "output_type": "stream",
     "text": [
      "/tmp/ipykernel_48/3319108347.py:1: SettingWithCopyWarning: \n",
      "A value is trying to be set on a copy of a slice from a DataFrame.\n",
      "Try using .loc[row_indexer,col_indexer] = value instead\n",
      "\n",
      "See the caveats in the documentation: https://pandas.pydata.org/pandas-docs/stable/user_guide/indexing.html#returning-a-view-versus-a-copy\n",
      "  autos['Model'] = autos['Model'].fillna('no data')\n"
     ]
    }
   ],
   "source": [
    "autos['Model'] = autos['Model'].fillna('no data')"
   ]
  },
  {
   "cell_type": "code",
   "execution_count": 20,
   "metadata": {},
   "outputs": [
    {
     "name": "stdout",
     "output_type": "stream",
     "text": [
      "Доля пропусков в признаке Model: 0.0\n"
     ]
    }
   ],
   "source": [
    "print('Доля пропусков в признаке Model:', autos['Model'].isna().sum()/autos.shape[0])"
   ]
  },
  {
   "cell_type": "markdown",
   "metadata": {},
   "source": [
    "#### Признак Power.\n",
    "мощность (л. с.)"
   ]
  },
  {
   "cell_type": "code",
   "execution_count": 21,
   "metadata": {},
   "outputs": [
    {
     "data": {
      "image/png": "[encoded data removed]",
      "text/plain": [
       "<Figure size 432x288 with 1 Axes>"
      ]
     },
     "metadata": {
      "needs_background": "light"
     },
     "output_type": "display_data"
    },
    {
     "data": {
      "image/png": "[encoded data removed]",
      "text/plain": [
       "<Figure size 432x288 with 1 Axes>"
      ]
     },
     "metadata": {
      "needs_background": "light"
     },
     "output_type": "display_data"
    }
   ],
   "source": [
    "autos.plot(y='Power', kind='hist', bins=100, range=(0, 100))\n",
    "autos.plot(y='Power', kind='hist', bins=100, range=(800, 2100))\n",
    "plt.show()"
   ]
  },
  {
   "cell_type": "markdown",
   "metadata": {},
   "source": [
    "В признаке \"Power\" имеется значительный выброс со значением 0, заменим данное значение на медианное для соответствующей модели автомобиля, наименьшую границу мощности определим 40 (согласно графика, данное значение выглядит краем основного распределения). Также заменим на медиану все значения мощности более 600, как маловероятные."
   ]
  },
  {
   "cell_type": "code",
   "execution_count": 22,
   "metadata": {
    "scrolled": true
   },
   "outputs": [],
   "source": [
    "autos.loc[autos['Power'] < 40, 'Power'] = autos.groupby('Model')['Power'].transform('median')\n",
    "autos.loc[autos['Power'] > 600, 'Power'] = autos.groupby('Model')['Power'].transform('median')"
   ]
  },
  {
   "cell_type": "code",
   "execution_count": 23,
   "metadata": {
    "scrolled": true
   },
   "outputs": [
    {
     "data": {
      "image/png": "[encoded data removed]",
      "text/plain": [
       "<Figure size 432x288 with 1 Axes>"
      ]
     },
     "metadata": {
      "needs_background": "light"
     },
     "output_type": "display_data"
    }
   ],
   "source": [
    "autos.plot(y='Power', kind='hist', bins=100, range=(0, 40))\n",
    "plt.show()"
   ]
  },
  {
   "cell_type": "markdown",
   "metadata": {},
   "source": [
    "<div class=\"alert alert-block alert-info\">\n",
    "<b>Комментарий студента:</b> Значение мощности до 40 осталось для некоторых моделей автомобилей, так как для них медианой являются данные значения. Заменим для данных автомобилей значение мощности на медианное по всему датасету.\n",
    "\n",
    "</div>"
   ]
  },
  {
   "cell_type": "code",
   "execution_count": 24,
   "metadata": {},
   "outputs": [],
   "source": [
    "autos.loc[autos['Power'] < 40, 'Power'] = autos['Power'].median()"
   ]
  },
  {
   "cell_type": "code",
   "execution_count": 25,
   "metadata": {
    "scrolled": true
   },
   "outputs": [],
   "source": [
    "autos['Power'] = autos['Power'].astype('int')"
   ]
  },
  {
   "cell_type": "markdown",
   "metadata": {},
   "source": [
    "#### Признак Kilometer.\n",
    "Пробег (км)"
   ]
  },
  {
   "cell_type": "code",
   "execution_count": 26,
   "metadata": {},
   "outputs": [
    {
     "data": {
      "image/png": "[encoded data removed]",
      "text/plain": [
       "<Figure size 432x288 with 1 Axes>"
      ]
     },
     "metadata": {
      "needs_background": "light"
     },
     "output_type": "display_data"
    }
   ],
   "source": [
    "autos.plot(y='Kilometer', kind='hist', bins=100)\n",
    "plt.show()"
   ]
  },
  {
   "cell_type": "markdown",
   "metadata": {},
   "source": [
    "Распределение выглядит адекватно, признак не нуждается в обработке."
   ]
  },
  {
   "cell_type": "markdown",
   "metadata": {},
   "source": [
    "#### Признак RegistrationMonth.\n",
    "Месяц регистрации автомобиля"
   ]
  },
  {
   "cell_type": "code",
   "execution_count": 27,
   "metadata": {},
   "outputs": [
    {
     "name": "stdout",
     "output_type": "stream",
     "text": [
      "Уникальные значения признака RegistrationMonth: [ 0  1  2  3  4  5  6  7  8  9 10 11 12]\n"
     ]
    }
   ],
   "source": [
    "print('Уникальные значения признака RegistrationMonth:', autos['RegistrationMonth'].sort_values().unique())"
   ]
  },
  {
   "cell_type": "code",
   "execution_count": 28,
   "metadata": {},
   "outputs": [
    {
     "name": "stdout",
     "output_type": "stream",
     "text": [
      "Доля значений 0 в признаке RegistrationMonth: 0.09872002873825515\n"
     ]
    }
   ],
   "source": [
    "print('Доля значений 0 в признаке RegistrationMonth:', (autos['RegistrationMonth'] == 0).sum()/autos.shape[0])"
   ]
  },
  {
   "cell_type": "markdown",
   "metadata": {},
   "source": [
    "Доля значений 0 в признаке составляет 10%, это большое количество удалять их не стоит. Так как признак месяца регистрации является порядковым, то оставить значение 0 будет ошибкой, но сложно предположить на какое значение их стоит заменить. Думаю самое разумное предложение, это сезонность выбора модели автомобилей."
   ]
  },
  {
   "cell_type": "code",
   "execution_count": 29,
   "metadata": {},
   "outputs": [],
   "source": [
    "autos.loc[autos['RegistrationMonth'] == 0, 'RegistrationMonth'] = autos.groupby('Model')['RegistrationMonth'].transform(mode)"
   ]
  },
  {
   "cell_type": "code",
   "execution_count": 30,
   "metadata": {},
   "outputs": [
    {
     "name": "stdout",
     "output_type": "stream",
     "text": [
      "Доля значений 0 в признаке RegistrationMonth: 0.0606447851550423\n"
     ]
    }
   ],
   "source": [
    "print('Доля значений 0 в признаке RegistrationMonth:', (autos['RegistrationMonth'] == 0).sum()/autos.shape[0])"
   ]
  },
  {
   "cell_type": "markdown",
   "metadata": {},
   "source": [
    "Доля значений 0 снизилась на 2,5%, это значит, что для некоторых моделей автомобилей модой является 0. В таком случае заполним оставшиеся нулевыми значения модой по всем автомобилям."
   ]
  },
  {
   "cell_type": "code",
   "execution_count": 31,
   "metadata": {},
   "outputs": [],
   "source": [
    "autos.loc[autos['RegistrationMonth'] == 0, 'RegistrationMonth'] = autos['RegistrationMonth'].mode()[0]"
   ]
  },
  {
   "cell_type": "code",
   "execution_count": 32,
   "metadata": {},
   "outputs": [
    {
     "name": "stdout",
     "output_type": "stream",
     "text": [
      "Доля значений 0 в признаке RegistrationMonth: 0.0\n"
     ]
    }
   ],
   "source": [
    "print('Доля значений 0 в признаке RegistrationMonth:', (autos['RegistrationMonth'] == 0).sum()/autos.shape[0])"
   ]
  },
  {
   "cell_type": "markdown",
   "metadata": {},
   "source": [
    "#### Признак FuelType.\n",
    "Тип топлива."
   ]
  },
  {
   "cell_type": "code",
   "execution_count": 33,
   "metadata": {},
   "outputs": [
    {
     "name": "stdout",
     "output_type": "stream",
     "text": [
      "Доля пропусков в признаке FuelType: 0.07998127302225742\n",
      "Уникальные значения признака FuelType: ['cng' 'electric' 'gasoline' 'hybrid' 'lpg' 'other' 'petrol' nan]\n"
     ]
    }
   ],
   "source": [
    "print('Доля пропусков в признаке FuelType:', autos['FuelType'].isna().sum()/autos.shape[0])\n",
    "print('Уникальные значения признака FuelType:', autos['FuelType'].sort_values().unique())"
   ]
  },
  {
   "cell_type": "markdown",
   "metadata": {},
   "source": [
    "Пропуски в типе топлива заполним модой по моделям."
   ]
  },
  {
   "cell_type": "code",
   "execution_count": 34,
   "metadata": {},
   "outputs": [],
   "source": [
    "autos['FuelType'] = autos['FuelType'].fillna(autos.groupby('Model')['FuelType'].transform(mode))"
   ]
  },
  {
   "cell_type": "code",
   "execution_count": 35,
   "metadata": {},
   "outputs": [
    {
     "name": "stdout",
     "output_type": "stream",
     "text": [
      "Доля пропусков в признаке FuelType: 0.0\n",
      "Уникальные значения признака FuelType: ['cng' 'electric' 'gasoline' 'hybrid' 'lpg' 'other' 'petrol']\n"
     ]
    }
   ],
   "source": [
    "print('Доля пропусков в признаке FuelType:', autos['FuelType'].isna().sum()/autos.shape[0])\n",
    "print('Уникальные значения признака FuelType:', autos['FuelType'].sort_values().unique())"
   ]
  },
  {
   "cell_type": "markdown",
   "metadata": {},
   "source": [
    "#### Признак NotRepaired.\n",
    "Была машина в ремонте или нет."
   ]
  },
  {
   "cell_type": "code",
   "execution_count": 36,
   "metadata": {},
   "outputs": [
    {
     "name": "stdout",
     "output_type": "stream",
     "text": [
      "Доля пропусков в признаке NotRepaired: 0.1904704417034483\n",
      "Уникальные значения признака NotRepaired: ['no' 'yes' nan]\n"
     ]
    }
   ],
   "source": [
    "print('Доля пропусков в признаке NotRepaired:', autos['NotRepaired'].isna().sum()/autos.shape[0])\n",
    "print('Уникальные значения признака NotRepaired:', autos['NotRepaired'].sort_values().unique())"
   ]
  },
  {
   "cell_type": "markdown",
   "metadata": {},
   "source": [
    "Пропуски в признаке ремонта заполним модой по модели и годом регистрации."
   ]
  },
  {
   "cell_type": "code",
   "execution_count": 37,
   "metadata": {},
   "outputs": [],
   "source": [
    "autos['NotRepaired'] = autos['NotRepaired'].fillna(autos.groupby(['Model', 'RegistrationYear'])['NotRepaired'].transform(mode))"
   ]
  },
  {
   "cell_type": "code",
   "execution_count": 38,
   "metadata": {},
   "outputs": [
    {
     "name": "stdout",
     "output_type": "stream",
     "text": [
      "Доля пропусков в признаке NotRepaired: 0.021294575948789373\n",
      "Уникальные значения признака NotRepaired: ['no' 'yes' nan]\n"
     ]
    }
   ],
   "source": [
    "print('Доля пропусков в признаке NotRepaired:', autos['NotRepaired'].isna().sum()/autos.shape[0])\n",
    "print('Уникальные значения признака NotRepaired:', autos['NotRepaired'].sort_values().unique())"
   ]
  },
  {
   "cell_type": "markdown",
   "metadata": {},
   "source": [
    "Доля пропусков снизилась до 2,9%, это значит, что для некоторых моделей и годов выпуска модой является NaN. В таком случае заполним оставшиеся пропуски значения модой сначала по году регистрации, а после оставшиеся по модели."
   ]
  },
  {
   "cell_type": "code",
   "execution_count": 39,
   "metadata": {},
   "outputs": [],
   "source": [
    "autos['NotRepaired'] = autos['NotRepaired'].fillna(autos.groupby('RegistrationYear')['NotRepaired'].transform(mode))\n",
    "autos['NotRepaired'] = autos['NotRepaired'].fillna(autos.groupby('Model')['NotRepaired'].transform(mode))"
   ]
  },
  {
   "cell_type": "code",
   "execution_count": 40,
   "metadata": {},
   "outputs": [
    {
     "name": "stdout",
     "output_type": "stream",
     "text": [
      "Доля пропусков в признаке NotRepaired: 0.0\n",
      "Уникальные значения признака NotRepaired: ['no' 'yes']\n"
     ]
    }
   ],
   "source": [
    "print('Доля пропусков в признаке NotRepaired:', autos['NotRepaired'].isna().sum()/autos.shape[0])\n",
    "print('Уникальные значения признака NotRepaired:', autos['NotRepaired'].sort_values().unique())"
   ]
  },
  {
   "cell_type": "markdown",
   "metadata": {},
   "source": [
    "#### Признак NumberOfPictures.\n",
    "Количество фотографий автомобиля."
   ]
  },
  {
   "cell_type": "code",
   "execution_count": 41,
   "metadata": {},
   "outputs": [
    {
     "name": "stdout",
     "output_type": "stream",
     "text": [
      "Доля пропусков в признаке NumberOfPictures: 0.0\n",
      "Уникальные значения признака NumberOfPictures: [0]\n"
     ]
    }
   ],
   "source": [
    "print('Доля пропусков в признаке NumberOfPictures:', autos['NumberOfPictures'].isna().sum()/autos.shape[0])\n",
    "print('Уникальные значения признака NumberOfPictures:', autos['NumberOfPictures'].sort_values().unique())"
   ]
  },
  {
   "cell_type": "markdown",
   "metadata": {},
   "source": [
    "Признак не несёт какой либо качественной информации, для всех автомобилей значение признака 0. Удалим его."
   ]
  },
  {
   "cell_type": "code",
   "execution_count": 42,
   "metadata": {},
   "outputs": [],
   "source": [
    "autos = autos.drop(['NumberOfPictures'], axis=1)"
   ]
  },
  {
   "cell_type": "markdown",
   "metadata": {},
   "source": [
    "#### Признаки LastSeen_year, DateCreated_year.\n",
    "Год последней активности пользователя, год создания анкеты."
   ]
  },
  {
   "cell_type": "code",
   "execution_count": 43,
   "metadata": {},
   "outputs": [
    {
     "name": "stdout",
     "output_type": "stream",
     "text": [
      "Доля пропусков в признаке LastSeen_year: 0.0\n",
      "Уникальные значения признака LastSeen_year: [2016]\n",
      "Доля пропусков в признаке DateCreated_year: 0.0\n",
      "Уникальные значения признака DateCreated_year: [2014 2015 2016]\n"
     ]
    }
   ],
   "source": [
    "print('Доля пропусков в признаке LastSeen_year:', autos['LastSeen_year'].isna().sum()/autos.shape[0])\n",
    "print('Уникальные значения признака LastSeen_year:', autos['LastSeen_year'].sort_values().unique())\n",
    "print('Доля пропусков в признаке DateCreated_year:', autos['DateCreated_year'].isna().sum()/autos.shape[0])\n",
    "print('Уникальные значения признака DateCreated_year:', autos['DateCreated_year'].sort_values().unique())"
   ]
  },
  {
   "cell_type": "code",
   "execution_count": 44,
   "metadata": {},
   "outputs": [],
   "source": [
    "autos = autos.drop(['LastSeen_year'], axis=1)\n",
    "autos = autos.drop(['DateCreated_year'], axis=1)"
   ]
  },
  {
   "cell_type": "markdown",
   "metadata": {},
   "source": [
    "<div class=\"alert alert-block alert-info\">\n",
    "<b>Комментарий студента:</b> Признаки не несут какой либо качественной информации, доля уникальных значений в них крайне низка. Удалим их.\n",
    "\n",
    "</div>"
   ]
  },
  {
   "cell_type": "markdown",
   "metadata": {},
   "source": [
    "#### Признак PostalCode.\n",
    "Почтовый индекс владельца анкеты (пользователя)."
   ]
  },
  {
   "cell_type": "code",
   "execution_count": 45,
   "metadata": {},
   "outputs": [
    {
     "name": "stdout",
     "output_type": "stream",
     "text": [
      "Доля пропусков в признаке PostalCode: 0.0\n",
      "Уникальные значения признака PostalCode: [ 1067  1068  1069 ... 99994 99996 99998]\n"
     ]
    }
   ],
   "source": [
    "print('Доля пропусков в признаке PostalCode:', autos['PostalCode'].isna().sum()/autos.shape[0])\n",
    "print('Уникальные значения признака PostalCode:', autos['PostalCode'].sort_values().unique())"
   ]
  },
  {
   "cell_type": "markdown",
   "metadata": {},
   "source": [
    "Значения выглядят адекватно, признак не нуждается в обработке."
   ]
  },
  {
   "cell_type": "markdown",
   "metadata": {},
   "source": [
    "#### Признак Price.\n",
    "Цена."
   ]
  },
  {
   "cell_type": "code",
   "execution_count": 46,
   "metadata": {},
   "outputs": [
    {
     "data": {
      "image/png": "[encoded data removed]",
      "text/plain": [
       "<Figure size 432x288 with 1 Axes>"
      ]
     },
     "metadata": {
      "needs_background": "light"
     },
     "output_type": "display_data"
    }
   ],
   "source": [
    "autos.plot(y='Price', kind='hist', bins=100, range=(0, 1000))\n",
    "plt.show()"
   ]
  },
  {
   "cell_type": "markdown",
   "metadata": {},
   "source": [
    "Наблюдается большой выброс в районе 0, заменим цену менее 100 Евро на медианную, для соответствующей модели."
   ]
  },
  {
   "cell_type": "code",
   "execution_count": 47,
   "metadata": {},
   "outputs": [],
   "source": [
    "autos.loc[autos['Price'] < 100, 'Price'] = autos.groupby('Model')['Price'].transform('median')\n",
    "autos['Price'] = autos['Price'].astype('int')"
   ]
  },
  {
   "cell_type": "markdown",
   "metadata": {},
   "source": [
    "<div class=\"alert alert-block alert-info\">\n",
    "<b>Комментарий студента:</b> Добавил  предобработку признака 'Price'\n",
    "\n",
    "</div>"
   ]
  },
  {
   "cell_type": "markdown",
   "metadata": {},
   "source": [
    "#### Вывод по предобработке данных."
   ]
  },
  {
   "cell_type": "code",
   "execution_count": 48,
   "metadata": {},
   "outputs": [
    {
     "name": "stdout",
     "output_type": "stream",
     "text": [
      "Доля объектов потеряных в процессе предобработки данных: 0.041628923523220146\n"
     ]
    }
   ],
   "source": [
    "print('Доля объектов потеряных в процессе предобработки данных:', \n",
    "      (autos_count-autos.shape[0])/autos_count)"
   ]
  },
  {
   "cell_type": "markdown",
   "metadata": {},
   "source": [
    "Проведена предобработка данных, устранены пропуски и аномалии, выделены дополнительные признаки из дат. В ходе предобработки потеряно менее 0,1 % данных, что не должно повлиять на качество исследования."
   ]
  },
  {
   "cell_type": "code",
   "execution_count": 49,
   "metadata": {},
   "outputs": [
    {
     "name": "stdout",
     "output_type": "stream",
     "text": [
      "<class 'pandas.core.frame.DataFrame'>\n",
      "Int64Index: 339617 entries, 0 to 354368\n",
      "Data columns (total 16 columns):\n",
      " #   Column             Non-Null Count   Dtype \n",
      "---  ------             --------------   ----- \n",
      " 0   Price              339617 non-null  int64 \n",
      " 1   VehicleType        339617 non-null  object\n",
      " 2   RegistrationYear   339617 non-null  int64 \n",
      " 3   Gearbox            339617 non-null  object\n",
      " 4   Power              339617 non-null  int64 \n",
      " 5   Model              339617 non-null  object\n",
      " 6   Kilometer          339617 non-null  int64 \n",
      " 7   RegistrationMonth  339617 non-null  int64 \n",
      " 8   FuelType           339617 non-null  object\n",
      " 9   Brand              339617 non-null  object\n",
      " 10  NotRepaired        339617 non-null  object\n",
      " 11  PostalCode         339617 non-null  int64 \n",
      " 12  DateCreated_month  339617 non-null  int64 \n",
      " 13  DateCreated_day    339617 non-null  int64 \n",
      " 14  LastSeen_month     339617 non-null  int64 \n",
      " 15  LastSeen_day       339617 non-null  int64 \n",
      "dtypes: int64(10), object(6)\n",
      "memory usage: 52.1+ MB\n"
     ]
    }
   ],
   "source": [
    "autos.info()"
   ]
  },
  {
   "cell_type": "code",
   "execution_count": 50,
   "metadata": {
    "scrolled": true
   },
   "outputs": [
    {
     "data": {
      "text/plain": [
       "Price                0.0\n",
       "VehicleType          0.0\n",
       "RegistrationYear     0.0\n",
       "Gearbox              0.0\n",
       "Power                0.0\n",
       "Model                0.0\n",
       "Kilometer            0.0\n",
       "RegistrationMonth    0.0\n",
       "FuelType             0.0\n",
       "Brand                0.0\n",
       "NotRepaired          0.0\n",
       "PostalCode           0.0\n",
       "DateCreated_month    0.0\n",
       "DateCreated_day      0.0\n",
       "LastSeen_month       0.0\n",
       "LastSeen_day         0.0\n",
       "dtype: float64"
      ]
     },
     "metadata": {},
     "output_type": "display_data"
    },
    {
     "data": {
      "text/html": [
       "<div>\n",
       "<style scoped>\n",
       "    .dataframe tbody tr th:only-of-type {\n",
       "        vertical-align: middle;\n",
       "    }\n",
       "\n",
       "    .dataframe tbody tr th {\n",
       "        vertical-align: top;\n",
       "    }\n",
       "\n",
       "    .dataframe thead th {\n",
       "        text-align: right;\n",
       "    }\n",
       "</style>\n",
       "<table border=\"1\" class=\"dataframe\">\n",
       "  <thead>\n",
       "    <tr style=\"text-align: right;\">\n",
       "      <th></th>\n",
       "      <th>Price</th>\n",
       "      <th>RegistrationYear</th>\n",
       "      <th>Power</th>\n",
       "      <th>Kilometer</th>\n",
       "      <th>RegistrationMonth</th>\n",
       "      <th>PostalCode</th>\n",
       "      <th>DateCreated_month</th>\n",
       "      <th>DateCreated_day</th>\n",
       "      <th>LastSeen_month</th>\n",
       "      <th>LastSeen_day</th>\n",
       "    </tr>\n",
       "  </thead>\n",
       "  <tbody>\n",
       "    <tr>\n",
       "      <th>count</th>\n",
       "      <td>339617.000000</td>\n",
       "      <td>339617.000000</td>\n",
       "      <td>339617.000000</td>\n",
       "      <td>339617.000000</td>\n",
       "      <td>339617.000000</td>\n",
       "      <td>339617.000000</td>\n",
       "      <td>339617.000000</td>\n",
       "      <td>339617.000000</td>\n",
       "      <td>339617.000000</td>\n",
       "      <td>339617.000000</td>\n",
       "    </tr>\n",
       "    <tr>\n",
       "      <th>mean</th>\n",
       "      <td>4573.539823</td>\n",
       "      <td>2002.521058</td>\n",
       "      <td>118.866514</td>\n",
       "      <td>128120.471001</td>\n",
       "      <td>6.116137</td>\n",
       "      <td>50607.681179</td>\n",
       "      <td>3.160207</td>\n",
       "      <td>15.851015</td>\n",
       "      <td>3.567522</td>\n",
       "      <td>11.928399</td>\n",
       "    </tr>\n",
       "    <tr>\n",
       "      <th>std</th>\n",
       "      <td>4491.929396</td>\n",
       "      <td>6.853117</td>\n",
       "      <td>52.543714</td>\n",
       "      <td>37846.593874</td>\n",
       "      <td>3.328413</td>\n",
       "      <td>25805.465922</td>\n",
       "      <td>0.376504</td>\n",
       "      <td>9.123569</td>\n",
       "      <td>0.495421</td>\n",
       "      <td>8.872815</td>\n",
       "    </tr>\n",
       "    <tr>\n",
       "      <th>min</th>\n",
       "      <td>100.000000</td>\n",
       "      <td>1940.000000</td>\n",
       "      <td>40.000000</td>\n",
       "      <td>5000.000000</td>\n",
       "      <td>1.000000</td>\n",
       "      <td>1067.000000</td>\n",
       "      <td>1.000000</td>\n",
       "      <td>1.000000</td>\n",
       "      <td>3.000000</td>\n",
       "      <td>1.000000</td>\n",
       "    </tr>\n",
       "    <tr>\n",
       "      <th>25%</th>\n",
       "      <td>1250.000000</td>\n",
       "      <td>1999.000000</td>\n",
       "      <td>75.000000</td>\n",
       "      <td>125000.000000</td>\n",
       "      <td>3.000000</td>\n",
       "      <td>30169.000000</td>\n",
       "      <td>3.000000</td>\n",
       "      <td>8.000000</td>\n",
       "      <td>3.000000</td>\n",
       "      <td>6.000000</td>\n",
       "    </tr>\n",
       "    <tr>\n",
       "      <th>50%</th>\n",
       "      <td>2900.000000</td>\n",
       "      <td>2003.000000</td>\n",
       "      <td>109.000000</td>\n",
       "      <td>150000.000000</td>\n",
       "      <td>6.000000</td>\n",
       "      <td>49492.000000</td>\n",
       "      <td>3.000000</td>\n",
       "      <td>16.000000</td>\n",
       "      <td>4.000000</td>\n",
       "      <td>7.000000</td>\n",
       "    </tr>\n",
       "    <tr>\n",
       "      <th>75%</th>\n",
       "      <td>6500.000000</td>\n",
       "      <td>2007.000000</td>\n",
       "      <td>143.000000</td>\n",
       "      <td>150000.000000</td>\n",
       "      <td>9.000000</td>\n",
       "      <td>71229.000000</td>\n",
       "      <td>3.000000</td>\n",
       "      <td>24.000000</td>\n",
       "      <td>4.000000</td>\n",
       "      <td>19.000000</td>\n",
       "    </tr>\n",
       "    <tr>\n",
       "      <th>max</th>\n",
       "      <td>20000.000000</td>\n",
       "      <td>2016.000000</td>\n",
       "      <td>600.000000</td>\n",
       "      <td>150000.000000</td>\n",
       "      <td>12.000000</td>\n",
       "      <td>99998.000000</td>\n",
       "      <td>12.000000</td>\n",
       "      <td>31.000000</td>\n",
       "      <td>4.000000</td>\n",
       "      <td>31.000000</td>\n",
       "    </tr>\n",
       "  </tbody>\n",
       "</table>\n",
       "</div>"
      ],
      "text/plain": [
       "               Price  RegistrationYear          Power      Kilometer  \\\n",
       "count  339617.000000     339617.000000  339617.000000  339617.000000   \n",
       "mean     4573.539823       2002.521058     118.866514  128120.471001   \n",
       "std      4491.929396          6.853117      52.543714   37846.593874   \n",
       "min       100.000000       1940.000000      40.000000    5000.000000   \n",
       "25%      1250.000000       1999.000000      75.000000  125000.000000   \n",
       "50%      2900.000000       2003.000000     109.000000  150000.000000   \n",
       "75%      6500.000000       2007.000000     143.000000  150000.000000   \n",
       "max     20000.000000       2016.000000     600.000000  150000.000000   \n",
       "\n",
       "       RegistrationMonth     PostalCode  DateCreated_month  DateCreated_day  \\\n",
       "count      339617.000000  339617.000000      339617.000000    339617.000000   \n",
       "mean            6.116137   50607.681179           3.160207        15.851015   \n",
       "std             3.328413   25805.465922           0.376504         9.123569   \n",
       "min             1.000000    1067.000000           1.000000         1.000000   \n",
       "25%             3.000000   30169.000000           3.000000         8.000000   \n",
       "50%             6.000000   49492.000000           3.000000        16.000000   \n",
       "75%             9.000000   71229.000000           3.000000        24.000000   \n",
       "max            12.000000   99998.000000          12.000000        31.000000   \n",
       "\n",
       "       LastSeen_month   LastSeen_day  \n",
       "count   339617.000000  339617.000000  \n",
       "mean         3.567522      11.928399  \n",
       "std          0.495421       8.872815  \n",
       "min          3.000000       1.000000  \n",
       "25%          3.000000       6.000000  \n",
       "50%          4.000000       7.000000  \n",
       "75%          4.000000      19.000000  \n",
       "max          4.000000      31.000000  "
      ]
     },
     "execution_count": 50,
     "metadata": {},
     "output_type": "execute_result"
    }
   ],
   "source": [
    "#КОД РЕВЬЮЕРА\n",
    "\n",
    "display(autos.isna().mean())\n",
    "autos.describe()"
   ]
  },
  {
   "cell_type": "markdown",
   "metadata": {},
   "source": [
    "\n",
    "<div class=\"alert alert-block alert-danger\"; style=\"border-left: 6px solid red\">\n",
    "<b>Ошибка ❌</b>\n",
    "       \n",
    "В данных осталось много аномалий, давай поработем с ними еще)  \n",
    "    \n",
    "1. Минимальная цена (надо определить минимальную границу цены, но так, чтобы не срезать бюджетный сегмент автомобилей)  \n",
    "    \n",
    "2. Максимальный год  \n",
    "    \n",
    "3. Минимальная мощность  \n",
    "    \n",
    "4. Присутствуют лишние признаки\n",
    "    \n",
    "</div>"
   ]
  },
  {
   "cell_type": "markdown",
   "metadata": {},
   "source": [
    "<div class=\"alert alert-block alert-info\">\n",
    "<b>Комментарий студента:</b> \n",
    "Обработка аномалий:\n",
    "\n",
    "1. Добавил предобработку признака в блоке \"Признак Price\", устранил большой выброс в районе значения 0. Не стал убирать маленькие значения выше 5 Евро, их не так много. Эти значения могут быть связаны с желанием просто избавиться от старого автомобиля за символическую плату, чтобы просто приехали и забрали (не задумываться об утилизации).\n",
    "\n",
    "2. Максимальный год исправил в блоке \"Признак RegistrationYear\".\n",
    "    \n",
    "3. Минимальная мощность исправил в блоке \"Признак Power\". Убрал большой выброс в значении 0, заменив медианным значение для модели. Для тех моделей где медианное значение равно 0, взял медиану по всему датасету.\n",
    "    \n",
    "4. Удалил признаки \"LastSeen_year\" и \"DateCreated_year\" не несущие информации, с постоянным знаяением. См. блок \"Признаки LastSeen_year\", \"DateCreated_year\".\n",
    "\n",
    "\n",
    "</div>"
   ]
  },
  {
   "cell_type": "markdown",
   "metadata": {},
   "source": [
    "\n",
    "<div class=\"alert alert-block alert-danger\"; style=\"border-left: 6px solid red\">\n",
    "<b>Комментарий ревьюера 2 ❌</b>\n",
    "       \n",
    "Мощность не может быть 1лс, машина не уедет) Если ты решил не срезать данные, а восстанавливать аномалии, то брать медиану не совсем корректно по всему датасету, мы создаем новые аномалии, очень странно, когда какой-нибудь мерседес и фиат имеют одинаковую мощность) Лучше сделать через группировку или все таки срезать данные.  \n",
    "    \n",
    "-----    \n",
    "    \n",
    "Также цена не может быть такой маленькой, да есть ситуации, когда хотят избавиться от автомобиля, но наша модель создается для предсказания цены продажи автомобиля, а не избавления) По сути для нас это аномальное поведение, которое надо убирать, чтобы не мешать модели. Всегда надо отталкиваться от задачи бизнеса!\n",
    "    \n",
    "</div>"
   ]
  },
  {
   "cell_type": "markdown",
   "metadata": {},
   "source": [
    "<div class=\"alert alert-block alert-info\">\n",
    "<b>Комментарий студента 2:</b> \n",
    "Обработка аномалий:\n",
    "\n",
    "1. Верхним пределом для мощности сделал значение 40, определил его по графику, визуально видно, что это край основного распределения.\n",
    "\n",
    "2. У меня мощность заполняется группировкой по модели автомобиля, остаётся небольшое количество моделей, для которых медиана ниже 40, только для этих автомобилей берётся медиана по датасету.\n",
    "    \n",
    "3. Верхним пределом для стоимости сделал значение 100, определил его по графику, визуально видно, что это край основного распределения.\n",
    "\n",
    "</div>"
   ]
  },
  {
   "cell_type": "markdown",
   "metadata": {},
   "source": [
    "<div class=\"alert alert-block alert-success\"; style=\"border-left: 6px solid green\">\n",
    "<b>Комментарий ревьюера 3 ✔️</b>\n",
    "       \n",
    "Отличная работа!\n",
    "    \n",
    "</div>\n"
   ]
  },
  {
   "cell_type": "markdown",
   "metadata": {},
   "source": [
    "## Обучение моделей"
   ]
  },
  {
   "cell_type": "markdown",
   "metadata": {},
   "source": [
    "### Создание выборок"
   ]
  },
  {
   "cell_type": "markdown",
   "metadata": {},
   "source": [
    "Выделим целевой признак \"Price\"."
   ]
  },
  {
   "cell_type": "code",
   "execution_count": 51,
   "metadata": {},
   "outputs": [],
   "source": [
    "features = autos.drop('Price', axis=1)\n",
    "target = autos['Price']"
   ]
  },
  {
   "cell_type": "markdown",
   "metadata": {},
   "source": [
    "Проведём кодирование категориальных данных методом One-Hot-Encoding.\n",
    "Признаки требующие кодирования:\n",
    "- VehicleType,\n",
    "- Gearbox,\n",
    "- Model,\n",
    "- FuelType,\n",
    "- Brand,\n",
    "- NotRepaired."
   ]
  },
  {
   "cell_type": "code",
   "execution_count": 52,
   "metadata": {},
   "outputs": [],
   "source": [
    "# features_ohe = pd.get_dummies(\n",
    "#     features, columns=['VehicleType','RegistrationYear','Gearbox','Model',\n",
    "#                        'RegistrationMonth','FuelType','Brand','NotRepaired',\n",
    "#                        'PostalCode','DateCreated_year','DateCreated_month',\n",
    "#                        'DateCreated_day','LastSeen_year','LastSeen_month',\n",
    "#                        'LastSeen_day'], drop_first=True)\n",
    "\n",
    "features_ohe = pd.get_dummies(\n",
    "    features, columns=['VehicleType','Gearbox','Model',\n",
    "                       'FuelType','Brand','NotRepaired'], drop_first=True)"
   ]
  },
  {
   "cell_type": "markdown",
   "metadata": {},
   "source": [
    "Разделим данные на обучающую и тестовую выборки в соотношении 80:20."
   ]
  },
  {
   "cell_type": "code",
   "execution_count": 53,
   "metadata": {},
   "outputs": [],
   "source": [
    "features_ohe_train, features_ohe_test, target_train, target_test = train_test_split(\n",
    "    features_ohe, target, train_size=0.8, random_state=RANDOM)"
   ]
  },
  {
   "cell_type": "markdown",
   "metadata": {},
   "source": [
    "Выделим из обучающей выборки валидационную (20%), для подбора гиперпараметров."
   ]
  },
  {
   "cell_type": "code",
   "execution_count": 54,
   "metadata": {},
   "outputs": [],
   "source": [
    "features_ohe_train, features_ohe_valid, target_train, target_valid = train_test_split(\n",
    "    features_ohe_train, target_train, train_size=0.8, random_state=RANDOM)"
   ]
  },
  {
   "cell_type": "code",
   "execution_count": 55,
   "metadata": {},
   "outputs": [],
   "source": [
    "del autos, features, target, features_ohe"
   ]
  },
  {
   "cell_type": "markdown",
   "metadata": {},
   "source": [
    "### Линейные модели"
   ]
  },
  {
   "cell_type": "markdown",
   "metadata": {},
   "source": [
    "Для линейной регрессии проведём стандартизацию данных. Убрал стандартизацию, так как не хватало оперативной памяти при обучении моделей."
   ]
  },
  {
   "cell_type": "code",
   "execution_count": 56,
   "metadata": {},
   "outputs": [],
   "source": [
    "# scaler = StandardScaler()\n",
    "# scaler.fit(features_ohe_train)\n",
    "# features_ohe_train_scaled = scaler.transform(features_ohe_train)\n",
    "# features_ohe_valid_scaled = scaler.transform(features_ohe_valid)\n",
    "# features_ohe_test_scaled = scaler.transform(features_ohe_test)"
   ]
  },
  {
   "cell_type": "markdown",
   "metadata": {},
   "source": [
    "#### Модель линейной регрессии c L1-регуляризацией (Lasso)"
   ]
  },
  {
   "cell_type": "code",
   "execution_count": 57,
   "metadata": {},
   "outputs": [
    {
     "name": "stderr",
     "output_type": "stream",
     "text": [
      "100%|██████████| 3/3 [07:56<00:00, 158.70s/it]"
     ]
    },
    {
     "name": "stdout",
     "output_type": "stream",
     "text": [
      "\n",
      "Лучшая модель линейной регрессии L1: Lasso(alpha=0.3, random_state=1111, tol=0.08)\n",
      "Значение RMSE полученное на валидации для лучшей линейной регрессии L1 : 2632.912015902568\n",
      "CPU times: user 5min 23s, sys: 2min 31s, total: 7min 54s\n",
      "Wall time: 7min 56s\n"
     ]
    },
    {
     "name": "stderr",
     "output_type": "stream",
     "text": [
      "\n"
     ]
    }
   ],
   "source": [
    "%%time\n",
    "\n",
    "best_lasso_model = None\n",
    "best_score_rmse = 20000  # 20000 заведомо выше оценки\n",
    "\n",
    "for i_tol in range(80, 100,20):\n",
    "    for i_alpha in tqdm(range(30, 80, 20)):\n",
    "        lasso_model = Lasso(alpha=i_alpha*0.01, tol=i_tol*0.001, random_state=RANDOM)\n",
    "        lasso_model.fit(features_ohe_train, target_train)\n",
    "        score_rmse = mean_squared_error(target_valid, lasso_model.predict(features_ohe_valid)) ** 0.5\n",
    "        if score_rmse < best_score_rmse:\n",
    "            best_lasso_model = lasso_model\n",
    "            best_score_rmse = score_rmse\n",
    "        \n",
    "print(f'\\nЛучшая модель линейной регрессии L1: {best_lasso_model}\\n'\n",
    "      f'Значение RMSE полученное на валидации для лучшей линейной регрессии L1 : {best_score_rmse}')"
   ]
  },
  {
   "cell_type": "markdown",
   "metadata": {},
   "source": [
    "#### Модель линейной регрессии c L2-регуляризацией (Ridge)"
   ]
  },
  {
   "cell_type": "code",
   "execution_count": 58,
   "metadata": {},
   "outputs": [
    {
     "name": "stderr",
     "output_type": "stream",
     "text": [
      "100%|██████████| 5/5 [00:15<00:00,  3.10s/it]\n",
      "100%|██████████| 5/5 [00:15<00:00,  3.14s/it]\n",
      "100%|██████████| 5/5 [00:14<00:00,  2.94s/it]\n",
      "100%|██████████| 5/5 [00:15<00:00,  3.04s/it]\n",
      "100%|██████████| 5/5 [00:15<00:00,  3.04s/it]"
     ]
    },
    {
     "name": "stdout",
     "output_type": "stream",
     "text": [
      "\n",
      "Лучшая модель линейной регрессии L2: Ridge(alpha=0.6, random_state=1111, tol=1e-05)\n",
      "Значение RMSE полученное на валидации для лучшей линейной регрессии L2: 2627.3796023404307\n",
      "CPU times: user 48.5 s, sys: 27.6 s, total: 1min 16s\n",
      "Wall time: 1min 16s\n"
     ]
    },
    {
     "name": "stderr",
     "output_type": "stream",
     "text": [
      "\n"
     ]
    }
   ],
   "source": [
    "%%time\n",
    "\n",
    "best_ridge_model = None\n",
    "best_score_rmse = 20000  # 20000 заведомо выше оценки\n",
    "\n",
    "for i_tol in range(1, 100,20):\n",
    "    for i_alpha in tqdm(range(60, 160, 20)):\n",
    "        ridge_model = Ridge(alpha=i_alpha*0.01, tol=i_tol*0.00001, random_state=RANDOM)\n",
    "        ridge_model.fit(features_ohe_train, target_train)\n",
    "        score_rmse = mean_squared_error(target_valid, ridge_model.predict(features_ohe_valid)) ** 0.5\n",
    "        if score_rmse < best_score_rmse:\n",
    "            best_ridge_model = ridge_model\n",
    "            best_score_rmse = score_rmse\n",
    "        \n",
    "print(f'\\nЛучшая модель линейной регрессии L2: {best_ridge_model}\\n'\n",
    "      f'Значение RMSE полученное на валидации для лучшей линейной регрессии L2: {best_score_rmse}')"
   ]
  },
  {
   "cell_type": "markdown",
   "metadata": {},
   "source": [
    "### Случайный лес"
   ]
  },
  {
   "cell_type": "code",
   "execution_count": 59,
   "metadata": {},
   "outputs": [
    {
     "name": "stderr",
     "output_type": "stream",
     "text": [
      "100%|██████████| 3/3 [25:32<00:00, 510.89s/it]"
     ]
    },
    {
     "name": "stdout",
     "output_type": "stream",
     "text": [
      "\n",
      "Лучшая модель случайного леса: RandomForestRegressor(max_depth=27, random_state=1111)\n",
      "Значение RMSE полученное на валидации для лучшего случайного леса: 1624.153373228998\n",
      "CPU times: user 25min 26s, sys: 5.38 s, total: 25min 32s\n",
      "Wall time: 25min 32s\n"
     ]
    },
    {
     "name": "stderr",
     "output_type": "stream",
     "text": [
      "\n"
     ]
    }
   ],
   "source": [
    "%%time\n",
    "\n",
    "best_forest_model = None\n",
    "best_score_rmse = 20000  # 20000 заведомо выше оценки\n",
    "\n",
    "for depth in tqdm(range(21, 30, 3)):\n",
    "    forest_model = RandomForestRegressor(max_depth = depth, n_estimators=100, random_state=RANDOM)\n",
    "    forest_model.fit(features_ohe_train, target_train)\n",
    "    score_rmse = mean_squared_error(target_valid, forest_model.predict(features_ohe_valid)) ** 0.5\n",
    "    if score_rmse < best_score_rmse:\n",
    "        best_forest_model = forest_model\n",
    "        best_score_rmse = score_rmse\n",
    "        \n",
    "print(f'\\nЛучшая модель случайного леса: {best_forest_model}\\n'\n",
    "      f'Значение RMSE полученное на валидации для лучшего случайного леса: {best_score_rmse}')"
   ]
  },
  {
   "cell_type": "markdown",
   "metadata": {},
   "source": [
    "### Градиентный бустинг LightGBM"
   ]
  },
  {
   "cell_type": "code",
   "execution_count": 60,
   "metadata": {},
   "outputs": [
    {
     "name": "stderr",
     "output_type": "stream",
     "text": [
      "  0%|          | 0/2 [00:00<?, ?it/s]/opt/conda/lib/python3.9/site-packages/lightgbm/engine.py:177: UserWarning: Found `num_iterations` in params. Will use it instead of argument\n",
      "  _log_warning(f\"Found `{alias}` in params. Will use it instead of argument\")\n"
     ]
    },
    {
     "name": "stdout",
     "output_type": "stream",
     "text": [
      "[LightGBM] [Warning] min_data_in_leaf is set=300, min_child_samples=20 will be ignored. Current value: min_data_in_leaf=300\n"
     ]
    },
    {
     "name": "stderr",
     "output_type": "stream",
     "text": [
      " 50%|█████     | 1/2 [00:47<00:47, 47.66s/it]/opt/conda/lib/python3.9/site-packages/lightgbm/engine.py:177: UserWarning: Found `num_iterations` in params. Will use it instead of argument\n",
      "  _log_warning(f\"Found `{alias}` in params. Will use it instead of argument\")\n"
     ]
    },
    {
     "name": "stdout",
     "output_type": "stream",
     "text": [
      "[LightGBM] [Warning] min_data_in_leaf is set=300, min_child_samples=20 will be ignored. Current value: min_data_in_leaf=300\n"
     ]
    },
    {
     "name": "stderr",
     "output_type": "stream",
     "text": [
      "100%|██████████| 2/2 [01:58<00:00, 59.48s/it]\n",
      "  0%|          | 0/2 [00:00<?, ?it/s]/opt/conda/lib/python3.9/site-packages/lightgbm/engine.py:177: UserWarning: Found `num_iterations` in params. Will use it instead of argument\n",
      "  _log_warning(f\"Found `{alias}` in params. Will use it instead of argument\")\n"
     ]
    },
    {
     "name": "stdout",
     "output_type": "stream",
     "text": [
      "[LightGBM] [Warning] min_data_in_leaf is set=500, min_child_samples=20 will be ignored. Current value: min_data_in_leaf=500\n"
     ]
    },
    {
     "name": "stderr",
     "output_type": "stream",
     "text": [
      " 50%|█████     | 1/2 [00:46<00:46, 46.61s/it]/opt/conda/lib/python3.9/site-packages/lightgbm/engine.py:177: UserWarning: Found `num_iterations` in params. Will use it instead of argument\n",
      "  _log_warning(f\"Found `{alias}` in params. Will use it instead of argument\")\n"
     ]
    },
    {
     "name": "stdout",
     "output_type": "stream",
     "text": [
      "[LightGBM] [Warning] min_data_in_leaf is set=500, min_child_samples=20 will be ignored. Current value: min_data_in_leaf=500\n"
     ]
    },
    {
     "name": "stderr",
     "output_type": "stream",
     "text": [
      "100%|██████████| 2/2 [01:52<00:00, 56.44s/it]\n",
      "  0%|          | 0/2 [00:00<?, ?it/s]/opt/conda/lib/python3.9/site-packages/lightgbm/engine.py:177: UserWarning: Found `num_iterations` in params. Will use it instead of argument\n",
      "  _log_warning(f\"Found `{alias}` in params. Will use it instead of argument\")\n"
     ]
    },
    {
     "name": "stdout",
     "output_type": "stream",
     "text": [
      "[LightGBM] [Warning] min_data_in_leaf is set=700, min_child_samples=20 will be ignored. Current value: min_data_in_leaf=700\n"
     ]
    },
    {
     "name": "stderr",
     "output_type": "stream",
     "text": [
      " 50%|█████     | 1/2 [00:46<00:46, 46.33s/it]/opt/conda/lib/python3.9/site-packages/lightgbm/engine.py:177: UserWarning: Found `num_iterations` in params. Will use it instead of argument\n",
      "  _log_warning(f\"Found `{alias}` in params. Will use it instead of argument\")\n"
     ]
    },
    {
     "name": "stdout",
     "output_type": "stream",
     "text": [
      "[LightGBM] [Warning] min_data_in_leaf is set=700, min_child_samples=20 will be ignored. Current value: min_data_in_leaf=700\n"
     ]
    },
    {
     "name": "stderr",
     "output_type": "stream",
     "text": [
      "100%|██████████| 2/2 [01:49<00:00, 54.56s/it]\n",
      "  0%|          | 0/2 [00:00<?, ?it/s]/opt/conda/lib/python3.9/site-packages/lightgbm/engine.py:177: UserWarning: Found `num_iterations` in params. Will use it instead of argument\n",
      "  _log_warning(f\"Found `{alias}` in params. Will use it instead of argument\")\n"
     ]
    },
    {
     "name": "stdout",
     "output_type": "stream",
     "text": [
      "[LightGBM] [Warning] min_data_in_leaf is set=300, min_child_samples=20 will be ignored. Current value: min_data_in_leaf=300\n"
     ]
    },
    {
     "name": "stderr",
     "output_type": "stream",
     "text": [
      " 50%|█████     | 1/2 [00:56<00:56, 57.00s/it]/opt/conda/lib/python3.9/site-packages/lightgbm/engine.py:177: UserWarning: Found `num_iterations` in params. Will use it instead of argument\n",
      "  _log_warning(f\"Found `{alias}` in params. Will use it instead of argument\")\n"
     ]
    },
    {
     "name": "stdout",
     "output_type": "stream",
     "text": [
      "[LightGBM] [Warning] min_data_in_leaf is set=300, min_child_samples=20 will be ignored. Current value: min_data_in_leaf=300\n"
     ]
    },
    {
     "name": "stderr",
     "output_type": "stream",
     "text": [
      "100%|██████████| 2/2 [02:19<00:00, 69.79s/it]\n",
      "  0%|          | 0/2 [00:00<?, ?it/s]/opt/conda/lib/python3.9/site-packages/lightgbm/engine.py:177: UserWarning: Found `num_iterations` in params. Will use it instead of argument\n",
      "  _log_warning(f\"Found `{alias}` in params. Will use it instead of argument\")\n"
     ]
    },
    {
     "name": "stdout",
     "output_type": "stream",
     "text": [
      "[LightGBM] [Warning] min_data_in_leaf is set=500, min_child_samples=20 will be ignored. Current value: min_data_in_leaf=500\n"
     ]
    },
    {
     "name": "stderr",
     "output_type": "stream",
     "text": [
      " 50%|█████     | 1/2 [00:53<00:53, 53.52s/it]/opt/conda/lib/python3.9/site-packages/lightgbm/engine.py:177: UserWarning: Found `num_iterations` in params. Will use it instead of argument\n",
      "  _log_warning(f\"Found `{alias}` in params. Will use it instead of argument\")\n"
     ]
    },
    {
     "name": "stdout",
     "output_type": "stream",
     "text": [
      "[LightGBM] [Warning] min_data_in_leaf is set=500, min_child_samples=20 will be ignored. Current value: min_data_in_leaf=500\n"
     ]
    },
    {
     "name": "stderr",
     "output_type": "stream",
     "text": [
      "100%|██████████| 2/2 [02:10<00:00, 65.36s/it]\n",
      "  0%|          | 0/2 [00:00<?, ?it/s]/opt/conda/lib/python3.9/site-packages/lightgbm/engine.py:177: UserWarning: Found `num_iterations` in params. Will use it instead of argument\n",
      "  _log_warning(f\"Found `{alias}` in params. Will use it instead of argument\")\n"
     ]
    },
    {
     "name": "stdout",
     "output_type": "stream",
     "text": [
      "[LightGBM] [Warning] min_data_in_leaf is set=700, min_child_samples=20 will be ignored. Current value: min_data_in_leaf=700\n"
     ]
    },
    {
     "name": "stderr",
     "output_type": "stream",
     "text": [
      " 50%|█████     | 1/2 [00:53<00:53, 53.38s/it]/opt/conda/lib/python3.9/site-packages/lightgbm/engine.py:177: UserWarning: Found `num_iterations` in params. Will use it instead of argument\n",
      "  _log_warning(f\"Found `{alias}` in params. Will use it instead of argument\")\n"
     ]
    },
    {
     "name": "stdout",
     "output_type": "stream",
     "text": [
      "[LightGBM] [Warning] min_data_in_leaf is set=700, min_child_samples=20 will be ignored. Current value: min_data_in_leaf=700\n"
     ]
    },
    {
     "name": "stderr",
     "output_type": "stream",
     "text": [
      "100%|██████████| 2/2 [02:02<00:00, 61.36s/it]"
     ]
    },
    {
     "name": "stdout",
     "output_type": "stream",
     "text": [
      "\n",
      "Лучшая модель градиентного бустинга: LGBMRegressor(max_depth=14, min_data_in_leaf=300, num_iterations=700,\n",
      "              num_leaves=16384, random_state=1111)\n",
      "Значение RMSE полученное на валидации для лучшего градиентного бустинга: 1608.745161064391\n",
      "CPU times: user 12min 7s, sys: 641 ms, total: 12min 8s\n",
      "Wall time: 12min 14s\n"
     ]
    },
    {
     "name": "stderr",
     "output_type": "stream",
     "text": [
      "\n"
     ]
    }
   ],
   "source": [
    "%%time\n",
    "\n",
    "best_lgbm_model = None\n",
    "best_score_rmse = 20000  # 20000 заведомо выше оценки\n",
    "\n",
    "for iterations in range(600, 800, 100):\n",
    "    for data_in_leaf in range(300, 800, 200):\n",
    "        for depth in tqdm(range(11, 16, 3)):\n",
    "            lgbm_model = LGBMRegressor(num_iterations=iterations, max_depth=depth, num_leaves=2**depth, min_data_in_leaf=data_in_leaf, random_state=RANDOM)\n",
    "            lgbm_model.fit(features_ohe_train, target_train)\n",
    "            score_rmse = mean_squared_error(target_valid, lgbm_model.predict(features_ohe_valid)) ** 0.5\n",
    "            if score_rmse < best_score_rmse:\n",
    "                best_lgbm_model = lgbm_model\n",
    "                best_score_rmse = score_rmse\n",
    "        \n",
    "print(f'\\nЛучшая модель градиентного бустинга: {best_lgbm_model}\\n'\n",
    "      f'Значение RMSE полученное на валидации для лучшего градиентного бустинга: {best_score_rmse}')"
   ]
  },
  {
   "cell_type": "markdown",
   "metadata": {},
   "source": [
    "\n",
    "<div class=\"alert alert-block alert-warning\"; style=\"border-left: 6px solid orange\">\n",
    "<b>Рекомендация ⚠️</b>\n",
    "       \n",
    "Молодец, что сам написал подбор гиперпараметров для моделей, но рекомендую познакомиться с оптимизаторами, это удобнее и быстрее)  \n",
    "    \n",
    "Ссылка: https://habr.com/ru/company/antiplagiat/blog/528384/\n",
    "</div>\n"
   ]
  },
  {
   "cell_type": "markdown",
   "metadata": {},
   "source": [
    "<div class=\"alert alert-block alert-info\">\n",
    "<b>Комментарий студента:</b> \n",
    "    \n",
    "Спасибо за статью, обязательно с ней ознакомлюсь. Я решил писать свой подбор гиперпараметров по причине того, что я виже через tqdm процесс, также из опыта применения GridSearch и RandomSearch из sklearn на прошлых проектах, они не давали преимущества в скорости.\n",
    "\n",
    "Но у тебя в ссылке другие модули, я поразбираюсь с ними.\n",
    "</div>"
   ]
  },
  {
   "cell_type": "markdown",
   "metadata": {},
   "source": [
    "\n",
    "<div class=\"alert alert-block alert-warning\"; style=\"border-left: 6px solid orange\">\n",
    "<b>Рекомендация ⚠️</b>\n",
    "       \n",
    "LGBM умеет работать с категориальными признаками и лучше для него не кодировать данные предварительно. Чтобы LGBM понял где в данных категориальные признаки, надо их тип данных изменить на category\n",
    "    \n",
    "</div>\n"
   ]
  },
  {
   "cell_type": "markdown",
   "metadata": {},
   "source": [
    "<div class=\"alert alert-block alert-info\">\n",
    "<b>Комментарий студента:</b> Решил передать в LGBM уже закодированные признаки по причине готовых выборок. Чтобы LGBM не повторял уже сделанную работу.\n",
    "</div>"
   ]
  },
  {
   "cell_type": "markdown",
   "metadata": {},
   "source": [
    "## Анализ моделей"
   ]
  },
  {
   "cell_type": "markdown",
   "metadata": {},
   "source": [
    "Анализ лучших моделей проведём по следующим правилам:\n",
    "1) переобучим каждую лучшую модель на объединённой выборке (обучающей и тестовой),\n",
    "\n",
    "2) проверим качество моделей на тестовой выборке,\n",
    "\n",
    "3) на каждом этапе произведём замер времени,\n",
    "\n",
    "4) сохраним результаты в таблице."
   ]
  },
  {
   "cell_type": "markdown",
   "metadata": {},
   "source": [
    "### Объединение обучающей и валидационной выборок"
   ]
  },
  {
   "cell_type": "code",
   "execution_count": 61,
   "metadata": {},
   "outputs": [],
   "source": [
    "features_ohe_train = pd.concat([features_ohe_train, features_ohe_valid])\n",
    "target_train = pd.concat([target_train, target_valid])"
   ]
  },
  {
   "cell_type": "code",
   "execution_count": 62,
   "metadata": {},
   "outputs": [],
   "source": [
    "del features_ohe_valid, target_valid"
   ]
  },
  {
   "cell_type": "markdown",
   "metadata": {},
   "source": [
    "### Функция анализа модели."
   ]
  },
  {
   "cell_type": "code",
   "execution_count": 63,
   "metadata": {},
   "outputs": [],
   "source": [
    "def model_test(model):\n",
    "    \n",
    "    time_fit_start = time()\n",
    "    model.fit(features_ohe_train, target_train)\n",
    "    time_fit = time()-time_fit_start\n",
    "    \n",
    "    time_predict_start = time()\n",
    "    predict = model.predict(features_ohe_test)\n",
    "    time_predict = time()-time_predict_start\n",
    "    \n",
    "    return time_fit, time_predict, mean_squared_error(target_test, predict) ** 0.5\n",
    "        "
   ]
  },
  {
   "cell_type": "code",
   "execution_count": 64,
   "metadata": {},
   "outputs": [
    {
     "name": "stderr",
     "output_type": "stream",
     "text": [
      "/opt/conda/lib/python3.9/site-packages/lightgbm/engine.py:177: UserWarning: Found `num_iterations` in params. Will use it instead of argument\n",
      "  _log_warning(f\"Found `{alias}` in params. Will use it instead of argument\")\n"
     ]
    },
    {
     "name": "stdout",
     "output_type": "stream",
     "text": [
      "[LightGBM] [Warning] min_data_in_leaf is set=300, min_child_samples=20 will be ignored. Current value: min_data_in_leaf=300\n"
     ]
    }
   ],
   "source": [
    "result_models_test = pd.DataFrame(columns=['model','time_fit','time_predict','rmse'])\n",
    "\n",
    "for best_model in [best_lasso_model, best_ridge_model, best_forest_model, best_lgbm_model]:\n",
    "    time_fit,time_predict,rmse = model_test(best_model)\n",
    "    result_model = {'model':best_model,'time_fit':time_fit,'time_predict':time_predict,'rmse':rmse}\n",
    "    result_models_test = result_models_test.append(result_model, ignore_index=True)"
   ]
  },
  {
   "cell_type": "markdown",
   "metadata": {},
   "source": [
    "Результат анализа моделей представлен в таблице:\n",
    "- model - модель с параметрами,\n",
    "- time_fit - время обучения (сек.),\n",
    "- time_predict - время предсказания на тестовой выборке (сек.),\n",
    "- rmse - качество на тестовой выборке."
   ]
  },
  {
   "cell_type": "code",
   "execution_count": 65,
   "metadata": {},
   "outputs": [
    {
     "data": {
      "text/html": [
       "<div>\n",
       "<style scoped>\n",
       "    .dataframe tbody tr th:only-of-type {\n",
       "        vertical-align: middle;\n",
       "    }\n",
       "\n",
       "    .dataframe tbody tr th {\n",
       "        vertical-align: top;\n",
       "    }\n",
       "\n",
       "    .dataframe thead th {\n",
       "        text-align: right;\n",
       "    }\n",
       "</style>\n",
       "<table border=\"1\" class=\"dataframe\">\n",
       "  <thead>\n",
       "    <tr style=\"text-align: right;\">\n",
       "      <th></th>\n",
       "      <th>model</th>\n",
       "      <th>time_fit</th>\n",
       "      <th>time_predict</th>\n",
       "      <th>rmse</th>\n",
       "    </tr>\n",
       "  </thead>\n",
       "  <tbody>\n",
       "    <tr>\n",
       "      <th>0</th>\n",
       "      <td>Lasso(alpha=0.3, random_state=1111, tol=0.08)</td>\n",
       "      <td>171.840585</td>\n",
       "      <td>0.293974</td>\n",
       "      <td>2637.060382</td>\n",
       "    </tr>\n",
       "    <tr>\n",
       "      <th>1</th>\n",
       "      <td>Ridge(alpha=0.6, random_state=1111, tol=1e-05)</td>\n",
       "      <td>3.398006</td>\n",
       "      <td>0.295954</td>\n",
       "      <td>2630.781867</td>\n",
       "    </tr>\n",
       "    <tr>\n",
       "      <th>2</th>\n",
       "      <td>(DecisionTreeRegressor(max_depth=27, max_featu...</td>\n",
       "      <td>675.476325</td>\n",
       "      <td>3.437782</td>\n",
       "      <td>1576.294124</td>\n",
       "    </tr>\n",
       "    <tr>\n",
       "      <th>3</th>\n",
       "      <td>LGBMRegressor(max_depth=14, min_data_in_leaf=3...</td>\n",
       "      <td>83.893693</td>\n",
       "      <td>13.816623</td>\n",
       "      <td>1573.057908</td>\n",
       "    </tr>\n",
       "  </tbody>\n",
       "</table>\n",
       "</div>"
      ],
      "text/plain": [
       "                                               model    time_fit  \\\n",
       "0      Lasso(alpha=0.3, random_state=1111, tol=0.08)  171.840585   \n",
       "1     Ridge(alpha=0.6, random_state=1111, tol=1e-05)    3.398006   \n",
       "2  (DecisionTreeRegressor(max_depth=27, max_featu...  675.476325   \n",
       "3  LGBMRegressor(max_depth=14, min_data_in_leaf=3...   83.893693   \n",
       "\n",
       "   time_predict         rmse  \n",
       "0      0.293974  2637.060382  \n",
       "1      0.295954  2630.781867  \n",
       "2      3.437782  1576.294124  \n",
       "3     13.816623  1573.057908  "
      ]
     },
     "metadata": {},
     "output_type": "display_data"
    }
   ],
   "source": [
    "display(result_models_test)"
   ]
  },
  {
   "cell_type": "markdown",
   "metadata": {},
   "source": [
    "<div class=\"alert alert-block alert-success\"; style=\"border-left: 6px solid green\">\n",
    "<b>Успех ✔️</b>\n",
    "       \n",
    "Классная финальная табличка, очень удобно сравнивать модельки)\n",
    "    \n",
    "</div>\n"
   ]
  },
  {
   "cell_type": "markdown",
   "metadata": {},
   "source": [
    "## Вывод.\n",
    "Однозначно лучшую модель выделить нельзя, лучшие скорость обучения, предсказания и качества оказались у разных моделей. \n",
    "1) Лучшее качесвто на RMSE показала модель градиентного бустинга 1573,\n",
    "\n",
    "2) Лучшее время обучения показала модель линейной регрессии с L2-регуляризацией 3,4 сек.,\n",
    "\n",
    "3) Лучшее время предсказания показала модель линейной регрессии с L1-регуляризацией 0.3 сек."
   ]
  },
  {
   "cell_type": "markdown",
   "metadata": {},
   "source": [
    "\n",
    "<div class=\"alert alert-block alert-warning\"; style=\"border-left: 6px solid orange\">\n",
    "<b>Итоговый комментарий ревьюера ⚠️</b>\n",
    "       \n",
    "Хороший проект, спасибо, что соблюдал структуру, было приятно проверять! В работе остались некоторые ошибки, их я отметил по ходу работы, давай поправим) Жду проект на повторную проверку и всегда рад вопросам!)\n",
    "    \n",
    "</div>\n"
   ]
  },
  {
   "cell_type": "markdown",
   "metadata": {},
   "source": [
    "<div class=\"alert alert-block alert-info\">\n",
    "<b>Комментарий студента:</b> \n",
    "    \n",
    "Спасибо за ревью!\n",
    "    \n",
    "Внёс правки, самая существенная выброс по \"Price\" в нуле. После правок качесвто LGBM значительно поднялось, с 1663 до 1554, также выросло качество на случайном лесе.\n",
    "</div>"
   ]
  },
  {
   "cell_type": "markdown",
   "metadata": {},
   "source": [
    "\n",
    "<div class=\"alert alert-block alert-warning\"; style=\"border-left: 6px solid orange\">\n",
    "<b>Итоговый комментарий ревьюера 2 ⚠️</b>\n",
    "       \n",
    "Спасибо за внесенные корректировки, выходим на финишную прямую! Осталось немного доработать с аномалиями, я думаю у тебя быстро получится это сделать) Буду ждать твой проект!\n",
    "    \n",
    "</div>\n"
   ]
  },
  {
   "cell_type": "markdown",
   "metadata": {},
   "source": [
    "<div class=\"alert alert-block alert-info\">\n",
    "<b>Комментарий студента 2:</b> \n",
    "    \n",
    "Спасибо за ревью!\n",
    "    \n",
    "Внёс правки. Ограничил диапазон подбора гиперпараметров, очень медленно происходит процес обучения, надеюсь это не будет критично. Я сейчас в дороге и у меня нет стабильного интернета (часто зависало ядро).\n",
    "</div>"
   ]
  },
  {
   "cell_type": "markdown",
   "metadata": {},
   "source": [
    "<div class=\"alert alert-block alert-success\"; style=\"border-left: 6px solid green\">\n",
    "<b>Итоговый комментарий ревьюера 3 ✔️</b>\n",
    "       \n",
    "Теперь все классно, можем двигаться дальше) Счастливого пути на дорогах и успехов в дальнейшем обучении!)\n",
    "    \n",
    "</div>\n"
   ]
  },
  {
   "cell_type": "markdown",
   "metadata": {},
   "source": [
    "## Чек-лист проверки"
   ]
  },
  {
   "cell_type": "markdown",
   "metadata": {},
   "source": [
    "Поставьте 'x' в выполненных пунктах. Далее нажмите Shift+Enter."
   ]
  },
  {
   "cell_type": "markdown",
   "metadata": {},
   "source": [
    "- [x]  Jupyter Notebook открыт\n",
    "- [ ]  Весь код выполняется без ошибок\n",
    "- [ ]  Ячейки с кодом расположены в порядке исполнения\n",
    "- [ ]  Выполнена загрузка и подготовка данных\n",
    "- [ ]  Выполнено обучение моделей\n",
    "- [ ]  Есть анализ скорости работы и качества моделей"
   ]
  }
 ],
 "metadata": {
  "ExecuteTimeLog": [
   {
    "duration": 1313,
    "start_time": "2022-07-03T05:10:40.593Z"
   },
   {
    "duration": 3105,
    "start_time": "2022-07-03T05:10:47.247Z"
   },
   {
    "duration": 3,
    "start_time": "2022-07-03T05:10:54.537Z"
   },
   {
    "duration": 50,
    "start_time": "2022-07-03T05:10:56.230Z"
   },
   {
    "duration": 431,
    "start_time": "2022-07-03T05:10:58.308Z"
   },
   {
    "duration": 27,
    "start_time": "2022-07-03T05:11:13.366Z"
   },
   {
    "duration": 20,
    "start_time": "2022-07-03T05:11:14.571Z"
   },
   {
    "duration": 30,
    "start_time": "2022-07-03T05:11:15.792Z"
   },
   {
    "duration": 257,
    "start_time": "2022-07-03T05:11:16.577Z"
   },
   {
    "duration": 54,
    "start_time": "2022-07-03T05:11:17.494Z"
   },
   {
    "duration": 36,
    "start_time": "2022-07-03T05:11:19.356Z"
   },
   {
    "duration": 26,
    "start_time": "2022-07-03T05:11:20.544Z"
   },
   {
    "duration": 18,
    "start_time": "2022-07-03T05:11:21.963Z"
   },
   {
    "duration": 24,
    "start_time": "2022-07-03T05:11:33.517Z"
   },
   {
    "duration": 250,
    "start_time": "2022-07-03T05:11:35.310Z"
   },
   {
    "duration": 131,
    "start_time": "2022-07-03T05:11:37.534Z"
   },
   {
    "duration": 13,
    "start_time": "2022-07-03T05:11:38.469Z"
   },
   {
    "duration": 37,
    "start_time": "2022-07-03T05:11:39.770Z"
   },
   {
    "duration": 16,
    "start_time": "2022-07-03T05:11:41.101Z"
   },
   {
    "duration": 13,
    "start_time": "2022-07-03T05:11:42.515Z"
   },
   {
    "duration": 699,
    "start_time": "2022-07-03T05:11:44.268Z"
   },
   {
    "duration": 92,
    "start_time": "2022-07-03T05:11:46.299Z"
   },
   {
    "duration": 4,
    "start_time": "2022-07-03T05:11:47.190Z"
   },
   {
    "duration": 348,
    "start_time": "2022-07-03T05:11:49.712Z"
   },
   {
    "duration": 23,
    "start_time": "2022-07-03T05:11:52.070Z"
   },
   {
    "duration": 5,
    "start_time": "2022-07-03T05:11:52.784Z"
   },
   {
    "duration": 127,
    "start_time": "2022-07-03T05:11:56.124Z"
   },
   {
    "duration": 5,
    "start_time": "2022-07-03T05:11:59.510Z"
   },
   {
    "duration": 9,
    "start_time": "2022-07-03T05:12:01.093Z"
   },
   {
    "duration": 4,
    "start_time": "2022-07-03T05:12:01.769Z"
   },
   {
    "duration": 205,
    "start_time": "2022-07-03T05:12:03.866Z"
   },
   {
    "duration": 169,
    "start_time": "2022-07-03T05:12:05.852Z"
   },
   {
    "duration": 229,
    "start_time": "2022-07-03T05:12:07.887Z"
   },
   {
    "duration": 163,
    "start_time": "2022-07-03T05:12:12.243Z"
   },
   {
    "duration": 902,
    "start_time": "2022-07-03T05:12:18.208Z"
   },
   {
    "duration": 215,
    "start_time": "2022-07-03T05:12:19.290Z"
   },
   {
    "duration": 530,
    "start_time": "2022-07-03T05:12:22.987Z"
   },
   {
    "duration": 228,
    "start_time": "2022-07-03T05:12:23.519Z"
   },
   {
    "duration": 15,
    "start_time": "2022-07-03T05:12:24.879Z"
   },
   {
    "duration": 58,
    "start_time": "2022-07-03T05:12:26.137Z"
   },
   {
    "duration": 43,
    "start_time": "2022-07-03T05:12:27.668Z"
   },
   {
    "duration": 4,
    "start_time": "2022-07-03T05:12:32.267Z"
   },
   {
    "duration": 1262,
    "start_time": "2022-07-03T05:13:58.620Z"
   },
   {
    "duration": 949,
    "start_time": "2022-07-03T05:13:59.884Z"
   },
   {
    "duration": 2,
    "start_time": "2022-07-03T05:14:00.835Z"
   },
   {
    "duration": 55,
    "start_time": "2022-07-03T05:14:00.839Z"
   },
   {
    "duration": 445,
    "start_time": "2022-07-03T05:14:00.896Z"
   },
   {
    "duration": 30,
    "start_time": "2022-07-03T05:14:01.343Z"
   },
   {
    "duration": 20,
    "start_time": "2022-07-03T05:14:01.375Z"
   },
   {
    "duration": 50,
    "start_time": "2022-07-03T05:14:01.396Z"
   },
   {
    "duration": 264,
    "start_time": "2022-07-03T05:14:01.448Z"
   },
   {
    "duration": 64,
    "start_time": "2022-07-03T05:14:01.714Z"
   },
   {
    "duration": 36,
    "start_time": "2022-07-03T05:14:01.780Z"
   },
   {
    "duration": 32,
    "start_time": "2022-07-03T05:14:01.818Z"
   },
   {
    "duration": 18,
    "start_time": "2022-07-03T05:14:01.851Z"
   },
   {
    "duration": 21,
    "start_time": "2022-07-03T05:14:01.871Z"
   },
   {
    "duration": 273,
    "start_time": "2022-07-03T05:14:01.894Z"
   },
   {
    "duration": 136,
    "start_time": "2022-07-03T05:14:02.168Z"
   },
   {
    "duration": 13,
    "start_time": "2022-07-03T05:14:02.306Z"
   },
   {
    "duration": 40,
    "start_time": "2022-07-03T05:14:02.320Z"
   },
   {
    "duration": 15,
    "start_time": "2022-07-03T05:14:02.362Z"
   },
   {
    "duration": 20,
    "start_time": "2022-07-03T05:14:02.379Z"
   },
   {
    "duration": 681,
    "start_time": "2022-07-03T05:14:02.400Z"
   },
   {
    "duration": 99,
    "start_time": "2022-07-03T05:14:03.082Z"
   },
   {
    "duration": 4,
    "start_time": "2022-07-03T05:14:03.183Z"
   },
   {
    "duration": 312,
    "start_time": "2022-07-03T05:14:03.188Z"
   },
   {
    "duration": 36,
    "start_time": "2022-07-03T05:14:03.501Z"
   },
   {
    "duration": 5,
    "start_time": "2022-07-03T05:14:03.539Z"
   },
   {
    "duration": 154,
    "start_time": "2022-07-03T05:14:03.545Z"
   },
   {
    "duration": 5,
    "start_time": "2022-07-03T05:14:03.702Z"
   },
   {
    "duration": 21,
    "start_time": "2022-07-03T05:14:03.708Z"
   },
   {
    "duration": 5,
    "start_time": "2022-07-03T05:14:03.731Z"
   },
   {
    "duration": 223,
    "start_time": "2022-07-03T05:14:03.737Z"
   },
   {
    "duration": 170,
    "start_time": "2022-07-03T05:14:03.962Z"
   },
   {
    "duration": 215,
    "start_time": "2022-07-03T05:14:04.134Z"
   },
   {
    "duration": 168,
    "start_time": "2022-07-03T05:14:04.351Z"
   },
   {
    "duration": 903,
    "start_time": "2022-07-03T05:14:04.521Z"
   },
   {
    "duration": 213,
    "start_time": "2022-07-03T05:14:05.426Z"
   },
   {
    "duration": 551,
    "start_time": "2022-07-03T05:14:05.640Z"
   },
   {
    "duration": 206,
    "start_time": "2022-07-03T05:14:06.192Z"
   },
   {
    "duration": 29,
    "start_time": "2022-07-03T05:14:06.400Z"
   },
   {
    "duration": 59,
    "start_time": "2022-07-03T05:14:06.431Z"
   },
   {
    "duration": 56,
    "start_time": "2022-07-03T05:14:06.492Z"
   },
   {
    "duration": 3,
    "start_time": "2022-07-03T05:14:06.550Z"
   },
   {
    "duration": 84,
    "start_time": "2022-07-03T05:14:06.555Z"
   },
   {
    "duration": 28,
    "start_time": "2022-07-03T05:14:06.641Z"
   },
   {
    "duration": 1320,
    "start_time": "2022-07-03T05:15:01.412Z"
   },
   {
    "duration": 3014,
    "start_time": "2022-07-03T05:15:02.734Z"
   },
   {
    "duration": 3,
    "start_time": "2022-07-03T05:15:05.749Z"
   },
   {
    "duration": 57,
    "start_time": "2022-07-03T05:15:05.754Z"
   },
   {
    "duration": 452,
    "start_time": "2022-07-03T05:15:05.813Z"
   },
   {
    "duration": 26,
    "start_time": "2022-07-03T05:15:06.267Z"
   },
   {
    "duration": 18,
    "start_time": "2022-07-03T05:15:06.295Z"
   },
   {
    "duration": 44,
    "start_time": "2022-07-03T05:15:06.314Z"
   },
   {
    "duration": 266,
    "start_time": "2022-07-03T05:15:06.360Z"
   },
   {
    "duration": 52,
    "start_time": "2022-07-03T05:15:06.630Z"
   },
   {
    "duration": 50,
    "start_time": "2022-07-03T05:15:06.683Z"
   },
   {
    "duration": 27,
    "start_time": "2022-07-03T05:15:06.734Z"
   },
   {
    "duration": 18,
    "start_time": "2022-07-03T05:15:06.763Z"
   },
   {
    "duration": 22,
    "start_time": "2022-07-03T05:15:06.783Z"
   },
   {
    "duration": 292,
    "start_time": "2022-07-03T05:15:06.806Z"
   },
   {
    "duration": 159,
    "start_time": "2022-07-03T05:15:07.100Z"
   },
   {
    "duration": 15,
    "start_time": "2022-07-03T05:15:07.260Z"
   },
   {
    "duration": 56,
    "start_time": "2022-07-03T05:15:07.276Z"
   },
   {
    "duration": 18,
    "start_time": "2022-07-03T05:15:07.334Z"
   },
   {
    "duration": 17,
    "start_time": "2022-07-03T05:15:07.354Z"
   },
   {
    "duration": 773,
    "start_time": "2022-07-03T05:15:07.373Z"
   },
   {
    "duration": 104,
    "start_time": "2022-07-03T05:15:08.148Z"
   },
   {
    "duration": 6,
    "start_time": "2022-07-03T05:15:08.254Z"
   },
   {
    "duration": 346,
    "start_time": "2022-07-03T05:15:08.262Z"
   },
   {
    "duration": 41,
    "start_time": "2022-07-03T05:15:08.610Z"
   },
   {
    "duration": 5,
    "start_time": "2022-07-03T05:15:08.653Z"
   },
   {
    "duration": 149,
    "start_time": "2022-07-03T05:15:08.660Z"
   },
   {
    "duration": 4,
    "start_time": "2022-07-03T05:15:08.813Z"
   },
   {
    "duration": 18,
    "start_time": "2022-07-03T05:15:08.818Z"
   },
   {
    "duration": 4,
    "start_time": "2022-07-03T05:15:08.837Z"
   },
   {
    "duration": 231,
    "start_time": "2022-07-03T05:15:08.842Z"
   },
   {
    "duration": 182,
    "start_time": "2022-07-03T05:15:09.075Z"
   },
   {
    "duration": 224,
    "start_time": "2022-07-03T05:15:09.259Z"
   },
   {
    "duration": 178,
    "start_time": "2022-07-03T05:15:09.484Z"
   },
   {
    "duration": 869,
    "start_time": "2022-07-03T05:15:09.663Z"
   },
   {
    "duration": 198,
    "start_time": "2022-07-03T05:15:10.534Z"
   },
   {
    "duration": 523,
    "start_time": "2022-07-03T05:15:10.734Z"
   },
   {
    "duration": 201,
    "start_time": "2022-07-03T05:15:11.258Z"
   },
   {
    "duration": 17,
    "start_time": "2022-07-03T05:15:11.461Z"
   },
   {
    "duration": 72,
    "start_time": "2022-07-03T05:15:11.480Z"
   },
   {
    "duration": 40,
    "start_time": "2022-07-03T05:15:11.553Z"
   },
   {
    "duration": 3,
    "start_time": "2022-07-03T05:15:11.595Z"
   },
   {
    "duration": 81,
    "start_time": "2022-07-03T05:15:11.599Z"
   },
   {
    "duration": 27,
    "start_time": "2022-07-03T05:15:11.681Z"
   },
   {
    "duration": 1240,
    "start_time": "2022-07-03T05:15:41.375Z"
   },
   {
    "duration": 3001,
    "start_time": "2022-07-03T05:15:42.618Z"
   },
   {
    "duration": 2,
    "start_time": "2022-07-03T05:15:45.621Z"
   },
   {
    "duration": 46,
    "start_time": "2022-07-03T05:15:45.628Z"
   },
   {
    "duration": 444,
    "start_time": "2022-07-03T05:15:45.676Z"
   },
   {
    "duration": 27,
    "start_time": "2022-07-03T05:15:46.122Z"
   },
   {
    "duration": 17,
    "start_time": "2022-07-03T05:15:46.150Z"
   },
   {
    "duration": 26,
    "start_time": "2022-07-03T05:15:46.168Z"
   },
   {
    "duration": 262,
    "start_time": "2022-07-03T05:15:46.195Z"
   },
   {
    "duration": 48,
    "start_time": "2022-07-03T05:15:46.459Z"
   },
   {
    "duration": 54,
    "start_time": "2022-07-03T05:15:46.509Z"
   },
   {
    "duration": 29,
    "start_time": "2022-07-03T05:15:46.564Z"
   },
   {
    "duration": 38,
    "start_time": "2022-07-03T05:15:46.595Z"
   },
   {
    "duration": 24,
    "start_time": "2022-07-03T05:15:46.636Z"
   },
   {
    "duration": 302,
    "start_time": "2022-07-03T05:15:46.661Z"
   },
   {
    "duration": 141,
    "start_time": "2022-07-03T05:15:46.964Z"
   },
   {
    "duration": 13,
    "start_time": "2022-07-03T05:15:47.107Z"
   },
   {
    "duration": 36,
    "start_time": "2022-07-03T05:15:47.128Z"
   },
   {
    "duration": 22,
    "start_time": "2022-07-03T05:15:47.166Z"
   },
   {
    "duration": 14,
    "start_time": "2022-07-03T05:15:47.189Z"
   },
   {
    "duration": 751,
    "start_time": "2022-07-03T05:15:47.204Z"
   },
   {
    "duration": 103,
    "start_time": "2022-07-03T05:15:47.956Z"
   },
   {
    "duration": 5,
    "start_time": "2022-07-03T05:15:48.060Z"
   },
   {
    "duration": 320,
    "start_time": "2022-07-03T05:15:48.066Z"
   },
   {
    "duration": 26,
    "start_time": "2022-07-03T05:15:48.387Z"
   },
   {
    "duration": 16,
    "start_time": "2022-07-03T05:15:48.415Z"
   },
   {
    "duration": 145,
    "start_time": "2022-07-03T05:15:48.432Z"
   },
   {
    "duration": 4,
    "start_time": "2022-07-03T05:15:48.579Z"
   },
   {
    "duration": 15,
    "start_time": "2022-07-03T05:15:48.585Z"
   },
   {
    "duration": 4,
    "start_time": "2022-07-03T05:15:48.602Z"
   },
   {
    "duration": 226,
    "start_time": "2022-07-03T05:15:48.608Z"
   },
   {
    "duration": 183,
    "start_time": "2022-07-03T05:15:48.836Z"
   },
   {
    "duration": 230,
    "start_time": "2022-07-03T05:15:49.021Z"
   },
   {
    "duration": 178,
    "start_time": "2022-07-03T05:15:49.252Z"
   },
   {
    "duration": 968,
    "start_time": "2022-07-03T05:15:49.432Z"
   },
   {
    "duration": 222,
    "start_time": "2022-07-03T05:15:50.402Z"
   },
   {
    "duration": 530,
    "start_time": "2022-07-03T05:15:50.625Z"
   },
   {
    "duration": 205,
    "start_time": "2022-07-03T05:15:51.157Z"
   },
   {
    "duration": 15,
    "start_time": "2022-07-03T05:15:51.363Z"
   },
   {
    "duration": 67,
    "start_time": "2022-07-03T05:15:51.380Z"
   },
   {
    "duration": 41,
    "start_time": "2022-07-03T05:15:51.451Z"
   },
   {
    "duration": 3,
    "start_time": "2022-07-03T05:15:51.494Z"
   },
   {
    "duration": 85,
    "start_time": "2022-07-03T05:15:51.498Z"
   },
   {
    "duration": 27,
    "start_time": "2022-07-03T05:15:51.584Z"
   },
   {
    "duration": 45,
    "start_time": "2022-07-03T05:23:16.487Z"
   },
   {
    "duration": 1224,
    "start_time": "2022-07-03T05:24:14.881Z"
   },
   {
    "duration": 2981,
    "start_time": "2022-07-03T05:24:16.106Z"
   },
   {
    "duration": 2,
    "start_time": "2022-07-03T05:24:19.089Z"
   },
   {
    "duration": 60,
    "start_time": "2022-07-03T05:24:19.093Z"
   },
   {
    "duration": 455,
    "start_time": "2022-07-03T05:24:19.154Z"
   },
   {
    "duration": 30,
    "start_time": "2022-07-03T05:24:19.610Z"
   },
   {
    "duration": 18,
    "start_time": "2022-07-03T05:24:19.641Z"
   },
   {
    "duration": 30,
    "start_time": "2022-07-03T05:24:19.661Z"
   },
   {
    "duration": 274,
    "start_time": "2022-07-03T05:24:19.693Z"
   },
   {
    "duration": 59,
    "start_time": "2022-07-03T05:24:19.970Z"
   },
   {
    "duration": 37,
    "start_time": "2022-07-03T05:24:20.030Z"
   },
   {
    "duration": 26,
    "start_time": "2022-07-03T05:24:20.069Z"
   },
   {
    "duration": 37,
    "start_time": "2022-07-03T05:24:20.097Z"
   },
   {
    "duration": 22,
    "start_time": "2022-07-03T05:24:20.135Z"
   },
   {
    "duration": 259,
    "start_time": "2022-07-03T05:24:20.158Z"
   },
   {
    "duration": 139,
    "start_time": "2022-07-03T05:24:20.419Z"
   },
   {
    "duration": 12,
    "start_time": "2022-07-03T05:24:20.560Z"
   },
   {
    "duration": 34,
    "start_time": "2022-07-03T05:24:20.574Z"
   },
   {
    "duration": 30,
    "start_time": "2022-07-03T05:24:20.609Z"
   },
   {
    "duration": 13,
    "start_time": "2022-07-03T05:24:20.641Z"
   },
   {
    "duration": 694,
    "start_time": "2022-07-03T05:24:20.656Z"
   },
   {
    "duration": 102,
    "start_time": "2022-07-03T05:24:21.352Z"
   },
   {
    "duration": 4,
    "start_time": "2022-07-03T05:24:21.456Z"
   },
   {
    "duration": 310,
    "start_time": "2022-07-03T05:24:21.461Z"
   },
   {
    "duration": 24,
    "start_time": "2022-07-03T05:24:21.772Z"
   },
   {
    "duration": 3,
    "start_time": "2022-07-03T05:24:21.798Z"
   },
   {
    "duration": 143,
    "start_time": "2022-07-03T05:24:21.803Z"
   },
   {
    "duration": 4,
    "start_time": "2022-07-03T05:24:21.949Z"
   },
   {
    "duration": 9,
    "start_time": "2022-07-03T05:24:21.955Z"
   },
   {
    "duration": 4,
    "start_time": "2022-07-03T05:24:21.966Z"
   },
   {
    "duration": 210,
    "start_time": "2022-07-03T05:24:21.972Z"
   },
   {
    "duration": 164,
    "start_time": "2022-07-03T05:24:22.184Z"
   },
   {
    "duration": 213,
    "start_time": "2022-07-03T05:24:22.350Z"
   },
   {
    "duration": 177,
    "start_time": "2022-07-03T05:24:22.565Z"
   },
   {
    "duration": 921,
    "start_time": "2022-07-03T05:24:22.744Z"
   },
   {
    "duration": 214,
    "start_time": "2022-07-03T05:24:23.667Z"
   },
   {
    "duration": 534,
    "start_time": "2022-07-03T05:24:23.883Z"
   },
   {
    "duration": 211,
    "start_time": "2022-07-03T05:24:24.418Z"
   },
   {
    "duration": 15,
    "start_time": "2022-07-03T05:24:24.631Z"
   },
   {
    "duration": 58,
    "start_time": "2022-07-03T05:24:24.647Z"
   },
   {
    "duration": 55,
    "start_time": "2022-07-03T05:24:24.707Z"
   },
   {
    "duration": 3,
    "start_time": "2022-07-03T05:24:24.764Z"
   },
   {
    "duration": 81,
    "start_time": "2022-07-03T05:24:24.768Z"
   },
   {
    "duration": 26,
    "start_time": "2022-07-03T05:24:24.851Z"
   },
   {
    "duration": 740,
    "start_time": "2022-07-03T05:24:24.879Z"
   },
   {
    "duration": 436,
    "start_time": "2022-07-03T05:24:25.620Z"
   },
   {
    "duration": 273,
    "start_time": "2022-07-03T05:24:26.058Z"
   },
   {
    "duration": 2,
    "start_time": "2022-07-03T05:24:26.333Z"
   },
   {
    "duration": 4264194,
    "start_time": "2022-07-03T05:24:26.336Z"
   },
   {
    "duration": 71300,
    "start_time": "2022-07-03T06:35:30.531Z"
   },
   {
    "duration": 3098808,
    "start_time": "2022-07-03T06:36:41.929Z"
   },
   {
    "duration": 142,
    "start_time": "2022-07-03T07:36:17.781Z"
   },
   {
    "duration": 1432,
    "start_time": "2022-07-03T07:36:48.793Z"
   },
   {
    "duration": 2982,
    "start_time": "2022-07-03T07:39:38.176Z"
   },
   {
    "duration": 3,
    "start_time": "2022-07-03T07:39:41.160Z"
   },
   {
    "duration": 47,
    "start_time": "2022-07-03T07:39:41.924Z"
   },
   {
    "duration": 460,
    "start_time": "2022-07-03T07:39:43.181Z"
   },
   {
    "duration": 30,
    "start_time": "2022-07-03T07:39:44.000Z"
   },
   {
    "duration": 19,
    "start_time": "2022-07-03T07:39:44.436Z"
   },
   {
    "duration": 32,
    "start_time": "2022-07-03T07:39:44.828Z"
   },
   {
    "duration": 273,
    "start_time": "2022-07-03T07:39:44.996Z"
   },
   {
    "duration": 59,
    "start_time": "2022-07-03T07:39:45.270Z"
   },
   {
    "duration": 39,
    "start_time": "2022-07-03T07:39:46.321Z"
   },
   {
    "duration": 29,
    "start_time": "2022-07-03T07:39:47.316Z"
   },
   {
    "duration": 21,
    "start_time": "2022-07-03T07:39:48.540Z"
   },
   {
    "duration": 24,
    "start_time": "2022-07-03T07:39:49.693Z"
   },
   {
    "duration": 246,
    "start_time": "2022-07-03T07:39:51.948Z"
   },
   {
    "duration": 133,
    "start_time": "2022-07-03T07:39:58.092Z"
   },
   {
    "duration": 13,
    "start_time": "2022-07-03T07:39:58.828Z"
   },
   {
    "duration": 35,
    "start_time": "2022-07-03T07:40:00.408Z"
   },
   {
    "duration": 1357,
    "start_time": "2022-07-03T07:42:10.243Z"
   },
   {
    "duration": 1012,
    "start_time": "2022-07-03T07:42:11.602Z"
   },
   {
    "duration": 2,
    "start_time": "2022-07-03T07:42:12.615Z"
   },
   {
    "duration": 48,
    "start_time": "2022-07-03T07:42:12.628Z"
   },
   {
    "duration": 447,
    "start_time": "2022-07-03T07:42:12.678Z"
   },
   {
    "duration": 30,
    "start_time": "2022-07-03T07:42:13.127Z"
   },
   {
    "duration": 19,
    "start_time": "2022-07-03T07:42:13.158Z"
   },
   {
    "duration": 54,
    "start_time": "2022-07-03T07:42:13.179Z"
   },
   {
    "duration": 268,
    "start_time": "2022-07-03T07:42:13.235Z"
   },
   {
    "duration": 60,
    "start_time": "2022-07-03T07:42:13.506Z"
   },
   {
    "duration": 39,
    "start_time": "2022-07-03T07:42:13.567Z"
   },
   {
    "duration": 47,
    "start_time": "2022-07-03T07:42:13.608Z"
   },
   {
    "duration": 22,
    "start_time": "2022-07-03T07:42:13.658Z"
   },
   {
    "duration": 22,
    "start_time": "2022-07-03T07:42:13.682Z"
   },
   {
    "duration": 273,
    "start_time": "2022-07-03T07:42:13.729Z"
   },
   {
    "duration": 152,
    "start_time": "2022-07-03T07:42:14.004Z"
   },
   {
    "duration": 13,
    "start_time": "2022-07-03T07:42:14.157Z"
   },
   {
    "duration": 37,
    "start_time": "2022-07-03T07:42:14.172Z"
   },
   {
    "duration": 26,
    "start_time": "2022-07-03T07:42:14.210Z"
   },
   {
    "duration": 12,
    "start_time": "2022-07-03T07:42:14.238Z"
   },
   {
    "duration": 713,
    "start_time": "2022-07-03T07:42:14.251Z"
   },
   {
    "duration": 103,
    "start_time": "2022-07-03T07:42:14.966Z"
   },
   {
    "duration": 4,
    "start_time": "2022-07-03T07:42:15.071Z"
   },
   {
    "duration": 330,
    "start_time": "2022-07-03T07:42:15.076Z"
   },
   {
    "duration": 32,
    "start_time": "2022-07-03T07:42:15.408Z"
   },
   {
    "duration": 5,
    "start_time": "2022-07-03T07:42:15.441Z"
   },
   {
    "duration": 147,
    "start_time": "2022-07-03T07:42:15.447Z"
   },
   {
    "duration": 3,
    "start_time": "2022-07-03T07:42:15.598Z"
   },
   {
    "duration": 10,
    "start_time": "2022-07-03T07:42:15.603Z"
   },
   {
    "duration": 16,
    "start_time": "2022-07-03T07:42:15.614Z"
   },
   {
    "duration": 205,
    "start_time": "2022-07-03T07:42:15.632Z"
   },
   {
    "duration": 174,
    "start_time": "2022-07-03T07:42:15.839Z"
   },
   {
    "duration": 260,
    "start_time": "2022-07-03T07:42:16.015Z"
   },
   {
    "duration": 185,
    "start_time": "2022-07-03T07:42:16.277Z"
   },
   {
    "duration": 976,
    "start_time": "2022-07-03T07:42:16.464Z"
   },
   {
    "duration": 221,
    "start_time": "2022-07-03T07:42:17.442Z"
   },
   {
    "duration": 560,
    "start_time": "2022-07-03T07:42:17.665Z"
   },
   {
    "duration": 211,
    "start_time": "2022-07-03T07:42:18.226Z"
   },
   {
    "duration": 15,
    "start_time": "2022-07-03T07:42:18.439Z"
   },
   {
    "duration": 77,
    "start_time": "2022-07-03T07:42:18.456Z"
   },
   {
    "duration": 44,
    "start_time": "2022-07-03T07:42:18.534Z"
   },
   {
    "duration": 3,
    "start_time": "2022-07-03T07:42:18.580Z"
   },
   {
    "duration": 95,
    "start_time": "2022-07-03T07:42:18.584Z"
   },
   {
    "duration": 26,
    "start_time": "2022-07-03T07:42:18.681Z"
   },
   {
    "duration": 821,
    "start_time": "2022-07-03T07:42:18.708Z"
   },
   {
    "duration": 436,
    "start_time": "2022-07-03T07:42:19.531Z"
   },
   {
    "duration": 283,
    "start_time": "2022-07-03T07:42:19.969Z"
   },
   {
    "duration": 10,
    "start_time": "2022-07-03T07:42:20.254Z"
   },
   {
    "duration": 5,
    "start_time": "2022-07-03T07:42:20.265Z"
   },
   {
    "duration": 7759165,
    "start_time": "2022-07-03T07:42:20.271Z"
   },
   {
    "duration": 72090,
    "start_time": "2022-07-03T09:51:39.438Z"
   },
   {
    "duration": 3196320,
    "start_time": "2022-07-03T09:52:51.530Z"
   },
   {
    "duration": 1408,
    "start_time": "2022-07-03T10:59:46.637Z"
   },
   {
    "duration": 3197,
    "start_time": "2022-07-03T10:59:48.687Z"
   },
   {
    "duration": 2,
    "start_time": "2022-07-03T10:59:51.886Z"
   },
   {
    "duration": 46,
    "start_time": "2022-07-03T10:59:52.678Z"
   },
   {
    "duration": 446,
    "start_time": "2022-07-03T10:59:53.623Z"
   },
   {
    "duration": 29,
    "start_time": "2022-07-03T10:59:54.071Z"
   },
   {
    "duration": 16,
    "start_time": "2022-07-03T10:59:54.323Z"
   },
   {
    "duration": 27,
    "start_time": "2022-07-03T10:59:54.640Z"
   },
   {
    "duration": 233,
    "start_time": "2022-07-03T10:59:54.799Z"
   },
   {
    "duration": 47,
    "start_time": "2022-07-03T10:59:55.034Z"
   },
   {
    "duration": 46,
    "start_time": "2022-07-03T10:59:55.290Z"
   },
   {
    "duration": 26,
    "start_time": "2022-07-03T10:59:55.613Z"
   },
   {
    "duration": 18,
    "start_time": "2022-07-03T10:59:55.931Z"
   },
   {
    "duration": 23,
    "start_time": "2022-07-03T10:59:56.245Z"
   },
   {
    "duration": 249,
    "start_time": "2022-07-03T10:59:56.732Z"
   },
   {
    "duration": 144,
    "start_time": "2022-07-03T10:59:57.074Z"
   },
   {
    "duration": 14,
    "start_time": "2022-07-03T10:59:57.230Z"
   },
   {
    "duration": 34,
    "start_time": "2022-07-03T10:59:57.908Z"
   },
   {
    "duration": 16,
    "start_time": "2022-07-03T10:59:58.330Z"
   },
   {
    "duration": 13,
    "start_time": "2022-07-03T10:59:58.510Z"
   },
   {
    "duration": 703,
    "start_time": "2022-07-03T10:59:58.902Z"
   },
   {
    "duration": 95,
    "start_time": "2022-07-03T10:59:59.607Z"
   },
   {
    "duration": 4,
    "start_time": "2022-07-03T10:59:59.704Z"
   },
   {
    "duration": 306,
    "start_time": "2022-07-03T10:59:59.894Z"
   },
   {
    "duration": 25,
    "start_time": "2022-07-03T11:00:00.890Z"
   },
   {
    "duration": 5,
    "start_time": "2022-07-03T11:00:01.126Z"
   },
   {
    "duration": 134,
    "start_time": "2022-07-03T11:00:01.522Z"
   },
   {
    "duration": 4,
    "start_time": "2022-07-03T11:00:01.702Z"
   },
   {
    "duration": 10,
    "start_time": "2022-07-03T11:00:02.040Z"
   },
   {
    "duration": 4,
    "start_time": "2022-07-03T11:00:02.225Z"
   },
   {
    "duration": 202,
    "start_time": "2022-07-03T11:00:02.578Z"
   },
   {
    "duration": 172,
    "start_time": "2022-07-03T11:00:03.208Z"
   },
   {
    "duration": 228,
    "start_time": "2022-07-03T11:00:03.404Z"
   },
   {
    "duration": 173,
    "start_time": "2022-07-03T11:00:03.758Z"
   },
   {
    "duration": 958,
    "start_time": "2022-07-03T11:00:04.113Z"
   },
   {
    "duration": 230,
    "start_time": "2022-07-03T11:00:05.073Z"
   },
   {
    "duration": 588,
    "start_time": "2022-07-03T11:00:05.305Z"
   },
   {
    "duration": 244,
    "start_time": "2022-07-03T11:00:05.895Z"
   },
   {
    "duration": 19,
    "start_time": "2022-07-03T11:00:06.141Z"
   },
   {
    "duration": 82,
    "start_time": "2022-07-03T11:00:06.162Z"
   },
   {
    "duration": 43,
    "start_time": "2022-07-03T11:00:06.674Z"
   },
   {
    "duration": 3,
    "start_time": "2022-07-03T11:00:08.999Z"
   },
   {
    "duration": 74,
    "start_time": "2022-07-03T11:00:10.075Z"
   },
   {
    "duration": 26,
    "start_time": "2022-07-03T11:00:16.316Z"
   },
   {
    "duration": 754,
    "start_time": "2022-07-03T11:00:18.079Z"
   },
   {
    "duration": 432,
    "start_time": "2022-07-03T11:00:20.487Z"
   },
   {
    "duration": 279,
    "start_time": "2022-07-03T11:00:22.750Z"
   },
   {
    "duration": 10,
    "start_time": "2022-07-03T11:00:24.586Z"
   },
   {
    "duration": 3,
    "start_time": "2022-07-03T11:00:28.326Z"
   },
   {
    "duration": 138,
    "start_time": "2022-07-03T11:12:49.088Z"
   },
   {
    "duration": 1382,
    "start_time": "2022-07-03T11:13:08.348Z"
   },
   {
    "duration": 3116,
    "start_time": "2022-07-03T11:13:09.732Z"
   },
   {
    "duration": 3,
    "start_time": "2022-07-03T11:13:12.849Z"
   },
   {
    "duration": 51,
    "start_time": "2022-07-03T11:13:13.636Z"
   },
   {
    "duration": 437,
    "start_time": "2022-07-03T11:13:14.293Z"
   },
   {
    "duration": 33,
    "start_time": "2022-07-03T11:13:14.731Z"
   },
   {
    "duration": 20,
    "start_time": "2022-07-03T11:13:14.946Z"
   },
   {
    "duration": 40,
    "start_time": "2022-07-03T11:13:15.281Z"
   },
   {
    "duration": 257,
    "start_time": "2022-07-03T11:13:15.434Z"
   },
   {
    "duration": 58,
    "start_time": "2022-07-03T11:13:15.693Z"
   },
   {
    "duration": 36,
    "start_time": "2022-07-03T11:13:15.920Z"
   },
   {
    "duration": 32,
    "start_time": "2022-07-03T11:13:16.288Z"
   },
   {
    "duration": 19,
    "start_time": "2022-07-03T11:13:16.606Z"
   },
   {
    "duration": 33,
    "start_time": "2022-07-03T11:13:16.908Z"
   },
   {
    "duration": 268,
    "start_time": "2022-07-03T11:13:17.432Z"
   },
   {
    "duration": 131,
    "start_time": "2022-07-03T11:13:17.781Z"
   },
   {
    "duration": 13,
    "start_time": "2022-07-03T11:13:17.923Z"
   },
   {
    "duration": 36,
    "start_time": "2022-07-03T11:13:18.281Z"
   },
   {
    "duration": 17,
    "start_time": "2022-07-03T11:13:18.594Z"
   },
   {
    "duration": 13,
    "start_time": "2022-07-03T11:13:18.781Z"
   },
   {
    "duration": 737,
    "start_time": "2022-07-03T11:13:19.099Z"
   },
   {
    "duration": 95,
    "start_time": "2022-07-03T11:13:19.838Z"
   },
   {
    "duration": 4,
    "start_time": "2022-07-03T11:13:19.935Z"
   },
   {
    "duration": 344,
    "start_time": "2022-07-03T11:13:19.941Z"
   },
   {
    "duration": 27,
    "start_time": "2022-07-03T11:13:20.439Z"
   },
   {
    "duration": 4,
    "start_time": "2022-07-03T11:13:20.606Z"
   },
   {
    "duration": 127,
    "start_time": "2022-07-03T11:13:20.938Z"
   },
   {
    "duration": 4,
    "start_time": "2022-07-03T11:13:21.102Z"
   },
   {
    "duration": 10,
    "start_time": "2022-07-03T11:13:21.480Z"
   },
   {
    "duration": 4,
    "start_time": "2022-07-03T11:13:22.230Z"
   },
   {
    "duration": 200,
    "start_time": "2022-07-03T11:13:22.548Z"
   },
   {
    "duration": 159,
    "start_time": "2022-07-03T11:13:22.892Z"
   },
   {
    "duration": 232,
    "start_time": "2022-07-03T11:13:23.053Z"
   },
   {
    "duration": 174,
    "start_time": "2022-07-03T11:13:23.403Z"
   },
   {
    "duration": 929,
    "start_time": "2022-07-03T11:13:23.741Z"
   },
   {
    "duration": 212,
    "start_time": "2022-07-03T11:13:24.672Z"
   },
   {
    "duration": 556,
    "start_time": "2022-07-03T11:13:24.885Z"
   },
   {
    "duration": 218,
    "start_time": "2022-07-03T11:13:25.443Z"
   },
   {
    "duration": 15,
    "start_time": "2022-07-03T11:13:25.664Z"
   },
   {
    "duration": 71,
    "start_time": "2022-07-03T11:13:25.680Z"
   },
   {
    "duration": 40,
    "start_time": "2022-07-03T11:13:25.753Z"
   },
   {
    "duration": 3,
    "start_time": "2022-07-03T11:13:27.499Z"
   },
   {
    "duration": 76,
    "start_time": "2022-07-03T11:13:27.848Z"
   },
   {
    "duration": 27,
    "start_time": "2022-07-03T11:13:30.426Z"
   },
   {
    "duration": 775,
    "start_time": "2022-07-03T11:13:32.121Z"
   },
   {
    "duration": 440,
    "start_time": "2022-07-03T11:13:34.010Z"
   },
   {
    "duration": 281,
    "start_time": "2022-07-03T11:13:35.705Z"
   },
   {
    "duration": 9,
    "start_time": "2022-07-03T11:13:37.205Z"
   },
   {
    "duration": 2,
    "start_time": "2022-07-03T11:13:38.861Z"
   },
   {
    "duration": 4763327,
    "start_time": "2022-07-03T11:13:47.106Z"
   },
   {
    "duration": 1503,
    "start_time": "2022-07-03T14:02:38.242Z"
   },
   {
    "duration": 1280,
    "start_time": "2022-07-03T14:02:39.747Z"
   },
   {
    "duration": 2,
    "start_time": "2022-07-03T14:02:41.029Z"
   },
   {
    "duration": 60,
    "start_time": "2022-07-03T14:02:41.033Z"
   },
   {
    "duration": 464,
    "start_time": "2022-07-03T14:02:41.094Z"
   },
   {
    "duration": 33,
    "start_time": "2022-07-03T14:02:41.560Z"
   },
   {
    "duration": 36,
    "start_time": "2022-07-03T14:02:41.594Z"
   },
   {
    "duration": 33,
    "start_time": "2022-07-03T14:02:41.631Z"
   },
   {
    "duration": 272,
    "start_time": "2022-07-03T14:02:41.665Z"
   },
   {
    "duration": 56,
    "start_time": "2022-07-03T14:02:41.940Z"
   },
   {
    "duration": 50,
    "start_time": "2022-07-03T14:02:41.998Z"
   },
   {
    "duration": 30,
    "start_time": "2022-07-03T14:02:42.050Z"
   },
   {
    "duration": 22,
    "start_time": "2022-07-03T14:02:42.082Z"
   },
   {
    "duration": 41,
    "start_time": "2022-07-03T14:02:42.105Z"
   },
   {
    "duration": 301,
    "start_time": "2022-07-03T14:02:42.148Z"
   },
   {
    "duration": 159,
    "start_time": "2022-07-03T14:02:42.451Z"
   },
   {
    "duration": 20,
    "start_time": "2022-07-03T14:02:42.612Z"
   },
   {
    "duration": 41,
    "start_time": "2022-07-03T14:02:42.634Z"
   },
   {
    "duration": 18,
    "start_time": "2022-07-03T14:02:42.676Z"
   },
   {
    "duration": 37,
    "start_time": "2022-07-03T14:02:42.696Z"
   },
   {
    "duration": 724,
    "start_time": "2022-07-03T14:02:42.735Z"
   },
   {
    "duration": 102,
    "start_time": "2022-07-03T14:02:43.461Z"
   },
   {
    "duration": 4,
    "start_time": "2022-07-03T14:02:43.565Z"
   },
   {
    "duration": 318,
    "start_time": "2022-07-03T14:02:43.571Z"
   },
   {
    "duration": 32,
    "start_time": "2022-07-03T14:02:43.891Z"
   },
   {
    "duration": 5,
    "start_time": "2022-07-03T14:02:43.925Z"
   },
   {
    "duration": 150,
    "start_time": "2022-07-03T14:02:43.931Z"
   },
   {
    "duration": 4,
    "start_time": "2022-07-03T14:02:44.085Z"
   },
   {
    "duration": 12,
    "start_time": "2022-07-03T14:02:44.091Z"
   },
   {
    "duration": 20,
    "start_time": "2022-07-03T14:02:44.105Z"
   },
   {
    "duration": 242,
    "start_time": "2022-07-03T14:02:44.127Z"
   },
   {
    "duration": 182,
    "start_time": "2022-07-03T14:02:44.370Z"
   },
   {
    "duration": 255,
    "start_time": "2022-07-03T14:02:44.554Z"
   },
   {
    "duration": 213,
    "start_time": "2022-07-03T14:02:44.811Z"
   },
   {
    "duration": 927,
    "start_time": "2022-07-03T14:02:45.027Z"
   },
   {
    "duration": 255,
    "start_time": "2022-07-03T14:02:45.955Z"
   },
   {
    "duration": 584,
    "start_time": "2022-07-03T14:02:46.212Z"
   },
   {
    "duration": 258,
    "start_time": "2022-07-03T14:02:46.798Z"
   },
   {
    "duration": 17,
    "start_time": "2022-07-03T14:02:47.058Z"
   },
   {
    "duration": 81,
    "start_time": "2022-07-03T14:02:47.076Z"
   },
   {
    "duration": 43,
    "start_time": "2022-07-03T14:02:47.159Z"
   },
   {
    "duration": 3,
    "start_time": "2022-07-03T14:02:47.204Z"
   },
   {
    "duration": 105,
    "start_time": "2022-07-03T14:02:47.209Z"
   },
   {
    "duration": 33,
    "start_time": "2022-07-03T14:02:47.316Z"
   },
   {
    "duration": 850,
    "start_time": "2022-07-03T14:02:47.351Z"
   },
   {
    "duration": 437,
    "start_time": "2022-07-03T14:02:48.203Z"
   },
   {
    "duration": 289,
    "start_time": "2022-07-03T14:02:48.642Z"
   },
   {
    "duration": 11,
    "start_time": "2022-07-03T14:02:48.932Z"
   },
   {
    "duration": 6,
    "start_time": "2022-07-03T14:02:48.945Z"
   },
   {
    "duration": 15172075,
    "start_time": "2022-07-03T14:02:48.952Z"
   },
   {
    "duration": 78695,
    "start_time": "2022-07-03T18:15:41.028Z"
   },
   {
    "duration": 3410575,
    "start_time": "2022-07-03T18:16:59.724Z"
   },
   {
    "duration": 2799927,
    "start_time": "2022-07-03T19:13:50.300Z"
   },
   {
    "duration": 31,
    "start_time": "2022-07-03T20:00:30.229Z"
   },
   {
    "duration": 3,
    "start_time": "2022-07-03T20:00:30.261Z"
   },
   {
    "duration": 20,
    "start_time": "2022-07-03T20:00:30.266Z"
   },
   {
    "duration": 8,
    "start_time": "2022-07-03T20:05:18.672Z"
   },
   {
    "duration": 43,
    "start_time": "2022-07-03T20:05:19.824Z"
   },
   {
    "duration": 2239,
    "start_time": "2022-07-04T18:59:17.572Z"
   },
   {
    "duration": 1406,
    "start_time": "2022-07-04T18:59:21.208Z"
   },
   {
    "duration": 4,
    "start_time": "2022-07-04T18:59:23.719Z"
   },
   {
    "duration": 73,
    "start_time": "2022-07-04T18:59:24.442Z"
   },
   {
    "duration": 566,
    "start_time": "2022-07-04T18:59:25.214Z"
   },
   {
    "duration": 66,
    "start_time": "2022-07-04T18:59:26.463Z"
   },
   {
    "duration": 30,
    "start_time": "2022-07-04T18:59:27.381Z"
   },
   {
    "duration": 48,
    "start_time": "2022-07-04T18:59:28.028Z"
   },
   {
    "duration": 435,
    "start_time": "2022-07-04T18:59:28.469Z"
   },
   {
    "duration": 83,
    "start_time": "2022-07-04T18:59:28.907Z"
   },
   {
    "duration": 38,
    "start_time": "2022-07-04T18:59:29.705Z"
   },
   {
    "duration": 48,
    "start_time": "2022-07-04T18:59:30.787Z"
   },
   {
    "duration": 39,
    "start_time": "2022-07-04T18:59:31.567Z"
   },
   {
    "duration": 31,
    "start_time": "2022-07-04T18:59:32.385Z"
   },
   {
    "duration": 427,
    "start_time": "2022-07-04T18:59:33.475Z"
   },
   {
    "duration": 205,
    "start_time": "2022-07-04T18:59:34.327Z"
   },
   {
    "duration": 45,
    "start_time": "2022-07-04T18:59:34.642Z"
   },
   {
    "duration": 68,
    "start_time": "2022-07-04T18:59:35.646Z"
   },
   {
    "duration": 40,
    "start_time": "2022-07-04T18:59:36.546Z"
   },
   {
    "duration": 38,
    "start_time": "2022-07-04T18:59:36.823Z"
   },
   {
    "duration": 1013,
    "start_time": "2022-07-04T18:59:37.395Z"
   },
   {
    "duration": 142,
    "start_time": "2022-07-04T18:59:38.411Z"
   },
   {
    "duration": 5,
    "start_time": "2022-07-04T18:59:38.711Z"
   },
   {
    "duration": 483,
    "start_time": "2022-07-04T18:59:39.431Z"
   },
   {
    "duration": 29,
    "start_time": "2022-07-04T18:59:41.097Z"
   },
   {
    "duration": 14,
    "start_time": "2022-07-04T18:59:41.461Z"
   },
   {
    "duration": 223,
    "start_time": "2022-07-04T18:59:42.069Z"
   },
   {
    "duration": 5,
    "start_time": "2022-07-04T18:59:42.402Z"
   },
   {
    "duration": 10,
    "start_time": "2022-07-04T18:59:43.117Z"
   },
   {
    "duration": 5,
    "start_time": "2022-07-04T18:59:43.414Z"
   },
   {
    "duration": 378,
    "start_time": "2022-07-04T18:59:44.070Z"
   },
   {
    "duration": 280,
    "start_time": "2022-07-04T18:59:44.870Z"
   },
   {
    "duration": 380,
    "start_time": "2022-07-04T18:59:45.216Z"
   },
   {
    "duration": 267,
    "start_time": "2022-07-04T18:59:46.200Z"
   },
   {
    "duration": 1519,
    "start_time": "2022-07-04T18:59:46.796Z"
   },
   {
    "duration": 352,
    "start_time": "2022-07-04T18:59:48.318Z"
   },
   {
    "duration": 803,
    "start_time": "2022-07-04T18:59:48.671Z"
   },
   {
    "duration": 325,
    "start_time": "2022-07-04T18:59:49.476Z"
   },
   {
    "duration": 19,
    "start_time": "2022-07-04T18:59:49.803Z"
   },
   {
    "duration": 84,
    "start_time": "2022-07-04T18:59:50.239Z"
   },
   {
    "duration": 62,
    "start_time": "2022-07-04T18:59:50.793Z"
   },
   {
    "duration": 4,
    "start_time": "2022-07-04T18:59:51.981Z"
   },
   {
    "duration": 108,
    "start_time": "2022-07-04T18:59:52.505Z"
   },
   {
    "duration": 310,
    "start_time": "2022-07-04T18:59:53.493Z"
   },
   {
    "duration": 59,
    "start_time": "2022-07-07T01:48:45.490Z"
   },
   {
    "duration": 1454,
    "start_time": "2022-07-07T01:48:58.243Z"
   },
   {
    "duration": 1237,
    "start_time": "2022-07-07T01:49:00.184Z"
   },
   {
    "duration": 3,
    "start_time": "2022-07-07T01:49:02.398Z"
   },
   {
    "duration": 48,
    "start_time": "2022-07-07T01:49:03.188Z"
   },
   {
    "duration": 456,
    "start_time": "2022-07-07T01:49:03.724Z"
   },
   {
    "duration": 34,
    "start_time": "2022-07-07T01:49:04.182Z"
   },
   {
    "duration": 18,
    "start_time": "2022-07-07T01:49:04.450Z"
   },
   {
    "duration": 32,
    "start_time": "2022-07-07T01:49:05.226Z"
   },
   {
    "duration": 259,
    "start_time": "2022-07-07T01:49:05.446Z"
   },
   {
    "duration": 43,
    "start_time": "2022-07-07T01:49:05.952Z"
   },
   {
    "duration": 28,
    "start_time": "2022-07-07T01:49:06.846Z"
   },
   {
    "duration": 27,
    "start_time": "2022-07-07T01:49:09.316Z"
   },
   {
    "duration": 19,
    "start_time": "2022-07-07T01:49:10.307Z"
   },
   {
    "duration": 20,
    "start_time": "2022-07-07T01:49:11.260Z"
   },
   {
    "duration": 276,
    "start_time": "2022-07-07T01:49:13.741Z"
   },
   {
    "duration": 138,
    "start_time": "2022-07-07T01:49:16.491Z"
   },
   {
    "duration": 14,
    "start_time": "2022-07-07T01:49:17.289Z"
   },
   {
    "duration": 34,
    "start_time": "2022-07-07T01:49:18.594Z"
   },
   {
    "duration": 16,
    "start_time": "2022-07-07T01:49:19.742Z"
   },
   {
    "duration": 14,
    "start_time": "2022-07-07T01:49:21.426Z"
   },
   {
    "duration": 12,
    "start_time": "2022-07-07T01:49:23.331Z"
   },
   {
    "duration": 12,
    "start_time": "2022-07-07T01:50:27.666Z"
   },
   {
    "duration": 9,
    "start_time": "2022-07-07T01:51:12.030Z"
   },
   {
    "duration": 15,
    "start_time": "2022-07-07T01:54:19.363Z"
   },
   {
    "duration": 54,
    "start_time": "2022-07-07T01:55:14.586Z"
   },
   {
    "duration": 711,
    "start_time": "2022-07-07T01:56:16.208Z"
   },
   {
    "duration": 681,
    "start_time": "2022-07-07T01:57:38.984Z"
   },
   {
    "duration": 699,
    "start_time": "2022-07-07T01:57:48.976Z"
   },
   {
    "duration": 734,
    "start_time": "2022-07-07T01:58:11.393Z"
   },
   {
    "duration": 639,
    "start_time": "2022-07-07T01:59:11.458Z"
   },
   {
    "duration": 650,
    "start_time": "2022-07-07T02:02:24.229Z"
   },
   {
    "duration": 84,
    "start_time": "2022-07-07T02:02:26.981Z"
   },
   {
    "duration": 404,
    "start_time": "2022-07-07T02:02:29.055Z"
   },
   {
    "duration": 309,
    "start_time": "2022-07-07T02:02:48.476Z"
   },
   {
    "duration": 309,
    "start_time": "2022-07-07T02:02:54.703Z"
   },
   {
    "duration": 13,
    "start_time": "2022-07-07T02:04:02.053Z"
   },
   {
    "duration": 306,
    "start_time": "2022-07-07T02:04:04.080Z"
   },
   {
    "duration": 307,
    "start_time": "2022-07-07T02:09:26.112Z"
   },
   {
    "duration": 435,
    "start_time": "2022-07-07T02:09:44.357Z"
   },
   {
    "duration": 346,
    "start_time": "2022-07-07T02:10:02.016Z"
   },
   {
    "duration": 334,
    "start_time": "2022-07-07T02:10:22.312Z"
   },
   {
    "duration": 298,
    "start_time": "2022-07-07T02:10:27.991Z"
   },
   {
    "duration": 309,
    "start_time": "2022-07-07T02:10:41.889Z"
   },
   {
    "duration": 307,
    "start_time": "2022-07-07T02:11:10.399Z"
   },
   {
    "duration": 398,
    "start_time": "2022-07-07T02:11:17.158Z"
   },
   {
    "duration": 307,
    "start_time": "2022-07-07T02:13:51.305Z"
   },
   {
    "duration": 1295,
    "start_time": "2022-07-07T02:16:17.554Z"
   },
   {
    "duration": 978,
    "start_time": "2022-07-07T02:16:18.852Z"
   },
   {
    "duration": 3,
    "start_time": "2022-07-07T02:16:19.831Z"
   },
   {
    "duration": 47,
    "start_time": "2022-07-07T02:16:19.836Z"
   },
   {
    "duration": 447,
    "start_time": "2022-07-07T02:16:19.884Z"
   },
   {
    "duration": 30,
    "start_time": "2022-07-07T02:16:20.332Z"
   },
   {
    "duration": 18,
    "start_time": "2022-07-07T02:16:20.364Z"
   },
   {
    "duration": 29,
    "start_time": "2022-07-07T02:16:20.401Z"
   },
   {
    "duration": 289,
    "start_time": "2022-07-07T02:16:20.433Z"
   },
   {
    "duration": 60,
    "start_time": "2022-07-07T02:16:20.725Z"
   },
   {
    "duration": 53,
    "start_time": "2022-07-07T02:16:20.787Z"
   },
   {
    "duration": 29,
    "start_time": "2022-07-07T02:16:20.841Z"
   },
   {
    "duration": 32,
    "start_time": "2022-07-07T02:16:20.872Z"
   },
   {
    "duration": 22,
    "start_time": "2022-07-07T02:16:20.906Z"
   },
   {
    "duration": 258,
    "start_time": "2022-07-07T02:16:20.930Z"
   },
   {
    "duration": 133,
    "start_time": "2022-07-07T02:16:21.190Z"
   },
   {
    "duration": 13,
    "start_time": "2022-07-07T02:16:21.324Z"
   },
   {
    "duration": 37,
    "start_time": "2022-07-07T02:16:21.339Z"
   },
   {
    "duration": 33,
    "start_time": "2022-07-07T02:16:21.377Z"
   },
   {
    "duration": 14,
    "start_time": "2022-07-07T02:16:21.412Z"
   },
   {
    "duration": 703,
    "start_time": "2022-07-07T02:16:21.427Z"
   },
   {
    "duration": 96,
    "start_time": "2022-07-07T02:16:22.132Z"
   },
   {
    "duration": 362,
    "start_time": "2022-07-07T02:16:22.230Z"
   },
   {
    "duration": 16,
    "start_time": "2022-07-07T02:16:22.594Z"
   },
   {
    "duration": 5,
    "start_time": "2022-07-07T02:16:22.612Z"
   },
   {
    "duration": 348,
    "start_time": "2022-07-07T02:16:22.618Z"
   },
   {
    "duration": 32,
    "start_time": "2022-07-07T02:16:22.969Z"
   },
   {
    "duration": 5,
    "start_time": "2022-07-07T02:16:23.004Z"
   },
   {
    "duration": 145,
    "start_time": "2022-07-07T02:16:23.010Z"
   },
   {
    "duration": 5,
    "start_time": "2022-07-07T02:16:23.156Z"
   },
   {
    "duration": 11,
    "start_time": "2022-07-07T02:16:23.162Z"
   },
   {
    "duration": 5,
    "start_time": "2022-07-07T02:16:23.174Z"
   },
   {
    "duration": 220,
    "start_time": "2022-07-07T02:16:23.180Z"
   },
   {
    "duration": 177,
    "start_time": "2022-07-07T02:16:23.402Z"
   },
   {
    "duration": 219,
    "start_time": "2022-07-07T02:16:23.581Z"
   },
   {
    "duration": 183,
    "start_time": "2022-07-07T02:16:23.802Z"
   },
   {
    "duration": 878,
    "start_time": "2022-07-07T02:16:23.987Z"
   },
   {
    "duration": 215,
    "start_time": "2022-07-07T02:16:24.866Z"
   },
   {
    "duration": 511,
    "start_time": "2022-07-07T02:16:25.082Z"
   },
   {
    "duration": 210,
    "start_time": "2022-07-07T02:16:25.595Z"
   },
   {
    "duration": 16,
    "start_time": "2022-07-07T02:16:25.807Z"
   },
   {
    "duration": 40,
    "start_time": "2022-07-07T02:16:25.825Z"
   },
   {
    "duration": 56,
    "start_time": "2022-07-07T02:16:25.866Z"
   },
   {
    "duration": 51,
    "start_time": "2022-07-07T02:16:25.924Z"
   },
   {
    "duration": 62,
    "start_time": "2022-07-07T02:16:25.976Z"
   },
   {
    "duration": 304,
    "start_time": "2022-07-07T02:16:26.040Z"
   },
   {
    "duration": 43,
    "start_time": "2022-07-07T02:16:26.346Z"
   },
   {
    "duration": 3,
    "start_time": "2022-07-07T02:16:26.400Z"
   },
   {
    "duration": 75,
    "start_time": "2022-07-07T02:16:26.405Z"
   },
   {
    "duration": 218,
    "start_time": "2022-07-07T02:16:26.482Z"
   },
   {
    "duration": 18,
    "start_time": "2022-07-07T02:16:26.702Z"
   },
   {
    "duration": 758,
    "start_time": "2022-07-07T02:16:26.722Z"
   },
   {
    "duration": 403,
    "start_time": "2022-07-07T02:16:27.482Z"
   },
   {
    "duration": 257,
    "start_time": "2022-07-07T02:16:27.887Z"
   },
   {
    "duration": 5,
    "start_time": "2022-07-07T02:16:28.146Z"
   },
   {
    "duration": 5,
    "start_time": "2022-07-07T02:16:28.153Z"
   },
   {
    "duration": 515079,
    "start_time": "2022-07-07T02:16:28.159Z"
   },
   {
    "duration": 68361,
    "start_time": "2022-07-07T02:25:03.240Z"
   },
   {
    "duration": 387984,
    "start_time": "2022-07-07T02:26:11.603Z"
   },
   {
    "duration": 9580,
    "start_time": "2022-07-07T02:32:39.589Z"
   },
   {
    "duration": 55,
    "start_time": "2022-07-07T02:32:49.171Z"
   },
   {
    "duration": 4,
    "start_time": "2022-07-07T02:32:49.227Z"
   },
   {
    "duration": 19,
    "start_time": "2022-07-07T02:32:49.232Z"
   },
   {
    "duration": 28,
    "start_time": "2022-07-07T02:32:49.252Z"
   },
   {
    "duration": 0,
    "start_time": "2022-07-07T02:32:49.281Z"
   },
   {
    "duration": 0,
    "start_time": "2022-07-07T02:32:49.285Z"
   },
   {
    "duration": 1362,
    "start_time": "2022-07-07T02:33:05.127Z"
   },
   {
    "duration": 1019,
    "start_time": "2022-07-07T02:33:06.490Z"
   },
   {
    "duration": 3,
    "start_time": "2022-07-07T02:33:07.511Z"
   },
   {
    "duration": 54,
    "start_time": "2022-07-07T02:33:07.516Z"
   },
   {
    "duration": 469,
    "start_time": "2022-07-07T02:33:07.572Z"
   },
   {
    "duration": 29,
    "start_time": "2022-07-07T02:33:08.043Z"
   },
   {
    "duration": 31,
    "start_time": "2022-07-07T02:33:08.074Z"
   },
   {
    "duration": 30,
    "start_time": "2022-07-07T02:33:08.106Z"
   },
   {
    "duration": 287,
    "start_time": "2022-07-07T02:33:08.138Z"
   },
   {
    "duration": 44,
    "start_time": "2022-07-07T02:33:08.428Z"
   },
   {
    "duration": 41,
    "start_time": "2022-07-07T02:33:08.474Z"
   },
   {
    "duration": 28,
    "start_time": "2022-07-07T02:33:08.517Z"
   },
   {
    "duration": 17,
    "start_time": "2022-07-07T02:33:08.547Z"
   },
   {
    "duration": 43,
    "start_time": "2022-07-07T02:33:08.566Z"
   },
   {
    "duration": 254,
    "start_time": "2022-07-07T02:33:08.611Z"
   },
   {
    "duration": 144,
    "start_time": "2022-07-07T02:33:08.866Z"
   },
   {
    "duration": 14,
    "start_time": "2022-07-07T02:33:09.011Z"
   },
   {
    "duration": 46,
    "start_time": "2022-07-07T02:33:09.027Z"
   },
   {
    "duration": 28,
    "start_time": "2022-07-07T02:33:09.075Z"
   },
   {
    "duration": 14,
    "start_time": "2022-07-07T02:33:09.104Z"
   },
   {
    "duration": 729,
    "start_time": "2022-07-07T02:33:09.119Z"
   },
   {
    "duration": 95,
    "start_time": "2022-07-07T02:33:09.850Z"
   },
   {
    "duration": 319,
    "start_time": "2022-07-07T02:33:09.947Z"
   },
   {
    "duration": 13,
    "start_time": "2022-07-07T02:33:10.268Z"
   },
   {
    "duration": 5,
    "start_time": "2022-07-07T02:33:10.282Z"
   },
   {
    "duration": 321,
    "start_time": "2022-07-07T02:33:10.288Z"
   },
   {
    "duration": 25,
    "start_time": "2022-07-07T02:33:10.610Z"
   },
   {
    "duration": 4,
    "start_time": "2022-07-07T02:33:10.638Z"
   },
   {
    "duration": 145,
    "start_time": "2022-07-07T02:33:10.644Z"
   },
   {
    "duration": 5,
    "start_time": "2022-07-07T02:33:10.791Z"
   },
   {
    "duration": 10,
    "start_time": "2022-07-07T02:33:10.800Z"
   },
   {
    "duration": 5,
    "start_time": "2022-07-07T02:33:10.811Z"
   },
   {
    "duration": 217,
    "start_time": "2022-07-07T02:33:10.817Z"
   },
   {
    "duration": 170,
    "start_time": "2022-07-07T02:33:11.035Z"
   },
   {
    "duration": 217,
    "start_time": "2022-07-07T02:33:11.207Z"
   },
   {
    "duration": 177,
    "start_time": "2022-07-07T02:33:11.426Z"
   },
   {
    "duration": 912,
    "start_time": "2022-07-07T02:33:11.604Z"
   },
   {
    "duration": 213,
    "start_time": "2022-07-07T02:33:12.518Z"
   },
   {
    "duration": 443,
    "start_time": "2022-07-07T02:33:12.732Z"
   },
   {
    "duration": 208,
    "start_time": "2022-07-07T02:33:13.177Z"
   },
   {
    "duration": 25,
    "start_time": "2022-07-07T02:33:13.386Z"
   },
   {
    "duration": 41,
    "start_time": "2022-07-07T02:33:13.412Z"
   },
   {
    "duration": 30,
    "start_time": "2022-07-07T02:33:13.455Z"
   },
   {
    "duration": 51,
    "start_time": "2022-07-07T02:33:13.500Z"
   },
   {
    "duration": 52,
    "start_time": "2022-07-07T02:33:13.552Z"
   },
   {
    "duration": 297,
    "start_time": "2022-07-07T02:33:13.606Z"
   },
   {
    "duration": 48,
    "start_time": "2022-07-07T02:33:13.904Z"
   },
   {
    "duration": 3,
    "start_time": "2022-07-07T02:33:13.955Z"
   },
   {
    "duration": 92,
    "start_time": "2022-07-07T02:33:13.960Z"
   },
   {
    "duration": 190,
    "start_time": "2022-07-07T02:33:14.054Z"
   },
   {
    "duration": 17,
    "start_time": "2022-07-07T02:33:14.245Z"
   },
   {
    "duration": 698,
    "start_time": "2022-07-07T02:33:14.264Z"
   },
   {
    "duration": 437,
    "start_time": "2022-07-07T02:33:14.964Z"
   },
   {
    "duration": 260,
    "start_time": "2022-07-07T02:33:15.402Z"
   },
   {
    "duration": 6,
    "start_time": "2022-07-07T02:33:15.663Z"
   },
   {
    "duration": 9,
    "start_time": "2022-07-07T02:33:15.670Z"
   },
   {
    "duration": 488025,
    "start_time": "2022-07-07T02:33:15.680Z"
   },
   {
    "duration": 70394,
    "start_time": "2022-07-07T02:41:23.707Z"
   },
   {
    "duration": 46235,
    "start_time": "2022-07-07T02:42:34.109Z"
   },
   {
    "duration": 5464,
    "start_time": "2022-07-07T02:43:20.346Z"
   },
   {
    "duration": 42,
    "start_time": "2022-07-07T02:43:25.812Z"
   },
   {
    "duration": 3,
    "start_time": "2022-07-07T02:43:25.856Z"
   },
   {
    "duration": 7,
    "start_time": "2022-07-07T02:43:25.860Z"
   },
   {
    "duration": 232044,
    "start_time": "2022-07-07T02:43:25.869Z"
   },
   {
    "duration": 0,
    "start_time": "2022-07-07T02:47:17.914Z"
   },
   {
    "duration": 0,
    "start_time": "2022-07-07T02:47:17.917Z"
   },
   {
    "duration": 1381,
    "start_time": "2022-07-07T02:53:34.988Z"
   },
   {
    "duration": 971,
    "start_time": "2022-07-07T02:53:36.371Z"
   },
   {
    "duration": 3,
    "start_time": "2022-07-07T02:53:37.344Z"
   },
   {
    "duration": 62,
    "start_time": "2022-07-07T02:53:37.349Z"
   },
   {
    "duration": 461,
    "start_time": "2022-07-07T02:53:37.413Z"
   },
   {
    "duration": 34,
    "start_time": "2022-07-07T02:53:37.875Z"
   },
   {
    "duration": 20,
    "start_time": "2022-07-07T02:53:37.911Z"
   },
   {
    "duration": 33,
    "start_time": "2022-07-07T02:53:37.933Z"
   },
   {
    "duration": 279,
    "start_time": "2022-07-07T02:53:37.968Z"
   },
   {
    "duration": 59,
    "start_time": "2022-07-07T02:53:38.249Z"
   },
   {
    "duration": 36,
    "start_time": "2022-07-07T02:53:38.310Z"
   },
   {
    "duration": 27,
    "start_time": "2022-07-07T02:53:38.348Z"
   },
   {
    "duration": 36,
    "start_time": "2022-07-07T02:53:38.377Z"
   },
   {
    "duration": 23,
    "start_time": "2022-07-07T02:53:38.415Z"
   },
   {
    "duration": 265,
    "start_time": "2022-07-07T02:53:38.440Z"
   },
   {
    "duration": 149,
    "start_time": "2022-07-07T02:53:38.707Z"
   },
   {
    "duration": 14,
    "start_time": "2022-07-07T02:53:38.857Z"
   },
   {
    "duration": 60,
    "start_time": "2022-07-07T02:53:38.872Z"
   },
   {
    "duration": 17,
    "start_time": "2022-07-07T02:53:38.933Z"
   },
   {
    "duration": 31,
    "start_time": "2022-07-07T02:53:38.952Z"
   },
   {
    "duration": 721,
    "start_time": "2022-07-07T02:53:38.985Z"
   },
   {
    "duration": 101,
    "start_time": "2022-07-07T02:53:39.708Z"
   },
   {
    "duration": 317,
    "start_time": "2022-07-07T02:53:39.811Z"
   },
   {
    "duration": 13,
    "start_time": "2022-07-07T02:53:40.129Z"
   },
   {
    "duration": 5,
    "start_time": "2022-07-07T02:53:40.144Z"
   },
   {
    "duration": 342,
    "start_time": "2022-07-07T02:53:40.150Z"
   },
   {
    "duration": 25,
    "start_time": "2022-07-07T02:53:40.493Z"
   },
   {
    "duration": 4,
    "start_time": "2022-07-07T02:53:40.521Z"
   },
   {
    "duration": 143,
    "start_time": "2022-07-07T02:53:40.527Z"
   },
   {
    "duration": 4,
    "start_time": "2022-07-07T02:53:40.672Z"
   },
   {
    "duration": 9,
    "start_time": "2022-07-07T02:53:40.677Z"
   },
   {
    "duration": 13,
    "start_time": "2022-07-07T02:53:40.688Z"
   },
   {
    "duration": 218,
    "start_time": "2022-07-07T02:53:40.703Z"
   },
   {
    "duration": 185,
    "start_time": "2022-07-07T02:53:40.923Z"
   },
   {
    "duration": 219,
    "start_time": "2022-07-07T02:53:41.110Z"
   },
   {
    "duration": 171,
    "start_time": "2022-07-07T02:53:41.330Z"
   },
   {
    "duration": 882,
    "start_time": "2022-07-07T02:53:41.503Z"
   },
   {
    "duration": 221,
    "start_time": "2022-07-07T02:53:42.386Z"
   },
   {
    "duration": 455,
    "start_time": "2022-07-07T02:53:42.609Z"
   },
   {
    "duration": 203,
    "start_time": "2022-07-07T02:53:43.066Z"
   },
   {
    "duration": 16,
    "start_time": "2022-07-07T02:53:43.271Z"
   },
   {
    "duration": 63,
    "start_time": "2022-07-07T02:53:43.288Z"
   },
   {
    "duration": 28,
    "start_time": "2022-07-07T02:53:43.353Z"
   },
   {
    "duration": 70,
    "start_time": "2022-07-07T02:53:43.382Z"
   },
   {
    "duration": 62,
    "start_time": "2022-07-07T02:53:43.454Z"
   },
   {
    "duration": 301,
    "start_time": "2022-07-07T02:53:43.518Z"
   },
   {
    "duration": 48,
    "start_time": "2022-07-07T02:53:43.822Z"
   },
   {
    "duration": 4,
    "start_time": "2022-07-07T02:53:43.872Z"
   },
   {
    "duration": 96,
    "start_time": "2022-07-07T02:53:43.878Z"
   },
   {
    "duration": 210,
    "start_time": "2022-07-07T02:53:43.975Z"
   },
   {
    "duration": 22,
    "start_time": "2022-07-07T02:53:44.187Z"
   },
   {
    "duration": 725,
    "start_time": "2022-07-07T02:53:44.211Z"
   },
   {
    "duration": 416,
    "start_time": "2022-07-07T02:53:44.938Z"
   },
   {
    "duration": 275,
    "start_time": "2022-07-07T02:53:45.356Z"
   },
   {
    "duration": 6,
    "start_time": "2022-07-07T02:53:45.632Z"
   },
   {
    "duration": 11,
    "start_time": "2022-07-07T02:53:45.640Z"
   },
   {
    "duration": 563757,
    "start_time": "2022-07-07T02:53:45.652Z"
   },
   {
    "duration": 68905,
    "start_time": "2022-07-07T03:03:09.501Z"
   },
   {
    "duration": 1468651,
    "start_time": "2022-07-07T03:04:18.409Z"
   },
   {
    "duration": 1893558,
    "start_time": "2022-07-07T03:28:47.062Z"
   },
   {
    "duration": 28,
    "start_time": "2022-07-07T04:00:20.621Z"
   },
   {
    "duration": 5,
    "start_time": "2022-07-07T04:00:20.650Z"
   },
   {
    "duration": 46,
    "start_time": "2022-07-07T04:00:20.656Z"
   },
   {
    "duration": 1449,
    "start_time": "2022-07-07T04:13:24.276Z"
   },
   {
    "duration": 1038,
    "start_time": "2022-07-07T04:13:25.727Z"
   },
   {
    "duration": 3,
    "start_time": "2022-07-07T04:13:26.767Z"
   },
   {
    "duration": 63,
    "start_time": "2022-07-07T04:13:26.772Z"
   },
   {
    "duration": 471,
    "start_time": "2022-07-07T04:13:26.837Z"
   },
   {
    "duration": 31,
    "start_time": "2022-07-07T04:13:27.310Z"
   },
   {
    "duration": 21,
    "start_time": "2022-07-07T04:13:27.342Z"
   },
   {
    "duration": 50,
    "start_time": "2022-07-07T04:13:27.365Z"
   },
   {
    "duration": 284,
    "start_time": "2022-07-07T04:13:27.417Z"
   },
   {
    "duration": 55,
    "start_time": "2022-07-07T04:13:27.704Z"
   },
   {
    "duration": 62,
    "start_time": "2022-07-07T04:13:27.761Z"
   },
   {
    "duration": 45,
    "start_time": "2022-07-07T04:13:27.825Z"
   },
   {
    "duration": 32,
    "start_time": "2022-07-07T04:13:27.871Z"
   },
   {
    "duration": 22,
    "start_time": "2022-07-07T04:13:27.905Z"
   },
   {
    "duration": 286,
    "start_time": "2022-07-07T04:13:27.928Z"
   },
   {
    "duration": 144,
    "start_time": "2022-07-07T04:13:28.216Z"
   },
   {
    "duration": 13,
    "start_time": "2022-07-07T04:13:28.362Z"
   },
   {
    "duration": 54,
    "start_time": "2022-07-07T04:13:28.377Z"
   },
   {
    "duration": 16,
    "start_time": "2022-07-07T04:13:28.432Z"
   },
   {
    "duration": 13,
    "start_time": "2022-07-07T04:13:28.450Z"
   },
   {
    "duration": 763,
    "start_time": "2022-07-07T04:13:28.465Z"
   },
   {
    "duration": 101,
    "start_time": "2022-07-07T04:13:29.229Z"
   },
   {
    "duration": 339,
    "start_time": "2022-07-07T04:13:29.331Z"
   },
   {
    "duration": 12,
    "start_time": "2022-07-07T04:13:29.671Z"
   },
   {
    "duration": 16,
    "start_time": "2022-07-07T04:13:29.685Z"
   },
   {
    "duration": 351,
    "start_time": "2022-07-07T04:13:29.703Z"
   },
   {
    "duration": 24,
    "start_time": "2022-07-07T04:13:30.055Z"
   },
   {
    "duration": 21,
    "start_time": "2022-07-07T04:13:30.082Z"
   },
   {
    "duration": 141,
    "start_time": "2022-07-07T04:13:30.104Z"
   },
   {
    "duration": 5,
    "start_time": "2022-07-07T04:13:30.246Z"
   },
   {
    "duration": 31,
    "start_time": "2022-07-07T04:13:30.252Z"
   },
   {
    "duration": 13,
    "start_time": "2022-07-07T04:13:30.285Z"
   },
   {
    "duration": 228,
    "start_time": "2022-07-07T04:13:30.300Z"
   },
   {
    "duration": 182,
    "start_time": "2022-07-07T04:13:30.529Z"
   },
   {
    "duration": 240,
    "start_time": "2022-07-07T04:13:30.713Z"
   },
   {
    "duration": 185,
    "start_time": "2022-07-07T04:13:30.955Z"
   },
   {
    "duration": 936,
    "start_time": "2022-07-07T04:13:31.142Z"
   },
   {
    "duration": 233,
    "start_time": "2022-07-07T04:13:32.079Z"
   },
   {
    "duration": 483,
    "start_time": "2022-07-07T04:13:32.314Z"
   },
   {
    "duration": 222,
    "start_time": "2022-07-07T04:13:32.799Z"
   },
   {
    "duration": 16,
    "start_time": "2022-07-07T04:13:33.022Z"
   },
   {
    "duration": 41,
    "start_time": "2022-07-07T04:13:33.040Z"
   },
   {
    "duration": 51,
    "start_time": "2022-07-07T04:13:33.082Z"
   },
   {
    "duration": 74,
    "start_time": "2022-07-07T04:13:33.135Z"
   },
   {
    "duration": 43,
    "start_time": "2022-07-07T04:13:33.212Z"
   },
   {
    "duration": 346,
    "start_time": "2022-07-07T04:13:33.257Z"
   },
   {
    "duration": 46,
    "start_time": "2022-07-07T04:13:33.605Z"
   },
   {
    "duration": 4,
    "start_time": "2022-07-07T04:13:33.652Z"
   },
   {
    "duration": 125,
    "start_time": "2022-07-07T04:13:33.658Z"
   },
   {
    "duration": 244,
    "start_time": "2022-07-07T04:13:33.785Z"
   },
   {
    "duration": 20,
    "start_time": "2022-07-07T04:13:34.031Z"
   },
   {
    "duration": 834,
    "start_time": "2022-07-07T04:13:34.053Z"
   },
   {
    "duration": 450,
    "start_time": "2022-07-07T04:13:34.888Z"
   },
   {
    "duration": 278,
    "start_time": "2022-07-07T04:13:35.340Z"
   },
   {
    "duration": 6,
    "start_time": "2022-07-07T04:13:35.620Z"
   },
   {
    "duration": 11,
    "start_time": "2022-07-07T04:13:35.628Z"
   },
   {
    "duration": 1115161,
    "start_time": "2022-07-07T04:13:35.641Z"
   },
   {
    "duration": 72497,
    "start_time": "2022-07-07T04:32:10.807Z"
   },
   {
    "duration": 1671,
    "start_time": "2022-07-07T19:22:34.032Z"
   },
   {
    "duration": 1349,
    "start_time": "2022-07-07T19:22:35.722Z"
   },
   {
    "duration": 2,
    "start_time": "2022-07-07T19:22:37.073Z"
   },
   {
    "duration": 65,
    "start_time": "2022-07-07T19:22:37.077Z"
   },
   {
    "duration": 469,
    "start_time": "2022-07-07T19:22:37.144Z"
   },
   {
    "duration": 40,
    "start_time": "2022-07-07T19:22:37.615Z"
   },
   {
    "duration": 21,
    "start_time": "2022-07-07T19:22:37.657Z"
   },
   {
    "duration": 45,
    "start_time": "2022-07-07T19:22:37.680Z"
   },
   {
    "duration": 282,
    "start_time": "2022-07-07T19:22:37.727Z"
   },
   {
    "duration": 62,
    "start_time": "2022-07-07T19:22:38.011Z"
   },
   {
    "duration": 51,
    "start_time": "2022-07-07T19:22:38.075Z"
   },
   {
    "duration": 33,
    "start_time": "2022-07-07T19:22:38.127Z"
   },
   {
    "duration": 20,
    "start_time": "2022-07-07T19:22:38.162Z"
   },
   {
    "duration": 43,
    "start_time": "2022-07-07T19:22:38.184Z"
   },
   {
    "duration": 297,
    "start_time": "2022-07-07T19:22:38.229Z"
   },
   {
    "duration": 152,
    "start_time": "2022-07-07T19:22:38.528Z"
   },
   {
    "duration": 17,
    "start_time": "2022-07-07T19:22:38.681Z"
   },
   {
    "duration": 54,
    "start_time": "2022-07-07T19:22:38.699Z"
   },
   {
    "duration": 18,
    "start_time": "2022-07-07T19:22:38.754Z"
   },
   {
    "duration": 17,
    "start_time": "2022-07-07T19:22:38.773Z"
   },
   {
    "duration": 730,
    "start_time": "2022-07-07T19:22:38.792Z"
   },
   {
    "duration": 99,
    "start_time": "2022-07-07T19:22:39.524Z"
   },
   {
    "duration": 318,
    "start_time": "2022-07-07T19:22:39.624Z"
   },
   {
    "duration": 11,
    "start_time": "2022-07-07T19:22:39.944Z"
   },
   {
    "duration": 7,
    "start_time": "2022-07-07T19:22:39.957Z"
   },
   {
    "duration": 334,
    "start_time": "2022-07-07T19:22:39.965Z"
   },
   {
    "duration": 29,
    "start_time": "2022-07-07T19:22:40.301Z"
   },
   {
    "duration": 4,
    "start_time": "2022-07-07T19:22:40.334Z"
   },
   {
    "duration": 147,
    "start_time": "2022-07-07T19:22:40.340Z"
   },
   {
    "duration": 5,
    "start_time": "2022-07-07T19:22:40.489Z"
   },
   {
    "duration": 14,
    "start_time": "2022-07-07T19:22:40.495Z"
   },
   {
    "duration": 14,
    "start_time": "2022-07-07T19:22:40.511Z"
   },
   {
    "duration": 244,
    "start_time": "2022-07-07T19:22:40.526Z"
   },
   {
    "duration": 187,
    "start_time": "2022-07-07T19:22:40.772Z"
   },
   {
    "duration": 244,
    "start_time": "2022-07-07T19:22:40.961Z"
   },
   {
    "duration": 206,
    "start_time": "2022-07-07T19:22:41.207Z"
   },
   {
    "duration": 925,
    "start_time": "2022-07-07T19:22:41.415Z"
   },
   {
    "duration": 249,
    "start_time": "2022-07-07T19:22:42.342Z"
   },
   {
    "duration": 510,
    "start_time": "2022-07-07T19:22:42.593Z"
   },
   {
    "duration": 255,
    "start_time": "2022-07-07T19:22:43.105Z"
   },
   {
    "duration": 16,
    "start_time": "2022-07-07T19:22:43.362Z"
   },
   {
    "duration": 60,
    "start_time": "2022-07-07T19:22:43.379Z"
   },
   {
    "duration": 31,
    "start_time": "2022-07-07T19:22:43.441Z"
   },
   {
    "duration": 70,
    "start_time": "2022-07-07T19:22:43.473Z"
   },
   {
    "duration": 43,
    "start_time": "2022-07-07T19:22:43.544Z"
   },
   {
    "duration": 319,
    "start_time": "2022-07-07T19:22:43.588Z"
   },
   {
    "duration": 51,
    "start_time": "2022-07-07T19:22:43.909Z"
   },
   {
    "duration": 4,
    "start_time": "2022-07-07T19:22:43.961Z"
   },
   {
    "duration": 100,
    "start_time": "2022-07-07T19:22:43.966Z"
   },
   {
    "duration": 210,
    "start_time": "2022-07-07T19:22:44.068Z"
   },
   {
    "duration": 20,
    "start_time": "2022-07-07T19:22:44.279Z"
   },
   {
    "duration": 887,
    "start_time": "2022-07-07T19:22:44.301Z"
   },
   {
    "duration": 432,
    "start_time": "2022-07-07T19:22:45.190Z"
   },
   {
    "duration": 272,
    "start_time": "2022-07-07T19:22:45.623Z"
   },
   {
    "duration": 6,
    "start_time": "2022-07-07T19:22:45.897Z"
   },
   {
    "duration": 6,
    "start_time": "2022-07-07T19:22:45.905Z"
   },
   {
    "duration": 476201,
    "start_time": "2022-07-07T19:22:45.922Z"
   },
   {
    "duration": 76302,
    "start_time": "2022-07-07T19:30:42.125Z"
   },
   {
    "duration": 1532754,
    "start_time": "2022-07-07T19:31:58.429Z"
   },
   {
    "duration": 734041,
    "start_time": "2022-07-07T19:57:31.185Z"
   },
   {
    "duration": 30,
    "start_time": "2022-07-07T20:09:45.227Z"
   },
   {
    "duration": 2,
    "start_time": "2022-07-07T20:09:45.259Z"
   },
   {
    "duration": 13,
    "start_time": "2022-07-07T20:09:45.263Z"
   },
   {
    "duration": 952483,
    "start_time": "2022-07-07T20:09:45.278Z"
   },
   {
    "duration": 94,
    "start_time": "2022-07-07T20:25:37.762Z"
   }
  ],
  "kernelspec": {
   "display_name": "Python 3 (ipykernel)",
   "language": "python",
   "name": "python3"
  },
  "language_info": {
   "codemirror_mode": {
    "name": "ipython",
    "version": 3
   },
   "file_extension": ".py",
   "mimetype": "text/x-python",
   "name": "python",
   "nbconvert_exporter": "python",
   "pygments_lexer": "ipython3",
   "version": "3.9.5"
  },
  "toc": {
   "base_numbering": 1,
   "nav_menu": {},
   "number_sections": true,
   "sideBar": true,
   "skip_h1_title": true,
   "title_cell": "Table of Contents",
   "title_sidebar": "Contents",
   "toc_cell": false,
   "toc_position": {},
   "toc_section_display": true,
   "toc_window_display": false
  }
 },
 "nbformat": 4,
 "nbformat_minor": 2
}
