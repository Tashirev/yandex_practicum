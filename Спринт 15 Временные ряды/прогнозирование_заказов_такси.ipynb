{
 "cells": [
  {
   "cell_type": "markdown",
   "metadata": {},
   "source": [
    " <div class=\"alert alert-success\" style=\"border-color: green; border-radius: 5px\">\n",
    "    <font color='green'> <b><u>КОММЕНТАРИЙ РЕВЬЮЕРА</u></b>\n",
    "\n",
    "Денис, доброго дня! рад приветствовать тебя) <br />\n",
    "<br />\n",
    "Меня зовут Николай Шавлюго. <br />И на этом этапе твоего движения к новой профессии от меня будут комментарии по написанному коду. <br />Чтобы меньше \"мусорить эфир\" и чтобы максимально наглядно отделяться от основного кода, есть предложение условиться в некоторых обозначениях:<br /> <br />\n",
    "<div class=\"alert alert-success\" style=\"border-color: green; border-radius: 5px\">\n",
    "    <p><u><b>✅ КОММЕНТАРИЙ РЕВЬЮЕРА</b></u></p>\n",
    "    <p>Всё хорошо.</p>\n",
    "</div>\n",
    "\n",
    "<div class=\"alert alert-warning\" style=\"border-color: darkorange; border-radius: 5px\">\n",
    "    <p><u><b>⚠️ КОММЕНТАРИЙ РЕВЬЮЕРА</b></u></p>\n",
    "    <p>Обрати внимание, есть потенциал</p>\n",
    "</div>\n",
    "\n",
    "<div class=\"alert alert-danger\" style=\"border-color: darkred; border-radius: 5px\">\n",
    "    <p><u><b>❌ КОММЕНТАРИЙ РЕВЬЮЕРА</b></u></p>\n",
    "    <p>Нужно ещё раз глянуть</p>\n",
    "</div>\n",
    "</font><br /><br />\n",
    "<font color='green'>Моей целью является не \"уличить\" в не знании, а просто высказать сверху твоих знаний - свой опыт, что бы тебе использовать его для своего дальнейшего успеха) И очень здорово будет, если удастся задавать вопросы, да и вообще - всячески доставать меня, если я по каким-то причинам не приму проект:) При этом, из своего опыта скажу, хорошо и важно, когда переписка ревьюера и студента - сохраняется на следующие проекты и даже на будущую практическую деятельность.<br>\n",
    "<br> Я сразу же начал общаться на ты:) но если это не очень удобно, то дай знать)) <BR> В ПУТЬ!<br></div>"
   ]
  },
  {
   "cell_type": "markdown",
   "metadata": {
    "toc": true
   },
   "source": [
    "<h1>Содержание<span class=\"tocSkip\"></span></h1>\n",
    "<div class=\"toc\"><ul class=\"toc-item\"><li><span><a href=\"#Подготовка\" data-toc-modified-id=\"Подготовка-1\"><span class=\"toc-item-num\">1&nbsp;&nbsp;</span>Подготовка</a></span><ul class=\"toc-item\"><li><span><a href=\"#Подключим-необходимые-модули-и-библиотеки-Python,-а-также-создадим-константы.\" data-toc-modified-id=\"Подключим-необходимые-модули-и-библиотеки-Python,-а-также-создадим-константы.-1.1\"><span class=\"toc-item-num\">1.1&nbsp;&nbsp;</span>Подключим необходимые модули и библиотеки Python, а также создадим константы.</a></span></li><li><span><a href=\"#Предварительный-осмотр-данных\" data-toc-modified-id=\"Предварительный-осмотр-данных-1.2\"><span class=\"toc-item-num\">1.2&nbsp;&nbsp;</span>Предварительный осмотр данных</a></span></li><li><span><a href=\"#Обработка-datetime\" data-toc-modified-id=\"Обработка-datetime-1.3\"><span class=\"toc-item-num\">1.3&nbsp;&nbsp;</span>Обработка datetime</a></span></li></ul></li><li><span><a href=\"#Анализ-и-получение-признаков\" data-toc-modified-id=\"Анализ-и-получение-признаков-2\"><span class=\"toc-item-num\">2&nbsp;&nbsp;</span>Анализ и получение признаков</a></span></li><li><span><a href=\"#Обучение\" data-toc-modified-id=\"Обучение-3\"><span class=\"toc-item-num\">3&nbsp;&nbsp;</span>Обучение</a></span><ul class=\"toc-item\"><li><span><a href=\"#Выделим-целевой-признак\" data-toc-modified-id=\"Выделим-целевой-признак-3.1\"><span class=\"toc-item-num\">3.1&nbsp;&nbsp;</span>Выделим целевой признак</a></span></li><li><span><a href=\"#Разобьём-данные-на-обучающую,-валидационную-и-тестовую-выборки\" data-toc-modified-id=\"Разобьём-данные-на-обучающую,-валидационную-и-тестовую-выборки-3.2\"><span class=\"toc-item-num\">3.2&nbsp;&nbsp;</span>Разобьём данные на обучающую, валидационную и тестовую выборки</a></span></li><li><span><a href=\"#Базовая-модель-на-сглаживании-Хольта-Винтерса\" data-toc-modified-id=\"Базовая-модель-на-сглаживании-Хольта-Винтерса-3.3\"><span class=\"toc-item-num\">3.3&nbsp;&nbsp;</span>Базовая модель на сглаживании Хольта-Винтерса</a></span></li><li><span><a href=\"#Модель-Lasso\" data-toc-modified-id=\"Модель-Lasso-3.4\"><span class=\"toc-item-num\">3.4&nbsp;&nbsp;</span>Модель Lasso</a></span></li><li><span><a href=\"#Модель-Ridge\" data-toc-modified-id=\"Модель-Ridge-3.5\"><span class=\"toc-item-num\">3.5&nbsp;&nbsp;</span>Модель Ridge</a></span></li><li><span><a href=\"#Модель-RandomForestRegressor\" data-toc-modified-id=\"Модель-RandomForestRegressor-3.6\"><span class=\"toc-item-num\">3.6&nbsp;&nbsp;</span>Модель RandomForestRegressor</a></span></li><li><span><a href=\"#Модель-CatBoostRegressor\" data-toc-modified-id=\"Модель-CatBoostRegressor-3.7\"><span class=\"toc-item-num\">3.7&nbsp;&nbsp;</span>Модель CatBoostRegressor</a></span></li><li><span><a href=\"#Модель-LGBMRegressor\" data-toc-modified-id=\"Модель-LGBMRegressor-3.8\"><span class=\"toc-item-num\">3.8&nbsp;&nbsp;</span>Модель LGBMRegressor</a></span></li></ul></li><li><span><a href=\"#Тестирование\" data-toc-modified-id=\"Тестирование-4\"><span class=\"toc-item-num\">4&nbsp;&nbsp;</span>Тестирование</a></span><ul class=\"toc-item\"><li><span><a href=\"#Объединение-обучающей-и-валидационной-выборок\" data-toc-modified-id=\"Объединение-обучающей-и-валидационной-выборок-4.1\"><span class=\"toc-item-num\">4.1&nbsp;&nbsp;</span>Объединение обучающей и валидационной выборок</a></span></li><li><span><a href=\"#Функция-анализа-модели.\" data-toc-modified-id=\"Функция-анализа-модели.-4.2\"><span class=\"toc-item-num\">4.2&nbsp;&nbsp;</span>Функция анализа модели.</a></span></li><li><span><a href=\"#Применение-функции-к-лучшим-моделям.\" data-toc-modified-id=\"Применение-функции-к-лучшим-моделям.-4.3\"><span class=\"toc-item-num\">4.3&nbsp;&nbsp;</span>Применение функции к лучшим моделям.</a></span></li></ul></li><li><span><a href=\"#Вывод.\" data-toc-modified-id=\"Вывод.-5\"><span class=\"toc-item-num\">5&nbsp;&nbsp;</span>Вывод.</a></span></li></ul></div>"
   ]
  },
  {
   "cell_type": "markdown",
   "metadata": {},
   "source": [
    "#  Прогнозирование заказов такси"
   ]
  },
  {
   "cell_type": "markdown",
   "metadata": {},
   "source": [
    "Компания «Чётенькое такси» собрала исторические данные о заказах такси в аэропортах. Чтобы привлекать больше водителей в период пиковой нагрузки, нужно спрогнозировать количество заказов такси на следующий час. Постройте модель для такого предсказания.\n",
    "\n",
    "Значение метрики *RMSE* на тестовой выборке должно быть не больше 48.\n",
    "\n",
    "Вам нужно:\n",
    "\n",
    "1. Загрузить данные и выполнить их ресемплирование по одному часу.\n",
    "2. Проанализировать данные.\n",
    "3. Обучить разные модели с различными гиперпараметрами. Сделать тестовую выборку размером 10% от исходных данных.\n",
    "4. Проверить данные на тестовой выборке и сделать выводы.\n",
    "\n",
    "\n",
    "Данные лежат в файле `taxi.csv`. Количество заказов находится в столбце `num_orders` (от англ. *number of orders*, «число заказов»)."
   ]
  },
  {
   "cell_type": "markdown",
   "metadata": {},
   "source": [
    "## Подготовка"
   ]
  },
  {
   "cell_type": "markdown",
   "metadata": {},
   "source": [
    "### Подключим необходимые модули и библиотеки Python, а также создадим константы."
   ]
  },
  {
   "cell_type": "code",
   "execution_count": 1,
   "metadata": {},
   "outputs": [],
   "source": [
    "import pandas as pd\n",
    "import numpy as np\n",
    "import seaborn as sns\n",
    "import matplotlib.pyplot as plt\n",
    "\n",
    "from statsmodels.tsa.seasonal import seasonal_decompose\n",
    "from sklearn.model_selection import train_test_split\n",
    "from statsmodels.tsa.holtwinters import ExponentialSmoothing\n",
    "from sklearn.linear_model import LinearRegression\n",
    "from sklearn.linear_model import Lasso, Ridge\n",
    "from sklearn.ensemble import RandomForestRegressor\n",
    "from catboost import CatBoostRegressor\n",
    "from lightgbm import LGBMRegressor\n",
    "from sklearn.metrics import mean_squared_error\n",
    "\n",
    "from tqdm import tqdm\n",
    "from time import time\n",
    "\n",
    "pd.set_option(\"display.max_columns\", None)\n",
    "sns.set(style='whitegrid')\n",
    "\n",
    "# Константа псевдослучайности для алгоритмов обучения\n",
    "RANDOM = 1111"
   ]
  },
  {
   "cell_type": "code",
   "execution_count": 2,
   "metadata": {},
   "outputs": [],
   "source": [
    "taxi = pd.read_csv('/datasets/taxi.csv')"
   ]
  },
  {
   "cell_type": "markdown",
   "metadata": {},
   "source": [
    "### Предварительный осмотр данных\n",
    "- Посмотрим первые 5 строк таблицы,\n",
    "- Основные статистики количественных переменных,\n",
    "- Сводную информацию от таблице,\n",
    "- Распределение числа вызовов такси."
   ]
  },
  {
   "cell_type": "code",
   "execution_count": 3,
   "metadata": {},
   "outputs": [
    {
     "name": "stdout",
     "output_type": "stream",
     "text": [
      "**************************************************************************************************** \n",
      "Первые пять строк таблицы.\n"
     ]
    },
    {
     "data": {
      "text/html": [
       "<div>\n",
       "<style scoped>\n",
       "    .dataframe tbody tr th:only-of-type {\n",
       "        vertical-align: middle;\n",
       "    }\n",
       "\n",
       "    .dataframe tbody tr th {\n",
       "        vertical-align: top;\n",
       "    }\n",
       "\n",
       "    .dataframe thead th {\n",
       "        text-align: right;\n",
       "    }\n",
       "</style>\n",
       "<table border=\"1\" class=\"dataframe\">\n",
       "  <thead>\n",
       "    <tr style=\"text-align: right;\">\n",
       "      <th></th>\n",
       "      <th>datetime</th>\n",
       "      <th>num_orders</th>\n",
       "    </tr>\n",
       "  </thead>\n",
       "  <tbody>\n",
       "    <tr>\n",
       "      <th>0</th>\n",
       "      <td>2018-03-01 00:00:00</td>\n",
       "      <td>9</td>\n",
       "    </tr>\n",
       "    <tr>\n",
       "      <th>1</th>\n",
       "      <td>2018-03-01 00:10:00</td>\n",
       "      <td>14</td>\n",
       "    </tr>\n",
       "    <tr>\n",
       "      <th>2</th>\n",
       "      <td>2018-03-01 00:20:00</td>\n",
       "      <td>28</td>\n",
       "    </tr>\n",
       "    <tr>\n",
       "      <th>3</th>\n",
       "      <td>2018-03-01 00:30:00</td>\n",
       "      <td>20</td>\n",
       "    </tr>\n",
       "    <tr>\n",
       "      <th>4</th>\n",
       "      <td>2018-03-01 00:40:00</td>\n",
       "      <td>32</td>\n",
       "    </tr>\n",
       "  </tbody>\n",
       "</table>\n",
       "</div>"
      ],
      "text/plain": [
       "              datetime  num_orders\n",
       "0  2018-03-01 00:00:00           9\n",
       "1  2018-03-01 00:10:00          14\n",
       "2  2018-03-01 00:20:00          28\n",
       "3  2018-03-01 00:30:00          20\n",
       "4  2018-03-01 00:40:00          32"
      ]
     },
     "metadata": {},
     "output_type": "display_data"
    },
    {
     "name": "stdout",
     "output_type": "stream",
     "text": [
      "**************************************************************************************************** \n",
      "Основные статистики количественных переменных.\n"
     ]
    },
    {
     "data": {
      "text/html": [
       "<div>\n",
       "<style scoped>\n",
       "    .dataframe tbody tr th:only-of-type {\n",
       "        vertical-align: middle;\n",
       "    }\n",
       "\n",
       "    .dataframe tbody tr th {\n",
       "        vertical-align: top;\n",
       "    }\n",
       "\n",
       "    .dataframe thead th {\n",
       "        text-align: right;\n",
       "    }\n",
       "</style>\n",
       "<table border=\"1\" class=\"dataframe\">\n",
       "  <thead>\n",
       "    <tr style=\"text-align: right;\">\n",
       "      <th></th>\n",
       "      <th>num_orders</th>\n",
       "    </tr>\n",
       "  </thead>\n",
       "  <tbody>\n",
       "    <tr>\n",
       "      <th>count</th>\n",
       "      <td>26496.000000</td>\n",
       "    </tr>\n",
       "    <tr>\n",
       "      <th>mean</th>\n",
       "      <td>14.070463</td>\n",
       "    </tr>\n",
       "    <tr>\n",
       "      <th>std</th>\n",
       "      <td>9.211330</td>\n",
       "    </tr>\n",
       "    <tr>\n",
       "      <th>min</th>\n",
       "      <td>0.000000</td>\n",
       "    </tr>\n",
       "    <tr>\n",
       "      <th>25%</th>\n",
       "      <td>8.000000</td>\n",
       "    </tr>\n",
       "    <tr>\n",
       "      <th>50%</th>\n",
       "      <td>13.000000</td>\n",
       "    </tr>\n",
       "    <tr>\n",
       "      <th>75%</th>\n",
       "      <td>19.000000</td>\n",
       "    </tr>\n",
       "    <tr>\n",
       "      <th>max</th>\n",
       "      <td>119.000000</td>\n",
       "    </tr>\n",
       "  </tbody>\n",
       "</table>\n",
       "</div>"
      ],
      "text/plain": [
       "         num_orders\n",
       "count  26496.000000\n",
       "mean      14.070463\n",
       "std        9.211330\n",
       "min        0.000000\n",
       "25%        8.000000\n",
       "50%       13.000000\n",
       "75%       19.000000\n",
       "max      119.000000"
      ]
     },
     "metadata": {},
     "output_type": "display_data"
    },
    {
     "name": "stdout",
     "output_type": "stream",
     "text": [
      "**************************************************************************************************** \n",
      "Сводная информация о таблице.\n",
      "<class 'pandas.core.frame.DataFrame'>\n",
      "RangeIndex: 26496 entries, 0 to 26495\n",
      "Data columns (total 2 columns):\n",
      " #   Column      Non-Null Count  Dtype \n",
      "---  ------      --------------  ----- \n",
      " 0   datetime    26496 non-null  object\n",
      " 1   num_orders  26496 non-null  int64 \n",
      "dtypes: int64(1), object(1)\n",
      "memory usage: 414.1+ KB\n"
     ]
    },
    {
     "data": {
      "text/plain": [
       "None"
      ]
     },
     "metadata": {},
     "output_type": "display_data"
    },
    {
     "name": "stdout",
     "output_type": "stream",
     "text": [
      "**************************************************************************************************** \n",
      "Распределение числа вызовов такси в единицу времени.\n"
     ]
    },
    {
     "data": {
      "image/png": "[encoded data removed]",
      "text/plain": [
       "<Figure size 432x288 with 1 Axes>"
      ]
     },
     "metadata": {},
     "output_type": "display_data"
    }
   ],
   "source": [
    "print('*'*100,'\\nПервые пять строк таблицы.')\n",
    "display(taxi.head())\n",
    "print('*'*100,'\\nОсновные статистики количественных переменных.')\n",
    "display(taxi.describe())\n",
    "print('*'*100,'\\nСводная информация о таблице.')\n",
    "display(taxi.info())\n",
    "print('*'*100,'\\nРаспределение числа вызовов такси в единицу времени.')\n",
    "sns.histplot(taxi['num_orders'])\n",
    "plt.show()"
   ]
  },
  {
   "cell_type": "markdown",
   "metadata": {},
   "source": [
    "Предварительный просмотр данных показал:\n",
    "1) данные предоставлены в виде количества заказов такси на каждые 10 минут,\n",
    "\n",
    "2) число строк состявляет 26496,\n",
    "\n",
    "3) пропуски в данных отсутствуют,\n",
    "\n",
    "4) типы данных: object, int64,\n",
    "\n",
    "5) число заказов в единицу времени выглядит как распределение Пуассона, имеются незначительные выбросы, видно по смещению графика влево."
   ]
  },
  {
   "cell_type": "markdown",
   "metadata": {},
   "source": [
    "<div class=\"alert alert-success\" style=\"border-color: green; border-radius: 5px\">\n",
    "    <p><u><b>✅ КОММЕНТАРИЙ РЕВЬЮЕРА</b></u></p>\n",
    "Супер, данные на базе)"
   ]
  },
  {
   "cell_type": "markdown",
   "metadata": {},
   "source": [
    "### Обработка datetime\n",
    "Приведём столбец `datetime` к формате datetime64 и назначим его индексом таблицы `taxi`."
   ]
  },
  {
   "cell_type": "code",
   "execution_count": 4,
   "metadata": {},
   "outputs": [],
   "source": [
    "taxi['datetime'] = pd.to_datetime(taxi['datetime'])\n",
    "taxi = taxi.set_index('datetime')"
   ]
  },
  {
   "cell_type": "markdown",
   "metadata": {},
   "source": [
    "Проверим индексы на монотонность."
   ]
  },
  {
   "cell_type": "code",
   "execution_count": 5,
   "metadata": {},
   "outputs": [
    {
     "name": "stdout",
     "output_type": "stream",
     "text": [
      "True\n"
     ]
    }
   ],
   "source": [
    "print(taxi.index.is_monotonic)"
   ]
  },
  {
   "cell_type": "markdown",
   "metadata": {},
   "source": [
    "Произведём ресемплирование данных по одному часу, с агрегацией суммы."
   ]
  },
  {
   "cell_type": "code",
   "execution_count": 6,
   "metadata": {},
   "outputs": [],
   "source": [
    "taxi = taxi.resample('1H').sum()"
   ]
  },
  {
   "cell_type": "markdown",
   "metadata": {},
   "source": [
    "## Анализ и получение признаков"
   ]
  },
  {
   "cell_type": "code",
   "execution_count": 7,
   "metadata": {
    "scrolled": true
   },
   "outputs": [
    {
     "data": {
      "image/png": "[encoded data removed]",
      "text/plain": [
       "<Figure size 432x288 with 1 Axes>"
      ]
     },
     "metadata": {},
     "output_type": "display_data"
    }
   ],
   "source": [
    "sns.histplot(taxi['num_orders']).set_title(\"Распределение числа вызовов такси в час.\")\n",
    "plt.show()"
   ]
  },
  {
   "cell_type": "markdown",
   "metadata": {},
   "source": [
    "По графику видно, что имеются часы которые имееют число заказов более 300, что уже сильно выбивается из распределения."
   ]
  },
  {
   "cell_type": "code",
   "execution_count": 8,
   "metadata": {
    "scrolled": true
   },
   "outputs": [
    {
     "data": {
      "text/html": [
       "<div>\n",
       "<style scoped>\n",
       "    .dataframe tbody tr th:only-of-type {\n",
       "        vertical-align: middle;\n",
       "    }\n",
       "\n",
       "    .dataframe tbody tr th {\n",
       "        vertical-align: top;\n",
       "    }\n",
       "\n",
       "    .dataframe thead th {\n",
       "        text-align: right;\n",
       "    }\n",
       "</style>\n",
       "<table border=\"1\" class=\"dataframe\">\n",
       "  <thead>\n",
       "    <tr style=\"text-align: right;\">\n",
       "      <th></th>\n",
       "      <th>num_orders</th>\n",
       "    </tr>\n",
       "    <tr>\n",
       "      <th>datetime</th>\n",
       "      <th></th>\n",
       "    </tr>\n",
       "  </thead>\n",
       "  <tbody>\n",
       "    <tr>\n",
       "      <th>2018-08-13 02:00:00</th>\n",
       "      <td>437</td>\n",
       "    </tr>\n",
       "    <tr>\n",
       "      <th>2018-08-20 02:00:00</th>\n",
       "      <td>462</td>\n",
       "    </tr>\n",
       "    <tr>\n",
       "      <th>2018-08-27 02:00:00</th>\n",
       "      <td>408</td>\n",
       "    </tr>\n",
       "    <tr>\n",
       "      <th>2018-08-30 17:00:00</th>\n",
       "      <td>342</td>\n",
       "    </tr>\n",
       "  </tbody>\n",
       "</table>\n",
       "</div>"
      ],
      "text/plain": [
       "                     num_orders\n",
       "datetime                       \n",
       "2018-08-13 02:00:00         437\n",
       "2018-08-20 02:00:00         462\n",
       "2018-08-27 02:00:00         408\n",
       "2018-08-30 17:00:00         342"
      ]
     },
     "execution_count": 8,
     "metadata": {},
     "output_type": "execute_result"
    }
   ],
   "source": [
    "taxi[taxi['num_orders']>300]"
   ]
  },
  {
   "cell_type": "markdown",
   "metadata": {},
   "source": [
    "Пиковые часы заказов были в ночь с воскресения на понедельники, это небыли праздничные дни. Вероятно могло быть связано с какими то концертами или городскими гуляниями. Так как наша модель не будет иметь такого признака, то эти выбросы заменим на линейную интерполяцию между соседями. "
   ]
  },
  {
   "cell_type": "code",
   "execution_count": 9,
   "metadata": {},
   "outputs": [],
   "source": [
    "# taxi.loc[taxi['num_orders']>300, 'num_orders']=np.nan\n",
    "# taxi.interpolate(method='linear', axis=0, limit=None, inplace=True)"
   ]
  },
  {
   "cell_type": "markdown",
   "metadata": {},
   "source": [
    "<div class=\"alert alert-warning\" style=\"border-color: darkorange; border-radius: 5px\">\n",
    "    <p><u><b>⚠️ КОММЕНТАРИЙ РЕВЬЮЕРА</b></u></p>\n",
    "т.е. просто удалили данные ....<br>\n",
    "Обычно, с временными рядами действуют чуть деликатнее.<br>\n",
    "Если есть супер продажи, то ведь этому есть причины<br>\n",
    "По хорошему, тут надо так: Выяснить, что это за дни. например понедельник. Взять несколько понедельников до и после этого значения и рассчитать медиану. Подставить вместо большого значения медиану, зафиксировать разницу. Тем самым решили две задачи:<br>\n",
    "1) убрали выброс<br>\n",
    "2) занесли в базу идентификатор выброса: дата - причина ( спросить у коммерсантов)<br>\n",
    "    \n",
    "Другая ситуация: А может быть , Вы обнаружили несколько пятниц с повышеннымс просом продаж. Скажем лето, белые ночи в Питере....<br> Тогда это не выброс, а реальная история продаж. И её нельзя вот так вот \"убивать\"<br>\n",
    "    \n",
    "Мне кажется, надо возвернуть данные на Родину)))<br>\n",
    "C позиции бизнеса - это правильнее<br>\n",
    " \n",
    "    \n",
    "И ещё момент: когда еть тренд, то гистограмма и ящик с усами - так себе инструменты(((  (они не для этого)<br>\n",
    "А вот если анализировать остатки, то тут да, очень и очень понадобятся эти графики."
   ]
  },
  {
   "cell_type": "markdown",
   "metadata": {},
   "source": [
    "<div class=\"alert alert-block alert-info\" style=\"border-color: darkblue; border-radius: 5px\">\n",
    "    <p><u><b> Комментарий студента</b></u></p>\n",
    "Отменил замену интерполяцией, вопрос конечно дискуссионный. \n",
    "    \n",
    "Ясно, что если есть доступ к носителю информации, кто предоставил данные нужно уточнить возможность выброса. И если бы было подтверждение каких то факторов не связанных с сезонностью, я бы их убирал интерполяцией или медианой, как предложил ты. Это бы точно лучше повлияло на предсказания модели.<br>\n"
   ]
  },
  {
   "cell_type": "markdown",
   "metadata": {},
   "source": [
    "<div class=\"alert alert-success\" style=\"border-color: green; border-radius: 5px\">\n",
    "    <p><u><b>✅ КОММЕНТАРИЙ РЕВЬЮЕРА 2</b></u></p>\n",
    "    <p>👍👍</p>\n",
    "</div>"
   ]
  },
  {
   "cell_type": "code",
   "execution_count": 10,
   "metadata": {},
   "outputs": [
    {
     "data": {
      "image/png": "[encoded data removed]",
      "text/plain": [
       "<Figure size 1080x360 with 1 Axes>"
      ]
     },
     "metadata": {},
     "output_type": "display_data"
    }
   ],
   "source": [
    "plt.rcParams['figure.figsize']=15,5\n",
    "sns.lineplot(x=taxi.index, y=taxi['num_orders']).set_title(\"Временной ряд вызовов такси в час.\")\n",
    "plt.show()"
   ]
  },
  {
   "cell_type": "markdown",
   "metadata": {},
   "source": [
    "По графику видно, что временной ряд во второй половине имеет тренд на увеличение, там будет находится тестовая выборка, это может усложнить процес предсказания для моделей. "
   ]
  },
  {
   "cell_type": "markdown",
   "metadata": {},
   "source": [
    "<div class=\"alert alert-success\" style=\"border-color: green; border-radius: 5px\">\n",
    "    <p><u><b>✅ КОММЕНТАРИЙ РЕВЬЮЕРА</b></u></p>\n",
    "    <p>\n",
    "Исследование - понятно.<font color='red'><br> Не хватает изучения составляющих временного ряда. Напрмиер методом seasonal_decompose. Сделай, пожалуйста<br><font color='green'><br>\n",
    "Инструмент декомпозиции в частности, а графический анализ временных рядов как в принципе - важный этап моделирования рядов.<br> Позволяет увидеть продажи визуально, а это помогает сделать предвариетльные выводы<br>\n",
    "    \n",
    "Хочу озвучить ещё такой момент<br>\n",
    "В реальности бизнеса есть все три вида сезонности:<br>\n",
    "1) дневная сезонность -  данные собраны по дням, т.е. будни и выходные имеют разные продажи<br>\n",
    "2) внутрисуточная сезонность: когда продажи утром отличаются от продаж вечером <br>\n",
    "3) месячная сезонность: когда продажи лета и осени - разные.<br><br>\n",
    "И если строить прогноз на длительный период времени, то без учёта всех видов сезонности  - не обойтись<br>\n",
    "Например: есть в данных восходящий тренд. Но вопрос такой возникает: <br>\n",
    "этот подъём действительно за счёт роста компании (чаще всего тренд - это отражение роста компании) или есть ещё влияние месячной сезнности? (летом - продаж в рост, например, и именно этот момент мы наблюдаем в данных)<br>\n",
    "Ответ на вопрос - не протой на имеющихся данных - у нас данных меньше года. А это означает, что месячную сезонность нам не просто вычислить адекватно - т.е. не внести в модель корректтировки месяцев(<br>\n",
    "Поэтому, я бы дал такой совет:<br>\n",
    "на горизонте прогнозирования - несколько часов или дней - можно предположить что у нас тренд.<br>\n",
    "А если строить прогноз на несколько недель - вот тут утверждать наличие тренда надо с большой осторожностью))))<br><br>\n",
    "Ну, а если вернуться к постановке задаче - построить прогноз на час (очень маленький горизонт), то двух сезонности часовой и дневной - должно хватить."
   ]
  },
  {
   "cell_type": "markdown",
   "metadata": {},
   "source": [
    "<div class=\"alert alert-block alert-info\" style=\"border-color: darkblue; border-radius: 5px\">\n",
    "    <p><u><b> Комментарий студента</b></u></p>\n",
    "Спасибо за пояснения, про декомпозицию забыл, действительно это важно.\n",
    "    \n",
    "Ниже произвёл анализ составляющих временного ряда, для удобства чтения на графиках использовал разные диапазоны.<br>"
   ]
  },
  {
   "cell_type": "markdown",
   "metadata": {},
   "source": [
    "<div class=\"alert alert-success\" style=\"border-color: green; border-radius: 5px\">\n",
    "    <p><u><b>✅ КОММЕНТАРИЙ РЕВЬЮЕРА 2</b></u></p>\n",
    "    <p>👍, Спасибо! ОК, чётко.</p>\n",
    "</div>"
   ]
  },
  {
   "cell_type": "code",
   "execution_count": 11,
   "metadata": {
    "scrolled": true
   },
   "outputs": [
    {
     "data": {
      "image/png": "[encoded data removed]",
      "text/plain": [
       "<Figure size 1152x864 with 3 Axes>"
      ]
     },
     "metadata": {},
     "output_type": "display_data"
    },
    {
     "name": "stdout",
     "output_type": "stream",
     "text": [
      "Среднее абсолютное значение шума для августа:  26.17992205566669\n"
     ]
    }
   ],
   "source": [
    "decomposed = seasonal_decompose(taxi['num_orders'])\n",
    "\n",
    "fig, axes = plt.subplots(3, 1, figsize=(16,12))\n",
    "fig.suptitle('Разложение временного ряда на сезонную составляющую, тренд и шум.', fontsize=14)\n",
    "axes[0].set_title('Сезонная составляющая за первые 7 дней августа', fontsize=14)\n",
    "axes[1].set_title('Тренд за период с марта по август', fontsize=14)\n",
    "axes[2].set_title('Шум за период с марта по август', fontsize=14)\n",
    "decomposed.seasonal['2018-08-01':'2018-08-7'].plot(ax = axes[0])\n",
    "decomposed.trend['2018-03-01':'2018-08-31'].plot(ax = axes[1])\n",
    "decomposed.resid['2018-08-01':'2018-08-31'].plot(ax = axes[2])\n",
    "plt.show()\n",
    "print('Среднее абсолютное значение шума для августа: ',abs(decomposed.resid['2018-08-01':'2018-08-31']).mean())"
   ]
  },
  {
   "cell_type": "markdown",
   "metadata": {},
   "source": [
    "<div class=\"alert alert-block alert-info\" style=\"border-color: darkblue; border-radius: 5px\">\n",
    "    <p><u><b> Комментарий студента</b></u></p>\n",
    "\n",
    "1) Сезонная состявляющая предсталена суточной периодичностью, при чём внутри суток наблюдается 3 пика (утренний, дневной и ночной) и одна глубокая просадка поздней ночью.\n",
    "\n",
    "2) На протяжении всего датасета наблюдается стабильный тренд на повышение, с локальными колебаниями,\n",
    "\n",
    "3) Среднее значение шума для августа (месяца в котором распологается тестовая выборка) составляет 26, что будет явной границей для RMSE моделей (идеальной целью).\n",
    "\n",
    "4) После отмены обработки 4-х выбросов видно, что декомпозиция их отнесла к шуму."
   ]
  },
  {
   "cell_type": "markdown",
   "metadata": {},
   "source": [
    "Напишем функцию формирующую признаки: месяц, число, день мнедели, скользящее среднее. Так как все данные за 2018 год, то признак года не несёт полезной информации, также не будет учтён признак месяца."
   ]
  },
  {
   "cell_type": "code",
   "execution_count": 12,
   "metadata": {},
   "outputs": [],
   "source": [
    "def make_features(taxi, max_lag, rolling_mean_size):\n",
    "    taxi['day'] = taxi.index.day\n",
    "    taxi['dayofweek'] = taxi.index.dayofweek\n",
    "    taxi['hour'] = taxi.index.hour\n",
    "    \n",
    "    for lag in range(1, max_lag + 1):\n",
    "        taxi['lag_{}'.format(lag)] = taxi['num_orders'].shift(lag)\n",
    "\n",
    "    taxi['rolling_mean'] = taxi['num_orders'].shift().shift().rolling(rolling_mean_size).mean()"
   ]
  },
  {
   "cell_type": "markdown",
   "metadata": {},
   "source": [
    "<div class=\"alert alert-success\" style=\"border-color: green; border-radius: 5px\">\n",
    "    <p><u><b>✅ КОММЕНТАРИЙ РЕВЬЮЕРА</b></u></p>\n",
    "    <p>ОК, есть две сезонности в факторах!</p>\n",
    "</div>"
   ]
  },
  {
   "cell_type": "code",
   "execution_count": 13,
   "metadata": {},
   "outputs": [],
   "source": [
    "make_features(taxi, 5, 5)\n",
    "taxi = taxi.dropna()"
   ]
  },
  {
   "cell_type": "markdown",
   "metadata": {},
   "source": [
    "<div class=\"alert alert-success\" style=\"border-color: green; border-radius: 5px\">\n",
    "    <p><u><b>✅ КОММЕНТАРИЙ РЕВЬЮЕРА</b></u></p>Пару строк по фактору лаг и скользящее среднее:<br>\n",
    "Lag: его называют ещё параметром авторегрессии. На бытовом уровне его можно понять так: допустим вчера мы собрались с друзьями и не много закусили.... повлияет ли это на сегодняшний настрой на жизнь? Скорее да)))) Так вот с авторегрессией также. Допустим lag=1 - учитывает (для удобства будем считать, что продажи собраны по дням) как вчерашние продажи - вчерашние события - воалияли на сегоняшние.Lag=2: учитывает как позавчерашние продажи влияютна сегодняшние.....<br>\n",
    "    \n",
    "По скользящему среднего:<br>\n",
    "Предположим rolling=10 - скользящее среднее. По сути, ищем среднее по 10 точкам, потом следующие 10 точек, и т.д. - это некое подобие тренда будет - средней линии. Т.е. - сглаживание колебаний/выбросов. Это легко увидеть на пределе: допустим длина ряда 100 дней. rolling(100) - это просто одно число - среднее всего ряда. <br>\n",
    "    \n",
    "Поэтому, если выставить сезонности - hour и деньНедели, то дополнительные факторы могут быть такие: лаг =1 (максимум 2), а скользящее среднее = 24 (среднее за сутки). Т.е. начинать с этого. В итоге модель будет приемлемая по точности и не много факторов.. а это значит и для бизнеса будет легче доносить решение)</div>"
   ]
  },
  {
   "cell_type": "markdown",
   "metadata": {},
   "source": [
    "Проведём кодирование категориальных данных методом One-Hot-Encoding.\n",
    "Признаки требующие кодирования:\n",
    "- day,\n",
    "- dayofweek,\n",
    "- hour."
   ]
  },
  {
   "cell_type": "code",
   "execution_count": 14,
   "metadata": {},
   "outputs": [],
   "source": [
    "taxi = pd.get_dummies(\n",
    "    taxi, columns=['day','dayofweek','hour'], drop_first=True)"
   ]
  },
  {
   "cell_type": "code",
   "execution_count": 15,
   "metadata": {
    "scrolled": true
   },
   "outputs": [
    {
     "data": {
      "text/html": [
       "<div>\n",
       "<style scoped>\n",
       "    .dataframe tbody tr th:only-of-type {\n",
       "        vertical-align: middle;\n",
       "    }\n",
       "\n",
       "    .dataframe tbody tr th {\n",
       "        vertical-align: top;\n",
       "    }\n",
       "\n",
       "    .dataframe thead th {\n",
       "        text-align: right;\n",
       "    }\n",
       "</style>\n",
       "<table border=\"1\" class=\"dataframe\">\n",
       "  <thead>\n",
       "    <tr style=\"text-align: right;\">\n",
       "      <th></th>\n",
       "      <th>num_orders</th>\n",
       "      <th>lag_1</th>\n",
       "      <th>lag_2</th>\n",
       "      <th>lag_3</th>\n",
       "      <th>lag_4</th>\n",
       "      <th>lag_5</th>\n",
       "      <th>rolling_mean</th>\n",
       "      <th>day_2</th>\n",
       "      <th>day_3</th>\n",
       "      <th>day_4</th>\n",
       "      <th>day_5</th>\n",
       "      <th>day_6</th>\n",
       "      <th>day_7</th>\n",
       "      <th>day_8</th>\n",
       "      <th>day_9</th>\n",
       "      <th>day_10</th>\n",
       "      <th>day_11</th>\n",
       "      <th>day_12</th>\n",
       "      <th>day_13</th>\n",
       "      <th>day_14</th>\n",
       "      <th>day_15</th>\n",
       "      <th>day_16</th>\n",
       "      <th>day_17</th>\n",
       "      <th>day_18</th>\n",
       "      <th>day_19</th>\n",
       "      <th>day_20</th>\n",
       "      <th>day_21</th>\n",
       "      <th>day_22</th>\n",
       "      <th>day_23</th>\n",
       "      <th>day_24</th>\n",
       "      <th>day_25</th>\n",
       "      <th>day_26</th>\n",
       "      <th>day_27</th>\n",
       "      <th>day_28</th>\n",
       "      <th>day_29</th>\n",
       "      <th>day_30</th>\n",
       "      <th>day_31</th>\n",
       "      <th>dayofweek_1</th>\n",
       "      <th>dayofweek_2</th>\n",
       "      <th>dayofweek_3</th>\n",
       "      <th>dayofweek_4</th>\n",
       "      <th>dayofweek_5</th>\n",
       "      <th>dayofweek_6</th>\n",
       "      <th>hour_1</th>\n",
       "      <th>hour_2</th>\n",
       "      <th>hour_3</th>\n",
       "      <th>hour_4</th>\n",
       "      <th>hour_5</th>\n",
       "      <th>hour_6</th>\n",
       "      <th>hour_7</th>\n",
       "      <th>hour_8</th>\n",
       "      <th>hour_9</th>\n",
       "      <th>hour_10</th>\n",
       "      <th>hour_11</th>\n",
       "      <th>hour_12</th>\n",
       "      <th>hour_13</th>\n",
       "      <th>hour_14</th>\n",
       "      <th>hour_15</th>\n",
       "      <th>hour_16</th>\n",
       "      <th>hour_17</th>\n",
       "      <th>hour_18</th>\n",
       "      <th>hour_19</th>\n",
       "      <th>hour_20</th>\n",
       "      <th>hour_21</th>\n",
       "      <th>hour_22</th>\n",
       "      <th>hour_23</th>\n",
       "    </tr>\n",
       "    <tr>\n",
       "      <th>datetime</th>\n",
       "      <th></th>\n",
       "      <th></th>\n",
       "      <th></th>\n",
       "      <th></th>\n",
       "      <th></th>\n",
       "      <th></th>\n",
       "      <th></th>\n",
       "      <th></th>\n",
       "      <th></th>\n",
       "      <th></th>\n",
       "      <th></th>\n",
       "      <th></th>\n",
       "      <th></th>\n",
       "      <th></th>\n",
       "      <th></th>\n",
       "      <th></th>\n",
       "      <th></th>\n",
       "      <th></th>\n",
       "      <th></th>\n",
       "      <th></th>\n",
       "      <th></th>\n",
       "      <th></th>\n",
       "      <th></th>\n",
       "      <th></th>\n",
       "      <th></th>\n",
       "      <th></th>\n",
       "      <th></th>\n",
       "      <th></th>\n",
       "      <th></th>\n",
       "      <th></th>\n",
       "      <th></th>\n",
       "      <th></th>\n",
       "      <th></th>\n",
       "      <th></th>\n",
       "      <th></th>\n",
       "      <th></th>\n",
       "      <th></th>\n",
       "      <th></th>\n",
       "      <th></th>\n",
       "      <th></th>\n",
       "      <th></th>\n",
       "      <th></th>\n",
       "      <th></th>\n",
       "      <th></th>\n",
       "      <th></th>\n",
       "      <th></th>\n",
       "      <th></th>\n",
       "      <th></th>\n",
       "      <th></th>\n",
       "      <th></th>\n",
       "      <th></th>\n",
       "      <th></th>\n",
       "      <th></th>\n",
       "      <th></th>\n",
       "      <th></th>\n",
       "      <th></th>\n",
       "      <th></th>\n",
       "      <th></th>\n",
       "      <th></th>\n",
       "      <th></th>\n",
       "      <th></th>\n",
       "      <th></th>\n",
       "      <th></th>\n",
       "      <th></th>\n",
       "      <th></th>\n",
       "      <th></th>\n",
       "    </tr>\n",
       "  </thead>\n",
       "  <tbody>\n",
       "    <tr>\n",
       "      <th>2018-03-01 06:00:00</th>\n",
       "      <td>12</td>\n",
       "      <td>6.0</td>\n",
       "      <td>43.0</td>\n",
       "      <td>66.0</td>\n",
       "      <td>71.0</td>\n",
       "      <td>85.0</td>\n",
       "      <td>77.8</td>\n",
       "      <td>0</td>\n",
       "      <td>0</td>\n",
       "      <td>0</td>\n",
       "      <td>0</td>\n",
       "      <td>0</td>\n",
       "      <td>0</td>\n",
       "      <td>0</td>\n",
       "      <td>0</td>\n",
       "      <td>0</td>\n",
       "      <td>0</td>\n",
       "      <td>0</td>\n",
       "      <td>0</td>\n",
       "      <td>0</td>\n",
       "      <td>0</td>\n",
       "      <td>0</td>\n",
       "      <td>0</td>\n",
       "      <td>0</td>\n",
       "      <td>0</td>\n",
       "      <td>0</td>\n",
       "      <td>0</td>\n",
       "      <td>0</td>\n",
       "      <td>0</td>\n",
       "      <td>0</td>\n",
       "      <td>0</td>\n",
       "      <td>0</td>\n",
       "      <td>0</td>\n",
       "      <td>0</td>\n",
       "      <td>0</td>\n",
       "      <td>0</td>\n",
       "      <td>0</td>\n",
       "      <td>0</td>\n",
       "      <td>0</td>\n",
       "      <td>1</td>\n",
       "      <td>0</td>\n",
       "      <td>0</td>\n",
       "      <td>0</td>\n",
       "      <td>0</td>\n",
       "      <td>0</td>\n",
       "      <td>0</td>\n",
       "      <td>0</td>\n",
       "      <td>0</td>\n",
       "      <td>1</td>\n",
       "      <td>0</td>\n",
       "      <td>0</td>\n",
       "      <td>0</td>\n",
       "      <td>0</td>\n",
       "      <td>0</td>\n",
       "      <td>0</td>\n",
       "      <td>0</td>\n",
       "      <td>0</td>\n",
       "      <td>0</td>\n",
       "      <td>0</td>\n",
       "      <td>0</td>\n",
       "      <td>0</td>\n",
       "      <td>0</td>\n",
       "      <td>0</td>\n",
       "      <td>0</td>\n",
       "      <td>0</td>\n",
       "      <td>0</td>\n",
       "    </tr>\n",
       "    <tr>\n",
       "      <th>2018-03-01 07:00:00</th>\n",
       "      <td>15</td>\n",
       "      <td>12.0</td>\n",
       "      <td>6.0</td>\n",
       "      <td>43.0</td>\n",
       "      <td>66.0</td>\n",
       "      <td>71.0</td>\n",
       "      <td>54.2</td>\n",
       "      <td>0</td>\n",
       "      <td>0</td>\n",
       "      <td>0</td>\n",
       "      <td>0</td>\n",
       "      <td>0</td>\n",
       "      <td>0</td>\n",
       "      <td>0</td>\n",
       "      <td>0</td>\n",
       "      <td>0</td>\n",
       "      <td>0</td>\n",
       "      <td>0</td>\n",
       "      <td>0</td>\n",
       "      <td>0</td>\n",
       "      <td>0</td>\n",
       "      <td>0</td>\n",
       "      <td>0</td>\n",
       "      <td>0</td>\n",
       "      <td>0</td>\n",
       "      <td>0</td>\n",
       "      <td>0</td>\n",
       "      <td>0</td>\n",
       "      <td>0</td>\n",
       "      <td>0</td>\n",
       "      <td>0</td>\n",
       "      <td>0</td>\n",
       "      <td>0</td>\n",
       "      <td>0</td>\n",
       "      <td>0</td>\n",
       "      <td>0</td>\n",
       "      <td>0</td>\n",
       "      <td>0</td>\n",
       "      <td>0</td>\n",
       "      <td>1</td>\n",
       "      <td>0</td>\n",
       "      <td>0</td>\n",
       "      <td>0</td>\n",
       "      <td>0</td>\n",
       "      <td>0</td>\n",
       "      <td>0</td>\n",
       "      <td>0</td>\n",
       "      <td>0</td>\n",
       "      <td>0</td>\n",
       "      <td>1</td>\n",
       "      <td>0</td>\n",
       "      <td>0</td>\n",
       "      <td>0</td>\n",
       "      <td>0</td>\n",
       "      <td>0</td>\n",
       "      <td>0</td>\n",
       "      <td>0</td>\n",
       "      <td>0</td>\n",
       "      <td>0</td>\n",
       "      <td>0</td>\n",
       "      <td>0</td>\n",
       "      <td>0</td>\n",
       "      <td>0</td>\n",
       "      <td>0</td>\n",
       "      <td>0</td>\n",
       "      <td>0</td>\n",
       "    </tr>\n",
       "    <tr>\n",
       "      <th>2018-03-01 08:00:00</th>\n",
       "      <td>34</td>\n",
       "      <td>15.0</td>\n",
       "      <td>12.0</td>\n",
       "      <td>6.0</td>\n",
       "      <td>43.0</td>\n",
       "      <td>66.0</td>\n",
       "      <td>39.6</td>\n",
       "      <td>0</td>\n",
       "      <td>0</td>\n",
       "      <td>0</td>\n",
       "      <td>0</td>\n",
       "      <td>0</td>\n",
       "      <td>0</td>\n",
       "      <td>0</td>\n",
       "      <td>0</td>\n",
       "      <td>0</td>\n",
       "      <td>0</td>\n",
       "      <td>0</td>\n",
       "      <td>0</td>\n",
       "      <td>0</td>\n",
       "      <td>0</td>\n",
       "      <td>0</td>\n",
       "      <td>0</td>\n",
       "      <td>0</td>\n",
       "      <td>0</td>\n",
       "      <td>0</td>\n",
       "      <td>0</td>\n",
       "      <td>0</td>\n",
       "      <td>0</td>\n",
       "      <td>0</td>\n",
       "      <td>0</td>\n",
       "      <td>0</td>\n",
       "      <td>0</td>\n",
       "      <td>0</td>\n",
       "      <td>0</td>\n",
       "      <td>0</td>\n",
       "      <td>0</td>\n",
       "      <td>0</td>\n",
       "      <td>0</td>\n",
       "      <td>1</td>\n",
       "      <td>0</td>\n",
       "      <td>0</td>\n",
       "      <td>0</td>\n",
       "      <td>0</td>\n",
       "      <td>0</td>\n",
       "      <td>0</td>\n",
       "      <td>0</td>\n",
       "      <td>0</td>\n",
       "      <td>0</td>\n",
       "      <td>0</td>\n",
       "      <td>1</td>\n",
       "      <td>0</td>\n",
       "      <td>0</td>\n",
       "      <td>0</td>\n",
       "      <td>0</td>\n",
       "      <td>0</td>\n",
       "      <td>0</td>\n",
       "      <td>0</td>\n",
       "      <td>0</td>\n",
       "      <td>0</td>\n",
       "      <td>0</td>\n",
       "      <td>0</td>\n",
       "      <td>0</td>\n",
       "      <td>0</td>\n",
       "      <td>0</td>\n",
       "      <td>0</td>\n",
       "    </tr>\n",
       "    <tr>\n",
       "      <th>2018-03-01 09:00:00</th>\n",
       "      <td>69</td>\n",
       "      <td>34.0</td>\n",
       "      <td>15.0</td>\n",
       "      <td>12.0</td>\n",
       "      <td>6.0</td>\n",
       "      <td>43.0</td>\n",
       "      <td>28.4</td>\n",
       "      <td>0</td>\n",
       "      <td>0</td>\n",
       "      <td>0</td>\n",
       "      <td>0</td>\n",
       "      <td>0</td>\n",
       "      <td>0</td>\n",
       "      <td>0</td>\n",
       "      <td>0</td>\n",
       "      <td>0</td>\n",
       "      <td>0</td>\n",
       "      <td>0</td>\n",
       "      <td>0</td>\n",
       "      <td>0</td>\n",
       "      <td>0</td>\n",
       "      <td>0</td>\n",
       "      <td>0</td>\n",
       "      <td>0</td>\n",
       "      <td>0</td>\n",
       "      <td>0</td>\n",
       "      <td>0</td>\n",
       "      <td>0</td>\n",
       "      <td>0</td>\n",
       "      <td>0</td>\n",
       "      <td>0</td>\n",
       "      <td>0</td>\n",
       "      <td>0</td>\n",
       "      <td>0</td>\n",
       "      <td>0</td>\n",
       "      <td>0</td>\n",
       "      <td>0</td>\n",
       "      <td>0</td>\n",
       "      <td>0</td>\n",
       "      <td>1</td>\n",
       "      <td>0</td>\n",
       "      <td>0</td>\n",
       "      <td>0</td>\n",
       "      <td>0</td>\n",
       "      <td>0</td>\n",
       "      <td>0</td>\n",
       "      <td>0</td>\n",
       "      <td>0</td>\n",
       "      <td>0</td>\n",
       "      <td>0</td>\n",
       "      <td>0</td>\n",
       "      <td>1</td>\n",
       "      <td>0</td>\n",
       "      <td>0</td>\n",
       "      <td>0</td>\n",
       "      <td>0</td>\n",
       "      <td>0</td>\n",
       "      <td>0</td>\n",
       "      <td>0</td>\n",
       "      <td>0</td>\n",
       "      <td>0</td>\n",
       "      <td>0</td>\n",
       "      <td>0</td>\n",
       "      <td>0</td>\n",
       "      <td>0</td>\n",
       "      <td>0</td>\n",
       "    </tr>\n",
       "    <tr>\n",
       "      <th>2018-03-01 10:00:00</th>\n",
       "      <td>64</td>\n",
       "      <td>69.0</td>\n",
       "      <td>34.0</td>\n",
       "      <td>15.0</td>\n",
       "      <td>12.0</td>\n",
       "      <td>6.0</td>\n",
       "      <td>22.0</td>\n",
       "      <td>0</td>\n",
       "      <td>0</td>\n",
       "      <td>0</td>\n",
       "      <td>0</td>\n",
       "      <td>0</td>\n",
       "      <td>0</td>\n",
       "      <td>0</td>\n",
       "      <td>0</td>\n",
       "      <td>0</td>\n",
       "      <td>0</td>\n",
       "      <td>0</td>\n",
       "      <td>0</td>\n",
       "      <td>0</td>\n",
       "      <td>0</td>\n",
       "      <td>0</td>\n",
       "      <td>0</td>\n",
       "      <td>0</td>\n",
       "      <td>0</td>\n",
       "      <td>0</td>\n",
       "      <td>0</td>\n",
       "      <td>0</td>\n",
       "      <td>0</td>\n",
       "      <td>0</td>\n",
       "      <td>0</td>\n",
       "      <td>0</td>\n",
       "      <td>0</td>\n",
       "      <td>0</td>\n",
       "      <td>0</td>\n",
       "      <td>0</td>\n",
       "      <td>0</td>\n",
       "      <td>0</td>\n",
       "      <td>0</td>\n",
       "      <td>1</td>\n",
       "      <td>0</td>\n",
       "      <td>0</td>\n",
       "      <td>0</td>\n",
       "      <td>0</td>\n",
       "      <td>0</td>\n",
       "      <td>0</td>\n",
       "      <td>0</td>\n",
       "      <td>0</td>\n",
       "      <td>0</td>\n",
       "      <td>0</td>\n",
       "      <td>0</td>\n",
       "      <td>0</td>\n",
       "      <td>1</td>\n",
       "      <td>0</td>\n",
       "      <td>0</td>\n",
       "      <td>0</td>\n",
       "      <td>0</td>\n",
       "      <td>0</td>\n",
       "      <td>0</td>\n",
       "      <td>0</td>\n",
       "      <td>0</td>\n",
       "      <td>0</td>\n",
       "      <td>0</td>\n",
       "      <td>0</td>\n",
       "      <td>0</td>\n",
       "      <td>0</td>\n",
       "    </tr>\n",
       "  </tbody>\n",
       "</table>\n",
       "</div>"
      ],
      "text/plain": [
       "                     num_orders  lag_1  lag_2  lag_3  lag_4  lag_5  \\\n",
       "datetime                                                             \n",
       "2018-03-01 06:00:00          12    6.0   43.0   66.0   71.0   85.0   \n",
       "2018-03-01 07:00:00          15   12.0    6.0   43.0   66.0   71.0   \n",
       "2018-03-01 08:00:00          34   15.0   12.0    6.0   43.0   66.0   \n",
       "2018-03-01 09:00:00          69   34.0   15.0   12.0    6.0   43.0   \n",
       "2018-03-01 10:00:00          64   69.0   34.0   15.0   12.0    6.0   \n",
       "\n",
       "                     rolling_mean  day_2  day_3  day_4  day_5  day_6  day_7  \\\n",
       "datetime                                                                      \n",
       "2018-03-01 06:00:00          77.8      0      0      0      0      0      0   \n",
       "2018-03-01 07:00:00          54.2      0      0      0      0      0      0   \n",
       "2018-03-01 08:00:00          39.6      0      0      0      0      0      0   \n",
       "2018-03-01 09:00:00          28.4      0      0      0      0      0      0   \n",
       "2018-03-01 10:00:00          22.0      0      0      0      0      0      0   \n",
       "\n",
       "                     day_8  day_9  day_10  day_11  day_12  day_13  day_14  \\\n",
       "datetime                                                                    \n",
       "2018-03-01 06:00:00      0      0       0       0       0       0       0   \n",
       "2018-03-01 07:00:00      0      0       0       0       0       0       0   \n",
       "2018-03-01 08:00:00      0      0       0       0       0       0       0   \n",
       "2018-03-01 09:00:00      0      0       0       0       0       0       0   \n",
       "2018-03-01 10:00:00      0      0       0       0       0       0       0   \n",
       "\n",
       "                     day_15  day_16  day_17  day_18  day_19  day_20  day_21  \\\n",
       "datetime                                                                      \n",
       "2018-03-01 06:00:00       0       0       0       0       0       0       0   \n",
       "2018-03-01 07:00:00       0       0       0       0       0       0       0   \n",
       "2018-03-01 08:00:00       0       0       0       0       0       0       0   \n",
       "2018-03-01 09:00:00       0       0       0       0       0       0       0   \n",
       "2018-03-01 10:00:00       0       0       0       0       0       0       0   \n",
       "\n",
       "                     day_22  day_23  day_24  day_25  day_26  day_27  day_28  \\\n",
       "datetime                                                                      \n",
       "2018-03-01 06:00:00       0       0       0       0       0       0       0   \n",
       "2018-03-01 07:00:00       0       0       0       0       0       0       0   \n",
       "2018-03-01 08:00:00       0       0       0       0       0       0       0   \n",
       "2018-03-01 09:00:00       0       0       0       0       0       0       0   \n",
       "2018-03-01 10:00:00       0       0       0       0       0       0       0   \n",
       "\n",
       "                     day_29  day_30  day_31  dayofweek_1  dayofweek_2  \\\n",
       "datetime                                                                \n",
       "2018-03-01 06:00:00       0       0       0            0            0   \n",
       "2018-03-01 07:00:00       0       0       0            0            0   \n",
       "2018-03-01 08:00:00       0       0       0            0            0   \n",
       "2018-03-01 09:00:00       0       0       0            0            0   \n",
       "2018-03-01 10:00:00       0       0       0            0            0   \n",
       "\n",
       "                     dayofweek_3  dayofweek_4  dayofweek_5  dayofweek_6  \\\n",
       "datetime                                                                  \n",
       "2018-03-01 06:00:00            1            0            0            0   \n",
       "2018-03-01 07:00:00            1            0            0            0   \n",
       "2018-03-01 08:00:00            1            0            0            0   \n",
       "2018-03-01 09:00:00            1            0            0            0   \n",
       "2018-03-01 10:00:00            1            0            0            0   \n",
       "\n",
       "                     hour_1  hour_2  hour_3  hour_4  hour_5  hour_6  hour_7  \\\n",
       "datetime                                                                      \n",
       "2018-03-01 06:00:00       0       0       0       0       0       1       0   \n",
       "2018-03-01 07:00:00       0       0       0       0       0       0       1   \n",
       "2018-03-01 08:00:00       0       0       0       0       0       0       0   \n",
       "2018-03-01 09:00:00       0       0       0       0       0       0       0   \n",
       "2018-03-01 10:00:00       0       0       0       0       0       0       0   \n",
       "\n",
       "                     hour_8  hour_9  hour_10  hour_11  hour_12  hour_13  \\\n",
       "datetime                                                                  \n",
       "2018-03-01 06:00:00       0       0        0        0        0        0   \n",
       "2018-03-01 07:00:00       0       0        0        0        0        0   \n",
       "2018-03-01 08:00:00       1       0        0        0        0        0   \n",
       "2018-03-01 09:00:00       0       1        0        0        0        0   \n",
       "2018-03-01 10:00:00       0       0        1        0        0        0   \n",
       "\n",
       "                     hour_14  hour_15  hour_16  hour_17  hour_18  hour_19  \\\n",
       "datetime                                                                    \n",
       "2018-03-01 06:00:00        0        0        0        0        0        0   \n",
       "2018-03-01 07:00:00        0        0        0        0        0        0   \n",
       "2018-03-01 08:00:00        0        0        0        0        0        0   \n",
       "2018-03-01 09:00:00        0        0        0        0        0        0   \n",
       "2018-03-01 10:00:00        0        0        0        0        0        0   \n",
       "\n",
       "                     hour_20  hour_21  hour_22  hour_23  \n",
       "datetime                                                 \n",
       "2018-03-01 06:00:00        0        0        0        0  \n",
       "2018-03-01 07:00:00        0        0        0        0  \n",
       "2018-03-01 08:00:00        0        0        0        0  \n",
       "2018-03-01 09:00:00        0        0        0        0  \n",
       "2018-03-01 10:00:00        0        0        0        0  "
      ]
     },
     "execution_count": 15,
     "metadata": {},
     "output_type": "execute_result"
    }
   ],
   "source": [
    "taxi.head()"
   ]
  },
  {
   "cell_type": "markdown",
   "metadata": {},
   "source": [
    "## Обучение"
   ]
  },
  {
   "cell_type": "markdown",
   "metadata": {},
   "source": [
    "### Выделим целевой признак"
   ]
  },
  {
   "cell_type": "code",
   "execution_count": 16,
   "metadata": {},
   "outputs": [],
   "source": [
    "X = taxi.drop(columns='num_orders')\n",
    "y = taxi['num_orders']"
   ]
  },
  {
   "cell_type": "markdown",
   "metadata": {},
   "source": [
    "### Разобьём данные на обучающую, валидационную и тестовую выборки"
   ]
  },
  {
   "cell_type": "markdown",
   "metadata": {},
   "source": [
    "Выделим тестовую выборку."
   ]
  },
  {
   "cell_type": "code",
   "execution_count": 17,
   "metadata": {},
   "outputs": [
    {
     "name": "stdout",
     "output_type": "stream",
     "text": [
      "Обучающая выборка: начало - 2018-03-01 06:00:00, конец - 2018-08-13 14:00:00\n",
      "Тестовая выборка: начало - 2018-08-13 15:00:00, конец - 2018-08-31 23:00:00\n"
     ]
    }
   ],
   "source": [
    "X_train, X_test, y_train, y_test = train_test_split(X, y, shuffle=False, test_size=0.1)\n",
    "print('Обучающая выборка: начало - {}, конец - {}'.format(X_train.index.min(), X_train.index.max()))\n",
    "print('Тестовая выборка: начало - {}, конец - {}'.format(X_test.index.min(), X_test.index.max()))"
   ]
  },
  {
   "cell_type": "markdown",
   "metadata": {},
   "source": [
    "Выделим валидационную выборку."
   ]
  },
  {
   "cell_type": "code",
   "execution_count": 18,
   "metadata": {},
   "outputs": [
    {
     "name": "stdout",
     "output_type": "stream",
     "text": [
      "Обучающая выборка: начало - 2018-03-01 06:00:00, конец - 2018-07-28 01:00:00\n",
      "Тестовая выборка: начало - 2018-07-28 02:00:00, конец - 2018-08-13 14:00:00\n"
     ]
    }
   ],
   "source": [
    "X_train, X_valid, y_train, y_valid = train_test_split(X_train, y_train, shuffle=False, test_size=0.1)\n",
    "print('Обучающая выборка: начало - {}, конец - {}'.format(X_train.index.min(), X_train.index.max()))\n",
    "print('Тестовая выборка: начало - {}, конец - {}'.format(X_valid.index.min(), X_valid.index.max()))"
   ]
  },
  {
   "cell_type": "markdown",
   "metadata": {},
   "source": [
    "<div class=\"alert alert-success\" style=\"border-color: green; border-radius: 5px\">\n",
    "    <p><u><b>✅ КОММЕНТАРИЙ РЕВЬЮЕРА</b></u></p>ОК"
   ]
  },
  {
   "cell_type": "markdown",
   "metadata": {},
   "source": [
    "### Базовая модель на сглаживании Хольта-Винтерса"
   ]
  },
  {
   "cell_type": "code",
   "execution_count": 19,
   "metadata": {},
   "outputs": [
    {
     "name": "stdout",
     "output_type": "stream",
     "text": [
      "RMSE модели Хольта-Винтерса на тестовой выборке: 40.428755695420165\n"
     ]
    }
   ],
   "source": [
    "time_fit_start = time()\n",
    "model_HW = ExponentialSmoothing(endog = pd.concat([y_train, y_valid]),\n",
    "                             trend = \"add\",\n",
    "                             seasonal = \"add\",\n",
    "                             seasonal_periods = 24).fit()\n",
    "time_fit_HW = time()-time_fit_start\n",
    "\n",
    "time_predict_start = time()\n",
    "predict_HW = model_HW.forecast(steps = len(y_test)).to_numpy()\n",
    "score_rmse_HW = mean_squared_error(predict_HW, y_test)**0.5\n",
    "time_predict_HW = time()-time_predict_start\n",
    "\n",
    "print(f'RMSE модели Хольта-Винтерса на тестовой выборке: {score_rmse_HW}')"
   ]
  },
  {
   "cell_type": "markdown",
   "metadata": {},
   "source": [
    "<div class=\"alert alert-success\" style=\"border-color: green; border-radius: 5px\">\n",
    "    <p><u><b>✅ КОММЕНТАРИЙ РЕВЬЮЕРА</b></u></p>Интересно) МОЛОДЕЦ, что освоил."
   ]
  },
  {
   "cell_type": "markdown",
   "metadata": {},
   "source": [
    "### Модель Lasso"
   ]
  },
  {
   "cell_type": "code",
   "execution_count": 20,
   "metadata": {},
   "outputs": [
    {
     "name": "stderr",
     "output_type": "stream",
     "text": [
      "100%|█████████████████████████████████████████████████████████████████████████████████| 29/29 [00:00<00:00, 121.31it/s]\n",
      "100%|█████████████████████████████████████████████████████████████████████████████████| 29/29 [00:00<00:00, 138.06it/s]\n",
      "100%|█████████████████████████████████████████████████████████████████████████████████| 29/29 [00:00<00:00, 150.23it/s]\n",
      "100%|█████████████████████████████████████████████████████████████████████████████████| 29/29 [00:00<00:00, 155.88it/s]\n",
      "100%|█████████████████████████████████████████████████████████████████████████████████| 29/29 [00:00<00:00, 161.07it/s]\n",
      "100%|█████████████████████████████████████████████████████████████████████████████████| 29/29 [00:00<00:00, 161.97it/s]\n",
      "100%|█████████████████████████████████████████████████████████████████████████████████| 29/29 [00:00<00:00, 157.57it/s]\n",
      "100%|█████████████████████████████████████████████████████████████████████████████████| 29/29 [00:00<00:00, 172.58it/s]\n",
      "100%|█████████████████████████████████████████████████████████████████████████████████| 29/29 [00:00<00:00, 172.58it/s]\n",
      "100%|█████████████████████████████████████████████████████████████████████████████████| 29/29 [00:00<00:00, 176.79it/s]\n",
      "100%|█████████████████████████████████████████████████████████████████████████████████| 29/29 [00:00<00:00, 174.66it/s]\n",
      "100%|█████████████████████████████████████████████████████████████████████████████████| 29/29 [00:00<00:00, 170.55it/s]\n",
      "100%|█████████████████████████████████████████████████████████████████████████████████| 29/29 [00:00<00:00, 180.08it/s]\n",
      "100%|█████████████████████████████████████████████████████████████████████████████████| 29/29 [00:00<00:00, 176.79it/s]\n",
      "100%|█████████████████████████████████████████████████████████████████████████████████| 29/29 [00:00<00:00, 155.05it/s]\n",
      "100%|█████████████████████████████████████████████████████████████████████████████████| 29/29 [00:00<00:00, 189.50it/s]\n",
      "100%|█████████████████████████████████████████████████████████████████████████████████| 29/29 [00:00<00:00, 194.59it/s]\n",
      "100%|█████████████████████████████████████████████████████████████████████████████████| 29/29 [00:00<00:00, 189.50it/s]\n",
      "100%|█████████████████████████████████████████████████████████████████████████████████| 29/29 [00:00<00:00, 180.08it/s]\n",
      "100%|█████████████████████████████████████████████████████████████████████████████████| 29/29 [00:00<00:00, 181.21it/s]"
     ]
    },
    {
     "name": "stdout",
     "output_type": "stream",
     "text": [
      "\n",
      "Лучшая модель линейной регрессии L1: Lasso(alpha=0.1, random_state=1111, tol=0.001)\n",
      "Значение RMSE полученное на валидации для лучшей линейной регрессии L1 : 36.39624498423904\n",
      "CPU times: total: 3.56 s\n",
      "Wall time: 3.52 s\n"
     ]
    },
    {
     "name": "stderr",
     "output_type": "stream",
     "text": [
      "\n"
     ]
    }
   ],
   "source": [
    "%%time\n",
    "\n",
    "best_lasso_model = None\n",
    "best_score_rmse = 300  # 300 заведомо выше оценки\n",
    "\n",
    "for i_tol in range(1, 200,10):\n",
    "    for i_alpha in tqdm(range(10, 300, 10)):\n",
    "        lasso_model = Lasso(alpha=i_alpha*0.01, \n",
    "                            tol=i_tol*0.001, \n",
    "                            random_state=RANDOM)\n",
    "        lasso_model.fit(X_train, y_train)\n",
    "        score_rmse = mean_squared_error(y_valid, \n",
    "                                        lasso_model.predict(X_valid)) ** 0.5\n",
    "        if score_rmse < best_score_rmse:\n",
    "            best_lasso_model = lasso_model\n",
    "            best_score_rmse = score_rmse\n",
    "        \n",
    "print(f'\\nЛучшая модель линейной регрессии L1: {best_lasso_model}\\n'\n",
    "      f'Значение RMSE полученное на валидации для лучшей линейной регрессии L1 : {best_score_rmse}')"
   ]
  },
  {
   "cell_type": "markdown",
   "metadata": {},
   "source": [
    "### Модель Ridge"
   ]
  },
  {
   "cell_type": "code",
   "execution_count": 21,
   "metadata": {},
   "outputs": [
    {
     "name": "stderr",
     "output_type": "stream",
     "text": [
      "100%|█████████████████████████████████████████████████████████████████████████████████| 20/20 [00:00<00:00, 224.67it/s]\n",
      "100%|█████████████████████████████████████████████████████████████████████████████████| 20/20 [00:00<00:00, 227.22it/s]\n",
      "100%|█████████████████████████████████████████████████████████████████████████████████| 20/20 [00:00<00:00, 243.85it/s]\n",
      "100%|█████████████████████████████████████████████████████████████████████████████████| 20/20 [00:00<00:00, 246.86it/s]\n",
      "100%|█████████████████████████████████████████████████████████████████████████████████| 20/20 [00:00<00:00, 249.94it/s]\n",
      "100%|█████████████████████████████████████████████████████████████████████████████████| 20/20 [00:00<00:00, 253.11it/s]\n",
      "100%|█████████████████████████████████████████████████████████████████████████████████| 20/20 [00:00<00:00, 263.10it/s]\n",
      "100%|█████████████████████████████████████████████████████████████████████████████████| 20/20 [00:00<00:00, 253.11it/s]\n",
      "100%|█████████████████████████████████████████████████████████████████████████████████| 20/20 [00:00<00:00, 263.10it/s]\n",
      "100%|█████████████████████████████████████████████████████████████████████████████████| 20/20 [00:00<00:00, 266.61it/s]\n",
      "100%|█████████████████████████████████████████████████████████████████████████████████| 20/20 [00:00<00:00, 263.10it/s]\n",
      "100%|█████████████████████████████████████████████████████████████████████████████████| 20/20 [00:00<00:00, 238.05it/s]\n",
      "100%|█████████████████████████████████████████████████████████████████████████████████| 20/20 [00:00<00:00, 232.51it/s]\n",
      "100%|█████████████████████████████████████████████████████████████████████████████████| 20/20 [00:00<00:00, 256.35it/s]\n",
      "100%|█████████████████████████████████████████████████████████████████████████████████| 20/20 [00:00<00:00, 232.50it/s]\n",
      "100%|█████████████████████████████████████████████████████████████████████████████████| 20/20 [00:00<00:00, 238.04it/s]\n",
      "100%|█████████████████████████████████████████████████████████████████████████████████| 20/20 [00:00<00:00, 256.35it/s]\n",
      "100%|█████████████████████████████████████████████████████████████████████████████████| 20/20 [00:00<00:00, 238.04it/s]\n",
      "100%|█████████████████████████████████████████████████████████████████████████████████| 20/20 [00:00<00:00, 266.61it/s]\n",
      "100%|█████████████████████████████████████████████████████████████████████████████████| 20/20 [00:00<00:00, 270.21it/s]"
     ]
    },
    {
     "name": "stdout",
     "output_type": "stream",
     "text": [
      "\n",
      "Лучшая модель линейной регрессии L2: Ridge(alpha=0.01, random_state=1111, tol=1e-05)\n",
      "Значение RMSE полученное на валидации для лучшей линейной регрессии L2: 35.36797836647195\n",
      "CPU times: total: 9.7 s\n",
      "Wall time: 1.64 s\n"
     ]
    },
    {
     "name": "stderr",
     "output_type": "stream",
     "text": [
      "\n"
     ]
    }
   ],
   "source": [
    "%%time\n",
    "\n",
    "best_ridge_model = None\n",
    "best_score_rmse = 300  # 300 заведомо выше оценки\n",
    "\n",
    "for i_tol in range(1, 200,10):\n",
    "    for i_alpha in tqdm(range(1, 200, 10)):\n",
    "        ridge_model = Ridge(alpha=i_alpha*0.01, \n",
    "                            tol=i_tol*0.00001, \n",
    "                            random_state=RANDOM)\n",
    "        ridge_model.fit(X_train, y_train)\n",
    "        score_rmse = mean_squared_error(y_valid, \n",
    "                                        ridge_model.predict(X_valid)) ** 0.5\n",
    "        if score_rmse < best_score_rmse:\n",
    "            best_ridge_model = ridge_model\n",
    "            best_score_rmse = score_rmse\n",
    "        \n",
    "print(f'\\nЛучшая модель линейной регрессии L2: {best_ridge_model}\\n'\n",
    "      f'Значение RMSE полученное на валидации для лучшей линейной регрессии L2: {best_score_rmse}')"
   ]
  },
  {
   "cell_type": "markdown",
   "metadata": {},
   "source": [
    "### Модель RandomForestRegressor"
   ]
  },
  {
   "cell_type": "code",
   "execution_count": 22,
   "metadata": {},
   "outputs": [
    {
     "name": "stderr",
     "output_type": "stream",
     "text": [
      "100%|██████████████████████████████████████████████████████████████████████████████████| 12/12 [00:18<00:00,  1.54s/it]"
     ]
    },
    {
     "name": "stdout",
     "output_type": "stream",
     "text": [
      "\n",
      "Лучшая модель случайного леса: RandomForestRegressor(max_depth=26, n_estimators=600, n_jobs=-1,\n",
      "                      random_state=1111)\n",
      "Значение RMSE полученное на валидации для лучшего случайного леса: 35.60587808371827\n",
      "CPU times: total: 2min 54s\n",
      "Wall time: 18.5 s\n"
     ]
    },
    {
     "name": "stderr",
     "output_type": "stream",
     "text": [
      "\n"
     ]
    }
   ],
   "source": [
    "%%time\n",
    "\n",
    "best_forest_model = None\n",
    "best_score_rmse = 300  # 300 заведомо выше оценки\n",
    "\n",
    "for depth in tqdm(range(6, 30, 2)):\n",
    "    forest_model = RandomForestRegressor(max_depth = depth, \n",
    "                                         n_estimators=600, \n",
    "                                         random_state=RANDOM, \n",
    "                                         n_jobs=-1)\n",
    "    forest_model.fit(X_train, y_train)\n",
    "    score_rmse = mean_squared_error(y_valid, \n",
    "                                    forest_model.predict(X_valid)) ** 0.5\n",
    "    if score_rmse < best_score_rmse:\n",
    "        best_forest_model = forest_model\n",
    "        best_score_rmse = score_rmse\n",
    "        \n",
    "print(f'\\nЛучшая модель случайного леса: {best_forest_model}\\n'\n",
    "      f'Значение RMSE полученное на валидации для лучшего случайного леса: {best_score_rmse}')"
   ]
  },
  {
   "cell_type": "markdown",
   "metadata": {},
   "source": [
    "### Модель CatBoostRegressor"
   ]
  },
  {
   "cell_type": "code",
   "execution_count": 23,
   "metadata": {},
   "outputs": [
    {
     "name": "stderr",
     "output_type": "stream",
     "text": [
      "100%|████████████████████████████████████████████████████████████████████████████████████| 6/6 [07:25<00:00, 74.25s/it]\n",
      "100%|████████████████████████████████████████████████████████████████████████████████████| 6/6 [08:40<00:00, 86.79s/it]\n",
      "100%|████████████████████████████████████████████████████████████████████████████████████| 6/6 [09:54<00:00, 99.14s/it]"
     ]
    },
    {
     "name": "stdout",
     "output_type": "stream",
     "text": [
      "\n",
      "Лучшая модель CatBoostRegressor: <catboost.core.CatBoostRegressor object at 0x0000017BD5B4B910>\n",
      "Значение RMSE полученное на валидации для лучшего CatBoostRegressor: 38.05274080754487\n",
      "CPU times: total: 2h 37min 12s\n",
      "Wall time: 26min 1s\n"
     ]
    },
    {
     "name": "stderr",
     "output_type": "stream",
     "text": [
      "\n"
     ]
    }
   ],
   "source": [
    "%%time\n",
    "\n",
    "best_catb_model = None\n",
    "best_score_rmse = 300  # 300 заведомо выше оценки\n",
    "\n",
    "for iterations in range(600, 801, 100):\n",
    "    for depth in tqdm(range(6, 17, 2)):\n",
    "        catb_model = CatBoostRegressor(iterations=iterations, \n",
    "                                       max_depth=depth, \n",
    "                                       learning_rate=1, \n",
    "                                       random_state=RANDOM, \n",
    "                                       verbose=False)\n",
    "        catb_model.fit(X_train, y_train)\n",
    "        score_rmse = mean_squared_error(y_valid, \n",
    "                                        catb_model.predict(X_valid)) ** 0.5\n",
    "        if score_rmse < best_score_rmse:\n",
    "            best_catb_model = catb_model\n",
    "            best_score_rmse = score_rmse\n",
    "        \n",
    "print(f'\\nЛучшая модель CatBoostRegressor: {best_catb_model}\\n'\n",
    "      f'Значение RMSE полученное на валидации для лучшего CatBoostRegressor: {best_score_rmse}')"
   ]
  },
  {
   "cell_type": "markdown",
   "metadata": {},
   "source": [
    "### Модель LGBMRegressor"
   ]
  },
  {
   "cell_type": "code",
   "execution_count": 24,
   "metadata": {
    "scrolled": true
   },
   "outputs": [
    {
     "name": "stderr",
     "output_type": "stream",
     "text": [
      "100%|████████████████████████████████████████████████████████████████████████████████████| 6/6 [00:18<00:00,  3.04s/it]\n",
      "100%|████████████████████████████████████████████████████████████████████████████████████| 6/6 [00:18<00:00,  3.12s/it]\n",
      "100%|████████████████████████████████████████████████████████████████████████████████████| 6/6 [00:18<00:00,  3.16s/it]\n",
      "100%|████████████████████████████████████████████████████████████████████████████████████| 6/6 [00:18<00:00,  3.10s/it]\n",
      "100%|████████████████████████████████████████████████████████████████████████████████████| 6/6 [00:18<00:00,  3.10s/it]\n",
      "100%|████████████████████████████████████████████████████████████████████████████████████| 6/6 [00:20<00:00,  3.37s/it]\n",
      "100%|████████████████████████████████████████████████████████████████████████████████████| 6/6 [00:20<00:00,  3.37s/it]\n",
      "100%|████████████████████████████████████████████████████████████████████████████████████| 6/6 [00:20<00:00,  3.35s/it]\n",
      "100%|████████████████████████████████████████████████████████████████████████████████████| 6/6 [00:19<00:00,  3.26s/it]\n",
      "100%|████████████████████████████████████████████████████████████████████████████████████| 6/6 [00:20<00:00,  3.42s/it]\n",
      "100%|████████████████████████████████████████████████████████████████████████████████████| 6/6 [00:22<00:00,  3.74s/it]\n",
      "100%|████████████████████████████████████████████████████████████████████████████████████| 6/6 [00:21<00:00,  3.51s/it]\n",
      "100%|████████████████████████████████████████████████████████████████████████████████████| 6/6 [00:21<00:00,  3.58s/it]\n",
      "100%|████████████████████████████████████████████████████████████████████████████████████| 6/6 [00:20<00:00,  3.46s/it]\n",
      "100%|████████████████████████████████████████████████████████████████████████████████████| 6/6 [00:20<00:00,  3.42s/it]"
     ]
    },
    {
     "name": "stdout",
     "output_type": "stream",
     "text": [
      "\n",
      "Лучшая модель LGBMRegressor: LGBMRegressor(max_depth=6, min_child_samples=130, n_estimators=800,\n",
      "              num_leaves=64, random_state=1111)\n",
      "Значение RMSE полученное на валидации для лучшего LGBMRegressor: 33.85986919715457\n",
      "CPU times: total: 19min 57s\n",
      "Wall time: 5min\n"
     ]
    },
    {
     "name": "stderr",
     "output_type": "stream",
     "text": [
      "\n"
     ]
    }
   ],
   "source": [
    "%%time\n",
    "\n",
    "best_lgbm_model = None\n",
    "best_score_rmse = 300  # 300 заведомо выше оценки\n",
    "\n",
    "for iterations in range(600, 801, 100):\n",
    "    for min_child_samples in range(100, 141, 10):\n",
    "        for depth in tqdm(range(6, 18, 2)):\n",
    "            lgbm_model = LGBMRegressor(n_estimators=iterations, \n",
    "                                       max_depth=depth, \n",
    "                                       num_leaves=2**depth, \n",
    "                                       min_child_samples=min_child_samples, \n",
    "                                       random_state=RANDOM, \n",
    "                                       n_jobs=-1)\n",
    "            lgbm_model.fit(X_train, y_train)\n",
    "            score_rmse = mean_squared_error(y_valid, \n",
    "                                            lgbm_model.predict(X_valid)) ** 0.5\n",
    "            if score_rmse < best_score_rmse:\n",
    "                best_lgbm_model = lgbm_model\n",
    "                best_score_rmse = score_rmse\n",
    "        \n",
    "print(f'\\nЛучшая модель LGBMRegressor: {best_lgbm_model}\\n'\n",
    "      f'Значение RMSE полученное на валидации для лучшего LGBMRegressor: {best_score_rmse}')"
   ]
  },
  {
   "cell_type": "markdown",
   "metadata": {},
   "source": [
    "<div class=\"alert alert-success\" style=\"border-color: green; border-radius: 5px\">\n",
    "    <p><u><b>✅ КОММЕНТАРИЙ РЕВЬЮЕРА</b></u></p>СУПЕР!!! Не все модели прогнал - время много((( Но по коду - ОК. Здорово с картинкой успешности)"
   ]
  },
  {
   "cell_type": "markdown",
   "metadata": {},
   "source": [
    "## Тестирование"
   ]
  },
  {
   "cell_type": "markdown",
   "metadata": {},
   "source": [
    "Сравним результаты предсказаний для лучших моделей на тестовой выборке и выберем модель с меньшим значением RMSE."
   ]
  },
  {
   "cell_type": "markdown",
   "metadata": {},
   "source": [
    "### Объединение обучающей и валидационной выборок"
   ]
  },
  {
   "cell_type": "code",
   "execution_count": 25,
   "metadata": {},
   "outputs": [],
   "source": [
    "X_train = pd.concat([X_train, X_valid])\n",
    "y_train = pd.concat([y_train, y_valid])"
   ]
  },
  {
   "cell_type": "markdown",
   "metadata": {},
   "source": [
    "### Функция анализа модели.\n",
    "Функция производит переобучение модели по объединенной обучающей и валидационной выборке, а также измеряет время процессов обучения и предсказания."
   ]
  },
  {
   "cell_type": "code",
   "execution_count": 26,
   "metadata": {},
   "outputs": [],
   "source": [
    "def model_test(model):\n",
    "\n",
    "    # обучение модели с замером времени \n",
    "    time_fit_start = time()\n",
    "    model.fit(X_train, y_train)\n",
    "    time_fit = time()-time_fit_start\n",
    "    # предсказание модели с замером времени\n",
    "    time_predict_start = time()\n",
    "    predict = model.predict(X_test)\n",
    "    time_predict = time()-time_predict_start\n",
    "    \n",
    "    return time_fit, time_predict, mean_squared_error(y_test, predict) ** 0.5, predict"
   ]
  },
  {
   "cell_type": "markdown",
   "metadata": {},
   "source": [
    "### Применение функции к лучшим моделям."
   ]
  },
  {
   "cell_type": "code",
   "execution_count": 27,
   "metadata": {},
   "outputs": [],
   "source": [
    "# шаблон таблицы для результатов\n",
    "result_models_test = pd.DataFrame(columns=['model','time_fit','time_predict','rmse'])\n",
    "# шаблон таблицы для предсказаний\n",
    "predict_models = pd.DataFrame(y_test)\n",
    "# добавление в таблицу  модели сглаживания Хольта-Винтерса\n",
    "result_models_test = pd.concat([result_models_test,\n",
    "                                pd.DataFrame({'model':['holtwinters'],\n",
    "                                              'time_fit':[time_fit_HW],\n",
    "                                              'time_predict':[time_predict_HW],\n",
    "                                              'rmse':[score_rmse_HW]})\n",
    "                               ])\n",
    "# добавление в таблицу предсказания моделиХольта-Винтерса\n",
    "predict_models = pd.concat([predict_models, \n",
    "                            pd.DataFrame(predict_HW, columns=['predict_HW'], \n",
    "                                         index=y_test.index)], axis=1)\n",
    "\n",
    "# применение функции к лучшим моделям\n",
    "for best_model in [(best_lasso_model,'lasso'), \n",
    "                   (best_ridge_model,'ridge'), \n",
    "                   (best_forest_model,'forest'), \n",
    "                   (best_catb_model,'catboost'), \n",
    "                   (best_lgbm_model,'lgbm')]:\n",
    "    time_fit,time_predict,rmse, predict = model_test(best_model[0])\n",
    "    result_models_test = pd.concat([result_models_test,\n",
    "                                    pd.DataFrame({'model':[best_model[1]],\n",
    "                                                  'time_fit':[time_fit],\n",
    "                                                  'time_predict':[time_predict],\n",
    "                                                  'rmse':[rmse]})\n",
    "                                   ])\n",
    "    predict_models = pd.concat([predict_models, \n",
    "                                pd.DataFrame(predict, columns=[f'predict_{best_model[1]}'], \n",
    "                                             index=y_test.index)], axis=1)\n",
    "    \n",
    "result_models_test.reset_index(drop=True, inplace=True)"
   ]
  },
  {
   "cell_type": "markdown",
   "metadata": {},
   "source": [
    "Результат анализа моделей представлен в таблице:\n",
    "- model - модель с параметрами,\n",
    "- time_fit - время обучения (сек.),\n",
    "- time_predict - время предсказания на тестовой выборке (сек.),\n",
    "- rmse - качество на тестовой выборке."
   ]
  },
  {
   "cell_type": "code",
   "execution_count": 28,
   "metadata": {},
   "outputs": [
    {
     "data": {
      "text/html": [
       "<div>\n",
       "<style scoped>\n",
       "    .dataframe tbody tr th:only-of-type {\n",
       "        vertical-align: middle;\n",
       "    }\n",
       "\n",
       "    .dataframe tbody tr th {\n",
       "        vertical-align: top;\n",
       "    }\n",
       "\n",
       "    .dataframe thead th {\n",
       "        text-align: right;\n",
       "    }\n",
       "</style>\n",
       "<table border=\"1\" class=\"dataframe\">\n",
       "  <thead>\n",
       "    <tr style=\"text-align: right;\">\n",
       "      <th></th>\n",
       "      <th>model</th>\n",
       "      <th>time_fit</th>\n",
       "      <th>time_predict</th>\n",
       "      <th>rmse</th>\n",
       "    </tr>\n",
       "  </thead>\n",
       "  <tbody>\n",
       "    <tr>\n",
       "      <th>0</th>\n",
       "      <td>holtwinters</td>\n",
       "      <td>0.415094</td>\n",
       "      <td>0.04501</td>\n",
       "      <td>40.428756</td>\n",
       "    </tr>\n",
       "    <tr>\n",
       "      <th>1</th>\n",
       "      <td>lasso</td>\n",
       "      <td>0.024005</td>\n",
       "      <td>0.001</td>\n",
       "      <td>47.274644</td>\n",
       "    </tr>\n",
       "    <tr>\n",
       "      <th>2</th>\n",
       "      <td>ridge</td>\n",
       "      <td>0.004002</td>\n",
       "      <td>0.000999</td>\n",
       "      <td>45.96209</td>\n",
       "    </tr>\n",
       "    <tr>\n",
       "      <th>3</th>\n",
       "      <td>forest</td>\n",
       "      <td>2.017457</td>\n",
       "      <td>0.060014</td>\n",
       "      <td>49.162437</td>\n",
       "    </tr>\n",
       "    <tr>\n",
       "      <th>4</th>\n",
       "      <td>catboost</td>\n",
       "      <td>25.44113</td>\n",
       "      <td>0.004001</td>\n",
       "      <td>50.157068</td>\n",
       "    </tr>\n",
       "    <tr>\n",
       "      <th>5</th>\n",
       "      <td>lgbm</td>\n",
       "      <td>0.215048</td>\n",
       "      <td>0.004001</td>\n",
       "      <td>45.797162</td>\n",
       "    </tr>\n",
       "  </tbody>\n",
       "</table>\n",
       "</div>"
      ],
      "text/plain": [
       "         model  time_fit time_predict       rmse\n",
       "0  holtwinters  0.415094      0.04501  40.428756\n",
       "1        lasso  0.024005        0.001  47.274644\n",
       "2        ridge  0.004002     0.000999   45.96209\n",
       "3       forest  2.017457     0.060014  49.162437\n",
       "4     catboost  25.44113     0.004001  50.157068\n",
       "5         lgbm  0.215048     0.004001  45.797162"
      ]
     },
     "metadata": {},
     "output_type": "display_data"
    }
   ],
   "source": [
    "display(result_models_test)"
   ]
  },
  {
   "cell_type": "markdown",
   "metadata": {},
   "source": [
    "Сводная таблица предсказаний для всех моделей и факта."
   ]
  },
  {
   "cell_type": "code",
   "execution_count": 29,
   "metadata": {},
   "outputs": [
    {
     "data": {
      "text/html": [
       "<div>\n",
       "<style scoped>\n",
       "    .dataframe tbody tr th:only-of-type {\n",
       "        vertical-align: middle;\n",
       "    }\n",
       "\n",
       "    .dataframe tbody tr th {\n",
       "        vertical-align: top;\n",
       "    }\n",
       "\n",
       "    .dataframe thead th {\n",
       "        text-align: right;\n",
       "    }\n",
       "</style>\n",
       "<table border=\"1\" class=\"dataframe\">\n",
       "  <thead>\n",
       "    <tr style=\"text-align: right;\">\n",
       "      <th></th>\n",
       "      <th>num_orders</th>\n",
       "      <th>predict_HW</th>\n",
       "      <th>predict_lasso</th>\n",
       "      <th>predict_ridge</th>\n",
       "      <th>predict_forest</th>\n",
       "      <th>predict_catboost</th>\n",
       "      <th>predict_lgbm</th>\n",
       "    </tr>\n",
       "    <tr>\n",
       "      <th>datetime</th>\n",
       "      <th></th>\n",
       "      <th></th>\n",
       "      <th></th>\n",
       "      <th></th>\n",
       "      <th></th>\n",
       "      <th></th>\n",
       "      <th></th>\n",
       "    </tr>\n",
       "  </thead>\n",
       "  <tbody>\n",
       "    <tr>\n",
       "      <th>2018-08-13 15:00:00</th>\n",
       "      <td>175</td>\n",
       "      <td>139.293548</td>\n",
       "      <td>118.162774</td>\n",
       "      <td>119.355217</td>\n",
       "      <td>108.549403</td>\n",
       "      <td>112.273106</td>\n",
       "      <td>115.976106</td>\n",
       "    </tr>\n",
       "    <tr>\n",
       "      <th>2018-08-13 16:00:00</th>\n",
       "      <td>144</td>\n",
       "      <td>179.501036</td>\n",
       "      <td>154.563503</td>\n",
       "      <td>155.896823</td>\n",
       "      <td>160.091014</td>\n",
       "      <td>191.011028</td>\n",
       "      <td>157.770493</td>\n",
       "    </tr>\n",
       "    <tr>\n",
       "      <th>2018-08-13 17:00:00</th>\n",
       "      <td>152</td>\n",
       "      <td>154.514792</td>\n",
       "      <td>124.900609</td>\n",
       "      <td>124.425638</td>\n",
       "      <td>153.919077</td>\n",
       "      <td>132.392218</td>\n",
       "      <td>181.791693</td>\n",
       "    </tr>\n",
       "    <tr>\n",
       "      <th>2018-08-13 18:00:00</th>\n",
       "      <td>104</td>\n",
       "      <td>102.928486</td>\n",
       "      <td>110.291619</td>\n",
       "      <td>108.684213</td>\n",
       "      <td>105.755000</td>\n",
       "      <td>92.385554</td>\n",
       "      <td>127.512057</td>\n",
       "    </tr>\n",
       "    <tr>\n",
       "      <th>2018-08-13 19:00:00</th>\n",
       "      <td>91</td>\n",
       "      <td>119.152688</td>\n",
       "      <td>114.424841</td>\n",
       "      <td>115.289018</td>\n",
       "      <td>126.481270</td>\n",
       "      <td>130.158787</td>\n",
       "      <td>128.538584</td>\n",
       "    </tr>\n",
       "  </tbody>\n",
       "</table>\n",
       "</div>"
      ],
      "text/plain": [
       "                     num_orders  predict_HW  predict_lasso  predict_ridge  \\\n",
       "datetime                                                                    \n",
       "2018-08-13 15:00:00         175  139.293548     118.162774     119.355217   \n",
       "2018-08-13 16:00:00         144  179.501036     154.563503     155.896823   \n",
       "2018-08-13 17:00:00         152  154.514792     124.900609     124.425638   \n",
       "2018-08-13 18:00:00         104  102.928486     110.291619     108.684213   \n",
       "2018-08-13 19:00:00          91  119.152688     114.424841     115.289018   \n",
       "\n",
       "                     predict_forest  predict_catboost  predict_lgbm  \n",
       "datetime                                                             \n",
       "2018-08-13 15:00:00      108.549403        112.273106    115.976106  \n",
       "2018-08-13 16:00:00      160.091014        191.011028    157.770493  \n",
       "2018-08-13 17:00:00      153.919077        132.392218    181.791693  \n",
       "2018-08-13 18:00:00      105.755000         92.385554    127.512057  \n",
       "2018-08-13 19:00:00      126.481270        130.158787    128.538584  "
      ]
     },
     "metadata": {},
     "output_type": "display_data"
    }
   ],
   "source": [
    "display(predict_models.head())"
   ]
  },
  {
   "cell_type": "markdown",
   "metadata": {},
   "source": [
    "Отрисовка сравнения временных радов предсказаний моделей с фактическим значением."
   ]
  },
  {
   "cell_type": "code",
   "execution_count": 30,
   "metadata": {
    "scrolled": true
   },
   "outputs": [
    {
     "data": {
      "image/png": "[encoded data removed]",
      "text/plain": [
       "<Figure size 1080x360 with 1 Axes>"
      ]
     },
     "metadata": {},
     "output_type": "display_data"
    },
    {
     "data": {
      "image/png": "[encoded data removed]",
      "text/plain": [
       "<Figure size 1080x360 with 1 Axes>"
      ]
     },
     "metadata": {},
     "output_type": "display_data"
    },
    {
     "data": {
      "image/png": "[encoded data removed]",
      "text/plain": [
       "<Figure size 1080x360 with 1 Axes>"
      ]
     },
     "metadata": {},
     "output_type": "display_data"
    },
    {
     "data": {
      "image/png": "[encoded data removed]",
      "text/plain": [
       "<Figure size 1080x360 with 1 Axes>"
      ]
     },
     "metadata": {},
     "output_type": "display_data"
    },
    {
     "data": {
      "image/png": "[encoded data removed]",
      "text/plain": [
       "<Figure size 1080x360 with 1 Axes>"
      ]
     },
     "metadata": {},
     "output_type": "display_data"
    },
    {
     "data": {
      "image/png": "[encoded data removed]",
      "text/plain": [
       "<Figure size 1080x360 with 1 Axes>"
      ]
     },
     "metadata": {},
     "output_type": "display_data"
    }
   ],
   "source": [
    "date_begin = '2018-08-14'# начало графика\n",
    "date_end = '2018-08-15'  # конец графика\n",
    "\n",
    "for model in ('HW','lasso','ridge','forest','catboost','lgbm'):\n",
    "    plt.suptitle(f'Сравнение признака num_orders и предсказания модели {model}', fontsize=14)\n",
    "    sns.lineplot(data=predict_models[date_begin : date_end][['num_orders',f'predict_{model}']])\n",
    "    plt.show()"
   ]
  },
  {
   "cell_type": "markdown",
   "metadata": {},
   "source": [
    "## Вывод.\n",
    "Все обученные модели преодолели изначально заданный порог RMSE в 48.\n",
    "\n",
    "Лучшей моделью оказалась модель на основе экспоненциального сглаживания Хольта-Винтерса со значением RMSE 36.44.\n",
    "Вероятно это связано с лучшим реагировани на тренд увеличения в конце временного ряда, в котором находилась тестовая выборка.\n",
    "\n",
    "Второе место по качеству (RMSE 41.7) заняла модель линейной регрессии с L2-регуляризацией, при этом скорости обучения и предсказания у неё наилучшие из всех моделей.\n"
   ]
  },
  {
   "cell_type": "markdown",
   "metadata": {},
   "source": [
    "<div class=\"alert alert-block alert-info\" style=\"border-color: darkblue; border-radius: 5px\">\n",
    "    <p><u><b> Комментарий студента</b></u></p>\n",
    "\n",
    "Выводы съехали из-за ухудшения качества моделей по причине оставленных 4-х выбросов (не думал, что они так сильно скажутся).\n",
    "    \n",
    "1) Лучшей по прежнему осталась модель Хольта-Винтерса со значением RMSE 40.4,\n",
    "    \n",
    "2) Две модели не смогли преодолеть рубеж RMSE 48: CatBoost, RandomForest,\n",
    "    \n",
    "3) Все модели примерно равно увеличили значение RMSE."
   ]
  },
  {
   "cell_type": "markdown",
   "metadata": {},
   "source": [
    "<div class=\"alert alert-success\" style=\"border-color: green; border-radius: 5px\">\n",
    "    <p><u><b>✅ КОММЕНТАРИЙ РЕВЬЮЕРА</b></u></p>\n",
    "ОК, Денис, с модельной частью тебе удалось справиться хорошо!<br>\n",
    "Видно, что этот скил уже достаточно сильный.<br>\n",
    "Метрика - ОК. Но не понятно, если честно, а хороша ли эта модель в плане предсказания? Для этого лучше построить дополнительно график (чуть ниженаписал об этом).<br>\n",
    "    \n",
    "И если сутейно рассуждать, то временные ряды стоят особняком во всём курсе, я бы сказал. Тут чуть иная модельная философия. Имменно поэтому позволял себе оставлять большие рассуждения, чтобы как-то раскрыть её особенности.<br>\n",
    "        \n",
    "Оставил несколько комментариев в тексте - готов буду ответить на твои вопросы!<br>\n",
    "<font color='red'>    \n",
    "Также попрошу вот что:<br>\n",
    "Выведи, пожалуйста графики факт/предсказанное на одном рисунке (обычный линейный график). Чтобы увидеть где основные не \"попадалки\" модели. Это один из важнейших инструментов анализа результатов моделирования временных рядов.<br>\n",
    "Лучше выбрать масштаб, скажем, несколько дней, чтобы увиеть можо было и сравнить каждый час.<br>    \n",
    "<font color='green'>\n",
    "Спасибо)<BR>\n",
    "БУДУ ЖДАТЬ КОММЕНТАРИЕВ</div> "
   ]
  },
  {
   "cell_type": "markdown",
   "metadata": {},
   "source": [
    "<div class=\"alert alert-block alert-info\" style=\"border-color: darkblue; border-radius: 5px\">\n",
    "    <p><u><b> Комментарий студента</b></u></p>\n",
    "\n",
    "Ценное замечание по отрисовке графиков, действительно позволяет лучше увидеть, что делает модель.\n",
    "\n",
    "Выше добавил создание таблицы с предсказаниями по всме моделям и отрисовал пары: факт и каждое предсказание."
   ]
  },
  {
   "cell_type": "markdown",
   "metadata": {},
   "source": [
    "<div class=\"alert alert-success\" style=\"border-color: green; border-radius: 5px\">\n",
    "    <p><u><b>✅ КОММЕНТАРИЙ РЕВЬЮЕРА 2</b></u></p>\n",
    "    <p>👍👍</p>\n",
    "</div>"
   ]
  },
  {
   "attachments": {
    "image.png": {
     "image/png": "[encoded data removed]"
    }
   },
   "cell_type": "markdown",
   "metadata": {},
   "source": [
    "![image.png](attachment:image.png)"
   ]
  },
  {
   "cell_type": "markdown",
   "metadata": {},
   "source": [
    "<div class=\"alert alert-success\" style=\"border-color: green; border-radius: 5px\">\n",
    "    <p><u><b>✅ КОММЕНТАРИЙ РЕВЬЮЕРА</b></u></p>\n",
    "Хотел бы оставить несколько идей для твоих будущих проектов в этой обоасти<br>\n",
    "\n",
    "На мой взгляд, в этой теме (временные ряды) главное - необходимо чувствовать исходный ряд продаж, с точки зрения бизнеса, и уже только потом подбирать к нему модели. Каждое колебание временного ряда - это деньги для бизнеса (если говорим что заказчик бизнесовый) и за \"трепетами\" данных прячутся разные семейства причин. И именно знание их помогут строить хорошие прогнозы..<br>.\n",
    "Леса, бустинги, регрессии.... могут подобрать хорошие модели на старых данных. Но иногда, как прогноз эти, модели могут оказаться пустышками - не интересными бизнесу. <br>  <br>\n",
    "Поэтому, от себя позволю добавить несколько идей:<br>\n",
    "Очень часто ищут \"волшебную таблетку\" или \"кнопку\". Нажал и само всё построилось с высокой точностью<br>\n",
    "Но такого никогода не будет)))<br>\n",
    "И причиной тому: модели нужно подсказать причины, по которым происходит колебания продаж (временного ряда): понимать причины колебаний треда, понимать аномалии, учитывать акционные продажи, видеть действия конкурентов , закладывать их в модель и т.д. <br><br>\n",
    "В общем, всё как обычно - три группы факторов: <br>\n",
    "1)внешние факторы (например выручка такси-компании зависит от количества машин на линии),<br>\n",
    "2)есть факторы внутри самих данных (Вы использовали как раз поняти лаг, сезонности), <br>\n",
    "3)есть параметры самих моделей (то, что обычно используется при моделировании леса или деревьев).<br><br>\n",
    "\n",
    "Ещё важно иметь ввиду горизонт прогноза: на кокой период строить прогноз нужно  - на час вперёд, на неделю, на месяц.<br>\n",
    "Это также накладывает ограничения на подбор моделей<br>\n",
    "Я бы рекомендовал Вам составить для себя матрицу  в разрезе: <br>\n",
    "а)есть тренд/нет тренда; <br>\n",
    "б)еть сезоннотсь/нет сезонности; <br>\n",
    "в)какой горизонт прогноза требуется; <br>\n",
    "г) есть ли у нас дополнительные факторы для модей<br>\n",
    "На пересечении знаний о моделях легко будет подобрать адкватную модель.\n",
    "Не все задачи прогнозирования временных рядов можно хорошо решить лесом и еже с ним на основе знаний только факторов ряда... Они хорошо подойдут для коротких горизонтов прогнозирования.... А если горизонт чуть больше: недели, месяцы... то тут надо подключать понимания фаткоров продаж самого бизнеса.</div> "
   ]
  },
  {
   "cell_type": "markdown",
   "metadata": {},
   "source": [
    "<div class=\"alert alert-block alert-info\" style=\"border-color: darkblue; border-radius: 5px\">\n",
    "    <p><u><b> Комментарий студента</b></u></p>\n",
    "\n",
    "Спасибо за ценные советы.\n",
    "    \n",
    "    И причиной тому: модели нужно подсказать причины, по которым происходит колебания продаж (временного ряда): понимать причины колебаний треда, понимать аномалии, учитывать акционные продажи, видеть действия конкурентов , закладывать их в модель и т.д.\n",
    "    \n",
    "Я правильно понял, что подсказкой для модели будут служить найденные новые признаки (может в бизнесе или каких то других сферах... прогноз погоды например, которые могут иметь значимость для модели, но небыли изначально предоставлены бизнесом)? Это уже вопрос опыта и интуиции, догадаться что может пригодиться.\n",
    "    \n",
    "Спасибо за ревью! Жалею, что на временные ряды отведена только неделя."
   ]
  },
  {
   "cell_type": "markdown",
   "metadata": {},
   "source": [
    "<div class=\"alert alert-success\" style=\"border-color: green; border-radius: 5px\">\n",
    "    <p><u><b>✅ КОММЕНТАРИЙ РЕВЬЮЕРА 2</b></u></p>\n",
    "Да, новый признаки на основе знания самого бизнеса и особенностей продаж могут существенно помочь.<br>\n",
    "СПАСИБО, Денис, за отклик. РАД, что смог помочь подразобраться с этой темой.<br>\n",
    "\n",
    "Тут много ещё что можно сказать по самой теме...<br>\n",
    "Если будет возможность тебе однозначно интересно посмотреть разные практические истории вот здесь:<br>\n",
    "https://ibf.org/knowledge - заморский институт бизнес-прогнозирования.<br>\n",
    "Там и статьи можно накопать, и методы посмомтерть...<br>\n",
    "\n",
    "Есть классический труд (он НЕ ML, а исключительно на эксель). Но для понимания сути временных рядов - то, что надо:<br>\n",
    "УИЧЕРН \"Бизнес-прогнозирование\"<br>\n",
    "\n",
    "Идеологически по системе прогнозирования, интересно почитать<br>\n",
    "ТОМАС УОЛЛАС, Р. СТАЛЬ \"планирование продаж и операций\" SO&P<br><br>     \n",
    "\n",
    "Спасибо за проект)<br>\n",
    "УСПЕШНОГО ДАЛЬНЕЙШЕГО ОБЧЕНИЯ!</div>"
   ]
  },
  {
   "cell_type": "code",
   "execution_count": null,
   "metadata": {},
   "outputs": [],
   "source": []
  }
 ],
 "metadata": {
  "ExecuteTimeLog": [
   {
    "duration": 1961,
    "start_time": "2022-07-12T08:05:18.134Z"
   },
   {
    "duration": 252,
    "start_time": "2022-07-12T08:05:21.680Z"
   },
   {
    "duration": 88,
    "start_time": "2022-07-12T08:05:50.419Z"
   },
   {
    "duration": 146,
    "start_time": "2022-07-12T08:06:29.593Z"
   },
   {
    "duration": 35,
    "start_time": "2022-07-12T08:06:40.648Z"
   },
   {
    "duration": 5,
    "start_time": "2022-07-12T08:08:08.242Z"
   },
   {
    "duration": 62,
    "start_time": "2022-07-12T08:08:08.729Z"
   },
   {
    "duration": 38,
    "start_time": "2022-07-12T08:08:10.458Z"
   },
   {
    "duration": 214,
    "start_time": "2022-07-12T08:09:48.437Z"
   },
   {
    "duration": 132,
    "start_time": "2022-07-12T08:10:02.225Z"
   },
   {
    "duration": 478,
    "start_time": "2022-07-12T08:10:08.191Z"
   },
   {
    "duration": 410,
    "start_time": "2022-07-12T08:13:50.880Z"
   },
   {
    "duration": 433,
    "start_time": "2022-07-12T08:14:06.787Z"
   },
   {
    "duration": 498,
    "start_time": "2022-07-12T08:15:04.058Z"
   },
   {
    "duration": 8,
    "start_time": "2022-07-12T08:16:27.495Z"
   },
   {
    "duration": 615,
    "start_time": "2022-07-12T08:16:39.102Z"
   },
   {
    "duration": 6,
    "start_time": "2022-07-12T08:17:28.751Z"
   },
   {
    "duration": 471,
    "start_time": "2022-07-12T08:17:32.426Z"
   },
   {
    "duration": 3,
    "start_time": "2022-07-12T08:27:30.834Z"
   },
   {
    "duration": 11,
    "start_time": "2022-07-12T08:31:54.419Z"
   },
   {
    "duration": 8,
    "start_time": "2022-07-12T08:32:11.142Z"
   },
   {
    "duration": 13,
    "start_time": "2022-07-12T08:32:25.750Z"
   },
   {
    "duration": 11,
    "start_time": "2022-07-12T08:33:10.930Z"
   },
   {
    "duration": 13,
    "start_time": "2022-07-12T08:33:22.281Z"
   },
   {
    "duration": 4,
    "start_time": "2022-07-12T08:33:31.373Z"
   },
   {
    "duration": 9,
    "start_time": "2022-07-12T08:33:34.262Z"
   },
   {
    "duration": 10,
    "start_time": "2022-07-12T08:33:41.182Z"
   },
   {
    "duration": 1997,
    "start_time": "2022-07-12T08:34:06.124Z"
   },
   {
    "duration": 1835,
    "start_time": "2022-07-12T08:34:13.701Z"
   },
   {
    "duration": 48,
    "start_time": "2022-07-12T08:34:15.539Z"
   },
   {
    "duration": 515,
    "start_time": "2022-07-12T08:34:15.589Z"
   },
   {
    "duration": 24,
    "start_time": "2022-07-12T08:34:16.107Z"
   },
   {
    "duration": 35,
    "start_time": "2022-07-12T08:34:16.136Z"
   },
   {
    "duration": 17,
    "start_time": "2022-07-12T08:36:41.830Z"
   },
   {
    "duration": 13,
    "start_time": "2022-07-12T08:36:43.835Z"
   },
   {
    "duration": 8,
    "start_time": "2022-07-12T08:38:34.225Z"
   },
   {
    "duration": 283,
    "start_time": "2022-07-12T08:38:51.868Z"
   },
   {
    "duration": 378,
    "start_time": "2022-07-12T08:39:47.337Z"
   },
   {
    "duration": 420,
    "start_time": "2022-07-12T08:40:03.578Z"
   },
   {
    "duration": 406,
    "start_time": "2022-07-12T08:41:28.349Z"
   },
   {
    "duration": 4858,
    "start_time": "2022-07-12T08:41:53.079Z"
   },
   {
    "duration": 962,
    "start_time": "2022-07-12T08:43:28.252Z"
   },
   {
    "duration": 719,
    "start_time": "2022-07-12T08:43:47.162Z"
   },
   {
    "duration": 3,
    "start_time": "2022-07-12T08:47:27.750Z"
   },
   {
    "duration": 1547,
    "start_time": "2022-07-12T08:47:52.925Z"
   },
   {
    "duration": 54,
    "start_time": "2022-07-12T08:47:54.475Z"
   },
   {
    "duration": 449,
    "start_time": "2022-07-12T08:47:54.531Z"
   },
   {
    "duration": 21,
    "start_time": "2022-07-12T08:47:54.982Z"
   },
   {
    "duration": 13,
    "start_time": "2022-07-12T08:47:55.010Z"
   },
   {
    "duration": 12,
    "start_time": "2022-07-12T08:47:55.024Z"
   },
   {
    "duration": 13,
    "start_time": "2022-07-12T08:47:55.038Z"
   },
   {
    "duration": 1554,
    "start_time": "2022-07-12T10:08:02.451Z"
   },
   {
    "duration": 51,
    "start_time": "2022-07-12T10:08:04.008Z"
   },
   {
    "duration": 463,
    "start_time": "2022-07-12T10:08:04.062Z"
   },
   {
    "duration": 11,
    "start_time": "2022-07-12T10:08:04.527Z"
   },
   {
    "duration": 10,
    "start_time": "2022-07-12T10:08:04.540Z"
   },
   {
    "duration": 16,
    "start_time": "2022-07-12T10:08:04.552Z"
   },
   {
    "duration": 237,
    "start_time": "2022-07-12T10:17:38.511Z"
   },
   {
    "duration": 318,
    "start_time": "2022-07-12T10:18:50.898Z"
   },
   {
    "duration": 311,
    "start_time": "2022-07-12T10:19:06.638Z"
   },
   {
    "duration": 263,
    "start_time": "2022-07-12T10:22:03.636Z"
   },
   {
    "duration": 9,
    "start_time": "2022-07-12T11:58:51.074Z"
   },
   {
    "duration": 9,
    "start_time": "2022-07-12T11:59:08.344Z"
   },
   {
    "duration": 7,
    "start_time": "2022-07-12T12:02:37.860Z"
   },
   {
    "duration": 9,
    "start_time": "2022-07-12T12:02:47.951Z"
   },
   {
    "duration": 6,
    "start_time": "2022-07-12T12:03:21.211Z"
   },
   {
    "duration": 8,
    "start_time": "2022-07-12T12:03:43.246Z"
   },
   {
    "duration": 4,
    "start_time": "2022-07-12T12:25:30.722Z"
   },
   {
    "duration": 16,
    "start_time": "2022-07-12T12:25:31.169Z"
   },
   {
    "duration": 20,
    "start_time": "2022-07-12T12:25:37.582Z"
   },
   {
    "duration": 12,
    "start_time": "2022-07-12T12:26:04.545Z"
   },
   {
    "duration": 5,
    "start_time": "2022-07-12T12:26:22.693Z"
   },
   {
    "duration": 8,
    "start_time": "2022-07-12T12:26:23.982Z"
   },
   {
    "duration": 11,
    "start_time": "2022-07-12T12:26:24.733Z"
   },
   {
    "duration": 5,
    "start_time": "2022-07-12T12:27:46.858Z"
   },
   {
    "duration": 8,
    "start_time": "2022-07-12T12:28:09.377Z"
   },
   {
    "duration": 1408,
    "start_time": "2022-07-12T12:28:24.749Z"
   },
   {
    "duration": 43,
    "start_time": "2022-07-12T12:28:26.159Z"
   },
   {
    "duration": 434,
    "start_time": "2022-07-12T12:28:26.204Z"
   },
   {
    "duration": 16,
    "start_time": "2022-07-12T12:28:26.640Z"
   },
   {
    "duration": 16,
    "start_time": "2022-07-12T12:28:26.659Z"
   },
   {
    "duration": 26,
    "start_time": "2022-07-12T12:28:26.677Z"
   },
   {
    "duration": 306,
    "start_time": "2022-07-12T12:28:26.706Z"
   },
   {
    "duration": 8,
    "start_time": "2022-07-12T12:28:27.013Z"
   },
   {
    "duration": 9,
    "start_time": "2022-07-12T12:28:27.023Z"
   },
   {
    "duration": 27,
    "start_time": "2022-07-12T12:28:27.033Z"
   },
   {
    "duration": 14,
    "start_time": "2022-07-12T12:28:27.061Z"
   },
   {
    "duration": 121,
    "start_time": "2022-07-12T12:28:27.077Z"
   },
   {
    "duration": 4,
    "start_time": "2022-07-12T12:30:00.412Z"
   },
   {
    "duration": 13,
    "start_time": "2022-07-12T12:30:00.979Z"
   },
   {
    "duration": 13,
    "start_time": "2022-07-12T12:30:01.478Z"
   },
   {
    "duration": 1606,
    "start_time": "2022-07-12T12:30:07.490Z"
   },
   {
    "duration": 48,
    "start_time": "2022-07-12T12:30:09.099Z"
   },
   {
    "duration": 423,
    "start_time": "2022-07-12T12:30:09.148Z"
   },
   {
    "duration": 12,
    "start_time": "2022-07-12T12:30:09.573Z"
   },
   {
    "duration": 13,
    "start_time": "2022-07-12T12:30:09.587Z"
   },
   {
    "duration": 21,
    "start_time": "2022-07-12T12:30:09.602Z"
   },
   {
    "duration": 266,
    "start_time": "2022-07-12T12:30:09.625Z"
   },
   {
    "duration": 9,
    "start_time": "2022-07-12T12:30:09.897Z"
   },
   {
    "duration": 6,
    "start_time": "2022-07-12T12:30:09.907Z"
   },
   {
    "duration": 20,
    "start_time": "2022-07-12T12:30:09.915Z"
   },
   {
    "duration": 15,
    "start_time": "2022-07-12T12:30:09.937Z"
   },
   {
    "duration": 6,
    "start_time": "2022-07-12T12:30:29.519Z"
   },
   {
    "duration": 5,
    "start_time": "2022-07-12T12:32:16.726Z"
   },
   {
    "duration": 124,
    "start_time": "2022-07-12T12:32:17.176Z"
   },
   {
    "duration": 1569,
    "start_time": "2022-07-12T12:32:22.798Z"
   },
   {
    "duration": 49,
    "start_time": "2022-07-12T12:32:24.369Z"
   },
   {
    "duration": 438,
    "start_time": "2022-07-12T12:32:24.419Z"
   },
   {
    "duration": 11,
    "start_time": "2022-07-12T12:32:24.859Z"
   },
   {
    "duration": 11,
    "start_time": "2022-07-12T12:32:24.871Z"
   },
   {
    "duration": 20,
    "start_time": "2022-07-12T12:32:24.883Z"
   },
   {
    "duration": 246,
    "start_time": "2022-07-12T12:32:24.905Z"
   },
   {
    "duration": 9,
    "start_time": "2022-07-12T12:32:25.153Z"
   },
   {
    "duration": 5,
    "start_time": "2022-07-12T12:32:25.164Z"
   },
   {
    "duration": 141,
    "start_time": "2022-07-12T12:32:25.171Z"
   },
   {
    "duration": 0,
    "start_time": "2022-07-12T12:32:25.314Z"
   },
   {
    "duration": 4,
    "start_time": "2022-07-12T12:32:54.609Z"
   },
   {
    "duration": 23,
    "start_time": "2022-07-12T12:32:55.116Z"
   },
   {
    "duration": 1406,
    "start_time": "2022-07-12T12:33:11.138Z"
   },
   {
    "duration": 45,
    "start_time": "2022-07-12T12:33:12.546Z"
   },
   {
    "duration": 430,
    "start_time": "2022-07-12T12:33:12.593Z"
   },
   {
    "duration": 11,
    "start_time": "2022-07-12T12:33:13.025Z"
   },
   {
    "duration": 6,
    "start_time": "2022-07-12T12:33:13.038Z"
   },
   {
    "duration": 11,
    "start_time": "2022-07-12T12:33:13.046Z"
   },
   {
    "duration": 255,
    "start_time": "2022-07-12T12:33:13.059Z"
   },
   {
    "duration": 8,
    "start_time": "2022-07-12T12:33:13.316Z"
   },
   {
    "duration": 5,
    "start_time": "2022-07-12T12:33:13.326Z"
   },
   {
    "duration": 145,
    "start_time": "2022-07-12T12:33:13.332Z"
   },
   {
    "duration": 0,
    "start_time": "2022-07-12T12:33:13.478Z"
   },
   {
    "duration": 4,
    "start_time": "2022-07-12T12:33:22.350Z"
   },
   {
    "duration": 12,
    "start_time": "2022-07-12T12:33:23.263Z"
   },
   {
    "duration": 7,
    "start_time": "2022-07-12T12:33:24.052Z"
   },
   {
    "duration": 18,
    "start_time": "2022-07-12T12:33:52.349Z"
   },
   {
    "duration": 22,
    "start_time": "2022-07-12T12:35:10.355Z"
   },
   {
    "duration": 109,
    "start_time": "2022-07-12T12:35:12.467Z"
   },
   {
    "duration": 34,
    "start_time": "2022-07-12T12:35:27.950Z"
   },
   {
    "duration": 16,
    "start_time": "2022-07-12T12:35:32.933Z"
   },
   {
    "duration": 12,
    "start_time": "2022-07-12T12:35:43.713Z"
   },
   {
    "duration": 19,
    "start_time": "2022-07-12T12:35:46.693Z"
   },
   {
    "duration": 1711,
    "start_time": "2022-07-12T16:11:09.241Z"
   },
   {
    "duration": 191,
    "start_time": "2022-07-12T16:11:10.954Z"
   },
   {
    "duration": 408,
    "start_time": "2022-07-12T16:11:11.147Z"
   },
   {
    "duration": 11,
    "start_time": "2022-07-12T16:11:11.556Z"
   },
   {
    "duration": 10,
    "start_time": "2022-07-12T16:11:11.570Z"
   },
   {
    "duration": 12,
    "start_time": "2022-07-12T16:11:11.582Z"
   },
   {
    "duration": 251,
    "start_time": "2022-07-12T16:11:11.596Z"
   },
   {
    "duration": 8,
    "start_time": "2022-07-12T16:11:11.848Z"
   },
   {
    "duration": 13,
    "start_time": "2022-07-12T16:11:11.858Z"
   },
   {
    "duration": 8,
    "start_time": "2022-07-12T16:11:11.873Z"
   },
   {
    "duration": 22,
    "start_time": "2022-07-12T16:11:11.882Z"
   },
   {
    "duration": 32,
    "start_time": "2022-07-12T16:11:11.905Z"
   },
   {
    "duration": 6,
    "start_time": "2022-07-12T16:11:36.550Z"
   },
   {
    "duration": 28,
    "start_time": "2022-07-12T16:11:42.945Z"
   },
   {
    "duration": 4,
    "start_time": "2022-07-12T16:12:41.106Z"
   },
   {
    "duration": 10,
    "start_time": "2022-07-12T16:12:45.170Z"
   },
   {
    "duration": 9,
    "start_time": "2022-07-12T16:28:36.144Z"
   },
   {
    "duration": 5,
    "start_time": "2022-07-12T16:28:44.914Z"
   },
   {
    "duration": 1407,
    "start_time": "2022-07-12T16:28:49.417Z"
   },
   {
    "duration": 32,
    "start_time": "2022-07-12T16:28:50.826Z"
   },
   {
    "duration": 448,
    "start_time": "2022-07-12T16:28:50.861Z"
   },
   {
    "duration": 15,
    "start_time": "2022-07-12T16:28:51.312Z"
   },
   {
    "duration": 8,
    "start_time": "2022-07-12T16:28:51.330Z"
   },
   {
    "duration": 17,
    "start_time": "2022-07-12T16:28:51.340Z"
   },
   {
    "duration": 233,
    "start_time": "2022-07-12T16:28:51.359Z"
   },
   {
    "duration": 8,
    "start_time": "2022-07-12T16:28:51.594Z"
   },
   {
    "duration": 19,
    "start_time": "2022-07-12T16:28:51.604Z"
   },
   {
    "duration": 14,
    "start_time": "2022-07-12T16:28:51.624Z"
   },
   {
    "duration": 33,
    "start_time": "2022-07-12T16:28:51.639Z"
   },
   {
    "duration": 105,
    "start_time": "2022-07-12T16:28:51.674Z"
   },
   {
    "duration": 9,
    "start_time": "2022-07-12T16:28:59.100Z"
   },
   {
    "duration": 9,
    "start_time": "2022-07-12T16:29:13.539Z"
   },
   {
    "duration": 68,
    "start_time": "2022-07-12T16:29:20.691Z"
   },
   {
    "duration": 9,
    "start_time": "2022-07-12T16:29:27.322Z"
   },
   {
    "duration": 13,
    "start_time": "2022-07-12T16:29:50.397Z"
   },
   {
    "duration": 1350,
    "start_time": "2022-07-12T16:30:40.542Z"
   },
   {
    "duration": 33,
    "start_time": "2022-07-12T16:30:41.894Z"
   },
   {
    "duration": 400,
    "start_time": "2022-07-12T16:30:41.929Z"
   },
   {
    "duration": 10,
    "start_time": "2022-07-12T16:30:42.331Z"
   },
   {
    "duration": 6,
    "start_time": "2022-07-12T16:30:42.343Z"
   },
   {
    "duration": 23,
    "start_time": "2022-07-12T16:30:42.351Z"
   },
   {
    "duration": 246,
    "start_time": "2022-07-12T16:30:42.376Z"
   },
   {
    "duration": 7,
    "start_time": "2022-07-12T16:30:42.624Z"
   },
   {
    "duration": 13,
    "start_time": "2022-07-12T16:30:42.633Z"
   },
   {
    "duration": 14,
    "start_time": "2022-07-12T16:30:42.648Z"
   },
   {
    "duration": 11,
    "start_time": "2022-07-12T16:30:42.664Z"
   },
   {
    "duration": 10,
    "start_time": "2022-07-12T16:30:42.677Z"
   },
   {
    "duration": 117,
    "start_time": "2022-07-12T16:30:42.689Z"
   },
   {
    "duration": 27,
    "start_time": "2022-07-12T16:30:42.809Z"
   },
   {
    "duration": 29,
    "start_time": "2022-07-12T16:32:01.260Z"
   },
   {
    "duration": 13,
    "start_time": "2022-07-12T16:32:09.329Z"
   },
   {
    "duration": 1372,
    "start_time": "2022-07-12T16:46:05.641Z"
   },
   {
    "duration": 34,
    "start_time": "2022-07-12T16:46:07.016Z"
   },
   {
    "duration": 438,
    "start_time": "2022-07-12T16:46:07.051Z"
   },
   {
    "duration": 11,
    "start_time": "2022-07-12T16:46:07.490Z"
   },
   {
    "duration": 20,
    "start_time": "2022-07-12T16:46:07.504Z"
   },
   {
    "duration": 25,
    "start_time": "2022-07-12T16:46:07.526Z"
   },
   {
    "duration": 255,
    "start_time": "2022-07-12T16:46:07.553Z"
   },
   {
    "duration": 17,
    "start_time": "2022-07-12T16:46:07.810Z"
   },
   {
    "duration": 16,
    "start_time": "2022-07-12T16:46:07.829Z"
   },
   {
    "duration": 26,
    "start_time": "2022-07-12T16:46:07.847Z"
   },
   {
    "duration": 17,
    "start_time": "2022-07-12T16:46:07.877Z"
   },
   {
    "duration": 18,
    "start_time": "2022-07-12T16:46:07.896Z"
   },
   {
    "duration": 12,
    "start_time": "2022-07-12T16:46:07.916Z"
   },
   {
    "duration": 8,
    "start_time": "2022-07-12T16:46:07.932Z"
   },
   {
    "duration": 132,
    "start_time": "2022-07-12T16:46:07.942Z"
   },
   {
    "duration": 20,
    "start_time": "2022-07-12T16:46:08.076Z"
   },
   {
    "duration": 5,
    "start_time": "2022-07-12T16:46:52.386Z"
   },
   {
    "duration": 1412,
    "start_time": "2022-07-12T16:46:57.347Z"
   },
   {
    "duration": 31,
    "start_time": "2022-07-12T16:46:58.761Z"
   },
   {
    "duration": 399,
    "start_time": "2022-07-12T16:46:58.794Z"
   },
   {
    "duration": 11,
    "start_time": "2022-07-12T16:46:59.195Z"
   },
   {
    "duration": 16,
    "start_time": "2022-07-12T16:46:59.208Z"
   },
   {
    "duration": 21,
    "start_time": "2022-07-12T16:46:59.229Z"
   },
   {
    "duration": 233,
    "start_time": "2022-07-12T16:46:59.252Z"
   },
   {
    "duration": 8,
    "start_time": "2022-07-12T16:46:59.488Z"
   },
   {
    "duration": 26,
    "start_time": "2022-07-12T16:46:59.498Z"
   },
   {
    "duration": 28,
    "start_time": "2022-07-12T16:46:59.529Z"
   },
   {
    "duration": 32,
    "start_time": "2022-07-12T16:46:59.558Z"
   },
   {
    "duration": 8,
    "start_time": "2022-07-12T16:46:59.592Z"
   },
   {
    "duration": 17,
    "start_time": "2022-07-12T16:46:59.602Z"
   },
   {
    "duration": 23,
    "start_time": "2022-07-12T16:46:59.622Z"
   },
   {
    "duration": 26,
    "start_time": "2022-07-12T16:46:59.647Z"
   },
   {
    "duration": 19,
    "start_time": "2022-07-12T16:46:59.674Z"
   },
   {
    "duration": 134,
    "start_time": "2022-07-12T16:50:00.261Z"
   },
   {
    "duration": 654,
    "start_time": "2022-07-12T16:50:09.585Z"
   },
   {
    "duration": 176,
    "start_time": "2022-07-12T16:57:58.803Z"
   },
   {
    "duration": 215,
    "start_time": "2022-07-12T16:58:24.509Z"
   },
   {
    "duration": 570,
    "start_time": "2022-07-12T16:59:54.892Z"
   },
   {
    "duration": 845,
    "start_time": "2022-07-12T17:00:02.499Z"
   },
   {
    "duration": 21,
    "start_time": "2022-07-12T17:02:51.685Z"
   },
   {
    "duration": 560,
    "start_time": "2022-07-12T17:06:37.645Z"
   },
   {
    "duration": 744,
    "start_time": "2022-07-12T17:06:51.295Z"
   },
   {
    "duration": 572,
    "start_time": "2022-07-12T17:07:01.501Z"
   },
   {
    "duration": 538,
    "start_time": "2022-07-12T17:07:57.167Z"
   },
   {
    "duration": 603,
    "start_time": "2022-07-12T17:08:30.012Z"
   },
   {
    "duration": 573,
    "start_time": "2022-07-12T17:09:55.815Z"
   },
   {
    "duration": 11,
    "start_time": "2022-07-12T17:10:58.546Z"
   },
   {
    "duration": 25,
    "start_time": "2022-07-12T17:11:00.418Z"
   },
   {
    "duration": 12,
    "start_time": "2022-07-12T17:11:10.098Z"
   },
   {
    "duration": 19,
    "start_time": "2022-07-12T17:11:19.948Z"
   },
   {
    "duration": 1582,
    "start_time": "2022-07-12T17:11:34.307Z"
   },
   {
    "duration": 36,
    "start_time": "2022-07-12T17:11:35.891Z"
   },
   {
    "duration": 464,
    "start_time": "2022-07-12T17:11:35.930Z"
   },
   {
    "duration": 10,
    "start_time": "2022-07-12T17:11:36.397Z"
   },
   {
    "duration": 19,
    "start_time": "2022-07-12T17:11:36.409Z"
   },
   {
    "duration": 33,
    "start_time": "2022-07-12T17:11:36.429Z"
   },
   {
    "duration": 250,
    "start_time": "2022-07-12T17:11:36.463Z"
   },
   {
    "duration": 27,
    "start_time": "2022-07-12T17:11:36.715Z"
   },
   {
    "duration": 15,
    "start_time": "2022-07-12T17:11:36.750Z"
   },
   {
    "duration": 756,
    "start_time": "2022-07-12T17:11:36.767Z"
   },
   {
    "duration": 6,
    "start_time": "2022-07-12T17:11:37.530Z"
   },
   {
    "duration": 36,
    "start_time": "2022-07-12T17:11:37.538Z"
   },
   {
    "duration": 13,
    "start_time": "2022-07-12T17:11:37.577Z"
   },
   {
    "duration": 12,
    "start_time": "2022-07-12T17:11:51.950Z"
   },
   {
    "duration": 16,
    "start_time": "2022-07-12T17:11:54.784Z"
   },
   {
    "duration": 12,
    "start_time": "2022-07-12T17:12:13.486Z"
   },
   {
    "duration": 15,
    "start_time": "2022-07-12T17:12:14.352Z"
   },
   {
    "duration": 20,
    "start_time": "2022-07-12T17:13:13.162Z"
   },
   {
    "duration": 25,
    "start_time": "2022-07-12T17:13:13.963Z"
   },
   {
    "duration": 1588,
    "start_time": "2022-07-12T17:13:26.594Z"
   },
   {
    "duration": 32,
    "start_time": "2022-07-12T17:13:28.185Z"
   },
   {
    "duration": 528,
    "start_time": "2022-07-12T17:13:28.219Z"
   },
   {
    "duration": 19,
    "start_time": "2022-07-12T17:13:28.750Z"
   },
   {
    "duration": 12,
    "start_time": "2022-07-12T17:13:28.772Z"
   },
   {
    "duration": 17,
    "start_time": "2022-07-12T17:13:28.786Z"
   },
   {
    "duration": 256,
    "start_time": "2022-07-12T17:13:28.806Z"
   },
   {
    "duration": 14,
    "start_time": "2022-07-12T17:13:29.065Z"
   },
   {
    "duration": 10,
    "start_time": "2022-07-12T17:13:29.082Z"
   },
   {
    "duration": 824,
    "start_time": "2022-07-12T17:13:29.094Z"
   },
   {
    "duration": 6,
    "start_time": "2022-07-12T17:13:29.920Z"
   },
   {
    "duration": 49,
    "start_time": "2022-07-12T17:13:29.937Z"
   },
   {
    "duration": 20,
    "start_time": "2022-07-12T17:13:29.988Z"
   },
   {
    "duration": 5,
    "start_time": "2022-07-12T17:57:37.723Z"
   },
   {
    "duration": 8,
    "start_time": "2022-07-12T17:57:56.090Z"
   },
   {
    "duration": 11,
    "start_time": "2022-07-12T17:59:32.540Z"
   },
   {
    "duration": 6,
    "start_time": "2022-07-12T18:00:06.507Z"
   },
   {
    "duration": 16,
    "start_time": "2022-07-12T18:00:37.150Z"
   },
   {
    "duration": 56,
    "start_time": "2022-07-12T18:02:54.049Z"
   },
   {
    "duration": 176,
    "start_time": "2022-07-12T18:06:26.457Z"
   },
   {
    "duration": 5,
    "start_time": "2022-07-12T18:07:15.156Z"
   },
   {
    "duration": 92,
    "start_time": "2022-07-12T18:07:22.879Z"
   },
   {
    "duration": 6,
    "start_time": "2022-07-12T18:09:57.976Z"
   },
   {
    "duration": 90,
    "start_time": "2022-07-12T18:10:07.714Z"
   },
   {
    "duration": 38087,
    "start_time": "2022-07-12T18:10:40.050Z"
   },
   {
    "duration": 20,
    "start_time": "2022-07-12T18:13:17.847Z"
   },
   {
    "duration": 8,
    "start_time": "2022-07-12T18:14:49.549Z"
   },
   {
    "duration": 20,
    "start_time": "2022-07-12T18:14:58.653Z"
   },
   {
    "duration": 5,
    "start_time": "2022-07-12T18:16:05.270Z"
   },
   {
    "duration": 71,
    "start_time": "2022-07-12T18:16:55.157Z"
   },
   {
    "duration": 25,
    "start_time": "2022-07-12T18:17:18.384Z"
   },
   {
    "duration": 37,
    "start_time": "2022-07-12T18:17:21.370Z"
   },
   {
    "duration": 10,
    "start_time": "2022-07-12T18:17:22.248Z"
   },
   {
    "duration": 12,
    "start_time": "2022-07-12T18:17:25.246Z"
   },
   {
    "duration": 17,
    "start_time": "2022-07-12T18:17:29.071Z"
   },
   {
    "duration": 1549,
    "start_time": "2022-07-12T18:17:43.971Z"
   },
   {
    "duration": 48,
    "start_time": "2022-07-12T18:17:45.522Z"
   },
   {
    "duration": 494,
    "start_time": "2022-07-12T18:17:45.572Z"
   },
   {
    "duration": 15,
    "start_time": "2022-07-12T18:17:46.070Z"
   },
   {
    "duration": 5,
    "start_time": "2022-07-12T18:17:46.087Z"
   },
   {
    "duration": 15,
    "start_time": "2022-07-12T18:17:46.094Z"
   },
   {
    "duration": 281,
    "start_time": "2022-07-12T18:17:46.111Z"
   },
   {
    "duration": 9,
    "start_time": "2022-07-12T18:17:46.394Z"
   },
   {
    "duration": 32,
    "start_time": "2022-07-12T18:17:46.405Z"
   },
   {
    "duration": 801,
    "start_time": "2022-07-12T18:17:46.439Z"
   },
   {
    "duration": 8,
    "start_time": "2022-07-12T18:17:47.241Z"
   },
   {
    "duration": 28,
    "start_time": "2022-07-12T18:17:47.250Z"
   },
   {
    "duration": 15,
    "start_time": "2022-07-12T18:17:47.279Z"
   },
   {
    "duration": 125,
    "start_time": "2022-07-12T18:17:47.295Z"
   },
   {
    "duration": 0,
    "start_time": "2022-07-12T18:17:47.427Z"
   },
   {
    "duration": 0,
    "start_time": "2022-07-12T18:17:47.428Z"
   },
   {
    "duration": 0,
    "start_time": "2022-07-12T18:17:47.429Z"
   },
   {
    "duration": 7,
    "start_time": "2022-07-12T18:18:44.353Z"
   },
   {
    "duration": 1835,
    "start_time": "2022-07-12T18:19:00.686Z"
   },
   {
    "duration": 71,
    "start_time": "2022-07-12T18:19:02.539Z"
   },
   {
    "duration": 550,
    "start_time": "2022-07-12T18:19:02.612Z"
   },
   {
    "duration": 15,
    "start_time": "2022-07-12T18:19:03.164Z"
   },
   {
    "duration": 11,
    "start_time": "2022-07-12T18:19:03.183Z"
   },
   {
    "duration": 23,
    "start_time": "2022-07-12T18:19:03.197Z"
   },
   {
    "duration": 326,
    "start_time": "2022-07-12T18:19:03.223Z"
   },
   {
    "duration": 11,
    "start_time": "2022-07-12T18:19:03.555Z"
   },
   {
    "duration": 21,
    "start_time": "2022-07-12T18:19:03.570Z"
   },
   {
    "duration": 854,
    "start_time": "2022-07-12T18:19:03.596Z"
   },
   {
    "duration": 7,
    "start_time": "2022-07-12T18:19:04.452Z"
   },
   {
    "duration": 38,
    "start_time": "2022-07-12T18:19:04.461Z"
   },
   {
    "duration": 19,
    "start_time": "2022-07-12T18:19:04.502Z"
   },
   {
    "duration": 67,
    "start_time": "2022-07-12T18:19:04.529Z"
   },
   {
    "duration": 88,
    "start_time": "2022-07-12T18:19:04.599Z"
   },
   {
    "duration": 52,
    "start_time": "2022-07-12T18:19:04.690Z"
   },
   {
    "duration": 1702,
    "start_time": "2022-07-12T18:19:30.010Z"
   },
   {
    "duration": 66,
    "start_time": "2022-07-12T18:19:31.714Z"
   },
   {
    "duration": 512,
    "start_time": "2022-07-12T18:19:31.782Z"
   },
   {
    "duration": 14,
    "start_time": "2022-07-12T18:19:32.296Z"
   },
   {
    "duration": 18,
    "start_time": "2022-07-12T18:19:32.313Z"
   },
   {
    "duration": 37,
    "start_time": "2022-07-12T18:19:32.333Z"
   },
   {
    "duration": 297,
    "start_time": "2022-07-12T18:19:32.372Z"
   },
   {
    "duration": 8,
    "start_time": "2022-07-12T18:19:32.672Z"
   },
   {
    "duration": 11,
    "start_time": "2022-07-12T18:19:32.682Z"
   },
   {
    "duration": 1008,
    "start_time": "2022-07-12T18:19:32.695Z"
   },
   {
    "duration": 4,
    "start_time": "2022-07-12T18:19:33.706Z"
   },
   {
    "duration": 44,
    "start_time": "2022-07-12T18:19:33.712Z"
   },
   {
    "duration": 49,
    "start_time": "2022-07-12T18:19:33.758Z"
   },
   {
    "duration": 18,
    "start_time": "2022-07-12T18:19:33.810Z"
   },
   {
    "duration": 51,
    "start_time": "2022-07-12T18:19:33.831Z"
   },
   {
    "duration": 177,
    "start_time": "2022-07-12T18:19:33.884Z"
   },
   {
    "duration": 1865,
    "start_time": "2022-07-12T18:19:46.707Z"
   },
   {
    "duration": 35,
    "start_time": "2022-07-12T18:19:48.575Z"
   },
   {
    "duration": 497,
    "start_time": "2022-07-12T18:19:48.612Z"
   },
   {
    "duration": 20,
    "start_time": "2022-07-12T18:19:49.111Z"
   },
   {
    "duration": 27,
    "start_time": "2022-07-12T18:19:49.141Z"
   },
   {
    "duration": 28,
    "start_time": "2022-07-12T18:19:49.170Z"
   },
   {
    "duration": 285,
    "start_time": "2022-07-12T18:19:49.200Z"
   },
   {
    "duration": 11,
    "start_time": "2022-07-12T18:19:49.487Z"
   },
   {
    "duration": 9,
    "start_time": "2022-07-12T18:19:49.500Z"
   },
   {
    "duration": 923,
    "start_time": "2022-07-12T18:19:49.511Z"
   },
   {
    "duration": 5,
    "start_time": "2022-07-12T18:19:50.436Z"
   },
   {
    "duration": 42,
    "start_time": "2022-07-12T18:19:50.443Z"
   },
   {
    "duration": 18,
    "start_time": "2022-07-12T18:19:50.487Z"
   },
   {
    "duration": 9,
    "start_time": "2022-07-12T18:19:50.508Z"
   },
   {
    "duration": 45,
    "start_time": "2022-07-12T18:19:50.519Z"
   },
   {
    "duration": 78,
    "start_time": "2022-07-12T18:19:50.567Z"
   },
   {
    "duration": 1574,
    "start_time": "2022-07-12T18:20:02.387Z"
   },
   {
    "duration": 52,
    "start_time": "2022-07-12T18:20:03.967Z"
   },
   {
    "duration": 645,
    "start_time": "2022-07-12T18:20:04.022Z"
   },
   {
    "duration": 17,
    "start_time": "2022-07-12T18:20:04.669Z"
   },
   {
    "duration": 10,
    "start_time": "2022-07-12T18:20:04.689Z"
   },
   {
    "duration": 26,
    "start_time": "2022-07-12T18:20:04.701Z"
   },
   {
    "duration": 388,
    "start_time": "2022-07-12T18:20:04.730Z"
   },
   {
    "duration": 29,
    "start_time": "2022-07-12T18:20:05.120Z"
   },
   {
    "duration": 67,
    "start_time": "2022-07-12T18:20:05.158Z"
   },
   {
    "duration": 831,
    "start_time": "2022-07-12T18:20:05.227Z"
   },
   {
    "duration": 5,
    "start_time": "2022-07-12T18:20:06.060Z"
   },
   {
    "duration": 27,
    "start_time": "2022-07-12T18:20:06.067Z"
   },
   {
    "duration": 81,
    "start_time": "2022-07-12T18:20:06.096Z"
   },
   {
    "duration": 23,
    "start_time": "2022-07-12T18:20:06.182Z"
   },
   {
    "duration": 12,
    "start_time": "2022-07-12T18:20:06.207Z"
   },
   {
    "duration": 122,
    "start_time": "2022-07-12T18:20:06.221Z"
   },
   {
    "duration": 34,
    "start_time": "2022-07-12T18:22:54.310Z"
   },
   {
    "duration": 19622,
    "start_time": "2022-07-12T18:29:12.422Z"
   },
   {
    "duration": 1585,
    "start_time": "2022-07-12T18:30:04.499Z"
   },
   {
    "duration": 50,
    "start_time": "2022-07-12T18:30:06.086Z"
   },
   {
    "duration": 408,
    "start_time": "2022-07-12T18:30:06.138Z"
   },
   {
    "duration": 10,
    "start_time": "2022-07-12T18:30:06.548Z"
   },
   {
    "duration": 27,
    "start_time": "2022-07-12T18:30:06.559Z"
   },
   {
    "duration": 15,
    "start_time": "2022-07-12T18:30:06.588Z"
   },
   {
    "duration": 323,
    "start_time": "2022-07-12T18:30:06.605Z"
   },
   {
    "duration": 15,
    "start_time": "2022-07-12T18:30:06.930Z"
   },
   {
    "duration": 14,
    "start_time": "2022-07-12T18:30:06.947Z"
   },
   {
    "duration": 725,
    "start_time": "2022-07-12T18:30:06.965Z"
   },
   {
    "duration": 5,
    "start_time": "2022-07-12T18:30:07.691Z"
   },
   {
    "duration": 29,
    "start_time": "2022-07-12T18:30:07.698Z"
   },
   {
    "duration": 16,
    "start_time": "2022-07-12T18:30:07.739Z"
   },
   {
    "duration": 9,
    "start_time": "2022-07-12T18:30:07.757Z"
   },
   {
    "duration": 8,
    "start_time": "2022-07-12T18:30:07.768Z"
   },
   {
    "duration": 52,
    "start_time": "2022-07-12T18:30:07.778Z"
   },
   {
    "duration": 845,
    "start_time": "2022-07-12T18:30:07.838Z"
   },
   {
    "duration": 1562,
    "start_time": "2022-07-12T18:30:26.070Z"
   },
   {
    "duration": 35,
    "start_time": "2022-07-12T18:30:27.641Z"
   },
   {
    "duration": 472,
    "start_time": "2022-07-12T18:30:27.677Z"
   },
   {
    "duration": 13,
    "start_time": "2022-07-12T18:30:28.151Z"
   },
   {
    "duration": 11,
    "start_time": "2022-07-12T18:30:28.166Z"
   },
   {
    "duration": 13,
    "start_time": "2022-07-12T18:30:28.179Z"
   },
   {
    "duration": 359,
    "start_time": "2022-07-12T18:30:28.194Z"
   },
   {
    "duration": 10,
    "start_time": "2022-07-12T18:30:28.555Z"
   },
   {
    "duration": 9,
    "start_time": "2022-07-12T18:30:28.567Z"
   },
   {
    "duration": 646,
    "start_time": "2022-07-12T18:30:28.578Z"
   },
   {
    "duration": 9,
    "start_time": "2022-07-12T18:30:29.233Z"
   },
   {
    "duration": 30,
    "start_time": "2022-07-12T18:30:29.244Z"
   },
   {
    "duration": 17,
    "start_time": "2022-07-12T18:30:29.277Z"
   },
   {
    "duration": 10,
    "start_time": "2022-07-12T18:30:29.295Z"
   },
   {
    "duration": 9,
    "start_time": "2022-07-12T18:30:29.306Z"
   },
   {
    "duration": 206,
    "start_time": "2022-07-12T18:30:29.317Z"
   },
   {
    "duration": 724,
    "start_time": "2022-07-12T18:30:29.527Z"
   },
   {
    "duration": 1498,
    "start_time": "2022-07-12T18:31:11.516Z"
   },
   {
    "duration": 43,
    "start_time": "2022-07-12T18:31:13.016Z"
   },
   {
    "duration": 468,
    "start_time": "2022-07-12T18:31:13.061Z"
   },
   {
    "duration": 11,
    "start_time": "2022-07-12T18:31:13.541Z"
   },
   {
    "duration": 15,
    "start_time": "2022-07-12T18:31:13.555Z"
   },
   {
    "duration": 18,
    "start_time": "2022-07-12T18:31:13.572Z"
   },
   {
    "duration": 341,
    "start_time": "2022-07-12T18:31:13.592Z"
   },
   {
    "duration": 9,
    "start_time": "2022-07-12T18:31:13.941Z"
   },
   {
    "duration": 16,
    "start_time": "2022-07-12T18:31:13.951Z"
   },
   {
    "duration": 709,
    "start_time": "2022-07-12T18:31:13.969Z"
   },
   {
    "duration": 5,
    "start_time": "2022-07-12T18:31:14.681Z"
   },
   {
    "duration": 55,
    "start_time": "2022-07-12T18:31:14.688Z"
   },
   {
    "duration": 37,
    "start_time": "2022-07-12T18:31:14.747Z"
   },
   {
    "duration": 25,
    "start_time": "2022-07-12T18:31:14.788Z"
   },
   {
    "duration": 18,
    "start_time": "2022-07-12T18:31:14.815Z"
   },
   {
    "duration": 39,
    "start_time": "2022-07-12T18:31:14.835Z"
   },
   {
    "duration": 735,
    "start_time": "2022-07-12T18:31:14.928Z"
   },
   {
    "duration": 1602,
    "start_time": "2022-07-12T18:31:45.255Z"
   },
   {
    "duration": 37,
    "start_time": "2022-07-12T18:31:46.866Z"
   },
   {
    "duration": 429,
    "start_time": "2022-07-12T18:31:46.905Z"
   },
   {
    "duration": 18,
    "start_time": "2022-07-12T18:31:47.336Z"
   },
   {
    "duration": 14,
    "start_time": "2022-07-12T18:31:47.357Z"
   },
   {
    "duration": 13,
    "start_time": "2022-07-12T18:31:47.373Z"
   },
   {
    "duration": 352,
    "start_time": "2022-07-12T18:31:47.388Z"
   },
   {
    "duration": 14,
    "start_time": "2022-07-12T18:31:47.742Z"
   },
   {
    "duration": 16,
    "start_time": "2022-07-12T18:31:47.758Z"
   },
   {
    "duration": 686,
    "start_time": "2022-07-12T18:31:47.776Z"
   },
   {
    "duration": 4,
    "start_time": "2022-07-12T18:31:48.464Z"
   },
   {
    "duration": 26,
    "start_time": "2022-07-12T18:31:48.470Z"
   },
   {
    "duration": 15,
    "start_time": "2022-07-12T18:31:48.498Z"
   },
   {
    "duration": 10,
    "start_time": "2022-07-12T18:31:48.516Z"
   },
   {
    "duration": 9,
    "start_time": "2022-07-12T18:31:48.527Z"
   },
   {
    "duration": 82,
    "start_time": "2022-07-12T18:31:48.541Z"
   },
   {
    "duration": 815,
    "start_time": "2022-07-12T18:31:48.625Z"
   },
   {
    "duration": 1594,
    "start_time": "2022-07-12T18:32:19.797Z"
   },
   {
    "duration": 41,
    "start_time": "2022-07-12T18:32:21.393Z"
   },
   {
    "duration": 445,
    "start_time": "2022-07-12T18:32:21.437Z"
   },
   {
    "duration": 10,
    "start_time": "2022-07-12T18:32:21.884Z"
   },
   {
    "duration": 17,
    "start_time": "2022-07-12T18:32:21.896Z"
   },
   {
    "duration": 55,
    "start_time": "2022-07-12T18:32:21.915Z"
   },
   {
    "duration": 365,
    "start_time": "2022-07-12T18:32:21.973Z"
   },
   {
    "duration": 21,
    "start_time": "2022-07-12T18:32:22.340Z"
   },
   {
    "duration": 16,
    "start_time": "2022-07-12T18:32:22.362Z"
   },
   {
    "duration": 693,
    "start_time": "2022-07-12T18:32:22.381Z"
   },
   {
    "duration": 4,
    "start_time": "2022-07-12T18:32:23.077Z"
   },
   {
    "duration": 47,
    "start_time": "2022-07-12T18:32:23.083Z"
   },
   {
    "duration": 45,
    "start_time": "2022-07-12T18:32:23.137Z"
   },
   {
    "duration": 41,
    "start_time": "2022-07-12T18:32:23.184Z"
   },
   {
    "duration": 32,
    "start_time": "2022-07-12T18:32:23.227Z"
   },
   {
    "duration": 34,
    "start_time": "2022-07-12T18:32:23.266Z"
   },
   {
    "duration": 907,
    "start_time": "2022-07-12T18:32:23.301Z"
   },
   {
    "duration": 1430,
    "start_time": "2022-07-12T18:33:02.759Z"
   },
   {
    "duration": 7321,
    "start_time": "2022-07-12T18:33:11.262Z"
   },
   {
    "duration": 692,
    "start_time": "2022-07-12T18:33:27.885Z"
   },
   {
    "duration": 589,
    "start_time": "2022-07-12T18:33:37.509Z"
   },
   {
    "duration": 1005,
    "start_time": "2022-07-12T18:33:42.760Z"
   },
   {
    "duration": 4,
    "start_time": "2022-07-12T19:57:38.256Z"
   },
   {
    "duration": 1533,
    "start_time": "2022-07-12T19:57:51.879Z"
   },
   {
    "duration": 35,
    "start_time": "2022-07-12T19:57:53.415Z"
   },
   {
    "duration": 444,
    "start_time": "2022-07-12T19:57:53.452Z"
   },
   {
    "duration": 10,
    "start_time": "2022-07-12T19:57:53.898Z"
   },
   {
    "duration": 14,
    "start_time": "2022-07-12T19:57:53.910Z"
   },
   {
    "duration": 16,
    "start_time": "2022-07-12T19:57:53.926Z"
   },
   {
    "duration": 339,
    "start_time": "2022-07-12T19:57:53.943Z"
   },
   {
    "duration": 8,
    "start_time": "2022-07-12T19:57:54.283Z"
   },
   {
    "duration": 16,
    "start_time": "2022-07-12T19:57:54.293Z"
   },
   {
    "duration": 671,
    "start_time": "2022-07-12T19:57:54.311Z"
   },
   {
    "duration": 4,
    "start_time": "2022-07-12T19:57:54.983Z"
   },
   {
    "duration": 20,
    "start_time": "2022-07-12T19:57:54.989Z"
   },
   {
    "duration": 15,
    "start_time": "2022-07-12T19:57:55.011Z"
   },
   {
    "duration": 7,
    "start_time": "2022-07-12T19:57:55.030Z"
   },
   {
    "duration": 12,
    "start_time": "2022-07-12T19:57:55.039Z"
   },
   {
    "duration": 75,
    "start_time": "2022-07-12T19:57:55.053Z"
   },
   {
    "duration": 1044,
    "start_time": "2022-07-12T19:57:55.130Z"
   },
   {
    "duration": 4,
    "start_time": "2022-07-12T20:59:13.649Z"
   },
   {
    "duration": 25,
    "start_time": "2022-07-12T21:01:31.757Z"
   },
   {
    "duration": 5,
    "start_time": "2022-07-12T21:01:53.830Z"
   },
   {
    "duration": 211,
    "start_time": "2022-07-12T22:10:06.254Z"
   },
   {
    "duration": 4,
    "start_time": "2022-07-12T22:12:52.689Z"
   },
   {
    "duration": 136,
    "start_time": "2022-07-12T22:23:22.886Z"
   },
   {
    "duration": 1498,
    "start_time": "2022-07-12T22:23:34.180Z"
   },
   {
    "duration": 31,
    "start_time": "2022-07-12T22:23:35.679Z"
   },
   {
    "duration": 378,
    "start_time": "2022-07-12T22:23:35.712Z"
   },
   {
    "duration": 10,
    "start_time": "2022-07-12T22:23:36.091Z"
   },
   {
    "duration": 7,
    "start_time": "2022-07-12T22:23:36.103Z"
   },
   {
    "duration": 115,
    "start_time": "2022-07-12T22:23:36.111Z"
   },
   {
    "duration": 213,
    "start_time": "2022-07-12T22:23:36.231Z"
   },
   {
    "duration": 8,
    "start_time": "2022-07-12T22:23:36.446Z"
   },
   {
    "duration": 9,
    "start_time": "2022-07-12T22:23:36.455Z"
   },
   {
    "duration": 599,
    "start_time": "2022-07-12T22:23:36.466Z"
   },
   {
    "duration": 4,
    "start_time": "2022-07-12T22:23:37.067Z"
   },
   {
    "duration": 19,
    "start_time": "2022-07-12T22:23:37.073Z"
   },
   {
    "duration": 12,
    "start_time": "2022-07-12T22:23:37.094Z"
   },
   {
    "duration": 5,
    "start_time": "2022-07-12T22:23:37.108Z"
   },
   {
    "duration": 13,
    "start_time": "2022-07-12T22:23:37.114Z"
   },
   {
    "duration": 630,
    "start_time": "2022-07-12T22:23:37.128Z"
   },
   {
    "duration": 113,
    "start_time": "2022-07-12T22:23:37.760Z"
   },
   {
    "duration": 0,
    "start_time": "2022-07-12T22:23:37.875Z"
   },
   {
    "duration": 0,
    "start_time": "2022-07-12T22:23:37.876Z"
   },
   {
    "duration": 0,
    "start_time": "2022-07-12T22:23:37.877Z"
   },
   {
    "duration": 228,
    "start_time": "2022-07-12T22:24:11.323Z"
   },
   {
    "duration": 4,
    "start_time": "2022-07-12T22:25:53.690Z"
   },
   {
    "duration": 8,
    "start_time": "2022-07-13T04:12:18.315Z"
   },
   {
    "duration": 1638,
    "start_time": "2022-07-13T04:12:25.966Z"
   },
   {
    "duration": 100,
    "start_time": "2022-07-13T04:12:27.606Z"
   },
   {
    "duration": 387,
    "start_time": "2022-07-13T04:12:27.708Z"
   },
   {
    "duration": 10,
    "start_time": "2022-07-13T04:12:28.097Z"
   },
   {
    "duration": 5,
    "start_time": "2022-07-13T04:12:28.109Z"
   },
   {
    "duration": 121,
    "start_time": "2022-07-13T04:12:28.115Z"
   },
   {
    "duration": 228,
    "start_time": "2022-07-13T04:12:28.238Z"
   },
   {
    "duration": 10,
    "start_time": "2022-07-13T04:12:28.468Z"
   },
   {
    "duration": 11,
    "start_time": "2022-07-13T04:12:28.479Z"
   },
   {
    "duration": 597,
    "start_time": "2022-07-13T04:12:28.491Z"
   },
   {
    "duration": 4,
    "start_time": "2022-07-13T04:12:29.090Z"
   },
   {
    "duration": 18,
    "start_time": "2022-07-13T04:12:29.095Z"
   },
   {
    "duration": 13,
    "start_time": "2022-07-13T04:12:29.114Z"
   },
   {
    "duration": 6,
    "start_time": "2022-07-13T04:12:29.130Z"
   },
   {
    "duration": 12,
    "start_time": "2022-07-13T04:12:29.138Z"
   },
   {
    "duration": 607,
    "start_time": "2022-07-13T04:12:29.152Z"
   },
   {
    "duration": 133,
    "start_time": "2022-07-13T04:12:29.761Z"
   },
   {
    "duration": 0,
    "start_time": "2022-07-13T04:12:29.895Z"
   },
   {
    "duration": 0,
    "start_time": "2022-07-13T04:12:29.897Z"
   },
   {
    "duration": 0,
    "start_time": "2022-07-13T04:12:29.897Z"
   },
   {
    "duration": 605,
    "start_time": "2022-07-13T04:14:01.101Z"
   },
   {
    "duration": 13,
    "start_time": "2022-07-13T04:15:10.075Z"
   },
   {
    "duration": 6,
    "start_time": "2022-07-13T05:38:21.915Z"
   },
   {
    "duration": 9,
    "start_time": "2022-07-13T05:41:39.055Z"
   },
   {
    "duration": 9,
    "start_time": "2022-07-13T05:41:43.904Z"
   },
   {
    "duration": 5,
    "start_time": "2022-07-13T05:54:25.886Z"
   },
   {
    "duration": 1509,
    "start_time": "2022-07-13T05:55:47.207Z"
   },
   {
    "duration": 32,
    "start_time": "2022-07-13T05:55:48.718Z"
   },
   {
    "duration": 431,
    "start_time": "2022-07-13T05:55:48.752Z"
   },
   {
    "duration": 11,
    "start_time": "2022-07-13T05:55:49.184Z"
   },
   {
    "duration": 6,
    "start_time": "2022-07-13T05:55:49.198Z"
   },
   {
    "duration": 118,
    "start_time": "2022-07-13T05:55:49.206Z"
   },
   {
    "duration": 267,
    "start_time": "2022-07-13T05:55:49.325Z"
   },
   {
    "duration": 8,
    "start_time": "2022-07-13T05:55:49.594Z"
   },
   {
    "duration": 7,
    "start_time": "2022-07-13T05:55:49.603Z"
   },
   {
    "duration": 649,
    "start_time": "2022-07-13T05:55:49.611Z"
   },
   {
    "duration": 8,
    "start_time": "2022-07-13T05:55:50.262Z"
   },
   {
    "duration": 29,
    "start_time": "2022-07-13T05:55:50.272Z"
   },
   {
    "duration": 12,
    "start_time": "2022-07-13T05:55:50.303Z"
   },
   {
    "duration": 5,
    "start_time": "2022-07-13T05:55:50.318Z"
   },
   {
    "duration": 11,
    "start_time": "2022-07-13T05:55:50.324Z"
   },
   {
    "duration": 10,
    "start_time": "2022-07-13T05:55:50.336Z"
   },
   {
    "duration": 597,
    "start_time": "2022-07-13T05:55:50.348Z"
   },
   {
    "duration": 37,
    "start_time": "2022-07-13T05:55:50.946Z"
   },
   {
    "duration": 2375,
    "start_time": "2022-07-13T05:55:50.985Z"
   },
   {
    "duration": 606,
    "start_time": "2022-07-13T05:55:53.362Z"
   },
   {
    "duration": 11506,
    "start_time": "2022-07-13T05:55:53.973Z"
   },
   {
    "duration": 92562,
    "start_time": "2022-07-13T05:56:05.481Z"
   },
   {
    "duration": 4,
    "start_time": "2022-07-13T05:57:38.045Z"
   },
   {
    "duration": 9,
    "start_time": "2022-07-13T05:57:38.051Z"
   },
   {
    "duration": 41,
    "start_time": "2022-07-13T05:57:38.061Z"
   },
   {
    "duration": 0,
    "start_time": "2022-07-13T05:57:38.103Z"
   },
   {
    "duration": 724,
    "start_time": "2022-07-13T06:00:18.683Z"
   },
   {
    "duration": 1578,
    "start_time": "2022-07-13T06:00:27.248Z"
   },
   {
    "duration": 32,
    "start_time": "2022-07-13T06:00:28.828Z"
   },
   {
    "duration": 416,
    "start_time": "2022-07-13T06:00:28.862Z"
   },
   {
    "duration": 10,
    "start_time": "2022-07-13T06:00:29.279Z"
   },
   {
    "duration": 6,
    "start_time": "2022-07-13T06:00:29.292Z"
   },
   {
    "duration": 107,
    "start_time": "2022-07-13T06:00:29.300Z"
   },
   {
    "duration": 234,
    "start_time": "2022-07-13T06:00:29.408Z"
   },
   {
    "duration": 7,
    "start_time": "2022-07-13T06:00:29.644Z"
   },
   {
    "duration": 11,
    "start_time": "2022-07-13T06:00:29.661Z"
   },
   {
    "duration": 605,
    "start_time": "2022-07-13T06:00:29.675Z"
   },
   {
    "duration": 6,
    "start_time": "2022-07-13T06:00:30.287Z"
   },
   {
    "duration": 32,
    "start_time": "2022-07-13T06:00:30.295Z"
   },
   {
    "duration": 20,
    "start_time": "2022-07-13T06:00:30.328Z"
   },
   {
    "duration": 28,
    "start_time": "2022-07-13T06:00:30.350Z"
   },
   {
    "duration": 15,
    "start_time": "2022-07-13T06:00:30.380Z"
   },
   {
    "duration": 28,
    "start_time": "2022-07-13T06:00:30.396Z"
   },
   {
    "duration": 701,
    "start_time": "2022-07-13T06:00:30.425Z"
   },
   {
    "duration": 11,
    "start_time": "2022-07-13T06:00:31.128Z"
   },
   {
    "duration": 2706,
    "start_time": "2022-07-13T06:00:31.160Z"
   },
   {
    "duration": 523,
    "start_time": "2022-07-13T06:00:33.869Z"
   },
   {
    "duration": 11370,
    "start_time": "2022-07-13T06:00:34.462Z"
   },
   {
    "duration": 303937,
    "start_time": "2022-07-13T06:00:45.833Z"
   },
   {
    "duration": 5,
    "start_time": "2022-07-13T06:05:49.776Z"
   },
   {
    "duration": 11,
    "start_time": "2022-07-13T06:05:49.783Z"
   },
   {
    "duration": 51,
    "start_time": "2022-07-13T06:05:49.795Z"
   },
   {
    "duration": 0,
    "start_time": "2022-07-13T06:05:49.848Z"
   },
   {
    "duration": 6,
    "start_time": "2022-07-13T06:14:56.294Z"
   },
   {
    "duration": 1510,
    "start_time": "2022-07-13T06:15:11.029Z"
   },
   {
    "duration": 37,
    "start_time": "2022-07-13T06:15:12.541Z"
   },
   {
    "duration": 420,
    "start_time": "2022-07-13T06:15:12.580Z"
   },
   {
    "duration": 10,
    "start_time": "2022-07-13T06:15:13.002Z"
   },
   {
    "duration": 19,
    "start_time": "2022-07-13T06:15:13.014Z"
   },
   {
    "duration": 99,
    "start_time": "2022-07-13T06:15:13.035Z"
   },
   {
    "duration": 231,
    "start_time": "2022-07-13T06:15:13.136Z"
   },
   {
    "duration": 10,
    "start_time": "2022-07-13T06:15:13.369Z"
   },
   {
    "duration": 8,
    "start_time": "2022-07-13T06:15:13.380Z"
   },
   {
    "duration": 623,
    "start_time": "2022-07-13T06:15:13.389Z"
   },
   {
    "duration": 4,
    "start_time": "2022-07-13T06:15:14.014Z"
   },
   {
    "duration": 17,
    "start_time": "2022-07-13T06:15:14.020Z"
   },
   {
    "duration": 7,
    "start_time": "2022-07-13T06:15:14.039Z"
   },
   {
    "duration": 36,
    "start_time": "2022-07-13T06:15:14.048Z"
   },
   {
    "duration": 7,
    "start_time": "2022-07-13T06:15:14.086Z"
   },
   {
    "duration": 9,
    "start_time": "2022-07-13T06:15:14.094Z"
   },
   {
    "duration": 11,
    "start_time": "2022-07-13T06:15:14.104Z"
   },
   {
    "duration": 660,
    "start_time": "2022-07-13T06:15:14.116Z"
   },
   {
    "duration": 190,
    "start_time": "2022-07-13T06:15:14.778Z"
   },
   {
    "duration": 10097,
    "start_time": "2022-07-13T06:15:14.970Z"
   },
   {
    "duration": 5491,
    "start_time": "2022-07-13T06:15:25.071Z"
   },
   {
    "duration": 16205,
    "start_time": "2022-07-13T06:15:30.565Z"
   },
   {
    "duration": 92343,
    "start_time": "2022-07-13T06:15:46.773Z"
   },
   {
    "duration": 7,
    "start_time": "2022-07-13T06:17:19.117Z"
   },
   {
    "duration": 6,
    "start_time": "2022-07-13T06:17:19.125Z"
   },
   {
    "duration": 24,
    "start_time": "2022-07-13T06:17:19.133Z"
   },
   {
    "duration": 0,
    "start_time": "2022-07-13T06:17:19.160Z"
   },
   {
    "duration": 56,
    "start_time": "2022-07-13T06:50:44.500Z"
   },
   {
    "duration": 40088,
    "start_time": "2022-07-13T06:51:44.141Z"
   },
   {
    "duration": 13920,
    "start_time": "2022-07-13T06:53:15.333Z"
   },
   {
    "duration": 25063,
    "start_time": "2022-07-13T06:54:28.196Z"
   },
   {
    "duration": 150465,
    "start_time": "2022-07-13T06:56:02.601Z"
   },
   {
    "duration": 1890,
    "start_time": "2022-07-13T16:46:49.504Z"
   },
   {
    "duration": 96,
    "start_time": "2022-07-13T16:46:51.396Z"
   },
   {
    "duration": 473,
    "start_time": "2022-07-13T16:46:51.494Z"
   },
   {
    "duration": 9,
    "start_time": "2022-07-13T16:47:21.285Z"
   },
   {
    "duration": 4,
    "start_time": "2022-07-13T16:47:21.638Z"
   },
   {
    "duration": 9,
    "start_time": "2022-07-13T16:47:22.471Z"
   },
   {
    "duration": 289,
    "start_time": "2022-07-13T16:47:23.205Z"
   },
   {
    "duration": 8,
    "start_time": "2022-07-13T16:47:24.980Z"
   },
   {
    "duration": 7,
    "start_time": "2022-07-13T16:47:31.043Z"
   },
   {
    "duration": 775,
    "start_time": "2022-07-13T16:47:34.494Z"
   },
   {
    "duration": 1645,
    "start_time": "2022-07-13T16:54:50.848Z"
   },
   {
    "duration": 4,
    "start_time": "2022-07-13T16:54:58.249Z"
   },
   {
    "duration": 28,
    "start_time": "2022-07-13T16:54:58.438Z"
   },
   {
    "duration": 375,
    "start_time": "2022-07-13T16:54:58.759Z"
   },
   {
    "duration": 9,
    "start_time": "2022-07-13T16:54:59.336Z"
   },
   {
    "duration": 3,
    "start_time": "2022-07-13T16:54:59.660Z"
   },
   {
    "duration": 8,
    "start_time": "2022-07-13T16:54:59.968Z"
   },
   {
    "duration": 229,
    "start_time": "2022-07-13T16:55:00.521Z"
   },
   {
    "duration": 7,
    "start_time": "2022-07-13T16:55:00.850Z"
   },
   {
    "duration": 8,
    "start_time": "2022-07-13T16:55:01.174Z"
   },
   {
    "duration": 564,
    "start_time": "2022-07-13T16:55:01.497Z"
   },
   {
    "duration": 4,
    "start_time": "2022-07-13T16:55:02.257Z"
   },
   {
    "duration": 21,
    "start_time": "2022-07-13T16:55:02.571Z"
   },
   {
    "duration": 12,
    "start_time": "2022-07-13T16:55:03.023Z"
   },
   {
    "duration": 29,
    "start_time": "2022-07-13T16:55:03.218Z"
   },
   {
    "duration": 4,
    "start_time": "2022-07-13T16:55:03.651Z"
   },
   {
    "duration": 7,
    "start_time": "2022-07-13T16:55:04.193Z"
   },
   {
    "duration": 7,
    "start_time": "2022-07-13T16:55:05.284Z"
   },
   {
    "duration": 599,
    "start_time": "2022-07-13T16:55:06.162Z"
   },
   {
    "duration": 137712,
    "start_time": "2022-07-13T16:55:08.238Z"
   }
  ],
  "kernelspec": {
   "display_name": "Python 3 (ipykernel)",
   "language": "python",
   "name": "python3"
  },
  "language_info": {
   "codemirror_mode": {
    "name": "ipython",
    "version": 3
   },
   "file_extension": ".py",
   "mimetype": "text/x-python",
   "name": "python",
   "nbconvert_exporter": "python",
   "pygments_lexer": "ipython3",
   "version": "3.9.5"
  },
  "toc": {
   "base_numbering": 1,
   "nav_menu": {},
   "number_sections": true,
   "sideBar": true,
   "skip_h1_title": true,
   "title_cell": "Содержание",
   "title_sidebar": "Contents",
   "toc_cell": true,
   "toc_position": {},
   "toc_section_display": true,
   "toc_window_display": true
  }
 },
 "nbformat": 4,
 "nbformat_minor": 2
}
